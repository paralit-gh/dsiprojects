{
 "cells": [
  {
   "cell_type": "markdown",
   "metadata": {},
   "source": [
    "# Imports and Options"
   ]
  },
  {
   "cell_type": "code",
   "execution_count": 1,
   "metadata": {},
   "outputs": [],
   "source": [
    "# import relevant libraries and modules\n",
    "import pandas as pd\n",
    "import numpy as np\n",
    "import seaborn as sns\n",
    "import matplotlib.pyplot as plt\n",
    "\n",
    "# machine learning libraries and modules\n",
    "from sklearn.feature_extraction.text import CountVectorizer, TfidfVectorizer\n",
    "from sklearn.model_selection import train_test_split, cross_val_score, GridSearchCV\n",
    "from sklearn.pipeline import Pipeline\n",
    "from sklearn.linear_model import LogisticRegression\n",
    "from sklearn.naive_bayes import MultinomialNB\n",
    "from sklearn.ensemble import RandomForestClassifier\n",
    "from sklearn.svm import SVC\n",
    "from sklearn.metrics import confusion_matrix, plot_confusion_matrix, roc_auc_score, plot_roc_curve"
   ]
  },
  {
   "cell_type": "code",
   "execution_count": 2,
   "metadata": {},
   "outputs": [],
   "source": [
    "# set maximum columns, rows and colwidth to be displayed in dataframes\n",
    "\n",
    "pd.options.display.max_columns = None\n",
    "pd.options.display.max_rows = 150\n",
    "pd.set_option('max_colwidth', 500)"
   ]
  },
  {
   "cell_type": "code",
   "execution_count": 3,
   "metadata": {},
   "outputs": [],
   "source": [
    "# set the style of our plots and colour palette\n",
    "\n",
    "sns.set_theme(style=\"white\", font='cambria')\n",
    "sns.set_palette('BrBG_r', n_colors=10)"
   ]
  },
  {
   "cell_type": "markdown",
   "metadata": {},
   "source": [
    "# Train/Test Splitting"
   ]
  },
  {
   "cell_type": "markdown",
   "metadata": {},
   "source": [
    "We will now prepare our features matrix (X) and target vector (y) by converting our text data into a matrix representation through the use of `TfidfVectorizer`, as well as split our data into train and test sets for model evaluation.\n",
    "\n",
    "`TfidfVectorizer` will be used as the Tf-idf score describes a word's predictive power in a document relative to all other documents. Some words are highly common across all documents and do not carry much meaningful information about the document itself. The Tf-idf score would be able to account for these."
   ]
  },
  {
   "cell_type": "code",
   "execution_count": 4,
   "metadata": {},
   "outputs": [],
   "source": [
    "# read cleaned .csv file from previous notebook\n",
    "\n",
    "combined = pd.read_csv('../data/combined.csv')"
   ]
  },
  {
   "cell_type": "code",
   "execution_count": 5,
   "metadata": {},
   "outputs": [],
   "source": [
    "# create our X and y variables\n",
    "\n",
    "X = combined['clean_text']\n",
    "y = combined['label']"
   ]
  },
  {
   "cell_type": "code",
   "execution_count": 6,
   "metadata": {},
   "outputs": [
    {
     "data": {
      "text/plain": [
       "0    0.548276\n",
       "1    0.451724\n",
       "Name: label, dtype: float64"
      ]
     },
     "execution_count": 6,
     "metadata": {},
     "output_type": "execute_result"
    }
   ],
   "source": [
    "# check our baseline score\n",
    "# 0 is from r/techsupport, 1 is from r/pcgamingtechsupport\n",
    "\n",
    "y.value_counts(normalize=True)"
   ]
  },
  {
   "cell_type": "markdown",
   "metadata": {},
   "source": [
    "Our baseline score is **0.548** accuracy - this is given by taking the proportion of our majority class (in this case, label 0). We will subsequently compare our model performance to this baseline."
   ]
  },
  {
   "cell_type": "code",
   "execution_count": 7,
   "metadata": {},
   "outputs": [],
   "source": [
    "# initialize a default CountVectorizer to check total size of the vocabulary\n",
    "\n",
    "cvec_vocab = CountVectorizer(analyzer = \"word\",\n",
    "                             tokenizer = None,\n",
    "                             preprocessor = None,\n",
    "                             stop_words = None,\n",
    "                             max_features = None)\n",
    "\n",
    "total_vocab = cvec_vocab.fit_transform(X)"
   ]
  },
  {
   "cell_type": "code",
   "execution_count": 8,
   "metadata": {},
   "outputs": [
    {
     "data": {
      "text/plain": [
       "(1740, 9122)"
      ]
     },
     "execution_count": 8,
     "metadata": {},
     "output_type": "execute_result"
    }
   ],
   "source": [
    "# check shape of the vector\n",
    "\n",
    "total_vocab.toarray().shape"
   ]
  },
  {
   "cell_type": "markdown",
   "metadata": {},
   "source": [
    "Our total vocabulary comprises **9122** words."
   ]
  },
  {
   "cell_type": "code",
   "execution_count": 9,
   "metadata": {},
   "outputs": [],
   "source": [
    "# create training and test sets\n",
    "\n",
    "X_train, X_test, y_train, y_test = train_test_split(X,\n",
    "                                                    y,\n",
    "                                                    test_size=0.25,\n",
    "                                                    stratify=y,\n",
    "                                                    random_state=42)"
   ]
  },
  {
   "cell_type": "markdown",
   "metadata": {},
   "source": [
    "# Modelling and Evaluation"
   ]
  },
  {
   "cell_type": "markdown",
   "metadata": {},
   "source": [
    "We will test out the following models:\n",
    "\n",
    "- Logistic Regression\n",
    "- Naive Bayes Classifier\n",
    "- Support Vector Machine Classifier\n",
    "\n",
    "Our classification metric of choice will be accuracy, which evaluates the proportion of True Negatives (TN) and True Positives (TP) in our predicted results. This is because our class distribution is relatively balanced (54/45), and there is no inherent difference in the cost of both False Negatives (FN) and False Positives (FP) (i.e. classifying either one of the subreddits wrongly) in this case.\n",
    "\n",
    "$\\text{Accuracy} = \\frac{TP + TN}{TP + TN + FP + FN}$\n",
    "\n",
    "Additionally, we will calculate the **ROC-AUC** score for each model, which quantifies how well-separated our negative class and positive class distributions are. The higher the score (ranging from 0 to 1), the better our model performs at separating our distributions.\n",
    "\n",
    "As `TfidfVectorizer` is a transformer, we can create a pipeline object to help us test several values of our hyperparameters by passing the pipeline into `GridSearchCV` (which requires an estimator as an input to score the model's performance using each set of hyperparameters)."
   ]
  },
  {
   "cell_type": "markdown",
   "metadata": {},
   "source": [
    "## Logistic Regression"
   ]
  },
  {
   "cell_type": "code",
   "execution_count": 10,
   "metadata": {},
   "outputs": [],
   "source": [
    "# base model using LogisticRegression and TfidfVectorizer with default parameters\n",
    "\n",
    "pipe_lr_base = Pipeline([\n",
    "    ('tvec', TfidfVectorizer(analyzer = \"word\",\n",
    "                             tokenizer = None,\n",
    "                             preprocessor = None,\n",
    "                             stop_words = None\n",
    "                             )),\n",
    "    ('lr', LogisticRegression())\n",
    "])"
   ]
  },
  {
   "cell_type": "code",
   "execution_count": 11,
   "metadata": {},
   "outputs": [
    {
     "data": {
      "text/plain": [
       "0.7080459770114943"
      ]
     },
     "execution_count": 11,
     "metadata": {},
     "output_type": "execute_result"
    }
   ],
   "source": [
    "# obtain estimate of base model on test data\n",
    "\n",
    "cross_val_score(pipe_lr_base, X_train, y_train, cv=5).mean()"
   ]
  },
  {
   "cell_type": "code",
   "execution_count": 12,
   "metadata": {},
   "outputs": [
    {
     "data": {
      "text/plain": [
       "Pipeline(steps=[('tvec', TfidfVectorizer()), ('lr', LogisticRegression())])"
      ]
     },
     "execution_count": 12,
     "metadata": {},
     "output_type": "execute_result"
    }
   ],
   "source": [
    "# fit base LogisticRegression model\n",
    "\n",
    "pipe_lr_base.fit(X_train, y_train)"
   ]
  },
  {
   "cell_type": "code",
   "execution_count": 13,
   "metadata": {},
   "outputs": [
    {
     "data": {
      "text/plain": [
       "0.8766283524904215"
      ]
     },
     "execution_count": 13,
     "metadata": {},
     "output_type": "execute_result"
    }
   ],
   "source": [
    "# score base LogisticRegression model on training data\n",
    "\n",
    "pipe_lr_base.score(X_train, y_train)"
   ]
  },
  {
   "cell_type": "code",
   "execution_count": 14,
   "metadata": {},
   "outputs": [
    {
     "data": {
      "text/plain": [
       "0.7333333333333333"
      ]
     },
     "execution_count": 14,
     "metadata": {},
     "output_type": "execute_result"
    }
   ],
   "source": [
    "# score base LogisticRegression model on test data\n",
    "\n",
    "pipe_lr_base.score(X_test, y_test)"
   ]
  },
  {
   "cell_type": "markdown",
   "metadata": {},
   "source": [
    "**Observations**\n",
    "\n",
    "Our base `LogisticRegression` model obtains an accuracy of 0.73 on the test set. There is some overfitting observed as the accuracy on the training set is a fair bit higher than the test set. We will attempt to tune the hyperparameters using `GridSearchCV`."
   ]
  },
  {
   "cell_type": "code",
   "execution_count": 15,
   "metadata": {},
   "outputs": [],
   "source": [
    "# create pipeline for LogisticRegression\n",
    "\n",
    "pipe_lr = Pipeline([\n",
    "    ('tvec', TfidfVectorizer(analyzer = \"word\",\n",
    "                             tokenizer = None,\n",
    "                             preprocessor = None,\n",
    "                             stop_words = None\n",
    "                             )),\n",
    "    ('lr', LogisticRegression())\n",
    "])"
   ]
  },
  {
   "cell_type": "code",
   "execution_count": 16,
   "metadata": {},
   "outputs": [],
   "source": [
    "# set up parameter grid for our pipe_lr\n",
    "\n",
    "pipe_lr_params = {\n",
    "    'tvec__max_features': [2000, 3000, 4000, 5000],\n",
    "    'tvec__min_df': [2, 3],\n",
    "    'tvec__max_df': [0.90, 0.95],\n",
    "    'tvec__ngram_range': [(1, 2), (1, 3)],\n",
    "    'lr__C': [0.1, 1, 10]\n",
    "}"
   ]
  },
  {
   "cell_type": "code",
   "execution_count": 17,
   "metadata": {},
   "outputs": [],
   "source": [
    "# instantiate GridSearchCV\n",
    "\n",
    "gs_lr = GridSearchCV(pipe_lr, \n",
    "                     param_grid=pipe_lr_params, \n",
    "                     cv=5,\n",
    "                     verbose=1) "
   ]
  },
  {
   "cell_type": "code",
   "execution_count": 18,
   "metadata": {},
   "outputs": [
    {
     "name": "stdout",
     "output_type": "stream",
     "text": [
      "Fitting 5 folds for each of 96 candidates, totalling 480 fits\n"
     ]
    },
    {
     "name": "stderr",
     "output_type": "stream",
     "text": [
      "[Parallel(n_jobs=1)]: Using backend SequentialBackend with 1 concurrent workers.\n",
      "[Parallel(n_jobs=1)]: Done 480 out of 480 | elapsed:  2.6min finished\n"
     ]
    },
    {
     "data": {
      "text/plain": [
       "GridSearchCV(cv=5,\n",
       "             estimator=Pipeline(steps=[('tvec', TfidfVectorizer()),\n",
       "                                       ('lr', LogisticRegression())]),\n",
       "             param_grid={'lr__C': [0.1, 1, 10], 'tvec__max_df': [0.9, 0.95],\n",
       "                         'tvec__max_features': [2000, 3000, 4000, 5000],\n",
       "                         'tvec__min_df': [2, 3],\n",
       "                         'tvec__ngram_range': [(1, 2), (1, 3)]},\n",
       "             verbose=1)"
      ]
     },
     "execution_count": 18,
     "metadata": {},
     "output_type": "execute_result"
    }
   ],
   "source": [
    "# search through the parameter grid using GridSearchCV\n",
    "\n",
    "gs_lr.fit(X_train, y_train)"
   ]
  },
  {
   "cell_type": "code",
   "execution_count": 19,
   "metadata": {},
   "outputs": [],
   "source": [
    "# define a function to print out best score, params from our GridSearchCV and save best_estimator_\n",
    "\n",
    "def gridsearch_model(gs):\n",
    "    \"\"\"\n",
    "    Takes in a fitted GridSearchCV object as input and prints the best score, best parameters and returns the best\n",
    "    estimator.\n",
    "    \"\"\"\n",
    "\n",
    "    print(f'Best mean cross-validated score: {gs.best_score_:.4f}')\n",
    "    print('--------')\n",
    "    print('Best parameters:')\n",
    "    display(gs.best_params_)\n",
    "    model = gs.best_estimator_\n",
    "    \n",
    "    return model"
   ]
  },
  {
   "cell_type": "code",
   "execution_count": 20,
   "metadata": {},
   "outputs": [],
   "source": [
    "# define a function to plot the ROC-AUC curve and also the confusion matrix\n",
    "\n",
    "def plot_confusion_matrix_rocauc(model, X_test, y_test):\n",
    "    \"\"\"\n",
    "    Combines the plot_confusion_matrix and plot_roc_curve functions from the sklearn library into one function.\n",
    "    \"\"\"\n",
    "    fig, ax = plt.subplots(nrows=2, ncols=1, figsize=(6, 12))\n",
    "    plot_confusion_matrix(model, X_test, y_test, cmap='cividis', ax=ax[0])\n",
    "    plot_roc_curve(model, X_test, y_test, c='midnightblue', ax=ax[1])"
   ]
  },
  {
   "cell_type": "code",
   "execution_count": 21,
   "metadata": {},
   "outputs": [
    {
     "name": "stdout",
     "output_type": "stream",
     "text": [
      "Best mean cross-validated score: 0.7142\n",
      "--------\n",
      "Best parameters:\n"
     ]
    },
    {
     "data": {
      "text/plain": [
       "{'lr__C': 1,\n",
       " 'tvec__max_df': 0.9,\n",
       " 'tvec__max_features': 3000,\n",
       " 'tvec__min_df': 2,\n",
       " 'tvec__ngram_range': (1, 3)}"
      ]
     },
     "metadata": {},
     "output_type": "display_data"
    }
   ],
   "source": [
    "# print out gridsearch info for LogReg and save our LogisticRegression model\n",
    "\n",
    "logreg_model = gridsearch_model(gs_lr)"
   ]
  },
  {
   "cell_type": "code",
   "execution_count": 22,
   "metadata": {},
   "outputs": [
    {
     "data": {
      "text/plain": [
       "0.8666666666666667"
      ]
     },
     "execution_count": 22,
     "metadata": {},
     "output_type": "execute_result"
    }
   ],
   "source": [
    "# score model on training set\n",
    "\n",
    "logreg_model.score(X_train, y_train)"
   ]
  },
  {
   "cell_type": "code",
   "execution_count": 23,
   "metadata": {},
   "outputs": [
    {
     "data": {
      "text/plain": [
       "0.7402298850574712"
      ]
     },
     "execution_count": 23,
     "metadata": {},
     "output_type": "execute_result"
    }
   ],
   "source": [
    "# score model on test set\n",
    "\n",
    "logreg_model.score(X_test, y_test)"
   ]
  },
  {
   "cell_type": "code",
   "execution_count": 24,
   "metadata": {},
   "outputs": [
    {
     "data": {
      "image/png": "[encoded data removed]",
      "text/plain": [
       "<Figure size 432x864 with 3 Axes>"
      ]
     },
     "metadata": {},
     "output_type": "display_data"
    }
   ],
   "source": [
    "# display confusion matrix and roc curve\n",
    "\n",
    "plot_confusion_matrix_rocauc(logreg_model, X_test, y_test)"
   ]
  },
  {
   "cell_type": "markdown",
   "metadata": {},
   "source": [
    "**Observations**\n",
    "\n",
    "The tuned model achieves slightly better accuracy than the base model. There is still evidence of overfitting as the accuracy of the model on the training set is about 0.12 higher than on the test set.\n",
    "\n",
    "There are slightly more FNs (65) than FPs (48) predicted by the model. The ROC-AUC is **0.82**, indicating that the model does a respectable job at separating the two distributions.\n",
    "\n",
    "Subsequent attempts to reduce the number of features were both unsuccessful in increasing the accuracy of the model on the test set, nor in reducing the accuracy disparity between the training and test sets. As such, we will not attempt to tune the model any further.\n",
    "\n",
    "With a `LogisticRegression` model, we can also examine the coefficients of the individual words and to see which have the greatest predictive strength in classifying the posts into their respective subreddits."
   ]
  },
  {
   "cell_type": "code",
   "execution_count": 25,
   "metadata": {},
   "outputs": [],
   "source": [
    "# obtain feature names from the individual steps of the pipeline\n",
    "\n",
    "logreg_feature_names = logreg_model.steps[0][1].get_feature_names()"
   ]
  },
  {
   "cell_type": "code",
   "execution_count": 26,
   "metadata": {},
   "outputs": [],
   "source": [
    "# obtain feature coefficients from the individual steps of the pipeline\n",
    "\n",
    "logreg_coef = logreg_model.steps[1][1].coef_[0]"
   ]
  },
  {
   "cell_type": "code",
   "execution_count": 27,
   "metadata": {},
   "outputs": [
    {
     "data": {
      "text/html": [
       "<div>\n",
       "<style scoped>\n",
       "    .dataframe tbody tr th:only-of-type {\n",
       "        vertical-align: middle;\n",
       "    }\n",
       "\n",
       "    .dataframe tbody tr th {\n",
       "        vertical-align: top;\n",
       "    }\n",
       "\n",
       "    .dataframe thead th {\n",
       "        text-align: right;\n",
       "    }\n",
       "</style>\n",
       "<table border=\"1\" class=\"dataframe\">\n",
       "  <thead>\n",
       "    <tr style=\"text-align: right;\">\n",
       "      <th></th>\n",
       "      <th>Feature</th>\n",
       "      <th>Coefficient</th>\n",
       "    </tr>\n",
       "  </thead>\n",
       "  <tbody>\n",
       "    <tr>\n",
       "      <th>0</th>\n",
       "      <td>00</td>\n",
       "      <td>-0.492144</td>\n",
       "    </tr>\n",
       "    <tr>\n",
       "      <th>1</th>\n",
       "      <td>10</td>\n",
       "      <td>-1.208137</td>\n",
       "    </tr>\n",
       "    <tr>\n",
       "      <th>2</th>\n",
       "      <td>10 15</td>\n",
       "      <td>0.000948</td>\n",
       "    </tr>\n",
       "    <tr>\n",
       "      <th>3</th>\n",
       "      <td>10 64</td>\n",
       "      <td>-0.185008</td>\n",
       "    </tr>\n",
       "    <tr>\n",
       "      <th>4</th>\n",
       "      <td>10 64 bit</td>\n",
       "      <td>-0.136165</td>\n",
       "    </tr>\n",
       "  </tbody>\n",
       "</table>\n",
       "</div>"
      ],
      "text/plain": [
       "     Feature  Coefficient\n",
       "0         00    -0.492144\n",
       "1         10    -1.208137\n",
       "2      10 15     0.000948\n",
       "3      10 64    -0.185008\n",
       "4  10 64 bit    -0.136165"
      ]
     },
     "execution_count": 27,
     "metadata": {},
     "output_type": "execute_result"
    }
   ],
   "source": [
    "# combine into a DataFrame\n",
    "\n",
    "logreg_feature_df = pd.DataFrame(data={'Feature': logreg_feature_names, 'Coefficient': logreg_coef})\n",
    "logreg_feature_df.head()"
   ]
  },
  {
   "cell_type": "code",
   "execution_count": 28,
   "metadata": {},
   "outputs": [
    {
     "data": {
      "text/html": [
       "<div>\n",
       "<style scoped>\n",
       "    .dataframe tbody tr th:only-of-type {\n",
       "        vertical-align: middle;\n",
       "    }\n",
       "\n",
       "    .dataframe tbody tr th {\n",
       "        vertical-align: top;\n",
       "    }\n",
       "\n",
       "    .dataframe thead th {\n",
       "        text-align: right;\n",
       "    }\n",
       "</style>\n",
       "<table border=\"1\" class=\"dataframe\">\n",
       "  <thead>\n",
       "    <tr style=\"text-align: right;\">\n",
       "      <th></th>\n",
       "      <th>Feature</th>\n",
       "      <th>Coefficient</th>\n",
       "    </tr>\n",
       "  </thead>\n",
       "  <tbody>\n",
       "    <tr>\n",
       "      <th>1129</th>\n",
       "      <td>game</td>\n",
       "      <td>2.496937</td>\n",
       "    </tr>\n",
       "    <tr>\n",
       "      <th>1473</th>\n",
       "      <td>laptop</td>\n",
       "      <td>-2.032498</td>\n",
       "    </tr>\n",
       "    <tr>\n",
       "      <th>2064</th>\n",
       "      <td>ram</td>\n",
       "      <td>2.002250</td>\n",
       "    </tr>\n",
       "    <tr>\n",
       "      <th>659</th>\n",
       "      <td>computer</td>\n",
       "      <td>-1.979323</td>\n",
       "    </tr>\n",
       "    <tr>\n",
       "      <th>1922</th>\n",
       "      <td>phone</td>\n",
       "      <td>-1.612131</td>\n",
       "    </tr>\n",
       "    <tr>\n",
       "      <th>1148</th>\n",
       "      <td>gaming</td>\n",
       "      <td>1.610912</td>\n",
       "    </tr>\n",
       "    <tr>\n",
       "      <th>1281</th>\n",
       "      <td>help</td>\n",
       "      <td>1.435563</td>\n",
       "    </tr>\n",
       "    <tr>\n",
       "      <th>1197</th>\n",
       "      <td>gpu</td>\n",
       "      <td>1.341131</td>\n",
       "    </tr>\n",
       "    <tr>\n",
       "      <th>694</th>\n",
       "      <td>controller</td>\n",
       "      <td>1.264921</td>\n",
       "    </tr>\n",
       "    <tr>\n",
       "      <th>1</th>\n",
       "      <td>10</td>\n",
       "      <td>-1.208137</td>\n",
       "    </tr>\n",
       "    <tr>\n",
       "      <th>2706</th>\n",
       "      <td>tv</td>\n",
       "      <td>-1.151594</td>\n",
       "    </tr>\n",
       "    <tr>\n",
       "      <th>2904</th>\n",
       "      <td>window 10</td>\n",
       "      <td>-1.122662</td>\n",
       "    </tr>\n",
       "    <tr>\n",
       "      <th>2221</th>\n",
       "      <td>router</td>\n",
       "      <td>-1.112079</td>\n",
       "    </tr>\n",
       "    <tr>\n",
       "      <th>1190</th>\n",
       "      <td>google</td>\n",
       "      <td>-1.079394</td>\n",
       "    </tr>\n",
       "    <tr>\n",
       "      <th>412</th>\n",
       "      <td>audio</td>\n",
       "      <td>-1.040278</td>\n",
       "    </tr>\n",
       "    <tr>\n",
       "      <th>2252</th>\n",
       "      <td>ryzen</td>\n",
       "      <td>1.034687</td>\n",
       "    </tr>\n",
       "    <tr>\n",
       "      <th>462</th>\n",
       "      <td>better</td>\n",
       "      <td>0.999671</td>\n",
       "    </tr>\n",
       "    <tr>\n",
       "      <th>1763</th>\n",
       "      <td>new</td>\n",
       "      <td>0.982150</td>\n",
       "    </tr>\n",
       "    <tr>\n",
       "      <th>1707</th>\n",
       "      <td>motherboard</td>\n",
       "      <td>0.980919</td>\n",
       "    </tr>\n",
       "    <tr>\n",
       "      <th>83</th>\n",
       "      <td>2060</td>\n",
       "      <td>0.970727</td>\n",
       "    </tr>\n",
       "    <tr>\n",
       "      <th>1938</th>\n",
       "      <td>play</td>\n",
       "      <td>0.950100</td>\n",
       "    </tr>\n",
       "    <tr>\n",
       "      <th>1271</th>\n",
       "      <td>headset</td>\n",
       "      <td>0.939160</td>\n",
       "    </tr>\n",
       "    <tr>\n",
       "      <th>853</th>\n",
       "      <td>disk</td>\n",
       "      <td>-0.938314</td>\n",
       "    </tr>\n",
       "    <tr>\n",
       "      <th>2224</th>\n",
       "      <td>rtx</td>\n",
       "      <td>0.911460</td>\n",
       "    </tr>\n",
       "    <tr>\n",
       "      <th>606</th>\n",
       "      <td>chrome</td>\n",
       "      <td>-0.896161</td>\n",
       "    </tr>\n",
       "    <tr>\n",
       "      <th>1040</th>\n",
       "      <td>file</td>\n",
       "      <td>-0.892837</td>\n",
       "    </tr>\n",
       "    <tr>\n",
       "      <th>563</th>\n",
       "      <td>card</td>\n",
       "      <td>0.870965</td>\n",
       "    </tr>\n",
       "    <tr>\n",
       "      <th>966</th>\n",
       "      <td>ethernet</td>\n",
       "      <td>-0.851222</td>\n",
       "    </tr>\n",
       "    <tr>\n",
       "      <th>1016</th>\n",
       "      <td>fan</td>\n",
       "      <td>0.847402</td>\n",
       "    </tr>\n",
       "    <tr>\n",
       "      <th>1667</th>\n",
       "      <td>mobo</td>\n",
       "      <td>0.841712</td>\n",
       "    </tr>\n",
       "  </tbody>\n",
       "</table>\n",
       "</div>"
      ],
      "text/plain": [
       "          Feature  Coefficient\n",
       "1129         game     2.496937\n",
       "1473       laptop    -2.032498\n",
       "2064          ram     2.002250\n",
       "659      computer    -1.979323\n",
       "1922        phone    -1.612131\n",
       "1148       gaming     1.610912\n",
       "1281         help     1.435563\n",
       "1197          gpu     1.341131\n",
       "694    controller     1.264921\n",
       "1              10    -1.208137\n",
       "2706           tv    -1.151594\n",
       "2904    window 10    -1.122662\n",
       "2221       router    -1.112079\n",
       "1190       google    -1.079394\n",
       "412         audio    -1.040278\n",
       "2252        ryzen     1.034687\n",
       "462        better     0.999671\n",
       "1763          new     0.982150\n",
       "1707  motherboard     0.980919\n",
       "83           2060     0.970727\n",
       "1938         play     0.950100\n",
       "1271      headset     0.939160\n",
       "853          disk    -0.938314\n",
       "2224          rtx     0.911460\n",
       "606        chrome    -0.896161\n",
       "1040         file    -0.892837\n",
       "563          card     0.870965\n",
       "966      ethernet    -0.851222\n",
       "1016          fan     0.847402\n",
       "1667         mobo     0.841712"
      ]
     },
     "execution_count": 28,
     "metadata": {},
     "output_type": "execute_result"
    }
   ],
   "source": [
    "# sort by the magnitude and display the top 30 values\n",
    "\n",
    "logreg_top30 = logreg_feature_df.sort_values(by='Coefficient', key=abs, ascending=False).head(30)\n",
    "logreg_top30"
   ]
  },
  {
   "cell_type": "code",
   "execution_count": 29,
   "metadata": {},
   "outputs": [
    {
     "data": {
      "image/png": "[encoded data removed]",
      "text/plain": [
       "<Figure size 720x720 with 1 Axes>"
      ]
     },
     "metadata": {},
     "output_type": "display_data"
    }
   ],
   "source": [
    "# display in a bar plot\n",
    "\n",
    "logreg_top30.plot(x='Feature', y='Coefficient', kind='barh', figsize=(10,10), width=0.5,\n",
    "                  color=(logreg_top30['Coefficient'] >= 0).map({True: 'darkolivegreen', False: 'darkred'}),\n",
    "                  legend=False)\n",
    "                                                             \n",
    "plt.title('Bar plot of LogisticRegression feature coefficients', fontsize=20)\n",
    "plt.xlabel('Coefficient', fontsize=15)\n",
    "plt.gca().invert_yaxis();"
   ]
  },
  {
   "cell_type": "markdown",
   "metadata": {},
   "source": [
    "**Observations**\n",
    "\n",
    "The top 30 features obtained are as expected - terms relating more to gaming such as 'game', 'gpu', 'ryzen', 'headset' all have positive coefficients, meaning that posts with more of such terms would likely have come from the *r/pcgamingtechsupport* subreddit.\n",
    "\n",
    "`LogisticRegression` is useful as a classification model as it is easily interpretable. For instance, a one unit increase in the Tf-idf vector for 'game' would mean that the post is $e^{2.496937} = 12.145$ times more likely to be from the *r/pcgamingtechsupport* subreddit."
   ]
  },
  {
   "cell_type": "markdown",
   "metadata": {},
   "source": [
    "## Naive Bayes Classifier"
   ]
  },
  {
   "cell_type": "code",
   "execution_count": 30,
   "metadata": {},
   "outputs": [],
   "source": [
    "# base model using MultinomialNB and TfidfVectorizer with default parameters\n",
    "# MultinomialNB is used even though the inputs are not integer counts; works with tf-idf vectors\n",
    "\n",
    "pipe_nb_base = Pipeline([\n",
    "    ('tvec', TfidfVectorizer(analyzer = \"word\",\n",
    "                             tokenizer = None,\n",
    "                             preprocessor = None,\n",
    "                             stop_words = None\n",
    "                             )),\n",
    "    ('nb', MultinomialNB())\n",
    "])"
   ]
  },
  {
   "cell_type": "code",
   "execution_count": 31,
   "metadata": {},
   "outputs": [
    {
     "data": {
      "text/plain": [
       "0.693486590038314"
      ]
     },
     "execution_count": 31,
     "metadata": {},
     "output_type": "execute_result"
    }
   ],
   "source": [
    "# obtain estimate of base model on test data\n",
    "\n",
    "cross_val_score(pipe_nb_base, X_train, y_train, cv=5).mean()"
   ]
  },
  {
   "cell_type": "code",
   "execution_count": 32,
   "metadata": {},
   "outputs": [
    {
     "data": {
      "text/plain": [
       "Pipeline(steps=[('tvec', TfidfVectorizer()), ('nb', MultinomialNB())])"
      ]
     },
     "execution_count": 32,
     "metadata": {},
     "output_type": "execute_result"
    }
   ],
   "source": [
    "# fit base MultinomialNB model\n",
    "\n",
    "pipe_nb_base.fit(X_train, y_train)"
   ]
  },
  {
   "cell_type": "code",
   "execution_count": 33,
   "metadata": {},
   "outputs": [
    {
     "data": {
      "text/plain": [
       "0.8582375478927203"
      ]
     },
     "execution_count": 33,
     "metadata": {},
     "output_type": "execute_result"
    }
   ],
   "source": [
    "# score base MultinomialNB model on training data\n",
    "\n",
    "pipe_nb_base.score(X_train, y_train)"
   ]
  },
  {
   "cell_type": "code",
   "execution_count": 34,
   "metadata": {},
   "outputs": [
    {
     "data": {
      "text/plain": [
       "0.7011494252873564"
      ]
     },
     "execution_count": 34,
     "metadata": {},
     "output_type": "execute_result"
    }
   ],
   "source": [
    "# score base MultinomialNB model on test data\n",
    "\n",
    "pipe_nb_base.score(X_test, y_test)"
   ]
  },
  {
   "cell_type": "markdown",
   "metadata": {},
   "source": [
    "**Observations**\n",
    "\n",
    "Our base `MultinomialNB` model obtains an accuracy of 0.70 on the test set. This is slightly slower than 0.73 obtained for the base `LogisticRegression` model. There is also some overfitting observed as the accuracy on the training set is a fair bit higher than the test set. We will attempt to tune the hyperparameters using `GridSearchCV`."
   ]
  },
  {
   "cell_type": "code",
   "execution_count": 35,
   "metadata": {},
   "outputs": [],
   "source": [
    "# create pipeline for MultinomialNB\n",
    "\n",
    "pipe_nb = Pipeline([\n",
    "    ('tvec', TfidfVectorizer(analyzer = \"word\",\n",
    "                             tokenizer = None,\n",
    "                             preprocessor = None,\n",
    "                             stop_words = None\n",
    "                             )),\n",
    "    ('nb', MultinomialNB())\n",
    "])"
   ]
  },
  {
   "cell_type": "code",
   "execution_count": 36,
   "metadata": {},
   "outputs": [],
   "source": [
    "# set up parameter grid for our pipe_nb\n",
    "\n",
    "pipe_nb_params = {\n",
    "    'tvec__max_features': [2000, 3000, 4000, 5000],\n",
    "    'tvec__min_df': [2, 3],\n",
    "    'tvec__max_df': [0.90, 0.95],\n",
    "    'tvec__ngram_range': [(1, 2), (1, 3)],\n",
    "    'nb__alpha': [0.1, 0.5, 1.0]\n",
    "}"
   ]
  },
  {
   "cell_type": "code",
   "execution_count": 37,
   "metadata": {},
   "outputs": [],
   "source": [
    "# instantiate GridSearchCV\n",
    "\n",
    "gs_nb = GridSearchCV(pipe_nb, \n",
    "                     param_grid=pipe_nb_params, \n",
    "                     cv=5,\n",
    "                     verbose=1) "
   ]
  },
  {
   "cell_type": "code",
   "execution_count": 38,
   "metadata": {},
   "outputs": [
    {
     "name": "stdout",
     "output_type": "stream",
     "text": [
      "Fitting 5 folds for each of 96 candidates, totalling 480 fits\n"
     ]
    },
    {
     "name": "stderr",
     "output_type": "stream",
     "text": [
      "[Parallel(n_jobs=1)]: Using backend SequentialBackend with 1 concurrent workers.\n",
      "[Parallel(n_jobs=1)]: Done 480 out of 480 | elapsed:  2.4min finished\n"
     ]
    },
    {
     "data": {
      "text/plain": [
       "GridSearchCV(cv=5,\n",
       "             estimator=Pipeline(steps=[('tvec', TfidfVectorizer()),\n",
       "                                       ('nb', MultinomialNB())]),\n",
       "             param_grid={'nb__alpha': [0.1, 0.5, 1.0],\n",
       "                         'tvec__max_df': [0.9, 0.95],\n",
       "                         'tvec__max_features': [2000, 3000, 4000, 5000],\n",
       "                         'tvec__min_df': [2, 3],\n",
       "                         'tvec__ngram_range': [(1, 2), (1, 3)]},\n",
       "             verbose=1)"
      ]
     },
     "execution_count": 38,
     "metadata": {},
     "output_type": "execute_result"
    }
   ],
   "source": [
    "gs_nb.fit(X_train, y_train)"
   ]
  },
  {
   "cell_type": "code",
   "execution_count": 39,
   "metadata": {},
   "outputs": [
    {
     "name": "stdout",
     "output_type": "stream",
     "text": [
      "Best mean cross-validated score: 0.7096\n",
      "--------\n",
      "Best parameters:\n"
     ]
    },
    {
     "data": {
      "text/plain": [
       "{'nb__alpha': 0.1,\n",
       " 'tvec__max_df': 0.9,\n",
       " 'tvec__max_features': 4000,\n",
       " 'tvec__min_df': 2,\n",
       " 'tvec__ngram_range': (1, 2)}"
      ]
     },
     "metadata": {},
     "output_type": "display_data"
    }
   ],
   "source": [
    "# print out gridsearch info for MultinomialNB and save our MultinomialNB model\n",
    "\n",
    "nb_model = gridsearch_model(gs_nb)"
   ]
  },
  {
   "cell_type": "code",
   "execution_count": 40,
   "metadata": {},
   "outputs": [
    {
     "data": {
      "text/plain": [
       "0.8842911877394636"
      ]
     },
     "execution_count": 40,
     "metadata": {},
     "output_type": "execute_result"
    }
   ],
   "source": [
    "# score model on training set\n",
    "\n",
    "nb_model.score(X_train, y_train)"
   ]
  },
  {
   "cell_type": "code",
   "execution_count": 41,
   "metadata": {},
   "outputs": [
    {
     "data": {
      "text/plain": [
       "0.7218390804597701"
      ]
     },
     "execution_count": 41,
     "metadata": {},
     "output_type": "execute_result"
    }
   ],
   "source": [
    "# score model on test set\n",
    "\n",
    "nb_model.score(X_test, y_test)"
   ]
  },
  {
   "cell_type": "code",
   "execution_count": 42,
   "metadata": {},
   "outputs": [
    {
     "data": {
      "image/png": "[encoded data removed]",
      "text/plain": [
       "<Figure size 432x864 with 3 Axes>"
      ]
     },
     "metadata": {},
     "output_type": "display_data"
    }
   ],
   "source": [
    "# display confusion matrix and roc curve\n",
    "\n",
    "plot_confusion_matrix_rocauc(nb_model, X_test, y_test)"
   ]
  },
  {
   "cell_type": "markdown",
   "metadata": {},
   "source": [
    "**Observations**\n",
    "\n",
    "The tuned model achieves only slightly better accuracy than the base model (0.72 vs 0.70). There is greater overfitting than in the `LogisticRegression` model as the accuracy of the model on the training set is about 0.16 higher than on the test set.\n",
    "\n",
    "There are slightly more FNs (64) than FPs (57) predicted by the model. The ROC-AUC is **0.79**, indicating that the model still does a respectable job at separating the two distributions.\n",
    "\n",
    "Subsequent attempts to reduce the number of features were both unsuccessful in increasing the accuracy of the model on the test set, nor in reducing the accuracy disparity between the training and test sets. Increasing `alpha` to 10, for instance, resulted in the disparity dropping to only 0.05, but the test accuracy plunged to 0.64. As such, we will not attempt to tune the model any further.\n",
    "\n",
    "We can also interpret our Naive Bayes coefficients accordingly."
   ]
  },
  {
   "cell_type": "code",
   "execution_count": 44,
   "metadata": {},
   "outputs": [],
   "source": [
    "# extract probabilities for positive class\n",
    "nb_pos_class_prob_sorted = nb_model.steps[1][1].feature_log_prob_[1, :].argsort()\n",
    "\n",
    "# extract probabilities for negative class\n",
    "nb_neg_class_prob_sorted = nb_model.steps[1][1].feature_log_prob_[0, :].argsort()\n",
    "\n",
    "# getting the features for each class\n",
    "nb_pos_top_features = np.take(nb_model.steps[0][1].get_feature_names(), nb_pos_class_prob_sorted)\n",
    "nb_neg_top_features = np.take(nb_model.steps[0][1].get_feature_names(), nb_neg_class_prob_sorted)"
   ]
  },
  {
   "cell_type": "code",
   "execution_count": 45,
   "metadata": {},
   "outputs": [
    {
     "data": {
      "text/html": [
       "<div>\n",
       "<style scoped>\n",
       "    .dataframe tbody tr th:only-of-type {\n",
       "        vertical-align: middle;\n",
       "    }\n",
       "\n",
       "    .dataframe tbody tr th {\n",
       "        vertical-align: top;\n",
       "    }\n",
       "\n",
       "    .dataframe thead th {\n",
       "        text-align: right;\n",
       "    }\n",
       "</style>\n",
       "<table border=\"1\" class=\"dataframe\">\n",
       "  <thead>\n",
       "    <tr style=\"text-align: right;\">\n",
       "      <th></th>\n",
       "      <th>Positive Class Features</th>\n",
       "      <th>NB Coefficient</th>\n",
       "    </tr>\n",
       "  </thead>\n",
       "  <tbody>\n",
       "    <tr>\n",
       "      <th>0</th>\n",
       "      <td>fan</td>\n",
       "      <td>-5.794041</td>\n",
       "    </tr>\n",
       "    <tr>\n",
       "      <th>1</th>\n",
       "      <td>know</td>\n",
       "      <td>-5.789005</td>\n",
       "    </tr>\n",
       "    <tr>\n",
       "      <th>2</th>\n",
       "      <td>window</td>\n",
       "      <td>-5.757673</td>\n",
       "    </tr>\n",
       "    <tr>\n",
       "      <th>3</th>\n",
       "      <td>new</td>\n",
       "      <td>-5.641996</td>\n",
       "    </tr>\n",
       "    <tr>\n",
       "      <th>4</th>\n",
       "      <td>cpu</td>\n",
       "      <td>-5.528439</td>\n",
       "    </tr>\n",
       "    <tr>\n",
       "      <th>5</th>\n",
       "      <td>help</td>\n",
       "      <td>-5.516330</td>\n",
       "    </tr>\n",
       "    <tr>\n",
       "      <th>6</th>\n",
       "      <td>monitor</td>\n",
       "      <td>-5.425970</td>\n",
       "    </tr>\n",
       "    <tr>\n",
       "      <th>7</th>\n",
       "      <td>gpu</td>\n",
       "      <td>-5.383712</td>\n",
       "    </tr>\n",
       "    <tr>\n",
       "      <th>8</th>\n",
       "      <td>ram</td>\n",
       "      <td>-5.379037</td>\n",
       "    </tr>\n",
       "    <tr>\n",
       "      <th>9</th>\n",
       "      <td>game</td>\n",
       "      <td>-5.112521</td>\n",
       "    </tr>\n",
       "  </tbody>\n",
       "</table>\n",
       "</div>"
      ],
      "text/plain": [
       "  Positive Class Features  NB Coefficient\n",
       "0                     fan       -5.794041\n",
       "1                    know       -5.789005\n",
       "2                  window       -5.757673\n",
       "3                     new       -5.641996\n",
       "4                     cpu       -5.528439\n",
       "5                    help       -5.516330\n",
       "6                 monitor       -5.425970\n",
       "7                     gpu       -5.383712\n",
       "8                     ram       -5.379037\n",
       "9                    game       -5.112521"
      ]
     },
     "execution_count": 45,
     "metadata": {},
     "output_type": "execute_result"
    }
   ],
   "source": [
    "# put together in a DataFrame for the positive class\n",
    "\n",
    "pd.DataFrame(data={'Positive Class Features': nb_pos_top_features[-10:], 'NB Coefficient': sorted(nb_model.steps[1][1].feature_log_prob_[1, :])[-10:]})"
   ]
  },
  {
   "cell_type": "code",
   "execution_count": 46,
   "metadata": {},
   "outputs": [
    {
     "data": {
      "text/html": [
       "<div>\n",
       "<style scoped>\n",
       "    .dataframe tbody tr th:only-of-type {\n",
       "        vertical-align: middle;\n",
       "    }\n",
       "\n",
       "    .dataframe tbody tr th {\n",
       "        vertical-align: top;\n",
       "    }\n",
       "\n",
       "    .dataframe thead th {\n",
       "        text-align: right;\n",
       "    }\n",
       "</style>\n",
       "<table border=\"1\" class=\"dataframe\">\n",
       "  <thead>\n",
       "    <tr style=\"text-align: right;\">\n",
       "      <th></th>\n",
       "      <th>Negative Class Features</th>\n",
       "      <th>NB Coefficient</th>\n",
       "    </tr>\n",
       "  </thead>\n",
       "  <tbody>\n",
       "    <tr>\n",
       "      <th>0</th>\n",
       "      <td>help</td>\n",
       "      <td>-5.794440</td>\n",
       "    </tr>\n",
       "    <tr>\n",
       "      <th>1</th>\n",
       "      <td>drive</td>\n",
       "      <td>-5.777948</td>\n",
       "    </tr>\n",
       "    <tr>\n",
       "      <th>2</th>\n",
       "      <td>screen</td>\n",
       "      <td>-5.682229</td>\n",
       "    </tr>\n",
       "    <tr>\n",
       "      <th>3</th>\n",
       "      <td>tried</td>\n",
       "      <td>-5.656664</td>\n",
       "    </tr>\n",
       "    <tr>\n",
       "      <th>4</th>\n",
       "      <td>monitor</td>\n",
       "      <td>-5.644827</td>\n",
       "    </tr>\n",
       "    <tr>\n",
       "      <th>5</th>\n",
       "      <td>work</td>\n",
       "      <td>-5.586820</td>\n",
       "    </tr>\n",
       "    <tr>\n",
       "      <th>6</th>\n",
       "      <td>problem</td>\n",
       "      <td>-5.555285</td>\n",
       "    </tr>\n",
       "    <tr>\n",
       "      <th>7</th>\n",
       "      <td>computer</td>\n",
       "      <td>-5.460712</td>\n",
       "    </tr>\n",
       "    <tr>\n",
       "      <th>8</th>\n",
       "      <td>laptop</td>\n",
       "      <td>-5.385942</td>\n",
       "    </tr>\n",
       "    <tr>\n",
       "      <th>9</th>\n",
       "      <td>window</td>\n",
       "      <td>-5.302593</td>\n",
       "    </tr>\n",
       "  </tbody>\n",
       "</table>\n",
       "</div>"
      ],
      "text/plain": [
       "  Negative Class Features  NB Coefficient\n",
       "0                    help       -5.794440\n",
       "1                   drive       -5.777948\n",
       "2                  screen       -5.682229\n",
       "3                   tried       -5.656664\n",
       "4                 monitor       -5.644827\n",
       "5                    work       -5.586820\n",
       "6                 problem       -5.555285\n",
       "7                computer       -5.460712\n",
       "8                  laptop       -5.385942\n",
       "9                  window       -5.302593"
      ]
     },
     "execution_count": 46,
     "metadata": {},
     "output_type": "execute_result"
    }
   ],
   "source": [
    "# put together in a DataFrame for the negative class\n",
    "\n",
    "pd.DataFrame(data={'Negative Class Features': nb_neg_top_features[-10:], 'NB Coefficient': sorted(nb_model.steps[1][1].feature_log_prob_[0, :])[-10:]})"
   ]
  },
  {
   "cell_type": "markdown",
   "metadata": {},
   "source": [
    "**Observations**\n",
    "\n",
    "The NB coefficient is evaluated as the log of the estimated probability of a feature given the respective class. The higher (less negative) the NB coefficients, the stronger the predictive strength of the feature.\n",
    "\n",
    "For the positive class features (*r/pcgamingtechsupport*), the most predictive features are 'game', 'ram' and 'gpu'.\n",
    "\n",
    "For the negative class features (*r/techsupport*), the most predictive features are 'window', 'laptop' and 'computer'.\n",
    "\n",
    "The top two features for each class corroborate our findings from `LogisticRegression`."
   ]
  },
  {
   "cell_type": "markdown",
   "metadata": {},
   "source": [
    "## Support Vector Classifier"
   ]
  },
  {
   "cell_type": "code",
   "execution_count": 47,
   "metadata": {},
   "outputs": [],
   "source": [
    "# base model using SVC and TfidfVectorizer with default parameters\n",
    "\n",
    "pipe_svc_base = Pipeline([\n",
    "    ('tvec', TfidfVectorizer(analyzer = \"word\",\n",
    "                             tokenizer = None,\n",
    "                             preprocessor = None,\n",
    "                             stop_words = None\n",
    "                             )),\n",
    "    ('svc', SVC())\n",
    "])"
   ]
  },
  {
   "cell_type": "code",
   "execution_count": 48,
   "metadata": {},
   "outputs": [
    {
     "data": {
      "text/plain": [
       "0.714176245210728"
      ]
     },
     "execution_count": 48,
     "metadata": {},
     "output_type": "execute_result"
    }
   ],
   "source": [
    "# obtain estimate of base model on test data\n",
    "\n",
    "cross_val_score(pipe_svc_base, X_train, y_train, cv=5).mean()"
   ]
  },
  {
   "cell_type": "code",
   "execution_count": 49,
   "metadata": {},
   "outputs": [
    {
     "data": {
      "text/plain": [
       "Pipeline(steps=[('tvec', TfidfVectorizer()), ('svc', SVC())])"
      ]
     },
     "execution_count": 49,
     "metadata": {},
     "output_type": "execute_result"
    }
   ],
   "source": [
    "# fit base SVC model\n",
    "\n",
    "pipe_svc_base.fit(X_train, y_train)"
   ]
  },
  {
   "cell_type": "code",
   "execution_count": 50,
   "metadata": {},
   "outputs": [
    {
     "data": {
      "text/plain": [
       "0.9793103448275862"
      ]
     },
     "execution_count": 50,
     "metadata": {},
     "output_type": "execute_result"
    }
   ],
   "source": [
    "# score base SVC model on training data\n",
    "\n",
    "pipe_svc_base.score(X_train, y_train)"
   ]
  },
  {
   "cell_type": "code",
   "execution_count": 51,
   "metadata": {},
   "outputs": [
    {
     "data": {
      "text/plain": [
       "0.735632183908046"
      ]
     },
     "execution_count": 51,
     "metadata": {},
     "output_type": "execute_result"
    }
   ],
   "source": [
    "# score base SVC model on test data\n",
    "\n",
    "pipe_svc_base.score(X_test, y_test)"
   ]
  },
  {
   "cell_type": "markdown",
   "metadata": {},
   "source": [
    "**Observations**\n",
    "\n",
    "Our base SVC model obtains a decent accuracy of 0.74 on the test set. However, the model's accuracy on the training set is a staggeringly high 0.98, suggesting that there is a high degree of overfitting.\n",
    "\n",
    "We can use `GridSearchCV` to tune the hyperparameters, including the type of kernel used."
   ]
  },
  {
   "cell_type": "code",
   "execution_count": 56,
   "metadata": {},
   "outputs": [],
   "source": [
    "# create pipeline for SVC\n",
    "\n",
    "pipe_svc = Pipeline([\n",
    "    ('tvec', TfidfVectorizer(analyzer = \"word\",\n",
    "                             tokenizer = None,\n",
    "                             preprocessor = None,\n",
    "                             stop_words = None\n",
    "                             )),\n",
    "    ('svc', SVC())\n",
    "])"
   ]
  },
  {
   "cell_type": "code",
   "execution_count": 57,
   "metadata": {},
   "outputs": [],
   "source": [
    "# set up parameter grid for our pipe_svc\n",
    "\n",
    "pipe_svc_params = {\n",
    "    'tvec__max_features': [2000, 3000, 4000],\n",
    "    'tvec__min_df': [2, 3],\n",
    "    'tvec__max_df': [0.90],\n",
    "    'tvec__ngram_range': [(1, 2), (1, 3)],\n",
    "    'svc__C': [0.1, 0.5, 1.0],\n",
    "    'svc__kernel': ['rbf', 'linear', 'poly']\n",
    "}"
   ]
  },
  {
   "cell_type": "code",
   "execution_count": 58,
   "metadata": {},
   "outputs": [],
   "source": [
    "# instantiate GridSearchCV\n",
    "\n",
    "gs_svc = GridSearchCV(pipe_svc, \n",
    "                     param_grid=pipe_svc_params, \n",
    "                     cv=5,\n",
    "                     verbose=1) "
   ]
  },
  {
   "cell_type": "code",
   "execution_count": 59,
   "metadata": {},
   "outputs": [
    {
     "name": "stdout",
     "output_type": "stream",
     "text": [
      "Fitting 5 folds for each of 108 candidates, totalling 540 fits\n"
     ]
    },
    {
     "name": "stderr",
     "output_type": "stream",
     "text": [
      "[Parallel(n_jobs=1)]: Using backend SequentialBackend with 1 concurrent workers.\n",
      "[Parallel(n_jobs=1)]: Done 540 out of 540 | elapsed:  6.5min finished\n"
     ]
    },
    {
     "data": {
      "text/plain": [
       "GridSearchCV(cv=5,\n",
       "             estimator=Pipeline(steps=[('tvec', TfidfVectorizer()),\n",
       "                                       ('svc', SVC())]),\n",
       "             param_grid={'svc__C': [0.1, 0.5, 1.0],\n",
       "                         'svc__kernel': ['rbf', 'linear', 'poly'],\n",
       "                         'tvec__max_df': [0.9],\n",
       "                         'tvec__max_features': [2000, 3000, 4000],\n",
       "                         'tvec__min_df': [2, 3],\n",
       "                         'tvec__ngram_range': [(1, 2), (1, 3)]},\n",
       "             verbose=1)"
      ]
     },
     "execution_count": 59,
     "metadata": {},
     "output_type": "execute_result"
    }
   ],
   "source": [
    "gs_svc.fit(X_train, y_train)"
   ]
  },
  {
   "cell_type": "code",
   "execution_count": 60,
   "metadata": {},
   "outputs": [
    {
     "name": "stdout",
     "output_type": "stream",
     "text": [
      "Best mean cross-validated score: 0.7218\n",
      "--------\n",
      "Best parameters:\n"
     ]
    },
    {
     "data": {
      "text/plain": [
       "{'svc__C': 1.0,\n",
       " 'svc__kernel': 'rbf',\n",
       " 'tvec__max_df': 0.9,\n",
       " 'tvec__max_features': 3000,\n",
       " 'tvec__min_df': 2,\n",
       " 'tvec__ngram_range': (1, 3)}"
      ]
     },
     "metadata": {},
     "output_type": "display_data"
    }
   ],
   "source": [
    "# print out gridsearch info for SVC and save our SVC model\n",
    "\n",
    "svc_model = gridsearch_model(gs_svc)"
   ]
  },
  {
   "cell_type": "code",
   "execution_count": 61,
   "metadata": {},
   "outputs": [
    {
     "data": {
      "text/plain": [
       "0.9762452107279693"
      ]
     },
     "execution_count": 61,
     "metadata": {},
     "output_type": "execute_result"
    }
   ],
   "source": [
    "# score model on training set\n",
    "\n",
    "svc_model.score(X_train, y_train)"
   ]
  },
  {
   "cell_type": "code",
   "execution_count": 62,
   "metadata": {},
   "outputs": [
    {
     "data": {
      "text/plain": [
       "0.7425287356321839"
      ]
     },
     "execution_count": 62,
     "metadata": {},
     "output_type": "execute_result"
    }
   ],
   "source": [
    "# score model on test set\n",
    "\n",
    "svc_model.score(X_test, y_test)"
   ]
  },
  {
   "cell_type": "code",
   "execution_count": 63,
   "metadata": {},
   "outputs": [
    {
     "data": {
      "image/png": "[encoded data removed]",
      "text/plain": [
       "<Figure size 432x864 with 3 Axes>"
      ]
     },
     "metadata": {},
     "output_type": "display_data"
    }
   ],
   "source": [
    "# display confusion matrix and roc curve\n",
    "\n",
    "plot_confusion_matrix_rocauc(svc_model, X_test, y_test)"
   ]
  },
  {
   "cell_type": "markdown",
   "metadata": {},
   "source": [
    "**Observations**\n",
    "\n",
    "The degree of overfitting is fairly high with the SVC - 0.976 on the training set and 0.74 on the test set.\n",
    "\n",
    "A variety of values for hyperparameter `C` (regularization parameter for `SVC`) were also tried. However, it was found that `C = 1.0` yielded the most favourable results - although there was less disparity between the train and test set accuracies with smaller values of `C`, the accuracy was far too low (~0.54) when `C = 0.1`.\n",
    "\n",
    "With subsequent tuning of the `kernel` type, an SVC model with `C = 0.6` and `kernel = 'linear'` was able to yield an accuracy of 0.879 on the training set and 0.76 on the test set."
   ]
  },
  {
   "cell_type": "markdown",
   "metadata": {},
   "source": [
    "# Production Model"
   ]
  },
  {
   "cell_type": "markdown",
   "metadata": {},
   "source": [
    "All models tested above showed a fair degree of overfitting, which could not be completely eliminated with regularization.\n",
    "\n",
    "We have chosen our `LogisticRegression` model to be our production model. This is because it yields a fairly similar accuracy to the other two, and the coefficients that it yields are easily interpretable. It is possible that with more data to train on, the model may be able to perform better."
   ]
  },
  {
   "cell_type": "markdown",
   "metadata": {},
   "source": [
    "## Model Performance"
   ]
  },
  {
   "cell_type": "markdown",
   "metadata": {},
   "source": [
    "`LogisticRegression` yields an accuracy of **0.866** on the training set and **0.740** on the test set. Comparing this to the baseline score of *0.548*, it can be seen that the model performs relatively well at classifying posts into *r/pcgamingtechsupport* and *r/techsupport*, considering the high similarity in the contents of the two subreddits.\n",
    "\n",
    "The overfitting may also be attributed to insufficient training data - as the amount of jargon in the tech world is simply immense, and it is not possible to capture sufficient vocabulary terms in just the training set alone.\n",
    "\n",
    "The ROC-AUC score is **0.82**. This is closer to 1 than it is to 0.5, indicating that the model induces a fair degree of separability between the positive and negative class distribution."
   ]
  },
  {
   "cell_type": "markdown",
   "metadata": {},
   "source": [
    "## Interpretation of Model"
   ]
  },
  {
   "cell_type": "markdown",
   "metadata": {},
   "source": [
    "The coefficients that `LogisticRegression` yields provide good insight into the differentiating themes of the two subreddits:\n",
    "\n",
    "- *r/pcgamingtechsupport* tended to contain the following terms:\n",
    "    - game\n",
    "    - ram\n",
    "    - gaming\n",
    "    - help\n",
    "    - gpu\n",
    "    - ryzen\n",
    "    - better\n",
    "    - new\n",
    "    - motherboard\n",
    "    - 2060\n",
    "    - play\n",
    "    - headset\n",
    "    - rtx\n",
    "    - card\n",
    "    - fan\n",
    "    - mobo\n",
    "\n",
    "A large number of these terms relate to graphics cards ('rtx', '2060', 'card'), headsets (presumably for gaming), or parts that directly help to improve game processing speeds (mobo, ram).\n",
    "\n",
    "- *r/techsupport* tended to contain the following terms:\n",
    "    - laptop\n",
    "    - computer\n",
    "    - phone\n",
    "    - 10\n",
    "    - tv\n",
    "    - window 10\n",
    "    - router\n",
    "    - google\n",
    "    - audio\n",
    "    - disk\n",
    "    - chrome\n",
    "    - file\n",
    "    - ethernet\n",
    "    \n",
    "These terms were more general in nature - 'laptop', 'computer', 'phone', 'tv' are part of our everyday hardware objects. There were also a number of software related terms such as 'window 10' and 'file'. 'Audio' issues were also surfaced. 'Google' and 'Chrome' appeared a fair number of times - these could be pointing to the actual browser Google Chrome, or other Google-related hardware such as the Chromebook, Google Nest/Home, etc. "
   ]
  },
  {
   "cell_type": "markdown",
   "metadata": {},
   "source": [
    "## Model Limitations"
   ]
  },
  {
   "cell_type": "markdown",
   "metadata": {},
   "source": [
    "While the model outperformed the base model, the overall accuracy is still relatively low. We can investigate some of the misclassified posts to see if there are any trends in them."
   ]
  },
  {
   "cell_type": "code",
   "execution_count": 64,
   "metadata": {},
   "outputs": [],
   "source": [
    "# obtain predictions from our LogisticRegression model\n",
    "\n",
    "y_pred = logreg_model.predict(X_test)"
   ]
  },
  {
   "cell_type": "code",
   "execution_count": 65,
   "metadata": {},
   "outputs": [],
   "source": [
    "# combine y_pred and y_test into a DataFrame\n",
    "\n",
    "logreg_predictions = pd.DataFrame(data={'Actual': y_test, 'Predicted': y_pred})"
   ]
  },
  {
   "cell_type": "code",
   "execution_count": 66,
   "metadata": {},
   "outputs": [],
   "source": [
    "# filter the misclassified observations\n",
    "\n",
    "misclass_pred = logreg_predictions[logreg_predictions['Actual'] != logreg_predictions['Predicted']]"
   ]
  },
  {
   "cell_type": "code",
   "execution_count": 67,
   "metadata": {},
   "outputs": [
    {
     "data": {
      "text/html": [
       "<div>\n",
       "<style scoped>\n",
       "    .dataframe tbody tr th:only-of-type {\n",
       "        vertical-align: middle;\n",
       "    }\n",
       "\n",
       "    .dataframe tbody tr th {\n",
       "        vertical-align: top;\n",
       "    }\n",
       "\n",
       "    .dataframe thead th {\n",
       "        text-align: right;\n",
       "    }\n",
       "</style>\n",
       "<table border=\"1\" class=\"dataframe\">\n",
       "  <thead>\n",
       "    <tr style=\"text-align: right;\">\n",
       "      <th></th>\n",
       "      <th>selftext</th>\n",
       "      <th>Actual</th>\n",
       "      <th>Predicted</th>\n",
       "    </tr>\n",
       "  </thead>\n",
       "  <tbody>\n",
       "    <tr>\n",
       "      <th>1261</th>\n",
       "      <td>Hello I just got my Kraken X headset today and I had multiple issues with it. I have questions that I need help with. Sorry if these seem like dumb questions, I'm new to this kind of stuff. \\n\\nI tried going into control panel &amp;gt; sound &amp;gt; recording to look for my mic. However, my mic doesn't show up under there and it only says \"Realtek Default\" or whatever the default audio thing is. In other videos I saw how people's headsets actually showed up for them. Such as a logitech headset or s...</td>\n",
       "      <td>0</td>\n",
       "      <td>1</td>\n",
       "    </tr>\n",
       "    <tr>\n",
       "      <th>294</th>\n",
       "      <td>Hello, just upgraded my pc with basically all new parts. I got an SSD from my old PC, and used that to boot into windows. I planned on mirroring my drive and converting the M.2 into my boot drive, then using the SSD as a spare drive. I got Macrium reflect, mirrored the drive, and my BIOS registers that the drive is connected, and there are files on it, but it doesn't detect that it can boot from the drive. In the boot priority, it only shows the existing SSD. Any ideas?</td>\n",
       "      <td>1</td>\n",
       "      <td>0</td>\n",
       "    </tr>\n",
       "    <tr>\n",
       "      <th>605</th>\n",
       "      <td>Hey so I had my laptop optimized by a professional PC optimizer after he was done I got no fps difference he said it's because I am on laptop I was wondering if anyone could help me bypass the laptop stubbornness</td>\n",
       "      <td>1</td>\n",
       "      <td>0</td>\n",
       "    </tr>\n",
       "    <tr>\n",
       "      <th>1196</th>\n",
       "      <td>hi all, \\n\\nI have a gtx 2070 which I was to setup dual monitors on. I have a newer 24\" with display port and an old VGA hdmi monitor. if I was to buy a dp to hdmi cable will the older monitor be able to work? or could I do damage to anything? bit new to this.</td>\n",
       "      <td>0</td>\n",
       "      <td>1</td>\n",
       "    </tr>\n",
       "    <tr>\n",
       "      <th>848</th>\n",
       "      <td>The old ram is this: HyperX Kingston Technology FURY 2666MHz DDR4 Non-ECC CL15 DIMM 8GB DDR4 2666 MT/s (PC4-21300) HX426C15FBK2/8 https://smile.amazon.com/dp/B013H7QBTG/ref=cm_sw_r_cp_api_fabc_N5dXFb8M6Y3AZ?_encoding=UTF8&amp;amp;psc=1\\n\\nThis is the new: G.SKILL 16GB (2 x 8GB) Ripjaws V Series DDR4 PC4-25600 3200MHz Desktop Memory Model F4-3200C16D-16GVKB https://smile.amazon.com/dp/B015FXXBW0/ref=cm_sw_r_cp_api_fabc_K7dXFbWKQPZP5\\n\\nWhen I run the computer with just one of these 2 pairs it run...</td>\n",
       "      <td>0</td>\n",
       "      <td>1</td>\n",
       "    </tr>\n",
       "  </tbody>\n",
       "</table>\n",
       "</div>"
      ],
      "text/plain": [
       "                                                                                                                                                                                                                                                                                                                                                                                                                                                                                                                 selftext  \\\n",
       "1261  Hello I just got my Kraken X headset today and I had multiple issues with it. I have questions that I need help with. Sorry if these seem like dumb questions, I'm new to this kind of stuff. \\n\\nI tried going into control panel &gt; sound &gt; recording to look for my mic. However, my mic doesn't show up under there and it only says \"Realtek Default\" or whatever the default audio thing is. In other videos I saw how people's headsets actually showed up for them. Such as a logitech headset or s...   \n",
       "294                            Hello, just upgraded my pc with basically all new parts. I got an SSD from my old PC, and used that to boot into windows. I planned on mirroring my drive and converting the M.2 into my boot drive, then using the SSD as a spare drive. I got Macrium reflect, mirrored the drive, and my BIOS registers that the drive is connected, and there are files on it, but it doesn't detect that it can boot from the drive. In the boot priority, it only shows the existing SSD. Any ideas?   \n",
       "605                                                                                                                                                                                                                                                                                                  Hey so I had my laptop optimized by a professional PC optimizer after he was done I got no fps difference he said it's because I am on laptop I was wondering if anyone could help me bypass the laptop stubbornness   \n",
       "1196                                                                                                                                                                                                                                                 hi all, \\n\\nI have a gtx 2070 which I was to setup dual monitors on. I have a newer 24\" with display port and an old VGA hdmi monitor. if I was to buy a dp to hdmi cable will the older monitor be able to work? or could I do damage to anything? bit new to this.   \n",
       "848   The old ram is this: HyperX Kingston Technology FURY 2666MHz DDR4 Non-ECC CL15 DIMM 8GB DDR4 2666 MT/s (PC4-21300) HX426C15FBK2/8 https://smile.amazon.com/dp/B013H7QBTG/ref=cm_sw_r_cp_api_fabc_N5dXFb8M6Y3AZ?_encoding=UTF8&amp;psc=1\\n\\nThis is the new: G.SKILL 16GB (2 x 8GB) Ripjaws V Series DDR4 PC4-25600 3200MHz Desktop Memory Model F4-3200C16D-16GVKB https://smile.amazon.com/dp/B015FXXBW0/ref=cm_sw_r_cp_api_fabc_K7dXFbWKQPZP5\\n\\nWhen I run the computer with just one of these 2 pairs it run...   \n",
       "\n",
       "      Actual  Predicted  \n",
       "1261       0          1  \n",
       "294        1          0  \n",
       "605        1          0  \n",
       "1196       0          1  \n",
       "848        0          1  "
      ]
     },
     "execution_count": 67,
     "metadata": {},
     "output_type": "execute_result"
    }
   ],
   "source": [
    "# combine the selftext with the actual label and predicted label, and display the first 5 rows\n",
    "\n",
    "logreg_misclass_df = pd.concat([pd.DataFrame(combined['selftext'].loc[misclass_pred.index]), misclass_pred], axis=1)\n",
    "logreg_misclass_df.head(5)"
   ]
  },
  {
   "cell_type": "markdown",
   "metadata": {},
   "source": [
    "**Observations**\n",
    "\n",
    "Based on a cursory observation of the selftext, we see that the posts are indeed very similar in nature. *r/techsupport* *is* intended to be a subreddit for general tech support, and there is nothing inherently wrong about posting issues related to PC gaming in it as well. *r/pcgamingtechsupport* hence shares a great deal of overlap with it.\n",
    "\n",
    "As the posts are so similar (to the point where a human may be hard-pressed to decide where to classify them as well), it is to be expected that the model cannot do a perfect job in classifying them accurately.\n",
    "\n",
    "The posts above that were predicted to be in *r/pcgamingtechsupport* (1) contained terms such as 'ram', 'headset' and graphics cards ('gtx 2070').\n",
    "\n",
    "On the other hand, the posts that were predicted to be in *r/techsupport* (0) contained terms such as  'ssd' and 'laptop'.\n",
    "\n",
    "We can hence infer that some members may simply be inclined to post in the subreddit that they are comfortable with. In the case of *r/techsupport*, it has a much greater number of members, and is hence the popular subreddit to go to for any form of general tech advice (as they may receive responses from other users faster)."
   ]
  },
  {
   "cell_type": "markdown",
   "metadata": {},
   "source": [
    "# Recommendations"
   ]
  },
  {
   "cell_type": "markdown",
   "metadata": {},
   "source": [
    "Based on our results, we can indeed use the `LogisticRegression` model as part of our NLP efforts to classify posts into either *r/pcgamingtechsupport* or *r/techsupport*. This could potentially aid users who are seeking tech advice in deciding which is a more appropriate subreddit to post to, prior to submitting their posts. A benefit of doing so is that posts which are more pertinent to PC gaming can be directed to *r/pcgamingtechsupport*, allowing the user to obtain more specific and relevant advice from other users. This also helps to declutter the *r/techsupport* subreddit as other non-gaming posts would receive greater visibility.\n",
    "\n",
    "We should note that this should only come in the form of a *suggestion*, as the model's accuracy is not particularly high, due to the high degree of overlap between the two subreddits. Users can always choose to continue posting in the subreddit that they are more familiar with, as long as the topic is still relevant.\n",
    "\n",
    "To further improve and refine the model, we could consider the following:\n",
    "\n",
    "- Do more hyperparameter tuning\n",
    "- Use other NLP libraries such as spacy for POS tagging to see if there are any other trends\n",
    "- Scrape more posts from each subreddit to obtain more data\n",
    "- Use other features in the posts (e.g. number of upvotes, scrape comment data)\n",
    "    - However, this would be somewhat retroactive and is purely for classification purposes (i.e. we would not be able to advise the user beforehand on whether they are submitting to the correct subreddit or not)"
   ]
  },
  {
   "cell_type": "markdown",
   "metadata": {},
   "source": [
    "# Conclusion"
   ]
  },
  {
   "cell_type": "markdown",
   "metadata": {},
   "source": [
    "*r/pcgamingtechsupport* and *r/techsupport* are two popular tech subreddits that allow users to solicit advice from the community to troubleshoot their issues.\n",
    "\n",
    "Our final `LogisticRegression` model using inputs from `TfidfVectorizer` yielded an accuracy score of **0.740** and a ROC-AUC score of **0.82**. While the model is able to classify posts into the correct subreddit with a fair amount of accuracy, there is inherently a great deal of overlap between the two subreddits, and many posts would not be out of place if they were to be put in either one of them.\n",
    "\n",
    "The top themes for *r/pcgamingtechsupport* include graphics cards or RAM, as these are the common bottlenecks when it comes to delivering a smooth gaming experience. On the other hand, *r/techsupport* is more general in nature and tends to contain posts regarding common hardware issues (laptops, tvs, pcs, phones, routers)."
   ]
  },
  {
   "cell_type": "code",
   "execution_count": null,
   "metadata": {},
   "outputs": [],
   "source": []
  }
 ],
 "metadata": {
  "kernelspec": {
   "display_name": "Python 3",
   "language": "python",
   "name": "python3"
  },
  "language_info": {
   "codemirror_mode": {
    "name": "ipython",
    "version": 3
   },
   "file_extension": ".py",
   "mimetype": "text/x-python",
   "name": "python",
   "nbconvert_exporter": "python",
   "pygments_lexer": "ipython3",
   "version": "3.8.3"
  },
  "toc": {
   "base_numbering": 1,
   "nav_menu": {},
   "number_sections": true,
   "sideBar": true,
   "skip_h1_title": false,
   "title_cell": "Table of Contents",
   "title_sidebar": "Contents",
   "toc_cell": false,
   "toc_position": {
    "height": "calc(100% - 180px)",
    "left": "10px",
    "top": "150px",
    "width": "349.091px"
   },
   "toc_section_display": true,
   "toc_window_display": true
  }
 },
 "nbformat": 4,
 "nbformat_minor": 4
}
