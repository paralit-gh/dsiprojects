{
 "cells": [
  {
   "cell_type": "markdown",
   "metadata": {},
   "source": [
    "# Imports and Options"
   ]
  },
  {
   "cell_type": "markdown",
   "metadata": {},
   "source": [
    "In this notebook, we will use our earlier production model to perform predictions on the Kaggle Ames test dataset."
   ]
  },
  {
   "cell_type": "code",
   "execution_count": 136,
   "metadata": {},
   "outputs": [],
   "source": [
    "# import relevant libraries and modules\n",
    "\n",
    "import pandas as pd\n",
    "import numpy as np\n",
    "import seaborn as sns\n",
    "import matplotlib.pyplot as plt\n",
    "\n",
    "from sklearn.preprocessing import StandardScaler\n",
    "from sklearn.model_selection import train_test_split, cross_val_score\n",
    "from sklearn.feature_selection import RFE\n",
    "from sklearn.linear_model import LinearRegression, Lasso, LassoCV, Ridge, RidgeCV, ElasticNet, ElasticNetCV\n",
    "from sklearn.metrics import r2_score, mean_squared_error\n",
    "import pickle"
   ]
  },
  {
   "cell_type": "code",
   "execution_count": 137,
   "metadata": {},
   "outputs": [],
   "source": [
    "# set maximum columns and rows to be displayed in dataframes\n",
    "\n",
    "pd.options.display.max_columns = None\n",
    "pd.options.display.max_rows = 100"
   ]
  },
  {
   "cell_type": "code",
   "execution_count": 138,
   "metadata": {},
   "outputs": [],
   "source": [
    "# set the style of our plots and colour palette\n",
    "\n",
    "sns.set_theme(style=\"white\", font='sans-serif')\n",
    "sns.set_palette('BrBG_r', n_colors=10)"
   ]
  },
  {
   "cell_type": "markdown",
   "metadata": {},
   "source": [
    "# Read Dataset"
   ]
  },
  {
   "cell_type": "code",
   "execution_count": 139,
   "metadata": {},
   "outputs": [],
   "source": [
    "# import our X_test dataset\n",
    "\n",
    "ames_kaggle = pd.read_csv('../datasets/test.csv')\n",
    "\n",
    "# extract Id column\n",
    "\n",
    "id_col = ames_kaggle['Id']"
   ]
  },
  {
   "cell_type": "markdown",
   "metadata": {},
   "source": [
    "We first examine basic properties of the Ames test dataset, including its shape, feature data types, and the presence of null values."
   ]
  },
  {
   "cell_type": "code",
   "execution_count": 140,
   "metadata": {
    "scrolled": true
   },
   "outputs": [
    {
     "data": {
      "text/html": [
       "<div>\n",
       "<style scoped>\n",
       "    .dataframe tbody tr th:only-of-type {\n",
       "        vertical-align: middle;\n",
       "    }\n",
       "\n",
       "    .dataframe tbody tr th {\n",
       "        vertical-align: top;\n",
       "    }\n",
       "\n",
       "    .dataframe thead th {\n",
       "        text-align: right;\n",
       "    }\n",
       "</style>\n",
       "<table border=\"1\" class=\"dataframe\">\n",
       "  <thead>\n",
       "    <tr style=\"text-align: right;\">\n",
       "      <th></th>\n",
       "      <th>Id</th>\n",
       "      <th>PID</th>\n",
       "      <th>MS SubClass</th>\n",
       "      <th>MS Zoning</th>\n",
       "      <th>Lot Frontage</th>\n",
       "      <th>Lot Area</th>\n",
       "      <th>Street</th>\n",
       "      <th>Alley</th>\n",
       "      <th>Lot Shape</th>\n",
       "      <th>Land Contour</th>\n",
       "      <th>Utilities</th>\n",
       "      <th>Lot Config</th>\n",
       "      <th>Land Slope</th>\n",
       "      <th>Neighborhood</th>\n",
       "      <th>Condition 1</th>\n",
       "      <th>Condition 2</th>\n",
       "      <th>Bldg Type</th>\n",
       "      <th>House Style</th>\n",
       "      <th>Overall Qual</th>\n",
       "      <th>Overall Cond</th>\n",
       "      <th>Year Built</th>\n",
       "      <th>Year Remod/Add</th>\n",
       "      <th>Roof Style</th>\n",
       "      <th>Roof Matl</th>\n",
       "      <th>Exterior 1st</th>\n",
       "      <th>Exterior 2nd</th>\n",
       "      <th>Mas Vnr Type</th>\n",
       "      <th>Mas Vnr Area</th>\n",
       "      <th>Exter Qual</th>\n",
       "      <th>Exter Cond</th>\n",
       "      <th>Foundation</th>\n",
       "      <th>Bsmt Qual</th>\n",
       "      <th>Bsmt Cond</th>\n",
       "      <th>Bsmt Exposure</th>\n",
       "      <th>BsmtFin Type 1</th>\n",
       "      <th>BsmtFin SF 1</th>\n",
       "      <th>BsmtFin Type 2</th>\n",
       "      <th>BsmtFin SF 2</th>\n",
       "      <th>Bsmt Unf SF</th>\n",
       "      <th>Total Bsmt SF</th>\n",
       "      <th>Heating</th>\n",
       "      <th>Heating QC</th>\n",
       "      <th>Central Air</th>\n",
       "      <th>Electrical</th>\n",
       "      <th>1st Flr SF</th>\n",
       "      <th>2nd Flr SF</th>\n",
       "      <th>Low Qual Fin SF</th>\n",
       "      <th>Gr Liv Area</th>\n",
       "      <th>Bsmt Full Bath</th>\n",
       "      <th>Bsmt Half Bath</th>\n",
       "      <th>Full Bath</th>\n",
       "      <th>Half Bath</th>\n",
       "      <th>Bedroom AbvGr</th>\n",
       "      <th>Kitchen AbvGr</th>\n",
       "      <th>Kitchen Qual</th>\n",
       "      <th>TotRms AbvGrd</th>\n",
       "      <th>Functional</th>\n",
       "      <th>Fireplaces</th>\n",
       "      <th>Fireplace Qu</th>\n",
       "      <th>Garage Type</th>\n",
       "      <th>Garage Yr Blt</th>\n",
       "      <th>Garage Finish</th>\n",
       "      <th>Garage Cars</th>\n",
       "      <th>Garage Area</th>\n",
       "      <th>Garage Qual</th>\n",
       "      <th>Garage Cond</th>\n",
       "      <th>Paved Drive</th>\n",
       "      <th>Wood Deck SF</th>\n",
       "      <th>Open Porch SF</th>\n",
       "      <th>Enclosed Porch</th>\n",
       "      <th>3Ssn Porch</th>\n",
       "      <th>Screen Porch</th>\n",
       "      <th>Pool Area</th>\n",
       "      <th>Pool QC</th>\n",
       "      <th>Fence</th>\n",
       "      <th>Misc Feature</th>\n",
       "      <th>Misc Val</th>\n",
       "      <th>Mo Sold</th>\n",
       "      <th>Yr Sold</th>\n",
       "      <th>Sale Type</th>\n",
       "    </tr>\n",
       "  </thead>\n",
       "  <tbody>\n",
       "    <tr>\n",
       "      <th>0</th>\n",
       "      <td>2658</td>\n",
       "      <td>902301120</td>\n",
       "      <td>190</td>\n",
       "      <td>RM</td>\n",
       "      <td>69.0</td>\n",
       "      <td>9142</td>\n",
       "      <td>Pave</td>\n",
       "      <td>Grvl</td>\n",
       "      <td>Reg</td>\n",
       "      <td>Lvl</td>\n",
       "      <td>AllPub</td>\n",
       "      <td>Inside</td>\n",
       "      <td>Gtl</td>\n",
       "      <td>OldTown</td>\n",
       "      <td>Norm</td>\n",
       "      <td>Norm</td>\n",
       "      <td>2fmCon</td>\n",
       "      <td>2Story</td>\n",
       "      <td>6</td>\n",
       "      <td>8</td>\n",
       "      <td>1910</td>\n",
       "      <td>1950</td>\n",
       "      <td>Gable</td>\n",
       "      <td>CompShg</td>\n",
       "      <td>AsbShng</td>\n",
       "      <td>AsbShng</td>\n",
       "      <td>None</td>\n",
       "      <td>0.0</td>\n",
       "      <td>TA</td>\n",
       "      <td>Fa</td>\n",
       "      <td>Stone</td>\n",
       "      <td>Fa</td>\n",
       "      <td>TA</td>\n",
       "      <td>No</td>\n",
       "      <td>Unf</td>\n",
       "      <td>0</td>\n",
       "      <td>Unf</td>\n",
       "      <td>0</td>\n",
       "      <td>1020</td>\n",
       "      <td>1020</td>\n",
       "      <td>GasA</td>\n",
       "      <td>Gd</td>\n",
       "      <td>N</td>\n",
       "      <td>FuseP</td>\n",
       "      <td>908</td>\n",
       "      <td>1020</td>\n",
       "      <td>0</td>\n",
       "      <td>1928</td>\n",
       "      <td>0</td>\n",
       "      <td>0</td>\n",
       "      <td>2</td>\n",
       "      <td>0</td>\n",
       "      <td>4</td>\n",
       "      <td>2</td>\n",
       "      <td>Fa</td>\n",
       "      <td>9</td>\n",
       "      <td>Typ</td>\n",
       "      <td>0</td>\n",
       "      <td>NaN</td>\n",
       "      <td>Detchd</td>\n",
       "      <td>1910.0</td>\n",
       "      <td>Unf</td>\n",
       "      <td>1</td>\n",
       "      <td>440</td>\n",
       "      <td>Po</td>\n",
       "      <td>Po</td>\n",
       "      <td>Y</td>\n",
       "      <td>0</td>\n",
       "      <td>60</td>\n",
       "      <td>112</td>\n",
       "      <td>0</td>\n",
       "      <td>0</td>\n",
       "      <td>0</td>\n",
       "      <td>NaN</td>\n",
       "      <td>NaN</td>\n",
       "      <td>NaN</td>\n",
       "      <td>0</td>\n",
       "      <td>4</td>\n",
       "      <td>2006</td>\n",
       "      <td>WD</td>\n",
       "    </tr>\n",
       "    <tr>\n",
       "      <th>1</th>\n",
       "      <td>2718</td>\n",
       "      <td>905108090</td>\n",
       "      <td>90</td>\n",
       "      <td>RL</td>\n",
       "      <td>NaN</td>\n",
       "      <td>9662</td>\n",
       "      <td>Pave</td>\n",
       "      <td>NaN</td>\n",
       "      <td>IR1</td>\n",
       "      <td>Lvl</td>\n",
       "      <td>AllPub</td>\n",
       "      <td>Inside</td>\n",
       "      <td>Gtl</td>\n",
       "      <td>Sawyer</td>\n",
       "      <td>Norm</td>\n",
       "      <td>Norm</td>\n",
       "      <td>Duplex</td>\n",
       "      <td>1Story</td>\n",
       "      <td>5</td>\n",
       "      <td>4</td>\n",
       "      <td>1977</td>\n",
       "      <td>1977</td>\n",
       "      <td>Gable</td>\n",
       "      <td>CompShg</td>\n",
       "      <td>Plywood</td>\n",
       "      <td>Plywood</td>\n",
       "      <td>None</td>\n",
       "      <td>0.0</td>\n",
       "      <td>TA</td>\n",
       "      <td>TA</td>\n",
       "      <td>CBlock</td>\n",
       "      <td>Gd</td>\n",
       "      <td>TA</td>\n",
       "      <td>No</td>\n",
       "      <td>Unf</td>\n",
       "      <td>0</td>\n",
       "      <td>Unf</td>\n",
       "      <td>0</td>\n",
       "      <td>1967</td>\n",
       "      <td>1967</td>\n",
       "      <td>GasA</td>\n",
       "      <td>TA</td>\n",
       "      <td>Y</td>\n",
       "      <td>SBrkr</td>\n",
       "      <td>1967</td>\n",
       "      <td>0</td>\n",
       "      <td>0</td>\n",
       "      <td>1967</td>\n",
       "      <td>0</td>\n",
       "      <td>0</td>\n",
       "      <td>2</td>\n",
       "      <td>0</td>\n",
       "      <td>6</td>\n",
       "      <td>2</td>\n",
       "      <td>TA</td>\n",
       "      <td>10</td>\n",
       "      <td>Typ</td>\n",
       "      <td>0</td>\n",
       "      <td>NaN</td>\n",
       "      <td>Attchd</td>\n",
       "      <td>1977.0</td>\n",
       "      <td>Fin</td>\n",
       "      <td>2</td>\n",
       "      <td>580</td>\n",
       "      <td>TA</td>\n",
       "      <td>TA</td>\n",
       "      <td>Y</td>\n",
       "      <td>170</td>\n",
       "      <td>0</td>\n",
       "      <td>0</td>\n",
       "      <td>0</td>\n",
       "      <td>0</td>\n",
       "      <td>0</td>\n",
       "      <td>NaN</td>\n",
       "      <td>NaN</td>\n",
       "      <td>NaN</td>\n",
       "      <td>0</td>\n",
       "      <td>8</td>\n",
       "      <td>2006</td>\n",
       "      <td>WD</td>\n",
       "    </tr>\n",
       "    <tr>\n",
       "      <th>2</th>\n",
       "      <td>2414</td>\n",
       "      <td>528218130</td>\n",
       "      <td>60</td>\n",
       "      <td>RL</td>\n",
       "      <td>58.0</td>\n",
       "      <td>17104</td>\n",
       "      <td>Pave</td>\n",
       "      <td>NaN</td>\n",
       "      <td>IR1</td>\n",
       "      <td>Lvl</td>\n",
       "      <td>AllPub</td>\n",
       "      <td>Inside</td>\n",
       "      <td>Gtl</td>\n",
       "      <td>Gilbert</td>\n",
       "      <td>Norm</td>\n",
       "      <td>Norm</td>\n",
       "      <td>1Fam</td>\n",
       "      <td>2Story</td>\n",
       "      <td>7</td>\n",
       "      <td>5</td>\n",
       "      <td>2006</td>\n",
       "      <td>2006</td>\n",
       "      <td>Gable</td>\n",
       "      <td>CompShg</td>\n",
       "      <td>VinylSd</td>\n",
       "      <td>VinylSd</td>\n",
       "      <td>None</td>\n",
       "      <td>0.0</td>\n",
       "      <td>Gd</td>\n",
       "      <td>TA</td>\n",
       "      <td>PConc</td>\n",
       "      <td>Gd</td>\n",
       "      <td>Gd</td>\n",
       "      <td>Av</td>\n",
       "      <td>GLQ</td>\n",
       "      <td>554</td>\n",
       "      <td>Unf</td>\n",
       "      <td>0</td>\n",
       "      <td>100</td>\n",
       "      <td>654</td>\n",
       "      <td>GasA</td>\n",
       "      <td>Ex</td>\n",
       "      <td>Y</td>\n",
       "      <td>SBrkr</td>\n",
       "      <td>664</td>\n",
       "      <td>832</td>\n",
       "      <td>0</td>\n",
       "      <td>1496</td>\n",
       "      <td>1</td>\n",
       "      <td>0</td>\n",
       "      <td>2</td>\n",
       "      <td>1</td>\n",
       "      <td>3</td>\n",
       "      <td>1</td>\n",
       "      <td>Gd</td>\n",
       "      <td>7</td>\n",
       "      <td>Typ</td>\n",
       "      <td>1</td>\n",
       "      <td>Gd</td>\n",
       "      <td>Attchd</td>\n",
       "      <td>2006.0</td>\n",
       "      <td>RFn</td>\n",
       "      <td>2</td>\n",
       "      <td>426</td>\n",
       "      <td>TA</td>\n",
       "      <td>TA</td>\n",
       "      <td>Y</td>\n",
       "      <td>100</td>\n",
       "      <td>24</td>\n",
       "      <td>0</td>\n",
       "      <td>0</td>\n",
       "      <td>0</td>\n",
       "      <td>0</td>\n",
       "      <td>NaN</td>\n",
       "      <td>NaN</td>\n",
       "      <td>NaN</td>\n",
       "      <td>0</td>\n",
       "      <td>9</td>\n",
       "      <td>2006</td>\n",
       "      <td>New</td>\n",
       "    </tr>\n",
       "    <tr>\n",
       "      <th>3</th>\n",
       "      <td>1989</td>\n",
       "      <td>902207150</td>\n",
       "      <td>30</td>\n",
       "      <td>RM</td>\n",
       "      <td>60.0</td>\n",
       "      <td>8520</td>\n",
       "      <td>Pave</td>\n",
       "      <td>NaN</td>\n",
       "      <td>Reg</td>\n",
       "      <td>Lvl</td>\n",
       "      <td>AllPub</td>\n",
       "      <td>Inside</td>\n",
       "      <td>Gtl</td>\n",
       "      <td>OldTown</td>\n",
       "      <td>Norm</td>\n",
       "      <td>Norm</td>\n",
       "      <td>1Fam</td>\n",
       "      <td>1Story</td>\n",
       "      <td>5</td>\n",
       "      <td>6</td>\n",
       "      <td>1923</td>\n",
       "      <td>2006</td>\n",
       "      <td>Gable</td>\n",
       "      <td>CompShg</td>\n",
       "      <td>Wd Sdng</td>\n",
       "      <td>Wd Sdng</td>\n",
       "      <td>None</td>\n",
       "      <td>0.0</td>\n",
       "      <td>Gd</td>\n",
       "      <td>TA</td>\n",
       "      <td>CBlock</td>\n",
       "      <td>TA</td>\n",
       "      <td>TA</td>\n",
       "      <td>No</td>\n",
       "      <td>Unf</td>\n",
       "      <td>0</td>\n",
       "      <td>Unf</td>\n",
       "      <td>0</td>\n",
       "      <td>968</td>\n",
       "      <td>968</td>\n",
       "      <td>GasA</td>\n",
       "      <td>TA</td>\n",
       "      <td>Y</td>\n",
       "      <td>SBrkr</td>\n",
       "      <td>968</td>\n",
       "      <td>0</td>\n",
       "      <td>0</td>\n",
       "      <td>968</td>\n",
       "      <td>0</td>\n",
       "      <td>0</td>\n",
       "      <td>1</td>\n",
       "      <td>0</td>\n",
       "      <td>2</td>\n",
       "      <td>1</td>\n",
       "      <td>TA</td>\n",
       "      <td>5</td>\n",
       "      <td>Typ</td>\n",
       "      <td>0</td>\n",
       "      <td>NaN</td>\n",
       "      <td>Detchd</td>\n",
       "      <td>1935.0</td>\n",
       "      <td>Unf</td>\n",
       "      <td>2</td>\n",
       "      <td>480</td>\n",
       "      <td>Fa</td>\n",
       "      <td>TA</td>\n",
       "      <td>N</td>\n",
       "      <td>0</td>\n",
       "      <td>0</td>\n",
       "      <td>184</td>\n",
       "      <td>0</td>\n",
       "      <td>0</td>\n",
       "      <td>0</td>\n",
       "      <td>NaN</td>\n",
       "      <td>NaN</td>\n",
       "      <td>NaN</td>\n",
       "      <td>0</td>\n",
       "      <td>7</td>\n",
       "      <td>2007</td>\n",
       "      <td>WD</td>\n",
       "    </tr>\n",
       "    <tr>\n",
       "      <th>4</th>\n",
       "      <td>625</td>\n",
       "      <td>535105100</td>\n",
       "      <td>20</td>\n",
       "      <td>RL</td>\n",
       "      <td>NaN</td>\n",
       "      <td>9500</td>\n",
       "      <td>Pave</td>\n",
       "      <td>NaN</td>\n",
       "      <td>IR1</td>\n",
       "      <td>Lvl</td>\n",
       "      <td>AllPub</td>\n",
       "      <td>Inside</td>\n",
       "      <td>Gtl</td>\n",
       "      <td>NAmes</td>\n",
       "      <td>Norm</td>\n",
       "      <td>Norm</td>\n",
       "      <td>1Fam</td>\n",
       "      <td>1Story</td>\n",
       "      <td>6</td>\n",
       "      <td>5</td>\n",
       "      <td>1963</td>\n",
       "      <td>1963</td>\n",
       "      <td>Gable</td>\n",
       "      <td>CompShg</td>\n",
       "      <td>Plywood</td>\n",
       "      <td>Plywood</td>\n",
       "      <td>BrkFace</td>\n",
       "      <td>247.0</td>\n",
       "      <td>TA</td>\n",
       "      <td>TA</td>\n",
       "      <td>CBlock</td>\n",
       "      <td>Gd</td>\n",
       "      <td>TA</td>\n",
       "      <td>No</td>\n",
       "      <td>BLQ</td>\n",
       "      <td>609</td>\n",
       "      <td>Unf</td>\n",
       "      <td>0</td>\n",
       "      <td>785</td>\n",
       "      <td>1394</td>\n",
       "      <td>GasA</td>\n",
       "      <td>Gd</td>\n",
       "      <td>Y</td>\n",
       "      <td>SBrkr</td>\n",
       "      <td>1394</td>\n",
       "      <td>0</td>\n",
       "      <td>0</td>\n",
       "      <td>1394</td>\n",
       "      <td>1</td>\n",
       "      <td>0</td>\n",
       "      <td>1</td>\n",
       "      <td>1</td>\n",
       "      <td>3</td>\n",
       "      <td>1</td>\n",
       "      <td>TA</td>\n",
       "      <td>6</td>\n",
       "      <td>Typ</td>\n",
       "      <td>2</td>\n",
       "      <td>Gd</td>\n",
       "      <td>Attchd</td>\n",
       "      <td>1963.0</td>\n",
       "      <td>RFn</td>\n",
       "      <td>2</td>\n",
       "      <td>514</td>\n",
       "      <td>TA</td>\n",
       "      <td>TA</td>\n",
       "      <td>Y</td>\n",
       "      <td>0</td>\n",
       "      <td>76</td>\n",
       "      <td>0</td>\n",
       "      <td>0</td>\n",
       "      <td>185</td>\n",
       "      <td>0</td>\n",
       "      <td>NaN</td>\n",
       "      <td>NaN</td>\n",
       "      <td>NaN</td>\n",
       "      <td>0</td>\n",
       "      <td>7</td>\n",
       "      <td>2009</td>\n",
       "      <td>WD</td>\n",
       "    </tr>\n",
       "  </tbody>\n",
       "</table>\n",
       "</div>"
      ],
      "text/plain": [
       "     Id        PID  MS SubClass MS Zoning  Lot Frontage  Lot Area Street  \\\n",
       "0  2658  902301120          190        RM          69.0      9142   Pave   \n",
       "1  2718  905108090           90        RL           NaN      9662   Pave   \n",
       "2  2414  528218130           60        RL          58.0     17104   Pave   \n",
       "3  1989  902207150           30        RM          60.0      8520   Pave   \n",
       "4   625  535105100           20        RL           NaN      9500   Pave   \n",
       "\n",
       "  Alley Lot Shape Land Contour Utilities Lot Config Land Slope Neighborhood  \\\n",
       "0  Grvl       Reg          Lvl    AllPub     Inside        Gtl      OldTown   \n",
       "1   NaN       IR1          Lvl    AllPub     Inside        Gtl       Sawyer   \n",
       "2   NaN       IR1          Lvl    AllPub     Inside        Gtl      Gilbert   \n",
       "3   NaN       Reg          Lvl    AllPub     Inside        Gtl      OldTown   \n",
       "4   NaN       IR1          Lvl    AllPub     Inside        Gtl        NAmes   \n",
       "\n",
       "  Condition 1 Condition 2 Bldg Type House Style  Overall Qual  Overall Cond  \\\n",
       "0        Norm        Norm    2fmCon      2Story             6             8   \n",
       "1        Norm        Norm    Duplex      1Story             5             4   \n",
       "2        Norm        Norm      1Fam      2Story             7             5   \n",
       "3        Norm        Norm      1Fam      1Story             5             6   \n",
       "4        Norm        Norm      1Fam      1Story             6             5   \n",
       "\n",
       "   Year Built  Year Remod/Add Roof Style Roof Matl Exterior 1st Exterior 2nd  \\\n",
       "0        1910            1950      Gable   CompShg      AsbShng      AsbShng   \n",
       "1        1977            1977      Gable   CompShg      Plywood      Plywood   \n",
       "2        2006            2006      Gable   CompShg      VinylSd      VinylSd   \n",
       "3        1923            2006      Gable   CompShg      Wd Sdng      Wd Sdng   \n",
       "4        1963            1963      Gable   CompShg      Plywood      Plywood   \n",
       "\n",
       "  Mas Vnr Type  Mas Vnr Area Exter Qual Exter Cond Foundation Bsmt Qual  \\\n",
       "0         None           0.0         TA         Fa      Stone        Fa   \n",
       "1         None           0.0         TA         TA     CBlock        Gd   \n",
       "2         None           0.0         Gd         TA      PConc        Gd   \n",
       "3         None           0.0         Gd         TA     CBlock        TA   \n",
       "4      BrkFace         247.0         TA         TA     CBlock        Gd   \n",
       "\n",
       "  Bsmt Cond Bsmt Exposure BsmtFin Type 1  BsmtFin SF 1 BsmtFin Type 2  \\\n",
       "0        TA            No            Unf             0            Unf   \n",
       "1        TA            No            Unf             0            Unf   \n",
       "2        Gd            Av            GLQ           554            Unf   \n",
       "3        TA            No            Unf             0            Unf   \n",
       "4        TA            No            BLQ           609            Unf   \n",
       "\n",
       "   BsmtFin SF 2  Bsmt Unf SF  Total Bsmt SF Heating Heating QC Central Air  \\\n",
       "0             0         1020           1020    GasA         Gd           N   \n",
       "1             0         1967           1967    GasA         TA           Y   \n",
       "2             0          100            654    GasA         Ex           Y   \n",
       "3             0          968            968    GasA         TA           Y   \n",
       "4             0          785           1394    GasA         Gd           Y   \n",
       "\n",
       "  Electrical  1st Flr SF  2nd Flr SF  Low Qual Fin SF  Gr Liv Area  \\\n",
       "0      FuseP         908        1020                0         1928   \n",
       "1      SBrkr        1967           0                0         1967   \n",
       "2      SBrkr         664         832                0         1496   \n",
       "3      SBrkr         968           0                0          968   \n",
       "4      SBrkr        1394           0                0         1394   \n",
       "\n",
       "   Bsmt Full Bath  Bsmt Half Bath  Full Bath  Half Bath  Bedroom AbvGr  \\\n",
       "0               0               0          2          0              4   \n",
       "1               0               0          2          0              6   \n",
       "2               1               0          2          1              3   \n",
       "3               0               0          1          0              2   \n",
       "4               1               0          1          1              3   \n",
       "\n",
       "   Kitchen AbvGr Kitchen Qual  TotRms AbvGrd Functional  Fireplaces  \\\n",
       "0              2           Fa              9        Typ           0   \n",
       "1              2           TA             10        Typ           0   \n",
       "2              1           Gd              7        Typ           1   \n",
       "3              1           TA              5        Typ           0   \n",
       "4              1           TA              6        Typ           2   \n",
       "\n",
       "  Fireplace Qu Garage Type  Garage Yr Blt Garage Finish  Garage Cars  \\\n",
       "0          NaN      Detchd         1910.0           Unf            1   \n",
       "1          NaN      Attchd         1977.0           Fin            2   \n",
       "2           Gd      Attchd         2006.0           RFn            2   \n",
       "3          NaN      Detchd         1935.0           Unf            2   \n",
       "4           Gd      Attchd         1963.0           RFn            2   \n",
       "\n",
       "   Garage Area Garage Qual Garage Cond Paved Drive  Wood Deck SF  \\\n",
       "0          440          Po          Po           Y             0   \n",
       "1          580          TA          TA           Y           170   \n",
       "2          426          TA          TA           Y           100   \n",
       "3          480          Fa          TA           N             0   \n",
       "4          514          TA          TA           Y             0   \n",
       "\n",
       "   Open Porch SF  Enclosed Porch  3Ssn Porch  Screen Porch  Pool Area Pool QC  \\\n",
       "0             60             112           0             0          0     NaN   \n",
       "1              0               0           0             0          0     NaN   \n",
       "2             24               0           0             0          0     NaN   \n",
       "3              0             184           0             0          0     NaN   \n",
       "4             76               0           0           185          0     NaN   \n",
       "\n",
       "  Fence Misc Feature  Misc Val  Mo Sold  Yr Sold Sale Type  \n",
       "0   NaN          NaN         0        4     2006       WD   \n",
       "1   NaN          NaN         0        8     2006       WD   \n",
       "2   NaN          NaN         0        9     2006       New  \n",
       "3   NaN          NaN         0        7     2007       WD   \n",
       "4   NaN          NaN         0        7     2009       WD   "
      ]
     },
     "execution_count": 140,
     "metadata": {},
     "output_type": "execute_result"
    }
   ],
   "source": [
    "ames_kaggle.head()"
   ]
  },
  {
   "cell_type": "code",
   "execution_count": 141,
   "metadata": {},
   "outputs": [
    {
     "data": {
      "text/plain": [
       "(879, 80)"
      ]
     },
     "execution_count": 141,
     "metadata": {},
     "output_type": "execute_result"
    }
   ],
   "source": [
    "ames_kaggle.shape"
   ]
  },
  {
   "cell_type": "markdown",
   "metadata": {},
   "source": [
    "The test dataset has 879 rows and 1 less feature (`SalePrice`) than in the train dataset."
   ]
  },
  {
   "cell_type": "code",
   "execution_count": 142,
   "metadata": {
    "scrolled": true
   },
   "outputs": [
    {
     "name": "stdout",
     "output_type": "stream",
     "text": [
      "<class 'pandas.core.frame.DataFrame'>\n",
      "RangeIndex: 879 entries, 0 to 878\n",
      "Data columns (total 80 columns):\n",
      " #   Column           Non-Null Count  Dtype  \n",
      "---  ------           --------------  -----  \n",
      " 0   Id               879 non-null    int64  \n",
      " 1   PID              879 non-null    int64  \n",
      " 2   MS SubClass      879 non-null    int64  \n",
      " 3   MS Zoning        879 non-null    object \n",
      " 4   Lot Frontage     719 non-null    float64\n",
      " 5   Lot Area         879 non-null    int64  \n",
      " 6   Street           879 non-null    object \n",
      " 7   Alley            58 non-null     object \n",
      " 8   Lot Shape        879 non-null    object \n",
      " 9   Land Contour     879 non-null    object \n",
      " 10  Utilities        879 non-null    object \n",
      " 11  Lot Config       879 non-null    object \n",
      " 12  Land Slope       879 non-null    object \n",
      " 13  Neighborhood     879 non-null    object \n",
      " 14  Condition 1      879 non-null    object \n",
      " 15  Condition 2      879 non-null    object \n",
      " 16  Bldg Type        879 non-null    object \n",
      " 17  House Style      879 non-null    object \n",
      " 18  Overall Qual     879 non-null    int64  \n",
      " 19  Overall Cond     879 non-null    int64  \n",
      " 20  Year Built       879 non-null    int64  \n",
      " 21  Year Remod/Add   879 non-null    int64  \n",
      " 22  Roof Style       879 non-null    object \n",
      " 23  Roof Matl        879 non-null    object \n",
      " 24  Exterior 1st     879 non-null    object \n",
      " 25  Exterior 2nd     879 non-null    object \n",
      " 26  Mas Vnr Type     878 non-null    object \n",
      " 27  Mas Vnr Area     878 non-null    float64\n",
      " 28  Exter Qual       879 non-null    object \n",
      " 29  Exter Cond       879 non-null    object \n",
      " 30  Foundation       879 non-null    object \n",
      " 31  Bsmt Qual        854 non-null    object \n",
      " 32  Bsmt Cond        854 non-null    object \n",
      " 33  Bsmt Exposure    854 non-null    object \n",
      " 34  BsmtFin Type 1   854 non-null    object \n",
      " 35  BsmtFin SF 1     879 non-null    int64  \n",
      " 36  BsmtFin Type 2   854 non-null    object \n",
      " 37  BsmtFin SF 2     879 non-null    int64  \n",
      " 38  Bsmt Unf SF      879 non-null    int64  \n",
      " 39  Total Bsmt SF    879 non-null    int64  \n",
      " 40  Heating          879 non-null    object \n",
      " 41  Heating QC       879 non-null    object \n",
      " 42  Central Air      879 non-null    object \n",
      " 43  Electrical       878 non-null    object \n",
      " 44  1st Flr SF       879 non-null    int64  \n",
      " 45  2nd Flr SF       879 non-null    int64  \n",
      " 46  Low Qual Fin SF  879 non-null    int64  \n",
      " 47  Gr Liv Area      879 non-null    int64  \n",
      " 48  Bsmt Full Bath   879 non-null    int64  \n",
      " 49  Bsmt Half Bath   879 non-null    int64  \n",
      " 50  Full Bath        879 non-null    int64  \n",
      " 51  Half Bath        879 non-null    int64  \n",
      " 52  Bedroom AbvGr    879 non-null    int64  \n",
      " 53  Kitchen AbvGr    879 non-null    int64  \n",
      " 54  Kitchen Qual     879 non-null    object \n",
      " 55  TotRms AbvGrd    879 non-null    int64  \n",
      " 56  Functional       879 non-null    object \n",
      " 57  Fireplaces       879 non-null    int64  \n",
      " 58  Fireplace Qu     457 non-null    object \n",
      " 59  Garage Type      835 non-null    object \n",
      " 60  Garage Yr Blt    834 non-null    float64\n",
      " 61  Garage Finish    834 non-null    object \n",
      " 62  Garage Cars      879 non-null    int64  \n",
      " 63  Garage Area      879 non-null    int64  \n",
      " 64  Garage Qual      834 non-null    object \n",
      " 65  Garage Cond      834 non-null    object \n",
      " 66  Paved Drive      879 non-null    object \n",
      " 67  Wood Deck SF     879 non-null    int64  \n",
      " 68  Open Porch SF    879 non-null    int64  \n",
      " 69  Enclosed Porch   879 non-null    int64  \n",
      " 70  3Ssn Porch       879 non-null    int64  \n",
      " 71  Screen Porch     879 non-null    int64  \n",
      " 72  Pool Area        879 non-null    int64  \n",
      " 73  Pool QC          4 non-null      object \n",
      " 74  Fence            172 non-null    object \n",
      " 75  Misc Feature     41 non-null     object \n",
      " 76  Misc Val         879 non-null    int64  \n",
      " 77  Mo Sold          879 non-null    int64  \n",
      " 78  Yr Sold          879 non-null    int64  \n",
      " 79  Sale Type        879 non-null    object \n",
      "dtypes: float64(3), int64(35), object(42)\n",
      "memory usage: 549.5+ KB\n"
     ]
    }
   ],
   "source": [
    "# examine the dtypes, column names and number of null values\n",
    "\n",
    "ames_kaggle.info()"
   ]
  },
  {
   "cell_type": "code",
   "execution_count": 143,
   "metadata": {},
   "outputs": [],
   "source": [
    "# remove space from column names\n",
    "\n",
    "ames_kaggle.rename(columns=lambda col_name: col_name.replace(' ', ''), inplace=True)"
   ]
  },
  {
   "cell_type": "code",
   "execution_count": 144,
   "metadata": {},
   "outputs": [
    {
     "data": {
      "text/plain": [
       "PoolQC          875\n",
       "MiscFeature     838\n",
       "Alley           821\n",
       "Fence           707\n",
       "FireplaceQu     422\n",
       "LotFrontage     160\n",
       "GarageCond       45\n",
       "GarageQual       45\n",
       "GarageYrBlt      45\n",
       "GarageFinish     45\n",
       "GarageType       44\n",
       "BsmtExposure     25\n",
       "BsmtFinType1     25\n",
       "BsmtQual         25\n",
       "BsmtFinType2     25\n",
       "BsmtCond         25\n",
       "MasVnrArea        1\n",
       "MasVnrType        1\n",
       "Electrical        1\n",
       "dtype: int64"
      ]
     },
     "execution_count": 144,
     "metadata": {},
     "output_type": "execute_result"
    }
   ],
   "source": [
    "# show all features with null values\n",
    "\n",
    "ames_kaggle.isnull().sum().sort_values(ascending=False)[ames_kaggle.isnull().sum().sort_values(ascending=False) > 0]"
   ]
  },
  {
   "cell_type": "markdown",
   "metadata": {},
   "source": [
    "Majority of the columns with null values are the same as those in the train dataset. There is also the presence of a null value in `Electrical`, which the train dataset did not have."
   ]
  },
  {
   "cell_type": "markdown",
   "metadata": {},
   "source": [
    "# Data Cleaning"
   ]
  },
  {
   "cell_type": "markdown",
   "metadata": {},
   "source": [
    "## Null Value Imputation"
   ]
  },
  {
   "cell_type": "code",
   "execution_count": 145,
   "metadata": {},
   "outputs": [],
   "source": [
    "def fill_na(dataset, list_of_cols, value):\n",
    "    \"\"\"\n",
    "    Fills up null values in columns passed as a list with the specified value.\n",
    "    \"\"\"\n",
    "    for col_name in list_of_cols:\n",
    "        dataset[col_name].fillna(value, inplace=True)"
   ]
  },
  {
   "cell_type": "code",
   "execution_count": 146,
   "metadata": {},
   "outputs": [],
   "source": [
    "# fill categorical columns with 'None'\n",
    "\n",
    "fill_na(ames_kaggle, ['PoolQC', 'MiscFeature', 'Alley', 'Fence', 'FireplaceQu', \n",
    "                      'GarageFinish', 'GarageCond', 'GarageQual', 'GarageType', 'BsmtFinType1', \n",
    "                      'BsmtFinType2', 'BsmtCond', 'BsmtQual', 'MasVnrType'],\n",
    "                      'None')"
   ]
  },
  {
   "cell_type": "code",
   "execution_count": 147,
   "metadata": {},
   "outputs": [],
   "source": [
    "# fill BsmtExposure with 'No'\n",
    "\n",
    "fill_na(ames_kaggle, ['BsmtExposure'], 'No')"
   ]
  },
  {
   "cell_type": "code",
   "execution_count": 148,
   "metadata": {},
   "outputs": [],
   "source": [
    "# fill LotFrontage based on the median value for the neighborhood that the house is in\n",
    "\n",
    "ames_kaggle['LotFrontage'] = ames_kaggle['LotFrontage'].fillna(ames_kaggle.groupby('Neighborhood')['LotFrontage'].transform('median'))"
   ]
  },
  {
   "cell_type": "code",
   "execution_count": 149,
   "metadata": {},
   "outputs": [],
   "source": [
    "# we will impute the remainder with the overall mean value\n",
    "\n",
    "fill_na(ames_kaggle, ['LotFrontage'], ames_kaggle['LotFrontage'].mean())"
   ]
  },
  {
   "cell_type": "code",
   "execution_count": 150,
   "metadata": {},
   "outputs": [],
   "source": [
    "# fill GarageYrBlt with the same value from the YearBlt column. while the lack of GarageYrBlt indicates that there is\n",
    "# in fact no garage, we can reasonably impute with the YearBlt and assume that the two are correlated\n",
    "\n",
    "ames_kaggle['GarageYrBlt'] = ames_kaggle['GarageYrBlt'].fillna(ames_kaggle['YearBuilt'])"
   ]
  },
  {
   "cell_type": "code",
   "execution_count": 151,
   "metadata": {},
   "outputs": [],
   "source": [
    "# fill remaining numerical values with 0\n",
    "\n",
    "fill_na(ames_kaggle, ['MasVnrArea'], 0)"
   ]
  },
  {
   "cell_type": "code",
   "execution_count": 152,
   "metadata": {},
   "outputs": [],
   "source": [
    "# fill in final Electrical column with the mode\n",
    "\n",
    "fill_na(ames_kaggle, ['Electrical'], 'SBrkr')"
   ]
  },
  {
   "cell_type": "code",
   "execution_count": 153,
   "metadata": {},
   "outputs": [
    {
     "data": {
      "text/plain": [
       "0"
      ]
     },
     "execution_count": 153,
     "metadata": {},
     "output_type": "execute_result"
    }
   ],
   "source": [
    "# check that there are no more null values remaining in the dataset\n",
    "\n",
    "ames_kaggle.isnull().sum().sum()"
   ]
  },
  {
   "cell_type": "markdown",
   "metadata": {},
   "source": [
    "## Feature Engineering"
   ]
  },
  {
   "cell_type": "code",
   "execution_count": 154,
   "metadata": {},
   "outputs": [],
   "source": [
    "# combine YrSold and YearBuilt to get HouseAge\n",
    "\n",
    "ames_kaggle['HouseAge'] = ames_kaggle['YrSold'] - ames_kaggle['YearBuilt']\n",
    "\n",
    "# it is likely that the price of the house sold is related to the age of the house itself"
   ]
  },
  {
   "cell_type": "code",
   "execution_count": 155,
   "metadata": {},
   "outputs": [],
   "source": [
    "# combine YrSold and YearRemod/Add to get RemodYears\n",
    "\n",
    "ames_kaggle['RemodYears'] = ames_kaggle['YrSold'] - ames_kaggle['YearRemod/Add']\n",
    "\n",
    "# the time since the last remodelling date may have an impact on the overall feel/look of the house"
   ]
  },
  {
   "cell_type": "code",
   "execution_count": 156,
   "metadata": {},
   "outputs": [],
   "source": [
    "# combine TotalBsmtSF and GrLivArea to get TotalLivArea\n",
    "\n",
    "ames_kaggle['TotalLivArea'] = ames_kaggle['TotalBsmtSF'] + ames_kaggle['GrLivArea']\n",
    "\n",
    "# this is a measure of the total living area, above and under ground"
   ]
  },
  {
   "cell_type": "code",
   "execution_count": 157,
   "metadata": {},
   "outputs": [],
   "source": [
    "# combine YrSold and GarageYrBlt to get GarageAge\n",
    "\n",
    "ames_kaggle['GarageAge'] = ames_kaggle['YrSold'] - ames_kaggle['GarageYrBlt']\n",
    "\n",
    "# similar to HouseAge, this is the age of the garage itself (or assuming if there were a garage)"
   ]
  },
  {
   "cell_type": "code",
   "execution_count": 158,
   "metadata": {},
   "outputs": [],
   "source": [
    "# obtain a squared feature for OverallQual\n",
    "\n",
    "ames_kaggle['OverallQualSquared'] = ames_kaggle['OverallQual'] ** 2"
   ]
  },
  {
   "cell_type": "code",
   "execution_count": 159,
   "metadata": {},
   "outputs": [],
   "source": [
    "# define a function to encode all ordinal categorical features that are not numerical\n",
    "# function encodes 21 out of the original 23 ordinal categorical features\n",
    "\n",
    "def encode_ordinal_features(dataframe):\n",
    "    \"\"\"\n",
    "    Encodes all ordinal categorical features (non-numeric) into numerical features for the Ames housing dataset.\n",
    "    \"\"\"\n",
    "    dataframe['LotShape'] = dataframe['LotShape'].map({'Reg': 3, 'IR1': 2, 'IR2': 1, 'IR3': 0})\n",
    "    dataframe['Utilities'] = dataframe['Utilities'].map({'AllPub': 3, 'NoSewr': 2, 'NoSeWa': 1, 'ELO': 0})\n",
    "    dataframe['LandSlope'] = dataframe['LandSlope'].map({'Gtl': 2, 'Mod': 1, 'Sev': 0})\n",
    "    dataframe['ExterQual'] = dataframe['ExterQual'].map({'Ex': 4, 'Gd': 3, 'TA': 2, 'Fa': 1, 'Po': 0})\n",
    "    dataframe['ExterCond'] = dataframe['ExterCond'].map({'Ex': 4, 'Gd': 3, 'TA': 2, 'Fa': 1, 'Po': 0})\n",
    "    dataframe['BsmtQual'] = dataframe['BsmtQual'].map({'Ex': 5, 'Gd': 4, 'TA': 3, 'Fa': 2, 'Po': 1, 'None': 0})\n",
    "    dataframe['BsmtCond'] = dataframe['BsmtCond'].map({'Ex': 5, 'Gd': 4, 'TA': 3, 'Fa': 2, 'Po': 1, 'None': 0})                                                    \n",
    "    dataframe['BsmtExposure'] = dataframe['BsmtExposure'].map({'Gd': 3, 'Av': 2, 'Mn': 1, 'No': 0})\n",
    "    dataframe['BsmtFinType1'] = dataframe['BsmtFinType1'].map({'GLQ': 6, 'ALQ': 5, 'BLQ': 4, 'Rec': 3, 'LwQ': 2, 'Unf': 1, 'None': 0})\n",
    "    dataframe['BsmtFinType2'] = dataframe['BsmtFinType2'].map({'GLQ': 6, 'ALQ': 5, 'BLQ': 4, 'Rec': 3, 'LwQ': 2, 'Unf': 1, 'None': 0})                                                    \n",
    "    dataframe['HeatingQC'] = dataframe['HeatingQC'].map({'Ex': 4, 'Gd': 3, 'TA': 2, 'Fa': 1, 'Po': 0})\n",
    "    dataframe['KitchenQual'] = dataframe['KitchenQual'].map({'Ex': 4, 'Gd': 3, 'TA': 2, 'Fa': 1, 'Po': 0})\n",
    "    dataframe['FireplaceQu'] = dataframe['FireplaceQu'].map({'Ex': 5, 'Gd': 4, 'TA': 3, 'Fa': 2, 'Po': 1, 'None': 0})\n",
    "    dataframe['GarageFinish'] = dataframe['GarageFinish'].map({'Fin': 3, 'RFn':2, 'Unf':1, 'None':0})\n",
    "    dataframe['GarageQual'] = dataframe['GarageQual'].map({'Ex': 5, 'Gd': 4, 'TA': 3, 'Fa': 2, 'Po': 1, 'None': 0})\n",
    "    dataframe['GarageCond'] = dataframe['GarageCond'].map({'Ex': 5, 'Gd': 4, 'TA': 3, 'Fa': 2, 'Po': 1, 'None': 0})                                                        \n",
    "    dataframe['Electrical'] = dataframe['Electrical'].map({'SBrkr': 4, 'FuseA': 3, 'FuseF': 2, 'FuseP': 1, 'Mix': 0})\n",
    "    dataframe['Functional'] = dataframe['Functional'].map({'Typ': 7, 'Min1': 6, 'Min2': 5, 'Mod': 4, 'Maj1': 3, 'Maj2': 2, 'Sev': 1, 'Sal': 0})\n",
    "    dataframe['PavedDrive'] = dataframe['PavedDrive'].map({'Y': 2, 'P': 1, 'N': 0})\n",
    "    dataframe['PoolQC'] = dataframe['PoolQC'].map({'Ex': 4, 'Gd': 3, 'TA': 2, 'Fa': 1, 'None': 0})\n",
    "    dataframe['Fence'] = dataframe['Fence'].map({'GdPrv': 4, 'MnPrv': 3, 'GdWo': 2, 'MnWw': 1, 'None': 0})    "
   ]
  },
  {
   "cell_type": "code",
   "execution_count": 160,
   "metadata": {},
   "outputs": [],
   "source": [
    "# perform encoding of ordinal features using function\n",
    "\n",
    "encode_ordinal_features(ames_kaggle)"
   ]
  },
  {
   "cell_type": "code",
   "execution_count": 161,
   "metadata": {},
   "outputs": [
    {
     "data": {
      "text/plain": [
       "Id                      int64\n",
       "PID                     int64\n",
       "MSSubClass              int64\n",
       "MSZoning               object\n",
       "LotFrontage           float64\n",
       "LotArea                 int64\n",
       "Street                 object\n",
       "Alley                  object\n",
       "LotShape                int64\n",
       "LandContour            object\n",
       "Utilities               int64\n",
       "LotConfig              object\n",
       "LandSlope               int64\n",
       "Neighborhood           object\n",
       "Condition1             object\n",
       "Condition2             object\n",
       "BldgType               object\n",
       "HouseStyle             object\n",
       "OverallQual             int64\n",
       "OverallCond             int64\n",
       "YearBuilt               int64\n",
       "YearRemod/Add           int64\n",
       "RoofStyle              object\n",
       "RoofMatl               object\n",
       "Exterior1st            object\n",
       "Exterior2nd            object\n",
       "MasVnrType             object\n",
       "MasVnrArea            float64\n",
       "ExterQual               int64\n",
       "ExterCond               int64\n",
       "Foundation             object\n",
       "BsmtQual                int64\n",
       "BsmtCond                int64\n",
       "BsmtExposure            int64\n",
       "BsmtFinType1            int64\n",
       "BsmtFinSF1              int64\n",
       "BsmtFinType2            int64\n",
       "BsmtFinSF2              int64\n",
       "BsmtUnfSF               int64\n",
       "TotalBsmtSF             int64\n",
       "Heating                object\n",
       "HeatingQC               int64\n",
       "CentralAir             object\n",
       "Electrical              int64\n",
       "1stFlrSF                int64\n",
       "2ndFlrSF                int64\n",
       "LowQualFinSF            int64\n",
       "GrLivArea               int64\n",
       "BsmtFullBath            int64\n",
       "BsmtHalfBath            int64\n",
       "FullBath                int64\n",
       "HalfBath                int64\n",
       "BedroomAbvGr            int64\n",
       "KitchenAbvGr            int64\n",
       "KitchenQual             int64\n",
       "TotRmsAbvGrd            int64\n",
       "Functional              int64\n",
       "Fireplaces              int64\n",
       "FireplaceQu             int64\n",
       "GarageType             object\n",
       "GarageYrBlt           float64\n",
       "GarageFinish            int64\n",
       "GarageCars              int64\n",
       "GarageArea              int64\n",
       "GarageQual              int64\n",
       "GarageCond              int64\n",
       "PavedDrive              int64\n",
       "WoodDeckSF              int64\n",
       "OpenPorchSF             int64\n",
       "EnclosedPorch           int64\n",
       "3SsnPorch               int64\n",
       "ScreenPorch             int64\n",
       "PoolArea                int64\n",
       "PoolQC                  int64\n",
       "Fence                   int64\n",
       "MiscFeature            object\n",
       "MiscVal                 int64\n",
       "MoSold                  int64\n",
       "YrSold                  int64\n",
       "SaleType               object\n",
       "HouseAge                int64\n",
       "RemodYears              int64\n",
       "TotalLivArea            int64\n",
       "GarageAge             float64\n",
       "OverallQualSquared      int64\n",
       "dtype: object"
      ]
     },
     "execution_count": 161,
     "metadata": {},
     "output_type": "execute_result"
    }
   ],
   "source": [
    "# check dtypes of dataset again\n",
    "\n",
    "ames_kaggle.dtypes"
   ]
  },
  {
   "cell_type": "markdown",
   "metadata": {},
   "source": [
    "## Pre-processing"
   ]
  },
  {
   "cell_type": "markdown",
   "metadata": {},
   "source": [
    "### One Hot Encoding"
   ]
  },
  {
   "cell_type": "code",
   "execution_count": 162,
   "metadata": {},
   "outputs": [],
   "source": [
    "# select the relevant variables from our dataset\n",
    "\n",
    "final_selected_features = ['MSSubClass', 'MSZoning', 'Neighborhood', 'Condition1', 'HouseStyle', 'Exterior1st',\n",
    "                           'Exterior2nd', 'MasVnrType', 'Foundation', 'GarageType', 'OverallQualSquared',\n",
    "                           'TotalLivArea', 'ExterQual', 'KitchenQual', 'GarageArea', '1stFlrSF', 'BsmtQual',\n",
    "                           'HouseAge', 'GarageFinish', 'RemodYears', 'FireplaceQu', 'FullBath', 'MasVnrArea', \n",
    "                           'TotRmsAbvGrd']\n",
    "\n",
    "ames_kaggle = ames_kaggle[final_selected_features]"
   ]
  },
  {
   "cell_type": "code",
   "execution_count": 163,
   "metadata": {},
   "outputs": [],
   "source": [
    "# create our dummy variables using pd.get_dummies()\n",
    "\n",
    "ames_kaggle = pd.get_dummies(ames_kaggle, drop_first=True)"
   ]
  },
  {
   "cell_type": "code",
   "execution_count": 164,
   "metadata": {},
   "outputs": [
    {
     "data": {
      "text/plain": [
       "(879, 102)"
      ]
     },
     "execution_count": 164,
     "metadata": {},
     "output_type": "execute_result"
    }
   ],
   "source": [
    "# check the shape of ames_kaggle\n",
    "\n",
    "ames_kaggle.shape"
   ]
  },
  {
   "cell_type": "markdown",
   "metadata": {},
   "source": [
    "### Align train and test columns"
   ]
  },
  {
   "cell_type": "markdown",
   "metadata": {},
   "source": [
    "As we are using the same production model that was trained on the training set to perform our predictions, we would need to ensure that the features in the test set (including any dummy variables) are aligned with the earlier training set as well."
   ]
  },
  {
   "cell_type": "code",
   "execution_count": 165,
   "metadata": {},
   "outputs": [],
   "source": [
    "# read cleaned .csv file from previous notebook\n",
    "\n",
    "ames = pd.read_csv('../datasets/cleaned.csv')"
   ]
  },
  {
   "cell_type": "code",
   "execution_count": 166,
   "metadata": {},
   "outputs": [],
   "source": [
    "# create X and y variables from earlier dataset\n",
    "\n",
    "X = ames.drop(columns=['SalePrice'], axis=1)\n",
    "y = ames['SalePrice']"
   ]
  },
  {
   "cell_type": "code",
   "execution_count": 167,
   "metadata": {},
   "outputs": [
    {
     "name": "stdout",
     "output_type": "stream",
     "text": [
      "Shape of features matrix X: (2049, 119)\n",
      "Shape of target vector y: (2049,)\n"
     ]
    }
   ],
   "source": [
    "# check shape of X, y\n",
    "\n",
    "print(f'Shape of features matrix X: {X.shape}')\n",
    "print(f'Shape of target vector y: {y.shape}')"
   ]
  },
  {
   "cell_type": "code",
   "execution_count": 168,
   "metadata": {},
   "outputs": [],
   "source": [
    "# populate all columns from both datasets and fill in any extra columns created with 0\n",
    "\n",
    "ames_kaggle, _ = ames_kaggle.align(X, join='outer', axis=1, fill_value=0)"
   ]
  },
  {
   "cell_type": "code",
   "execution_count": 169,
   "metadata": {},
   "outputs": [
    {
     "data": {
      "text/plain": [
       "(879, 124)"
      ]
     },
     "execution_count": 169,
     "metadata": {},
     "output_type": "execute_result"
    }
   ],
   "source": [
    "# check the shape of ames_kaggle\n",
    "\n",
    "ames_kaggle.shape"
   ]
  },
  {
   "cell_type": "code",
   "execution_count": 170,
   "metadata": {},
   "outputs": [],
   "source": [
    "# we filter only the features that were obtained from RFE\n",
    "\n",
    "rfe_features = ['TotalLivArea', 'OverallQualSquared', 'KitchenQual',\n",
    "                'MSSubClass_120', 'Neighborhood_StoneBr', 'GarageArea',\n",
    "                'Neighborhood_NridgHt', 'MasVnrArea', 'ExterQual', 'RemodYears',\n",
    "                'Neighborhood_NoRidge', 'Neighborhood_Crawfor', 'HouseAge',\n",
    "                'FireplaceQu', 'MSSubClass_160', 'MSSubClass_60',\n",
    "                'Foundation_Slab', '1stFlrSF', 'Neighborhood_GrnHill', 'BsmtQual',\n",
    "                'Exterior1st_BrkFace', 'MasVnrType_BrkFace',\n",
    "                'Neighborhood_ClearCr', 'Exterior1st_CemntBd',\n",
    "                'Neighborhood_OldTown', 'MSSubClass_90', 'MSSubClass_75',\n",
    "                'GarageFinish', 'Exterior1st_MetalSd', 'GarageType_None']\n",
    "\n",
    "X_kaggle = ames_kaggle[rfe_features]"
   ]
  },
  {
   "cell_type": "markdown",
   "metadata": {},
   "source": [
    "# Obtain Test Predictions"
   ]
  },
  {
   "cell_type": "code",
   "execution_count": 171,
   "metadata": {},
   "outputs": [],
   "source": [
    "# load our scaler from disk\n",
    "\n",
    "ss = pickle.load(open('./productionscaler.sav', 'rb'))"
   ]
  },
  {
   "cell_type": "code",
   "execution_count": 172,
   "metadata": {},
   "outputs": [],
   "source": [
    "# load our model from disk\n",
    "\n",
    "final_lasso_full = pickle.load(open('./productionmodel.sav', 'rb'))"
   ]
  },
  {
   "cell_type": "code",
   "execution_count": 173,
   "metadata": {},
   "outputs": [],
   "source": [
    "# scale X data\n",
    "\n",
    "X_kaggle_scaled = ss.transform(X_kaggle)"
   ]
  },
  {
   "cell_type": "code",
   "execution_count": 174,
   "metadata": {},
   "outputs": [],
   "source": [
    "# obtain test predictions\n",
    "\n",
    "predictions = final_lasso_full.predict(X_kaggle_scaled)"
   ]
  },
  {
   "cell_type": "code",
   "execution_count": 175,
   "metadata": {},
   "outputs": [],
   "source": [
    "# create new dataframe with Id column and SalePrice\n",
    "\n",
    "submission = pd.DataFrame(data={'Id': id_col, 'SalePrice': predictions})\n",
    "submission.set_index('Id', inplace=True)"
   ]
  },
  {
   "cell_type": "code",
   "execution_count": 177,
   "metadata": {},
   "outputs": [],
   "source": [
    "# export submission dataframe to a csv file\n",
    "\n",
    "submission.to_csv('../datasets/submission.csv')"
   ]
  },
  {
   "cell_type": "markdown",
   "metadata": {},
   "source": [
    "# Scoring of Test Predictions"
   ]
  },
  {
   "cell_type": "markdown",
   "metadata": {},
   "source": [
    "Our Kaggle submission obtained a RMSE value of $32840.68904$ on the private dataset and $33106.44165$ on the public dataset. This was worse performing than what our model had obtained for the test split in the training dataset - $25317.1156$.\n",
    "\n",
    "One plausible explanation is that the Kaggle dataset contained a large proportion of houses that were priced in the higher ranges - more than 200k - which resulted in our model performing worse than expected."
   ]
  },
  {
   "cell_type": "markdown",
   "metadata": {},
   "source": [
    "![Kaggle Score](../images/kagglescore.png)"
   ]
  },
  {
   "cell_type": "code",
   "execution_count": null,
   "metadata": {},
   "outputs": [],
   "source": []
  }
 ],
 "metadata": {
  "kernelspec": {
   "display_name": "Python 3",
   "language": "python",
   "name": "python3"
  },
  "language_info": {
   "codemirror_mode": {
    "name": "ipython",
    "version": 3
   },
   "file_extension": ".py",
   "mimetype": "text/x-python",
   "name": "python",
   "nbconvert_exporter": "python",
   "pygments_lexer": "ipython3",
   "version": "3.8.3"
  },
  "toc": {
   "base_numbering": 1,
   "nav_menu": {},
   "number_sections": true,
   "sideBar": false,
   "skip_h1_title": false,
   "title_cell": "Table of Contents",
   "title_sidebar": "Contents",
   "toc_cell": false,
   "toc_position": {
    "height": "757px",
    "left": "26px",
    "top": "110px",
    "width": "384px"
   },
   "toc_section_display": true,
   "toc_window_display": true
  }
 },
 "nbformat": 4,
 "nbformat_minor": 4
}
