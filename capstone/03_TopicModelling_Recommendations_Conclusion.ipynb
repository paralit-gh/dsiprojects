{
 "cells": [
  {
   "cell_type": "markdown",
   "id": "given-million",
   "metadata": {},
   "source": [
    "# Libraries and Imports"
   ]
  },
  {
   "cell_type": "code",
   "execution_count": 1,
   "id": "acknowledged-engineer",
   "metadata": {
    "ExecuteTime": {
     "end_time": "2021-01-27T03:38:29.445836Z",
     "start_time": "2021-01-27T03:38:25.080742Z"
    }
   },
   "outputs": [],
   "source": [
    "# import relevant libraries and modules\n",
    "import pandas as pd\n",
    "import numpy as np\n",
    "import seaborn as sns\n",
    "import matplotlib.pyplot as plt\n",
    "from datetime import datetime\n",
    "\n",
    "# preprocessing modules\n",
    "from sklearn.feature_extraction.text import CountVectorizer, TfidfVectorizer, ENGLISH_STOP_WORDS\n",
    "from nltk.stem import WordNetLemmatizer\n",
    "from nltk.tokenize import RegexpTokenizer\n",
    "from nltk.stem.porter import PorterStemmer\n",
    "from nltk.corpus import stopwords as nltk_stopwords, wordnet\n",
    "from nltk import pos_tag, word_tokenize\n",
    "import regex as re\n",
    "\n",
    "# lda\n",
    "import gensim, spacy, logging, warnings\n",
    "import gensim.corpora as corpora\n",
    "from gensim.utils import lemmatize, simple_preprocess\n",
    "from gensim.models import CoherenceModel\n",
    "import pyLDAvis\n",
    "import pyLDAvis.gensim\n",
    "\n",
    "# machine learning libraries and modules\n",
    "from sklearn.feature_extraction.text import CountVectorizer, TfidfVectorizer\n",
    "from sklearn.model_selection import train_test_split, cross_val_score, GridSearchCV\n",
    "from sklearn.linear_model import LogisticRegression, SGDClassifier\n",
    "from sklearn.naive_bayes import MultinomialNB\n",
    "from sklearn.ensemble import RandomForestClassifier\n",
    "from sklearn.svm import SVC\n",
    "from sklearn.metrics import confusion_matrix, plot_confusion_matrix, roc_auc_score, plot_roc_curve, ConfusionMatrixDisplay, accuracy_score, f1_score, classification_report, balanced_accuracy_score\n",
    "from imblearn.over_sampling import SMOTE, RandomOverSampler\n",
    "from imblearn.under_sampling import RandomUnderSampler\n",
    "from imblearn.combine import SMOTETomek\n",
    "from imblearn.pipeline import Pipeline\n",
    "\n",
    "# others\n",
    "import warnings\n",
    "warnings.filterwarnings(\"ignore\", category=DeprecationWarning)"
   ]
  },
  {
   "cell_type": "markdown",
   "id": "approximate-brief",
   "metadata": {},
   "source": [
    "# Read in Datasets"
   ]
  },
  {
   "cell_type": "code",
   "execution_count": 2,
   "id": "following-consent",
   "metadata": {
    "ExecuteTime": {
     "end_time": "2021-01-27T03:38:35.094481Z",
     "start_time": "2021-01-27T03:38:29.446824Z"
    }
   },
   "outputs": [],
   "source": [
    "# read in lemmatized datasets\n",
    "\n",
    "pubg_ml = pd.read_csv('datasets/pubgcleaned.csv')\n",
    "cyberpunk_ml = pd.read_csv('datasets/cyberpunkcleaned.csv')\n",
    "fallguys_ml = pd.read_csv('datasets/fallguyscleaned.csv')"
   ]
  },
  {
   "cell_type": "code",
   "execution_count": 3,
   "id": "simplified-dutch",
   "metadata": {
    "ExecuteTime": {
     "end_time": "2021-01-27T03:38:35.100256Z",
     "start_time": "2021-01-27T03:38:35.096318Z"
    }
   },
   "outputs": [],
   "source": [
    "# create dictionary of dataframes and names\n",
    "\n",
    "dfs_ml = {\"PlayerUnknown's Battlegrounds\": pubg_ml, \n",
    "          \"Cyberpunk 2077\": cyberpunk_ml, \n",
    "          \"Fall Guys\": fallguys_ml\n",
    "         }"
   ]
  },
  {
   "cell_type": "markdown",
   "id": "streaming-convergence",
   "metadata": {},
   "source": [
    "# Latent Dirichlet Allocation"
   ]
  },
  {
   "cell_type": "markdown",
   "id": "contemporary-writing",
   "metadata": {},
   "source": [
    "Latent Dirichlet Allocation (LDA) is an unsupervised machine learning algorithm that takes in a corpus of documents as input and returns a list of imaginary 'topics' as the output, where each of the topics represents a set of words. In essence, each document comprises a distribution of topics, and each topic comprises a distribution of representative words.\n",
    "\n",
    "Ideally, by performing LDA on our set of reviews, we would be able to further distill some of the main gameplay aspects/themes that players favour, or tend to have grievances/complaints. This would allow the game developers to better grasp the positive points that should be replicated in future games, as well as identify negative aspects or weaknesses in the games that need to be quickly addressed to retain their current player base.\n",
    "\n",
    "As such, we will attempt to segregate the topic modelling by positive/negative reviews for each game, as we expect different topics to emerge from these two classes of reviews. For each topic, as part of the LDAvis visualization, we will also use the suggested optimal value of $\\lambda = 0.6$ to rank the terms in accordance to their topic relevance, and to try deciphering the main gist of each topic by examining the representative words."
   ]
  },
  {
   "cell_type": "markdown",
   "id": "olympic-newark",
   "metadata": {},
   "source": [
    "## PUBG"
   ]
  },
  {
   "cell_type": "markdown",
   "id": "historical-controversy",
   "metadata": {},
   "source": [
    "### Positive"
   ]
  },
  {
   "cell_type": "code",
   "execution_count": 4,
   "id": "reduced-dominican",
   "metadata": {
    "ExecuteTime": {
     "end_time": "2021-01-27T03:38:35.110083Z",
     "start_time": "2021-01-27T03:38:35.102251Z"
    }
   },
   "outputs": [],
   "source": [
    "def build_bigrams_trigrams(sentiment, df):\n",
    "    \n",
    "    \"\"\"\n",
    "    Build bigrams and trigrams based on a particular sentiment from the lemmatized text of a dataset and returns\n",
    "    the processed text.\n",
    "    \"\"\"\n",
    "    \n",
    "    df_lda_text = df[df['label'] == sentiment]['lemmed_text']\n",
    "    df_lda_text_split = [text.split() for text in df_lda_text]\n",
    "    \n",
    "    # create phrases object to learn bigrams and trigrams. trigrams will also be made out of the bigrams\n",
    "    # higher the min_count and threshold, fewer phrases\n",
    "    bigram = gensim.models.Phrases(df_lda_text_split, min_count=5, threshold=100) # higher threshold, fewer phrases\n",
    "    trigram = gensim.models.Phrases(bigram[df_lda_text_split], min_count=3, threshold=100)\n",
    "\n",
    "    # process bigrams and trigrams\n",
    "    bigram_mod = gensim.models.phrases.Phraser(bigram)\n",
    "    trigram_mod = gensim.models.phrases.Phraser(trigram)\n",
    "    \n",
    "    # process text to generate bigrams and trigrams\n",
    "    processed_text = [trigram_mod[bigram_mod[text]] for text in df_lda_text_split]\n",
    "    \n",
    "    # create dictionary\n",
    "    id2word = corpora.Dictionary(processed_text)\n",
    "\n",
    "    # create corpus: term document frequency\n",
    "    corpus = [id2word.doc2bow(text) for text in processed_text]\n",
    "    \n",
    "    return processed_text, id2word, corpus"
   ]
  },
  {
   "cell_type": "code",
   "execution_count": 5,
   "id": "third-struggle",
   "metadata": {
    "ExecuteTime": {
     "end_time": "2021-01-27T03:39:23.400776Z",
     "start_time": "2021-01-27T03:38:35.111082Z"
    }
   },
   "outputs": [],
   "source": [
    "pubg_pos_processed_text, pubg_pos_id2word, pubg_pos_corpus = build_bigrams_trigrams(1, pubg_ml)"
   ]
  },
  {
   "cell_type": "code",
   "execution_count": 6,
   "id": "abstract-specification",
   "metadata": {
    "ExecuteTime": {
     "end_time": "2021-01-27T03:42:47.344166Z",
     "start_time": "2021-01-27T03:39:23.401745Z"
    }
   },
   "outputs": [],
   "source": [
    "# build LDA model\n",
    "\n",
    "pubg_pos_lda_model = gensim.models.ldamodel.LdaModel(corpus=pubg_pos_corpus,\n",
    "                                                     id2word=pubg_pos_id2word,\n",
    "                                                     num_topics=3, \n",
    "                                                     random_state=42,\n",
    "                                                     update_every=1,\n",
    "                                                     chunksize=100,\n",
    "                                                     passes=10,\n",
    "                                                     alpha='auto',\n",
    "                                                     iterations=100,\n",
    "                                                     per_word_topics=True)"
   ]
  },
  {
   "cell_type": "code",
   "execution_count": 7,
   "id": "pacific-clearing",
   "metadata": {
    "ExecuteTime": {
     "end_time": "2021-01-27T03:42:47.352851Z",
     "start_time": "2021-01-27T03:42:47.345869Z"
    }
   },
   "outputs": [],
   "source": [
    "# define function to show each document, the dominant topic, topic contribution and text\n",
    "\n",
    "def format_topics_sentences(ldamodel, corpus, texts):\n",
    "    \n",
    "    # initialize output\n",
    "    sent_topics_df = pd.DataFrame()\n",
    "\n",
    "    # get main topic in each document\n",
    "    for i, row_list in enumerate(ldamodel[corpus]):\n",
    "        \n",
    "        row = row_list[0] if ldamodel.per_word_topics else row_list            \n",
    "        row = sorted(row, key=lambda x: (x[1]), reverse=True)\n",
    "        \n",
    "        # get the dominant topic, topic perc contribution and keywords for each document\n",
    "        for j, (topic_num, prop_topic) in enumerate(row):\n",
    "            \n",
    "            if j == 0:  \n",
    "                wp = ldamodel.show_topic(topic_num)\n",
    "                topic_keywords = \", \".join([word for word, prop in wp])\n",
    "                sent_topics_df = sent_topics_df.append(pd.Series([int(topic_num), round(prop_topic,4), topic_keywords]), ignore_index=True)\n",
    "                \n",
    "            else:\n",
    "                break\n",
    "                \n",
    "    sent_topics_df.columns = ['Dominant_Topic', 'Percentage_Contribution', 'Topic_Keywords']\n",
    "\n",
    "    # add original text to the end of the output\n",
    "    contents = pd.Series(texts)\n",
    "    sent_topics_df = pd.concat([sent_topics_df, contents], axis=1)\n",
    "    \n",
    "    return(sent_topics_df)"
   ]
  },
  {
   "cell_type": "code",
   "execution_count": 8,
   "id": "banned-comparison",
   "metadata": {
    "ExecuteTime": {
     "end_time": "2021-01-27T03:42:47.358837Z",
     "start_time": "2021-01-27T03:42:47.354849Z"
    }
   },
   "outputs": [],
   "source": [
    "# put together in a dataframe and show documents and their topics for the dataset\n",
    "\n",
    "def display_dominant_topics(ldamodel, corpus, texts, number_of_rows=10):\n",
    "\n",
    "    df_topic_sents_keywords = format_topics_sentences(ldamodel=ldamodel, corpus=corpus, texts=texts)\n",
    "\n",
    "    # formatting\n",
    "    df_dominant_topic = df_topic_sents_keywords.reset_index()\n",
    "    df_dominant_topic.columns = ['Document_No', 'Dominant_Topic', 'Percentage_Contribution', 'Keywords', 'Text']\n",
    "    display(df_dominant_topic.head(number_of_rows))"
   ]
  },
  {
   "cell_type": "code",
   "execution_count": 9,
   "id": "severe-publication",
   "metadata": {
    "ExecuteTime": {
     "end_time": "2021-01-27T03:46:39.361021Z",
     "start_time": "2021-01-27T03:42:47.360830Z"
    }
   },
   "outputs": [
    {
     "data": {
      "text/html": [
       "<div>\n",
       "<style scoped>\n",
       "    .dataframe tbody tr th:only-of-type {\n",
       "        vertical-align: middle;\n",
       "    }\n",
       "\n",
       "    .dataframe tbody tr th {\n",
       "        vertical-align: top;\n",
       "    }\n",
       "\n",
       "    .dataframe thead th {\n",
       "        text-align: right;\n",
       "    }\n",
       "</style>\n",
       "<table border=\"1\" class=\"dataframe\">\n",
       "  <thead>\n",
       "    <tr style=\"text-align: right;\">\n",
       "      <th></th>\n",
       "      <th>Document_No</th>\n",
       "      <th>Dominant_Topic</th>\n",
       "      <th>Percentage_Contribution</th>\n",
       "      <th>Keywords</th>\n",
       "      <th>Text</th>\n",
       "    </tr>\n",
       "  </thead>\n",
       "  <tbody>\n",
       "    <tr>\n",
       "      <th>0</th>\n",
       "      <td>0</td>\n",
       "      <td>0.0</td>\n",
       "      <td>0.7137</td>\n",
       "      <td>game, play, get, well, like, fun, good, h1z1, ...</td>\n",
       "      <td>[great, game, always, fun, play, run, much, we...</td>\n",
       "    </tr>\n",
       "    <tr>\n",
       "      <th>1</th>\n",
       "      <td>1</td>\n",
       "      <td>1.0</td>\n",
       "      <td>0.4887</td>\n",
       "      <td>player, server, fix, update, weapon, not, map,...</td>\n",
       "      <td>[fun, way, test, reaction, eye, sight, strateg...</td>\n",
       "    </tr>\n",
       "    <tr>\n",
       "      <th>2</th>\n",
       "      <td>2</td>\n",
       "      <td>0.0</td>\n",
       "      <td>0.5001</td>\n",
       "      <td>game, play, get, well, like, fun, good, h1z1, ...</td>\n",
       "      <td>[only, battle, royale, thats, actual, gun, ski...</td>\n",
       "    </tr>\n",
       "    <tr>\n",
       "      <th>3</th>\n",
       "      <td>3</td>\n",
       "      <td>0.0</td>\n",
       "      <td>0.7028</td>\n",
       "      <td>game, play, get, well, like, fun, good, h1z1, ...</td>\n",
       "      <td>[chicken_dinner, more, like, broke, fight, pie...</td>\n",
       "    </tr>\n",
       "    <tr>\n",
       "      <th>4</th>\n",
       "      <td>4</td>\n",
       "      <td>0.0</td>\n",
       "      <td>0.6975</td>\n",
       "      <td>game, play, get, well, like, fun, good, h1z1, ...</td>\n",
       "      <td>[one, best, game, game, good, not, even, dead,...</td>\n",
       "    </tr>\n",
       "    <tr>\n",
       "      <th>5</th>\n",
       "      <td>5</td>\n",
       "      <td>0.0</td>\n",
       "      <td>0.6263</td>\n",
       "      <td>game, play, get, well, like, fun, good, h1z1, ...</td>\n",
       "      <td>[best, battle, royale, game, ever, yes, player...</td>\n",
       "    </tr>\n",
       "    <tr>\n",
       "      <th>6</th>\n",
       "      <td>6</td>\n",
       "      <td>1.0</td>\n",
       "      <td>0.5035</td>\n",
       "      <td>player, server, fix, update, weapon, not, map,...</td>\n",
       "      <td>[survival, element, pick, experiment, weapon, ...</td>\n",
       "    </tr>\n",
       "    <tr>\n",
       "      <th>7</th>\n",
       "      <td>7</td>\n",
       "      <td>2.0</td>\n",
       "      <td>0.3847</td>\n",
       "      <td>10, get, kill, 1, 3, 5, car, 2, die, 4</td>\n",
       "      <td>[night, hear, 'em, talk, coldest, story, ever,...</td>\n",
       "    </tr>\n",
       "    <tr>\n",
       "      <th>8</th>\n",
       "      <td>8</td>\n",
       "      <td>0.0</td>\n",
       "      <td>0.8496</td>\n",
       "      <td>game, play, get, well, like, fun, good, h1z1, ...</td>\n",
       "      <td>[i'm, only, make, review, positive, respect, g...</td>\n",
       "    </tr>\n",
       "    <tr>\n",
       "      <th>9</th>\n",
       "      <td>9</td>\n",
       "      <td>0.0</td>\n",
       "      <td>0.6457</td>\n",
       "      <td>game, play, get, well, like, fun, good, h1z1, ...</td>\n",
       "      <td>[gr8, pair, lvl, 500, people, lvl, 18, lvl30, ...</td>\n",
       "    </tr>\n",
       "    <tr>\n",
       "      <th>10</th>\n",
       "      <td>10</td>\n",
       "      <td>0.0</td>\n",
       "      <td>0.5561</td>\n",
       "      <td>game, play, get, well, like, fun, good, h1z1, ...</td>\n",
       "      <td>[awesome, game, keep, crash, reason, pc, hope,...</td>\n",
       "    </tr>\n",
       "    <tr>\n",
       "      <th>11</th>\n",
       "      <td>11</td>\n",
       "      <td>1.0</td>\n",
       "      <td>0.6125</td>\n",
       "      <td>player, server, fix, update, weapon, not, map,...</td>\n",
       "      <td>[long, history, development, pubg, finally, pl...</td>\n",
       "    </tr>\n",
       "    <tr>\n",
       "      <th>12</th>\n",
       "      <td>12</td>\n",
       "      <td>0.0</td>\n",
       "      <td>0.7257</td>\n",
       "      <td>game, play, get, well, like, fun, good, h1z1, ...</td>\n",
       "      <td>[mean, alot, fun, cancer, still, fun, tho, peo...</td>\n",
       "    </tr>\n",
       "    <tr>\n",
       "      <th>13</th>\n",
       "      <td>13</td>\n",
       "      <td>0.0</td>\n",
       "      <td>0.4899</td>\n",
       "      <td>game, play, get, well, like, fun, good, h1z1, ...</td>\n",
       "      <td>[hate, compare, apex_legend_warzone, arcadey, ...</td>\n",
       "    </tr>\n",
       "    <tr>\n",
       "      <th>14</th>\n",
       "      <td>14</td>\n",
       "      <td>1.0</td>\n",
       "      <td>0.5180</td>\n",
       "      <td>player, server, fix, update, weapon, not, map,...</td>\n",
       "      <td>[amaze, game, become, bad, annoy, feel, sense,...</td>\n",
       "    </tr>\n",
       "  </tbody>\n",
       "</table>\n",
       "</div>"
      ],
      "text/plain": [
       "    Document_No  Dominant_Topic  Percentage_Contribution  \\\n",
       "0             0             0.0                   0.7137   \n",
       "1             1             1.0                   0.4887   \n",
       "2             2             0.0                   0.5001   \n",
       "3             3             0.0                   0.7028   \n",
       "4             4             0.0                   0.6975   \n",
       "5             5             0.0                   0.6263   \n",
       "6             6             1.0                   0.5035   \n",
       "7             7             2.0                   0.3847   \n",
       "8             8             0.0                   0.8496   \n",
       "9             9             0.0                   0.6457   \n",
       "10           10             0.0                   0.5561   \n",
       "11           11             1.0                   0.6125   \n",
       "12           12             0.0                   0.7257   \n",
       "13           13             0.0                   0.4899   \n",
       "14           14             1.0                   0.5180   \n",
       "\n",
       "                                             Keywords  \\\n",
       "0   game, play, get, well, like, fun, good, h1z1, ...   \n",
       "1   player, server, fix, update, weapon, not, map,...   \n",
       "2   game, play, get, well, like, fun, good, h1z1, ...   \n",
       "3   game, play, get, well, like, fun, good, h1z1, ...   \n",
       "4   game, play, get, well, like, fun, good, h1z1, ...   \n",
       "5   game, play, get, well, like, fun, good, h1z1, ...   \n",
       "6   player, server, fix, update, weapon, not, map,...   \n",
       "7              10, get, kill, 1, 3, 5, car, 2, die, 4   \n",
       "8   game, play, get, well, like, fun, good, h1z1, ...   \n",
       "9   game, play, get, well, like, fun, good, h1z1, ...   \n",
       "10  game, play, get, well, like, fun, good, h1z1, ...   \n",
       "11  player, server, fix, update, weapon, not, map,...   \n",
       "12  game, play, get, well, like, fun, good, h1z1, ...   \n",
       "13  game, play, get, well, like, fun, good, h1z1, ...   \n",
       "14  player, server, fix, update, weapon, not, map,...   \n",
       "\n",
       "                                                 Text  \n",
       "0   [great, game, always, fun, play, run, much, we...  \n",
       "1   [fun, way, test, reaction, eye, sight, strateg...  \n",
       "2   [only, battle, royale, thats, actual, gun, ski...  \n",
       "3   [chicken_dinner, more, like, broke, fight, pie...  \n",
       "4   [one, best, game, game, good, not, even, dead,...  \n",
       "5   [best, battle, royale, game, ever, yes, player...  \n",
       "6   [survival, element, pick, experiment, weapon, ...  \n",
       "7   [night, hear, 'em, talk, coldest, story, ever,...  \n",
       "8   [i'm, only, make, review, positive, respect, g...  \n",
       "9   [gr8, pair, lvl, 500, people, lvl, 18, lvl30, ...  \n",
       "10  [awesome, game, keep, crash, reason, pc, hope,...  \n",
       "11  [long, history, development, pubg, finally, pl...  \n",
       "12  [mean, alot, fun, cancer, still, fun, tho, peo...  \n",
       "13  [hate, compare, apex_legend_warzone, arcadey, ...  \n",
       "14  [amaze, game, become, bad, annoy, feel, sense,...  "
      ]
     },
     "metadata": {},
     "output_type": "display_data"
    }
   ],
   "source": [
    "display_dominant_topics(pubg_pos_lda_model, pubg_pos_corpus, pubg_pos_processed_text, 15)"
   ]
  },
  {
   "cell_type": "code",
   "execution_count": 10,
   "id": "willing-montreal",
   "metadata": {
    "ExecuteTime": {
     "end_time": "2021-01-27T03:46:39.367969Z",
     "start_time": "2021-01-27T03:46:39.361985Z"
    }
   },
   "outputs": [],
   "source": [
    "# show the topics and representative documents for the dataset\n",
    "\n",
    "def display_representative_docs(ldamodel, corpus, texts):\n",
    "    \n",
    "    # initialize dataframe\n",
    "    sent_topics_sorteddf_mallet = pd.DataFrame()\n",
    "    \n",
    "    df_topic_sents_keywords = format_topics_sentences(ldamodel=ldamodel, corpus=corpus, texts=texts)\n",
    "    sent_topics_outdf_grpd = df_topic_sents_keywords.groupby('Dominant_Topic')\n",
    "\n",
    "    for i, grp in sent_topics_outdf_grpd:\n",
    "        sent_topics_sorteddf_mallet = pd.concat([sent_topics_sorteddf_mallet, \n",
    "                                                 grp.sort_values(['Percentage_Contribution'], ascending=False).head(1)], \n",
    "                                                 axis=0)\n",
    "\n",
    "    # reset index\n",
    "    sent_topics_sorteddf_mallet.reset_index(drop=True, inplace=True)\n",
    "\n",
    "    # format\n",
    "    sent_topics_sorteddf_mallet.columns = ['Topic_Num', 'Topic_Percentage_Contribution', 'Keywords', 'Representative Text']\n",
    "\n",
    "    # display\n",
    "    display(sent_topics_sorteddf_mallet.head(10))"
   ]
  },
  {
   "cell_type": "code",
   "execution_count": 11,
   "id": "champion-agriculture",
   "metadata": {
    "ExecuteTime": {
     "end_time": "2021-01-27T03:50:30.358725Z",
     "start_time": "2021-01-27T03:46:39.369964Z"
    }
   },
   "outputs": [
    {
     "data": {
      "text/html": [
       "<div>\n",
       "<style scoped>\n",
       "    .dataframe tbody tr th:only-of-type {\n",
       "        vertical-align: middle;\n",
       "    }\n",
       "\n",
       "    .dataframe tbody tr th {\n",
       "        vertical-align: top;\n",
       "    }\n",
       "\n",
       "    .dataframe thead th {\n",
       "        text-align: right;\n",
       "    }\n",
       "</style>\n",
       "<table border=\"1\" class=\"dataframe\">\n",
       "  <thead>\n",
       "    <tr style=\"text-align: right;\">\n",
       "      <th></th>\n",
       "      <th>Topic_Num</th>\n",
       "      <th>Topic_Percentage_Contribution</th>\n",
       "      <th>Keywords</th>\n",
       "      <th>Representative Text</th>\n",
       "    </tr>\n",
       "  </thead>\n",
       "  <tbody>\n",
       "    <tr>\n",
       "      <th>0</th>\n",
       "      <td>0.0</td>\n",
       "      <td>0.9322</td>\n",
       "      <td>game, play, get, well, like, fun, good, h1z1, ...</td>\n",
       "      <td>[didn't, want, review, till, full, realease, g...</td>\n",
       "    </tr>\n",
       "    <tr>\n",
       "      <th>1</th>\n",
       "      <td>1.0</td>\n",
       "      <td>0.7746</td>\n",
       "      <td>player, server, fix, update, weapon, not, map,...</td>\n",
       "      <td>[game, good, problem, region, due, high, numbe...</td>\n",
       "    </tr>\n",
       "    <tr>\n",
       "      <th>2</th>\n",
       "      <td>2.0</td>\n",
       "      <td>0.8633</td>\n",
       "      <td>10, get, kill, 1, 3, 5, car, 2, die, 4</td>\n",
       "      <td>[ingredient, 3, 4, cup_plain, breadcrumb, 3, 4...</td>\n",
       "    </tr>\n",
       "  </tbody>\n",
       "</table>\n",
       "</div>"
      ],
      "text/plain": [
       "   Topic_Num  Topic_Percentage_Contribution  \\\n",
       "0        0.0                         0.9322   \n",
       "1        1.0                         0.7746   \n",
       "2        2.0                         0.8633   \n",
       "\n",
       "                                            Keywords  \\\n",
       "0  game, play, get, well, like, fun, good, h1z1, ...   \n",
       "1  player, server, fix, update, weapon, not, map,...   \n",
       "2             10, get, kill, 1, 3, 5, car, 2, die, 4   \n",
       "\n",
       "                                 Representative Text  \n",
       "0  [didn't, want, review, till, full, realease, g...  \n",
       "1  [game, good, problem, region, due, high, numbe...  \n",
       "2  [ingredient, 3, 4, cup_plain, breadcrumb, 3, 4...  "
      ]
     },
     "metadata": {},
     "output_type": "display_data"
    }
   ],
   "source": [
    "display_representative_docs(pubg_pos_lda_model, pubg_pos_corpus, pubg_pos_processed_text)"
   ]
  },
  {
   "cell_type": "code",
   "execution_count": 12,
   "id": "sharp-dependence",
   "metadata": {
    "ExecuteTime": {
     "end_time": "2021-01-27T03:50:30.364709Z",
     "start_time": "2021-01-27T03:50:30.359722Z"
    }
   },
   "outputs": [],
   "source": [
    "def compute_perp_coherence(ldamodel, corpus, dictionary, texts):\n",
    "\n",
    "    # compute perplexity - measure of how good the model is (lower, the better)\n",
    "    print(f'Perplexity: {ldamodel.log_perplexity(corpus):.4f}') \n",
    "\n",
    "    # compute coherence score (higher, the better)\n",
    "    coherence_model_lda = CoherenceModel(model=ldamodel,\n",
    "                                         texts=texts, \n",
    "                                         dictionary=dictionary, \n",
    "                                         corpus=corpus, \n",
    "                                         coherence='c_v')\n",
    "    coherence_lda = coherence_model_lda.get_coherence()\n",
    "    print(f'Coherence Score: {coherence_lda:.4f}')"
   ]
  },
  {
   "cell_type": "code",
   "execution_count": 13,
   "id": "raised-store",
   "metadata": {
    "ExecuteTime": {
     "end_time": "2021-01-27T03:51:03.389538Z",
     "start_time": "2021-01-27T03:50:30.366703Z"
    }
   },
   "outputs": [
    {
     "name": "stdout",
     "output_type": "stream",
     "text": [
      "Perplexity: -7.2389\n",
      "Coherence Score: 0.4079\n"
     ]
    }
   ],
   "source": [
    "compute_perp_coherence(ldamodel=pubg_pos_lda_model, \n",
    "                       dictionary=pubg_pos_id2word,\n",
    "                       corpus=pubg_pos_corpus, \n",
    "                       texts=pubg_pos_processed_text)"
   ]
  },
  {
   "cell_type": "code",
   "execution_count": 14,
   "id": "naval-juvenile",
   "metadata": {
    "ExecuteTime": {
     "end_time": "2021-01-27T03:51:17.626250Z",
     "start_time": "2021-01-27T03:51:03.390497Z"
    }
   },
   "outputs": [
    {
     "data": {
      "text/html": [
       "\n",
       "<link rel=\"stylesheet\" type=\"text/css\" href=\"https://cdn.rawgit.com/bmabey/pyLDAvis/files/ldavis.v1.0.0.css\">\n",
       "\n",
       "\n",
       "<div id=\"ldavis_el204018592610249603647439412\"></div>\n",
       "<script type=\"text/javascript\">\n",
       "\n",
       "var ldavis_el204018592610249603647439412_data = {\"mdsDat\": {\"x\": [-0.2239150119554368, -0.1084919444031885, 0.33240695635862544], \"y\": [0.20644202507867393, -0.2604865503998005, 0.05404452532112653], \"topics\": [1, 2, 3], \"cluster\": [1, 1, 1], \"Freq\": [54.73169736309627, 32.81459206532705, 12.453710571576678]}, \"tinfo\": {\"Term\": [\"game\", \"10\", \"get\", \"play\", \"kill\", \"well\", \"fun\", \"1\", \"3\", \"good\", \"h1z1\", \"server\", \"5\", \"2\", \"great\", \"car\", \"fix\", \"die\", \"would\", \"player\", \"update\", \"weapon\", \"4\", \"really\", \"gun\", \"like\", \"battle\", \"map\", \"access\", \"shot\", \"game\", \"play\", \"well\", \"fun\", \"good\", \"h1z1\", \"great\", \"really\", \"still\", \"battle\", \"best\", \"lot\", \"played\", \"bug\", \"friend\", \"royale\", \"love\", \"hour\", \"recommend\", \"i've\", \"buy\", \"worth\", \"amaze\", \"arma\", \"pretty\", \"bad\", \"enjoy\", \"overall\", \"though\", \"pc\", \"access\", \"much\", \"optimization\", \"early\", \"like\", \"need\", \"say\", \"get\", \"time\", \"more\", \"not\", \"would\", \"even\", \"one\", \"run\", \"server\", \"weapon\", \"map\", \"update\", \"fix\", \"low\", \"high\", \"seem\", \"match\", \"setting\", \"end\", \"con\", \"developer\", \"add\", \"mode\", \"actually\", \"system\", \"hope\", \"point\", \"sound\", \"vehicle\", \"change\", \"100\", \"everything\", \"battleground\", \"item\", \"gunplay\", \"huge\", \"able\", \"area\", \"use\", \"close\", \"different\", \"pick\", \"player\", \"new\", \"performance\", \"gun\", \"team\", \"issue\", \"drop\", \"see\", \"not\", \"no\", \"more\", \"make\", \"feel\", \"take\", \"only\", \"fps\", \"10\", \"1\", \"5\", \"car\", \"shot\", \"guy\", \"land\", \"house\", \"8\", \"plane\", \"shotgun\", \"6\", \"door\", \"7\", \"head\", \"hear\", \"11\", \"camp\", \"man\", \"walk\", \"dead\", \"pistol\", \"step\", \"scream\", \"fly\", \"12\", \"simulator\", \"min\", \"punch\", \"0\", \"minute\", \"inside\", \"4\", \"die\", \"death\", \"9\", \"jump\", \"ran\", \"town\", \"kill\", \"2\", \"drive\", \"someone\", \"circle\", \"3\", \"shoot\", \"fuck\", \"loot\", \"get\", \"find\", \"run\", \"would\", \"start\", \"gun\", \"go\", \"around\"], \"Freq\": [125727.0, 15751.0, 29637.0, 24098.0, 8300.0, 20994.0, 18579.0, 5236.0, 7686.0, 17654.0, 17092.0, 8096.0, 4092.0, 5392.0, 13812.0, 3922.0, 7330.0, 4021.0, 10948.0, 8525.0, 6861.0, 6838.0, 3640.0, 12313.0, 8303.0, 21305.0, 11795.0, 6339.0, 11805.0, 3310.0, 125726.36570300783, 24098.204638543262, 20993.765561815508, 18579.206438117148, 17653.75823946029, 17091.878975990057, 13812.278762869031, 12313.099613101029, 11158.506098345895, 11794.355969611595, 8583.492969814333, 8778.693713512395, 8434.087926376198, 7638.76142825864, 7768.121826361152, 8117.208102250319, 6460.044142537837, 6432.609265753349, 5867.875118145165, 5678.648359451064, 5223.811017499021, 5214.144715676647, 5259.5530473437375, 7434.388109759709, 4748.6144331749765, 4692.823279745007, 4303.9124896938565, 3899.3723285498413, 3751.5058437495786, 3561.815586218963, 11797.049636762931, 8898.009397698954, 6983.099220856776, 13686.218274961268, 20066.06032534606, 8567.754161496181, 7994.339486765022, 22604.410583953115, 12046.034718276343, 12317.669666846561, 12780.426233484794, 8592.524479751917, 7767.012340015776, 8558.442201175636, 7621.512890034595, 8095.803034147188, 6838.043701040339, 6338.756894376807, 6861.096691761408, 7329.742835705532, 4265.875585770042, 4075.5545003817656, 3560.1600004287657, 3646.530852048925, 3172.66919046263, 3372.796388751095, 2991.224553632921, 2944.0523109585333, 3397.4415555142778, 2677.0169686321665, 3027.294523231182, 2531.504529843955, 2936.305555603541, 2632.874861159345, 2689.502494987714, 2491.192840829955, 2481.1717640269467, 2474.7909775782373, 2467.6488396641957, 2372.0728007769426, 1714.9355334743964, 1866.0174000304971, 1742.3780837348436, 1749.1636265719997, 2055.0102736382782, 3509.5694792997124, 2216.632083810437, 2726.4056384950286, 2057.235762536942, 8246.690577362566, 4034.460987149784, 3262.532827932344, 6203.563561971157, 3057.224009510194, 5405.113119505806, 3397.506665580081, 4658.7654969144005, 6497.593906760298, 4171.543182701518, 5837.438250917541, 4757.824420893779, 4295.911798857946, 3497.49290456881, 3439.745310484848, 3171.6687105339743, 15751.108162996728, 5235.372973024911, 4091.499716435047, 3921.581534518627, 3310.216013296497, 2841.106010584262, 2168.725909845238, 1910.538206715539, 2379.6659143067827, 1827.9706755291334, 1249.5636145090266, 1579.2517709654837, 1283.4693494246692, 1274.5404859817913, 1156.925828363172, 999.3820194554157, 827.7671624250037, 870.3433841858939, 832.1798806149475, 807.3676390423244, 705.7160315089928, 664.7495526324263, 554.1665341916113, 516.9920837538168, 516.9550181438043, 558.7699301072896, 454.8398065440305, 466.3982266394974, 399.3899087117654, 646.0340944139411, 2550.6433320062406, 545.9894912404822, 3538.832874656794, 3727.591340557377, 1094.6300015228562, 1526.8771724051849, 2231.6551637597545, 719.9386537756859, 843.6577371422601, 5849.206987449937, 3888.6563187297074, 1417.6136132568772, 1976.809861565926, 1457.065942858448, 4246.887669733639, 2184.4641461790757, 1886.5405806371944, 2503.620701835997, 6976.92269503187, 2283.4863881196634, 2728.6685652837486, 2355.9566612218, 1845.919092154851, 2100.0007918331294, 1874.0057810449887, 1581.669060129805], \"Total\": [125727.0, 15751.0, 29637.0, 24098.0, 8300.0, 20994.0, 18579.0, 5236.0, 7686.0, 17654.0, 17092.0, 8096.0, 4092.0, 5392.0, 13812.0, 3922.0, 7330.0, 4021.0, 10948.0, 8525.0, 6861.0, 6838.0, 3640.0, 12313.0, 8303.0, 21305.0, 11795.0, 6339.0, 11805.0, 3310.0, 125727.01358264568, 24098.850155804357, 20994.446415578182, 18579.822285703183, 17654.413672317587, 17092.583464265757, 13812.909812260044, 12313.740947158902, 11159.138167130264, 11795.047895739453, 8584.12802172661, 8779.353348011913, 8434.725406213895, 7639.385075810147, 7768.763815579823, 8117.889201245801, 6460.679893393486, 6433.262637334379, 5868.491294985717, 5679.304377628178, 5224.436373027909, 5214.769113341248, 5260.1994470859945, 7435.332474911097, 4749.2855074670215, 4693.4891192447385, 4304.569786765473, 3900.03595933299, 3752.167334855327, 3562.445511395272, 11805.596113451138, 8904.292336274591, 6984.336276527508, 14114.957292228264, 21305.96208065533, 8992.883207245071, 8363.928268804515, 29637.58037866991, 14772.856870408013, 18155.43754385571, 19278.34965958077, 10948.903533086333, 9287.498442594226, 11694.139000415917, 11452.662762718472, 8096.534767057965, 6838.7291807296115, 6339.411576781395, 6861.817792619099, 7330.524210790973, 4266.567174563965, 4076.230327137707, 3560.8440192707526, 3647.25970406611, 3173.3425187888824, 3373.5203994728463, 2991.9041891863167, 2944.7465874589407, 3398.3000947036667, 2677.696924262365, 3028.0645105989115, 2532.158100359047, 2937.082087919503, 2633.5758511569156, 2690.2187032436013, 2491.859222490014, 2481.847504565568, 2475.5094654550494, 2468.476781994356, 2372.9552637678594, 1715.587296583071, 1866.7489451400963, 1743.0616567748625, 1749.8518492780283, 2055.839996128552, 3512.922796436167, 2218.0342854058485, 2734.258107812809, 2059.337598556271, 8525.697421921013, 4143.851490603399, 3471.2996031814127, 8303.98035398936, 3326.356866543916, 8618.098629456015, 4353.698119174683, 8423.550302859292, 19278.34965958077, 7384.57707509745, 18155.43754385571, 11503.477390979131, 9260.219710344569, 6225.427292184275, 10584.025999911011, 7675.509312351588, 15751.780485787487, 5236.093549634545, 4092.2096163799793, 3922.32250310672, 3310.9216674652193, 2841.760958032528, 2169.386929276409, 1911.1497425399882, 2380.4366651122714, 1828.6170265626756, 1250.1896341463023, 1580.0539763312959, 1284.1235574513234, 1275.2294654993218, 1157.582443842338, 1000.0531547512177, 828.4030457357173, 871.0319596331115, 832.8444828275327, 808.0560685680002, 706.3611104015172, 665.3862108653841, 554.834412075209, 517.6211239214049, 517.6333187150811, 559.5224122422023, 455.4757504552239, 467.0775709519228, 399.99163239280244, 647.0135111017, 2590.8451973312913, 546.8877122979577, 3640.283335254959, 4021.509260251817, 1157.3094508325505, 1656.6707633701537, 2544.024958204792, 738.2348904513904, 884.3518340544747, 8300.460989837191, 5392.362248770098, 1632.550233904814, 2511.4285481315483, 1766.135736497049, 7686.3304549714285, 3209.311839391481, 2789.0098767236314, 4633.316041141067, 29637.58037866991, 4736.093441330953, 11452.662762718472, 10948.903533086333, 4999.175956742252, 8303.98035398936, 10011.366657160528, 4084.0438222685457], \"Category\": [\"Default\", \"Default\", \"Default\", \"Default\", \"Default\", \"Default\", \"Default\", \"Default\", \"Default\", \"Default\", \"Default\", \"Default\", \"Default\", \"Default\", \"Default\", \"Default\", \"Default\", \"Default\", \"Default\", \"Default\", \"Default\", \"Default\", \"Default\", \"Default\", \"Default\", \"Default\", \"Default\", \"Default\", \"Default\", \"Default\", \"Topic1\", \"Topic1\", \"Topic1\", \"Topic1\", \"Topic1\", \"Topic1\", \"Topic1\", \"Topic1\", \"Topic1\", \"Topic1\", \"Topic1\", \"Topic1\", \"Topic1\", \"Topic1\", \"Topic1\", \"Topic1\", \"Topic1\", \"Topic1\", \"Topic1\", \"Topic1\", \"Topic1\", \"Topic1\", \"Topic1\", \"Topic1\", \"Topic1\", \"Topic1\", \"Topic1\", \"Topic1\", \"Topic1\", \"Topic1\", \"Topic1\", \"Topic1\", \"Topic1\", \"Topic1\", \"Topic1\", \"Topic1\", \"Topic1\", \"Topic1\", \"Topic1\", \"Topic1\", \"Topic1\", \"Topic1\", \"Topic1\", \"Topic1\", \"Topic1\", \"Topic2\", \"Topic2\", \"Topic2\", \"Topic2\", \"Topic2\", \"Topic2\", \"Topic2\", \"Topic2\", \"Topic2\", \"Topic2\", \"Topic2\", \"Topic2\", \"Topic2\", \"Topic2\", \"Topic2\", \"Topic2\", \"Topic2\", \"Topic2\", \"Topic2\", \"Topic2\", \"Topic2\", \"Topic2\", \"Topic2\", \"Topic2\", \"Topic2\", \"Topic2\", \"Topic2\", \"Topic2\", \"Topic2\", \"Topic2\", \"Topic2\", \"Topic2\", \"Topic2\", \"Topic2\", \"Topic2\", \"Topic2\", \"Topic2\", \"Topic2\", \"Topic2\", \"Topic2\", \"Topic2\", \"Topic2\", \"Topic2\", \"Topic2\", \"Topic2\", \"Topic2\", \"Topic2\", \"Topic2\", \"Topic2\", \"Topic2\", \"Topic3\", \"Topic3\", \"Topic3\", \"Topic3\", \"Topic3\", \"Topic3\", \"Topic3\", \"Topic3\", \"Topic3\", \"Topic3\", \"Topic3\", \"Topic3\", \"Topic3\", \"Topic3\", \"Topic3\", \"Topic3\", \"Topic3\", \"Topic3\", \"Topic3\", \"Topic3\", \"Topic3\", \"Topic3\", \"Topic3\", \"Topic3\", \"Topic3\", \"Topic3\", \"Topic3\", \"Topic3\", \"Topic3\", \"Topic3\", \"Topic3\", \"Topic3\", \"Topic3\", \"Topic3\", \"Topic3\", \"Topic3\", \"Topic3\", \"Topic3\", \"Topic3\", \"Topic3\", \"Topic3\", \"Topic3\", \"Topic3\", \"Topic3\", \"Topic3\", \"Topic3\", \"Topic3\", \"Topic3\", \"Topic3\", \"Topic3\", \"Topic3\", \"Topic3\", \"Topic3\", \"Topic3\", \"Topic3\", \"Topic3\"], \"logprob\": [30.0, 29.0, 28.0, 27.0, 26.0, 25.0, 24.0, 23.0, 22.0, 21.0, 20.0, 19.0, 18.0, 17.0, 16.0, 15.0, 14.0, 13.0, 12.0, 11.0, 10.0, 9.0, 8.0, 7.0, 6.0, 5.0, 4.0, 3.0, 2.0, 1.0, -2.257699966430664, -3.9096999168395996, -4.047599792480469, -4.1697998046875, -4.220900058746338, -4.253200054168701, -4.466300010681152, -4.581200122833252, -4.679599761962891, -4.624199867248535, -4.941999912261963, -4.91949987411499, -4.95959997177124, -5.058599948883057, -5.041800022125244, -4.997900009155273, -5.226200103759766, -5.230500221252441, -5.322400093078613, -5.355100154876709, -5.438600063323975, -5.440499782562256, -5.43179988861084, -5.085700035095215, -5.533999919891357, -5.54580020904541, -5.632299900054932, -5.730999946594238, -5.769700050354004, -5.821599960327148, -4.624000072479248, -4.906000137329102, -5.1483001708984375, -4.475500106811523, -4.092800140380859, -4.94379997253418, -5.0131001472473145, -3.9737000465393066, -4.603099822998047, -4.5808000564575195, -4.543900012969971, -4.940999984741211, -5.041999816894531, -4.944900035858154, -5.0609002113342285, -4.488900184631348, -4.657800197601318, -4.73360013961792, -4.654399871826172, -4.5883002281188965, -5.1296000480651855, -5.175300121307373, -5.310500144958496, -5.286499977111816, -5.4257001876831055, -5.364500045776367, -5.484600067138672, -5.500500202178955, -5.3572998046875, -5.595600128173828, -5.472599983215332, -5.651500225067139, -5.5030999183654785, -5.612199783325195, -5.59089994430542, -5.667500019073486, -5.671500205993652, -5.674099922180176, -5.677000045776367, -5.7164998054504395, -6.040900230407715, -5.956500053405762, -6.025000095367432, -6.021100044250488, -5.860000133514404, -5.32480001449585, -5.784299850463867, -5.577300071716309, -5.85890007019043, -4.4704999923706055, -5.185400009155273, -5.397799968719482, -4.755099773406982, -5.462800025939941, -4.892899990081787, -5.3572001457214355, -5.041500091552734, -4.708799839019775, -5.1519999504089355, -4.815999984741211, -5.020500183105469, -5.122600078582764, -5.328199863433838, -5.344900131225586, -5.426000118255615, -2.8545000553131104, -3.9560000896453857, -4.202499866485596, -4.244900226593018, -4.414400100708008, -4.567200183868408, -4.837299823760986, -4.964000225067139, -4.744500160217285, -5.008200168609619, -5.388599872589111, -5.1545000076293945, -5.3618998527526855, -5.368800163269043, -5.465700149536133, -5.611999988555908, -5.8003997802734375, -5.75029993057251, -5.795100212097168, -5.825399875640869, -5.960000038146973, -6.019800186157227, -6.201700210571289, -6.271100044250488, -6.271200180053711, -6.193399906158447, -6.399199962615967, -6.374100208282471, -6.529200077056885, -6.048299789428711, -4.675099849700928, -6.216599941253662, -4.347599983215332, -4.2957000732421875, -5.520999908447266, -5.188199996948242, -4.808700084686279, -5.940000057220459, -5.781400203704834, -3.845099925994873, -4.253399848937988, -5.262400150299072, -4.929900169372559, -5.235000133514404, -4.165200233459473, -4.829999923706055, -4.9766998291015625, -4.693699836730957, -3.668800115585327, -4.785699844360352, -4.607600212097168, -4.754499912261963, -4.9984002113342285, -4.869500160217285, -4.98330020904541, -5.152900218963623], \"loglift\": [30.0, 29.0, 28.0, 27.0, 26.0, 25.0, 24.0, 23.0, 22.0, 21.0, 20.0, 19.0, 18.0, 17.0, 16.0, 15.0, 14.0, 13.0, 12.0, 11.0, 10.0, 9.0, 8.0, 7.0, 6.0, 5.0, 4.0, 3.0, 2.0, 1.0, 0.6027, 0.6027, 0.6027, 0.6027, 0.6027, 0.6027, 0.6027, 0.6027, 0.6027, 0.6027, 0.6027, 0.6027, 0.6027, 0.6026, 0.6026, 0.6026, 0.6026, 0.6026, 0.6026, 0.6026, 0.6026, 0.6026, 0.6026, 0.6026, 0.6026, 0.6026, 0.6026, 0.6026, 0.6026, 0.6026, 0.602, 0.602, 0.6025, 0.5719, 0.5428, 0.5543, 0.5575, 0.3318, 0.3987, 0.2148, 0.1917, 0.3604, 0.4239, 0.2906, 0.1955, 1.1142, 1.1142, 1.1142, 1.1142, 1.1142, 1.1141, 1.1141, 1.1141, 1.1141, 1.1141, 1.1141, 1.1141, 1.1141, 1.114, 1.114, 1.114, 1.114, 1.114, 1.114, 1.114, 1.114, 1.114, 1.114, 1.114, 1.1139, 1.1139, 1.1139, 1.1139, 1.1139, 1.1139, 1.1133, 1.1137, 1.1114, 1.1133, 1.081, 1.0875, 1.0523, 0.8227, 1.0299, 0.6478, 0.8663, 0.522, 0.0267, 0.5432, -0.0204, 0.2314, 0.3462, 0.5377, -0.0097, 0.2305, 2.0831, 2.083, 2.083, 2.083, 2.0829, 2.0829, 2.0828, 2.0828, 2.0828, 2.0828, 2.0827, 2.0826, 2.0826, 2.0826, 2.0826, 2.0825, 2.0824, 2.0824, 2.0824, 2.0823, 2.0822, 2.0822, 2.0819, 2.0819, 2.0818, 2.0818, 2.0818, 2.0817, 2.0816, 2.0816, 2.0675, 2.0815, 2.0549, 2.0073, 2.0275, 2.0016, 1.9521, 2.0581, 2.036, 1.7331, 1.7562, 1.942, 1.8438, 1.8908, 1.4899, 1.6985, 1.6922, 1.4676, 0.6367, 1.3536, 0.6487, 0.5469, 1.0869, 0.7084, 0.4075, 1.1345]}, \"token.table\": {\"Topic\": [3, 3, 3, 2, 3, 3, 1, 2, 3, 1, 2, 3, 1, 3, 3, 3, 3, 3, 1, 3, 2, 1, 2, 2, 2, 3, 1, 2, 3, 1, 2, 1, 2, 3, 1, 1, 1, 2, 1, 1, 1, 3, 3, 2, 2, 3, 2, 3, 2, 3, 1, 3, 2, 1, 3, 1, 2, 3, 2, 3, 2, 3, 1, 2, 2, 1, 1, 2, 2, 1, 2, 2, 3, 2, 3, 1, 2, 1, 1, 3, 1, 1, 1, 2, 3, 1, 2, 3, 1, 1, 2, 3, 2, 3, 1, 3, 3, 2, 2, 1, 3, 2, 1, 2, 3, 1, 2, 2, 2, 3, 1, 2, 3, 3, 1, 2, 2, 3, 1, 1, 2, 1, 2, 3, 3, 2, 2, 3, 2, 3, 2, 1, 2, 1, 2, 1, 2, 1, 2, 1, 2, 3, 1, 2, 1, 2, 3, 1, 2, 1, 2, 1, 1, 1, 2, 2, 3, 3, 3, 1, 1, 2, 3, 2, 1, 3, 1, 3, 1, 1, 1, 1, 2, 3, 1, 2, 3, 1, 2, 2, 2, 2, 1, 2, 3, 3, 3, 3, 1, 2, 3, 2, 1, 2, 3, 3, 1, 2, 1, 2, 3, 1, 2, 1, 1, 2, 2, 3, 2, 1, 2, 2, 3, 2, 1, 1, 1, 3], \"Freq\": [0.9984335549655303, 0.9997911516239772, 0.9999504509481838, 0.999794197734988, 0.9995134666177388, 0.9990663247248509, 0.11813004590804121, 0.1607829667225616, 0.7212052567289988, 0.4338871480399286, 0.013660614855829836, 0.5525393456448506, 0.027745093087081403, 0.9721770736156543, 0.9997044099659174, 0.999332949160545, 0.9998200594437865, 0.9998165609198215, 0.07786701066515848, 0.9217281029898992, 0.9995131877716507, 0.9992718611268309, 0.0006776447307802532, 0.9996484518096673, 0.9996174279294248, 0.0002942647712479908, 0.9999620837407401, 0.9995914097740419, 0.0004864191775056165, 0.9998207914823455, 0.0001344929770624624, 0.19808798220745544, 0.4145401160410656, 0.3873611716343566, 0.999895787710952, 0.9999111579920051, 0.00042141544565495344, 0.9995974370935495, 0.9998685921594185, 0.9999495933499456, 0.99991647462104, 0.9988152448119744, 0.9999177775140967, 0.9996585186785211, 0.17495823996680468, 0.8249649049567457, 0.9995336927780359, 0.00045084965844746774, 0.9996977880543152, 0.9994887736651981, 0.05357253408360068, 0.9461600777668185, 0.9997464680111626, 0.07310688126616186, 0.9270151474838483, 0.002925839362838854, 0.9969797628873395, 0.9991250394521588, 0.13169579442940169, 0.8685797046553096, 0.7804859011777666, 0.21958343776513978, 0.9696097350245296, 0.030322443854340107, 0.9998457399359649, 0.9998676321226747, 0.8362854699796307, 0.16366086189893636, 0.9998068517403795, 0.5360563955577348, 0.46391987818614594, 0.5177262717415749, 0.48204285415416626, 0.999928489317285, 0.998776510915771, 0.5868014507847799, 0.41326247821698975, 0.9999016811943373, 0.32341226452005895, 0.6765841941788816, 0.9999557430802868, 0.9999919382269824, 0.7626803440495447, 0.0018894929776488453, 0.23541058044742846, 0.5650577182640583, 0.24771842695684362, 0.1871872306923891, 0.999976568334397, 0.9999341331933379, 0.7471115941428622, 0.2528907717118006, 0.9995987970733579, 0.9997322230673987, 0.9999658644775977, 0.9994968446131536, 0.9989469012259856, 0.9999434950630308, 0.9996315772296751, 0.9999591750952533, 0.9999216479291732, 0.9993909241415896, 0.9999464058257949, 0.0018285289237860507, 0.9983767923871838, 0.3728200544164355, 0.6271685011269325, 0.9996576702425806, 0.12264030625712292, 0.8773498832240332, 0.2651659953218058, 0.030118809100614014, 0.7046596577179655, 0.9998216411875691, 0.9418021079751593, 0.05819967177759382, 0.45949811778340977, 0.5404336716438037, 0.9999597523874588, 0.9998947644203544, 0.9998670653617395, 0.5863444392292487, 0.4136140610604545, 8.693023561590048e-05, 0.9989860257887935, 0.9999350765009639, 0.9999287947425788, 0.9976929507667717, 0.015438977226891878, 0.9846207726450296, 0.9997397299686719, 0.6784744223456484, 0.3215014777749269, 0.9992933367372769, 0.0006738323241653924, 0.9527533942726214, 0.047259592969872095, 0.0263040314661779, 0.9734904856381803, 0.2976473774526884, 0.5649612642095614, 0.1374486297154134, 0.6629198155272963, 0.3370620470497943, 0.7318195892571162, 0.17709726213501842, 0.09107126227609591, 0.674979445445435, 0.32501809803083653, 0.9998086752306016, 0.00014317752759997158, 0.9997343718509798, 0.9998749422569841, 0.05991992157904492, 0.9399937697712671, 0.9988648784162879, 0.0009711860752710626, 0.9994195688773264, 0.9996625720127765, 0.9999647221423902, 0.9999139976491279, 0.9673108945662985, 0.03272459556008212, 0.9997813424828214, 0.9999398841222384, 0.9975208671569693, 0.024382483451837373, 0.9752993380734949, 0.9999398276151755, 0.9999162825740004, 0.999890463983462, 0.6655220849435715, 0.0962221644722928, 0.2382851967739447, 0.9557709897890612, 0.044118025423087764, 0.9988000413957232, 0.4468424672103337, 0.5530922037016326, 0.9997629721307126, 0.9999339511194171, 0.9998920637192946, 0.16202850518215686, 0.15735460599421006, 0.6805197217650589, 0.9997216281272142, 0.9998483156945772, 0.9989554867525914, 0.012741752109096375, 0.20028441596485863, 0.7872013724901104, 0.9999187042884886, 0.28844753864988765, 0.3422564068168917, 0.36926085738397546, 0.9984961061227473, 0.9999876184766068, 0.9999375629985251, 0.25347657693811687, 0.5617285104896038, 0.1847262759688431, 0.08086925450049229, 0.9190234609963008, 0.9999554031469299, 0.8154143850218797, 0.18452761195165565, 0.04523086678817931, 0.9543712892305835, 0.9998808198288245, 0.0008539897327215607, 0.9991679872842261, 0.9996551881895016, 0.9986930751354027, 0.9998933748200373, 0.9999787364920538, 0.9998525124843437, 0.7848274463313095, 0.21518136431474053], \"Term\": [\"0\", \"1\", \"10\", \"100\", \"11\", \"12\", \"2\", \"2\", \"2\", \"3\", \"3\", \"3\", \"4\", \"4\", \"5\", \"6\", \"7\", \"8\", \"9\", \"9\", \"able\", \"access\", \"access\", \"actually\", \"add\", \"add\", \"amaze\", \"area\", \"area\", \"arma\", \"arma\", \"around\", \"around\", \"around\", \"bad\", \"battle\", \"battleground\", \"battleground\", \"best\", \"bug\", \"buy\", \"camp\", \"car\", \"change\", \"circle\", \"circle\", \"close\", \"close\", \"con\", \"dead\", \"death\", \"death\", \"developer\", \"die\", \"die\", \"different\", \"different\", \"door\", \"drive\", \"drive\", \"drop\", \"drop\", \"early\", \"early\", \"end\", \"enjoy\", \"even\", \"even\", \"everything\", \"feel\", \"feel\", \"find\", \"find\", \"fix\", \"fly\", \"fps\", \"fps\", \"friend\", \"fuck\", \"fuck\", \"fun\", \"game\", \"get\", \"get\", \"get\", \"go\", \"go\", \"go\", \"good\", \"great\", \"gun\", \"gun\", \"gunplay\", \"guy\", \"h1z1\", \"head\", \"hear\", \"high\", \"hope\", \"hour\", \"house\", \"huge\", \"i've\", \"inside\", \"inside\", \"issue\", \"issue\", \"item\", \"jump\", \"jump\", \"kill\", \"kill\", \"kill\", \"land\", \"like\", \"like\", \"loot\", \"loot\", \"lot\", \"love\", \"low\", \"make\", \"make\", \"make\", \"man\", \"map\", \"match\", \"min\", \"minute\", \"minute\", \"mode\", \"more\", \"more\", \"much\", \"much\", \"need\", \"need\", \"new\", \"new\", \"no\", \"no\", \"no\", \"not\", \"not\", \"one\", \"one\", \"one\", \"only\", \"only\", \"optimization\", \"optimization\", \"overall\", \"pc\", \"performance\", \"performance\", \"pick\", \"pick\", \"pistol\", \"plane\", \"play\", \"played\", \"player\", \"player\", \"point\", \"pretty\", \"punch\", \"ran\", \"ran\", \"really\", \"recommend\", \"royale\", \"run\", \"run\", \"run\", \"say\", \"say\", \"scream\", \"see\", \"see\", \"seem\", \"server\", \"setting\", \"shoot\", \"shoot\", \"shoot\", \"shot\", \"shotgun\", \"simulator\", \"someone\", \"someone\", \"someone\", \"sound\", \"start\", \"start\", \"start\", \"step\", \"still\", \"system\", \"take\", \"take\", \"take\", \"team\", \"team\", \"though\", \"time\", \"time\", \"town\", \"town\", \"update\", \"use\", \"use\", \"vehicle\", \"walk\", \"weapon\", \"well\", \"worth\", \"would\", \"would\"]}, \"R\": 30, \"lambda.step\": 0.01, \"plot.opts\": {\"xlab\": \"PC1\", \"ylab\": \"PC2\"}, \"topic.order\": [1, 2, 3]};\n",
       "\n",
       "function LDAvis_load_lib(url, callback){\n",
       "  var s = document.createElement('script');\n",
       "  s.src = url;\n",
       "  s.async = true;\n",
       "  s.onreadystatechange = s.onload = callback;\n",
       "  s.onerror = function(){console.warn(\"failed to load library \" + url);};\n",
       "  document.getElementsByTagName(\"head\")[0].appendChild(s);\n",
       "}\n",
       "\n",
       "if(typeof(LDAvis) !== \"undefined\"){\n",
       "   // already loaded: just create the visualization\n",
       "   !function(LDAvis){\n",
       "       new LDAvis(\"#\" + \"ldavis_el204018592610249603647439412\", ldavis_el204018592610249603647439412_data);\n",
       "   }(LDAvis);\n",
       "}else if(typeof define === \"function\" && define.amd){\n",
       "   // require.js is available: use it to load d3/LDAvis\n",
       "   require.config({paths: {d3: \"https://cdnjs.cloudflare.com/ajax/libs/d3/3.5.5/d3.min\"}});\n",
       "   require([\"d3\"], function(d3){\n",
       "      window.d3 = d3;\n",
       "      LDAvis_load_lib(\"https://cdn.rawgit.com/bmabey/pyLDAvis/files/ldavis.v1.0.0.js\", function(){\n",
       "        new LDAvis(\"#\" + \"ldavis_el204018592610249603647439412\", ldavis_el204018592610249603647439412_data);\n",
       "      });\n",
       "    });\n",
       "}else{\n",
       "    // require.js not available: dynamically load d3 & LDAvis\n",
       "    LDAvis_load_lib(\"https://cdnjs.cloudflare.com/ajax/libs/d3/3.5.5/d3.min.js\", function(){\n",
       "         LDAvis_load_lib(\"https://cdn.rawgit.com/bmabey/pyLDAvis/files/ldavis.v1.0.0.js\", function(){\n",
       "                 new LDAvis(\"#\" + \"ldavis_el204018592610249603647439412\", ldavis_el204018592610249603647439412_data);\n",
       "            })\n",
       "         });\n",
       "}\n",
       "</script>"
      ],
      "text/plain": [
       "PreparedData(topic_coordinates=              x         y  topics  cluster       Freq\n",
       "topic                                                \n",
       "0     -0.223915  0.206442       1        1  54.731697\n",
       "1     -0.108492 -0.260487       2        1  32.814592\n",
       "2      0.332407  0.054045       3        1  12.453711, topic_info=       Term           Freq          Total Category  logprob  loglift\n",
       "4      game  125727.000000  125727.000000  Default  30.0000  30.0000\n",
       "377      10   15751.000000   15751.000000  Default  29.0000  29.0000\n",
       "54      get   29637.000000   29637.000000  Default  28.0000  28.0000\n",
       "8      play   24098.000000   24098.000000  Default  27.0000  27.0000\n",
       "127    kill    8300.000000    8300.000000  Default  26.0000  26.0000\n",
       "..      ...            ...            ...      ...      ...      ...\n",
       "371   would    2355.956661   10948.903533   Topic3  -4.7545   0.5469\n",
       "59    start    1845.919092    4999.175957   Topic3  -4.9984   1.0869\n",
       "33      gun    2100.000792    8303.980354   Topic3  -4.8695   0.7084\n",
       "215      go    1874.005781   10011.366657   Topic3  -4.9833   0.4075\n",
       "505  around    1581.669060    4084.043822   Topic3  -5.1529   1.1345\n",
       "\n",
       "[181 rows x 6 columns], token_table=      Topic      Freq    Term\n",
       "term                         \n",
       "278       3  0.998434       0\n",
       "234       3  0.999791       1\n",
       "377       3  0.999950      10\n",
       "1435      2  0.999794     100\n",
       "1338      3  0.999513      11\n",
       "...     ...       ...     ...\n",
       "79        2  0.999893  weapon\n",
       "13        1  0.999979    well\n",
       "370       1  0.999853   worth\n",
       "371       1  0.784827   would\n",
       "371       3  0.215181   would\n",
       "\n",
       "[218 rows x 3 columns], R=30, lambda_step=0.01, plot_opts={'xlab': 'PC1', 'ylab': 'PC2'}, topic_order=[1, 2, 3])"
      ]
     },
     "execution_count": 14,
     "metadata": {},
     "output_type": "execute_result"
    }
   ],
   "source": [
    "# visualize the topics using pyLDAvis\n",
    "\n",
    "pyLDAvis.enable_notebook()\n",
    "vis = pyLDAvis.gensim.prepare(pubg_pos_lda_model, pubg_pos_corpus, pubg_pos_id2word)\n",
    "vis"
   ]
  },
  {
   "cell_type": "markdown",
   "id": "defined-gallery",
   "metadata": {},
   "source": [
    "Each bubble in the Intertopic Distance Map represents a topic, with its size indicating the prevalence of the topic in the set of documents (reviews). The representative words in the topic are shown on the right hand side, with the blue bars indicating the overall term frequency, and the red bars indicating the estimated term frequency within the selected topic itself. Well-defined topics are typically scattered throughout the chart.\n",
    "\n",
    "**Topic Interpretation**\n",
    "\n",
    "- **1**: overall enjoyment of the game, comparison to other predecessor battle royale games (h1z1, arma), early access bugs\n",
    "- **2**: suggestions for improvement (fix, update, developer, team, hope)\n",
    "- **3**: spam tokens, description of gameplay (shoot, loot, plane, house)\n"
   ]
  },
  {
   "cell_type": "code",
   "execution_count": 15,
   "id": "temporal-engineering",
   "metadata": {
    "ExecuteTime": {
     "end_time": "2021-01-27T03:51:17.637219Z",
     "start_time": "2021-01-27T03:51:17.628244Z"
    }
   },
   "outputs": [],
   "source": [
    "def compute_coherence_values(dictionary, corpus, texts, start, limit, step):\n",
    "    \n",
    "    \"\"\"\n",
    "    Compute c_v coherence for various number of topics up to the limit and returns the model_list and coherence values.\n",
    "    \"\"\"\n",
    "    \n",
    "    coherence_values = []\n",
    "    model_list = []\n",
    "    for num_topics in range(start, limit, step):\n",
    "        \n",
    "        # build lda model\n",
    "        model = gensim.models.ldamodel.LdaModel(corpus=corpus,\n",
    "                                                        id2word=dictionary,\n",
    "                                                        num_topics=num_topics, \n",
    "                                                        random_state=42,\n",
    "                                                        update_every=1,\n",
    "                                                        chunksize=100,\n",
    "                                                        passes=10,\n",
    "                                                        alpha='auto',\n",
    "                                                        iterations=100,\n",
    "                                                        per_word_topics=True)\n",
    "          \n",
    "        model_list.append(model)\n",
    "        coherencemodel = CoherenceModel(model=model, texts=texts, dictionary=dictionary, coherence='c_v')\n",
    "        coherence_values.append(coherencemodel.get_coherence())\n",
    "\n",
    "    return model_list, coherence_values"
   ]
  },
  {
   "cell_type": "code",
   "execution_count": 16,
   "id": "moving-announcement",
   "metadata": {
    "ExecuteTime": {
     "end_time": "2021-01-27T03:51:17.646194Z",
     "start_time": "2021-01-27T03:51:17.639216Z"
    }
   },
   "outputs": [],
   "source": [
    "# define function to display the coherence values\n",
    "\n",
    "def display_coherence_values(dictionary, corpus, texts, start=2, limit=8, step=1):\n",
    "    \n",
    "    \"\"\"\n",
    "    Display coherence values and plot graph of coherence values with number of topics.\n",
    "    \"\"\"\n",
    "\n",
    "    # generates all the models and coherence values for the various number of topics specified\n",
    "    model_list, coherence_values = compute_coherence_values(dictionary=dictionary, \n",
    "                                                            corpus=corpus, \n",
    "                                                            texts=texts, \n",
    "                                                            limit=limit, \n",
    "                                                            start=start, \n",
    "                                                            step=step)\n",
    "\n",
    "    for no_steps, coherence_value in enumerate(coherence_values):\n",
    "        print(f'Coherence value for {start + no_steps} topics: {coherence_value:.4f}')\n",
    "        \n",
    "    # display graph\n",
    "    x = range(start, limit, step)\n",
    "    plt.plot(x, coherence_values)\n",
    "    plt.xlabel(\"No. of topics\")\n",
    "    plt.ylabel(\"Coherence score\")\n",
    "    plt.legend((\"coherence_values\"), loc='best')\n",
    "    plt.show()"
   ]
  },
  {
   "cell_type": "code",
   "execution_count": 17,
   "id": "united-printing",
   "metadata": {
    "ExecuteTime": {
     "end_time": "2021-01-27T04:17:39.822230Z",
     "start_time": "2021-01-27T03:51:17.648189Z"
    }
   },
   "outputs": [
    {
     "name": "stdout",
     "output_type": "stream",
     "text": [
      "Coherence value for 2 topics: 0.3965\n",
      "Coherence value for 3 topics: 0.4079\n",
      "Coherence value for 4 topics: 0.3816\n",
      "Coherence value for 5 topics: 0.3613\n",
      "Coherence value for 6 topics: 0.3650\n",
      "Coherence value for 7 topics: 0.3599\n"
     ]
    },
    {
     "data": {
      "image/png": "[encoded data removed]",
      "text/plain": [
       "<Figure size 432x288 with 1 Axes>"
      ]
     },
     "metadata": {
      "needs_background": "light"
     },
     "output_type": "display_data"
    }
   ],
   "source": [
    "display_coherence_values(pubg_pos_id2word, pubg_pos_corpus, pubg_pos_processed_text, start=2, limit=8, step=1)"
   ]
  },
  {
   "cell_type": "markdown",
   "id": "musical-craps",
   "metadata": {},
   "source": [
    "### Negative"
   ]
  },
  {
   "cell_type": "code",
   "execution_count": 18,
   "id": "dependent-scotland",
   "metadata": {
    "ExecuteTime": {
     "end_time": "2021-01-27T04:18:42.920642Z",
     "start_time": "2021-01-27T04:17:39.823193Z"
    }
   },
   "outputs": [],
   "source": [
    "pubg_neg_processed_text, pubg_neg_id2word, pubg_neg_corpus = build_bigrams_trigrams(0, pubg_ml)"
   ]
  },
  {
   "cell_type": "code",
   "execution_count": 19,
   "id": "opposite-checklist",
   "metadata": {
    "ExecuteTime": {
     "end_time": "2021-01-27T04:22:52.509996Z",
     "start_time": "2021-01-27T04:18:42.921602Z"
    }
   },
   "outputs": [],
   "source": [
    "# build LDA model\n",
    "\n",
    "pubg_neg_lda_model = gensim.models.ldamodel.LdaModel(corpus=pubg_neg_corpus,\n",
    "                                                     id2word=pubg_neg_id2word,\n",
    "                                                     num_topics=3, \n",
    "                                                     random_state=42,\n",
    "                                                     update_every=1,\n",
    "                                                     chunksize=100,\n",
    "                                                     passes=10,\n",
    "                                                     alpha='auto',\n",
    "                                                     iterations=100,\n",
    "                                                     per_word_topics=True)"
   ]
  },
  {
   "cell_type": "code",
   "execution_count": 20,
   "id": "threaded-snowboard",
   "metadata": {
    "ExecuteTime": {
     "end_time": "2021-01-27T04:27:45.716412Z",
     "start_time": "2021-01-27T04:22:52.511694Z"
    }
   },
   "outputs": [
    {
     "data": {
      "text/html": [
       "<div>\n",
       "<style scoped>\n",
       "    .dataframe tbody tr th:only-of-type {\n",
       "        vertical-align: middle;\n",
       "    }\n",
       "\n",
       "    .dataframe tbody tr th {\n",
       "        vertical-align: top;\n",
       "    }\n",
       "\n",
       "    .dataframe thead th {\n",
       "        text-align: right;\n",
       "    }\n",
       "</style>\n",
       "<table border=\"1\" class=\"dataframe\">\n",
       "  <thead>\n",
       "    <tr style=\"text-align: right;\">\n",
       "      <th></th>\n",
       "      <th>Document_No</th>\n",
       "      <th>Dominant_Topic</th>\n",
       "      <th>Percentage_Contribution</th>\n",
       "      <th>Keywords</th>\n",
       "      <th>Text</th>\n",
       "    </tr>\n",
       "  </thead>\n",
       "  <tbody>\n",
       "    <tr>\n",
       "      <th>0</th>\n",
       "      <td>0</td>\n",
       "      <td>2.0</td>\n",
       "      <td>0.7470</td>\n",
       "      <td>game, not, play, still, fix, make, server, mor...</td>\n",
       "      <td>[only, reason, bought, game, friend, blast, ga...</td>\n",
       "    </tr>\n",
       "    <tr>\n",
       "      <th>1</th>\n",
       "      <td>1</td>\n",
       "      <td>2.0</td>\n",
       "      <td>0.5063</td>\n",
       "      <td>game, not, play, still, fix, make, server, mor...</td>\n",
       "      <td>[computer, wont, even, open, game, know, isnt,...</td>\n",
       "    </tr>\n",
       "    <tr>\n",
       "      <th>2</th>\n",
       "      <td>2</td>\n",
       "      <td>2.0</td>\n",
       "      <td>0.7083</td>\n",
       "      <td>game, not, play, still, fix, make, server, mor...</td>\n",
       "      <td>[complete, trash, instead, fix, broken, trash,...</td>\n",
       "    </tr>\n",
       "    <tr>\n",
       "      <th>3</th>\n",
       "      <td>3</td>\n",
       "      <td>2.0</td>\n",
       "      <td>0.8168</td>\n",
       "      <td>game, not, play, still, fix, make, server, mor...</td>\n",
       "      <td>[back, day, game, use, favorite, battle_royal,...</td>\n",
       "    </tr>\n",
       "    <tr>\n",
       "      <th>4</th>\n",
       "      <td>4</td>\n",
       "      <td>2.0</td>\n",
       "      <td>0.7101</td>\n",
       "      <td>game, not, play, still, fix, make, server, mor...</td>\n",
       "      <td>[warzone_apex_legend, way, well, alternative, ...</td>\n",
       "    </tr>\n",
       "    <tr>\n",
       "      <th>5</th>\n",
       "      <td>5</td>\n",
       "      <td>2.0</td>\n",
       "      <td>0.5063</td>\n",
       "      <td>game, not, play, still, fix, make, server, mor...</td>\n",
       "      <td>[i'm, go, echo, most, review, say, launch, tim...</td>\n",
       "    </tr>\n",
       "    <tr>\n",
       "      <th>6</th>\n",
       "      <td>6</td>\n",
       "      <td>0.0</td>\n",
       "      <td>0.6069</td>\n",
       "      <td>get, like, game, time, run, kill, one, not, no...</td>\n",
       "      <td>[swear, ethereal, pantheon, humanity's, variou...</td>\n",
       "    </tr>\n",
       "    <tr>\n",
       "      <th>7</th>\n",
       "      <td>7</td>\n",
       "      <td>2.0</td>\n",
       "      <td>0.6306</td>\n",
       "      <td>game, not, play, still, fix, make, server, mor...</td>\n",
       "      <td>[game, performance, shit, cheater, 2, 3, match...</td>\n",
       "    </tr>\n",
       "    <tr>\n",
       "      <th>8</th>\n",
       "      <td>8</td>\n",
       "      <td>2.0</td>\n",
       "      <td>0.5340</td>\n",
       "      <td>game, not, play, still, fix, make, server, mor...</td>\n",
       "      <td>[people, think, buy, game, aware, follow, game...</td>\n",
       "    </tr>\n",
       "    <tr>\n",
       "      <th>9</th>\n",
       "      <td>9</td>\n",
       "      <td>2.0</td>\n",
       "      <td>0.6903</td>\n",
       "      <td>game, not, play, still, fix, make, server, mor...</td>\n",
       "      <td>[played, game, lot, first, come, great, game, ...</td>\n",
       "    </tr>\n",
       "    <tr>\n",
       "      <th>10</th>\n",
       "      <td>10</td>\n",
       "      <td>2.0</td>\n",
       "      <td>0.7343</td>\n",
       "      <td>game, not, play, still, fix, make, server, mor...</td>\n",
       "      <td>[game, abismal, since, launch, try, best, make...</td>\n",
       "    </tr>\n",
       "    <tr>\n",
       "      <th>11</th>\n",
       "      <td>11</td>\n",
       "      <td>0.0</td>\n",
       "      <td>0.5217</td>\n",
       "      <td>get, like, game, time, run, kill, one, not, no...</td>\n",
       "      <td>[i've, get, 2, 500, hr, game, gotten, well, wa...</td>\n",
       "    </tr>\n",
       "    <tr>\n",
       "      <th>12</th>\n",
       "      <td>12</td>\n",
       "      <td>2.0</td>\n",
       "      <td>0.7717</td>\n",
       "      <td>game, not, play, still, fix, make, server, mor...</td>\n",
       "      <td>[id, like, see, developer, stop, release, seas...</td>\n",
       "    </tr>\n",
       "    <tr>\n",
       "      <th>13</th>\n",
       "      <td>13</td>\n",
       "      <td>2.0</td>\n",
       "      <td>0.5787</td>\n",
       "      <td>game, not, play, still, fix, make, server, mor...</td>\n",
       "      <td>[every, check, back, see, game, change, whethe...</td>\n",
       "    </tr>\n",
       "    <tr>\n",
       "      <th>14</th>\n",
       "      <td>14</td>\n",
       "      <td>2.0</td>\n",
       "      <td>0.4330</td>\n",
       "      <td>game, not, play, still, fix, make, server, mor...</td>\n",
       "      <td>[4, year, hope, play, pubg, without, face, che...</td>\n",
       "    </tr>\n",
       "  </tbody>\n",
       "</table>\n",
       "</div>"
      ],
      "text/plain": [
       "    Document_No  Dominant_Topic  Percentage_Contribution  \\\n",
       "0             0             2.0                   0.7470   \n",
       "1             1             2.0                   0.5063   \n",
       "2             2             2.0                   0.7083   \n",
       "3             3             2.0                   0.8168   \n",
       "4             4             2.0                   0.7101   \n",
       "5             5             2.0                   0.5063   \n",
       "6             6             0.0                   0.6069   \n",
       "7             7             2.0                   0.6306   \n",
       "8             8             2.0                   0.5340   \n",
       "9             9             2.0                   0.6903   \n",
       "10           10             2.0                   0.7343   \n",
       "11           11             0.0                   0.5217   \n",
       "12           12             2.0                   0.7717   \n",
       "13           13             2.0                   0.5787   \n",
       "14           14             2.0                   0.4330   \n",
       "\n",
       "                                             Keywords  \\\n",
       "0   game, not, play, still, fix, make, server, mor...   \n",
       "1   game, not, play, still, fix, make, server, mor...   \n",
       "2   game, not, play, still, fix, make, server, mor...   \n",
       "3   game, not, play, still, fix, make, server, mor...   \n",
       "4   game, not, play, still, fix, make, server, mor...   \n",
       "5   game, not, play, still, fix, make, server, mor...   \n",
       "6   get, like, game, time, run, kill, one, not, no...   \n",
       "7   game, not, play, still, fix, make, server, mor...   \n",
       "8   game, not, play, still, fix, make, server, mor...   \n",
       "9   game, not, play, still, fix, make, server, mor...   \n",
       "10  game, not, play, still, fix, make, server, mor...   \n",
       "11  get, like, game, time, run, kill, one, not, no...   \n",
       "12  game, not, play, still, fix, make, server, mor...   \n",
       "13  game, not, play, still, fix, make, server, mor...   \n",
       "14  game, not, play, still, fix, make, server, mor...   \n",
       "\n",
       "                                                 Text  \n",
       "0   [only, reason, bought, game, friend, blast, ga...  \n",
       "1   [computer, wont, even, open, game, know, isnt,...  \n",
       "2   [complete, trash, instead, fix, broken, trash,...  \n",
       "3   [back, day, game, use, favorite, battle_royal,...  \n",
       "4   [warzone_apex_legend, way, well, alternative, ...  \n",
       "5   [i'm, go, echo, most, review, say, launch, tim...  \n",
       "6   [swear, ethereal, pantheon, humanity's, variou...  \n",
       "7   [game, performance, shit, cheater, 2, 3, match...  \n",
       "8   [people, think, buy, game, aware, follow, game...  \n",
       "9   [played, game, lot, first, come, great, game, ...  \n",
       "10  [game, abismal, since, launch, try, best, make...  \n",
       "11  [i've, get, 2, 500, hr, game, gotten, well, wa...  \n",
       "12  [id, like, see, developer, stop, release, seas...  \n",
       "13  [every, check, back, see, game, change, whethe...  \n",
       "14  [4, year, hope, play, pubg, without, face, che...  "
      ]
     },
     "metadata": {},
     "output_type": "display_data"
    }
   ],
   "source": [
    "display_dominant_topics(pubg_neg_lda_model, pubg_neg_corpus, pubg_neg_processed_text, 15)"
   ]
  },
  {
   "cell_type": "code",
   "execution_count": 21,
   "id": "worst-novel",
   "metadata": {
    "ExecuteTime": {
     "end_time": "2021-01-27T04:32:46.084968Z",
     "start_time": "2021-01-27T04:27:45.718409Z"
    }
   },
   "outputs": [
    {
     "data": {
      "text/html": [
       "<div>\n",
       "<style scoped>\n",
       "    .dataframe tbody tr th:only-of-type {\n",
       "        vertical-align: middle;\n",
       "    }\n",
       "\n",
       "    .dataframe tbody tr th {\n",
       "        vertical-align: top;\n",
       "    }\n",
       "\n",
       "    .dataframe thead th {\n",
       "        text-align: right;\n",
       "    }\n",
       "</style>\n",
       "<table border=\"1\" class=\"dataframe\">\n",
       "  <thead>\n",
       "    <tr style=\"text-align: right;\">\n",
       "      <th></th>\n",
       "      <th>Topic_Num</th>\n",
       "      <th>Topic_Percentage_Contribution</th>\n",
       "      <th>Keywords</th>\n",
       "      <th>Representative Text</th>\n",
       "    </tr>\n",
       "  </thead>\n",
       "  <tbody>\n",
       "    <tr>\n",
       "      <th>0</th>\n",
       "      <td>0.0</td>\n",
       "      <td>0.9507</td>\n",
       "      <td>get, like, game, time, run, kill, one, not, no...</td>\n",
       "      <td>[round, 1, wait, jump, land, scavenge, run, ar...</td>\n",
       "    </tr>\n",
       "    <tr>\n",
       "      <th>1</th>\n",
       "      <td>1.0</td>\n",
       "      <td>0.8724</td>\n",
       "      <td>fps, low, ban, pc, setting, run, computer, hig...</td>\n",
       "      <td>[no, no, free_tibet_tiananmen_square, protest_...</td>\n",
       "    </tr>\n",
       "    <tr>\n",
       "      <th>2</th>\n",
       "      <td>2.0</td>\n",
       "      <td>0.9224</td>\n",
       "      <td>game, not, play, still, fix, make, server, mor...</td>\n",
       "      <td>[bug, bug, bug, bug, bug, bug, bug, bug, bug, ...</td>\n",
       "    </tr>\n",
       "  </tbody>\n",
       "</table>\n",
       "</div>"
      ],
      "text/plain": [
       "   Topic_Num  Topic_Percentage_Contribution  \\\n",
       "0        0.0                         0.9507   \n",
       "1        1.0                         0.8724   \n",
       "2        2.0                         0.9224   \n",
       "\n",
       "                                            Keywords  \\\n",
       "0  get, like, game, time, run, kill, one, not, no...   \n",
       "1  fps, low, ban, pc, setting, run, computer, hig...   \n",
       "2  game, not, play, still, fix, make, server, mor...   \n",
       "\n",
       "                                 Representative Text  \n",
       "0  [round, 1, wait, jump, land, scavenge, run, ar...  \n",
       "1  [no, no, free_tibet_tiananmen_square, protest_...  \n",
       "2  [bug, bug, bug, bug, bug, bug, bug, bug, bug, ...  "
      ]
     },
     "metadata": {},
     "output_type": "display_data"
    }
   ],
   "source": [
    "display_representative_docs(pubg_neg_lda_model, pubg_neg_corpus, pubg_neg_processed_text)"
   ]
  },
  {
   "cell_type": "code",
   "execution_count": 22,
   "id": "following-charleston",
   "metadata": {
    "ExecuteTime": {
     "end_time": "2021-01-27T04:33:25.640231Z",
     "start_time": "2021-01-27T04:32:46.087951Z"
    }
   },
   "outputs": [
    {
     "name": "stdout",
     "output_type": "stream",
     "text": [
      "Perplexity: -7.2453\n",
      "Coherence Score: 0.4451\n"
     ]
    }
   ],
   "source": [
    "compute_perp_coherence(ldamodel=pubg_neg_lda_model, \n",
    "                       dictionary=pubg_neg_id2word,\n",
    "                       corpus=pubg_neg_corpus, \n",
    "                       texts=pubg_neg_processed_text)"
   ]
  },
  {
   "cell_type": "code",
   "execution_count": 23,
   "id": "statutory-contribution",
   "metadata": {
    "ExecuteTime": {
     "end_time": "2021-01-27T04:33:42.145758Z",
     "start_time": "2021-01-27T04:33:25.643221Z"
    }
   },
   "outputs": [
    {
     "data": {
      "text/html": [
       "\n",
       "<link rel=\"stylesheet\" type=\"text/css\" href=\"https://cdn.rawgit.com/bmabey/pyLDAvis/files/ldavis.v1.0.0.css\">\n",
       "\n",
       "\n",
       "<div id=\"ldavis_el204018592723940008382747025\"></div>\n",
       "<script type=\"text/javascript\">\n",
       "\n",
       "var ldavis_el204018592723940008382747025_data = {\"mdsDat\": {\"x\": [-0.22031980098828866, -0.1663681112056205, 0.3866879121939088], \"y\": [0.20290604178081556, -0.22269992044413373, 0.01979387866331847], \"topics\": [1, 2, 3], \"cluster\": [1, 1, 1], \"Freq\": [53.21921734507641, 43.1558698963329, 3.624912758590678]}, \"tinfo\": {\"Term\": [\"game\", \"run\", \"fps\", \"get\", \"low\", \"ban\", \"pc\", \"fix\", \"server\", \"high\", \"setting\", \"still\", \"kill\", \"issue\", \"graphic\", \"update\", \"money\", \"10\", \"see\", \"bug\", \"early_access\", \"fuck\", \"2\", \"3\", \"buy\", \"shot\", \"hacker\", \"computer\", \"time\", \"drop\", \"fix\", \"server\", \"issue\", \"update\", \"money\", \"bug\", \"early_access\", \"hacker\", \"buy\", \"shit\", \"devs\", \"recommend\", \"release\", \"new\", \"add\", \"problem\", \"cheater\", \"developer\", \"crash\", \"optimization\", \"year\", \"month\", \"crate\", \"h1z1\", \"chinese\", \"instead\", \"performance\", \"patch\", \"hack\", \"fortnite\", \"fuck\", \"dont\", \"pubg\", \"full\", \"game\", \"still\", \"great\", \"make\", \"lag\", \"not\", \"bad\", \"more\", \"play\", \"review\", \"well\", \"don't\", \"would\", \"even\", \"good\", \"no\", \"fun\", \"player\", \"kill\", \"10\", \"see\", \"shot\", \"3\", \"gun\", \"feel\", \"die\", \"loot\", \"shoot\", \"5\", \"weapon\", \"find\", \"load\", \"around\", \"i've\", \"played\", \"someone\", \"match\", \"hit\", \"minute\", \"sound\", \"ever\", \"point\", \"building\", \"4\", \"second\", \"guy\", \"last\", \"win\", \"2\", \"end\", \"first\", \"get\", \"map\", \"look\", \"run\", \"time\", \"one\", \"like\", \"people\", \"drop\", \"1\", \"no\", \"take\", \"most\", \"only\", \"game\", \"even\", \"not\", \"play\", \"go\", \"player\", \"fps\", \"low\", \"ban\", \"pc\", \"setting\", \"computer\", \"ultra\", \"freeze\", \"60\", \"frame\", \"spec\", \"medium\", \"stutter\", \"cpu\", \"network\", \"ram\", \"account\", \"gpu\", \"forum\", \"graphic_card\", \"hardware\", \"i7\", \"minimum\", \"error\", \"max\", \"file\", \"rig\", \"ssd\", \"60fps\", \"amd\", \"controller\", \"potato\", \"memory\", \"stream_snip\", \"24\", \"high\", \"graphic\", \"run\", \"40\", \"set\"], \"Freq\": [172921.0, 13960.0, 7257.0, 39149.0, 5346.0, 4732.0, 4002.0, 19435.0, 18268.0, 4367.0, 3396.0, 22063.0, 10712.0, 13694.0, 3301.0, 12923.0, 12403.0, 9293.0, 8973.0, 11610.0, 11438.0, 11459.0, 8531.0, 7946.0, 10351.0, 7654.0, 10199.0, 1914.0, 19929.0, 5186.0, 19435.176579749874, 18268.221842674404, 13694.223638033349, 12923.196433100577, 12403.338965084671, 11610.072625555507, 11437.48349895161, 10199.411368480598, 10350.667437941338, 9982.9676460625, 8750.710506089048, 8871.735182101931, 8249.718226363415, 8254.794048412286, 7424.929929119122, 8365.49346515752, 7256.664043784682, 6320.037771942736, 6574.45552828283, 5947.4350280554445, 5186.1850396544205, 4838.023287990417, 4593.9542624967335, 6939.001932182981, 4287.4262482181775, 4039.2444805344253, 4935.175505576736, 4076.025189586887, 3873.3857359998797, 3425.757394570491, 11451.345887882497, 7781.057860102633, 9170.466534018718, 5358.3539132290225, 156075.79944732029, 21028.072664606403, 8468.748293222445, 19404.876634389435, 12374.699913345332, 32648.018255832427, 14084.67148794654, 15611.34344473268, 22719.22301355693, 8551.72218697642, 13549.252735774933, 10440.541230722405, 10182.766666054336, 11837.480183209527, 10037.962672800462, 9386.255287619882, 8775.441353681832, 8618.976083994483, 10712.318112045574, 9292.728892170308, 8973.248296358914, 7653.567495488527, 7945.75678108635, 6843.831838061686, 6785.394222634598, 6617.146651672201, 6045.459352416819, 5354.853312418573, 5807.273229533763, 5282.184239744818, 4889.873241531614, 5288.11235196182, 4682.835538671246, 5056.355853184475, 4997.004338080676, 4413.719123225532, 4683.886598828362, 4186.274418228691, 3894.386341879688, 4029.50059335626, 4620.399121220702, 4179.250532746421, 3773.6394996678073, 4431.3267222531085, 3411.6923272754993, 3286.2950197004384, 3140.5653325410203, 2710.9116382483985, 8527.263441430154, 4079.4928694237474, 7579.169113145517, 36104.72546253616, 7805.273029129054, 6682.109359733211, 11827.047318243258, 15521.295069003861, 9825.482554619804, 17064.70455304512, 9130.155656324601, 4882.906455896915, 6778.3700350367335, 9500.62188428184, 5960.877861808275, 5461.9835026208475, 6839.855996823497, 16845.870142523083, 7578.679081649442, 9524.360919322262, 8412.695769495225, 6552.120499336113, 6618.672939661208, 7256.723703905268, 5345.804104936759, 4731.533284463267, 4001.7293847668197, 3395.9799754443166, 1914.2457407266452, 1258.887406188858, 1187.0897210931485, 1293.6384212525509, 1300.350897702864, 939.9004843171375, 790.0012492369101, 841.7465668345037, 639.8454075171389, 713.415738993257, 530.7236878156181, 487.856878741607, 428.01479946949996, 547.831829094079, 401.05067427697116, 451.09285158451513, 378.4708633368772, 428.45386276829214, 436.5142346167469, 492.08576225163614, 405.2358087910971, 601.0637497531594, 297.1873605702789, 312.4138382488415, 288.23353474980496, 358.83845067240554, 341.02806695564396, 320.0896046553534, 451.19207349517734, 405.24253354974815, 1578.5319840802003, 1128.7300831450991, 2133.533167189698, 490.380820233797, 488.8314865934977], \"Total\": [172921.0, 13960.0, 7257.0, 39149.0, 5346.0, 4732.0, 4002.0, 19435.0, 18268.0, 4367.0, 3396.0, 22063.0, 10712.0, 13694.0, 3301.0, 12923.0, 12403.0, 9293.0, 8973.0, 11610.0, 11438.0, 11459.0, 8531.0, 7946.0, 10351.0, 7654.0, 10199.0, 1914.0, 19929.0, 5186.0, 19435.743815570626, 18268.781719107697, 13694.824201121935, 12923.76426508268, 12403.886546012289, 11610.640077379105, 11438.052500194974, 10199.963103045253, 10351.22965356361, 9983.560239379818, 8751.258442820694, 8872.324291408968, 8250.266206080987, 8255.380783048318, 7425.473751885682, 8366.10736770563, 7257.222353170654, 6320.5741422999845, 6575.096324680232, 5948.121109195471, 5186.789916358722, 4838.591048502393, 4594.493626147038, 6939.8510793583755, 4287.968621230323, 4039.802250848422, 4935.864186932496, 4076.616421655355, 3873.954619669903, 3426.298419143048, 11459.901151822947, 7797.464945358122, 9240.246897173623, 5370.008049494359, 172921.92846663416, 22063.190204050494, 8779.349852537316, 21554.382081580126, 13860.041695520704, 42172.64325220907, 16262.261275143, 18916.56701299051, 31132.184504966248, 9244.893256712723, 18055.6728433167, 12670.823556124018, 12186.38064443917, 19416.450541277223, 15699.528053400156, 18887.13473764213, 14019.354233453614, 15238.173517410123, 10712.921804116564, 9293.381888452346, 8973.894679894876, 7654.146456890065, 7946.42760227198, 6844.432719561913, 6786.018747691723, 6617.778448277913, 6046.059421828621, 5355.442065828449, 5807.915369819967, 5282.787118268462, 4890.467407401385, 5288.794503633235, 4683.444828021899, 5057.0215742715145, 4997.666809145263, 4414.309913119352, 4684.518486429239, 4186.870310446561, 3894.973327148698, 4030.1337525219433, 4621.1346840805845, 4179.91806376236, 3774.2506360259326, 4432.046818889325, 3412.3133599690686, 3286.89695345999, 3141.2322031551626, 2711.506507558404, 8531.932473186012, 4081.1910471021106, 7776.032976321333, 39149.98005936121, 8137.460881473401, 7158.472141059971, 13960.977110753756, 19929.68030185703, 12422.462780609472, 25607.527713790845, 14120.60887133545, 5186.349479014947, 9152.431641356012, 18887.13473764213, 7842.747849268539, 6695.713069876347, 12497.700353964561, 172921.92846663416, 19416.450541277223, 42172.64325220907, 31132.184504966248, 14065.068385266315, 15238.173517410123, 7257.468288088406, 5346.510571492386, 4732.2211717606815, 4002.422745238233, 3396.6200738941225, 1914.9355370714022, 1259.5511638639784, 1187.8118498308345, 1294.4313126505529, 1301.1768931232614, 940.5308665020096, 790.651866356015, 842.4785441647449, 640.5192412987101, 714.2193754257481, 531.3481633920035, 488.5638977762484, 428.639973887164, 548.6704375683981, 401.6699573244747, 451.80049292011057, 379.0838491441776, 429.1948408171172, 437.2743774162493, 492.95293430546036, 406.0392206933288, 602.2985741185038, 297.8011481600778, 313.06058476044626, 288.85725226064926, 359.68731526467667, 341.77128926036056, 320.8046210240007, 456.52323756545184, 412.2467234926715, 4367.376990104691, 3301.728579522657, 13960.977110753756, 1089.4206479864704, 1287.5464638653016], \"Category\": [\"Default\", \"Default\", \"Default\", \"Default\", \"Default\", \"Default\", \"Default\", \"Default\", \"Default\", \"Default\", \"Default\", \"Default\", \"Default\", \"Default\", \"Default\", \"Default\", \"Default\", \"Default\", \"Default\", \"Default\", \"Default\", \"Default\", \"Default\", \"Default\", \"Default\", \"Default\", \"Default\", \"Default\", \"Default\", \"Default\", \"Topic1\", \"Topic1\", \"Topic1\", \"Topic1\", \"Topic1\", \"Topic1\", \"Topic1\", \"Topic1\", \"Topic1\", \"Topic1\", \"Topic1\", \"Topic1\", \"Topic1\", \"Topic1\", \"Topic1\", \"Topic1\", \"Topic1\", \"Topic1\", \"Topic1\", \"Topic1\", \"Topic1\", \"Topic1\", \"Topic1\", \"Topic1\", \"Topic1\", \"Topic1\", \"Topic1\", \"Topic1\", \"Topic1\", \"Topic1\", \"Topic1\", \"Topic1\", \"Topic1\", \"Topic1\", \"Topic1\", \"Topic1\", \"Topic1\", \"Topic1\", \"Topic1\", \"Topic1\", \"Topic1\", \"Topic1\", \"Topic1\", \"Topic1\", \"Topic1\", \"Topic1\", \"Topic1\", \"Topic1\", \"Topic1\", \"Topic1\", \"Topic1\", \"Topic1\", \"Topic2\", \"Topic2\", \"Topic2\", \"Topic2\", \"Topic2\", \"Topic2\", \"Topic2\", \"Topic2\", \"Topic2\", \"Topic2\", \"Topic2\", \"Topic2\", \"Topic2\", \"Topic2\", \"Topic2\", \"Topic2\", \"Topic2\", \"Topic2\", \"Topic2\", \"Topic2\", \"Topic2\", \"Topic2\", \"Topic2\", \"Topic2\", \"Topic2\", \"Topic2\", \"Topic2\", \"Topic2\", \"Topic2\", \"Topic2\", \"Topic2\", \"Topic2\", \"Topic2\", \"Topic2\", \"Topic2\", \"Topic2\", \"Topic2\", \"Topic2\", \"Topic2\", \"Topic2\", \"Topic2\", \"Topic2\", \"Topic2\", \"Topic2\", \"Topic2\", \"Topic2\", \"Topic2\", \"Topic2\", \"Topic2\", \"Topic2\", \"Topic2\", \"Topic2\", \"Topic2\", \"Topic3\", \"Topic3\", \"Topic3\", \"Topic3\", \"Topic3\", \"Topic3\", \"Topic3\", \"Topic3\", \"Topic3\", \"Topic3\", \"Topic3\", \"Topic3\", \"Topic3\", \"Topic3\", \"Topic3\", \"Topic3\", \"Topic3\", \"Topic3\", \"Topic3\", \"Topic3\", \"Topic3\", \"Topic3\", \"Topic3\", \"Topic3\", \"Topic3\", \"Topic3\", \"Topic3\", \"Topic3\", \"Topic3\", \"Topic3\", \"Topic3\", \"Topic3\", \"Topic3\", \"Topic3\", \"Topic3\", \"Topic3\", \"Topic3\", \"Topic3\", \"Topic3\", \"Topic3\"], \"logprob\": [30.0, 29.0, 28.0, 27.0, 26.0, 25.0, 24.0, 23.0, 22.0, 21.0, 20.0, 19.0, 18.0, 17.0, 16.0, 15.0, 14.0, 13.0, 12.0, 11.0, 10.0, 9.0, 8.0, 7.0, 6.0, 5.0, 4.0, 3.0, 2.0, 1.0, -4.410799980163574, -4.472700119018555, -4.760900020599365, -4.81879997253418, -4.859899997711182, -4.926000118255615, -4.940999984741211, -5.055500030517578, -5.040800094604492, -5.077000141143799, -5.208700180053711, -5.195000171661377, -5.2677001953125, -5.267099857330322, -5.373000144958496, -5.253699779510498, -5.395899772644043, -5.53410005569458, -5.494699954986572, -5.594900131225586, -5.731900215148926, -5.801300048828125, -5.853099822998047, -5.440700054168701, -5.9222002029418945, -5.981800079345703, -5.781499862670898, -5.972700119018555, -6.02370023727417, -6.146500110626221, -4.939700126647949, -5.326200008392334, -5.161900043487549, -5.69920015335083, -2.327500104904175, -4.331999778747559, -5.241499900817871, -4.412300109863281, -4.862199783325195, -3.8921000957489014, -4.732800006866455, -4.629899978637695, -4.2546000480651855, -5.2316999435424805, -4.771500110626221, -5.032199859619141, -5.057199954986572, -4.906599998474121, -5.071499824523926, -5.138599872589111, -5.205900192260742, -5.223899841308594, -4.796899795532227, -4.939000129699707, -4.973999977111816, -5.1331000328063965, -5.095600128173828, -5.244900226593018, -5.253499984741211, -5.278600215911865, -5.368899822235107, -5.490200042724609, -5.40910005569458, -5.503900051116943, -5.581099987030029, -5.502799987792969, -5.6244001388549805, -5.547599792480469, -5.5594000816345215, -5.683499813079834, -5.624100208282471, -5.736400127410889, -5.808700084686279, -5.774600028991699, -5.637800216674805, -5.738100051879883, -5.840199947357178, -5.679599761962891, -5.940999984741211, -5.978499889373779, -6.023900032043457, -6.171000003814697, -5.025000095367432, -5.76230001449585, -5.1427998542785645, -3.5817999839782715, -5.113500118255615, -5.268799781799316, -4.69789981842041, -4.426000118255615, -4.883299827575684, -4.331200122833252, -4.956699848175049, -5.582499980926514, -5.254499912261963, -4.916900157928467, -5.382999897003174, -5.470399856567383, -5.245500087738037, -4.344099998474121, -5.142899990081787, -4.914400100708008, -5.03849983215332, -5.28849983215332, -5.27839994430542, -2.7093000411987305, -3.015000104904175, -3.13700008392334, -3.304500102996826, -3.4686999320983887, -4.041900157928467, -4.460999965667725, -4.519800186157227, -4.433800220489502, -4.428599834442139, -4.753200054168701, -4.927000045776367, -4.863500118255615, -5.137800216674805, -5.0289998054504395, -5.32480001449585, -5.408999919891357, -5.539899826049805, -5.293099880218506, -5.604899883270264, -5.487299919128418, -5.662899971008301, -5.53879976272583, -5.520199775695801, -5.400400161743164, -5.594600200653076, -5.200300216674805, -5.904699802398682, -5.854700088500977, -5.935200214385986, -5.716100215911865, -5.767099857330322, -5.830399990081787, -5.487100124359131, -5.5945000648498535, -4.234799861907959, -4.570199966430664, -3.933500051498413, -5.403800010681152, -5.4070000648498535], \"loglift\": [30.0, 29.0, 28.0, 27.0, 26.0, 25.0, 24.0, 23.0, 22.0, 21.0, 20.0, 19.0, 18.0, 17.0, 16.0, 15.0, 14.0, 13.0, 12.0, 11.0, 10.0, 9.0, 8.0, 7.0, 6.0, 5.0, 4.0, 3.0, 2.0, 1.0, 0.6307, 0.6307, 0.6307, 0.6307, 0.6307, 0.6307, 0.6307, 0.6307, 0.6307, 0.6307, 0.6307, 0.6307, 0.6307, 0.6307, 0.6307, 0.6307, 0.6307, 0.6307, 0.6307, 0.6306, 0.6306, 0.6306, 0.6306, 0.6306, 0.6306, 0.6306, 0.6306, 0.6306, 0.6306, 0.6306, 0.63, 0.6286, 0.6232, 0.6286, 0.5283, 0.5827, 0.5947, 0.5257, 0.5174, 0.3748, 0.487, 0.4387, 0.3157, 0.5528, 0.3436, 0.4371, 0.4511, 0.1359, 0.1835, -0.0685, 0.1623, 0.0609, 0.8403, 0.8403, 0.8403, 0.8403, 0.8403, 0.8403, 0.8403, 0.8403, 0.8403, 0.8402, 0.8402, 0.8402, 0.8402, 0.8402, 0.8402, 0.8402, 0.8402, 0.8402, 0.8402, 0.8402, 0.8402, 0.8402, 0.8402, 0.8402, 0.8402, 0.8402, 0.8402, 0.8402, 0.8401, 0.8401, 0.8398, 0.8399, 0.8147, 0.7594, 0.7987, 0.7715, 0.6745, 0.5904, 0.6058, 0.4345, 0.4043, 0.7801, 0.5401, 0.1532, 0.566, 0.6367, 0.2376, -1.4884, -0.1004, -0.6476, -0.4681, 0.0764, 0.0064, 3.3172, 3.3172, 3.3172, 3.3172, 3.3172, 3.317, 3.3168, 3.3167, 3.3167, 3.3167, 3.3167, 3.3165, 3.3165, 3.3163, 3.3162, 3.3162, 3.3159, 3.3159, 3.3158, 3.3158, 3.3158, 3.3157, 3.3156, 3.3156, 3.3156, 3.3154, 3.3153, 3.3153, 3.3153, 3.3152, 3.315, 3.3152, 3.3151, 3.3056, 3.3002, 2.2997, 2.244, 1.4389, 2.5191, 2.3489]}, \"token.table\": {\"Topic\": [1, 2, 2, 1, 2, 1, 2, 3, 2, 2, 2, 3, 2, 3, 3, 3, 1, 3, 2, 1, 2, 3, 1, 2, 1, 1, 1, 3, 3, 3, 1, 1, 1, 1, 2, 1, 2, 1, 2, 2, 3, 1, 2, 3, 3, 1, 2, 2, 2, 3, 2, 1, 2, 1, 1, 3, 3, 3, 3, 1, 2, 1, 2, 1, 2, 1, 2, 1, 2, 1, 2, 1, 2, 3, 2, 3, 3, 1, 2, 2, 2, 1, 2, 1, 1, 3, 2, 3, 2, 2, 3, 1, 1, 2, 1, 2, 2, 1, 2, 2, 1, 2, 2, 3, 1, 2, 1, 2, 2, 3, 3, 3, 3, 2, 1, 1, 1, 2, 1, 2, 3, 1, 1, 2, 1, 2, 1, 2, 1, 2, 1, 1, 3, 1, 2, 1, 1, 2, 2, 1, 2, 3, 2, 3, 1, 1, 3, 3, 1, 1, 1, 2, 2, 3, 2, 3, 2, 2, 1, 2, 3, 3, 1, 2, 2, 2, 2, 3, 3, 1, 2, 1, 2, 3, 3, 1, 2, 1, 2, 3, 1, 2, 1, 2, 2, 1, 2, 1], \"Freq\": [0.2593846196318896, 0.7405682189827075, 0.999958907483096, 0.00046882696418087234, 0.9994218808925746, 0.004851463664902977, 0.012128659162257442, 0.9824213921428527, 0.9999461893704465, 0.9997638068973317, 0.5498335295068127, 0.44978034968003044, 0.9998423927069041, 0.9996667937137045, 0.9966122060327146, 0.9988458054743402, 0.9999361991030455, 0.9970322633275078, 0.99990502118884, 0.866115711812418, 0.13386822183994562, 0.9999532625900917, 0.99994487148212, 0.9999335931685246, 0.9999778138857608, 0.999969361119195, 0.999774107201828, 0.9995114524466797, 0.9980891312106158, 0.9991893431684312, 0.9998332610465163, 0.9998925613599224, 0.9999091629514886, 0.9999704679249982, 0.9998823701512528, 0.8240190508338104, 0.1759948743759599, 0.9978884232922491, 0.002051948949065157, 0.9415100196694491, 0.058422595936891884, 0.9999079825700262, 0.9994631353747415, 0.0002450265102659332, 0.9993725280272068, 0.6096376871166977, 0.39033910878241546, 0.999754457690988, 0.9998498754970182, 0.9974405903657428, 0.9999044247998305, 0.025334254702864736, 0.974661504533055, 0.9999617295032449, 0.9999129033415827, 0.9987780687230583, 0.9999354750072867, 0.9990955164286415, 0.9993165164744314, 0.9992232784816358, 0.000698086300572272, 0.9977638675056568, 0.0020484140616950776, 0.6259204135851493, 0.37405431895618496, 0.9025807275224517, 0.09741968615189536, 0.07777781739308717, 0.922222691946605, 0.5341602183655323, 0.46583491957020734, 0.6393822773434263, 0.36058408767096395, 0.9985069663910243, 0.6581401068146426, 0.34194209875459347, 0.9983320701181206, 0.9646500187656126, 0.03531013175313968, 0.9999367778777815, 0.9997271123881611, 0.9998773634551169, 0.00014409531106140898, 0.9997535800587194, 0.9999055777912603, 0.998228215921287, 0.63836943921188, 0.36154424121791917, 0.9997921334118256, 0.9997979889433907, 0.9971408722723891, 0.9998014133369391, 0.9999398165971443, 0.9999139539956121, 0.8928544568519847, 0.10714253482223818, 0.9999260789587827, 0.33361283820457205, 0.666405605052209, 0.9998497760439191, 0.06649463609276791, 0.9334394083442756, 0.9998247748236154, 0.9999045037907326, 0.900280969621628, 0.0997013039792259, 0.04079896724982925, 0.9591443957377028, 0.9998893191625263, 0.9980668858238911, 0.9991755330205956, 0.9974918658545741, 0.9972160876518403, 0.9997501068513323, 0.9999285267557874, 0.9998778469813902, 0.8252554487967881, 0.17471457679030072, 0.18414767585355482, 0.81574582766595, 0.998292715840954, 0.9999538745627458, 0.49695203271323457, 0.50304083345498, 0.7741511435446923, 0.225833603624101, 0.2090567744790285, 0.7909059719893936, 0.4527232882652008, 0.5473006878285567, 0.9998115187678782, 0.9998487908619313, 0.9998943776644444, 0.35338419507742325, 0.64657268558254, 0.9998249167927303, 0.7297592623600131, 0.27023481113758485, 0.9998665759101741, 0.5656189693700826, 0.4343696436083741, 6.562466288085423e-05, 0.9997803632156526, 0.9977432590606726, 0.9998676364458452, 0.9923977250872906, 0.007467332936861838, 0.9993447546900682, 0.9999634491032657, 0.9999677336373958, 0.92505124315961, 0.07496030302965502, 0.0016603061055948099, 0.9978439694624808, 0.8471470088501175, 0.15285463066594662, 0.9999081678802584, 0.9999003019394822, 0.9999572101128736, 0.6197834582251502, 0.37979211913796795, 0.9998174438469324, 0.9999438838083424, 0.9999174548388321, 0.9999808656796824, 0.9999297935293507, 0.9999668118900868, 0.9994355671664621, 0.9973097882092545, 0.953080665376286, 0.04691071374664524, 0.002190469000729957, 0.010952345003649784, 0.9879015193292106, 0.999431980591008, 0.23996691416969712, 0.7600652366448271, 0.2211776573048824, 0.7787882075837296, 0.9995624124848668, 0.9999408635853297, 0.9998510032203001, 0.7504012792863134, 0.24956145578744765, 0.9998132006849358, 0.8356049508962825, 0.1643638138706917, 0.9998477061204599], \"Term\": [\"1\", \"1\", \"10\", \"2\", \"2\", \"24\", \"24\", \"24\", \"3\", \"4\", \"40\", \"40\", \"5\", \"60\", \"60fps\", \"account\", \"add\", \"amd\", \"around\", \"bad\", \"bad\", \"ban\", \"bug\", \"building\", \"buy\", \"cheater\", \"chinese\", \"computer\", \"controller\", \"cpu\", \"crash\", \"crate\", \"developer\", \"devs\", \"die\", \"don't\", \"don't\", \"dont\", \"dont\", \"drop\", \"drop\", \"early_access\", \"end\", \"end\", \"error\", \"even\", \"even\", \"ever\", \"feel\", \"file\", \"find\", \"first\", \"first\", \"fix\", \"fortnite\", \"forum\", \"fps\", \"frame\", \"freeze\", \"fuck\", \"fuck\", \"full\", \"full\", \"fun\", \"fun\", \"game\", \"game\", \"get\", \"get\", \"go\", \"go\", \"good\", \"good\", \"gpu\", \"graphic\", \"graphic\", \"graphic_card\", \"great\", \"great\", \"gun\", \"guy\", \"h1z1\", \"h1z1\", \"hack\", \"hacker\", \"hardware\", \"high\", \"high\", \"hit\", \"i've\", \"i7\", \"instead\", \"issue\", \"kill\", \"lag\", \"lag\", \"last\", \"like\", \"like\", \"load\", \"look\", \"look\", \"loot\", \"low\", \"make\", \"make\", \"map\", \"map\", \"match\", \"max\", \"medium\", \"memory\", \"minimum\", \"minute\", \"money\", \"month\", \"more\", \"more\", \"most\", \"most\", \"network\", \"new\", \"no\", \"no\", \"not\", \"not\", \"one\", \"one\", \"only\", \"only\", \"optimization\", \"patch\", \"pc\", \"people\", \"people\", \"performance\", \"play\", \"play\", \"played\", \"player\", \"player\", \"player\", \"point\", \"potato\", \"problem\", \"pubg\", \"pubg\", \"ram\", \"recommend\", \"release\", \"review\", \"review\", \"rig\", \"rig\", \"run\", \"run\", \"second\", \"see\", \"server\", \"set\", \"set\", \"setting\", \"shit\", \"shoot\", \"shot\", \"someone\", \"sound\", \"spec\", \"ssd\", \"still\", \"still\", \"stream_snip\", \"stream_snip\", \"stream_snip\", \"stutter\", \"take\", \"take\", \"time\", \"time\", \"ultra\", \"update\", \"weapon\", \"well\", \"well\", \"win\", \"would\", \"would\", \"year\"]}, \"R\": 30, \"lambda.step\": 0.01, \"plot.opts\": {\"xlab\": \"PC1\", \"ylab\": \"PC2\"}, \"topic.order\": [3, 1, 2]};\n",
       "\n",
       "function LDAvis_load_lib(url, callback){\n",
       "  var s = document.createElement('script');\n",
       "  s.src = url;\n",
       "  s.async = true;\n",
       "  s.onreadystatechange = s.onload = callback;\n",
       "  s.onerror = function(){console.warn(\"failed to load library \" + url);};\n",
       "  document.getElementsByTagName(\"head\")[0].appendChild(s);\n",
       "}\n",
       "\n",
       "if(typeof(LDAvis) !== \"undefined\"){\n",
       "   // already loaded: just create the visualization\n",
       "   !function(LDAvis){\n",
       "       new LDAvis(\"#\" + \"ldavis_el204018592723940008382747025\", ldavis_el204018592723940008382747025_data);\n",
       "   }(LDAvis);\n",
       "}else if(typeof define === \"function\" && define.amd){\n",
       "   // require.js is available: use it to load d3/LDAvis\n",
       "   require.config({paths: {d3: \"https://cdnjs.cloudflare.com/ajax/libs/d3/3.5.5/d3.min\"}});\n",
       "   require([\"d3\"], function(d3){\n",
       "      window.d3 = d3;\n",
       "      LDAvis_load_lib(\"https://cdn.rawgit.com/bmabey/pyLDAvis/files/ldavis.v1.0.0.js\", function(){\n",
       "        new LDAvis(\"#\" + \"ldavis_el204018592723940008382747025\", ldavis_el204018592723940008382747025_data);\n",
       "      });\n",
       "    });\n",
       "}else{\n",
       "    // require.js not available: dynamically load d3 & LDAvis\n",
       "    LDAvis_load_lib(\"https://cdnjs.cloudflare.com/ajax/libs/d3/3.5.5/d3.min.js\", function(){\n",
       "         LDAvis_load_lib(\"https://cdn.rawgit.com/bmabey/pyLDAvis/files/ldavis.v1.0.0.js\", function(){\n",
       "                 new LDAvis(\"#\" + \"ldavis_el204018592723940008382747025\", ldavis_el204018592723940008382747025_data);\n",
       "            })\n",
       "         });\n",
       "}\n",
       "</script>"
      ],
      "text/plain": [
       "PreparedData(topic_coordinates=              x         y  topics  cluster       Freq\n",
       "topic                                                \n",
       "2     -0.220320  0.202906       1        1  53.219217\n",
       "0     -0.166368 -0.222700       2        1  43.155870\n",
       "1      0.386688  0.019794       3        1   3.624913, topic_info=        Term           Freq          Total Category  logprob  loglift\n",
       "11      game  172921.000000  172921.000000  Default  30.0000  30.0000\n",
       "100      run   13960.000000   13960.000000  Default  29.0000  29.0000\n",
       "267      fps    7257.000000    7257.000000  Default  28.0000  28.0000\n",
       "144      get   39149.000000   39149.000000  Default  27.0000  27.0000\n",
       "481      low    5346.000000    5346.000000  Default  26.0000  26.0000\n",
       "..       ...            ...            ...      ...      ...      ...\n",
       "392     high    1578.531984    4367.376990   Topic3  -4.2348   2.2997\n",
       "789  graphic    1128.730083    3301.728580   Topic3  -4.5702   2.2440\n",
       "100      run    2133.533167   13960.977111   Topic3  -3.9335   1.4389\n",
       "466       40     490.380820    1089.420648   Topic3  -5.4038   2.5191\n",
       "489      set     488.831487    1287.546464   Topic3  -5.4070   2.3489\n",
       "\n",
       "[175 rows x 6 columns], token_table=      Topic      Freq   Term\n",
       "term                        \n",
       "330       1  0.259385      1\n",
       "330       2  0.740568      1\n",
       "569       2  0.999959     10\n",
       "158       1  0.000469      2\n",
       "158       2  0.999422      2\n",
       "...     ...       ...    ...\n",
       "116       2  0.249561   well\n",
       "300       2  0.999813    win\n",
       "62        1  0.835605  would\n",
       "62        2  0.164364  would\n",
       "235       1  0.999848   year\n",
       "\n",
       "[188 rows x 3 columns], R=30, lambda_step=0.01, plot_opts={'xlab': 'PC1', 'ylab': 'PC2'}, topic_order=[3, 1, 2])"
      ]
     },
     "execution_count": 23,
     "metadata": {},
     "output_type": "execute_result"
    }
   ],
   "source": [
    "# visualize the topics using pyLDAvis\n",
    "\n",
    "pyLDAvis.enable_notebook()\n",
    "vis = pyLDAvis.gensim.prepare(pubg_neg_lda_model, pubg_neg_corpus, pubg_neg_id2word)\n",
    "vis"
   ]
  },
  {
   "cell_type": "markdown",
   "id": "divine-riverside",
   "metadata": {},
   "source": [
    "**Topic Interpretation**\n",
    "\n",
    "- **1**: generic negative sentiments about the game (shit, problem, bug)\n",
    "- **2**: generic gameplay terms (gun, map, loot)\n",
    "- **3**: hardware and technical related issues e.g. fps (stutter, freezing), graphics settings (medium, high, ultra), community issues (stream sniping, ban, account)"
   ]
  },
  {
   "cell_type": "code",
   "execution_count": 24,
   "id": "confirmed-mining",
   "metadata": {
    "ExecuteTime": {
     "end_time": "2021-01-27T05:08:15.542727Z",
     "start_time": "2021-01-27T04:33:42.147752Z"
    }
   },
   "outputs": [
    {
     "name": "stdout",
     "output_type": "stream",
     "text": [
      "Coherence value for 2 topics: 0.3904\n",
      "Coherence value for 3 topics: 0.4451\n",
      "Coherence value for 4 topics: 0.3515\n",
      "Coherence value for 5 topics: 0.3964\n",
      "Coherence value for 6 topics: 0.3506\n",
      "Coherence value for 7 topics: 0.3386\n"
     ]
    },
    {
     "data": {
      "image/png": "[encoded data removed]",
      "text/plain": [
       "<Figure size 432x288 with 1 Axes>"
      ]
     },
     "metadata": {
      "needs_background": "light"
     },
     "output_type": "display_data"
    }
   ],
   "source": [
    "display_coherence_values(pubg_neg_id2word, pubg_neg_corpus, pubg_neg_processed_text, start=2, limit=8, step=1)"
   ]
  },
  {
   "cell_type": "markdown",
   "id": "flexible-compatibility",
   "metadata": {},
   "source": [
    "## Cyberpunk"
   ]
  },
  {
   "cell_type": "markdown",
   "id": "martial-reservoir",
   "metadata": {},
   "source": [
    "### Positive"
   ]
  },
  {
   "cell_type": "code",
   "execution_count": 25,
   "id": "irish-contest",
   "metadata": {
    "ExecuteTime": {
     "end_time": "2021-01-27T05:09:03.752164Z",
     "start_time": "2021-01-27T05:08:15.545719Z"
    }
   },
   "outputs": [],
   "source": [
    "cyberpunk_pos_processed_text, cyberpunk_pos_id2word, cyberpunk_pos_corpus = build_bigrams_trigrams(1, cyberpunk_ml)"
   ]
  },
  {
   "cell_type": "code",
   "execution_count": 26,
   "id": "conservative-fairy",
   "metadata": {
    "ExecuteTime": {
     "end_time": "2021-01-27T05:11:23.415629Z",
     "start_time": "2021-01-27T05:09:03.753130Z"
    }
   },
   "outputs": [],
   "source": [
    "# build LDA model\n",
    "\n",
    "cyberpunk_pos_lda_model = gensim.models.ldamodel.LdaModel(corpus=cyberpunk_pos_corpus,\n",
    "                                                          id2word=cyberpunk_pos_id2word,\n",
    "                                                          num_topics=3, \n",
    "                                                          random_state=42,\n",
    "                                                          update_every=1,\n",
    "                                                          chunksize=100,\n",
    "                                                          passes=10,\n",
    "                                                          alpha='auto',\n",
    "                                                          iterations=100,\n",
    "                                                          per_word_topics=True)"
   ]
  },
  {
   "cell_type": "code",
   "execution_count": 27,
   "id": "russian-annual",
   "metadata": {
    "ExecuteTime": {
     "end_time": "2021-01-27T05:13:56.352164Z",
     "start_time": "2021-01-27T05:11:23.423545Z"
    }
   },
   "outputs": [
    {
     "data": {
      "text/html": [
       "<div>\n",
       "<style scoped>\n",
       "    .dataframe tbody tr th:only-of-type {\n",
       "        vertical-align: middle;\n",
       "    }\n",
       "\n",
       "    .dataframe tbody tr th {\n",
       "        vertical-align: top;\n",
       "    }\n",
       "\n",
       "    .dataframe thead th {\n",
       "        text-align: right;\n",
       "    }\n",
       "</style>\n",
       "<table border=\"1\" class=\"dataframe\">\n",
       "  <thead>\n",
       "    <tr style=\"text-align: right;\">\n",
       "      <th></th>\n",
       "      <th>Document_No</th>\n",
       "      <th>Dominant_Topic</th>\n",
       "      <th>Percentage_Contribution</th>\n",
       "      <th>Keywords</th>\n",
       "      <th>Text</th>\n",
       "    </tr>\n",
       "  </thead>\n",
       "  <tbody>\n",
       "    <tr>\n",
       "      <th>0</th>\n",
       "      <td>0</td>\n",
       "      <td>0.0</td>\n",
       "      <td>0.9320</td>\n",
       "      <td>game, bug, play, not, get, far, story, good, g...</td>\n",
       "      <td>[despite, people, say, game's, fuck, amaze, lo...</td>\n",
       "    </tr>\n",
       "    <tr>\n",
       "      <th>1</th>\n",
       "      <td>1</td>\n",
       "      <td>0.0</td>\n",
       "      <td>0.9185</td>\n",
       "      <td>game, bug, play, not, get, far, story, good, g...</td>\n",
       "      <td>[game, isn't, without, bug, relatively, easy, ...</td>\n",
       "    </tr>\n",
       "    <tr>\n",
       "      <th>2</th>\n",
       "      <td>2</td>\n",
       "      <td>0.0</td>\n",
       "      <td>0.5418</td>\n",
       "      <td>game, bug, play, not, get, far, story, good, g...</td>\n",
       "      <td>[atmospheric, great, game, play, voice_act, gr...</td>\n",
       "    </tr>\n",
       "    <tr>\n",
       "      <th>3</th>\n",
       "      <td>3</td>\n",
       "      <td>1.0</td>\n",
       "      <td>0.5614</td>\n",
       "      <td>feel, character, like, drive, not, city, go, m...</td>\n",
       "      <td>[really, unsure, drawn, game, look, non, techn...</td>\n",
       "    </tr>\n",
       "    <tr>\n",
       "      <th>4</th>\n",
       "      <td>4</td>\n",
       "      <td>0.0</td>\n",
       "      <td>0.8718</td>\n",
       "      <td>game, bug, play, not, get, far, story, good, g...</td>\n",
       "      <td>[really, good, game, perfect, storyline, great...</td>\n",
       "    </tr>\n",
       "    <tr>\n",
       "      <th>5</th>\n",
       "      <td>5</td>\n",
       "      <td>0.0</td>\n",
       "      <td>0.8726</td>\n",
       "      <td>game, bug, play, not, get, far, story, good, g...</td>\n",
       "      <td>[game, amaze, stop, whine, like, bunch, entitl...</td>\n",
       "    </tr>\n",
       "    <tr>\n",
       "      <th>6</th>\n",
       "      <td>6</td>\n",
       "      <td>0.0</td>\n",
       "      <td>0.7505</td>\n",
       "      <td>game, bug, play, not, get, far, story, good, g...</td>\n",
       "      <td>[everyone, know, bug, easy, deal, sometimes, s...</td>\n",
       "    </tr>\n",
       "    <tr>\n",
       "      <th>7</th>\n",
       "      <td>7</td>\n",
       "      <td>0.0</td>\n",
       "      <td>0.6122</td>\n",
       "      <td>game, bug, play, not, get, far, story, good, g...</td>\n",
       "      <td>[ok, only, 3, hour, come, ps4, pro, port, game...</td>\n",
       "    </tr>\n",
       "    <tr>\n",
       "      <th>8</th>\n",
       "      <td>8</td>\n",
       "      <td>0.0</td>\n",
       "      <td>0.8714</td>\n",
       "      <td>game, bug, play, not, get, far, story, good, g...</td>\n",
       "      <td>[good, game, big, letdown, many, way, still, r...</td>\n",
       "    </tr>\n",
       "    <tr>\n",
       "      <th>9</th>\n",
       "      <td>9</td>\n",
       "      <td>0.0</td>\n",
       "      <td>0.5283</td>\n",
       "      <td>game, bug, play, not, get, far, story, good, g...</td>\n",
       "      <td>[good, game, compelling, gameplay, fantastic, ...</td>\n",
       "    </tr>\n",
       "    <tr>\n",
       "      <th>10</th>\n",
       "      <td>10</td>\n",
       "      <td>0.0</td>\n",
       "      <td>0.7402</td>\n",
       "      <td>game, bug, play, not, get, far, story, good, g...</td>\n",
       "      <td>[8, 5, 10, good, story, quest, decent, underst...</td>\n",
       "    </tr>\n",
       "    <tr>\n",
       "      <th>11</th>\n",
       "      <td>11</td>\n",
       "      <td>0.0</td>\n",
       "      <td>0.5874</td>\n",
       "      <td>game, bug, play, not, get, far, story, good, g...</td>\n",
       "      <td>[maintain, least, 60, fps, medium, quality, go...</td>\n",
       "    </tr>\n",
       "    <tr>\n",
       "      <th>12</th>\n",
       "      <td>12</td>\n",
       "      <td>0.0</td>\n",
       "      <td>0.8535</td>\n",
       "      <td>game, bug, play, not, get, far, story, good, g...</td>\n",
       "      <td>[didnt, like, fisrt, good, game, really, good,...</td>\n",
       "    </tr>\n",
       "    <tr>\n",
       "      <th>13</th>\n",
       "      <td>13</td>\n",
       "      <td>0.0</td>\n",
       "      <td>0.6908</td>\n",
       "      <td>game, bug, play, not, get, far, story, good, g...</td>\n",
       "      <td>[i've, fan, genre, since, mid, 80, start, play...</td>\n",
       "    </tr>\n",
       "    <tr>\n",
       "      <th>14</th>\n",
       "      <td>14</td>\n",
       "      <td>0.0</td>\n",
       "      <td>0.8771</td>\n",
       "      <td>game, bug, play, not, get, far, story, good, g...</td>\n",
       "      <td>[game, fuck, great, besides, slight, bug, stuf...</td>\n",
       "    </tr>\n",
       "  </tbody>\n",
       "</table>\n",
       "</div>"
      ],
      "text/plain": [
       "    Document_No  Dominant_Topic  Percentage_Contribution  \\\n",
       "0             0             0.0                   0.9320   \n",
       "1             1             0.0                   0.9185   \n",
       "2             2             0.0                   0.5418   \n",
       "3             3             1.0                   0.5614   \n",
       "4             4             0.0                   0.8718   \n",
       "5             5             0.0                   0.8726   \n",
       "6             6             0.0                   0.7505   \n",
       "7             7             0.0                   0.6122   \n",
       "8             8             0.0                   0.8714   \n",
       "9             9             0.0                   0.5283   \n",
       "10           10             0.0                   0.7402   \n",
       "11           11             0.0                   0.5874   \n",
       "12           12             0.0                   0.8535   \n",
       "13           13             0.0                   0.6908   \n",
       "14           14             0.0                   0.8771   \n",
       "\n",
       "                                             Keywords  \\\n",
       "0   game, bug, play, not, get, far, story, good, g...   \n",
       "1   game, bug, play, not, get, far, story, good, g...   \n",
       "2   game, bug, play, not, get, far, story, good, g...   \n",
       "3   feel, character, like, drive, not, city, go, m...   \n",
       "4   game, bug, play, not, get, far, story, good, g...   \n",
       "5   game, bug, play, not, get, far, story, good, g...   \n",
       "6   game, bug, play, not, get, far, story, good, g...   \n",
       "7   game, bug, play, not, get, far, story, good, g...   \n",
       "8   game, bug, play, not, get, far, story, good, g...   \n",
       "9   game, bug, play, not, get, far, story, good, g...   \n",
       "10  game, bug, play, not, get, far, story, good, g...   \n",
       "11  game, bug, play, not, get, far, story, good, g...   \n",
       "12  game, bug, play, not, get, far, story, good, g...   \n",
       "13  game, bug, play, not, get, far, story, good, g...   \n",
       "14  game, bug, play, not, get, far, story, good, g...   \n",
       "\n",
       "                                                 Text  \n",
       "0   [despite, people, say, game's, fuck, amaze, lo...  \n",
       "1   [game, isn't, without, bug, relatively, easy, ...  \n",
       "2   [atmospheric, great, game, play, voice_act, gr...  \n",
       "3   [really, unsure, drawn, game, look, non, techn...  \n",
       "4   [really, good, game, perfect, storyline, great...  \n",
       "5   [game, amaze, stop, whine, like, bunch, entitl...  \n",
       "6   [everyone, know, bug, easy, deal, sometimes, s...  \n",
       "7   [ok, only, 3, hour, come, ps4, pro, port, game...  \n",
       "8   [good, game, big, letdown, many, way, still, r...  \n",
       "9   [good, game, compelling, gameplay, fantastic, ...  \n",
       "10  [8, 5, 10, good, story, quest, decent, underst...  \n",
       "11  [maintain, least, 60, fps, medium, quality, go...  \n",
       "12  [didnt, like, fisrt, good, game, really, good,...  \n",
       "13  [i've, fan, genre, since, mid, 80, start, play...  \n",
       "14  [game, fuck, great, besides, slight, bug, stuf...  "
      ]
     },
     "metadata": {},
     "output_type": "display_data"
    }
   ],
   "source": [
    "display_dominant_topics(cyberpunk_pos_lda_model, cyberpunk_pos_corpus, cyberpunk_pos_processed_text, 15)"
   ]
  },
  {
   "cell_type": "code",
   "execution_count": 28,
   "id": "military-viewer",
   "metadata": {
    "ExecuteTime": {
     "end_time": "2021-01-27T05:16:21.278579Z",
     "start_time": "2021-01-27T05:13:56.355154Z"
    }
   },
   "outputs": [
    {
     "data": {
      "text/html": [
       "<div>\n",
       "<style scoped>\n",
       "    .dataframe tbody tr th:only-of-type {\n",
       "        vertical-align: middle;\n",
       "    }\n",
       "\n",
       "    .dataframe tbody tr th {\n",
       "        vertical-align: top;\n",
       "    }\n",
       "\n",
       "    .dataframe thead th {\n",
       "        text-align: right;\n",
       "    }\n",
       "</style>\n",
       "<table border=\"1\" class=\"dataframe\">\n",
       "  <thead>\n",
       "    <tr style=\"text-align: right;\">\n",
       "      <th></th>\n",
       "      <th>Topic_Num</th>\n",
       "      <th>Topic_Percentage_Contribution</th>\n",
       "      <th>Keywords</th>\n",
       "      <th>Representative Text</th>\n",
       "    </tr>\n",
       "  </thead>\n",
       "  <tbody>\n",
       "    <tr>\n",
       "      <th>0</th>\n",
       "      <td>0.0</td>\n",
       "      <td>0.9863</td>\n",
       "      <td>game, bug, play, not, get, far, story, good, g...</td>\n",
       "      <td>[fun, game, first, start, play, didn't, go, ex...</td>\n",
       "    </tr>\n",
       "    <tr>\n",
       "      <th>1</th>\n",
       "      <td>1.0</td>\n",
       "      <td>0.8955</td>\n",
       "      <td>feel, character, like, drive, not, city, go, m...</td>\n",
       "      <td>[game, great, grievance, many, key, key, map, ...</td>\n",
       "    </tr>\n",
       "    <tr>\n",
       "      <th>2</th>\n",
       "      <td>2.0</td>\n",
       "      <td>0.8814</td>\n",
       "      <td>run, fps, setting, ultra, high, low, 60, dl, p...</td>\n",
       "      <td>[nrfr, jehrhrhrhhehehehe, fuff, fffufn, fdhaga...</td>\n",
       "    </tr>\n",
       "  </tbody>\n",
       "</table>\n",
       "</div>"
      ],
      "text/plain": [
       "   Topic_Num  Topic_Percentage_Contribution  \\\n",
       "0        0.0                         0.9863   \n",
       "1        1.0                         0.8955   \n",
       "2        2.0                         0.8814   \n",
       "\n",
       "                                            Keywords  \\\n",
       "0  game, bug, play, not, get, far, story, good, g...   \n",
       "1  feel, character, like, drive, not, city, go, m...   \n",
       "2  run, fps, setting, ultra, high, low, 60, dl, p...   \n",
       "\n",
       "                                 Representative Text  \n",
       "0  [fun, game, first, start, play, didn't, go, ex...  \n",
       "1  [game, great, grievance, many, key, key, map, ...  \n",
       "2  [nrfr, jehrhrhrhhehehehe, fuff, fffufn, fdhaga...  "
      ]
     },
     "metadata": {},
     "output_type": "display_data"
    }
   ],
   "source": [
    "display_representative_docs(cyberpunk_pos_lda_model, cyberpunk_pos_corpus, cyberpunk_pos_processed_text)"
   ]
  },
  {
   "cell_type": "code",
   "execution_count": 29,
   "id": "informative-cedar",
   "metadata": {
    "ExecuteTime": {
     "end_time": "2021-01-27T05:16:50.892429Z",
     "start_time": "2021-01-27T05:16:21.282569Z"
    }
   },
   "outputs": [
    {
     "name": "stdout",
     "output_type": "stream",
     "text": [
      "Perplexity: -7.1834\n",
      "Coherence Score: 0.4830\n"
     ]
    }
   ],
   "source": [
    "compute_perp_coherence(ldamodel=cyberpunk_pos_lda_model, \n",
    "                       dictionary=cyberpunk_pos_id2word,\n",
    "                       corpus=cyberpunk_pos_corpus, \n",
    "                       texts=cyberpunk_pos_processed_text)"
   ]
  },
  {
   "cell_type": "code",
   "execution_count": 30,
   "id": "assisted-fishing",
   "metadata": {
    "ExecuteTime": {
     "end_time": "2021-01-27T05:17:03.728494Z",
     "start_time": "2021-01-27T05:16:50.894423Z"
    }
   },
   "outputs": [
    {
     "data": {
      "text/html": [
       "\n",
       "<link rel=\"stylesheet\" type=\"text/css\" href=\"https://cdn.rawgit.com/bmabey/pyLDAvis/files/ldavis.v1.0.0.css\">\n",
       "\n",
       "\n",
       "<div id=\"ldavis_el204018592610258569363386208\"></div>\n",
       "<script type=\"text/javascript\">\n",
       "\n",
       "var ldavis_el204018592610258569363386208_data = {\"mdsDat\": {\"x\": [-0.17678139696707346, -0.17046621372266865, 0.3472476106897421], \"y\": [0.19625615080620468, -0.19865012503818394, 0.002393974231979302], \"topics\": [1, 2, 3], \"cluster\": [1, 1, 1], \"Freq\": [65.79296828181825, 28.047323389697066, 6.159708328484669]}, \"tinfo\": {\"Term\": [\"game\", \"run\", \"fps\", \"setting\", \"bug\", \"performance\", \"high\", \"graphic\", \"play\", \"good\", \"character\", \"ultra\", \"low\", \"far\", \"feel\", \"story\", \"crash\", \"pc\", \"update\", \"60\", \"drive\", \"use\", \"look\", \"great\", \"hour\", \"10\", \"car\", \"get\", \"dl\", \"set\", \"game\", \"bug\", \"play\", \"story\", \"far\", \"great\", \"hour\", \"10\", \"wait\", \"amaze\", \"still\", \"fix\", \"fun\", \"i've\", \"played\", \"review\", \"love\", \"experience\", \"patch\", \"best\", \"gameplay\", \"year\", \"enjoy\", \"expect\", \"worth\", \"glitch\", \"rpg\", \"cdpr\", \"break\", \"sure\", \"nothing\", \"i'm\", \"good\", \"issue\", \"say\", \"well\", \"time\", \"really\", \"need\", \"not\", \"get\", \"only\", \"like\", \"more\", \"people\", \"one\", \"world\", \"even\", \"look\", \"car\", \"npc\", \"gun\", \"option\", \"weapon\", \"walk\", \"dialogue\", \"hack\", \"enemy\", \"stealth\", \"shoot\", \"control\", \"kill\", \"ai\", \"vehicle\", \"move\", \"loot\", \"street\", \"random\", \"skill\", \"map\", \"choice\", \"item\", \"body\", \"melee\", \"certain\", \"con\", \"craft\", \"perk\", \"key\", \"penis\", \"drive\", \"use\", \"character\", \"talk\", \"mission\", \"different\", \"feel\", \"combat\", \"sometimes\", \"city\", \"way\", \"change\", \"quest\", \"like\", \"side\", \"go\", \"around\", \"make\", \"also\", \"main\", \"no\", \"not\", \"seem\", \"thing\", \"system\", \"more\", \"take\", \"get\", \"see\", \"fps\", \"setting\", \"ultra\", \"low\", \"dl\", \"60\", \"rtx\", \"medium\", \"spec\", \"1080p\", \"ray_trace\", \"1440p\", \"60fps\", \"gpu\", \"card\", \"cpu\", \"frame\", \"4k\", \"rig\", \"nvidia\", \"ssd\", \"raytracing\", \"stable\", \"rt\", \"resolution\", \"ram\", \"maxed\", \"smoothly\", \"frame_rate\", \"laptop\", \"download\", \"50\", \"40\", \"high\", \"run\", \"max\", \"average\", \"performance\", \"turn\", \"set\", \"30\", \"driver\", \"crash\", \"graphic\", \"pc\", \"get\", \"look\", \"use\"], \"Freq\": [81352.0, 9125.0, 4691.0, 4085.0, 23553.0, 4363.0, 3524.0, 6134.0, 16748.0, 13976.0, 8557.0, 2343.0, 2221.0, 14645.0, 10606.0, 13767.0, 3436.0, 3371.0, 5444.0, 1838.0, 4295.0, 3821.0, 9071.0, 11292.0, 11078.0, 11051.0, 3612.0, 18909.0, 1564.0, 2346.0, 81351.38366140662, 23553.226960976543, 16747.379802366508, 13767.00770177755, 14644.598057436331, 11292.113297117525, 11078.02874556806, 11050.777531581582, 8230.411376949893, 7223.285644124585, 7575.935249936832, 6730.775782853946, 6488.180982298886, 6527.142691214068, 5508.5415436072535, 5845.691682406788, 5072.428313803323, 5037.91221911408, 4717.918127739531, 4730.581657928441, 5130.7796140901055, 4304.177916319511, 4409.761678007915, 4468.670445999525, 4181.413525508037, 4100.347605998451, 4075.1702961951673, 3924.403960686759, 3744.5269611333433, 3839.1967314206227, 3936.1037187818165, 9448.733453073899, 13491.66329821626, 6722.090814627375, 7351.469875541241, 10142.256053478292, 10432.0262406877, 10181.412720688624, 5655.415776918999, 16615.810642868833, 15332.807620475494, 8240.100521670614, 10958.143521463227, 8035.268860337943, 5813.6812256326075, 6958.098850288889, 6543.837337340531, 6681.744619268371, 6818.326184789188, 3611.4535191484138, 3056.733293855862, 2539.936555907871, 2724.457056659663, 2013.001714080876, 2027.140664571399, 1855.3850277812219, 1526.9546188442714, 1461.5194090258863, 1523.0963842988658, 1496.2898929459, 1462.755581014507, 1237.4032221847203, 1245.2860318695377, 1089.1977277547817, 1104.0837053010805, 1082.5733731939154, 1063.309181128044, 1109.9198391181553, 1048.4107972955883, 1104.8322981987983, 1734.981900179443, 900.5960406549009, 859.0888831270181, 853.857766546506, 962.7868861938848, 812.6021073244052, 784.9311507700041, 780.8352093728453, 830.9098108623962, 904.4365089167324, 4126.87135259229, 3173.8462261890877, 6384.333635621512, 1641.788287556658, 3386.032504171934, 1648.4051742559543, 6473.49845737658, 2696.222758354236, 1722.8881801641005, 3849.954132316877, 2717.3392209882654, 2087.259600097496, 2218.3070803231067, 6290.766148122699, 2444.745892561971, 3738.9740006240695, 2401.6731942154092, 3712.770960665724, 2700.5097926930243, 2075.2982539509535, 3113.1274527497753, 4065.770272820338, 2128.0835085164, 2516.4065285941197, 1896.89622036334, 2768.9508167933964, 2122.789999156963, 2775.6316621135593, 2063.24801616185, 4690.9791578146915, 4084.557633775418, 2343.046389032852, 2220.7351614718596, 1564.0346097750428, 1837.148214103431, 1454.5636200343126, 1391.6333340764666, 1013.4993875820977, 920.1128193581204, 1045.5592446662436, 863.0616904986533, 809.4026170485232, 769.0799320172474, 813.6876165614052, 603.5697426662801, 602.7146262102073, 519.4067188236238, 542.2964134793149, 447.08692298778533, 416.85205149741756, 394.8277634760278, 433.5045225958606, 361.4398385308062, 353.26367028515773, 393.28526840487564, 352.5304487938062, 384.3073656560206, 341.41864348111744, 315.9763762080672, 347.35710798203667, 1009.0007015403487, 717.5797855746633, 2307.8250929244473, 4787.688845189745, 589.6573158898362, 588.2507622734807, 1497.229079730429, 957.9853309492152, 911.8025878135987, 622.1176698849807, 698.5611554474877, 764.4709902869222, 831.3686293304856, 706.1712316260707, 800.9391173994885, 705.2764358195026, 617.0954809456977], \"Total\": [81352.0, 9125.0, 4691.0, 4085.0, 23553.0, 4363.0, 3524.0, 6134.0, 16748.0, 13976.0, 8557.0, 2343.0, 2221.0, 14645.0, 10606.0, 13767.0, 3436.0, 3371.0, 5444.0, 1838.0, 4295.0, 3821.0, 9071.0, 11292.0, 11078.0, 11051.0, 3612.0, 18909.0, 1564.0, 2346.0, 81352.1181822314, 23553.93570949711, 16748.157644671905, 13767.76167584414, 14645.542183648848, 11292.85729520852, 11078.763343366783, 11051.533753765849, 8231.126752477718, 7223.9881250201415, 7576.687548306759, 6731.490373573929, 6488.907393752008, 6527.880853901639, 5509.250777995668, 5846.473343363831, 5073.1285978219885, 5038.649714685431, 4718.630319096624, 4731.3016946392145, 5131.578272340793, 4304.891660049761, 4410.495096788827, 4469.415813278918, 4182.112057116975, 4101.057978386438, 4075.9168719130816, 3925.132468423554, 3745.242974650493, 3839.944254597828, 3936.879427130906, 9539.232595720528, 13976.335410311529, 6845.22174533366, 7574.829710934746, 11027.374306995665, 11445.664459583502, 11192.349697518799, 5853.764668927748, 20681.87340897306, 18909.37839998854, 9276.291248428148, 17249.18215951725, 10804.493763200702, 6352.7825176622555, 8825.067488047789, 8033.743716056056, 8527.386758669467, 9071.919298373145, 3612.1362456325433, 3057.449723684596, 2540.633563754126, 2725.214360074936, 2013.6682687134473, 2027.8612973377699, 1856.1027805778438, 1527.638761806624, 1462.1750208214037, 1523.7836167083924, 1496.9918578257527, 1463.4975559941581, 1238.0994463861605, 1245.9890446546049, 1089.8640845262482, 1104.780712584318, 1083.2699771581608, 1064.0101097317047, 1110.654080011164, 1049.1107705897136, 1105.5729798410975, 1736.2315486926464, 901.2827678504958, 859.7628154904484, 854.5338549313624, 963.5572324899971, 813.2967714660874, 785.6105845800005, 781.5209152479605, 831.6585187609319, 905.271422737652, 4295.540572413995, 3821.4254431156414, 8557.042743147927, 1868.1801552720676, 4489.937253517697, 1895.5069233055576, 10606.140709650545, 4069.715131615261, 2167.2316309542807, 7087.666154455854, 4294.663411493712, 2935.280096573705, 3270.0723148181073, 17249.18215951725, 4045.3971559023526, 9175.39833267627, 4169.000634958034, 9581.01546729297, 5739.678733251651, 3378.307874984964, 9118.974841000309, 20681.87340897306, 3837.3801835044983, 6235.6047007469915, 2800.716824085745, 10804.493763200702, 4694.403312439096, 18909.37839998854, 8087.864845234955, 4691.892277604843, 4085.4163026322394, 2343.873587572544, 2221.810923809264, 1564.8522501495086, 1838.1378191991146, 1455.443896567923, 1392.4769415817393, 1014.4015958256706, 920.9474455086992, 1046.5558902890818, 863.8886880776878, 810.2379171228848, 769.9272548127259, 814.6357520432629, 604.4136709460449, 603.5708460647604, 520.2439791224464, 543.2681280919107, 447.9179507663961, 417.68164498937546, 395.6782697220846, 434.4579904457257, 362.26683048940816, 354.08109116885595, 394.2617787660339, 353.41373679885874, 385.301189522916, 342.3164704750234, 316.84844994429227, 349.01459692532694, 1089.7449625633494, 758.8426586694443, 3524.0325821229526, 9125.01740918565, 674.2345882407236, 718.7753029498396, 4363.789239445427, 2115.633223571058, 2346.183920356053, 1067.0200040258314, 1673.759637179485, 3436.4026508097, 6134.010103937198, 3371.7127492644886, 18909.37839998854, 9071.919298373145, 3821.4254431156414], \"Category\": [\"Default\", \"Default\", \"Default\", \"Default\", \"Default\", \"Default\", \"Default\", \"Default\", \"Default\", \"Default\", \"Default\", \"Default\", \"Default\", \"Default\", \"Default\", \"Default\", \"Default\", \"Default\", \"Default\", \"Default\", \"Default\", \"Default\", \"Default\", \"Default\", \"Default\", \"Default\", \"Default\", \"Default\", \"Default\", \"Default\", \"Topic1\", \"Topic1\", \"Topic1\", \"Topic1\", \"Topic1\", \"Topic1\", \"Topic1\", \"Topic1\", \"Topic1\", \"Topic1\", \"Topic1\", \"Topic1\", \"Topic1\", \"Topic1\", \"Topic1\", \"Topic1\", \"Topic1\", \"Topic1\", \"Topic1\", \"Topic1\", \"Topic1\", \"Topic1\", \"Topic1\", \"Topic1\", \"Topic1\", \"Topic1\", \"Topic1\", \"Topic1\", \"Topic1\", \"Topic1\", \"Topic1\", \"Topic1\", \"Topic1\", \"Topic1\", \"Topic1\", \"Topic1\", \"Topic1\", \"Topic1\", \"Topic1\", \"Topic1\", \"Topic1\", \"Topic1\", \"Topic1\", \"Topic1\", \"Topic1\", \"Topic1\", \"Topic1\", \"Topic1\", \"Topic1\", \"Topic2\", \"Topic2\", \"Topic2\", \"Topic2\", \"Topic2\", \"Topic2\", \"Topic2\", \"Topic2\", \"Topic2\", \"Topic2\", \"Topic2\", \"Topic2\", \"Topic2\", \"Topic2\", \"Topic2\", \"Topic2\", \"Topic2\", \"Topic2\", \"Topic2\", \"Topic2\", \"Topic2\", \"Topic2\", \"Topic2\", \"Topic2\", \"Topic2\", \"Topic2\", \"Topic2\", \"Topic2\", \"Topic2\", \"Topic2\", \"Topic2\", \"Topic2\", \"Topic2\", \"Topic2\", \"Topic2\", \"Topic2\", \"Topic2\", \"Topic2\", \"Topic2\", \"Topic2\", \"Topic2\", \"Topic2\", \"Topic2\", \"Topic2\", \"Topic2\", \"Topic2\", \"Topic2\", \"Topic2\", \"Topic2\", \"Topic2\", \"Topic2\", \"Topic2\", \"Topic2\", \"Topic2\", \"Topic2\", \"Topic2\", \"Topic2\", \"Topic2\", \"Topic2\", \"Topic2\", \"Topic3\", \"Topic3\", \"Topic3\", \"Topic3\", \"Topic3\", \"Topic3\", \"Topic3\", \"Topic3\", \"Topic3\", \"Topic3\", \"Topic3\", \"Topic3\", \"Topic3\", \"Topic3\", \"Topic3\", \"Topic3\", \"Topic3\", \"Topic3\", \"Topic3\", \"Topic3\", \"Topic3\", \"Topic3\", \"Topic3\", \"Topic3\", \"Topic3\", \"Topic3\", \"Topic3\", \"Topic3\", \"Topic3\", \"Topic3\", \"Topic3\", \"Topic3\", \"Topic3\", \"Topic3\", \"Topic3\", \"Topic3\", \"Topic3\", \"Topic3\", \"Topic3\", \"Topic3\", \"Topic3\", \"Topic3\", \"Topic3\", \"Topic3\", \"Topic3\", \"Topic3\", \"Topic3\", \"Topic3\"], \"logprob\": [30.0, 29.0, 28.0, 27.0, 26.0, 25.0, 24.0, 23.0, 22.0, 21.0, 20.0, 19.0, 18.0, 17.0, 16.0, 15.0, 14.0, 13.0, 12.0, 11.0, 10.0, 9.0, 8.0, 7.0, 6.0, 5.0, 4.0, 3.0, 2.0, 1.0, -2.702500104904175, -3.941999912261963, -4.283100128173828, -4.479000091552734, -4.417200088500977, -4.677199840545654, -4.696300029754639, -4.698800086975098, -4.993500232696533, -5.124000072479248, -5.076300144195557, -5.1946001052856445, -5.231299877166748, -5.225299835205078, -5.394999980926514, -5.335599899291992, -5.477499961853027, -5.484300136566162, -5.549900054931641, -5.5472002029418945, -5.466000080108643, -5.64169979095459, -5.617499828338623, -5.6041998863220215, -5.670599937438965, -5.690199851989746, -5.696400165557861, -5.734099864959717, -5.781000137329102, -5.75600004196167, -5.731100082397461, -4.855400085449219, -4.499199867248535, -5.195899963378906, -5.106400012969971, -4.784599781036377, -4.756400108337402, -4.780700206756592, -5.36870002746582, -4.290900230407715, -4.371300220489502, -4.992300033569336, -4.707200050354004, -5.017499923706055, -5.341100215911865, -5.161399841308594, -5.222799777984619, -5.201900005340576, -5.181700229644775, -4.964600086212158, -5.13129997253418, -5.316500186920166, -5.246399879455566, -5.548999786376953, -5.541999816894531, -5.6305999755859375, -5.825399875640869, -5.869200229644775, -5.827899932861328, -5.845699787139893, -5.8684000968933105, -6.035699844360352, -6.029300212860107, -6.1631999015808105, -6.149700164794922, -6.169300079345703, -6.187300205230713, -6.144400119781494, -6.201399803161621, -6.14900016784668, -5.697700023651123, -6.353400230407715, -6.400599956512451, -6.406700134277344, -6.286600112915039, -6.456200122833252, -6.490799903869629, -6.496099948883057, -6.433899879455566, -6.349100112915039, -4.831200122833252, -5.093699932098389, -4.394800186157227, -5.752900123596191, -5.0289998054504395, -5.748899936676025, -4.38100004196167, -5.256800174713135, -5.704699993133545, -4.900599956512451, -5.249000072479248, -5.512800216674805, -5.451900005340576, -4.409599781036377, -5.354700088500977, -4.929900169372559, -5.372499942779541, -4.9369001388549805, -5.255199909210205, -5.518599987030029, -5.11299991607666, -4.846099853515625, -5.493500232696533, -5.325799942016602, -5.608500003814697, -5.230199813842773, -5.4959001541137695, -5.227799892425537, -5.524400234222412, -3.1872000694274902, -3.3255999088287354, -3.8814001083374023, -3.934999942779541, -4.2855000495910645, -4.124599933624268, -4.358099937438965, -4.402299880981445, -4.719399929046631, -4.816100120544434, -4.688300132751465, -4.880099773406982, -4.944300174713135, -4.9953999519348145, -4.939000129699707, -5.23769998550415, -5.239099979400635, -5.387899875640869, -5.344799995422363, -5.537799835205078, -5.607800006866455, -5.662099838256836, -5.568699836730957, -5.750500202178955, -5.773399829864502, -5.665999889373779, -5.775400161743164, -5.6890997886657715, -5.807499885559082, -5.884900093078613, -5.790200233459473, -4.723800182342529, -5.064700126647949, -3.8965001106262207, -3.166800022125244, -5.261000156402588, -5.263400077819824, -4.32919979095459, -4.775700092315674, -4.825099945068359, -5.207399845123291, -5.0914998054504395, -5.001399993896484, -4.917500019073486, -5.080699920654297, -4.954800128936768, -5.081999778747559, -5.2154998779296875], \"loglift\": [30.0, 29.0, 28.0, 27.0, 26.0, 25.0, 24.0, 23.0, 22.0, 21.0, 20.0, 19.0, 18.0, 17.0, 16.0, 15.0, 14.0, 13.0, 12.0, 11.0, 10.0, 9.0, 8.0, 7.0, 6.0, 5.0, 4.0, 3.0, 2.0, 1.0, 0.4186, 0.4186, 0.4186, 0.4186, 0.4186, 0.4186, 0.4186, 0.4186, 0.4186, 0.4186, 0.4186, 0.4186, 0.4185, 0.4185, 0.4185, 0.4185, 0.4185, 0.4185, 0.4185, 0.4185, 0.4185, 0.4185, 0.4185, 0.4185, 0.4185, 0.4185, 0.4185, 0.4185, 0.4185, 0.4185, 0.4185, 0.4091, 0.3834, 0.4005, 0.3887, 0.335, 0.3259, 0.324, 0.3842, 0.1998, 0.209, 0.3002, -0.035, 0.1225, 0.33, 0.181, 0.2135, 0.1748, 0.1331, 1.2711, 1.271, 1.271, 1.271, 1.2709, 1.2709, 1.2709, 1.2708, 1.2708, 1.2708, 1.2708, 1.2708, 1.2707, 1.2707, 1.2707, 1.2706, 1.2706, 1.2706, 1.2706, 1.2706, 1.2706, 1.2706, 1.2705, 1.2705, 1.2705, 1.2705, 1.2704, 1.2704, 1.2704, 1.2704, 1.2704, 1.2312, 1.0856, 0.9784, 1.1421, 0.9891, 1.1316, 0.7776, 0.8596, 1.0418, 0.661, 0.8136, 0.9303, 0.8832, 0.2626, 0.7676, 0.3736, 0.7198, 0.3233, 0.5173, 0.784, 0.1965, -0.3554, 0.6817, 0.3638, 0.8816, -0.0902, 0.4776, -0.6475, -0.0948, 2.7869, 2.7869, 2.7868, 2.7867, 2.7866, 2.7866, 2.7865, 2.7865, 2.7863, 2.7862, 2.7862, 2.7862, 2.7861, 2.786, 2.786, 2.7857, 2.7857, 2.7855, 2.7854, 2.7853, 2.7852, 2.785, 2.7849, 2.7849, 2.7848, 2.7847, 2.7846, 2.7846, 2.7845, 2.7844, 2.7824, 2.7102, 2.7312, 2.3638, 2.1422, 2.6531, 2.5867, 1.7174, 1.9949, 1.842, 2.2476, 1.9133, 1.2841, 0.7886, 1.2238, -0.3745, 0.2328, 0.9638]}, \"token.table\": {\"Topic\": [1, 3, 3, 1, 2, 3, 2, 3, 3, 2, 3, 2, 3, 3, 2, 1, 2, 1, 1, 2, 3, 2, 3, 1, 2, 1, 1, 2, 3, 1, 2, 1, 2, 3, 1, 2, 1, 2, 1, 2, 1, 2, 2, 2, 3, 2, 1, 3, 2, 1, 2, 3, 1, 2, 3, 1, 2, 1, 3, 2, 1, 1, 2, 1, 1, 1, 1, 2, 1, 3, 3, 3, 1, 1, 1, 1, 2, 3, 1, 1, 2, 1, 3, 3, 1, 3, 1, 2, 2, 1, 2, 3, 1, 1, 3, 1, 1, 3, 2, 2, 2, 3, 1, 2, 1, 2, 3, 2, 1, 2, 3, 1, 2, 1, 2, 2, 2, 3, 3, 3, 2, 1, 2, 1, 2, 2, 1, 2, 3, 1, 2, 3, 1, 2, 1, 2, 3, 1, 2, 1, 2, 3, 2, 1, 1, 3, 1, 2, 1, 2, 1, 3, 2, 1, 1, 1, 2, 2, 3, 2, 2, 3, 3, 1, 2, 3, 1, 1, 3, 1, 3, 3, 1, 3, 1, 2, 1, 2, 1, 2, 1, 2, 3, 3, 2, 1, 2, 2, 1, 3, 1, 2, 3, 3, 3, 2, 1, 1, 2, 1, 1, 2, 3, 1, 2, 1, 2, 1, 2, 1, 2, 2, 3, 3, 1, 3, 1, 2, 3, 2, 1, 2, 1, 2, 2, 1, 2, 3, 1, 2, 1, 1], \"Freq\": [0.999951703195435, 0.99897122738836, 0.9989712933043894, 0.4161121612760797, 0.000937189552423603, 0.5829319016074811, 0.054029645713235805, 0.9461776981000807, 0.9976088543599395, 0.07341167222449942, 0.9259047159314989, 0.0005440288478671881, 0.9993809935320246, 0.9984721560214306, 0.9992062172144708, 0.5294721431696476, 0.4705838297799337, 0.9998632161344896, 0.29575433250381633, 0.5761572641315222, 0.12808825106004698, 0.18086319809053342, 0.8180581575171819, 0.9999362343264737, 0.9991127605466245, 0.9999351244626483, 0.9999602737517564, 0.9996854366626073, 0.9992195873534051, 0.9997114827505403, 0.9994216923798526, 0.26368863431584433, 0.7110054002805777, 0.02521054126533912, 0.2538260080258725, 0.7460521340870949, 0.0005759600444727453, 0.999290677160213, 0.45670886995220167, 0.5431971422045031, 0.33737005062933223, 0.6624542290580333, 0.9996351006465297, 0.9996600226682169, 0.999315583075086, 0.9992227897739859, 0.7772663076518834, 0.22232551817522986, 0.9994058623318799, 0.1303081497424757, 0.8694244160955463, 0.9994553797974044, 0.002865209675496621, 0.002865209675496621, 0.9942277573973275, 0.03911032783135555, 0.960763827142883, 0.5825209177842339, 0.4176226887499277, 0.9998803010454211, 0.9998877457568908, 0.78359293287673, 0.21636171223549341, 0.9999069647362676, 0.9998710538096075, 0.9999629796123592, 0.3895856290347239, 0.6103068191533804, 0.9999271523025787, 0.9998098256413298, 0.9990542186249016, 0.9961542298178158, 0.9998601623205654, 0.9999862550323657, 0.9998873110162014, 0.8108674793883913, 0.14680546030014832, 0.042359932889199856, 0.9997420230603875, 0.5924538426458085, 0.40750274423338445, 0.9653460369909129, 0.03462996456445315, 0.9987956591912681, 0.8643611455085212, 0.13547418180263696, 0.9999240851818004, 0.9997506276532103, 0.9995818633157302, 0.26078078978667524, 0.08456221475128316, 0.6549315155904749, 0.9999310985041268, 0.9905408957360985, 0.00943472119973001, 0.9998650628096081, 0.9819988672510632, 0.017968738570645758, 0.9996862606713649, 0.9992081861171662, 0.9991119886295324, 0.9973222215717279, 0.6352764959325282, 0.36471294359477413, 0.7515498954253994, 0.17063643856241104, 0.07771233151582672, 0.9997507757402554, 0.9997775341586111, 0.00045008330334676453, 0.999635016733164, 0.3856960490925651, 0.6142128180100327, 0.6124611759611271, 0.3875372096700179, 0.9994817349450962, 0.12458571759004639, 0.8750663497396115, 0.9988293131936345, 0.9996574869087617, 0.9993752676640234, 0.245883168887284, 0.7541308060256736, 0.7436720475851084, 0.25628225261520415, 0.9992933325361086, 0.9660449846945834, 0.014008079353661511, 0.019987137614370692, 0.6016027125476981, 0.34137609262868834, 0.057023953795990345, 0.8034088436490944, 0.19659727721937997, 0.9997766182208057, 0.9998529088864121, 0.9979506274199874, 0.7884358968839108, 0.2115564558037168, 0.8882860379568456, 0.10499885934101548, 0.006683705625403449, 0.9995543983281732, 0.9998664190551074, 0.7903994788943239, 0.20938913024367456, 0.0011046410776735635, 0.9985955342169015, 0.9151895226754085, 0.0848447115104997, 0.6567686574075302, 0.34305048155585227, 0.9993334596198296, 0.9999308792825775, 0.9999544805626439, 0.3217054238320463, 0.678272462033725, 0.0025363858579693275, 0.9967996421819456, 0.9994110857530388, 0.0009555151418848524, 0.9994688384115555, 0.9982858049734169, 0.9096391977689008, 0.09032955789650905, 0.9969467695513274, 0.9999190377966285, 0.0018407117007070565, 0.9976657417832245, 0.9997750513707971, 0.9965030458689891, 0.9996950094957492, 0.47528676445418966, 0.5247113276934886, 0.9704508590322983, 0.029439605708638624, 0.7448195679913097, 0.2550735007911806, 0.4453559246869438, 0.5545450015996586, 0.3750771592818915, 0.23655434477437476, 0.38871632871032397, 0.9998981003155122, 0.9993374327184429, 0.39551122877158135, 0.6043905964665728, 0.9989412265884094, 0.002595372210602855, 0.9966229288714963, 0.20486965659711087, 0.795023464677527, 0.9986183028186881, 0.9983680274257855, 0.998945834912011, 0.9994857427919555, 0.9999092547630644, 0.9999446768572791, 0.9990506577686942, 0.9997540967953643, 0.19959175993541503, 0.677326598564369, 0.12318274987069443, 0.5476734376842819, 0.45224064885403753, 0.12097334369076791, 0.8789302227444288, 0.5964136885640753, 0.40348933595784175, 0.9114368184422219, 0.08850512817120118, 0.5468811829524286, 0.45281951017150096, 0.9996272889556947, 0.9082653546864671, 0.09165306612508535, 0.007850473716305385, 0.8305801191851097, 0.16145807609868074, 0.9992071630412301, 0.9998631107852423, 0.9995752681216903, 0.3671999057666568, 0.6326456207786979, 0.9996681336624158, 0.9197112311283392, 0.07989209175942288, 0.00036273367427660787, 0.8145641971278361, 0.18546770380814118, 0.999734091984675, 0.9997928728246436], \"Term\": [\"10\", \"1080p\", \"1440p\", \"30\", \"30\", \"30\", \"40\", \"40\", \"4k\", \"50\", \"50\", \"60\", \"60\", \"60fps\", \"ai\", \"also\", \"also\", \"amaze\", \"around\", \"around\", \"around\", \"average\", \"average\", \"best\", \"body\", \"break\", \"bug\", \"car\", \"card\", \"cdpr\", \"certain\", \"change\", \"change\", \"change\", \"character\", \"character\", \"choice\", \"choice\", \"city\", \"city\", \"combat\", \"combat\", \"con\", \"control\", \"cpu\", \"craft\", \"crash\", \"crash\", \"dialogue\", \"different\", \"different\", \"dl\", \"download\", \"download\", \"download\", \"drive\", \"drive\", \"driver\", \"driver\", \"enemy\", \"enjoy\", \"even\", \"even\", \"expect\", \"experience\", \"far\", \"feel\", \"feel\", \"fix\", \"fps\", \"frame\", \"frame_rate\", \"fun\", \"game\", \"gameplay\", \"get\", \"get\", \"get\", \"glitch\", \"go\", \"go\", \"good\", \"good\", \"gpu\", \"graphic\", \"graphic\", \"great\", \"gun\", \"hack\", \"high\", \"high\", \"high\", \"hour\", \"i'm\", \"i'm\", \"i've\", \"issue\", \"issue\", \"item\", \"key\", \"kill\", \"laptop\", \"like\", \"like\", \"look\", \"look\", \"look\", \"loot\", \"love\", \"low\", \"low\", \"main\", \"main\", \"make\", \"make\", \"map\", \"max\", \"max\", \"maxed\", \"medium\", \"melee\", \"mission\", \"mission\", \"more\", \"more\", \"move\", \"need\", \"need\", \"need\", \"no\", \"no\", \"no\", \"not\", \"not\", \"nothing\", \"npc\", \"nvidia\", \"one\", \"one\", \"only\", \"only\", \"only\", \"option\", \"patch\", \"pc\", \"pc\", \"penis\", \"penis\", \"people\", \"people\", \"performance\", \"performance\", \"perk\", \"play\", \"played\", \"quest\", \"quest\", \"ram\", \"ram\", \"random\", \"ray_trace\", \"ray_trace\", \"raytracing\", \"really\", \"really\", \"resolution\", \"review\", \"rig\", \"rig\", \"rpg\", \"rt\", \"rtx\", \"run\", \"run\", \"say\", \"say\", \"see\", \"see\", \"seem\", \"seem\", \"set\", \"set\", \"set\", \"setting\", \"shoot\", \"side\", \"side\", \"skill\", \"smoothly\", \"smoothly\", \"sometimes\", \"sometimes\", \"spec\", \"ssd\", \"stable\", \"stealth\", \"still\", \"story\", \"street\", \"sure\", \"system\", \"system\", \"system\", \"take\", \"take\", \"talk\", \"talk\", \"thing\", \"thing\", \"time\", \"time\", \"turn\", \"turn\", \"ultra\", \"update\", \"update\", \"use\", \"use\", \"use\", \"vehicle\", \"wait\", \"walk\", \"way\", \"way\", \"weapon\", \"well\", \"well\", \"well\", \"world\", \"world\", \"worth\", \"year\"]}, \"R\": 30, \"lambda.step\": 0.01, \"plot.opts\": {\"xlab\": \"PC1\", \"ylab\": \"PC2\"}, \"topic.order\": [1, 2, 3]};\n",
       "\n",
       "function LDAvis_load_lib(url, callback){\n",
       "  var s = document.createElement('script');\n",
       "  s.src = url;\n",
       "  s.async = true;\n",
       "  s.onreadystatechange = s.onload = callback;\n",
       "  s.onerror = function(){console.warn(\"failed to load library \" + url);};\n",
       "  document.getElementsByTagName(\"head\")[0].appendChild(s);\n",
       "}\n",
       "\n",
       "if(typeof(LDAvis) !== \"undefined\"){\n",
       "   // already loaded: just create the visualization\n",
       "   !function(LDAvis){\n",
       "       new LDAvis(\"#\" + \"ldavis_el204018592610258569363386208\", ldavis_el204018592610258569363386208_data);\n",
       "   }(LDAvis);\n",
       "}else if(typeof define === \"function\" && define.amd){\n",
       "   // require.js is available: use it to load d3/LDAvis\n",
       "   require.config({paths: {d3: \"https://cdnjs.cloudflare.com/ajax/libs/d3/3.5.5/d3.min\"}});\n",
       "   require([\"d3\"], function(d3){\n",
       "      window.d3 = d3;\n",
       "      LDAvis_load_lib(\"https://cdn.rawgit.com/bmabey/pyLDAvis/files/ldavis.v1.0.0.js\", function(){\n",
       "        new LDAvis(\"#\" + \"ldavis_el204018592610258569363386208\", ldavis_el204018592610258569363386208_data);\n",
       "      });\n",
       "    });\n",
       "}else{\n",
       "    // require.js not available: dynamically load d3 & LDAvis\n",
       "    LDAvis_load_lib(\"https://cdnjs.cloudflare.com/ajax/libs/d3/3.5.5/d3.min.js\", function(){\n",
       "         LDAvis_load_lib(\"https://cdn.rawgit.com/bmabey/pyLDAvis/files/ldavis.v1.0.0.js\", function(){\n",
       "                 new LDAvis(\"#\" + \"ldavis_el204018592610258569363386208\", ldavis_el204018592610258569363386208_data);\n",
       "            })\n",
       "         });\n",
       "}\n",
       "</script>"
      ],
      "text/plain": [
       "PreparedData(topic_coordinates=              x         y  topics  cluster       Freq\n",
       "topic                                                \n",
       "0     -0.176781  0.196256       1        1  65.792968\n",
       "1     -0.170466 -0.198650       2        1  28.047323\n",
       "2      0.347248  0.002394       3        1   6.159708, topic_info=        Term          Freq         Total Category  logprob  loglift\n",
       "18      game  81352.000000  81352.000000  Default  30.0000  30.0000\n",
       "281      run   9125.000000   9125.000000  Default  29.0000  29.0000\n",
       "198      fps   4691.000000   4691.000000  Default  28.0000  28.0000\n",
       "252  setting   4085.000000   4085.000000  Default  27.0000  27.0000\n",
       "14       bug  23553.000000  23553.000000  Default  26.0000  26.0000\n",
       "..       ...           ...           ...      ...      ...      ...\n",
       "47   graphic    831.368629   6134.010104   Topic3  -4.9175   0.7886\n",
       "527       pc    706.171232   3371.712749   Topic3  -5.0807   1.2238\n",
       "45       get    800.939117  18909.378400   Topic3  -4.9548  -0.3745\n",
       "117     look    705.276436   9071.919298   Topic3  -5.0820   0.2328\n",
       "512      use    617.095481   3821.425443   Topic3  -5.2155   0.9638\n",
       "\n",
       "[187 rows x 6 columns], token_table=      Topic      Freq   Term\n",
       "term                        \n",
       "327       1  0.999952     10\n",
       "262       3  0.998971  1080p\n",
       "1673      3  0.998971  1440p\n",
       "741       1  0.416112     30\n",
       "741       2  0.000937     30\n",
       "...     ...       ...    ...\n",
       "73        3  0.000363   well\n",
       "210       1  0.814564  world\n",
       "210       2  0.185468  world\n",
       "189       1  0.999734  worth\n",
       "261       1  0.999793   year\n",
       "\n",
       "[232 rows x 3 columns], R=30, lambda_step=0.01, plot_opts={'xlab': 'PC1', 'ylab': 'PC2'}, topic_order=[1, 2, 3])"
      ]
     },
     "execution_count": 30,
     "metadata": {},
     "output_type": "execute_result"
    }
   ],
   "source": [
    "# visualize the topics using pyLDAvis\n",
    "\n",
    "pyLDAvis.enable_notebook()\n",
    "vis = pyLDAvis.gensim.prepare(cyberpunk_pos_lda_model, cyberpunk_pos_corpus, cyberpunk_pos_id2word)\n",
    "vis"
   ]
  },
  {
   "cell_type": "markdown",
   "id": "textile-stevens",
   "metadata": {},
   "source": [
    "**Topic Interpretation**\n",
    "\n",
    "- **1**: overall positive sentiments\n",
    "- **2**: generic gameplay terms (mission, combat, npc), story-related terms (dialogue, quest, choice)\n",
    "- **3**: hardware and technical related e.g. performance, crash, graphics (ray tracing, low, medium, high), fps, driver, rtx/nvidia"
   ]
  },
  {
   "cell_type": "code",
   "execution_count": 31,
   "id": "collaborative-affair",
   "metadata": {
    "ExecuteTime": {
     "end_time": "2021-01-27T05:32:53.671918Z",
     "start_time": "2021-01-27T05:17:03.729490Z"
    }
   },
   "outputs": [
    {
     "name": "stdout",
     "output_type": "stream",
     "text": [
      "Coherence value for 2 topics: 0.3187\n",
      "Coherence value for 3 topics: 0.4830\n",
      "Coherence value for 4 topics: 0.4297\n",
      "Coherence value for 5 topics: 0.4360\n",
      "Coherence value for 6 topics: 0.3941\n",
      "Coherence value for 7 topics: 0.2837\n"
     ]
    },
    {
     "data": {
      "image/png": "[encoded data removed]",
      "text/plain": [
       "<Figure size 432x288 with 1 Axes>"
      ]
     },
     "metadata": {
      "needs_background": "light"
     },
     "output_type": "display_data"
    }
   ],
   "source": [
    "display_coherence_values(cyberpunk_pos_id2word, cyberpunk_pos_corpus, cyberpunk_pos_processed_text, start=2, limit=8, step=1)"
   ]
  },
  {
   "cell_type": "markdown",
   "id": "united-deputy",
   "metadata": {},
   "source": [
    "### Negative"
   ]
  },
  {
   "cell_type": "code",
   "execution_count": 32,
   "id": "dress-robin",
   "metadata": {
    "ExecuteTime": {
     "end_time": "2021-01-27T05:33:18.125742Z",
     "start_time": "2021-01-27T05:32:53.674904Z"
    }
   },
   "outputs": [],
   "source": [
    "cyberpunk_neg_processed_text, cyberpunk_neg_id2word, cyberpunk_neg_corpus = build_bigrams_trigrams(0, cyberpunk_ml)"
   ]
  },
  {
   "cell_type": "code",
   "execution_count": 33,
   "id": "sophisticated-baseline",
   "metadata": {
    "ExecuteTime": {
     "end_time": "2021-01-27T05:34:27.506629Z",
     "start_time": "2021-01-27T05:33:18.126731Z"
    }
   },
   "outputs": [],
   "source": [
    "# build LDA model\n",
    "\n",
    "cyberpunk_neg_lda_model = gensim.models.ldamodel.LdaModel(corpus=cyberpunk_neg_corpus,\n",
    "                                                          id2word=cyberpunk_neg_id2word,\n",
    "                                                          num_topics=5, \n",
    "                                                          random_state=42,\n",
    "                                                          update_every=1,\n",
    "                                                          chunksize=100,\n",
    "                                                          passes=10,\n",
    "                                                          alpha='auto',\n",
    "                                                          iterations=100,\n",
    "                                                          per_word_topics=True)"
   ]
  },
  {
   "cell_type": "code",
   "execution_count": 34,
   "id": "velvet-eight",
   "metadata": {
    "ExecuteTime": {
     "end_time": "2021-01-27T05:35:28.343045Z",
     "start_time": "2021-01-27T05:34:27.508624Z"
    }
   },
   "outputs": [
    {
     "data": {
      "text/html": [
       "<div>\n",
       "<style scoped>\n",
       "    .dataframe tbody tr th:only-of-type {\n",
       "        vertical-align: middle;\n",
       "    }\n",
       "\n",
       "    .dataframe tbody tr th {\n",
       "        vertical-align: top;\n",
       "    }\n",
       "\n",
       "    .dataframe thead th {\n",
       "        text-align: right;\n",
       "    }\n",
       "</style>\n",
       "<table border=\"1\" class=\"dataframe\">\n",
       "  <thead>\n",
       "    <tr style=\"text-align: right;\">\n",
       "      <th></th>\n",
       "      <th>Document_No</th>\n",
       "      <th>Dominant_Topic</th>\n",
       "      <th>Percentage_Contribution</th>\n",
       "      <th>Keywords</th>\n",
       "      <th>Text</th>\n",
       "    </tr>\n",
       "  </thead>\n",
       "  <tbody>\n",
       "    <tr>\n",
       "      <th>0</th>\n",
       "      <td>0</td>\n",
       "      <td>4.0</td>\n",
       "      <td>0.7873</td>\n",
       "      <td>game, not, bug, play, get, even, like, fix, ti...</td>\n",
       "      <td>[glitchy, crash, lot, literally, 80, 90, game,...</td>\n",
       "    </tr>\n",
       "    <tr>\n",
       "      <th>1</th>\n",
       "      <td>1</td>\n",
       "      <td>3.0</td>\n",
       "      <td>0.4016</td>\n",
       "      <td>fps, low, run, pc, spec, high, medium, perform...</td>\n",
       "      <td>[make, config, assign, 25gb, ram, 6gb_vram, 20...</td>\n",
       "    </tr>\n",
       "    <tr>\n",
       "      <th>2</th>\n",
       "      <td>2</td>\n",
       "      <td>1.0</td>\n",
       "      <td>0.4065</td>\n",
       "      <td>no, like, character, go, get, one, feel, only,...</td>\n",
       "      <td>[cyberpunk_2077, say, promise, trove, feature,...</td>\n",
       "    </tr>\n",
       "    <tr>\n",
       "      <th>3</th>\n",
       "      <td>3</td>\n",
       "      <td>1.0</td>\n",
       "      <td>0.6289</td>\n",
       "      <td>no, like, character, go, get, one, feel, only,...</td>\n",
       "      <td>[firstly, wanna, say, game, isnt, bad, actuall...</td>\n",
       "    </tr>\n",
       "    <tr>\n",
       "      <th>4</th>\n",
       "      <td>4</td>\n",
       "      <td>4.0</td>\n",
       "      <td>0.4334</td>\n",
       "      <td>game, not, bug, play, get, even, like, fix, ti...</td>\n",
       "      <td>[extremely, little, game, play, way, much, int...</td>\n",
       "    </tr>\n",
       "    <tr>\n",
       "      <th>5</th>\n",
       "      <td>5</td>\n",
       "      <td>1.0</td>\n",
       "      <td>0.4532</td>\n",
       "      <td>no, like, character, go, get, one, feel, only,...</td>\n",
       "      <td>[current, playtime, don't, think, recommend, g...</td>\n",
       "    </tr>\n",
       "    <tr>\n",
       "      <th>6</th>\n",
       "      <td>6</td>\n",
       "      <td>4.0</td>\n",
       "      <td>0.5298</td>\n",
       "      <td>game, not, bug, play, get, even, like, fix, ti...</td>\n",
       "      <td>[find, pretty, bore, game, relatively, quickly...</td>\n",
       "    </tr>\n",
       "    <tr>\n",
       "      <th>7</th>\n",
       "      <td>7</td>\n",
       "      <td>4.0</td>\n",
       "      <td>0.6564</td>\n",
       "      <td>game, not, bug, play, get, even, like, fix, ti...</td>\n",
       "      <td>[story, good, game, good, cant, recommend, get...</td>\n",
       "    </tr>\n",
       "    <tr>\n",
       "      <th>8</th>\n",
       "      <td>8</td>\n",
       "      <td>4.0</td>\n",
       "      <td>0.6716</td>\n",
       "      <td>game, not, bug, play, get, even, like, fix, ti...</td>\n",
       "      <td>[bug, iron, lack, feature, replayability, real...</td>\n",
       "    </tr>\n",
       "    <tr>\n",
       "      <th>9</th>\n",
       "      <td>9</td>\n",
       "      <td>1.0</td>\n",
       "      <td>0.6044</td>\n",
       "      <td>no, like, character, go, get, one, feel, only,...</td>\n",
       "      <td>[i've, played, 40, hour, far, yet, finish, sto...</td>\n",
       "    </tr>\n",
       "    <tr>\n",
       "      <th>10</th>\n",
       "      <td>10</td>\n",
       "      <td>1.0</td>\n",
       "      <td>0.5527</td>\n",
       "      <td>no, like, character, go, get, one, feel, only,...</td>\n",
       "      <td>[fun, technical, issue, solid, game, i've, num...</td>\n",
       "    </tr>\n",
       "    <tr>\n",
       "      <th>11</th>\n",
       "      <td>11</td>\n",
       "      <td>1.0</td>\n",
       "      <td>0.7658</td>\n",
       "      <td>no, like, character, go, get, one, feel, only,...</td>\n",
       "      <td>[bug, glitch, aside, lot, stuff, miss, dampens...</td>\n",
       "    </tr>\n",
       "    <tr>\n",
       "      <th>12</th>\n",
       "      <td>12</td>\n",
       "      <td>4.0</td>\n",
       "      <td>0.4955</td>\n",
       "      <td>game, not, bug, play, get, even, like, fix, ti...</td>\n",
       "      <td>[not, good, side, quest, fun, kill, people, sa...</td>\n",
       "    </tr>\n",
       "    <tr>\n",
       "      <th>13</th>\n",
       "      <td>13</td>\n",
       "      <td>4.0</td>\n",
       "      <td>0.6606</td>\n",
       "      <td>game, not, bug, play, get, even, like, fix, ti...</td>\n",
       "      <td>[feel, should've, refund, first, two, hour, di...</td>\n",
       "    </tr>\n",
       "    <tr>\n",
       "      <th>14</th>\n",
       "      <td>14</td>\n",
       "      <td>4.0</td>\n",
       "      <td>0.5867</td>\n",
       "      <td>game, not, bug, play, get, even, like, fix, ti...</td>\n",
       "      <td>[still, glitchy, pc, although, heard, performa...</td>\n",
       "    </tr>\n",
       "  </tbody>\n",
       "</table>\n",
       "</div>"
      ],
      "text/plain": [
       "    Document_No  Dominant_Topic  Percentage_Contribution  \\\n",
       "0             0             4.0                   0.7873   \n",
       "1             1             3.0                   0.4016   \n",
       "2             2             1.0                   0.4065   \n",
       "3             3             1.0                   0.6289   \n",
       "4             4             4.0                   0.4334   \n",
       "5             5             1.0                   0.4532   \n",
       "6             6             4.0                   0.5298   \n",
       "7             7             4.0                   0.6564   \n",
       "8             8             4.0                   0.6716   \n",
       "9             9             1.0                   0.6044   \n",
       "10           10             1.0                   0.5527   \n",
       "11           11             1.0                   0.7658   \n",
       "12           12             4.0                   0.4955   \n",
       "13           13             4.0                   0.6606   \n",
       "14           14             4.0                   0.5867   \n",
       "\n",
       "                                             Keywords  \\\n",
       "0   game, not, bug, play, get, even, like, fix, ti...   \n",
       "1   fps, low, run, pc, spec, high, medium, perform...   \n",
       "2   no, like, character, go, get, one, feel, only,...   \n",
       "3   no, like, character, go, get, one, feel, only,...   \n",
       "4   game, not, bug, play, get, even, like, fix, ti...   \n",
       "5   no, like, character, go, get, one, feel, only,...   \n",
       "6   game, not, bug, play, get, even, like, fix, ti...   \n",
       "7   game, not, bug, play, get, even, like, fix, ti...   \n",
       "8   game, not, bug, play, get, even, like, fix, ti...   \n",
       "9   no, like, character, go, get, one, feel, only,...   \n",
       "10  no, like, character, go, get, one, feel, only,...   \n",
       "11  no, like, character, go, get, one, feel, only,...   \n",
       "12  game, not, bug, play, get, even, like, fix, ti...   \n",
       "13  game, not, bug, play, get, even, like, fix, ti...   \n",
       "14  game, not, bug, play, get, even, like, fix, ti...   \n",
       "\n",
       "                                                 Text  \n",
       "0   [glitchy, crash, lot, literally, 80, 90, game,...  \n",
       "1   [make, config, assign, 25gb, ram, 6gb_vram, 20...  \n",
       "2   [cyberpunk_2077, say, promise, trove, feature,...  \n",
       "3   [firstly, wanna, say, game, isnt, bad, actuall...  \n",
       "4   [extremely, little, game, play, way, much, int...  \n",
       "5   [current, playtime, don't, think, recommend, g...  \n",
       "6   [find, pretty, bore, game, relatively, quickly...  \n",
       "7   [story, good, game, good, cant, recommend, get...  \n",
       "8   [bug, iron, lack, feature, replayability, real...  \n",
       "9   [i've, played, 40, hour, far, yet, finish, sto...  \n",
       "10  [fun, technical, issue, solid, game, i've, num...  \n",
       "11  [bug, glitch, aside, lot, stuff, miss, dampens...  \n",
       "12  [not, good, side, quest, fun, kill, people, sa...  \n",
       "13  [feel, should've, refund, first, two, hour, di...  \n",
       "14  [still, glitchy, pc, although, heard, performa...  "
      ]
     },
     "metadata": {},
     "output_type": "display_data"
    }
   ],
   "source": [
    "display_dominant_topics(cyberpunk_neg_lda_model, cyberpunk_neg_corpus, cyberpunk_neg_processed_text, 15)"
   ]
  },
  {
   "cell_type": "code",
   "execution_count": 35,
   "id": "hungarian-building",
   "metadata": {
    "ExecuteTime": {
     "end_time": "2021-01-27T05:36:24.204614Z",
     "start_time": "2021-01-27T05:35:28.345039Z"
    }
   },
   "outputs": [
    {
     "data": {
      "text/html": [
       "<div>\n",
       "<style scoped>\n",
       "    .dataframe tbody tr th:only-of-type {\n",
       "        vertical-align: middle;\n",
       "    }\n",
       "\n",
       "    .dataframe tbody tr th {\n",
       "        vertical-align: top;\n",
       "    }\n",
       "\n",
       "    .dataframe thead th {\n",
       "        text-align: right;\n",
       "    }\n",
       "</style>\n",
       "<table border=\"1\" class=\"dataframe\">\n",
       "  <thead>\n",
       "    <tr style=\"text-align: right;\">\n",
       "      <th></th>\n",
       "      <th>Topic_Num</th>\n",
       "      <th>Topic_Percentage_Contribution</th>\n",
       "      <th>Keywords</th>\n",
       "      <th>Representative Text</th>\n",
       "    </tr>\n",
       "  </thead>\n",
       "  <tbody>\n",
       "    <tr>\n",
       "      <th>0</th>\n",
       "      <td>0.0</td>\n",
       "      <td>0.4837</td>\n",
       "      <td>world, open, rpg, cyberpunk, feel, story, lack...</td>\n",
       "      <td>[like, electronic, art's, mirror's, edge, synd...</td>\n",
       "    </tr>\n",
       "    <tr>\n",
       "      <th>1</th>\n",
       "      <td>1.0</td>\n",
       "      <td>0.7658</td>\n",
       "      <td>no, like, character, go, get, one, feel, only,...</td>\n",
       "      <td>[bug, glitch, aside, lot, stuff, miss, dampens...</td>\n",
       "    </tr>\n",
       "    <tr>\n",
       "      <th>2</th>\n",
       "      <td>2.0</td>\n",
       "      <td>0.5149</td>\n",
       "      <td>ai, car, npc, drive, spawn, no, police, walk, ...</td>\n",
       "      <td>[list, feature, miss, quality, life, walk, tog...</td>\n",
       "    </tr>\n",
       "    <tr>\n",
       "      <th>3</th>\n",
       "      <td>3.0</td>\n",
       "      <td>0.7527</td>\n",
       "      <td>fps, low, run, pc, spec, high, medium, perform...</td>\n",
       "      <td>[sabse, bada, chootmarika, game, hai, madarcho...</td>\n",
       "    </tr>\n",
       "    <tr>\n",
       "      <th>4</th>\n",
       "      <td>4.0</td>\n",
       "      <td>0.8830</td>\n",
       "      <td>game, not, bug, play, get, even, like, fix, ti...</td>\n",
       "      <td>[say, game, overhyped, devs, not, deliver, pro...</td>\n",
       "    </tr>\n",
       "  </tbody>\n",
       "</table>\n",
       "</div>"
      ],
      "text/plain": [
       "   Topic_Num  Topic_Percentage_Contribution  \\\n",
       "0        0.0                         0.4837   \n",
       "1        1.0                         0.7658   \n",
       "2        2.0                         0.5149   \n",
       "3        3.0                         0.7527   \n",
       "4        4.0                         0.8830   \n",
       "\n",
       "                                            Keywords  \\\n",
       "0  world, open, rpg, cyberpunk, feel, story, lack...   \n",
       "1  no, like, character, go, get, one, feel, only,...   \n",
       "2  ai, car, npc, drive, spawn, no, police, walk, ...   \n",
       "3  fps, low, run, pc, spec, high, medium, perform...   \n",
       "4  game, not, bug, play, get, even, like, fix, ti...   \n",
       "\n",
       "                                 Representative Text  \n",
       "0  [like, electronic, art's, mirror's, edge, synd...  \n",
       "1  [bug, glitch, aside, lot, stuff, miss, dampens...  \n",
       "2  [list, feature, miss, quality, life, walk, tog...  \n",
       "3  [sabse, bada, chootmarika, game, hai, madarcho...  \n",
       "4  [say, game, overhyped, devs, not, deliver, pro...  "
      ]
     },
     "metadata": {},
     "output_type": "display_data"
    }
   ],
   "source": [
    "display_representative_docs(cyberpunk_neg_lda_model, cyberpunk_neg_corpus, cyberpunk_neg_processed_text)"
   ]
  },
  {
   "cell_type": "code",
   "execution_count": 36,
   "id": "exciting-prefix",
   "metadata": {
    "ExecuteTime": {
     "end_time": "2021-01-27T05:36:45.913432Z",
     "start_time": "2021-01-27T05:36:24.207606Z"
    }
   },
   "outputs": [
    {
     "name": "stdout",
     "output_type": "stream",
     "text": [
      "Perplexity: -7.4035\n",
      "Coherence Score: 0.4740\n"
     ]
    }
   ],
   "source": [
    "compute_perp_coherence(ldamodel=cyberpunk_neg_lda_model, \n",
    "                       dictionary=cyberpunk_neg_id2word,\n",
    "                       corpus=cyberpunk_neg_corpus, \n",
    "                       texts=cyberpunk_neg_processed_text)"
   ]
  },
  {
   "cell_type": "code",
   "execution_count": 37,
   "id": "verbal-dressing",
   "metadata": {
    "ExecuteTime": {
     "end_time": "2021-01-27T05:36:54.821528Z",
     "start_time": "2021-01-27T05:36:45.915401Z"
    },
    "scrolled": false
   },
   "outputs": [
    {
     "data": {
      "text/html": [
       "\n",
       "<link rel=\"stylesheet\" type=\"text/css\" href=\"https://cdn.rawgit.com/bmabey/pyLDAvis/files/ldavis.v1.0.0.css\">\n",
       "\n",
       "\n",
       "<div id=\"ldavis_el204018593981092165882893711\"></div>\n",
       "<script type=\"text/javascript\">\n",
       "\n",
       "var ldavis_el204018593981092165882893711_data = {\"mdsDat\": {\"x\": [0.29981401339390723, 0.24083688087782557, -0.14891980640743996, -0.16613540434412225, -0.22559568352017106], \"y\": [0.0775748890766962, -0.032557367500015144, -0.18840739457381542, -0.18712458914690627, 0.3305144621440408], \"topics\": [1, 2, 3, 4, 5], \"cluster\": [1, 1, 1, 1, 1], \"Freq\": [46.60372138308445, 37.92380106431889, 6.5397611210736635, 4.6097515660641815, 4.322964865458817]}, \"tinfo\": {\"Term\": [\"game\", \"run\", \"world\", \"no\", \"npc\", \"car\", \"ai\", \"fps\", \"bug\", \"low\", \"open\", \"drive\", \"performance\", \"feel\", \"character\", \"play\", \"story\", \"rpg\", \"pc\", \"high\", \"graphic\", \"cyberpunk\", \"walk\", \"use\", \"not\", \"fix\", \"wait\", \"spec\", \"around\", \"recommend\", \"bug\", \"fix\", \"wait\", \"recommend\", \"setting\", \"issue\", \"crash\", \"year\", \"patch\", \"review\", \"release\", \"cdpr\", \"update\", \"great\", \"buggy\", \"buy\", \"launch\", \"glitch\", \"mess\", \"optimization\", \"cant\", \"8\", \"shit\", \"day\", \"month\", \"delay\", \"worth\", \"finish\", \"hope\", \"development\", \"game\", \"refund\", \"play\", \"hour\", \"still\", \"played\", \"10\", \"should\", \"good\", \"not\", \"many\", \"i'm\", \"work\", \"need\", \"would\", \"time\", \"get\", \"even\", \"bad\", \"well\", \"like\", \"more\", \"really\", \"look\", \"make\", \"can't\", \"mission\", \"enemy\", \"quest\", \"gun\", \"talk\", \"level\", \"find\", \"kill\", \"side\", \"weapon\", \"matter\", \"menu\", \"force\", \"different\", \"place\", \"tell\", \"guy\", \"stealth\", \"pick\", \"call\", \"hack\", \"hand\", \"melee\", \"someone\", \"map\", \"loot\", \"found\", \"small\", \"person\", \"item\", \"there's\", \"example\", \"character\", \"option\", \"main\", \"hit\", \"no\", \"way\", \"one\", \"thing\", \"around\", \"combat\", \"only\", \"go\", \"use\", \"nothing\", \"point\", \"like\", \"also\", \"see\", \"take\", \"dialogue\", \"make\", \"feel\", \"anything\", \"want\", \"first\", \"get\", \"don't\", \"look\", \"even\", \"story\", \"not\", \"really\", \"more\", \"rpg\", \"deus_ex\", \"week\", \"shooter\", \"physic\", \"fallout_4\", \"lead\", \"music\", \"linear\", \"genre\", \"male\", \"final\", \"element\", \"shallow\", \"underwhelming\", \"rpg_element\", \"ultimately\", \"narrative\", \"movie\", \"looter_shooter\", \"repetitive\", \"score\", \"unlike\", \"braindead\", \"progression\", \"grind\", \"theme\", \"reality\", \"interface\", \"edgy\", \"nearly\", \"world\", \"open\", \"cyberpunk\", \"engage\", \"aspect\", \"design\", \"fallout\", \"bland\", \"lack\", \"gta\", \"compare\", \"gunplay\", \"night_city\", \"mechanic\", \"choice\", \"immersive\", \"story\", \"feel\", \"interest\", \"cyberpunk_2077\", \"felt\", \"witcher_3\", \"gameplay\", \"combat\", \"spawn\", \"police\", \"npc's\", \"cop\", \"disappear\", \"teleport\", \"download\", \"chase\", \"fly\", \"pedestrian\", \"penis\", \"foot\", \"invisible\", \"shitty\", \"civilian\", \"react\", \"lip\", \"traffic\", \"reminds\", \"sky\", \"proceed\", \"dodge\", \"consumer\", \"natural\", \"b\", \"garage\", \"specific\", \"reaction\", \"whatsoever\", \"presets\", \"ai\", \"nonexistent\", \"car\", \"npc\", \"behind\", \"pose\", \"front\", \"script\", \"vehicle\", \"randomly\", \"crime\", \"float\", \"object\", \"drive\", \"walk\", \"feature\", \"no\", \"animation\", \"away\", \"world\", \"wall\", \"around\", \"miss\", \"fps\", \"low\", \"spec\", \"medium\", \"ultra\", \"hardware\", \"40\", \"1080p\", \"dl\", \"60fps\", \"1440p\", \"gpu\", \"rtx\", \"card\", \"requirement\", \"cpu\", \"controller\", \"ray_trace\", \"45\", \"instal\", \"rebind\", \"framerate\", \"till\", \"stable\", \"resolution\", \"frame_rate\", \"launcher\", \"mouse\", \"blurry\", \"file\", \"pc\", \"rig\", \"ready\", \"run\", \"high\", \"60\", \"30\", \"driver\", \"performance\", \"50\", \"set\", \"drop\", \"use\", \"graphic\"], \"Freq\": [37408.0, 4148.0, 4221.0, 7576.0, 2713.0, 2639.0, 2517.0, 2150.0, 8449.0, 1922.0, 2396.0, 2464.0, 2374.0, 6375.0, 5765.0, 7200.0, 4737.0, 1580.0, 1371.0, 1479.0, 2174.0, 1394.0, 1485.0, 2007.0, 13584.0, 4371.0, 3968.0, 945.0, 2173.0, 3866.0, 8448.282719724906, 4370.329350377164, 3967.494802797377, 3865.716810557602, 3313.9453814545423, 3287.247390793769, 3201.025704728234, 3042.929534505642, 2590.370919121039, 2550.5248487517674, 2500.0355600318735, 2291.672255149108, 2083.111857563264, 1968.88389306652, 1959.6434735346845, 1781.123784339952, 1488.4008734285496, 1372.89998316036, 1368.414106513728, 1327.6027491450036, 1191.0736815796033, 1185.8908655955227, 1129.4290095807744, 1068.6592550284242, 1044.76994157871, 1006.1502848020324, 958.5000442592968, 945.8112457689099, 933.0293167286309, 923.3027493548266, 37256.586579698895, 1699.297074407129, 7027.35646948, 3050.10961318342, 2893.2682098679284, 1565.816147439341, 1969.6807592539672, 1627.4418110363104, 3713.4622726606317, 10605.898167664418, 2306.120764406044, 2984.7954700882115, 2158.908656419087, 2323.3300581967287, 2724.351905107576, 4329.247415310462, 6316.594307152875, 5180.685768766203, 3236.655945187904, 3141.521548686277, 5008.183778546717, 3285.2917554382216, 2841.0993854843, 2754.028161905495, 2487.7200270863796, 2386.658407354669, 1847.1267820809417, 1883.2094436563777, 1693.4146921613935, 1444.968808093857, 1259.4045377321506, 1079.5282925284591, 1023.3401302406663, 1017.899335381743, 997.8907911166355, 954.8083406851057, 915.5841865220564, 869.8960099672146, 858.3940545320747, 833.0271543123896, 823.6127005672693, 764.5029691840642, 762.4193561216081, 755.6298123957797, 750.102171521272, 750.7165746763012, 740.5893787057687, 738.8951468833353, 673.7227426798613, 673.2459969405792, 645.6656899117637, 625.2724739666827, 617.5186370190582, 607.3554928470501, 602.7772819956514, 596.2206238539022, 1422.3859059677827, 606.6834515901356, 5594.242867824388, 2581.7638817822713, 1136.2503201737443, 844.3771940307163, 6421.465251737913, 2551.1190769915993, 3438.8837626827135, 2851.5437272164395, 1884.6397672881699, 1883.6245762522653, 3109.4081264845518, 3491.4469463558344, 1674.2288950747718, 1897.3980950820958, 1389.1474730062187, 6144.779549406795, 2187.8794382131828, 2532.641701433097, 1577.8094240849894, 1261.520210368519, 3000.6931607948427, 3260.311071852245, 1361.005216087508, 1906.2368591199302, 1948.8911284497483, 3458.9321437768604, 2255.641452339067, 2192.3778025786114, 2542.338555953271, 2049.291862752963, 2977.7347036600827, 1959.2991697443094, 1868.9146759051496, 1579.1000549615324, 426.30731610553903, 413.3079064073594, 352.49323962920573, 339.3696695253104, 372.4110304557583, 316.999665980975, 275.39657184074264, 227.83905340422254, 208.64370864458073, 208.7077707646205, 215.4399857925847, 200.17283069087497, 196.5314676639096, 194.3161909099864, 179.23828654670547, 181.88234288704993, 170.3642747168805, 170.76998657549956, 165.7325789675135, 164.79237533834606, 161.9722413030981, 159.9550966608402, 154.48637618883185, 151.84844441962866, 146.28942005196058, 143.80004266160753, 141.21295526402002, 142.39396928161338, 139.49114608514168, 318.578344975396, 3899.975502175271, 2239.6195846533965, 1151.36978192587, 283.60001018794594, 355.229835110152, 544.9200524978231, 265.25398399812684, 261.002607724837, 738.0120146546694, 504.68170950942243, 306.03629619563026, 362.79989445056964, 419.6079889814892, 420.8070935814804, 512.1608986921284, 257.03501814939267, 797.5668675802052, 857.8772929026932, 355.7113664772062, 312.6320271674315, 287.0970658014511, 301.6599846317115, 311.74049227146946, 283.0654886141317, 803.7346628600392, 627.0532444195801, 603.6772933247138, 567.4859018712648, 401.9542194744943, 363.7917971011234, 345.2531109987126, 321.8624334727107, 242.33686929460384, 237.28019938520103, 232.3580840997974, 213.18777905512903, 204.0833573272188, 201.30262478781196, 145.23167521582283, 140.70518833892265, 132.24489566702354, 124.36235807228692, 115.81541894501159, 98.76502672819367, 98.23864609802416, 97.40418684787838, 96.31982993500309, 98.37511242706378, 91.03706414101147, 83.84847547594934, 78.20285861179848, 75.87522117472021, 76.81437778745085, 76.47675177033875, 2423.9762790249306, 77.28781364148703, 2373.376009550083, 2214.849024498909, 536.4935918488565, 480.8148254147485, 301.015563107589, 294.4630365234224, 546.318327229801, 248.75467319278974, 121.31486915262376, 292.1640536542028, 368.4627857705573, 912.0425430105792, 612.1552220008045, 263.4049512429748, 675.7634468341303, 312.01255181777293, 263.96115237100014, 320.82507089143354, 253.6276933718255, 260.51065081951805, 245.98900320848165, 2149.5043621949876, 1921.3100924245932, 944.4130831444087, 615.303202375858, 467.47728773162225, 472.62356793001317, 433.6166308732275, 427.48109512254007, 400.95957418036437, 366.56687774246353, 352.2957818720055, 343.6922491471994, 323.6427337764319, 292.52935231469445, 266.8901510276976, 260.67315250350583, 251.33239645407937, 252.81381718356695, 206.1433115735443, 200.91312570348353, 197.17690996719625, 190.9149739372334, 189.83653290110277, 165.20589394222694, 162.4531023239055, 154.69450700210794, 147.6169680479148, 142.3809310427317, 135.89181533376888, 133.82864992742296, 953.7907387766098, 266.4934952884628, 442.07555978726657, 1853.8635653498443, 773.0266765441398, 521.0825902098826, 467.7015615438528, 403.82517253171744, 605.74386604299, 271.51428144399455, 324.3603942149362, 252.5338295325286, 332.23832708219993, 335.9303342420075], \"Total\": [37408.0, 4148.0, 4221.0, 7576.0, 2713.0, 2639.0, 2517.0, 2150.0, 8449.0, 1922.0, 2396.0, 2464.0, 2374.0, 6375.0, 5765.0, 7200.0, 4737.0, 1580.0, 1371.0, 1479.0, 2174.0, 1394.0, 1485.0, 2007.0, 13584.0, 4371.0, 3968.0, 945.0, 2173.0, 3866.0, 8449.264549146514, 4371.31128790428, 3968.4744910492063, 3866.6979437990553, 3314.935228105888, 3288.234714032103, 3202.0104839630967, 3043.9119139609998, 2591.352247778159, 2551.5089414789404, 2501.0171988614657, 2292.658499921879, 2084.0968787319875, 1969.8668808263685, 1960.6244887533462, 1782.1057111654866, 1489.3831794894809, 1373.8813127126778, 1369.3961204184493, 1328.5865165162363, 1192.0605676576113, 1186.8746825763876, 1130.4099696189676, 1069.6457713017055, 1045.7477235053527, 1007.1318280676727, 959.4776921967336, 946.7941767992031, 934.0126181614834, 924.2877059687603, 37408.4747070242, 1708.600411961683, 7200.804741788499, 3110.104884980669, 2975.315815962295, 1604.2108659272537, 2058.051600107613, 1678.6249384186408, 4122.515355876679, 13584.34199432638, 2524.1402050452502, 3465.5906682894783, 2364.3238608762435, 2589.066609931589, 3230.7921972495164, 5911.291012932568, 9776.235196202537, 7723.734057049037, 4247.6730771786, 4416.021501207504, 11153.67380841198, 5155.737966396323, 4801.105991006274, 4947.116237065214, 5489.121853023363, 4017.075855573252, 1848.061404586115, 1884.1630140912125, 1694.3490056565236, 1445.9030665856635, 1260.339536007741, 1080.4689202395314, 1024.2783860138572, 1018.835851856639, 998.8227249107425, 955.744528986821, 916.5231424835602, 870.8381240048404, 859.3331066507305, 833.9611505980987, 824.5484862482539, 765.4429424306373, 763.3573638276303, 756.562149829027, 751.037004029171, 751.6565918948794, 741.5222386205432, 739.835952571559, 674.6586040488226, 674.1839489320661, 646.6100312029372, 626.2089435265566, 618.4603750991582, 608.2957695120427, 603.7124424498667, 597.1522967744128, 1426.0057219406328, 607.6381800899422, 5765.565044465359, 2678.685230760123, 1154.3781824274338, 859.6931835595028, 7576.03071199615, 2845.4262818729367, 4048.980296870804, 3416.803643544093, 2173.8839025351895, 2206.8653089482646, 4169.76060757409, 4884.79263600294, 2007.25888360241, 2350.7478782689645, 1610.8443002740528, 11153.67380841198, 3091.4927907184588, 3808.7187190980867, 1986.0930582809845, 1461.7009116884221, 5489.121853023363, 6375.689171171766, 1643.1443694542616, 2849.10285509824, 3284.5939034147045, 9776.235196202537, 4396.412809087296, 4947.116237065214, 7723.734057049037, 4737.231884502588, 13584.34199432638, 4801.105991006274, 5155.737966396323, 1580.0221540029088, 427.22700617475476, 414.27282388775654, 353.41844432820386, 340.30778775070274, 373.4954796442623, 317.93975745951224, 276.32701023402404, 228.75623056802092, 209.56662588530787, 209.6323780949778, 216.40753775430375, 201.09371131023926, 197.4506125960752, 195.24316649804936, 180.15562448642493, 182.81490197527793, 171.27763193240742, 171.69593265361206, 166.65552534173804, 165.7154272711381, 162.90566755505728, 160.88586292332266, 155.41997828451736, 152.77715229950692, 147.21812585064882, 144.7262798704119, 142.1452650297841, 143.3451735624926, 140.43393906465036, 321.49176372739265, 4221.560680433774, 2396.5564922675444, 1394.7449639801555, 305.25084555710566, 414.49719702232414, 719.1781434825643, 302.5421055394733, 297.6677070525587, 1173.7296337005732, 870.4995639597863, 463.92556021484387, 627.6716428747975, 810.5228427962287, 836.9292621722805, 1461.6390003812694, 357.6397601100863, 4737.231884502588, 6375.689171171766, 833.2997106320457, 696.4575341154338, 538.2097330709709, 818.2819210086943, 1890.2434891646285, 2206.8653089482646, 804.6637448310903, 627.9844346223143, 604.6204228862512, 568.4167313704344, 402.899297965052, 364.72767689540933, 346.2333437152653, 322.7916469681936, 243.27613597790008, 238.22600328910002, 233.31915897808383, 214.1350332401581, 205.02909725224816, 202.25041202668464, 146.16310631341943, 141.6343144987885, 133.18263170433534, 125.29149993572409, 116.7797018862004, 99.70900426389696, 99.17898752552703, 98.34511616546894, 97.28671533882824, 99.39539827476328, 92.00779749134942, 84.79344705513114, 79.1433143580041, 76.8159015842653, 77.76787811596624, 77.43895199917904, 2517.9879786449897, 78.2609450162438, 2639.521555440746, 2713.0414290693393, 646.863621071954, 577.517214767423, 352.53649381092305, 360.34051860751066, 769.7072043283449, 341.6937465582715, 131.60096559178638, 434.17688964076893, 599.9746123279335, 2464.926816351848, 1485.1604339585408, 710.0267101101915, 7576.03071199615, 1200.2557157693564, 878.118938368249, 4221.560680433774, 914.580264984942, 2173.8839025351895, 849.843767657962, 2150.5656323950693, 1922.3738607871753, 945.4765088965905, 616.3648686053812, 468.538712265228, 473.7015976824778, 434.67847077166726, 428.5331651348939, 402.02163048175345, 367.6286119050226, 353.35735890965043, 344.7516720926962, 324.71192011700373, 293.592366397854, 267.948955809689, 261.72990044083804, 252.40346778380982, 253.89206760906387, 207.20424621039066, 201.97515205867376, 198.26107929985662, 191.97734268628022, 190.90591745097095, 166.26296848270312, 163.51018269278288, 155.76851683528648, 148.6851777513319, 143.4627357097436, 136.96056281360143, 134.90152899762708, 1371.0332087662591, 316.6138857342159, 596.8322477257442, 4148.764478614766, 1479.0072781761019, 972.6019851918744, 874.252932019533, 707.3185164324356, 2374.6968111287706, 539.1061462731625, 1218.0413855991646, 507.3454583604573, 2007.25888360241, 2174.7456414945386], \"Category\": [\"Default\", \"Default\", \"Default\", \"Default\", \"Default\", \"Default\", \"Default\", \"Default\", \"Default\", \"Default\", \"Default\", \"Default\", \"Default\", \"Default\", \"Default\", \"Default\", \"Default\", \"Default\", \"Default\", \"Default\", \"Default\", \"Default\", \"Default\", \"Default\", \"Default\", \"Default\", \"Default\", \"Default\", \"Default\", \"Default\", \"Topic1\", \"Topic1\", \"Topic1\", \"Topic1\", \"Topic1\", \"Topic1\", \"Topic1\", \"Topic1\", \"Topic1\", \"Topic1\", \"Topic1\", \"Topic1\", \"Topic1\", \"Topic1\", \"Topic1\", \"Topic1\", \"Topic1\", \"Topic1\", \"Topic1\", \"Topic1\", \"Topic1\", \"Topic1\", \"Topic1\", \"Topic1\", \"Topic1\", \"Topic1\", \"Topic1\", \"Topic1\", \"Topic1\", \"Topic1\", \"Topic1\", \"Topic1\", \"Topic1\", \"Topic1\", \"Topic1\", \"Topic1\", \"Topic1\", \"Topic1\", \"Topic1\", \"Topic1\", \"Topic1\", \"Topic1\", \"Topic1\", \"Topic1\", \"Topic1\", \"Topic1\", \"Topic1\", \"Topic1\", \"Topic1\", \"Topic1\", \"Topic1\", \"Topic1\", \"Topic1\", \"Topic1\", \"Topic1\", \"Topic1\", \"Topic2\", \"Topic2\", \"Topic2\", \"Topic2\", \"Topic2\", \"Topic2\", \"Topic2\", \"Topic2\", \"Topic2\", \"Topic2\", \"Topic2\", \"Topic2\", \"Topic2\", \"Topic2\", \"Topic2\", \"Topic2\", \"Topic2\", \"Topic2\", \"Topic2\", \"Topic2\", \"Topic2\", \"Topic2\", \"Topic2\", \"Topic2\", \"Topic2\", \"Topic2\", \"Topic2\", \"Topic2\", \"Topic2\", \"Topic2\", \"Topic2\", \"Topic2\", \"Topic2\", \"Topic2\", \"Topic2\", \"Topic2\", \"Topic2\", \"Topic2\", \"Topic2\", \"Topic2\", \"Topic2\", \"Topic2\", \"Topic2\", \"Topic2\", \"Topic2\", \"Topic2\", \"Topic2\", \"Topic2\", \"Topic2\", \"Topic2\", \"Topic2\", \"Topic2\", \"Topic2\", \"Topic2\", \"Topic2\", \"Topic2\", \"Topic2\", \"Topic2\", \"Topic2\", \"Topic2\", \"Topic2\", \"Topic2\", \"Topic2\", \"Topic2\", \"Topic2\", \"Topic3\", \"Topic3\", \"Topic3\", \"Topic3\", \"Topic3\", \"Topic3\", \"Topic3\", \"Topic3\", \"Topic3\", \"Topic3\", \"Topic3\", \"Topic3\", \"Topic3\", \"Topic3\", \"Topic3\", \"Topic3\", \"Topic3\", \"Topic3\", \"Topic3\", \"Topic3\", \"Topic3\", \"Topic3\", \"Topic3\", \"Topic3\", \"Topic3\", \"Topic3\", \"Topic3\", \"Topic3\", \"Topic3\", \"Topic3\", \"Topic3\", \"Topic3\", \"Topic3\", \"Topic3\", \"Topic3\", \"Topic3\", \"Topic3\", \"Topic3\", \"Topic3\", \"Topic3\", \"Topic3\", \"Topic3\", \"Topic3\", \"Topic3\", \"Topic3\", \"Topic3\", \"Topic3\", \"Topic3\", \"Topic3\", \"Topic3\", \"Topic3\", \"Topic3\", \"Topic3\", \"Topic3\", \"Topic3\", \"Topic4\", \"Topic4\", \"Topic4\", \"Topic4\", \"Topic4\", \"Topic4\", \"Topic4\", \"Topic4\", \"Topic4\", \"Topic4\", \"Topic4\", \"Topic4\", \"Topic4\", \"Topic4\", \"Topic4\", \"Topic4\", \"Topic4\", \"Topic4\", \"Topic4\", \"Topic4\", \"Topic4\", \"Topic4\", \"Topic4\", \"Topic4\", \"Topic4\", \"Topic4\", \"Topic4\", \"Topic4\", \"Topic4\", \"Topic4\", \"Topic4\", \"Topic4\", \"Topic4\", \"Topic4\", \"Topic4\", \"Topic4\", \"Topic4\", \"Topic4\", \"Topic4\", \"Topic4\", \"Topic4\", \"Topic4\", \"Topic4\", \"Topic4\", \"Topic4\", \"Topic4\", \"Topic4\", \"Topic4\", \"Topic4\", \"Topic4\", \"Topic4\", \"Topic4\", \"Topic4\", \"Topic5\", \"Topic5\", \"Topic5\", \"Topic5\", \"Topic5\", \"Topic5\", \"Topic5\", \"Topic5\", \"Topic5\", \"Topic5\", \"Topic5\", \"Topic5\", \"Topic5\", \"Topic5\", \"Topic5\", \"Topic5\", \"Topic5\", \"Topic5\", \"Topic5\", \"Topic5\", \"Topic5\", \"Topic5\", \"Topic5\", \"Topic5\", \"Topic5\", \"Topic5\", \"Topic5\", \"Topic5\", \"Topic5\", \"Topic5\", \"Topic5\", \"Topic5\", \"Topic5\", \"Topic5\", \"Topic5\", \"Topic5\", \"Topic5\", \"Topic5\", \"Topic5\", \"Topic5\", \"Topic5\", \"Topic5\", \"Topic5\", \"Topic5\"], \"logprob\": [30.0, 29.0, 28.0, 27.0, 26.0, 25.0, 24.0, 23.0, 22.0, 21.0, 20.0, 19.0, 18.0, 17.0, 16.0, 15.0, 14.0, 13.0, 12.0, 11.0, 10.0, 9.0, 8.0, 7.0, 6.0, 5.0, 4.0, 3.0, 2.0, 1.0, -3.9886999130249023, -4.647900104522705, -4.74459981918335, -4.770500183105469, -4.924600124359131, -4.932600021362305, -4.959199905395508, -5.009900093078613, -5.170899868011475, -5.186399936676025, -5.206399917602539, -5.293399810791016, -5.388800144195557, -5.445199966430664, -5.449900150299072, -5.545499801635742, -5.724999904632568, -5.805799961090088, -5.809000015258789, -5.839300155639648, -5.947800159454346, -5.952199935913086, -6.000999927520752, -6.056300163269043, -6.07889986038208, -6.116600036621094, -6.16510009765625, -6.178400039672852, -6.191999912261963, -6.202499866485596, -2.5048999786376953, -5.59250020980835, -4.172900199890137, -5.007500171661377, -5.060299873352051, -5.674300193786621, -5.444799900054932, -5.635700225830078, -4.810699939727783, -3.7613000869750977, -5.287099838256836, -5.029200077056885, -5.353099822998047, -5.279699802398682, -5.120500087738037, -4.657299995422363, -4.2795000076293945, -4.477799892425537, -4.948200225830078, -4.978000164031982, -4.511600017547607, -4.933199882507324, -5.078499794006348, -5.109600067138672, -5.211299896240234, -5.252799987792969, -5.302999973297119, -5.283599853515625, -5.389800071716309, -5.548500061035156, -5.685999870300293, -5.840099811553955, -5.893499851226807, -5.898900032043457, -5.918700218200684, -5.962800025939941, -6.004799842834473, -6.056000232696533, -6.069300174713135, -6.099299907684326, -6.110599994659424, -6.185100078582764, -6.187900066375732, -6.196800231933594, -6.204100131988525, -6.2032999992370605, -6.216899871826172, -6.219200134277344, -6.311500072479248, -6.31220006942749, -6.354100227355957, -6.386199951171875, -6.398600101470947, -6.415200233459473, -6.422800064086914, -6.433700084686279, -5.564300060272217, -6.416299819946289, -4.194900035858154, -4.968100070953369, -5.788899898529053, -6.085700035095215, -4.0569000244140625, -4.980100154876709, -4.681399822235107, -4.86870002746582, -5.282899856567383, -5.283400058746338, -4.782199859619141, -4.666299819946289, -5.401199817657471, -5.276100158691406, -5.587900161743164, -4.10099983215332, -5.133699893951416, -4.987299919128418, -5.460599899291992, -5.684299945831299, -4.817699909210205, -4.734799861907959, -5.608399868011475, -5.271500110626221, -5.249300003051758, -4.675600051879883, -5.1031999588012695, -5.1315999031066895, -4.983500003814697, -5.199100017547607, -4.825399875640869, -5.24399995803833, -5.291200160980225, -3.7021000385284424, -5.011499881744385, -5.042500019073486, -5.201600074768066, -5.23960018157959, -5.146699905395508, -5.307799816131592, -5.448500156402588, -5.638000011444092, -5.72599983215332, -5.7256999015808105, -5.693999767303467, -5.767499923706055, -5.785799980163574, -5.7972002029418945, -5.877999782562256, -5.86329984664917, -5.928699970245361, -5.926400184631348, -5.956299781799316, -5.961999893188477, -5.9791998863220215, -5.991799831390381, -6.026599884033203, -6.043799877166748, -6.081099987030029, -6.098199844360352, -6.116399765014648, -6.108099937438965, -6.128699779510498, -5.302800178527832, -2.7978999614715576, -3.35260009765625, -4.01800012588501, -5.419099807739258, -5.193900108337402, -4.765999794006348, -5.486000061035156, -5.502099990844727, -4.462699890136719, -4.842700004577637, -5.3429999351501465, -5.172800064086914, -5.027299880981445, -5.024499893188477, -4.828000068664551, -5.517499923706055, -4.3850998878479, -4.31220006942749, -5.192599773406982, -5.321599960327148, -5.406799793243408, -5.357399940490723, -5.32450008392334, -5.421000003814697, -4.027699947357178, -4.275899887084961, -4.313899993896484, -4.375699996948242, -4.720600128173828, -4.820400238037109, -4.872700214385986, -4.942800045013428, -5.226600170135498, -5.247700214385986, -5.268700122833252, -5.354800224304199, -5.398399829864502, -5.412099838256836, -5.73859977722168, -5.770299911499023, -5.832300186157227, -5.893700122833252, -5.964900016784668, -6.124199867248535, -6.129499912261963, -6.1381001472473145, -6.1493000984191895, -6.128200054168701, -6.205699920654297, -6.287899971008301, -6.357600212097168, -6.387899875640869, -6.3755998611450195, -6.380000114440918, -2.923799991607666, -6.3694000244140625, -2.9449000358581543, -3.0139999389648438, -4.4319000244140625, -4.541500091552734, -5.009799957275391, -5.031799793243408, -4.413700103759766, -5.200500011444092, -5.918600082397461, -5.039599895477295, -4.807600021362305, -3.9012999534606934, -4.300000190734863, -5.1433000564575195, -4.201099872589111, -4.973899841308594, -5.14109992980957, -4.946000099182129, -5.181099891662598, -5.154300212860107, -5.211699962615967, -2.9797000885009766, -3.091900110244751, -3.8020999431610107, -4.230599880218506, -4.50540018081665, -4.4944000244140625, -4.580599784851074, -4.594799995422363, -4.65880012512207, -4.748499870300293, -4.7881999015808105, -4.813000202178955, -4.8730998039245605, -4.974100112915039, -5.065899848937988, -5.089399814605713, -5.125899791717529, -5.120100021362305, -5.324100017547607, -5.349800109863281, -5.368599891662598, -5.400899887084961, -5.406499862670898, -5.545499801635742, -5.562300205230713, -5.611299991607666, -5.658100128173828, -5.694200038909912, -5.740900039672852, -5.756199836730957, -3.79229998588562, -5.067399978637695, -4.561200141906738, -3.127700090408325, -4.002399921417236, -4.3968000411987305, -4.504899978637695, -4.651700019836426, -4.246300220489502, -5.048699855804443, -4.8709001541137695, -5.121200084686279, -4.84689998626709, -4.8358001708984375], \"loglift\": [30.0, 29.0, 28.0, 27.0, 26.0, 25.0, 24.0, 23.0, 22.0, 21.0, 20.0, 19.0, 18.0, 17.0, 16.0, 15.0, 14.0, 13.0, 12.0, 11.0, 10.0, 9.0, 8.0, 7.0, 6.0, 5.0, 4.0, 3.0, 2.0, 1.0, 0.7634, 0.7633, 0.7632, 0.7632, 0.7632, 0.7632, 0.7632, 0.7632, 0.7631, 0.7631, 0.7631, 0.7631, 0.763, 0.763, 0.763, 0.7629, 0.7628, 0.7628, 0.7628, 0.7627, 0.7627, 0.7627, 0.7626, 0.7626, 0.7626, 0.7625, 0.7625, 0.7625, 0.7624, 0.7624, 0.7594, 0.758, 0.7391, 0.744, 0.7355, 0.7393, 0.7196, 0.7325, 0.659, 0.516, 0.6732, 0.6141, 0.6726, 0.6552, 0.593, 0.452, 0.3267, 0.3641, 0.4917, 0.423, -0.0372, 0.3128, 0.2388, 0.1777, -0.0279, 0.2428, 0.9691, 0.9691, 0.969, 0.9689, 0.9688, 0.9687, 0.9687, 0.9687, 0.9687, 0.9686, 0.9686, 0.9685, 0.9685, 0.9685, 0.9685, 0.9684, 0.9684, 0.9684, 0.9683, 0.9683, 0.9683, 0.9683, 0.9682, 0.9682, 0.9681, 0.9681, 0.9681, 0.968, 0.968, 0.968, 0.967, 0.968, 0.9394, 0.9327, 0.9538, 0.9516, 0.8042, 0.8604, 0.8063, 0.7887, 0.8268, 0.8112, 0.6762, 0.6338, 0.7882, 0.7553, 0.8215, 0.3734, 0.6239, 0.5616, 0.7395, 0.8223, 0.3657, 0.2989, 0.7812, 0.5677, 0.4476, -0.0694, 0.3022, 0.1558, -0.1416, 0.1316, -0.5482, 0.0733, -0.0452, 2.7267, 2.7251, 2.7249, 2.7246, 2.7245, 2.7244, 2.7243, 2.7239, 2.7233, 2.7229, 2.7228, 2.7228, 2.7227, 2.7226, 2.7225, 2.7222, 2.7222, 2.7219, 2.7219, 2.7217, 2.7217, 2.7215, 2.7215, 2.7212, 2.7212, 2.7209, 2.7208, 2.7207, 2.7206, 2.7205, 2.7182, 2.648, 2.6595, 2.5355, 2.6537, 2.573, 2.4498, 2.5957, 2.5958, 2.2633, 2.1821, 2.3112, 2.1791, 2.0689, 2.0397, 1.6786, 2.397, 0.9456, 0.7215, 1.876, 1.9263, 2.0988, 1.7294, 0.925, 0.6736, 3.0758, 3.0755, 3.0754, 3.0754, 3.0746, 3.0744, 3.0742, 3.0741, 3.0731, 3.073, 3.0729, 3.0726, 3.0724, 3.0723, 3.0706, 3.0704, 3.0699, 3.0696, 3.0687, 3.0675, 3.0675, 3.0674, 3.067, 3.0667, 3.0664, 3.0658, 3.065, 3.0647, 3.0647, 3.0645, 3.0389, 3.0645, 2.9707, 2.8741, 2.8899, 2.8937, 2.919, 2.8751, 2.7342, 2.7595, 2.9956, 2.6809, 2.5894, 2.0828, 2.1907, 2.0854, 0.6601, 1.7297, 1.875, 0.4999, 1.7944, 0.9554, 1.8372, 3.1407, 3.1407, 3.1401, 3.1395, 3.139, 3.139, 3.1388, 3.1388, 3.1386, 3.1383, 3.1382, 3.1382, 3.1379, 3.1376, 3.1373, 3.1372, 3.137, 3.137, 3.1361, 3.136, 3.1357, 3.1357, 3.1356, 3.1349, 3.1347, 3.1343, 3.134, 3.1337, 3.1334, 3.1332, 2.7784, 2.9689, 2.8411, 2.3357, 2.4924, 2.5172, 2.5157, 2.5807, 1.7751, 2.4553, 1.8181, 2.4436, 1.3426, 1.2735]}, \"token.table\": {\"Topic\": [1, 2, 5, 5, 1, 2, 5, 5, 5, 1, 2, 5, 1, 5, 5, 1, 1, 3, 4, 1, 2, 2, 4, 1, 2, 1, 2, 4, 1, 2, 3, 1, 2, 4, 4, 1, 2, 2, 4, 2, 3, 5, 3, 1, 1, 1, 2, 1, 2, 1, 2, 4, 5, 1, 2, 3, 4, 2, 3, 4, 1, 2, 3, 1, 2, 3, 4, 5, 4, 5, 1, 2, 4, 1, 2, 3, 1, 3, 1, 1, 1, 2, 3, 3, 1, 2, 3, 2, 4, 5, 4, 1, 2, 4, 1, 2, 4, 1, 4, 5, 1, 2, 5, 3, 3, 2, 2, 3, 1, 2, 2, 2, 3, 3, 1, 4, 1, 2, 3, 1, 2, 3, 5, 3, 2, 1, 1, 2, 1, 1, 4, 4, 4, 2, 2, 5, 5, 5, 2, 4, 1, 2, 1, 2, 3, 4, 3, 1, 2, 1, 1, 2, 1, 2, 5, 1, 5, 1, 3, 1, 2, 3, 4, 2, 1, 2, 3, 2, 2, 2, 5, 1, 2, 5, 1, 2, 1, 1, 2, 1, 2, 1, 3, 4, 5, 1, 2, 3, 3, 4, 1, 2, 2, 1, 3, 4, 1, 5, 3, 2, 1, 2, 3, 4, 1, 2, 2, 3, 5, 1, 2, 1, 2, 3, 1, 2, 2, 2, 1, 2, 3, 5, 2, 2, 1, 1, 2, 4, 2, 1, 1, 2, 3, 5, 3, 3, 3, 4, 3, 4, 1, 2, 1, 2, 3, 4, 1, 2, 4, 4, 1, 2, 1, 2, 2, 4, 4, 2, 4, 1, 2, 1, 2, 2, 3, 4, 1, 2, 3, 1, 1, 5, 4, 4, 1, 5, 2, 3, 2, 2, 1, 2, 1, 2, 1, 2, 4, 1, 2, 4, 4, 4, 3, 2, 2, 4, 5, 4, 4, 2, 5, 3, 1, 2, 5, 1, 1, 5, 1, 4, 3, 5, 5, 1, 1, 5, 3, 3, 5, 1, 2, 5, 3, 2, 4, 1, 2, 1, 2, 3, 5, 1, 3, 1, 4, 3, 1, 2, 2, 4, 2, 2, 4, 5, 4, 5, 2, 1, 2, 1, 2, 3, 1, 2, 2, 4, 2, 3, 1, 2, 1, 2, 5, 1, 2, 4, 3, 5, 3, 3, 1, 2, 5, 2, 4, 1, 2, 4, 2, 4, 1, 2, 1, 2, 2, 3, 1, 2, 3, 4, 1, 3, 1, 2, 3, 4, 1, 1, 2, 1], \"Freq\": [0.9572160386537398, 0.04275888903630919, 0.9964222952629318, 0.996158679378183, 0.2768077648203908, 0.1875887331840665, 0.5353141898179459, 0.9984391433731171, 0.9941881200196646, 0.40808290078096615, 0.08718134698502458, 0.5045388591473764, 0.4637045850888603, 0.5356764719097478, 0.9982900898225381, 0.9992630371266418, 0.034551396089991464, 0.002779997386551037, 0.9626733807142449, 0.2920918990046048, 0.707748698806285, 0.7398423422052172, 0.259944606720752, 0.17101357934441797, 0.8282899697073056, 0.012880172656573942, 0.86711162348721, 0.1200616094059214, 0.0024125615497133063, 0.13992856988337177, 0.8564593501482237, 0.11957377914558434, 0.5785093314853033, 0.3006426447088978, 0.9890466078003424, 0.7620642976012854, 0.23777724454040725, 0.17005130048542974, 0.8286136096380939, 0.1209402267933738, 0.87681664425196, 0.9929865736977971, 0.9908636051800375, 0.99985033618735, 0.9996814847733829, 0.9993795479367139, 0.9991264735758864, 0.5942133247716245, 0.4057677919471085, 0.99911030723909, 0.10039698272354151, 0.8990265660489208, 0.9979823508181705, 0.9997127788888308, 0.9702431516872656, 0.029658845001523493, 0.9975474985935072, 0.6492711262852543, 0.35029169300110663, 0.9920424083562827, 0.018125256597133686, 0.8536995857249966, 0.12823619042472081, 0.25004011407838883, 0.08837624721736156, 0.6595885767929912, 0.9867739872361103, 0.9944395859687161, 0.9975075832707833, 0.9972112454877771, 0.9996844220316712, 0.07598728440199326, 0.9194461412641184, 0.1627537692283288, 0.011471631311247845, 0.8252404774528919, 0.5499258479362218, 0.4494172073212465, 0.9993962755530557, 0.998876186775028, 0.08620951646245785, 0.15573332006121418, 0.7578094592264439, 0.9971279760946271, 0.9986068126185768, 0.8633777196883964, 0.136826896939524, 0.9988474875629286, 0.9977679336509292, 0.9974587673789364, 0.9863224914676421, 0.4867604779006792, 0.5131456253009029, 0.9964378251325223, 0.15781401598597133, 0.4718192817266958, 0.36999070071775286, 0.38172335903465765, 0.04665507721534705, 0.5711712483333397, 0.01971043563160317, 0.4809346294111173, 0.4986740214795602, 0.9897892270614853, 0.9945611859112197, 0.9993827423197915, 0.06879587822819434, 0.9303823531812949, 0.670789538030712, 0.329115422828425, 0.9989497366840119, 0.12229702683540203, 0.875911138145447, 0.995995989976407, 0.6281453833346407, 0.3704086004865706, 0.3540009463141996, 0.511317272921706, 0.13457368716773738, 0.06874643419932543, 0.39761451131501735, 0.5332493679785513, 0.9933171328425571, 0.9934958931241028, 0.9987519154642789, 0.9991611938279047, 0.4064429391445066, 0.5933762459869987, 0.9997000241305376, 0.3247524300905586, 0.6725369474215824, 0.9947543725455422, 0.9946994509820113, 0.9984486729995469, 0.9992556110016193, 0.9997369843605102, 0.9950662890621272, 0.9949090727447074, 0.1446658740168698, 0.8538123152760356, 0.9959507916799463, 0.004036518494341249, 0.7094324131716172, 0.12590970494768447, 0.16505810060368722, 0.9906425899325068, 0.997296201707146, 0.6461587587882259, 0.35381718325921696, 0.9993585234004402, 0.2851707541755231, 0.7146669797751266, 0.9006637160749659, 0.0989687035169906, 0.9978196709297059, 0.8451563092853844, 0.15450082694226833, 0.9995599292344035, 0.9917257073909187, 0.25847227191763894, 0.08271112701364446, 0.5801266547484785, 0.07811606440177532, 0.9993754307556758, 0.32501069996672155, 0.0955913823431534, 0.578327863176078, 0.9982218500902066, 0.9992957208923163, 0.9988700838764953, 0.9985189037024357, 0.25084393124658166, 0.2265032802361317, 0.5226478675299397, 0.017448085301657843, 0.981745599639948, 0.9989158410263487, 0.98067432218414, 0.018970421314381723, 0.8613250339438717, 0.13850452807137636, 0.2376693239415994, 0.7186001912116594, 0.04194164540145872, 0.9951719206608619, 0.0372015009779458, 0.5352215947149621, 0.427217237037055, 0.9906158433586454, 0.9949807258284805, 0.9996245055053905, 0.998070346910433, 0.9991796010563273, 0.27774709834340344, 0.6287649036117537, 0.092866361102549, 0.999071307163577, 0.9953917548359943, 0.997044227915938, 0.9995660030281783, 0.44900004124408055, 0.550939547413114, 0.996694164062141, 0.9911202257441438, 0.5566879507229368, 0.4430864153902242, 0.9980694246879511, 0.9960665850088448, 0.999285331113162, 0.014726543050434557, 0.9840795826643327, 0.4532601145718108, 0.5467176864268506, 0.9969833949281857, 0.9135784119244915, 0.08596986790442959, 0.9990565701527978, 0.9994292097391643, 0.289152274795459, 0.20670803115543143, 0.5030293706152407, 0.9977856158342227, 0.9990237965618906, 0.9990375662459677, 0.9989804846109666, 0.7001286855815017, 0.009413494932188257, 0.2894649691647889, 0.9994256659527215, 0.9992849867242872, 0.6371541807226673, 0.36250872565317055, 0.0001939586547100966, 0.989804072099231, 0.9959467143871366, 0.9951976817868793, 0.9925405791871783, 0.9859611380508189, 0.9922493699418516, 0.006220999184588412, 0.8972345443292324, 0.10235348869877169, 0.016039029763986915, 0.39480688649813944, 0.518184038528808, 0.07155874817778778, 0.06309372521987248, 0.8475414427548144, 0.08922878294693264, 0.9838879403260199, 0.7807518394655913, 0.21922298490746095, 0.19270462995528834, 0.8069772252211522, 0.1835578309509376, 0.8164268987074836, 0.9989738638280039, 0.3850162911122317, 0.6133592862740315, 0.15040823993899324, 0.8493496504929355, 0.2542112365094968, 0.7456063531207788, 0.00041726535686785845, 0.934674399384003, 0.06467613031451806, 0.9995585409689584, 0.963905714023485, 0.035838477361059086, 0.9994781690604516, 0.303420805083447, 0.6958255962730971, 0.9948536126528044, 0.9943461180647932, 0.7445160964188992, 0.25519047196258643, 0.9988198976867603, 0.9961570443058424, 0.9986192371033548, 0.9993348041292883, 0.9758631502976527, 0.024025092500568366, 0.9761808957046508, 0.02368765902731592, 0.1371951342301682, 0.8622807305235457, 0.998432390091155, 0.0277048018498349, 0.13852400924917452, 0.8328756056106618, 0.9814182402779121, 0.9881125271093982, 0.9949131641229745, 0.9992038206697558, 0.2692469526488995, 0.7287227305388693, 0.996486429775201, 0.9955214631353059, 0.9893784806604101, 0.25802895300450646, 0.7405766053765704, 0.99194299557186, 0.5917386546603919, 0.4080309836253811, 0.9936392997339164, 0.9998194987534067, 0.9943811251042246, 0.004682194820973394, 0.9995932859390456, 0.99332330984232, 0.995682796207214, 0.9964584455766158, 0.9907639838209934, 0.9998005331391685, 0.15476263741993126, 0.8401400317081983, 0.9993530761576227, 0.9935854098936999, 0.9978075331612489, 0.5095492913364523, 0.043386410804428295, 0.44688003128561143, 0.994440539923197, 0.18038493215024526, 0.8158949238795709, 0.33475824654804726, 0.6650530498087872, 0.16666100380500834, 0.39243329959997036, 0.17487090547027967, 0.26600081395479164, 0.9997178743952646, 0.9977178465533707, 0.9987526918048654, 0.9938175056646131, 0.9959865016923491, 0.969245697929834, 0.02978628450921432, 0.9991763053740932, 0.9928892654266163, 0.9978698363904747, 0.9982438784934861, 0.9991751277035233, 0.998438344175982, 0.9855538731568363, 0.9924037896458314, 0.9992569680770389, 0.9723337551191447, 0.02722400074823737, 0.39896717029684753, 0.43253107509959815, 0.16845280523644673, 0.20542844067595437, 0.7945247043790589, 0.9989371625903413, 0.9980048761267493, 0.9994213253449946, 0.9949817001372369, 0.002103778374687963, 0.9971909496020945, 0.1653592242760405, 0.8346982436022433, 0.9952546392324187, 0.7323273360301712, 0.267454266173181, 0.9896920386747174, 0.9955424751129526, 0.9967159335505302, 0.993632727227553, 0.9944938423598794, 0.9994736911018, 0.8339731430136639, 0.16539969144595962, 0.2897205570455746, 0.7093606463985818, 0.9996284489033426, 0.5871419545400726, 0.41207669286528026, 0.7216425121647103, 0.2777230274088431, 0.33063039416578693, 0.6689825172823671, 0.10332371000892043, 0.8965264769821634, 0.9992209958160992, 0.9969275708799538, 0.711500158941903, 0.286230490420931, 0.002264481728013695, 0.9901260245930692, 0.6305895153640055, 0.36906595666653036, 0.9131574720900764, 0.08670554968896046, 0.9238289569248279, 0.07603822953150506, 0.9995021330869716, 0.8431368635590473, 0.15661793427345003, 0.9997004138139421], \"Term\": [\"10\", \"10\", \"1080p\", \"1440p\", \"30\", \"30\", \"30\", \"40\", \"45\", \"50\", \"50\", \"50\", \"60\", \"60\", \"60fps\", \"8\", \"ai\", \"ai\", \"ai\", \"also\", \"also\", \"animation\", \"animation\", \"anything\", \"anything\", \"around\", \"around\", \"around\", \"aspect\", \"aspect\", \"aspect\", \"away\", \"away\", \"away\", \"b\", \"bad\", \"bad\", \"behind\", \"behind\", \"bland\", \"bland\", \"blurry\", \"braindead\", \"bug\", \"buggy\", \"buy\", \"call\", \"can't\", \"can't\", \"cant\", \"car\", \"car\", \"card\", \"cdpr\", \"character\", \"character\", \"chase\", \"choice\", \"choice\", \"civilian\", \"combat\", \"combat\", \"combat\", \"compare\", \"compare\", \"compare\", \"consumer\", \"controller\", \"cop\", \"cpu\", \"crash\", \"crime\", \"crime\", \"cyberpunk\", \"cyberpunk\", \"cyberpunk\", \"cyberpunk_2077\", \"cyberpunk_2077\", \"day\", \"delay\", \"design\", \"design\", \"design\", \"deus_ex\", \"development\", \"dialogue\", \"dialogue\", \"different\", \"disappear\", \"dl\", \"dodge\", \"don't\", \"don't\", \"download\", \"drive\", \"drive\", \"drive\", \"driver\", \"driver\", \"driver\", \"drop\", \"drop\", \"drop\", \"edgy\", \"element\", \"enemy\", \"engage\", \"engage\", \"even\", \"even\", \"example\", \"fallout\", \"fallout\", \"fallout_4\", \"feature\", \"feature\", \"feel\", \"feel\", \"feel\", \"felt\", \"felt\", \"felt\", \"file\", \"final\", \"find\", \"finish\", \"first\", \"first\", \"fix\", \"float\", \"float\", \"fly\", \"foot\", \"force\", \"found\", \"fps\", \"frame_rate\", \"framerate\", \"front\", \"front\", \"game\", \"game\", \"gameplay\", \"gameplay\", \"gameplay\", \"garage\", \"genre\", \"get\", \"get\", \"glitch\", \"go\", \"go\", \"good\", \"good\", \"gpu\", \"graphic\", \"graphic\", \"great\", \"grind\", \"gta\", \"gta\", \"gta\", \"gta\", \"gun\", \"gunplay\", \"gunplay\", \"gunplay\", \"guy\", \"hack\", \"hand\", \"hardware\", \"high\", \"high\", \"high\", \"hit\", \"hit\", \"hope\", \"hour\", \"hour\", \"i'm\", \"i'm\", \"immersive\", \"immersive\", \"immersive\", \"instal\", \"interest\", \"interest\", \"interest\", \"interface\", \"invisible\", \"issue\", \"item\", \"kill\", \"lack\", \"lack\", \"lack\", \"launch\", \"launcher\", \"lead\", \"level\", \"like\", \"like\", \"linear\", \"lip\", \"look\", \"look\", \"loot\", \"looter_shooter\", \"low\", \"main\", \"main\", \"make\", \"make\", \"male\", \"many\", \"many\", \"map\", \"matter\", \"mechanic\", \"mechanic\", \"mechanic\", \"medium\", \"melee\", \"menu\", \"mess\", \"miss\", \"miss\", \"miss\", \"mission\", \"month\", \"more\", \"more\", \"more\", \"mouse\", \"movie\", \"music\", \"narrative\", \"natural\", \"nearly\", \"nearly\", \"need\", \"need\", \"night_city\", \"night_city\", \"night_city\", \"night_city\", \"no\", \"no\", \"no\", \"nonexistent\", \"not\", \"not\", \"nothing\", \"nothing\", \"npc\", \"npc\", \"npc's\", \"object\", \"object\", \"one\", \"one\", \"only\", \"only\", \"open\", \"open\", \"open\", \"optimization\", \"option\", \"option\", \"patch\", \"pc\", \"pc\", \"pedestrian\", \"penis\", \"performance\", \"performance\", \"person\", \"physic\", \"pick\", \"place\", \"play\", \"play\", \"played\", \"played\", \"point\", \"point\", \"police\", \"pose\", \"pose\", \"pose\", \"presets\", \"proceed\", \"progression\", \"quest\", \"randomly\", \"randomly\", \"ray_trace\", \"react\", \"reaction\", \"ready\", \"ready\", \"reality\", \"really\", \"really\", \"rebind\", \"recommend\", \"refund\", \"refund\", \"release\", \"reminds\", \"repetitive\", \"requirement\", \"resolution\", \"review\", \"rig\", \"rig\", \"rpg\", \"rpg_element\", \"rtx\", \"run\", \"run\", \"run\", \"score\", \"script\", \"script\", \"see\", \"see\", \"set\", \"set\", \"set\", \"set\", \"setting\", \"shallow\", \"shit\", \"shitty\", \"shooter\", \"should\", \"should\", \"side\", \"sky\", \"small\", \"someone\", \"spawn\", \"spec\", \"specific\", \"stable\", \"stealth\", \"still\", \"still\", \"story\", \"story\", \"story\", \"take\", \"take\", \"talk\", \"teleport\", \"tell\", \"theme\", \"there's\", \"there's\", \"thing\", \"thing\", \"till\", \"time\", \"time\", \"traffic\", \"ultimately\", \"ultra\", \"underwhelming\", \"unlike\", \"update\", \"use\", \"use\", \"vehicle\", \"vehicle\", \"wait\", \"walk\", \"walk\", \"wall\", \"wall\", \"want\", \"want\", \"way\", \"way\", \"weapon\", \"week\", \"well\", \"well\", \"well\", \"whatsoever\", \"witcher_3\", \"witcher_3\", \"work\", \"work\", \"world\", \"world\", \"worth\", \"would\", \"would\", \"year\"]}, \"R\": 30, \"lambda.step\": 0.01, \"plot.opts\": {\"xlab\": \"PC1\", \"ylab\": \"PC2\"}, \"topic.order\": [5, 2, 1, 3, 4]};\n",
       "\n",
       "function LDAvis_load_lib(url, callback){\n",
       "  var s = document.createElement('script');\n",
       "  s.src = url;\n",
       "  s.async = true;\n",
       "  s.onreadystatechange = s.onload = callback;\n",
       "  s.onerror = function(){console.warn(\"failed to load library \" + url);};\n",
       "  document.getElementsByTagName(\"head\")[0].appendChild(s);\n",
       "}\n",
       "\n",
       "if(typeof(LDAvis) !== \"undefined\"){\n",
       "   // already loaded: just create the visualization\n",
       "   !function(LDAvis){\n",
       "       new LDAvis(\"#\" + \"ldavis_el204018593981092165882893711\", ldavis_el204018593981092165882893711_data);\n",
       "   }(LDAvis);\n",
       "}else if(typeof define === \"function\" && define.amd){\n",
       "   // require.js is available: use it to load d3/LDAvis\n",
       "   require.config({paths: {d3: \"https://cdnjs.cloudflare.com/ajax/libs/d3/3.5.5/d3.min\"}});\n",
       "   require([\"d3\"], function(d3){\n",
       "      window.d3 = d3;\n",
       "      LDAvis_load_lib(\"https://cdn.rawgit.com/bmabey/pyLDAvis/files/ldavis.v1.0.0.js\", function(){\n",
       "        new LDAvis(\"#\" + \"ldavis_el204018593981092165882893711\", ldavis_el204018593981092165882893711_data);\n",
       "      });\n",
       "    });\n",
       "}else{\n",
       "    // require.js not available: dynamically load d3 & LDAvis\n",
       "    LDAvis_load_lib(\"https://cdnjs.cloudflare.com/ajax/libs/d3/3.5.5/d3.min.js\", function(){\n",
       "         LDAvis_load_lib(\"https://cdn.rawgit.com/bmabey/pyLDAvis/files/ldavis.v1.0.0.js\", function(){\n",
       "                 new LDAvis(\"#\" + \"ldavis_el204018593981092165882893711\", ldavis_el204018593981092165882893711_data);\n",
       "            })\n",
       "         });\n",
       "}\n",
       "</script>"
      ],
      "text/plain": [
       "PreparedData(topic_coordinates=              x         y  topics  cluster       Freq\n",
       "topic                                                \n",
       "4      0.299814  0.077575       1        1  46.603721\n",
       "1      0.240837 -0.032557       2        1  37.923801\n",
       "0     -0.148920 -0.188407       3        1   6.539761\n",
       "2     -0.166135 -0.187125       4        1   4.609752\n",
       "3     -0.225596  0.330514       5        1   4.322965, topic_info=         Term          Freq         Total Category  logprob  loglift\n",
       "7        game  37408.000000  37408.000000  Default  30.0000  30.0000\n",
       "163       run   4148.000000   4148.000000  Default  29.0000  29.0000\n",
       "199     world   4221.000000   4221.000000  Default  28.0000  28.0000\n",
       "136        no   7576.000000   7576.000000  Default  27.0000  27.0000\n",
       "138       npc   2713.000000   2713.000000  Default  26.0000  26.0000\n",
       "...       ...           ...           ...      ...      ...      ...\n",
       "209        50    271.514281    539.106146   Topic5  -5.0487   2.4553\n",
       "406       set    324.360394   1218.041386   Topic5  -4.8709   1.8181\n",
       "567      drop    252.533830    507.345458   Topic5  -5.1212   2.4436\n",
       "1035      use    332.238327   2007.258884   Topic5  -4.8469   1.3426\n",
       "932   graphic    335.930334   2174.745641   Topic5  -4.8358   1.2735\n",
       "\n",
       "[303 rows x 6 columns], token_table=      Topic      Freq   Term\n",
       "term                        \n",
       "847       1  0.957216     10\n",
       "847       2  0.042759     10\n",
       "1224      5  0.996422  1080p\n",
       "2146      5  0.996159  1440p\n",
       "539       1  0.276808     30\n",
       "...     ...       ...    ...\n",
       "199       4  0.076038  world\n",
       "200       1  0.999502  worth\n",
       "18        1  0.843137  would\n",
       "18        2  0.156618  would\n",
       "452       1  0.999700   year\n",
       "\n",
       "[400 rows x 3 columns], R=30, lambda_step=0.01, plot_opts={'xlab': 'PC1', 'ylab': 'PC2'}, topic_order=[5, 2, 1, 3, 4])"
      ]
     },
     "execution_count": 37,
     "metadata": {},
     "output_type": "execute_result"
    }
   ],
   "source": [
    "# visualize the topics using pyLDAvis\n",
    "\n",
    "pyLDAvis.enable_notebook()\n",
    "vis = pyLDAvis.gensim.prepare(cyberpunk_neg_lda_model, cyberpunk_neg_corpus, cyberpunk_neg_id2word)\n",
    "vis"
   ]
  },
  {
   "cell_type": "markdown",
   "id": "sitting-senegal",
   "metadata": {},
   "source": [
    "**Topic Interpretation**\n",
    "\n",
    "- **1**: overall negative sentiments about the game (crash, update, fix)\n",
    "- **2**: generic gameplay terms (mission, combat, npc), story-related terms (dialogue, quest, choice)\n",
    "- **3**: comparisons with other open world games of somewhat similar genres (deus ex, gta),\n",
    "- **4**: glitches with the game (randomly, disappear, teleport), ai issues\n",
    "- **5**: technical issues, fps, resolution, driver, controller, performance"
   ]
  },
  {
   "cell_type": "code",
   "execution_count": 38,
   "id": "legendary-discount",
   "metadata": {
    "ExecuteTime": {
     "end_time": "2021-01-27T05:44:07.699609Z",
     "start_time": "2021-01-27T05:36:54.823524Z"
    }
   },
   "outputs": [
    {
     "name": "stdout",
     "output_type": "stream",
     "text": [
      "Coherence value for 2 topics: 0.3641\n",
      "Coherence value for 3 topics: 0.3425\n",
      "Coherence value for 4 topics: 0.3402\n",
      "Coherence value for 5 topics: 0.4740\n",
      "Coherence value for 6 topics: 0.3720\n",
      "Coherence value for 7 topics: 0.4651\n"
     ]
    },
    {
     "data": {
      "image/png": "[encoded data removed]",
      "text/plain": [
       "<Figure size 432x288 with 1 Axes>"
      ]
     },
     "metadata": {
      "needs_background": "light"
     },
     "output_type": "display_data"
    }
   ],
   "source": [
    "display_coherence_values(cyberpunk_neg_id2word, cyberpunk_neg_corpus, cyberpunk_neg_processed_text, start=2, limit=8, step=1)"
   ]
  },
  {
   "cell_type": "markdown",
   "id": "twenty-country",
   "metadata": {},
   "source": [
    "## Fall Guys"
   ]
  },
  {
   "cell_type": "markdown",
   "id": "enhanced-cocktail",
   "metadata": {},
   "source": [
    "### Positive"
   ]
  },
  {
   "cell_type": "code",
   "execution_count": 39,
   "id": "velvet-tribute",
   "metadata": {
    "ExecuteTime": {
     "end_time": "2021-01-27T05:44:23.791469Z",
     "start_time": "2021-01-27T05:44:07.701604Z"
    }
   },
   "outputs": [],
   "source": [
    "fallguys_pos_processed_text, fallguys_pos_id2word, fallguys_pos_corpus = build_bigrams_trigrams(1, fallguys_ml)"
   ]
  },
  {
   "cell_type": "code",
   "execution_count": 40,
   "id": "injured-situation",
   "metadata": {
    "ExecuteTime": {
     "end_time": "2021-01-27T05:45:18.601885Z",
     "start_time": "2021-01-27T05:44:23.793461Z"
    }
   },
   "outputs": [],
   "source": [
    "# build LDA model\n",
    "\n",
    "fallguys_pos_lda_model = gensim.models.ldamodel.LdaModel(corpus=fallguys_pos_corpus,\n",
    "                                                          id2word=fallguys_pos_id2word,\n",
    "                                                          num_topics=4, \n",
    "                                                          random_state=42,\n",
    "                                                          update_every=1,\n",
    "                                                          chunksize=100,\n",
    "                                                          passes=10,\n",
    "                                                          alpha='auto',\n",
    "                                                          iterations=100,\n",
    "                                                          per_word_topics=True)"
   ]
  },
  {
   "cell_type": "code",
   "execution_count": 41,
   "id": "robust-reverse",
   "metadata": {
    "ExecuteTime": {
     "end_time": "2021-01-27T05:46:45.676655Z",
     "start_time": "2021-01-27T05:45:18.602895Z"
    }
   },
   "outputs": [
    {
     "data": {
      "text/html": [
       "<div>\n",
       "<style scoped>\n",
       "    .dataframe tbody tr th:only-of-type {\n",
       "        vertical-align: middle;\n",
       "    }\n",
       "\n",
       "    .dataframe tbody tr th {\n",
       "        vertical-align: top;\n",
       "    }\n",
       "\n",
       "    .dataframe thead th {\n",
       "        text-align: right;\n",
       "    }\n",
       "</style>\n",
       "<table border=\"1\" class=\"dataframe\">\n",
       "  <thead>\n",
       "    <tr style=\"text-align: right;\">\n",
       "      <th></th>\n",
       "      <th>Document_No</th>\n",
       "      <th>Dominant_Topic</th>\n",
       "      <th>Percentage_Contribution</th>\n",
       "      <th>Keywords</th>\n",
       "      <th>Text</th>\n",
       "    </tr>\n",
       "  </thead>\n",
       "  <tbody>\n",
       "    <tr>\n",
       "      <th>0</th>\n",
       "      <td>0</td>\n",
       "      <td>3.0</td>\n",
       "      <td>0.4926</td>\n",
       "      <td>game, fun, play, get, server, time, friend, li...</td>\n",
       "      <td>[thought, fall, guy, ultimate_knockout, i've, ...</td>\n",
       "    </tr>\n",
       "    <tr>\n",
       "      <th>1</th>\n",
       "      <td>1</td>\n",
       "      <td>3.0</td>\n",
       "      <td>0.4641</td>\n",
       "      <td>game, fun, play, get, server, time, friend, li...</td>\n",
       "      <td>[no, battlepass, no, overwhelm, progression_sy...</td>\n",
       "    </tr>\n",
       "    <tr>\n",
       "      <th>2</th>\n",
       "      <td>2</td>\n",
       "      <td>3.0</td>\n",
       "      <td>0.5076</td>\n",
       "      <td>game, fun, play, get, server, time, friend, li...</td>\n",
       "      <td>[much, fun, especially, friend, even, though, ...</td>\n",
       "    </tr>\n",
       "    <tr>\n",
       "      <th>3</th>\n",
       "      <td>3</td>\n",
       "      <td>3.0</td>\n",
       "      <td>0.4645</td>\n",
       "      <td>game, fun, play, get, server, time, friend, li...</td>\n",
       "      <td>[game, chaotic, fun, recommend, people, play, ...</td>\n",
       "    </tr>\n",
       "    <tr>\n",
       "      <th>4</th>\n",
       "      <td>4</td>\n",
       "      <td>3.0</td>\n",
       "      <td>0.5861</td>\n",
       "      <td>game, fun, play, get, server, time, friend, li...</td>\n",
       "      <td>[nice, casual, multiplayer, game, relax, fun, ...</td>\n",
       "    </tr>\n",
       "    <tr>\n",
       "      <th>5</th>\n",
       "      <td>5</td>\n",
       "      <td>3.0</td>\n",
       "      <td>0.4943</td>\n",
       "      <td>game, fun, play, get, server, time, friend, li...</td>\n",
       "      <td>[amaze, fun, never, end, cute, art, stile, loo...</td>\n",
       "    </tr>\n",
       "    <tr>\n",
       "      <th>6</th>\n",
       "      <td>6</td>\n",
       "      <td>3.0</td>\n",
       "      <td>0.5102</td>\n",
       "      <td>game, fun, play, get, server, time, friend, li...</td>\n",
       "      <td>[good, game, play, friend, would, recomend, bu...</td>\n",
       "    </tr>\n",
       "    <tr>\n",
       "      <th>7</th>\n",
       "      <td>7</td>\n",
       "      <td>3.0</td>\n",
       "      <td>0.4785</td>\n",
       "      <td>game, fun, play, get, server, time, friend, li...</td>\n",
       "      <td>[really, fun, game, only, thing, miss, private...</td>\n",
       "    </tr>\n",
       "    <tr>\n",
       "      <th>8</th>\n",
       "      <td>8</td>\n",
       "      <td>3.0</td>\n",
       "      <td>0.6096</td>\n",
       "      <td>game, fun, play, get, server, time, friend, li...</td>\n",
       "      <td>[game, great, especially, friend, know, game, ...</td>\n",
       "    </tr>\n",
       "    <tr>\n",
       "      <th>9</th>\n",
       "      <td>9</td>\n",
       "      <td>3.0</td>\n",
       "      <td>0.4795</td>\n",
       "      <td>game, fun, play, get, server, time, friend, li...</td>\n",
       "      <td>[try, hold_shift, get, light, rail, jp, cn, 6,...</td>\n",
       "    </tr>\n",
       "    <tr>\n",
       "      <th>10</th>\n",
       "      <td>10</td>\n",
       "      <td>3.0</td>\n",
       "      <td>0.3921</td>\n",
       "      <td>game, fun, play, get, server, time, friend, li...</td>\n",
       "      <td>[50, time, casual, battle_royal, remain, 50, t...</td>\n",
       "    </tr>\n",
       "    <tr>\n",
       "      <th>11</th>\n",
       "      <td>11</td>\n",
       "      <td>3.0</td>\n",
       "      <td>0.4285</td>\n",
       "      <td>game, fun, play, get, server, time, friend, li...</td>\n",
       "      <td>[game, amaze, nothing, dislike, game, since, n...</td>\n",
       "    </tr>\n",
       "    <tr>\n",
       "      <th>12</th>\n",
       "      <td>12</td>\n",
       "      <td>3.0</td>\n",
       "      <td>0.4201</td>\n",
       "      <td>game, fun, play, get, server, time, friend, li...</td>\n",
       "      <td>[put, thumb, people, could, see, positive, sec...</td>\n",
       "    </tr>\n",
       "    <tr>\n",
       "      <th>13</th>\n",
       "      <td>13</td>\n",
       "      <td>3.0</td>\n",
       "      <td>0.4504</td>\n",
       "      <td>game, fun, play, get, server, time, friend, li...</td>\n",
       "      <td>[there's, no, place, world, legally, grab, kid...</td>\n",
       "    </tr>\n",
       "    <tr>\n",
       "      <th>14</th>\n",
       "      <td>14</td>\n",
       "      <td>3.0</td>\n",
       "      <td>0.4493</td>\n",
       "      <td>game, fun, play, get, server, time, friend, li...</td>\n",
       "      <td>[funny, bean, people, fall, thing, people, ent...</td>\n",
       "    </tr>\n",
       "  </tbody>\n",
       "</table>\n",
       "</div>"
      ],
      "text/plain": [
       "    Document_No  Dominant_Topic  Percentage_Contribution  \\\n",
       "0             0             3.0                   0.4926   \n",
       "1             1             3.0                   0.4641   \n",
       "2             2             3.0                   0.5076   \n",
       "3             3             3.0                   0.4645   \n",
       "4             4             3.0                   0.5861   \n",
       "5             5             3.0                   0.4943   \n",
       "6             6             3.0                   0.5102   \n",
       "7             7             3.0                   0.4785   \n",
       "8             8             3.0                   0.6096   \n",
       "9             9             3.0                   0.4795   \n",
       "10           10             3.0                   0.3921   \n",
       "11           11             3.0                   0.4285   \n",
       "12           12             3.0                   0.4201   \n",
       "13           13             3.0                   0.4504   \n",
       "14           14             3.0                   0.4493   \n",
       "\n",
       "                                             Keywords  \\\n",
       "0   game, fun, play, get, server, time, friend, li...   \n",
       "1   game, fun, play, get, server, time, friend, li...   \n",
       "2   game, fun, play, get, server, time, friend, li...   \n",
       "3   game, fun, play, get, server, time, friend, li...   \n",
       "4   game, fun, play, get, server, time, friend, li...   \n",
       "5   game, fun, play, get, server, time, friend, li...   \n",
       "6   game, fun, play, get, server, time, friend, li...   \n",
       "7   game, fun, play, get, server, time, friend, li...   \n",
       "8   game, fun, play, get, server, time, friend, li...   \n",
       "9   game, fun, play, get, server, time, friend, li...   \n",
       "10  game, fun, play, get, server, time, friend, li...   \n",
       "11  game, fun, play, get, server, time, friend, li...   \n",
       "12  game, fun, play, get, server, time, friend, li...   \n",
       "13  game, fun, play, get, server, time, friend, li...   \n",
       "14  game, fun, play, get, server, time, friend, li...   \n",
       "\n",
       "                                                 Text  \n",
       "0   [thought, fall, guy, ultimate_knockout, i've, ...  \n",
       "1   [no, battlepass, no, overwhelm, progression_sy...  \n",
       "2   [much, fun, especially, friend, even, though, ...  \n",
       "3   [game, chaotic, fun, recommend, people, play, ...  \n",
       "4   [nice, casual, multiplayer, game, relax, fun, ...  \n",
       "5   [amaze, fun, never, end, cute, art, stile, loo...  \n",
       "6   [good, game, play, friend, would, recomend, bu...  \n",
       "7   [really, fun, game, only, thing, miss, private...  \n",
       "8   [game, great, especially, friend, know, game, ...  \n",
       "9   [try, hold_shift, get, light, rail, jp, cn, 6,...  \n",
       "10  [50, time, casual, battle_royal, remain, 50, t...  \n",
       "11  [game, amaze, nothing, dislike, game, since, n...  \n",
       "12  [put, thumb, people, could, see, positive, sec...  \n",
       "13  [there's, no, place, world, legally, grab, kid...  \n",
       "14  [funny, bean, people, fall, thing, people, ent...  "
      ]
     },
     "metadata": {},
     "output_type": "display_data"
    }
   ],
   "source": [
    "display_dominant_topics(fallguys_pos_lda_model, fallguys_pos_corpus, fallguys_pos_processed_text, 15)"
   ]
  },
  {
   "cell_type": "code",
   "execution_count": 42,
   "id": "extraordinary-bahrain",
   "metadata": {
    "ExecuteTime": {
     "end_time": "2021-01-27T05:48:03.556252Z",
     "start_time": "2021-01-27T05:46:45.677652Z"
    }
   },
   "outputs": [
    {
     "data": {
      "text/html": [
       "<div>\n",
       "<style scoped>\n",
       "    .dataframe tbody tr th:only-of-type {\n",
       "        vertical-align: middle;\n",
       "    }\n",
       "\n",
       "    .dataframe tbody tr th {\n",
       "        vertical-align: top;\n",
       "    }\n",
       "\n",
       "    .dataframe thead th {\n",
       "        text-align: right;\n",
       "    }\n",
       "</style>\n",
       "<table border=\"1\" class=\"dataframe\">\n",
       "  <thead>\n",
       "    <tr style=\"text-align: right;\">\n",
       "      <th></th>\n",
       "      <th>Topic_Num</th>\n",
       "      <th>Topic_Percentage_Contribution</th>\n",
       "      <th>Keywords</th>\n",
       "      <th>Representative Text</th>\n",
       "    </tr>\n",
       "  </thead>\n",
       "  <tbody>\n",
       "    <tr>\n",
       "      <th>0</th>\n",
       "      <td>0.0</td>\n",
       "      <td>0.5735</td>\n",
       "      <td>fall, 10, guy, launch, player, win, round, go,...</td>\n",
       "      <td>[fall, guy, im, fall, guy, fall, guy, fall, gu...</td>\n",
       "    </tr>\n",
       "    <tr>\n",
       "      <th>1</th>\n",
       "      <td>1.0</td>\n",
       "      <td>0.5767</td>\n",
       "      <td>takeshi's_castle, show, 60, ever, yes, probabl...</td>\n",
       "      <td>[rainbowpls_pa, yeta, yu, rainbowpls_pa, aye, ...</td>\n",
       "    </tr>\n",
       "    <tr>\n",
       "      <th>2</th>\n",
       "      <td>2.0</td>\n",
       "      <td>0.6752</td>\n",
       "      <td>more, team, only, see, map, not, need, party, ...</td>\n",
       "      <td>[graphic_forget_reality_beautiful, good, decen...</td>\n",
       "    </tr>\n",
       "    <tr>\n",
       "      <th>3</th>\n",
       "      <td>3.0</td>\n",
       "      <td>0.7416</td>\n",
       "      <td>game, fun, play, get, server, time, friend, li...</td>\n",
       "      <td>[really, recommend, try, game, buying, im, lov...</td>\n",
       "    </tr>\n",
       "  </tbody>\n",
       "</table>\n",
       "</div>"
      ],
      "text/plain": [
       "   Topic_Num  Topic_Percentage_Contribution  \\\n",
       "0        0.0                         0.5735   \n",
       "1        1.0                         0.5767   \n",
       "2        2.0                         0.6752   \n",
       "3        3.0                         0.7416   \n",
       "\n",
       "                                            Keywords  \\\n",
       "0  fall, 10, guy, launch, player, win, round, go,...   \n",
       "1  takeshi's_castle, show, 60, ever, yes, probabl...   \n",
       "2  more, team, only, see, map, not, need, party, ...   \n",
       "3  game, fun, play, get, server, time, friend, li...   \n",
       "\n",
       "                                 Representative Text  \n",
       "0  [fall, guy, im, fall, guy, fall, guy, fall, gu...  \n",
       "1  [rainbowpls_pa, yeta, yu, rainbowpls_pa, aye, ...  \n",
       "2  [graphic_forget_reality_beautiful, good, decen...  \n",
       "3  [really, recommend, try, game, buying, im, lov...  "
      ]
     },
     "metadata": {},
     "output_type": "display_data"
    }
   ],
   "source": [
    "display_representative_docs(fallguys_pos_lda_model, fallguys_pos_corpus, fallguys_pos_processed_text)"
   ]
  },
  {
   "cell_type": "code",
   "execution_count": 43,
   "id": "worthy-strength",
   "metadata": {
    "ExecuteTime": {
     "end_time": "2021-01-27T05:48:20.703676Z",
     "start_time": "2021-01-27T05:48:03.567609Z"
    }
   },
   "outputs": [
    {
     "name": "stdout",
     "output_type": "stream",
     "text": [
      "Perplexity: -6.9788\n",
      "Coherence Score: 0.4093\n"
     ]
    }
   ],
   "source": [
    "compute_perp_coherence(ldamodel=fallguys_pos_lda_model, \n",
    "                       dictionary=fallguys_pos_id2word,\n",
    "                       corpus=fallguys_pos_corpus, \n",
    "                       texts=fallguys_pos_processed_text)"
   ]
  },
  {
   "cell_type": "code",
   "execution_count": 44,
   "id": "applicable-volleyball",
   "metadata": {
    "ExecuteTime": {
     "end_time": "2021-01-27T05:48:30.444739Z",
     "start_time": "2021-01-27T05:48:20.704672Z"
    }
   },
   "outputs": [
    {
     "data": {
      "text/html": [
       "\n",
       "<link rel=\"stylesheet\" type=\"text/css\" href=\"https://cdn.rawgit.com/bmabey/pyLDAvis/files/ldavis.v1.0.0.css\">\n",
       "\n",
       "\n",
       "<div id=\"ldavis_el204018593981089928582656864\"></div>\n",
       "<script type=\"text/javascript\">\n",
       "\n",
       "var ldavis_el204018593981089928582656864_data = {\"mdsDat\": {\"x\": [-0.24145826418892438, -0.17290005173403133, 0.06852937629101798, 0.3458289396319379], \"y\": [-0.06400774006377316, 0.24245427558074015, -0.31798512077356156, 0.13953858525659457], \"topics\": [1, 2, 3, 4], \"cluster\": [1, 1, 1, 1], \"Freq\": [46.67315540370907, 27.99028224858703, 18.124746763527906, 7.211815584176001]}, \"tinfo\": {\"Term\": [\"game\", \"fun\", \"play\", \"more\", \"fall\", \"10\", \"guy\", \"server\", \"launch\", \"team\", \"player\", \"get\", \"friend\", \"see\", \"time\", \"only\", \"map\", \"win\", \"round\", \"great\", \"really\", \"need\", \"takeshi's_castle\", \"party\", \"no\", \"day\", \"show\", \"lose\", \"lot\", \"go\", \"fun\", \"play\", \"server\", \"friend\", \"great\", \"really\", \"lot\", \"game\", \"recommend\", \"played\", \"much\", \"love\", \"battle_royale\", \"hour\", \"still\", \"take\", \"fix\", \"worth\", \"i've\", \"super\", \"beta\", \"best\", \"enjoy\", \"want\", \"buy\", \"little\", \"future\", \"amaze\", \"definitely\", \"cute\", \"time\", \"even\", \"day\", \"would\", \"get\", \"don't\", \"like\", \"issue\", \"good\", \"well\", \"people\", \"make\", \"one\", \"not\", \"see\", \"map\", \"need\", \"no\", \"party\", \"mode\", \"review\", \"add\", \"come\", \"new\", \"wait\", \"level\", \"bad\", \"release\", \"could\", \"1\", \"expect\", \"content\", \"know\", \"mini\", \"3\", \"4\", \"should\", \"2\", \"developer\", \"something\", \"big\", \"minigames\", \"start\", \"season\", \"more\", \"team\", \"update\", \"cosmetic\", \"only\", \"keep\", \"feel\", \"thing\", \"free\", \"not\", \"devs\", \"also\", \"i'm\", \"fall\", \"10\", \"guy\", \"launch\", \"win\", \"round\", \"lose\", \"right\", \"grab\", \"end\", \"run\", \"crown\", \"solo\", \"5\", \"already\", \"currency\", \"absolutely\", \"amount\", \"earn\", \"never\", \"point\", \"unique\", \"control\", \"small\", \"two\", \"jump\", \"eliminate\", \"tail\", \"next\", \"final\", \"won\", \"player\", \"match\", \"first\", \"go\", \"physic\", \"one\", \"try\", \"most\", \"takeshi's_castle\", \"60\", \"ever\", \"yes\", \"challenge\", \"probably\", \"wipeout\", \"mario_party\", \"fuck\", \"life\", \"bean\", \"quick\", \"year\", \"mxc\", \"obstacle_course\", \"bunch\", \"battle_royal\", \"might\", \"2020\", \"reminds\", \"addict\", \"positive\", \"indie\", \"literally\", \"must\", \"flat\", \"human\", \"believe\", \"imagine\", \"winner\", \"show\"], \"Freq\": [42633.0, 16605.0, 10321.0, 5916.0, 4357.0, 4276.0, 3302.0, 7130.0, 2997.0, 3928.0, 3513.0, 9340.0, 5057.0, 2973.0, 5186.0, 3284.0, 2698.0, 1969.0, 1923.0, 4226.0, 4173.0, 2419.0, 1152.0, 2236.0, 2221.0, 3685.0, 990.0, 1500.0, 3339.0, 2799.0, 16605.085500200345, 10320.560377904436, 7130.073547781189, 5057.248282156851, 4226.094604927083, 4172.714371862916, 3338.434798638362, 42623.46989093246, 2702.0004697733107, 2509.1588433800184, 2459.5483367077004, 2386.876155669259, 2424.4958462863206, 2316.0105644052633, 1883.0932924406948, 1688.179450726365, 1651.6107803268656, 1643.6298318402662, 1661.4337446623904, 1500.515492143466, 1581.989582437967, 1471.0543004574304, 1458.6770181351246, 1590.6352248990895, 1416.8080188926467, 1279.5160175473613, 1245.52462907225, 1191.0671913006872, 1123.97902774908, 1057.4200149305088, 5162.825825450392, 3025.007015437053, 3669.8318630173694, 3221.610526877645, 8703.00525707318, 2387.7191002082577, 4310.010994000525, 3957.7682752344967, 3448.8689346878227, 2675.8168200846753, 2387.801154278001, 2266.960853892196, 1918.0606482641156, 1918.410568264607, 2972.460210006586, 2698.171622970358, 2419.215280984597, 2221.0999604591952, 2235.5751567800417, 1908.5206004150573, 1904.779577801419, 1828.7798006894661, 1857.7758749540956, 1623.6587330347575, 1595.2047921482122, 1544.5872026746142, 1466.4697800346987, 1394.4741147361262, 1303.0521713366825, 1314.6014765031634, 1312.7792499999996, 1124.8787266416184, 1136.5998417355404, 1101.1093354189206, 1048.9995355784463, 1016.5277112127819, 972.3781860896997, 967.864270723291, 959.7566223877858, 928.0514767305955, 881.1070592248036, 840.4597358778019, 830.2357855914794, 823.3290433030592, 5908.2112052522925, 3910.383199943606, 1250.8295949895837, 1195.1437806036147, 3134.0911969957856, 1768.20412125715, 1640.8756664675072, 1464.4915306355497, 1129.4904712189111, 2671.812822694593, 1296.2900315385134, 1388.7928827512624, 1164.5876453262765, 4356.7960315470145, 4276.219927723356, 3301.348209788881, 2996.348196731762, 1968.6858608725995, 1923.0376399196634, 1499.929790806224, 1373.8780554686043, 1323.2421411068817, 899.7107572926918, 890.9260962264391, 881.6148579304948, 908.401347870782, 829.2889373421287, 862.2966947342409, 822.1045077187295, 843.4127783116669, 786.7820181817661, 793.0097563781524, 762.3886705851339, 714.2949975720037, 635.9150318269053, 582.3554284434915, 567.5437853902722, 541.8643365300439, 510.09771144562603, 490.9658404415368, 473.11958131700123, 476.64760525513094, 453.0876514948131, 477.4395917638523, 2956.531911036868, 1241.0008265147308, 1443.6170215519157, 1771.133811906835, 668.0930113870169, 1530.7521765687095, 682.5263061994065, 638.1715272707035, 1151.6536891434898, 826.772980987829, 752.5162469923785, 728.600859715242, 706.0857639894924, 725.1952866192684, 680.2423794913409, 575.266511589702, 521.1587008131594, 491.99356165954845, 463.6618036860413, 469.7384891702725, 387.1218934506084, 389.3585519706359, 388.2545025688409, 392.0940535377706, 357.9272642261609, 356.7115722964741, 345.18755362477856, 304.38833271044376, 294.47475750358734, 284.36818784929, 271.6973234734409, 261.65304429158556, 254.60747042721442, 251.42992070361518, 251.96422539863218, 248.24414924346576, 244.23259089144693, 237.27810521359217, 979.0757175378108], \"Total\": [42633.0, 16605.0, 10321.0, 5916.0, 4357.0, 4276.0, 3302.0, 7130.0, 2997.0, 3928.0, 3513.0, 9340.0, 5057.0, 2973.0, 5186.0, 3284.0, 2698.0, 1969.0, 1923.0, 4226.0, 4173.0, 2419.0, 1152.0, 2236.0, 2221.0, 3685.0, 990.0, 1500.0, 3339.0, 2799.0, 16605.755860287496, 10321.233897079941, 7130.748181464869, 5057.919148957605, 4226.761806312234, 4173.387083465241, 3339.1125511352902, 42633.504959405094, 2702.6715405509444, 2509.8420482627025, 2460.2208069111334, 2387.5511096542486, 2425.1926778617367, 2316.68915879075, 1883.7641569390555, 1688.865713186676, 1652.2840066505166, 1644.2999514126411, 1662.1115621505528, 1501.184862150477, 1582.7206952401575, 1471.7374609641565, 1459.3553403026453, 1591.398954305209, 1417.4931775124796, 1280.1892168625352, 1246.2054159392023, 1191.7371216611716, 1124.6507136475425, 1058.094947596707, 5186.644137444628, 3027.467547081778, 3685.027709969447, 3241.0835551719438, 9340.20060913351, 2479.1604335009706, 5089.25059397319, 4649.722642210254, 4046.3291829607933, 3006.1581066432627, 3426.2587007917405, 3564.4946353681703, 4050.358516470669, 4590.676397589561, 2973.1460269034683, 2698.851066787685, 2419.9005589974868, 2221.791253258309, 2236.2747148159865, 1909.2057602600357, 1905.481500918418, 1829.4583278994862, 1858.4670239329544, 1624.3372901660953, 1595.893996980794, 1545.2667906183035, 1467.1531871723914, 1395.1799059048576, 1303.7318686239935, 1315.2951365842362, 1313.4815484612775, 1125.560878821659, 1137.2950741110842, 1101.7940184419208, 1049.6940866489856, 1017.2260399372065, 973.0592967651622, 968.5535991037524, 960.4508965485777, 928.7449804629822, 881.7952627710956, 841.1365129483337, 830.9189244205221, 824.0227783364109, 5916.7244981155845, 3928.9760785617254, 1255.4889177348148, 1206.7557508147265, 3284.9528100870702, 1813.5906491043488, 1739.8510070754828, 1616.6489395157541, 1188.6350542472026, 4590.676397589561, 1783.060231372843, 2364.479460721541, 1563.890067630225, 4357.463021681318, 4276.885045829452, 3302.017564383739, 2997.090984816693, 1969.3479091227969, 1923.6993137723234, 1500.593921135277, 1374.5532639661224, 1323.909850977091, 900.3775970877759, 891.5935488868749, 882.275396403013, 909.0966888020413, 829.9520125954823, 862.9876136001253, 822.7806073106148, 844.1110700347589, 787.4542914488216, 793.6898422446111, 763.0562008658408, 714.963941954716, 636.6340881781035, 583.028787577069, 568.2193189930877, 542.5290775141514, 510.7554097450865, 491.6214725424131, 473.7639062717344, 477.30998972361226, 453.7416061612487, 478.12875921405634, 3513.002589290208, 1545.1954865530497, 1931.69275962415, 2799.044643045849, 788.6847576019946, 4050.358516470669, 1874.138983107581, 2043.6255061008535, 1152.3425077146971, 827.4981934790869, 753.2009332000412, 729.313405875074, 706.7876978754283, 725.919925957245, 680.9309320288319, 575.9452537207837, 521.8940956677706, 492.69066143311125, 464.3345915503341, 470.4407799084807, 387.80981993674965, 390.0519534341451, 388.95311289398103, 392.824302640633, 358.6217796766984, 357.41097408586904, 345.8982312454033, 305.08241817935055, 295.15458689394455, 285.10334354665713, 272.42556124722023, 262.3546506771966, 255.3006760761129, 252.13177250243032, 252.66950340964578, 248.9609167848867, 244.93800573075103, 237.98925864540834, 990.2601156287299], \"Category\": [\"Default\", \"Default\", \"Default\", \"Default\", \"Default\", \"Default\", \"Default\", \"Default\", \"Default\", \"Default\", \"Default\", \"Default\", \"Default\", \"Default\", \"Default\", \"Default\", \"Default\", \"Default\", \"Default\", \"Default\", \"Default\", \"Default\", \"Default\", \"Default\", \"Default\", \"Default\", \"Default\", \"Default\", \"Default\", \"Default\", \"Topic1\", \"Topic1\", \"Topic1\", \"Topic1\", \"Topic1\", \"Topic1\", \"Topic1\", \"Topic1\", \"Topic1\", \"Topic1\", \"Topic1\", \"Topic1\", \"Topic1\", \"Topic1\", \"Topic1\", \"Topic1\", \"Topic1\", \"Topic1\", \"Topic1\", \"Topic1\", \"Topic1\", \"Topic1\", \"Topic1\", \"Topic1\", \"Topic1\", \"Topic1\", \"Topic1\", \"Topic1\", \"Topic1\", \"Topic1\", \"Topic1\", \"Topic1\", \"Topic1\", \"Topic1\", \"Topic1\", \"Topic1\", \"Topic1\", \"Topic1\", \"Topic1\", \"Topic1\", \"Topic1\", \"Topic1\", \"Topic1\", \"Topic1\", \"Topic2\", \"Topic2\", \"Topic2\", \"Topic2\", \"Topic2\", \"Topic2\", \"Topic2\", \"Topic2\", \"Topic2\", \"Topic2\", \"Topic2\", \"Topic2\", \"Topic2\", \"Topic2\", \"Topic2\", \"Topic2\", \"Topic2\", \"Topic2\", \"Topic2\", \"Topic2\", \"Topic2\", \"Topic2\", \"Topic2\", \"Topic2\", \"Topic2\", \"Topic2\", \"Topic2\", \"Topic2\", \"Topic2\", \"Topic2\", \"Topic2\", \"Topic2\", \"Topic2\", \"Topic2\", \"Topic2\", \"Topic2\", \"Topic2\", \"Topic2\", \"Topic2\", \"Topic2\", \"Topic2\", \"Topic2\", \"Topic2\", \"Topic3\", \"Topic3\", \"Topic3\", \"Topic3\", \"Topic3\", \"Topic3\", \"Topic3\", \"Topic3\", \"Topic3\", \"Topic3\", \"Topic3\", \"Topic3\", \"Topic3\", \"Topic3\", \"Topic3\", \"Topic3\", \"Topic3\", \"Topic3\", \"Topic3\", \"Topic3\", \"Topic3\", \"Topic3\", \"Topic3\", \"Topic3\", \"Topic3\", \"Topic3\", \"Topic3\", \"Topic3\", \"Topic3\", \"Topic3\", \"Topic3\", \"Topic3\", \"Topic3\", \"Topic3\", \"Topic3\", \"Topic3\", \"Topic3\", \"Topic3\", \"Topic3\", \"Topic4\", \"Topic4\", \"Topic4\", \"Topic4\", \"Topic4\", \"Topic4\", \"Topic4\", \"Topic4\", \"Topic4\", \"Topic4\", \"Topic4\", \"Topic4\", \"Topic4\", \"Topic4\", \"Topic4\", \"Topic4\", \"Topic4\", \"Topic4\", \"Topic4\", \"Topic4\", \"Topic4\", \"Topic4\", \"Topic4\", \"Topic4\", \"Topic4\", \"Topic4\", \"Topic4\", \"Topic4\", \"Topic4\", \"Topic4\", \"Topic4\"], \"logprob\": [30.0, 29.0, 28.0, 27.0, 26.0, 25.0, 24.0, 23.0, 22.0, 21.0, 20.0, 19.0, 18.0, 17.0, 16.0, 15.0, 14.0, 13.0, 12.0, 11.0, 10.0, 9.0, 8.0, 7.0, 6.0, 5.0, 4.0, 3.0, 2.0, 1.0, -2.896399974822998, -3.371999979019165, -3.74180006980896, -4.085299968719482, -4.264800071716309, -4.277500152587891, -4.5005998611450195, -1.9536999464035034, -4.712100028991699, -4.786200046539307, -4.806099891662598, -4.836100101470947, -4.820499897003174, -4.866300106048584, -5.073200225830078, -5.182499885559082, -5.204400062561035, -5.209199905395508, -5.198400020599365, -5.300300121307373, -5.247399806976318, -5.320099830627441, -5.32859992980957, -5.242000102996826, -5.357699871063232, -5.45959997177124, -5.486599922180176, -5.531300067901611, -5.589200019836426, -5.650300025939941, -4.064599990844727, -4.5991997718811035, -4.406000137329102, -4.536200046539307, -3.5423998832702637, -4.8358001708984375, -4.245200157165527, -4.330399990081787, -4.468100070953369, -4.72189998626709, -4.835700035095215, -4.887700080871582, -5.054800033569336, -5.054599761962891, -4.105400085449219, -4.202199935913086, -4.311399936676025, -4.3968000411987305, -4.3902997970581055, -4.548500061035156, -4.5503997802734375, -4.59119987487793, -4.575399875640869, -4.710100173950195, -4.727799892425537, -4.760000228881836, -4.8119001388549805, -4.862299919128418, -4.930099964141846, -4.921299934387207, -4.922699928283691, -5.077099800109863, -5.066800117492676, -5.098499774932861, -5.146999835968018, -5.178400039672852, -5.222799777984619, -5.227499961853027, -5.235899925231934, -5.269499778747559, -5.321400165557861, -5.368599891662598, -5.380799770355225, -5.389200210571289, -3.4184999465942383, -3.831199884414673, -4.9710001945495605, -5.016499996185303, -4.052499771118164, -4.624800205230713, -4.6996002197265625, -4.813300132751465, -5.072999954223633, -4.211999893188477, -4.935299873352051, -4.866399765014648, -5.042399883270264, -3.2885000705718994, -3.3071999549865723, -3.5659000873565674, -3.6628000736236572, -4.082900047302246, -4.106299877166748, -4.354800224304199, -4.442599773406982, -4.480100154876709, -4.865900039672852, -4.875699996948242, -4.886199951171875, -4.856299877166748, -4.947400093078613, -4.908400058746338, -4.956099987030029, -4.930500030517578, -5.0, -4.992099761962891, -5.031499862670898, -5.096700191497803, -5.212900161743164, -5.300899982452393, -5.326700210571289, -5.373000144958496, -5.4334001541137695, -5.47160005569458, -5.508600234985352, -5.501200199127197, -5.5518999099731445, -5.499499797821045, -3.6761999130249023, -4.544300079345703, -4.393099784851074, -4.188600063323975, -5.16349983215332, -4.334499835968018, -5.142199993133545, -5.209400177001953, -3.697499990463257, -4.028900146484375, -4.123000144958496, -4.155300140380859, -4.186699867248535, -4.159999847412109, -4.223999977111816, -4.391600131988525, -4.4903998374938965, -4.547999858856201, -4.6072998046875, -4.594200134277344, -4.787700176239014, -4.781899929046631, -4.784800052642822, -4.774899959564209, -4.866099834442139, -4.869500160217285, -4.902299880981445, -5.02810001373291, -5.061200141906738, -5.096099853515625, -5.14169979095459, -5.1793999671936035, -5.206699848175049, -5.219299793243408, -5.217100143432617, -5.23199987411499, -5.248300075531006, -5.277200222015381, -3.859800100326538], \"loglift\": [30.0, 29.0, 28.0, 27.0, 26.0, 25.0, 24.0, 23.0, 22.0, 21.0, 20.0, 19.0, 18.0, 17.0, 16.0, 15.0, 14.0, 13.0, 12.0, 11.0, 10.0, 9.0, 8.0, 7.0, 6.0, 5.0, 4.0, 3.0, 2.0, 1.0, 0.762, 0.7619, 0.7619, 0.7619, 0.7618, 0.7618, 0.7618, 0.7618, 0.7618, 0.7617, 0.7617, 0.7617, 0.7617, 0.7617, 0.7616, 0.7616, 0.7616, 0.7616, 0.7616, 0.7616, 0.7615, 0.7615, 0.7615, 0.7615, 0.7615, 0.7615, 0.7615, 0.7614, 0.7614, 0.7614, 0.7574, 0.7612, 0.7579, 0.756, 0.6913, 0.7244, 0.5958, 0.6009, 0.6022, 0.6456, 0.4009, 0.3094, 0.0145, -0.1105, 1.2731, 1.2731, 1.273, 1.273, 1.273, 1.273, 1.2729, 1.2729, 1.2729, 1.2729, 1.2729, 1.2729, 1.2728, 1.2728, 1.2728, 1.2728, 1.2728, 1.2727, 1.2727, 1.2727, 1.2727, 1.2726, 1.2726, 1.2726, 1.2726, 1.2726, 1.2725, 1.2725, 1.2725, 1.2725, 1.2719, 1.2686, 1.2696, 1.2636, 1.2263, 1.248, 1.2147, 1.1745, 1.2223, 0.732, 0.9545, 0.7412, 0.9785, 1.7077, 1.7077, 1.7077, 1.7076, 1.7076, 1.7075, 1.7074, 1.7074, 1.7074, 1.7072, 1.7071, 1.7071, 1.7071, 1.7071, 1.7071, 1.7071, 1.7071, 1.707, 1.707, 1.707, 1.707, 1.7068, 1.7067, 1.7067, 1.7067, 1.7066, 1.7066, 1.7065, 1.7065, 1.7064, 1.7064, 1.5354, 1.4887, 1.4166, 1.2502, 1.542, 0.7348, 0.6978, 0.544, 2.6289, 2.6286, 2.6285, 2.6285, 2.6285, 2.6285, 2.6284, 2.6283, 2.628, 2.628, 2.628, 2.628, 2.6277, 2.6277, 2.6277, 2.6276, 2.6275, 2.6275, 2.6274, 2.6272, 2.6271, 2.6269, 2.6268, 2.6268, 2.6267, 2.6267, 2.6267, 2.6266, 2.6266, 2.6265, 2.6181]}, \"token.table\": {\"Topic\": [2, 3, 2, 4, 2, 2, 3, 4, 3, 2, 4, 3, 1, 2, 1, 3, 2, 4, 1, 4, 4, 1, 1, 2, 4, 1, 4, 2, 2, 3, 2, 3, 2, 3, 3, 1, 1, 2, 1, 2, 1, 2, 1, 2, 3, 3, 3, 1, 1, 3, 4, 2, 3, 1, 2, 3, 3, 1, 3, 1, 4, 1, 2, 1, 4, 1, 1, 1, 2, 1, 2, 3, 1, 2, 3, 1, 2, 3, 1, 3, 1, 4, 1, 2, 1, 4, 4, 1, 2, 3, 1, 2, 2, 3, 2, 4, 1, 2, 4, 1, 3, 1, 1, 1, 2, 3, 2, 4, 1, 2, 3, 4, 2, 2, 2, 1, 2, 1, 3, 1, 4, 4, 2, 3, 2, 3, 2, 1, 2, 4, 1, 2, 3, 1, 2, 2, 1, 2, 3, 1, 3, 1, 1, 2, 3, 3, 4, 4, 4, 1, 1, 2, 4, 2, 3, 3, 3, 2, 2, 1, 2, 2, 4, 3, 3, 2, 2, 1, 1, 3, 1, 4, 2, 3, 1, 2, 1, 2, 1, 3, 3, 3, 1, 2, 2, 1, 1, 2, 3, 4, 4, 3, 1, 1, 2, 4, 4], \"Freq\": [0.9997756118942227, 0.9997930629839316, 0.9994284269819815, 0.9974031921407369, 0.9993387724501703, 0.9997777878973484, 0.9988529305537737, 0.9993979521852582, 0.9986837395288358, 0.9997494734411292, 0.9960881959989345, 0.9988555877459177, 0.4123529158094148, 0.5874443077531047, 0.9993814729374678, 0.9994230884843034, 0.9992139967506638, 0.9982661965559958, 0.9995082131524542, 0.9992794171349222, 0.99614029062354, 0.9994989181265568, 0.9995446478697568, 0.9990981321802563, 0.9979015996844088, 0.9996520776817105, 0.9988855240720854, 0.9997487047513138, 0.999501689484583, 0.9982354429163877, 0.9902583842614466, 0.009115349143829216, 0.9994386356262305, 0.9996878566441546, 0.9990512570378071, 0.9989651707541048, 0.9959219546901122, 0.004070525700368306, 0.9994214082295542, 0.999530536594637, 0.27256510545681956, 0.7268402812181854, 0.9632293125248705, 0.036705974639766846, 0.999130841535454, 0.9987358718503504, 0.9995806236305776, 0.9997565087180401, 0.9991849468100306, 0.0006606181466512599, 0.9997332276273377, 0.9996333801096471, 0.9998937405368641, 0.017817617643080787, 0.9431842113643734, 0.03850904458343267, 0.9983655760212893, 0.2526281664455533, 0.7475308859577439, 0.9998281126916598, 0.9955111865069706, 0.049636765960403575, 0.9498289621914514, 0.9998182752767422, 0.9982868254782102, 0.9999544820305769, 0.9998351668701042, 0.9997535985039209, 0.00023455730439056867, 0.9317787020002108, 0.002248345713202853, 0.06595147425395034, 0.2779519797702834, 0.08895892411671025, 0.632715881970658, 0.8523775115786023, 0.14754113494126575, 0.9993127545833883, 0.9998197659704656, 0.9996918355629858, 0.9997025242734292, 0.9973502801065772, 0.2551330226200668, 0.7449372715598441, 0.9993312349328016, 0.996170436156069, 0.9984378806259151, 0.8512335690884473, 0.14882608130601455, 0.9985209951168925, 0.024812655503171833, 0.9748616651023956, 0.9997405474464797, 0.9996359854197887, 0.9998273498013914, 0.9985981844447746, 0.8468830371811525, 0.15306772296151228, 0.9986482012943884, 0.9998521961753444, 0.9996042092887943, 0.9996668123286494, 0.9997691736725467, 0.6359947852091088, 0.3102824139573332, 0.05358403351342734, 0.9996846558899977, 0.9983587785216093, 0.006471673058214489, 0.19026718791150596, 0.803134626524418, 0.9988501357941788, 0.9992793403951824, 0.9986488365077031, 0.9998922272997921, 0.00135209946019084, 0.9985254513509353, 0.6875036526044722, 0.31219027072003797, 0.9999102491489735, 0.9988222668238322, 0.9973030427744731, 0.9996278528908396, 0.9986158282120736, 0.999792352137615, 0.9993505484270468, 0.9996438669667329, 0.417803354862279, 0.5820493035411937, 0.9975495429593314, 0.4735383280765164, 0.1483819265766352, 0.3779912305970525, 0.04566275641445946, 0.9540471906861063, 0.9998771551571163, 0.6969701381416938, 0.2124766585289586, 0.09076956154190402, 0.1521520466109443, 0.8469797261342566, 0.9999773382637897, 0.9996645014919224, 0.1582691688571565, 0.8417300940838341, 0.9986517614411706, 0.9961300224229865, 0.9987327445846979, 0.9990630491077613, 0.9999072495655209, 0.9997515271312594, 0.9991542983812598, 0.9964520466770582, 0.999747307482027, 0.9995974954331519, 0.9996364744909368, 0.9993342831073464, 0.998758798466135, 0.9996145406606005, 0.9998950767232513, 0.9989113749093362, 0.01110819251062732, 0.9886291334458314, 0.9996140240471297, 0.9987936499873447, 0.9991978632685468, 0.9988940865426035, 0.999594345748516, 0.9998768558389189, 0.9983875802659896, 0.9994873996316483, 0.9997027726458027, 0.9951702229328228, 0.004581346294831409, 0.09402164952740426, 0.9055769401849989, 0.9954413418738466, 0.0044344665626764425, 0.6354918235707139, 0.3644340180510475, 0.999024794179557, 0.9990039990162667, 0.0031860098034293305, 0.996424566022523, 0.9994398143094182, 0.9997493059146925, 0.8901727404444725, 0.1097746653014484, 0.9998233379073422, 0.9958432634689522, 0.9986328539576574, 0.9976392149765018, 0.9998175810852615, 0.9941119829689391, 0.005862237019369908, 0.9979118116790293, 0.9995702727077971], \"Term\": [\"1\", \"10\", \"2\", \"2020\", \"3\", \"4\", \"5\", \"60\", \"absolutely\", \"add\", \"addict\", \"already\", \"also\", \"also\", \"amaze\", \"amount\", \"bad\", \"battle_royal\", \"battle_royale\", \"bean\", \"believe\", \"best\", \"beta\", \"big\", \"bunch\", \"buy\", \"challenge\", \"come\", \"content\", \"control\", \"cosmetic\", \"cosmetic\", \"could\", \"crown\", \"currency\", \"cute\", \"day\", \"day\", \"definitely\", \"developer\", \"devs\", \"devs\", \"don't\", \"don't\", \"earn\", \"eliminate\", \"end\", \"enjoy\", \"even\", \"even\", \"ever\", \"expect\", \"fall\", \"feel\", \"feel\", \"feel\", \"final\", \"first\", \"first\", \"fix\", \"flat\", \"free\", \"free\", \"friend\", \"fuck\", \"fun\", \"future\", \"game\", \"game\", \"get\", \"get\", \"get\", \"go\", \"go\", \"go\", \"good\", \"good\", \"grab\", \"great\", \"guy\", \"hour\", \"human\", \"i'm\", \"i'm\", \"i've\", \"imagine\", \"indie\", \"issue\", \"issue\", \"jump\", \"keep\", \"keep\", \"know\", \"launch\", \"level\", \"life\", \"like\", \"like\", \"literally\", \"little\", \"lose\", \"lot\", \"love\", \"make\", \"make\", \"make\", \"map\", \"mario_party\", \"match\", \"match\", \"match\", \"might\", \"mini\", \"minigames\", \"mode\", \"more\", \"more\", \"most\", \"most\", \"much\", \"must\", \"mxc\", \"need\", \"never\", \"new\", \"next\", \"no\", \"not\", \"not\", \"obstacle_course\", \"one\", \"one\", \"one\", \"only\", \"only\", \"party\", \"people\", \"people\", \"people\", \"physic\", \"physic\", \"play\", \"played\", \"player\", \"player\", \"point\", \"positive\", \"probably\", \"quick\", \"really\", \"recommend\", \"release\", \"reminds\", \"review\", \"right\", \"round\", \"run\", \"season\", \"see\", \"server\", \"should\", \"show\", \"show\", \"small\", \"solo\", \"something\", \"start\", \"still\", \"super\", \"tail\", \"take\", \"takeshi's_castle\", \"team\", \"team\", \"thing\", \"thing\", \"time\", \"time\", \"try\", \"try\", \"two\", \"unique\", \"update\", \"update\", \"wait\", \"want\", \"well\", \"well\", \"win\", \"winner\", \"wipeout\", \"won\", \"worth\", \"would\", \"would\", \"year\", \"yes\"]}, \"R\": 30, \"lambda.step\": 0.01, \"plot.opts\": {\"xlab\": \"PC1\", \"ylab\": \"PC2\"}, \"topic.order\": [4, 3, 1, 2]};\n",
       "\n",
       "function LDAvis_load_lib(url, callback){\n",
       "  var s = document.createElement('script');\n",
       "  s.src = url;\n",
       "  s.async = true;\n",
       "  s.onreadystatechange = s.onload = callback;\n",
       "  s.onerror = function(){console.warn(\"failed to load library \" + url);};\n",
       "  document.getElementsByTagName(\"head\")[0].appendChild(s);\n",
       "}\n",
       "\n",
       "if(typeof(LDAvis) !== \"undefined\"){\n",
       "   // already loaded: just create the visualization\n",
       "   !function(LDAvis){\n",
       "       new LDAvis(\"#\" + \"ldavis_el204018593981089928582656864\", ldavis_el204018593981089928582656864_data);\n",
       "   }(LDAvis);\n",
       "}else if(typeof define === \"function\" && define.amd){\n",
       "   // require.js is available: use it to load d3/LDAvis\n",
       "   require.config({paths: {d3: \"https://cdnjs.cloudflare.com/ajax/libs/d3/3.5.5/d3.min\"}});\n",
       "   require([\"d3\"], function(d3){\n",
       "      window.d3 = d3;\n",
       "      LDAvis_load_lib(\"https://cdn.rawgit.com/bmabey/pyLDAvis/files/ldavis.v1.0.0.js\", function(){\n",
       "        new LDAvis(\"#\" + \"ldavis_el204018593981089928582656864\", ldavis_el204018593981089928582656864_data);\n",
       "      });\n",
       "    });\n",
       "}else{\n",
       "    // require.js not available: dynamically load d3 & LDAvis\n",
       "    LDAvis_load_lib(\"https://cdnjs.cloudflare.com/ajax/libs/d3/3.5.5/d3.min.js\", function(){\n",
       "         LDAvis_load_lib(\"https://cdn.rawgit.com/bmabey/pyLDAvis/files/ldavis.v1.0.0.js\", function(){\n",
       "                 new LDAvis(\"#\" + \"ldavis_el204018593981089928582656864\", ldavis_el204018593981089928582656864_data);\n",
       "            })\n",
       "         });\n",
       "}\n",
       "</script>"
      ],
      "text/plain": [
       "PreparedData(topic_coordinates=              x         y  topics  cluster       Freq\n",
       "topic                                                \n",
       "3     -0.241458 -0.064008       1        1  46.673155\n",
       "2     -0.172900  0.242454       2        1  27.990282\n",
       "0      0.068529 -0.317985       3        1  18.124747\n",
       "1      0.345829  0.139539       4        1   7.211816, topic_info=         Term          Freq         Total Category  logprob  loglift\n",
       "53       game  42633.000000  42633.000000  Default  30.0000  30.0000\n",
       "51        fun  16605.000000  16605.000000  Default  29.0000  29.0000\n",
       "116      play  10321.000000  10321.000000  Default  28.0000  28.0000\n",
       "93       more   5916.000000   5916.000000  Default  27.0000  27.0000\n",
       "46       fall   4357.000000   4357.000000  Default  26.0000  26.0000\n",
       "...       ...           ...           ...      ...      ...      ...\n",
       "1961    human    251.964225    252.669503   Topic4  -5.2171   2.6267\n",
       "269   believe    248.244149    248.960917   Topic4  -5.2320   2.6266\n",
       "1314  imagine    244.232591    244.938006   Topic4  -5.2483   2.6266\n",
       "1764   winner    237.278105    237.989259   Topic4  -5.2772   2.6265\n",
       "367      show    979.075718    990.260116   Topic4  -3.8598   2.6181\n",
       "\n",
       "[187 rows x 6 columns], token_table=      Topic      Freq   Term\n",
       "term                        \n",
       "0         2  0.999776      1\n",
       "403       3  0.999793     10\n",
       "233       2  0.999428      2\n",
       "1797      4  0.997403   2020\n",
       "171       2  0.999339      3\n",
       "...     ...       ...    ...\n",
       "621       1  0.999818  worth\n",
       "169       1  0.994112  would\n",
       "169       2  0.005862  would\n",
       "1690      4  0.997912   year\n",
       "788       4  0.999570    yes\n",
       "\n",
       "[197 rows x 3 columns], R=30, lambda_step=0.01, plot_opts={'xlab': 'PC1', 'ylab': 'PC2'}, topic_order=[4, 3, 1, 2])"
      ]
     },
     "execution_count": 44,
     "metadata": {},
     "output_type": "execute_result"
    }
   ],
   "source": [
    "# visualize the topics using pyLDAvis\n",
    "\n",
    "pyLDAvis.enable_notebook()\n",
    "vis = pyLDAvis.gensim.prepare(fallguys_pos_lda_model, fallguys_pos_corpus, fallguys_pos_id2word)\n",
    "vis"
   ]
  },
  {
   "cell_type": "markdown",
   "id": "political-electric",
   "metadata": {},
   "source": [
    "**Topic Interpretation**\n",
    "\n",
    "- **1**: overall positive sentiments about the game\n",
    "- **2**: suggestions to developers for improvements (add, new, level, release, mode)\n",
    "- **3**: gameplay terms (physics, grab, crown, currency)\n",
    "- **4**: comparisons with similar popular TV shows/games (takeshi's castle, MXC, wipeout, mario party), nature of the game (indie, addictive)"
   ]
  },
  {
   "cell_type": "code",
   "execution_count": 45,
   "id": "possible-glory",
   "metadata": {
    "ExecuteTime": {
     "end_time": "2021-01-27T05:55:36.421352Z",
     "start_time": "2021-01-27T05:48:30.447732Z"
    }
   },
   "outputs": [
    {
     "name": "stdout",
     "output_type": "stream",
     "text": [
      "Coherence value for 2 topics: 0.3573\n",
      "Coherence value for 3 topics: 0.4030\n",
      "Coherence value for 4 topics: 0.4093\n",
      "Coherence value for 5 topics: 0.3585\n",
      "Coherence value for 6 topics: 0.3948\n",
      "Coherence value for 7 topics: 0.3550\n"
     ]
    },
    {
     "data": {
      "image/png": "[encoded data removed]",
      "text/plain": [
       "<Figure size 432x288 with 1 Axes>"
      ]
     },
     "metadata": {
      "needs_background": "light"
     },
     "output_type": "display_data"
    }
   ],
   "source": [
    "display_coherence_values(fallguys_pos_id2word, fallguys_pos_corpus, fallguys_pos_processed_text, start=2, limit=8, step=1)"
   ]
  },
  {
   "cell_type": "markdown",
   "id": "furnished-metabolism",
   "metadata": {},
   "source": [
    "### Negative"
   ]
  },
  {
   "cell_type": "code",
   "execution_count": 46,
   "id": "sensitive-aviation",
   "metadata": {
    "ExecuteTime": {
     "end_time": "2021-01-27T05:55:45.536485Z",
     "start_time": "2021-01-27T05:55:36.422351Z"
    }
   },
   "outputs": [],
   "source": [
    "fallguys_neg_processed_text, fallguys_neg_id2word, fallguys_neg_corpus = build_bigrams_trigrams(0, fallguys_ml)"
   ]
  },
  {
   "cell_type": "code",
   "execution_count": 47,
   "id": "blank-issue",
   "metadata": {
    "ExecuteTime": {
     "end_time": "2021-01-27T05:56:11.821359Z",
     "start_time": "2021-01-27T05:55:45.537417Z"
    }
   },
   "outputs": [],
   "source": [
    "# build LDA model\n",
    "\n",
    "fallguys_neg_lda_model = gensim.models.ldamodel.LdaModel(corpus=fallguys_neg_corpus,\n",
    "                                                          id2word=fallguys_neg_id2word,\n",
    "                                                          num_topics=5, \n",
    "                                                          random_state=42,\n",
    "                                                          update_every=1,\n",
    "                                                          chunksize=100,\n",
    "                                                          passes=10,\n",
    "                                                          alpha='auto',\n",
    "                                                          iterations=100,\n",
    "                                                          per_word_topics=True)"
   ]
  },
  {
   "cell_type": "code",
   "execution_count": 48,
   "id": "confident-detail",
   "metadata": {
    "ExecuteTime": {
     "end_time": "2021-01-27T05:56:44.782115Z",
     "start_time": "2021-01-27T05:56:11.822287Z"
    }
   },
   "outputs": [
    {
     "data": {
      "text/html": [
       "<div>\n",
       "<style scoped>\n",
       "    .dataframe tbody tr th:only-of-type {\n",
       "        vertical-align: middle;\n",
       "    }\n",
       "\n",
       "    .dataframe tbody tr th {\n",
       "        vertical-align: top;\n",
       "    }\n",
       "\n",
       "    .dataframe thead th {\n",
       "        text-align: right;\n",
       "    }\n",
       "</style>\n",
       "<table border=\"1\" class=\"dataframe\">\n",
       "  <thead>\n",
       "    <tr style=\"text-align: right;\">\n",
       "      <th></th>\n",
       "      <th>Document_No</th>\n",
       "      <th>Dominant_Topic</th>\n",
       "      <th>Percentage_Contribution</th>\n",
       "      <th>Keywords</th>\n",
       "      <th>Text</th>\n",
       "    </tr>\n",
       "  </thead>\n",
       "  <tbody>\n",
       "    <tr>\n",
       "      <th>0</th>\n",
       "      <td>0</td>\n",
       "      <td>4.0</td>\n",
       "      <td>0.5772</td>\n",
       "      <td>game, get, not, play, fun, server, time, no, m...</td>\n",
       "      <td>[lazy, devs, take, away, steam, name, prevent,...</td>\n",
       "    </tr>\n",
       "    <tr>\n",
       "      <th>1</th>\n",
       "      <td>1</td>\n",
       "      <td>4.0</td>\n",
       "      <td>0.7710</td>\n",
       "      <td>game, get, not, play, fun, server, time, no, m...</td>\n",
       "      <td>[game, bad, literally, new, game, hard, never,...</td>\n",
       "    </tr>\n",
       "    <tr>\n",
       "      <th>2</th>\n",
       "      <td>2</td>\n",
       "      <td>4.0</td>\n",
       "      <td>0.7435</td>\n",
       "      <td>game, get, not, play, fun, server, time, no, m...</td>\n",
       "      <td>[game, suck, dead, playerbase, only, 10k, most...</td>\n",
       "    </tr>\n",
       "    <tr>\n",
       "      <th>3</th>\n",
       "      <td>3</td>\n",
       "      <td>4.0</td>\n",
       "      <td>0.6749</td>\n",
       "      <td>game, get, not, play, fun, server, time, no, m...</td>\n",
       "      <td>[steam, name, censor, game, keep, freeze, rand...</td>\n",
       "    </tr>\n",
       "    <tr>\n",
       "      <th>4</th>\n",
       "      <td>4</td>\n",
       "      <td>4.0</td>\n",
       "      <td>0.7185</td>\n",
       "      <td>game, get, not, play, fun, server, time, no, m...</td>\n",
       "      <td>[fun, first, hour, there's, not, much, more, s...</td>\n",
       "    </tr>\n",
       "    <tr>\n",
       "      <th>5</th>\n",
       "      <td>5</td>\n",
       "      <td>4.0</td>\n",
       "      <td>0.6748</td>\n",
       "      <td>game, get, not, play, fun, server, time, no, m...</td>\n",
       "      <td>[okay, play, couple, hour, quit, forever, buy,...</td>\n",
       "    </tr>\n",
       "    <tr>\n",
       "      <th>6</th>\n",
       "      <td>6</td>\n",
       "      <td>4.0</td>\n",
       "      <td>0.7642</td>\n",
       "      <td>game, get, not, play, fun, server, time, no, m...</td>\n",
       "      <td>[game, move, way, slow, take, forever, find, g...</td>\n",
       "    </tr>\n",
       "    <tr>\n",
       "      <th>7</th>\n",
       "      <td>7</td>\n",
       "      <td>4.0</td>\n",
       "      <td>0.6869</td>\n",
       "      <td>game, get, not, play, fun, server, time, no, m...</td>\n",
       "      <td>[fun, little, take, way, long, add, new, level...</td>\n",
       "    </tr>\n",
       "    <tr>\n",
       "      <th>8</th>\n",
       "      <td>8</td>\n",
       "      <td>4.0</td>\n",
       "      <td>0.7045</td>\n",
       "      <td>game, get, not, play, fun, server, time, no, m...</td>\n",
       "      <td>[personally, like, game, get, boring, time, ge...</td>\n",
       "    </tr>\n",
       "    <tr>\n",
       "      <th>9</th>\n",
       "      <td>9</td>\n",
       "      <td>4.0</td>\n",
       "      <td>0.7156</td>\n",
       "      <td>game, get, not, play, fun, server, time, no, m...</td>\n",
       "      <td>[played, first, season, kept, think, man, game...</td>\n",
       "    </tr>\n",
       "    <tr>\n",
       "      <th>10</th>\n",
       "      <td>10</td>\n",
       "      <td>4.0</td>\n",
       "      <td>0.6517</td>\n",
       "      <td>game, get, not, play, fun, server, time, no, m...</td>\n",
       "      <td>[hell, happen, season, 1, legit, seem, like, m...</td>\n",
       "    </tr>\n",
       "    <tr>\n",
       "      <th>11</th>\n",
       "      <td>11</td>\n",
       "      <td>4.0</td>\n",
       "      <td>0.6220</td>\n",
       "      <td>game, get, not, play, fun, server, time, no, m...</td>\n",
       "      <td>[most, garbage, sh, i've, ever, spent, money, ...</td>\n",
       "    </tr>\n",
       "    <tr>\n",
       "      <th>12</th>\n",
       "      <td>12</td>\n",
       "      <td>4.0</td>\n",
       "      <td>0.6160</td>\n",
       "      <td>game, get, not, play, fun, server, time, no, m...</td>\n",
       "      <td>[game, annoy, best, spend, more, time, wait, j...</td>\n",
       "    </tr>\n",
       "    <tr>\n",
       "      <th>13</th>\n",
       "      <td>13</td>\n",
       "      <td>4.0</td>\n",
       "      <td>0.6165</td>\n",
       "      <td>game, get, not, play, fun, server, time, no, m...</td>\n",
       "      <td>[game, great, 1st, season, every, passing, upd...</td>\n",
       "    </tr>\n",
       "    <tr>\n",
       "      <th>14</th>\n",
       "      <td>14</td>\n",
       "      <td>4.0</td>\n",
       "      <td>0.5844</td>\n",
       "      <td>game, get, not, play, fun, server, time, no, m...</td>\n",
       "      <td>[devs, take, long, implement, meaningful, cont...</td>\n",
       "    </tr>\n",
       "  </tbody>\n",
       "</table>\n",
       "</div>"
      ],
      "text/plain": [
       "    Document_No  Dominant_Topic  Percentage_Contribution  \\\n",
       "0             0             4.0                   0.5772   \n",
       "1             1             4.0                   0.7710   \n",
       "2             2             4.0                   0.7435   \n",
       "3             3             4.0                   0.6749   \n",
       "4             4             4.0                   0.7185   \n",
       "5             5             4.0                   0.6748   \n",
       "6             6             4.0                   0.7642   \n",
       "7             7             4.0                   0.6869   \n",
       "8             8             4.0                   0.7045   \n",
       "9             9             4.0                   0.7156   \n",
       "10           10             4.0                   0.6517   \n",
       "11           11             4.0                   0.6220   \n",
       "12           12             4.0                   0.6160   \n",
       "13           13             4.0                   0.6165   \n",
       "14           14             4.0                   0.5844   \n",
       "\n",
       "                                             Keywords  \\\n",
       "0   game, get, not, play, fun, server, time, no, m...   \n",
       "1   game, get, not, play, fun, server, time, no, m...   \n",
       "2   game, get, not, play, fun, server, time, no, m...   \n",
       "3   game, get, not, play, fun, server, time, no, m...   \n",
       "4   game, get, not, play, fun, server, time, no, m...   \n",
       "5   game, get, not, play, fun, server, time, no, m...   \n",
       "6   game, get, not, play, fun, server, time, no, m...   \n",
       "7   game, get, not, play, fun, server, time, no, m...   \n",
       "8   game, get, not, play, fun, server, time, no, m...   \n",
       "9   game, get, not, play, fun, server, time, no, m...   \n",
       "10  game, get, not, play, fun, server, time, no, m...   \n",
       "11  game, get, not, play, fun, server, time, no, m...   \n",
       "12  game, get, not, play, fun, server, time, no, m...   \n",
       "13  game, get, not, play, fun, server, time, no, m...   \n",
       "14  game, get, not, play, fun, server, time, no, m...   \n",
       "\n",
       "                                                 Text  \n",
       "0   [lazy, devs, take, away, steam, name, prevent,...  \n",
       "1   [game, bad, literally, new, game, hard, never,...  \n",
       "2   [game, suck, dead, playerbase, only, 10k, most...  \n",
       "3   [steam, name, censor, game, keep, freeze, rand...  \n",
       "4   [fun, first, hour, there's, not, much, more, s...  \n",
       "5   [okay, play, couple, hour, quit, forever, buy,...  \n",
       "6   [game, move, way, slow, take, forever, find, g...  \n",
       "7   [fun, little, take, way, long, add, new, level...  \n",
       "8   [personally, like, game, get, boring, time, ge...  \n",
       "9   [played, first, season, kept, think, man, game...  \n",
       "10  [hell, happen, season, 1, legit, seem, like, m...  \n",
       "11  [most, garbage, sh, i've, ever, spent, money, ...  \n",
       "12  [game, annoy, best, spend, more, time, wait, j...  \n",
       "13  [game, great, 1st, season, every, passing, upd...  \n",
       "14  [devs, take, long, implement, meaningful, cont...  "
      ]
     },
     "metadata": {},
     "output_type": "display_data"
    }
   ],
   "source": [
    "display_dominant_topics(fallguys_neg_lda_model, fallguys_neg_corpus, fallguys_neg_processed_text, 15)"
   ]
  },
  {
   "cell_type": "code",
   "execution_count": 49,
   "id": "matched-sodium",
   "metadata": {
    "ExecuteTime": {
     "end_time": "2021-01-27T05:57:17.364713Z",
     "start_time": "2021-01-27T05:56:44.784109Z"
    }
   },
   "outputs": [
    {
     "data": {
      "text/html": [
       "<div>\n",
       "<style scoped>\n",
       "    .dataframe tbody tr th:only-of-type {\n",
       "        vertical-align: middle;\n",
       "    }\n",
       "\n",
       "    .dataframe tbody tr th {\n",
       "        vertical-align: top;\n",
       "    }\n",
       "\n",
       "    .dataframe thead th {\n",
       "        text-align: right;\n",
       "    }\n",
       "</style>\n",
       "<table border=\"1\" class=\"dataframe\">\n",
       "  <thead>\n",
       "    <tr style=\"text-align: right;\">\n",
       "      <th></th>\n",
       "      <th>Topic_Num</th>\n",
       "      <th>Topic_Percentage_Contribution</th>\n",
       "      <th>Keywords</th>\n",
       "      <th>Representative Text</th>\n",
       "    </tr>\n",
       "  </thead>\n",
       "  <tbody>\n",
       "    <tr>\n",
       "      <th>0</th>\n",
       "      <td>0.0</td>\n",
       "      <td>0.5828</td>\n",
       "      <td>review, launch, use, name, remove, developer, ...</td>\n",
       "      <td>[arreglen, lo, servidores, la, calcada, concha...</td>\n",
       "    </tr>\n",
       "    <tr>\n",
       "      <th>1</th>\n",
       "      <td>2.0</td>\n",
       "      <td>0.4238</td>\n",
       "      <td>fall, grab, guy, tail, race, last, player, sea...</td>\n",
       "      <td>[fall, ball, fall, ball, fall, ball, fall, bal...</td>\n",
       "    </tr>\n",
       "    <tr>\n",
       "      <th>2</th>\n",
       "      <td>4.0</td>\n",
       "      <td>0.8624</td>\n",
       "      <td>game, get, not, play, fun, server, time, no, m...</td>\n",
       "      <td>[game, fun, work, disconnect, every, game, not...</td>\n",
       "    </tr>\n",
       "  </tbody>\n",
       "</table>\n",
       "</div>"
      ],
      "text/plain": [
       "   Topic_Num  Topic_Percentage_Contribution  \\\n",
       "0        0.0                         0.5828   \n",
       "1        2.0                         0.4238   \n",
       "2        4.0                         0.8624   \n",
       "\n",
       "                                            Keywords  \\\n",
       "0  review, launch, use, name, remove, developer, ...   \n",
       "1  fall, grab, guy, tail, race, last, player, sea...   \n",
       "2  game, get, not, play, fun, server, time, no, m...   \n",
       "\n",
       "                                 Representative Text  \n",
       "0  [arreglen, lo, servidores, la, calcada, concha...  \n",
       "1  [fall, ball, fall, ball, fall, ball, fall, bal...  \n",
       "2  [game, fun, work, disconnect, every, game, not...  "
      ]
     },
     "metadata": {},
     "output_type": "display_data"
    }
   ],
   "source": [
    "display_representative_docs(fallguys_neg_lda_model, fallguys_neg_corpus, fallguys_neg_processed_text)"
   ]
  },
  {
   "cell_type": "code",
   "execution_count": 50,
   "id": "minimal-margin",
   "metadata": {
    "ExecuteTime": {
     "end_time": "2021-01-27T05:57:28.727651Z",
     "start_time": "2021-01-27T05:57:17.366708Z"
    }
   },
   "outputs": [
    {
     "name": "stdout",
     "output_type": "stream",
     "text": [
      "Perplexity: -6.9974\n",
      "Coherence Score: 0.3869\n"
     ]
    }
   ],
   "source": [
    "compute_perp_coherence(ldamodel=fallguys_neg_lda_model, \n",
    "                       dictionary=fallguys_neg_id2word,\n",
    "                       corpus=fallguys_neg_corpus, \n",
    "                       texts=fallguys_neg_processed_text)"
   ]
  },
  {
   "cell_type": "code",
   "execution_count": 51,
   "id": "common-shame",
   "metadata": {
    "ExecuteTime": {
     "end_time": "2021-01-27T05:57:35.388832Z",
     "start_time": "2021-01-27T05:57:28.730632Z"
    }
   },
   "outputs": [
    {
     "data": {
      "text/html": [
       "\n",
       "<link rel=\"stylesheet\" type=\"text/css\" href=\"https://cdn.rawgit.com/bmabey/pyLDAvis/files/ldavis.v1.0.0.css\">\n",
       "\n",
       "\n",
       "<div id=\"ldavis_el204018591569592965745326640\"></div>\n",
       "<script type=\"text/javascript\">\n",
       "\n",
       "var ldavis_el204018591569592965745326640_data = {\"mdsDat\": {\"x\": [-0.34542944507237117, -0.13482688408589355, 0.10270489738455657, 0.18283058009240905, 0.19472085168129893], \"y\": [0.1509604100391852, -0.29660316018476385, 0.1558200225541868, 0.15690655101950488, -0.16708382342811276], \"topics\": [1, 2, 3, 4, 5], \"cluster\": [1, 1, 1, 1, 1], \"Freq\": [65.1981867536227, 11.95228918384143, 8.987431726371408, 8.124540760037036, 5.737551576127417]}, \"tinfo\": {\"Term\": [\"game\", \"team\", \"player\", \"review\", \"fall\", \"like\", \"get\", \"grab\", \"mode\", \"feel\", \"launch\", \"play\", \"guy\", \"content\", \"20\", \"fun\", \"tail\", \"worth\", \"level\", \"enough\", \"server\", \"base\", \"not\", \"think\", \"use\", \"time\", \"free\", \"race\", \"isn't\", \"name\", \"game\", \"get\", \"play\", \"fun\", \"server\", \"time\", \"no\", \"even\", \"issue\", \"don't\", \"fix\", \"hour\", \"bad\", \"need\", \"round\", \"recommend\", \"2\", \"still\", \"can't\", \"first\", \"match\", \"work\", \"way\", \"many\", \"played\", \"3\", \"day\", \"1\", \"every\", \"say\", \"one\", \"make\", \"people\", \"only\", \"go\", \"also\", \"not\", \"map\", \"lot\", \"see\", \"would\", \"more\", \"really\", \"like\", \"mode\", \"content\", \"20\", \"worth\", \"enough\", \"free\", \"level\", \"isn't\", \"price\", \"think\", \"boring\", \"something\", \"least\", \"lack\", \"cosmetic\", \"full\", \"mini\", \"beta\", \"little\", \"solo\", \"stage\", \"variety\", \"design\", \"quickly\", \"overall\", \"probably\", \"fast\", \"queue\", \"sale\", \"i'd\", \"feel\", \"gameplay\", \"maybe\", \"like\", \"base\", \"luck\", \"minigames\", \"random\", \"control\", \"often\", \"physic\", \"skill\", \"character\", \"rng\", \"couple\", \"mechanic\", \"awful\", \"controller\", \"force\", \"style\", \"buggy\", \"longer\", \"fair\", \"competitive\", \"balance\", \"con\", \"early\", \"game's\", \"spectate\", \"teammate\", \"mind\", \"large\", \"pro\", \"certain\", \"pas\", \"rather\", \"team\", \"jump\", \"player\", \"easy\", \"most\", \"grab\", \"tail\", \"race\", \"crown\", \"eliminate\", \"another\", \"ball\", \"store\", \"fall\", \"everyone\", \"show\", \"yet\", \"skin\", \"currency\", \"course\", \"costume\", \"screen\", \"move\", \"away\", \"finish\", \"50\", \"fine\", \"they're\", \"join\", \"others\", \"help\", \"do\", \"push\", \"minigame\", \"stand\", \"guy\", \"earn\", \"season\", \"last\", \"next\", \"player\", \"second\", \"review\", \"name\", \"remove\", \"positive\", \"cheat\", \"60\", \"support\", \"expect\", \"negative\", \"anti_cheat\", \"dlc\", \"option\", \"microtransactions\", \"feature\", \"ban\", \"poor\", \"imagine\", \"write\", \"avoid\", \"event\", \"main\", \"straight\", \"mediatonic\", \"online\", \"report\", \"discord\", \"implement\", \"user\", \"handle\", \"mario_party\", \"developer\", \"use\", \"launch\", \"number\"], \"Freq\": [24338.0, 4066.0, 2611.0, 1216.0, 1360.0, 3207.0, 6597.0, 1107.0, 1250.0, 1420.0, 899.0, 5433.0, 874.0, 1016.0, 977.0, 4880.0, 750.0, 883.0, 857.0, 849.0, 4045.0, 664.0, 6109.0, 722.0, 506.0, 3290.0, 650.0, 527.0, 616.0, 451.0, 24336.64183718293, 6596.683984302114, 5433.072408854124, 4879.510307030857, 4044.63622256122, 3289.6401445752385, 2969.808772064865, 2322.2247530811064, 2239.099902360163, 1901.5854642132836, 1717.7698524995126, 1653.4364218655876, 1644.2901002387812, 1659.0099670227587, 1610.4655902972818, 1454.2933298939263, 1402.4309376248414, 1347.9935536286034, 1297.3868265495712, 1279.374593621341, 1212.9842429121027, 1184.900807988427, 1163.2692368430837, 1104.1391681432044, 1098.1144477406197, 1090.0932335503915, 1094.5278067307925, 1074.2218011656362, 1060.875679239013, 1062.4744917988166, 2238.786101600485, 2556.879785073465, 1955.2051869517004, 2113.888546659491, 1801.5049740645727, 1560.0698353048372, 5912.849276381097, 2570.980715675706, 1402.8565790087348, 1476.0633153655192, 1885.8084262396687, 2681.7380571505814, 2057.8413740091305, 2281.4535308142563, 1250.1896056187745, 1015.931338324502, 977.2504268389303, 882.7529293253382, 849.006945707165, 649.5215858856312, 856.1931251762066, 615.920266278816, 546.1260020136854, 721.903408512631, 494.30900523789944, 480.9135413996485, 467.1638943113348, 438.3600399901152, 440.30612042402095, 432.1824419109486, 408.764918006185, 408.28792920153154, 484.35785807182987, 371.52746953291927, 365.42959551506334, 346.53207005127007, 330.84055748340785, 321.17873834005434, 317.16764798120687, 295.7903526114451, 283.0207141822126, 283.4633267510777, 268.83610074876725, 257.80495095617556, 1314.901058542524, 498.6327859041669, 531.8995779274699, 908.6890049522924, 663.8062727460454, 470.03174688091764, 460.17359930420736, 403.7169539878733, 395.60328373868714, 399.59829162571083, 391.2047583629829, 378.368455503539, 341.03757718127537, 307.0017625325633, 270.0780966807205, 239.3507559410143, 234.96583192050957, 193.41270433418978, 188.96616012250627, 179.49759421972297, 171.55217305288681, 156.2950678676233, 152.23730899759508, 149.91146133184463, 149.7947827274054, 145.9761305852569, 147.28966474066553, 146.10556643268768, 138.91632646434616, 136.21402068050523, 129.0296064857298, 129.47742393868108, 126.65514273479634, 127.19641774314613, 127.56210944892416, 235.83023467471875, 2674.1008414982507, 266.1486428662974, 1336.0727795458904, 204.9213938836626, 165.81765695171399, 1107.0035934722684, 749.4925145868198, 527.2104952253272, 417.4047110536508, 399.8309606910715, 397.6903382122221, 389.1192385830613, 399.1271813797242, 1358.6544118970228, 370.56003593243173, 374.5753299994302, 357.4906632096684, 337.9694762198755, 309.6749909051123, 300.0774060711355, 276.48751023497545, 264.1685647710404, 259.5400805549015, 237.18403732712804, 237.2220611633309, 235.32311536547405, 235.36596236908622, 229.01330378548298, 226.58532131164202, 217.01784168080803, 203.79611445796954, 189.49248599640939, 184.3292204959392, 184.4047354603027, 181.99315175565337, 863.8444291908107, 194.3059350833162, 450.7247640387274, 509.0209055709111, 277.3625047905955, 475.0015652990595, 253.03076261434134, 1215.7718051886475, 450.9867759321658, 417.23282504460525, 390.5213096626384, 354.1323832959145, 354.4644547090768, 345.57104135218606, 326.489990199292, 317.13769603962, 279.90679680933323, 288.5970833232308, 280.2481003364927, 261.72740190013866, 216.7270686895513, 192.60324978885416, 192.38548170780365, 141.36757932058543, 135.76286255459306, 135.06943725215385, 131.624465780046, 122.89338715011637, 121.18012844429651, 119.82819312517435, 119.15426913842545, 278.6830129933187, 115.94311010407262, 113.75853571064911, 113.38829540327343, 109.84011337038758, 109.51759943206835, 406.1173597918747, 498.46347120962827, 693.6362176074447, 220.0218149586747], \"Total\": [24338.0, 4066.0, 2611.0, 1216.0, 1360.0, 3207.0, 6597.0, 1107.0, 1250.0, 1420.0, 899.0, 5433.0, 874.0, 1016.0, 977.0, 4880.0, 750.0, 883.0, 857.0, 849.0, 4045.0, 664.0, 6109.0, 722.0, 506.0, 3290.0, 650.0, 527.0, 616.0, 451.0, 24338.860149770167, 6597.373788880211, 5433.674770637452, 4880.111739490758, 4045.2379996718414, 3290.2424572362625, 2970.414450129278, 2322.82874659927, 2239.7017922596683, 1902.1882058976894, 1718.370128692592, 1654.0390825211352, 1644.891900062157, 1659.6191654421762, 1611.0675571749507, 1454.8931171670913, 1403.0341522645529, 1348.596311452748, 1297.9886036547205, 1279.9779096452066, 1213.5870187142818, 1185.5019081713392, 1163.8719236845789, 1104.7418809850499, 1098.7172683926613, 1090.6961767614873, 1095.1343358413055, 1074.8275823883005, 1061.475559135568, 1063.080721087299, 2241.516243882742, 2564.5154132702755, 1957.866106562909, 2120.5544723930816, 1806.0147512532535, 1563.7256888001302, 6109.772861261768, 2631.5326415062964, 1409.3596373380278, 1496.9576270458342, 1951.1519972598621, 2941.2525447699923, 2190.4755808401496, 3207.676256272821, 1250.8164370889208, 1016.5546988084269, 977.8700192559573, 883.3723307002546, 849.6335945243133, 650.1503629871239, 857.0331594404872, 616.565122535556, 546.7476165107634, 722.750665661634, 494.9297864038568, 481.53854112227714, 467.79122945494436, 438.9832838807784, 440.9367595200381, 432.80608774732093, 409.3856928242276, 408.9257667482694, 485.14479312001515, 372.1531406544966, 366.05322938211094, 347.1585338779979, 331.4670840636548, 321.80010268294205, 317.79357014481195, 296.41101601086615, 283.64197438433456, 284.08880631222456, 269.45856438043813, 258.4299493920139, 1420.6152372450576, 516.0044023171483, 560.8895034986414, 3207.676256272821, 664.4330965454075, 470.65734103721303, 460.8023511736374, 404.34634842389926, 396.22846786035484, 400.2333842568388, 391.8316786195532, 378.99310045875495, 341.66696010967223, 307.6266063616616, 270.7104530328994, 239.9760114430231, 235.59923966915508, 194.06028054782377, 189.59950942994018, 180.141320758249, 172.19073271692642, 156.93342043759887, 152.8685111135775, 150.5395826179421, 150.4226005005347, 146.60580312178726, 147.92945406156932, 146.7432753668374, 139.54866495730798, 136.8427998518494, 129.66077562632967, 130.119963222368, 127.28370597034854, 127.83072722200899, 128.20349847826182, 247.9943148260359, 4066.9755042415036, 298.63933106975344, 2611.054545881353, 304.79200129322317, 1044.316135713796, 1107.6187444142977, 750.1062751269511, 527.83374007913, 418.0175779474181, 400.4505554715857, 398.31001069499354, 389.7317115928659, 399.7644994709184, 1360.9158135056075, 371.1793551702585, 375.20247636801497, 358.1134078053766, 338.5951941125332, 310.30480876239216, 300.7002470890969, 277.1238814969996, 264.7871477965088, 260.16185362389365, 237.80120656590833, 237.84444792842993, 235.94320702396948, 235.99116816235835, 229.63810150420082, 227.20783587653796, 217.6332903765233, 204.4203359359099, 190.11428148687835, 184.9452702842873, 185.0262580440008, 182.61146167457872, 874.5850148235786, 195.05818985882638, 467.1115957854264, 551.061342780386, 306.1618591393376, 2611.054545881353, 454.28953483749456, 1216.39597942602, 451.59850124979386, 417.8545427659843, 391.14770046394756, 354.74262692133294, 355.09671695001913, 346.19065667331375, 327.1124563611723, 317.7597267626468, 280.5189132777113, 289.2369643791872, 280.8713570971874, 262.35637259546, 217.35273506620936, 193.21325684449224, 193.0058019600709, 141.9997326626402, 136.38919617375763, 135.6942179158057, 132.2486116454975, 123.52056157893844, 121.80099721080964, 120.44872746487528, 119.7719764812915, 280.1596365441631, 116.55836263937192, 114.37706841466351, 114.0067348564613, 110.46020426506074, 110.14959702782862, 408.6406468271824, 506.5096187775266, 899.5852785536615, 267.1016992520316], \"Category\": [\"Default\", \"Default\", \"Default\", \"Default\", \"Default\", \"Default\", \"Default\", \"Default\", \"Default\", \"Default\", \"Default\", \"Default\", \"Default\", \"Default\", \"Default\", \"Default\", \"Default\", \"Default\", \"Default\", \"Default\", \"Default\", \"Default\", \"Default\", \"Default\", \"Default\", \"Default\", \"Default\", \"Default\", \"Default\", \"Default\", \"Topic1\", \"Topic1\", \"Topic1\", \"Topic1\", \"Topic1\", \"Topic1\", \"Topic1\", \"Topic1\", \"Topic1\", \"Topic1\", \"Topic1\", \"Topic1\", \"Topic1\", \"Topic1\", \"Topic1\", \"Topic1\", \"Topic1\", \"Topic1\", \"Topic1\", \"Topic1\", \"Topic1\", \"Topic1\", \"Topic1\", \"Topic1\", \"Topic1\", \"Topic1\", \"Topic1\", \"Topic1\", \"Topic1\", \"Topic1\", \"Topic1\", \"Topic1\", \"Topic1\", \"Topic1\", \"Topic1\", \"Topic1\", \"Topic1\", \"Topic1\", \"Topic1\", \"Topic1\", \"Topic1\", \"Topic1\", \"Topic1\", \"Topic1\", \"Topic2\", \"Topic2\", \"Topic2\", \"Topic2\", \"Topic2\", \"Topic2\", \"Topic2\", \"Topic2\", \"Topic2\", \"Topic2\", \"Topic2\", \"Topic2\", \"Topic2\", \"Topic2\", \"Topic2\", \"Topic2\", \"Topic2\", \"Topic2\", \"Topic2\", \"Topic2\", \"Topic2\", \"Topic2\", \"Topic2\", \"Topic2\", \"Topic2\", \"Topic2\", \"Topic2\", \"Topic2\", \"Topic2\", \"Topic2\", \"Topic2\", \"Topic2\", \"Topic2\", \"Topic2\", \"Topic3\", \"Topic3\", \"Topic3\", \"Topic3\", \"Topic3\", \"Topic3\", \"Topic3\", \"Topic3\", \"Topic3\", \"Topic3\", \"Topic3\", \"Topic3\", \"Topic3\", \"Topic3\", \"Topic3\", \"Topic3\", \"Topic3\", \"Topic3\", \"Topic3\", \"Topic3\", \"Topic3\", \"Topic3\", \"Topic3\", \"Topic3\", \"Topic3\", \"Topic3\", \"Topic3\", \"Topic3\", \"Topic3\", \"Topic3\", \"Topic3\", \"Topic3\", \"Topic3\", \"Topic3\", \"Topic3\", \"Topic3\", \"Topic3\", \"Topic4\", \"Topic4\", \"Topic4\", \"Topic4\", \"Topic4\", \"Topic4\", \"Topic4\", \"Topic4\", \"Topic4\", \"Topic4\", \"Topic4\", \"Topic4\", \"Topic4\", \"Topic4\", \"Topic4\", \"Topic4\", \"Topic4\", \"Topic4\", \"Topic4\", \"Topic4\", \"Topic4\", \"Topic4\", \"Topic4\", \"Topic4\", \"Topic4\", \"Topic4\", \"Topic4\", \"Topic4\", \"Topic4\", \"Topic4\", \"Topic4\", \"Topic4\", \"Topic4\", \"Topic4\", \"Topic4\", \"Topic4\", \"Topic4\", \"Topic5\", \"Topic5\", \"Topic5\", \"Topic5\", \"Topic5\", \"Topic5\", \"Topic5\", \"Topic5\", \"Topic5\", \"Topic5\", \"Topic5\", \"Topic5\", \"Topic5\", \"Topic5\", \"Topic5\", \"Topic5\", \"Topic5\", \"Topic5\", \"Topic5\", \"Topic5\", \"Topic5\", \"Topic5\", \"Topic5\", \"Topic5\", \"Topic5\", \"Topic5\", \"Topic5\", \"Topic5\", \"Topic5\", \"Topic5\", \"Topic5\", \"Topic5\", \"Topic5\", \"Topic5\"], \"logprob\": [30.0, 29.0, 28.0, 27.0, 26.0, 25.0, 24.0, 23.0, 22.0, 21.0, 20.0, 19.0, 18.0, 17.0, 16.0, 15.0, 14.0, 13.0, 12.0, 11.0, 10.0, 9.0, 8.0, 7.0, 6.0, 5.0, 4.0, 3.0, 2.0, 1.0, -2.321899890899658, -3.6273000240325928, -3.8213999271392822, -3.928800106048584, -4.116499900817871, -4.3231000900268555, -4.4253997802734375, -4.67140007019043, -4.707799911499023, -4.871200084686279, -4.972899913787842, -5.011000156402588, -5.016600131988525, -5.007699966430664, -5.037399768829346, -5.139400005340576, -5.1757001876831055, -5.2153000831604, -5.253499984741211, -5.267499923706055, -5.320799827575684, -5.344200134277344, -5.36269998550415, -5.41480016708374, -5.420300006866455, -5.427599906921387, -5.423600196838379, -5.442299842834473, -5.454800128936768, -5.4532999992370605, -4.708000183105469, -4.575099945068359, -4.843400001525879, -4.765399932861328, -4.925300121307373, -5.069200038909912, -3.736799955368042, -4.5696001052856445, -5.1753997802734375, -5.124499797821045, -4.879499912261963, -4.527400016784668, -4.792200088500977, -4.6890997886657715, -3.594099998474121, -3.8015999794006348, -3.840399980545044, -3.9421000480651855, -3.981100082397461, -4.248899936676025, -3.972599983215332, -4.302000045776367, -4.422299861907959, -4.143199920654297, -4.521999835968018, -4.549499988555908, -4.578499794006348, -4.642099857330322, -4.637700080871582, -4.656300067901611, -4.711999893188477, -4.713200092315674, -4.542300224304199, -4.807499885559082, -4.824100017547607, -4.877200126647949, -4.923500061035156, -4.953100204467773, -4.965700149536133, -5.0355000495910645, -5.079599857330322, -5.078100204467773, -5.13100004196167, -5.172900199890137, -3.543600082397461, -4.513299942016602, -4.448699951171875, -3.913100004196167, -3.9421000480651855, -4.287199974060059, -4.3084001541137695, -4.439300060272217, -4.45959997177124, -4.4496002197265625, -4.470799922943115, -4.504199981689453, -4.608099937438965, -4.713200092315674, -4.841300010681152, -4.962100028991699, -4.980599880218506, -5.17519998550415, -5.198500156402588, -5.249899864196777, -5.295199871063232, -5.388299942016602, -5.414599895477295, -5.429999828338623, -5.430799961090088, -5.456600189208984, -5.4475998878479, -5.455699920654297, -5.506199836730957, -5.5258002281188965, -5.579999923706055, -5.576499938964844, -5.598599910736084, -5.594299793243408, -5.591400146484375, -4.976900100708008, -2.5487000942230225, -4.855999946594238, -3.2425999641418457, -5.117400169372559, -5.32919979095459, -3.329699993133545, -3.7197000980377197, -4.071499824523926, -4.305099964141846, -4.348100185394287, -4.353400230407715, -4.375199794769287, -4.349800109863281, -3.1249001026153564, -4.424099922180176, -4.413300037384033, -4.460000038146973, -4.516200065612793, -4.603600025177002, -4.6350998878479, -4.716899871826172, -4.762499809265137, -4.780200004577637, -4.870299816131592, -4.870100021362305, -4.8780999183654785, -4.877999782562256, -4.905300140380859, -4.915999889373779, -4.959099769592285, -5.021999835968018, -5.094799995422363, -5.122399806976318, -5.122000217437744, -5.1350998878479, -3.577699899673462, -5.069699764251709, -4.228300094604492, -4.106599807739258, -4.713799953460693, -4.17579984664917, -4.805600166320801, -2.8880999088287354, -3.8798000812530518, -3.9576001167297363, -4.023799896240234, -4.121600151062012, -4.12060022354126, -4.146100044250488, -4.202899932861328, -4.231900215148926, -4.356800079345703, -4.326200008392334, -4.355599880218506, -4.423900127410889, -4.612599849700928, -4.730599880218506, -4.731800079345703, -5.039899826049805, -5.0802998542785645, -5.0854997634887695, -5.111299991607666, -5.179900169372559, -5.193999767303467, -5.2052001953125, -5.2108001708984375, -4.361199855804443, -5.2382001876831055, -5.257199764251709, -5.26039981842041, -5.292200088500977, -5.295199871063232, -3.984600067138672, -3.7797000408172607, -3.4493000507354736, -4.597499847412109], \"loglift\": [30.0, 29.0, 28.0, 27.0, 26.0, 25.0, 24.0, 23.0, 22.0, 21.0, 20.0, 19.0, 18.0, 17.0, 16.0, 15.0, 14.0, 13.0, 12.0, 11.0, 10.0, 9.0, 8.0, 7.0, 6.0, 5.0, 4.0, 3.0, 2.0, 1.0, 0.4276, 0.4276, 0.4276, 0.4276, 0.4276, 0.4276, 0.4275, 0.4275, 0.4275, 0.4274, 0.4274, 0.4274, 0.4274, 0.4274, 0.4274, 0.4273, 0.4273, 0.4273, 0.4273, 0.4273, 0.4272, 0.4272, 0.4272, 0.4272, 0.4272, 0.4272, 0.4272, 0.4272, 0.4272, 0.4272, 0.4265, 0.4248, 0.4264, 0.4246, 0.4252, 0.4254, 0.395, 0.4045, 0.4231, 0.4137, 0.3937, 0.3354, 0.3653, 0.087, 2.1237, 2.1236, 2.1236, 2.1235, 2.1235, 2.1233, 2.1233, 2.1232, 2.1231, 2.1231, 2.123, 2.1229, 2.1229, 2.1228, 2.1228, 2.1228, 2.1227, 2.1227, 2.1226, 2.1226, 2.1225, 2.1224, 2.1224, 2.1223, 2.1223, 2.1222, 2.1221, 2.122, 2.1219, 2.1218, 2.0469, 2.09, 2.0712, 0.8629, 2.4084, 2.408, 2.408, 2.4078, 2.4078, 2.4078, 2.4077, 2.4077, 2.4075, 2.4073, 2.407, 2.4067, 2.4067, 2.406, 2.406, 2.4058, 2.4056, 2.4053, 2.4052, 2.4052, 2.4052, 2.405, 2.405, 2.405, 2.4048, 2.4047, 2.4045, 2.4044, 2.4044, 2.4044, 2.4043, 2.359, 1.9901, 2.2942, 1.7393, 2.0123, 0.5691, 2.5097, 2.5095, 2.5091, 2.5088, 2.5087, 2.5087, 2.5087, 2.5087, 2.5086, 2.5086, 2.5086, 2.5085, 2.5084, 2.5082, 2.5082, 2.508, 2.5079, 2.5079, 2.5077, 2.5077, 2.5076, 2.5076, 2.5076, 2.5075, 2.5074, 2.5072, 2.507, 2.5069, 2.5069, 2.5069, 2.4979, 2.5064, 2.4746, 2.4309, 2.4115, 0.8061, 1.9251, 2.8576, 2.8568, 2.8566, 2.8565, 2.8564, 2.8564, 2.8563, 2.8562, 2.8562, 2.856, 2.8559, 2.8559, 2.8557, 2.8553, 2.855, 2.8549, 2.8537, 2.8535, 2.8535, 2.8534, 2.853, 2.853, 2.853, 2.853, 2.8529, 2.8528, 2.8527, 2.8527, 2.8525, 2.8524, 2.8519, 2.8421, 2.5982, 2.6642]}, \"token.table\": {\"Topic\": [1, 1, 2, 1, 4, 5, 1, 2, 4, 5, 5, 4, 3, 1, 3, 4, 5, 3, 2, 2, 3, 1, 3, 3, 5, 3, 3, 2, 3, 3, 2, 4, 3, 4, 4, 4, 1, 2, 1, 5, 5, 5, 4, 1, 3, 4, 3, 5, 4, 2, 1, 5, 1, 4, 5, 3, 1, 3, 4, 2, 5, 2, 3, 4, 4, 1, 1, 3, 2, 2, 1, 1, 2, 3, 1, 2, 3, 1, 1, 2, 4, 1, 4, 5, 4, 1, 2, 5, 5, 2, 1, 4, 1, 3, 2, 3, 2, 4, 1, 5, 2, 2, 1, 2, 3, 2, 3, 1, 2, 3, 5, 1, 3, 1, 1, 4, 5, 1, 1, 2, 3, 5, 5, 3, 2, 4, 3, 2, 1, 2, 3, 1, 2, 3, 4, 5, 1, 5, 1, 4, 1, 1, 2, 1, 3, 5, 3, 1, 4, 5, 1, 2, 5, 4, 2, 3, 1, 4, 3, 1, 1, 1, 3, 4, 5, 5, 2, 3, 2, 4, 2, 2, 4, 3, 1, 3, 1, 2, 1, 5, 1, 5, 5, 3, 1, 2, 1, 4, 1, 4, 1, 4, 1, 2, 4, 1, 4, 3, 4, 2, 2, 3, 2, 4, 1, 4, 5, 3, 5, 4, 1, 2, 3, 3, 4, 2, 1, 1, 5, 5, 2, 1, 1, 2, 1, 2, 5, 4], \"Freq\": [0.9992300324239339, 0.9992629172548054, 0.999110291512343, 0.9993617133934086, 0.9960023980521988, 0.9969114979168521, 0.9976174281545576, 0.00191849505414338, 0.9992216849020374, 0.9981501665194404, 0.9948839535945707, 0.9966307716538593, 0.9974565296984974, 0.9994577758805163, 0.9971905784162187, 0.9981225248777541, 0.998896261840543, 0.9993481713243075, 0.9977361007215785, 0.9981213771540958, 0.9988923171769065, 0.9992383572152045, 0.9935013494794078, 0.9980479233067835, 0.9979065754578809, 0.996415676139401, 0.995867809398486, 0.9994543345192569, 0.9994233936254289, 0.9945363340461498, 0.9978755240977011, 0.9959444798083495, 0.9973755980792768, 0.9976712786375284, 0.9975657053647967, 0.9990177117666728, 0.999877333915202, 0.9985908583804807, 0.004894275729858603, 0.9935379731612964, 0.9952095874828005, 0.9991807258118068, 0.9941388859471072, 0.9999010582143734, 0.9937169100807843, 0.9945750042098092, 0.6725898289003361, 0.3248116734689428, 0.9988748786449925, 0.9992542732203663, 0.9996432166596513, 0.9981201190515033, 0.9995519829623254, 0.9995167964819158, 0.9965991623383977, 0.9943185741311222, 0.0007347993094621203, 0.0007347993094621203, 0.9985922615590214, 0.9977366735451337, 0.998377130768095, 0.9256552833757625, 0.07391163859654377, 0.9957999777276562, 0.9964495789757345, 0.9992359949044138, 0.9997846047912426, 0.9968380222515201, 0.9997687258276177, 0.9981375314023042, 0.9999771030876499, 0.9999235728477537, 8.217311688768161e-05, 0.994934859093343, 0.02131764758324512, 0.9670460130944832, 0.011627807772679157, 0.9999433427766605, 0.997777010818728, 0.0022148213336708727, 0.999441374193586, 0.011433994214978862, 0.9878971001741736, 0.9958337550783771, 0.9979437665338654, 0.9993717908288168, 0.998336301991989, 0.9929596158817048, 0.9967032865950325, 0.9990834341500991, 0.9996866581693626, 0.9990852609649832, 0.10715266433718917, 0.890706522302885, 0.9977600881015655, 0.9913928409243857, 0.07621656018926776, 0.923672122293745, 0.22788278653202912, 0.7714666041620888, 0.9983085842462966, 0.9987944930378636, 0.7111066759119955, 0.28338271302236034, 0.005299786712189358, 0.9976403062832997, 0.9940521245570505, 0.995487569553191, 0.004257252613912434, 0.9986033553927696, 0.9957856281392814, 0.997069460674174, 0.0027295605102538984, 0.9993284576263295, 0.9769971914649528, 0.022800401201049075, 0.9986418740343569, 0.9995162945011526, 0.051703588352264906, 0.9484934139105148, 0.9959328791359013, 0.9962745354449167, 0.9986416468868873, 0.9949038124819339, 0.9990578741978822, 0.9944534464737608, 0.9982587953998198, 0.9993472766549015, 0.9118564146315882, 0.08703774874932385, 0.0010199736181561389, 0.7938209241910964, 0.04692065776280304, 0.15895569772704704, 0.9993778733444618, 0.9986747049688218, 0.999626923179083, 0.9976091156346749, 0.09145489277701602, 0.904750189258337, 0.9998604739721556, 0.9677937517924141, 0.032079752300238996, 0.1198045541814598, 0.05615838477255928, 0.8236563099975361, 0.9994168795857143, 0.9988774366950902, 0.0008922531815052169, 0.9935546151614849, 0.9969090761504067, 0.002829448655109953, 0.996897664802161, 0.9970901033778994, 0.9975028753903034, 0.9984126916919016, 0.9985361069619104, 0.0010215203140275298, 0.997877459468098, 0.99987581688895, 0.9993471765546103, 0.30638961612728877, 0.5116706589325722, 0.1819188345755777, 0.994788747540973, 0.9996223920944125, 0.998632611303302, 0.9977710739313748, 0.9986133578421017, 0.9948889188524028, 0.996167373412707, 0.9975136655449413, 0.9984204494411345, 0.9991434362514975, 0.048388206029714075, 0.9516347185843768, 0.9395220006107811, 0.06026088633655155, 0.9993861286739535, 0.9979549276637567, 0.0035693935512454327, 0.9958608007974756, 0.999674465032179, 0.9979630943855198, 0.99933736039175, 0.9982982007586491, 0.9989834063718194, 0.9970272431911471, 0.03425305675209528, 0.9655080371996857, 0.44244910918298036, 0.5569135553397714, 0.985999852856762, 0.007348237385788876, 0.006012194224736353, 0.999941165471139, 0.9994603543932467, 0.997379634464182, 0.9982421660942554, 0.9995885009750898, 0.9988816240523095, 0.9960682894567581, 0.9971227425478836, 0.9966515701206731, 0.999557828055969, 0.9980876254096345, 0.9934237220617882, 0.9936643033733461, 0.9994492726200475, 0.9985251754802826, 0.3267784619341739, 0.01573650982978716, 0.6574910513257947, 0.9938411092672625, 0.9972212733861626, 0.9989613767274129, 0.9999263102219932, 0.015794369353356402, 0.983199492246436, 0.9911695141718704, 0.9995433386694345, 0.9992508422388793, 0.9995766281202251, 0.9995785121547113, 0.9666084460096601, 0.03331365269916644, 0.9971464295950406, 0.9968909072346666], \"Term\": [\"1\", \"2\", \"20\", \"3\", \"50\", \"60\", \"also\", \"also\", \"another\", \"anti_cheat\", \"avoid\", \"away\", \"awful\", \"bad\", \"balance\", \"ball\", \"ban\", \"base\", \"beta\", \"boring\", \"buggy\", \"can't\", \"certain\", \"character\", \"cheat\", \"competitive\", \"con\", \"content\", \"control\", \"controller\", \"cosmetic\", \"costume\", \"couple\", \"course\", \"crown\", \"currency\", \"day\", \"design\", \"developer\", \"developer\", \"discord\", \"dlc\", \"do\", \"don't\", \"early\", \"earn\", \"easy\", \"easy\", \"eliminate\", \"enough\", \"even\", \"event\", \"every\", \"everyone\", \"expect\", \"fair\", \"fall\", \"fall\", \"fall\", \"fast\", \"feature\", \"feel\", \"feel\", \"fine\", \"finish\", \"first\", \"fix\", \"force\", \"free\", \"full\", \"fun\", \"game\", \"game\", \"game's\", \"gameplay\", \"gameplay\", \"gameplay\", \"get\", \"go\", \"go\", \"grab\", \"guy\", \"guy\", \"handle\", \"help\", \"hour\", \"i'd\", \"imagine\", \"implement\", \"isn't\", \"issue\", \"join\", \"jump\", \"jump\", \"lack\", \"large\", \"last\", \"last\", \"launch\", \"launch\", \"least\", \"level\", \"like\", \"like\", \"like\", \"little\", \"longer\", \"lot\", \"lot\", \"luck\", \"main\", \"make\", \"make\", \"many\", \"map\", \"map\", \"mario_party\", \"match\", \"maybe\", \"maybe\", \"mechanic\", \"mediatonic\", \"microtransactions\", \"mind\", \"mini\", \"minigame\", \"minigames\", \"mode\", \"more\", \"more\", \"more\", \"most\", \"most\", \"most\", \"move\", \"name\", \"need\", \"negative\", \"next\", \"next\", \"no\", \"not\", \"not\", \"number\", \"number\", \"number\", \"often\", \"one\", \"one\", \"online\", \"only\", \"only\", \"option\", \"others\", \"overall\", \"pas\", \"people\", \"people\", \"physic\", \"play\", \"played\", \"player\", \"player\", \"player\", \"poor\", \"positive\", \"price\", \"pro\", \"probably\", \"push\", \"queue\", \"quickly\", \"race\", \"random\", \"rather\", \"rather\", \"really\", \"really\", \"recommend\", \"remove\", \"report\", \"report\", \"review\", \"rng\", \"round\", \"sale\", \"say\", \"screen\", \"season\", \"season\", \"second\", \"second\", \"see\", \"see\", \"see\", \"server\", \"show\", \"skill\", \"skin\", \"solo\", \"something\", \"spectate\", \"stage\", \"stand\", \"still\", \"store\", \"straight\", \"style\", \"support\", \"tail\", \"team\", \"team\", \"team\", \"teammate\", \"they're\", \"think\", \"time\", \"use\", \"use\", \"user\", \"variety\", \"way\", \"work\", \"worth\", \"would\", \"would\", \"write\", \"yet\"]}, \"R\": 30, \"lambda.step\": 0.01, \"plot.opts\": {\"xlab\": \"PC1\", \"ylab\": \"PC2\"}, \"topic.order\": [5, 2, 4, 3, 1]};\n",
       "\n",
       "function LDAvis_load_lib(url, callback){\n",
       "  var s = document.createElement('script');\n",
       "  s.src = url;\n",
       "  s.async = true;\n",
       "  s.onreadystatechange = s.onload = callback;\n",
       "  s.onerror = function(){console.warn(\"failed to load library \" + url);};\n",
       "  document.getElementsByTagName(\"head\")[0].appendChild(s);\n",
       "}\n",
       "\n",
       "if(typeof(LDAvis) !== \"undefined\"){\n",
       "   // already loaded: just create the visualization\n",
       "   !function(LDAvis){\n",
       "       new LDAvis(\"#\" + \"ldavis_el204018591569592965745326640\", ldavis_el204018591569592965745326640_data);\n",
       "   }(LDAvis);\n",
       "}else if(typeof define === \"function\" && define.amd){\n",
       "   // require.js is available: use it to load d3/LDAvis\n",
       "   require.config({paths: {d3: \"https://cdnjs.cloudflare.com/ajax/libs/d3/3.5.5/d3.min\"}});\n",
       "   require([\"d3\"], function(d3){\n",
       "      window.d3 = d3;\n",
       "      LDAvis_load_lib(\"https://cdn.rawgit.com/bmabey/pyLDAvis/files/ldavis.v1.0.0.js\", function(){\n",
       "        new LDAvis(\"#\" + \"ldavis_el204018591569592965745326640\", ldavis_el204018591569592965745326640_data);\n",
       "      });\n",
       "    });\n",
       "}else{\n",
       "    // require.js not available: dynamically load d3 & LDAvis\n",
       "    LDAvis_load_lib(\"https://cdnjs.cloudflare.com/ajax/libs/d3/3.5.5/d3.min.js\", function(){\n",
       "         LDAvis_load_lib(\"https://cdn.rawgit.com/bmabey/pyLDAvis/files/ldavis.v1.0.0.js\", function(){\n",
       "                 new LDAvis(\"#\" + \"ldavis_el204018591569592965745326640\", ldavis_el204018591569592965745326640_data);\n",
       "            })\n",
       "         });\n",
       "}\n",
       "</script>"
      ],
      "text/plain": [
       "PreparedData(topic_coordinates=              x         y  topics  cluster       Freq\n",
       "topic                                                \n",
       "4     -0.345429  0.150960       1        1  65.198187\n",
       "1     -0.134827 -0.296603       2        1  11.952289\n",
       "3      0.102705  0.155820       3        1   8.987432\n",
       "2      0.182831  0.156907       4        1   8.124541\n",
       "0      0.194721 -0.167084       5        1   5.737552, topic_info=             Term          Freq         Total Category  logprob  loglift\n",
       "36           game  24338.000000  24338.000000  Default  30.0000  30.0000\n",
       "242          team   4066.000000   4066.000000  Default  29.0000  29.0000\n",
       "268        player   2611.000000   2611.000000  Default  28.0000  28.0000\n",
       "855        review   1216.000000   1216.000000  Default  27.0000  27.0000\n",
       "156          fall   1360.000000   1360.000000  Default  26.0000  26.0000\n",
       "...           ...           ...           ...      ...      ...      ...\n",
       "517   mario_party    109.517599    110.149597   Topic5  -5.2952   2.8524\n",
       "1453    developer    406.117360    408.640647   Topic5  -3.9846   2.8519\n",
       "842           use    498.463471    506.509619   Topic5  -3.7797   2.8421\n",
       "111        launch    693.636218    899.585279   Topic5  -3.4493   2.5982\n",
       "473        number    220.021815    267.101699   Topic5  -4.5975   2.6642\n",
       "\n",
       "[216 rows x 6 columns], token_table=      Topic      Freq   Term\n",
       "term                        \n",
       "215       1  0.999230      1\n",
       "138       1  0.999263      2\n",
       "74        2  0.999110     20\n",
       "140       1  0.999362      3\n",
       "430       4  0.996002     50\n",
       "...     ...       ...    ...\n",
       "501       2  0.999579  worth\n",
       "91        1  0.966608  would\n",
       "91        2  0.033314  would\n",
       "880       5  0.997146  write\n",
       "502       4  0.996891    yet\n",
       "\n",
       "[228 rows x 3 columns], R=30, lambda_step=0.01, plot_opts={'xlab': 'PC1', 'ylab': 'PC2'}, topic_order=[5, 2, 4, 3, 1])"
      ]
     },
     "execution_count": 51,
     "metadata": {},
     "output_type": "execute_result"
    }
   ],
   "source": [
    "# visualize the topics using pyLDAvis\n",
    "\n",
    "pyLDAvis.enable_notebook()\n",
    "vis = pyLDAvis.gensim.prepare(fallguys_neg_lda_model, fallguys_neg_corpus, fallguys_neg_id2word)\n",
    "vis"
   ]
  },
  {
   "cell_type": "markdown",
   "id": "interpreted-destiny",
   "metadata": {},
   "source": [
    "**Topic Interpretation**\n",
    "\n",
    "- **1**: overall negative sentiments about the game (bad, issue)\n",
    "- **2**: complaints specific to level design (variety of game modes, boring, lack of content/stages) and cosmetics\n",
    "- **3**: complaints specific to gameplay mechanics (buggy, physics, rng, jump)\n",
    "- **4**: generic gameplay terms (eliminate, grab, skin, currency)\n",
    "- **5**: monetization elements (dlc, microtransactions), suggestions for developers (anti-cheat, report, ban)\n"
   ]
  },
  {
   "cell_type": "code",
   "execution_count": 52,
   "id": "miniature-persian",
   "metadata": {
    "ExecuteTime": {
     "end_time": "2021-01-27T06:01:00.712756Z",
     "start_time": "2021-01-27T05:57:35.390793Z"
    }
   },
   "outputs": [
    {
     "name": "stdout",
     "output_type": "stream",
     "text": [
      "Coherence value for 2 topics: 0.3756\n",
      "Coherence value for 3 topics: 0.3798\n",
      "Coherence value for 4 topics: 0.3629\n",
      "Coherence value for 5 topics: 0.3869\n",
      "Coherence value for 6 topics: 0.3149\n",
      "Coherence value for 7 topics: 0.2820\n"
     ]
    },
    {
     "data": {
      "image/png": "[encoded data removed]",
      "text/plain": [
       "<Figure size 432x288 with 1 Axes>"
      ]
     },
     "metadata": {
      "needs_background": "light"
     },
     "output_type": "display_data"
    }
   ],
   "source": [
    "display_coherence_values(fallguys_neg_id2word, fallguys_neg_corpus, fallguys_neg_processed_text, start=2, limit=8, step=1)"
   ]
  },
  {
   "cell_type": "markdown",
   "id": "chicken-vegetation",
   "metadata": {},
   "source": [
    "## Evaluation of Topic Modelling"
   ]
  },
  {
   "cell_type": "markdown",
   "id": "weird-collector",
   "metadata": {},
   "source": [
    "![Results for Topic Modelling](./results/lda.png)"
   ]
  },
  {
   "cell_type": "markdown",
   "id": "municipal-convenience",
   "metadata": {},
   "source": [
    "The topic coherence reflects the score of a topic by measuring the degree of semantic similarity between high scoring words in the topic itself. The optimal number of topics is thus when the overall topic coherence is highest.\n",
    "\n",
    "The highest topic coherences (highlighted in green) for each dataset are a little low, ranging between **0.38** to **0.48**. This suggests that the topics may not be particularly well defined in our datasets as we would like. Nonetheless, based on our interpretation, we can still see the semblance of some dominant themes in the corpus. From the pyLDAvis output, we also see that the topic bubbles are fairly large and non-overlapping in most cases, and also span different quadrants instead of being clustered together in the same quadrant. This is indicative that the topic model performed adequately well."
   ]
  },
  {
   "cell_type": "markdown",
   "id": "fatal-tactics",
   "metadata": {},
   "source": [
    "## Extract Topics for Classification"
   ]
  },
  {
   "cell_type": "markdown",
   "id": "composed-momentum",
   "metadata": {},
   "source": [
    "Cyberpunk's reviews (both positive and negative) obtained the highest topic coherence score amongst the 3 games after performing LDA. We will extract the dominant topics for the various texts and attempt to perform multi-class classification of incoming reviews to predict their dominant topic."
   ]
  },
  {
   "cell_type": "code",
   "execution_count": 53,
   "id": "precise-machinery",
   "metadata": {
    "ExecuteTime": {
     "end_time": "2021-01-27T06:03:23.483542Z",
     "start_time": "2021-01-27T06:01:00.713793Z"
    }
   },
   "outputs": [],
   "source": [
    "cyberpunk_pos_df = format_topics_sentences(cyberpunk_pos_lda_model, cyberpunk_pos_corpus, cyberpunk_pos_processed_text)"
   ]
  },
  {
   "cell_type": "code",
   "execution_count": 54,
   "id": "quantitative-castle",
   "metadata": {
    "ExecuteTime": {
     "end_time": "2021-01-27T06:03:23.607751Z",
     "start_time": "2021-01-27T06:03:23.485285Z"
    }
   },
   "outputs": [],
   "source": [
    "cyberpunk_pos_topic_df = pd.concat([cyberpunk_ml[cyberpunk_ml['label'] == 1].reset_index(), cyberpunk_pos_df], axis=1)"
   ]
  },
  {
   "cell_type": "code",
   "execution_count": 55,
   "id": "sixth-recycling",
   "metadata": {
    "ExecuteTime": {
     "end_time": "2021-01-27T06:03:23.677566Z",
     "start_time": "2021-01-27T06:03:23.610745Z"
    }
   },
   "outputs": [
    {
     "data": {
      "text/html": [
       "<div>\n",
       "<style scoped>\n",
       "    .dataframe tbody tr th:only-of-type {\n",
       "        vertical-align: middle;\n",
       "    }\n",
       "\n",
       "    .dataframe tbody tr th {\n",
       "        vertical-align: top;\n",
       "    }\n",
       "\n",
       "    .dataframe thead th {\n",
       "        text-align: right;\n",
       "    }\n",
       "</style>\n",
       "<table border=\"1\" class=\"dataframe\">\n",
       "  <thead>\n",
       "    <tr style=\"text-align: right;\">\n",
       "      <th></th>\n",
       "      <th>index</th>\n",
       "      <th>Unnamed: 0</th>\n",
       "      <th>recommendationid</th>\n",
       "      <th>author</th>\n",
       "      <th>language</th>\n",
       "      <th>review</th>\n",
       "      <th>timestamp_created</th>\n",
       "      <th>timestamp_updated</th>\n",
       "      <th>label</th>\n",
       "      <th>votes_up</th>\n",
       "      <th>...</th>\n",
       "      <th>clean_text</th>\n",
       "      <th>clean_text_punct</th>\n",
       "      <th>review_length</th>\n",
       "      <th>lemmed_text</th>\n",
       "      <th>lemmed_review_length</th>\n",
       "      <th>spam_detected</th>\n",
       "      <th>Dominant_Topic</th>\n",
       "      <th>Percentage_Contribution</th>\n",
       "      <th>Topic_Keywords</th>\n",
       "      <th>0</th>\n",
       "    </tr>\n",
       "  </thead>\n",
       "  <tbody>\n",
       "    <tr>\n",
       "      <th>0</th>\n",
       "      <td>1</td>\n",
       "      <td>5</td>\n",
       "      <td>82531637</td>\n",
       "      <td>{'steamid': '76561198151364624', 'num_games_ow...</td>\n",
       "      <td>english</td>\n",
       "      <td>Despite what people say, game's fucking amazin...</td>\n",
       "      <td>2020-12-17</td>\n",
       "      <td>2020-12-17</td>\n",
       "      <td>1</td>\n",
       "      <td>0</td>\n",
       "      <td>...</td>\n",
       "      <td>despite what people say game's fucking amazing...</td>\n",
       "      <td>Despite what people say game's fucking amazing...</td>\n",
       "      <td>22</td>\n",
       "      <td>despite people say game's fuck amaze lot fun p...</td>\n",
       "      <td>14</td>\n",
       "      <td>0</td>\n",
       "      <td>0.0</td>\n",
       "      <td>0.9320</td>\n",
       "      <td>game, bug, play, not, get, far, story, good, g...</td>\n",
       "      <td>[despite, people, say, game's, fuck, amaze, lo...</td>\n",
       "    </tr>\n",
       "    <tr>\n",
       "      <th>1</th>\n",
       "      <td>2</td>\n",
       "      <td>6</td>\n",
       "      <td>82531621</td>\n",
       "      <td>{'steamid': '76561197970539101', 'num_games_ow...</td>\n",
       "      <td>english</td>\n",
       "      <td>The game isn't without it's bugs but they are ...</td>\n",
       "      <td>2020-12-17</td>\n",
       "      <td>2020-12-17</td>\n",
       "      <td>1</td>\n",
       "      <td>0</td>\n",
       "      <td>...</td>\n",
       "      <td>the game isn't without it's bugs but they are ...</td>\n",
       "      <td>The game isn't without it's bugs but they are ...</td>\n",
       "      <td>32</td>\n",
       "      <td>game isn't without bug relatively easy ignore ...</td>\n",
       "      <td>15</td>\n",
       "      <td>0</td>\n",
       "      <td>0.0</td>\n",
       "      <td>0.9185</td>\n",
       "      <td>game, bug, play, not, get, far, story, good, g...</td>\n",
       "      <td>[game, isn't, without, bug, relatively, easy, ...</td>\n",
       "    </tr>\n",
       "    <tr>\n",
       "      <th>2</th>\n",
       "      <td>3</td>\n",
       "      <td>7</td>\n",
       "      <td>82531619</td>\n",
       "      <td>{'steamid': '76561198339128191', 'num_games_ow...</td>\n",
       "      <td>english</td>\n",
       "      <td>Very atmospheric, great game play, voice actin...</td>\n",
       "      <td>2020-12-17</td>\n",
       "      <td>2020-12-17</td>\n",
       "      <td>1</td>\n",
       "      <td>0</td>\n",
       "      <td>...</td>\n",
       "      <td>very atmospheric great game play voice acting ...</td>\n",
       "      <td>Very atmospheric great game play voice acting ...</td>\n",
       "      <td>119</td>\n",
       "      <td>atmospheric great game play voice act graphic ...</td>\n",
       "      <td>66</td>\n",
       "      <td>0</td>\n",
       "      <td>0.0</td>\n",
       "      <td>0.5418</td>\n",
       "      <td>game, bug, play, not, get, far, story, good, g...</td>\n",
       "      <td>[atmospheric, great, game, play, voice_act, gr...</td>\n",
       "    </tr>\n",
       "    <tr>\n",
       "      <th>3</th>\n",
       "      <td>4</td>\n",
       "      <td>8</td>\n",
       "      <td>82531600</td>\n",
       "      <td>{'steamid': '76561198037914552', 'num_games_ow...</td>\n",
       "      <td>english</td>\n",
       "      <td>I am really unsure of why I am so drawn into t...</td>\n",
       "      <td>2020-12-17</td>\n",
       "      <td>2020-12-17</td>\n",
       "      <td>1</td>\n",
       "      <td>0</td>\n",
       "      <td>...</td>\n",
       "      <td>i am really unsure of why i am so drawn into t...</td>\n",
       "      <td>I am really unsure of why I am so drawn into t...</td>\n",
       "      <td>212</td>\n",
       "      <td>really unsure drawn game look non technical si...</td>\n",
       "      <td>112</td>\n",
       "      <td>0</td>\n",
       "      <td>1.0</td>\n",
       "      <td>0.5614</td>\n",
       "      <td>feel, character, like, drive, not, city, go, m...</td>\n",
       "      <td>[really, unsure, drawn, game, look, non, techn...</td>\n",
       "    </tr>\n",
       "    <tr>\n",
       "      <th>4</th>\n",
       "      <td>5</td>\n",
       "      <td>9</td>\n",
       "      <td>82531594</td>\n",
       "      <td>{'steamid': '76561198157915459', 'num_games_ow...</td>\n",
       "      <td>english</td>\n",
       "      <td>Really good game. Perfect storyline, great cha...</td>\n",
       "      <td>2020-12-17</td>\n",
       "      <td>2020-12-17</td>\n",
       "      <td>1</td>\n",
       "      <td>0</td>\n",
       "      <td>...</td>\n",
       "      <td>really good game perfect storyline great chara...</td>\n",
       "      <td>Really good game. Perfect storyline great char...</td>\n",
       "      <td>90</td>\n",
       "      <td>really good game perfect storyline great chara...</td>\n",
       "      <td>52</td>\n",
       "      <td>0</td>\n",
       "      <td>0.0</td>\n",
       "      <td>0.8718</td>\n",
       "      <td>game, bug, play, not, get, far, story, good, g...</td>\n",
       "      <td>[really, good, game, perfect, storyline, great...</td>\n",
       "    </tr>\n",
       "  </tbody>\n",
       "</table>\n",
       "<p>5 rows × 27 columns</p>\n",
       "</div>"
      ],
      "text/plain": [
       "   index  Unnamed: 0  recommendationid  \\\n",
       "0      1           5          82531637   \n",
       "1      2           6          82531621   \n",
       "2      3           7          82531619   \n",
       "3      4           8          82531600   \n",
       "4      5           9          82531594   \n",
       "\n",
       "                                              author language  \\\n",
       "0  {'steamid': '76561198151364624', 'num_games_ow...  english   \n",
       "1  {'steamid': '76561197970539101', 'num_games_ow...  english   \n",
       "2  {'steamid': '76561198339128191', 'num_games_ow...  english   \n",
       "3  {'steamid': '76561198037914552', 'num_games_ow...  english   \n",
       "4  {'steamid': '76561198157915459', 'num_games_ow...  english   \n",
       "\n",
       "                                              review timestamp_created  \\\n",
       "0  Despite what people say, game's fucking amazin...        2020-12-17   \n",
       "1  The game isn't without it's bugs but they are ...        2020-12-17   \n",
       "2  Very atmospheric, great game play, voice actin...        2020-12-17   \n",
       "3  I am really unsure of why I am so drawn into t...        2020-12-17   \n",
       "4  Really good game. Perfect storyline, great cha...        2020-12-17   \n",
       "\n",
       "  timestamp_updated  label  votes_up  ...  \\\n",
       "0        2020-12-17      1         0  ...   \n",
       "1        2020-12-17      1         0  ...   \n",
       "2        2020-12-17      1         0  ...   \n",
       "3        2020-12-17      1         0  ...   \n",
       "4        2020-12-17      1         0  ...   \n",
       "\n",
       "                                          clean_text  \\\n",
       "0  despite what people say game's fucking amazing...   \n",
       "1  the game isn't without it's bugs but they are ...   \n",
       "2  very atmospheric great game play voice acting ...   \n",
       "3  i am really unsure of why i am so drawn into t...   \n",
       "4  really good game perfect storyline great chara...   \n",
       "\n",
       "                                    clean_text_punct  review_length  \\\n",
       "0  Despite what people say game's fucking amazing...             22   \n",
       "1  The game isn't without it's bugs but they are ...             32   \n",
       "2  Very atmospheric great game play voice acting ...            119   \n",
       "3  I am really unsure of why I am so drawn into t...            212   \n",
       "4  Really good game. Perfect storyline great char...             90   \n",
       "\n",
       "                                         lemmed_text  lemmed_review_length  \\\n",
       "0  despite people say game's fuck amaze lot fun p...                    14   \n",
       "1  game isn't without bug relatively easy ignore ...                    15   \n",
       "2  atmospheric great game play voice act graphic ...                    66   \n",
       "3  really unsure drawn game look non technical si...                   112   \n",
       "4  really good game perfect storyline great chara...                    52   \n",
       "\n",
       "   spam_detected Dominant_Topic Percentage_Contribution  \\\n",
       "0              0            0.0                  0.9320   \n",
       "1              0            0.0                  0.9185   \n",
       "2              0            0.0                  0.5418   \n",
       "3              0            1.0                  0.5614   \n",
       "4              0            0.0                  0.8718   \n",
       "\n",
       "                                      Topic_Keywords  \\\n",
       "0  game, bug, play, not, get, far, story, good, g...   \n",
       "1  game, bug, play, not, get, far, story, good, g...   \n",
       "2  game, bug, play, not, get, far, story, good, g...   \n",
       "3  feel, character, like, drive, not, city, go, m...   \n",
       "4  game, bug, play, not, get, far, story, good, g...   \n",
       "\n",
       "                                                   0  \n",
       "0  [despite, people, say, game's, fuck, amaze, lo...  \n",
       "1  [game, isn't, without, bug, relatively, easy, ...  \n",
       "2  [atmospheric, great, game, play, voice_act, gr...  \n",
       "3  [really, unsure, drawn, game, look, non, techn...  \n",
       "4  [really, good, game, perfect, storyline, great...  \n",
       "\n",
       "[5 rows x 27 columns]"
      ]
     },
     "execution_count": 55,
     "metadata": {},
     "output_type": "execute_result"
    }
   ],
   "source": [
    "cyberpunk_pos_topic_df.head()"
   ]
  },
  {
   "cell_type": "code",
   "execution_count": 56,
   "id": "welcome-dairy",
   "metadata": {
    "ExecuteTime": {
     "end_time": "2021-01-27T06:04:18.330725Z",
     "start_time": "2021-01-27T06:03:23.679561Z"
    }
   },
   "outputs": [],
   "source": [
    "cyberpunk_neg_df = format_topics_sentences(cyberpunk_neg_lda_model, cyberpunk_neg_corpus, cyberpunk_neg_processed_text)"
   ]
  },
  {
   "cell_type": "code",
   "execution_count": 57,
   "id": "mounted-wheel",
   "metadata": {
    "ExecuteTime": {
     "end_time": "2021-01-27T06:04:18.359779Z",
     "start_time": "2021-01-27T06:04:18.331724Z"
    }
   },
   "outputs": [],
   "source": [
    "cyberpunk_neg_topic_df = pd.concat([cyberpunk_ml[cyberpunk_ml['label'] == 0].reset_index(), cyberpunk_neg_df], axis=1)"
   ]
  },
  {
   "cell_type": "code",
   "execution_count": 58,
   "id": "prepared-statement",
   "metadata": {
    "ExecuteTime": {
     "end_time": "2021-01-27T06:04:18.392692Z",
     "start_time": "2021-01-27T06:04:18.360777Z"
    }
   },
   "outputs": [
    {
     "data": {
      "text/html": [
       "<div>\n",
       "<style scoped>\n",
       "    .dataframe tbody tr th:only-of-type {\n",
       "        vertical-align: middle;\n",
       "    }\n",
       "\n",
       "    .dataframe tbody tr th {\n",
       "        vertical-align: top;\n",
       "    }\n",
       "\n",
       "    .dataframe thead th {\n",
       "        text-align: right;\n",
       "    }\n",
       "</style>\n",
       "<table border=\"1\" class=\"dataframe\">\n",
       "  <thead>\n",
       "    <tr style=\"text-align: right;\">\n",
       "      <th></th>\n",
       "      <th>index</th>\n",
       "      <th>Unnamed: 0</th>\n",
       "      <th>recommendationid</th>\n",
       "      <th>author</th>\n",
       "      <th>language</th>\n",
       "      <th>review</th>\n",
       "      <th>timestamp_created</th>\n",
       "      <th>timestamp_updated</th>\n",
       "      <th>label</th>\n",
       "      <th>votes_up</th>\n",
       "      <th>...</th>\n",
       "      <th>clean_text</th>\n",
       "      <th>clean_text_punct</th>\n",
       "      <th>review_length</th>\n",
       "      <th>lemmed_text</th>\n",
       "      <th>lemmed_review_length</th>\n",
       "      <th>spam_detected</th>\n",
       "      <th>Dominant_Topic</th>\n",
       "      <th>Percentage_Contribution</th>\n",
       "      <th>Topic_Keywords</th>\n",
       "      <th>0</th>\n",
       "    </tr>\n",
       "  </thead>\n",
       "  <tbody>\n",
       "    <tr>\n",
       "      <th>0</th>\n",
       "      <td>0</td>\n",
       "      <td>0</td>\n",
       "      <td>82531665</td>\n",
       "      <td>{'steamid': '76561198955470036', 'num_games_ow...</td>\n",
       "      <td>english</td>\n",
       "      <td>Glitchy and crashes a lot. Literally 80%-90% o...</td>\n",
       "      <td>2020-12-17</td>\n",
       "      <td>2020-12-17</td>\n",
       "      <td>0</td>\n",
       "      <td>0</td>\n",
       "      <td>...</td>\n",
       "      <td>glitchy and crashes a lot literally 80 90 of t...</td>\n",
       "      <td>Glitchy and crashes a lot. Literally 80 90 of ...</td>\n",
       "      <td>40</td>\n",
       "      <td>glitchy crash lot literally 80 90 game buy ste...</td>\n",
       "      <td>21</td>\n",
       "      <td>0</td>\n",
       "      <td>4.0</td>\n",
       "      <td>0.7873</td>\n",
       "      <td>game, not, bug, play, get, even, like, fix, ti...</td>\n",
       "      <td>[glitchy, crash, lot, literally, 80, 90, game,...</td>\n",
       "    </tr>\n",
       "    <tr>\n",
       "      <th>1</th>\n",
       "      <td>19</td>\n",
       "      <td>25</td>\n",
       "      <td>82531443</td>\n",
       "      <td>{'steamid': '76561197965639279', 'num_games_ow...</td>\n",
       "      <td>english</td>\n",
       "      <td>I now have made config where i assigned 25GB R...</td>\n",
       "      <td>2020-12-17</td>\n",
       "      <td>2020-12-17</td>\n",
       "      <td>0</td>\n",
       "      <td>0</td>\n",
       "      <td>...</td>\n",
       "      <td>i now have made config where i assigned 25gb r...</td>\n",
       "      <td>I now have made config where i assigned 25GB R...</td>\n",
       "      <td>69</td>\n",
       "      <td>make config assign 25gb ram 6gb vram 20gb virt...</td>\n",
       "      <td>36</td>\n",
       "      <td>0</td>\n",
       "      <td>3.0</td>\n",
       "      <td>0.4016</td>\n",
       "      <td>fps, low, run, pc, spec, high, medium, perform...</td>\n",
       "      <td>[make, config, assign, 25gb, ram, 6gb_vram, 20...</td>\n",
       "    </tr>\n",
       "    <tr>\n",
       "      <th>2</th>\n",
       "      <td>49</td>\n",
       "      <td>66</td>\n",
       "      <td>82531120</td>\n",
       "      <td>{'steamid': '76561198031887117', 'num_games_ow...</td>\n",
       "      <td>english</td>\n",
       "      <td>Cyberpunk 2077, what is there to say. We were ...</td>\n",
       "      <td>2020-12-17</td>\n",
       "      <td>2020-12-17</td>\n",
       "      <td>0</td>\n",
       "      <td>0</td>\n",
       "      <td>...</td>\n",
       "      <td>cyberpunk 2077 what is there to say we were pr...</td>\n",
       "      <td>Cyberpunk 2077 what is there to say. We were p...</td>\n",
       "      <td>326</td>\n",
       "      <td>cyberpunk 2077 say promise trove feature pitch...</td>\n",
       "      <td>199</td>\n",
       "      <td>0</td>\n",
       "      <td>1.0</td>\n",
       "      <td>0.4065</td>\n",
       "      <td>no, like, character, go, get, one, feel, only,...</td>\n",
       "      <td>[cyberpunk_2077, say, promise, trove, feature,...</td>\n",
       "    </tr>\n",
       "    <tr>\n",
       "      <th>3</th>\n",
       "      <td>52</td>\n",
       "      <td>73</td>\n",
       "      <td>82531063</td>\n",
       "      <td>{'steamid': '76561198032616291', 'num_games_ow...</td>\n",
       "      <td>english</td>\n",
       "      <td>firstly i wanna say this game isnt bad, i actu...</td>\n",
       "      <td>2020-12-17</td>\n",
       "      <td>2020-12-17</td>\n",
       "      <td>0</td>\n",
       "      <td>8</td>\n",
       "      <td>...</td>\n",
       "      <td>firstly i wanna say this game isnt bad i actua...</td>\n",
       "      <td>firstly i wanna say this game isnt bad i actua...</td>\n",
       "      <td>908</td>\n",
       "      <td>firstly wanna say game isnt bad actually enjoy...</td>\n",
       "      <td>474</td>\n",
       "      <td>0</td>\n",
       "      <td>1.0</td>\n",
       "      <td>0.6289</td>\n",
       "      <td>no, like, character, go, get, one, feel, only,...</td>\n",
       "      <td>[firstly, wanna, say, game, isnt, bad, actuall...</td>\n",
       "    </tr>\n",
       "    <tr>\n",
       "      <th>4</th>\n",
       "      <td>53</td>\n",
       "      <td>77</td>\n",
       "      <td>82531028</td>\n",
       "      <td>{'steamid': '76561198017900499', 'num_games_ow...</td>\n",
       "      <td>english</td>\n",
       "      <td>There is extremely little game play and way to...</td>\n",
       "      <td>2020-12-17</td>\n",
       "      <td>2020-12-17</td>\n",
       "      <td>0</td>\n",
       "      <td>6</td>\n",
       "      <td>...</td>\n",
       "      <td>there is extremely little game play and way to...</td>\n",
       "      <td>There is extremely little game play and way to...</td>\n",
       "      <td>21</td>\n",
       "      <td>extremely little game play way much interactio...</td>\n",
       "      <td>12</td>\n",
       "      <td>0</td>\n",
       "      <td>4.0</td>\n",
       "      <td>0.4334</td>\n",
       "      <td>game, not, bug, play, get, even, like, fix, ti...</td>\n",
       "      <td>[extremely, little, game, play, way, much, int...</td>\n",
       "    </tr>\n",
       "  </tbody>\n",
       "</table>\n",
       "<p>5 rows × 27 columns</p>\n",
       "</div>"
      ],
      "text/plain": [
       "   index  Unnamed: 0  recommendationid  \\\n",
       "0      0           0          82531665   \n",
       "1     19          25          82531443   \n",
       "2     49          66          82531120   \n",
       "3     52          73          82531063   \n",
       "4     53          77          82531028   \n",
       "\n",
       "                                              author language  \\\n",
       "0  {'steamid': '76561198955470036', 'num_games_ow...  english   \n",
       "1  {'steamid': '76561197965639279', 'num_games_ow...  english   \n",
       "2  {'steamid': '76561198031887117', 'num_games_ow...  english   \n",
       "3  {'steamid': '76561198032616291', 'num_games_ow...  english   \n",
       "4  {'steamid': '76561198017900499', 'num_games_ow...  english   \n",
       "\n",
       "                                              review timestamp_created  \\\n",
       "0  Glitchy and crashes a lot. Literally 80%-90% o...        2020-12-17   \n",
       "1  I now have made config where i assigned 25GB R...        2020-12-17   \n",
       "2  Cyberpunk 2077, what is there to say. We were ...        2020-12-17   \n",
       "3  firstly i wanna say this game isnt bad, i actu...        2020-12-17   \n",
       "4  There is extremely little game play and way to...        2020-12-17   \n",
       "\n",
       "  timestamp_updated  label  votes_up  ...  \\\n",
       "0        2020-12-17      0         0  ...   \n",
       "1        2020-12-17      0         0  ...   \n",
       "2        2020-12-17      0         0  ...   \n",
       "3        2020-12-17      0         8  ...   \n",
       "4        2020-12-17      0         6  ...   \n",
       "\n",
       "                                          clean_text  \\\n",
       "0  glitchy and crashes a lot literally 80 90 of t...   \n",
       "1  i now have made config where i assigned 25gb r...   \n",
       "2  cyberpunk 2077 what is there to say we were pr...   \n",
       "3  firstly i wanna say this game isnt bad i actua...   \n",
       "4  there is extremely little game play and way to...   \n",
       "\n",
       "                                    clean_text_punct  review_length  \\\n",
       "0  Glitchy and crashes a lot. Literally 80 90 of ...             40   \n",
       "1  I now have made config where i assigned 25GB R...             69   \n",
       "2  Cyberpunk 2077 what is there to say. We were p...            326   \n",
       "3  firstly i wanna say this game isnt bad i actua...            908   \n",
       "4  There is extremely little game play and way to...             21   \n",
       "\n",
       "                                         lemmed_text  lemmed_review_length  \\\n",
       "0  glitchy crash lot literally 80 90 game buy ste...                    21   \n",
       "1  make config assign 25gb ram 6gb vram 20gb virt...                    36   \n",
       "2  cyberpunk 2077 say promise trove feature pitch...                   199   \n",
       "3  firstly wanna say game isnt bad actually enjoy...                   474   \n",
       "4  extremely little game play way much interactio...                    12   \n",
       "\n",
       "   spam_detected Dominant_Topic Percentage_Contribution  \\\n",
       "0              0            4.0                  0.7873   \n",
       "1              0            3.0                  0.4016   \n",
       "2              0            1.0                  0.4065   \n",
       "3              0            1.0                  0.6289   \n",
       "4              0            4.0                  0.4334   \n",
       "\n",
       "                                      Topic_Keywords  \\\n",
       "0  game, not, bug, play, get, even, like, fix, ti...   \n",
       "1  fps, low, run, pc, spec, high, medium, perform...   \n",
       "2  no, like, character, go, get, one, feel, only,...   \n",
       "3  no, like, character, go, get, one, feel, only,...   \n",
       "4  game, not, bug, play, get, even, like, fix, ti...   \n",
       "\n",
       "                                                   0  \n",
       "0  [glitchy, crash, lot, literally, 80, 90, game,...  \n",
       "1  [make, config, assign, 25gb, ram, 6gb_vram, 20...  \n",
       "2  [cyberpunk_2077, say, promise, trove, feature,...  \n",
       "3  [firstly, wanna, say, game, isnt, bad, actuall...  \n",
       "4  [extremely, little, game, play, way, much, int...  \n",
       "\n",
       "[5 rows x 27 columns]"
      ]
     },
     "execution_count": 58,
     "metadata": {},
     "output_type": "execute_result"
    }
   ],
   "source": [
    "cyberpunk_neg_topic_df.head()"
   ]
  },
  {
   "cell_type": "code",
   "execution_count": 59,
   "id": "narrative-enemy",
   "metadata": {
    "ExecuteTime": {
     "end_time": "2021-01-27T06:04:23.197188Z",
     "start_time": "2021-01-27T06:04:18.394686Z"
    }
   },
   "outputs": [],
   "source": [
    "# output to csv files\n",
    "\n",
    "cyberpunk_pos_topic_df.to_csv('datasets/cyberpunkpostopic.csv', index=False)\n",
    "cyberpunk_neg_topic_df.to_csv('datasets/cyberpunknegtopic.csv', index=False)"
   ]
  },
  {
   "cell_type": "markdown",
   "id": "immune-murray",
   "metadata": {},
   "source": [
    "# Topic Classification"
   ]
  },
  {
   "cell_type": "markdown",
   "id": "superb-frost",
   "metadata": {},
   "source": [
    "Assuming that the above corpus of text can in fact be segregated into well-defined topics that are coherent and make sense, we can then perform machine learning methods to classify reviews into their dominant topics.\n",
    "\n",
    "This is beneficial in helping the developers detect if there are certain aspects of the game that require closer and immediate attention to be fixed/patched - e.g. if there is a sudden influx of negative reviews regarding glitches, or if the game is suddenly unable to run smoothly after a particular game update had been released. \n",
    "\n",
    "Similarly, the classification can also be used to gauge the players' reception to a particular game feature that was recently launched - for instance, if the topic appears often in positive reviews, this also serves as positive reinforcement to the developers that they are doing a good job in continually exciting their players.\n",
    "\n",
    "Here, we will fit simple, untuned classification models to explore how machine learning methods can be employed for this purpose."
   ]
  },
  {
   "cell_type": "code",
   "execution_count": 60,
   "id": "close-synthesis",
   "metadata": {
    "ExecuteTime": {
     "end_time": "2021-01-27T06:04:23.201907Z",
     "start_time": "2021-01-27T06:04:23.197919Z"
    }
   },
   "outputs": [],
   "source": [
    "# create dictionary of dataframes and names\n",
    "\n",
    "dfs_topic = {\"Cyberpunk Positive Reviews\": cyberpunk_pos_topic_df, \n",
    "             \"Cyberpunk Negative Reviews\": cyberpunk_neg_topic_df, \n",
    "            }"
   ]
  },
  {
   "cell_type": "code",
   "execution_count": 61,
   "id": "usual-register",
   "metadata": {
    "ExecuteTime": {
     "end_time": "2021-01-27T06:04:23.248814Z",
     "start_time": "2021-01-27T06:04:23.203901Z"
    }
   },
   "outputs": [],
   "source": [
    "# drop unwanted columns\n",
    "\n",
    "for df in dfs_topic.values():\n",
    "    df.drop(columns=['index', 'Unnamed: 0'], inplace=True)"
   ]
  },
  {
   "cell_type": "code",
   "execution_count": 62,
   "id": "designed-diabetes",
   "metadata": {
    "ExecuteTime": {
     "end_time": "2021-01-27T06:04:23.255764Z",
     "start_time": "2021-01-27T06:04:23.249822Z"
    }
   },
   "outputs": [],
   "source": [
    "# rename columns in dataframe\n",
    "\n",
    "for df in dfs_topic.values():\n",
    "    df.rename(columns={'Dominant_Topic': 'dominant_topic',\n",
    "                       'Percentage_Contribution': 'percent_contribution',\n",
    "                       'Topic_Keywords': 'topic_keywords',\n",
    "                       '0': 'processed_lda_text',\n",
    "                      },\n",
    "              inplace=True\n",
    "             )"
   ]
  },
  {
   "cell_type": "code",
   "execution_count": 63,
   "id": "residential-prague",
   "metadata": {
    "ExecuteTime": {
     "end_time": "2021-01-27T06:04:23.264739Z",
     "start_time": "2021-01-27T06:04:23.257757Z"
    }
   },
   "outputs": [],
   "source": [
    "# convert label column from float to int\n",
    "\n",
    "for df in dfs_topic.values():\n",
    "    df['dominant_topic'] = df['dominant_topic'].astype(int)"
   ]
  },
  {
   "cell_type": "markdown",
   "id": "attempted-conference",
   "metadata": {},
   "source": [
    "## Positive Reviews"
   ]
  },
  {
   "cell_type": "code",
   "execution_count": 64,
   "id": "foreign-bishop",
   "metadata": {
    "ExecuteTime": {
     "end_time": "2021-01-27T06:04:23.277440Z",
     "start_time": "2021-01-27T06:04:23.266733Z"
    },
    "scrolled": true
   },
   "outputs": [
    {
     "data": {
      "text/plain": [
       "0    0.932604\n",
       "1    0.055516\n",
       "2    0.011880\n",
       "Name: dominant_topic, dtype: float64"
      ]
     },
     "execution_count": 64,
     "metadata": {},
     "output_type": "execute_result"
    }
   ],
   "source": [
    "cyberpunk_pos_topic_df['dominant_topic'].value_counts(normalize=True)"
   ]
  },
  {
   "cell_type": "markdown",
   "id": "several-colon",
   "metadata": {},
   "source": [
    "There are only 1% of reviews that have been classified as being predominantly topic 3."
   ]
  },
  {
   "cell_type": "code",
   "execution_count": 65,
   "id": "graphic-olive",
   "metadata": {
    "ExecuteTime": {
     "end_time": "2021-01-27T06:04:23.283423Z",
     "start_time": "2021-01-27T06:04:23.279435Z"
    }
   },
   "outputs": [],
   "source": [
    "X_cyberpunk_pos = cyberpunk_pos_topic_df['lemmed_text']\n",
    "y_cyberpunk_pos = cyberpunk_pos_topic_df['dominant_topic']"
   ]
  },
  {
   "cell_type": "code",
   "execution_count": 66,
   "id": "incomplete-tumor",
   "metadata": {
    "ExecuteTime": {
     "end_time": "2021-01-27T06:04:23.311350Z",
     "start_time": "2021-01-27T06:04:23.285420Z"
    }
   },
   "outputs": [],
   "source": [
    "# create training and test sets\n",
    "\n",
    "X_cyberpunk_pos_train, X_cyberpunk_pos_test, y_cyberpunk_pos_train, y_cyberpunk_pos_test = train_test_split(X_cyberpunk_pos,\n",
    "                                                                                                            y_cyberpunk_pos,\n",
    "                                                                                                            test_size=0.25,\n",
    "                                                                                                            stratify=y_cyberpunk_pos,\n",
    "                                                                                                            random_state=42)"
   ]
  },
  {
   "cell_type": "markdown",
   "id": "endless-course",
   "metadata": {},
   "source": [
    "### Logistic Regression"
   ]
  },
  {
   "cell_type": "code",
   "execution_count": 67,
   "id": "handy-executive",
   "metadata": {
    "ExecuteTime": {
     "end_time": "2021-01-27T06:04:23.321323Z",
     "start_time": "2021-01-27T06:04:23.313344Z"
    }
   },
   "outputs": [],
   "source": [
    "# set up pipeline for LogisticRegression\n",
    "\n",
    "pipe_cyberpunk_pos_lr = Pipeline([\n",
    "                        ('tvec', TfidfVectorizer(analyzer = 'word',\n",
    "                                 tokenizer = None,\n",
    "                                 preprocessor = None,\n",
    "                                 stop_words = None,\n",
    "                                 )),\n",
    "                        ('oversampler', RandomOverSampler(random_state=42)),\n",
    "                        ('undersampler', RandomUnderSampler(random_state=42)),\n",
    "                        ('lr', SGDClassifier(loss='log', penalty='l2'))\n",
    "])"
   ]
  },
  {
   "cell_type": "code",
   "execution_count": 68,
   "id": "residential-survival",
   "metadata": {
    "ExecuteTime": {
     "end_time": "2021-01-27T06:04:25.660339Z",
     "start_time": "2021-01-27T06:04:23.324315Z"
    }
   },
   "outputs": [
    {
     "data": {
      "text/plain": [
       "Pipeline(steps=[('tvec', TfidfVectorizer()),\n",
       "                ('oversampler', RandomOverSampler(random_state=42)),\n",
       "                ('undersampler', RandomUnderSampler(random_state=42)),\n",
       "                ('lr', SGDClassifier(loss='log'))])"
      ]
     },
     "execution_count": 68,
     "metadata": {},
     "output_type": "execute_result"
    }
   ],
   "source": [
    "pipe_cyberpunk_pos_lr.fit(X_cyberpunk_pos_train, y_cyberpunk_pos_train)"
   ]
  },
  {
   "cell_type": "code",
   "execution_count": 69,
   "id": "regular-flesh",
   "metadata": {
    "ExecuteTime": {
     "end_time": "2021-01-27T06:04:25.668317Z",
     "start_time": "2021-01-27T06:04:25.662333Z"
    }
   },
   "outputs": [],
   "source": [
    "def multiclass_scores(model, model_name, X_train, X_test, y_train, y_test):\n",
    "    \"\"\"\n",
    "    Prints the relevant metrics for multiclass classification and plots the confusion matrix.\n",
    "    \"\"\"\n",
    "    print('------------')\n",
    "    print(f'Metrics for {model_name}')\n",
    "    print('------------')\n",
    "    print(f'Accuracy score on train data ------------: {model.score(X_train, y_train):.4f}')\n",
    "    print(f'Accuracy score on test data -------------: {model.score(X_test, y_test):.4f}')\n",
    "    print(f'Balanced accuracy score on test data ----: {balanced_accuracy_score(y_test, model.predict(X_test)):.4f}')\n",
    "    \n",
    "    if model_name != 'Support Vector Classifier':        \n",
    "        print(f'ROC-AUC score on test data --------------: {roc_auc_score(y_test, model.predict_proba(X_test), multi_class=\"ovr\"):.4f}')\n",
    "    \n",
    "    plot_confusion_matrix(model, X_test, y_test);"
   ]
  },
  {
   "cell_type": "code",
   "execution_count": 70,
   "id": "manufactured-heather",
   "metadata": {
    "ExecuteTime": {
     "end_time": "2021-01-27T06:04:28.677562Z",
     "start_time": "2021-01-27T06:04:25.670312Z"
    }
   },
   "outputs": [
    {
     "name": "stdout",
     "output_type": "stream",
     "text": [
      "------------\n",
      "Metrics for Logistic Regression\n",
      "------------\n",
      "Accuracy score on train data ------------: 0.9092\n",
      "Accuracy score on test data -------------: 0.8965\n",
      "Balanced accuracy score on test data ----: 0.9382\n",
      "ROC-AUC score on test data --------------: 0.9871\n"
     ]
    },
    {
     "data": {
      "image/png": "[encoded data removed]",
      "text/plain": [
       "<Figure size 432x288 with 2 Axes>"
      ]
     },
     "metadata": {
      "needs_background": "light"
     },
     "output_type": "display_data"
    }
   ],
   "source": [
    "multiclass_scores(pipe_cyberpunk_pos_lr, \n",
    "                  'Logistic Regression',\n",
    "                  X_cyberpunk_pos_train, \n",
    "                  X_cyberpunk_pos_test, \n",
    "                  y_cyberpunk_pos_train, \n",
    "                  y_cyberpunk_pos_test\n",
    "                 )"
   ]
  },
  {
   "cell_type": "markdown",
   "id": "practical-indicator",
   "metadata": {},
   "source": [
    "### Naive Bayes Classifier"
   ]
  },
  {
   "cell_type": "code",
   "execution_count": 71,
   "id": "controlled-bundle",
   "metadata": {
    "ExecuteTime": {
     "end_time": "2021-01-27T06:04:28.685541Z",
     "start_time": "2021-01-27T06:04:28.679561Z"
    }
   },
   "outputs": [],
   "source": [
    "# set up pipeline for MultinomialNB\n",
    "\n",
    "pipe_cyberpunk_pos_nb = Pipeline([\n",
    "                        ('tvec', TfidfVectorizer(analyzer = 'word',\n",
    "                                 tokenizer = None,\n",
    "                                 preprocessor = None,\n",
    "                                 stop_words = None,\n",
    "                                 )),\n",
    "                        ('oversampler', RandomOverSampler(random_state=42)),\n",
    "                        ('undersampler', RandomUnderSampler(random_state=42)),\n",
    "                        ('nb', MultinomialNB())\n",
    "])"
   ]
  },
  {
   "cell_type": "code",
   "execution_count": 72,
   "id": "valid-ending",
   "metadata": {
    "ExecuteTime": {
     "end_time": "2021-01-27T06:04:30.066704Z",
     "start_time": "2021-01-27T06:04:28.687535Z"
    }
   },
   "outputs": [
    {
     "data": {
      "text/plain": [
       "Pipeline(steps=[('tvec', TfidfVectorizer()),\n",
       "                ('oversampler', RandomOverSampler(random_state=42)),\n",
       "                ('undersampler', RandomUnderSampler(random_state=42)),\n",
       "                ('nb', MultinomialNB())])"
      ]
     },
     "execution_count": 72,
     "metadata": {},
     "output_type": "execute_result"
    }
   ],
   "source": [
    "pipe_cyberpunk_pos_nb.fit(X_cyberpunk_pos_train, y_cyberpunk_pos_train)"
   ]
  },
  {
   "cell_type": "code",
   "execution_count": 73,
   "id": "african-tradition",
   "metadata": {
    "ExecuteTime": {
     "end_time": "2021-01-27T06:04:33.199156Z",
     "start_time": "2021-01-27T06:04:30.067668Z"
    }
   },
   "outputs": [
    {
     "name": "stdout",
     "output_type": "stream",
     "text": [
      "------------\n",
      "Metrics for Naive Bayes\n",
      "------------\n",
      "Accuracy score on train data ------------: 0.8818\n",
      "Accuracy score on test data -------------: 0.8600\n",
      "Balanced accuracy score on test data ----: 0.9327\n",
      "ROC-AUC score on test data --------------: 0.9837\n"
     ]
    },
    {
     "data": {
      "image/png": "[encoded data removed]",
      "text/plain": [
       "<Figure size 432x288 with 2 Axes>"
      ]
     },
     "metadata": {
      "needs_background": "light"
     },
     "output_type": "display_data"
    }
   ],
   "source": [
    "multiclass_scores(pipe_cyberpunk_pos_nb,\n",
    "                  'Naive Bayes',\n",
    "                  X_cyberpunk_pos_train, \n",
    "                  X_cyberpunk_pos_test, \n",
    "                  y_cyberpunk_pos_train, \n",
    "                  y_cyberpunk_pos_test\n",
    "                 )"
   ]
  },
  {
   "cell_type": "markdown",
   "id": "impressive-context",
   "metadata": {},
   "source": [
    "### Random Forest Classifier"
   ]
  },
  {
   "cell_type": "code",
   "execution_count": 74,
   "id": "removed-examination",
   "metadata": {
    "ExecuteTime": {
     "end_time": "2021-01-27T06:04:33.213332Z",
     "start_time": "2021-01-27T06:04:33.200218Z"
    }
   },
   "outputs": [],
   "source": [
    "# set up pipeline for RandomForestClassifier\n",
    "\n",
    "pipe_cyberpunk_pos_rf = Pipeline([\n",
    "                        ('tvec', TfidfVectorizer(analyzer = 'word',\n",
    "                                 tokenizer = None,\n",
    "                                 preprocessor = None,\n",
    "                                 stop_words = None,\n",
    "                                 )),\n",
    "                        ('oversampler', RandomOverSampler(random_state=42)),\n",
    "                        ('undersampler', RandomUnderSampler(random_state=42)),\n",
    "                        ('rf', RandomForestClassifier(n_estimators=200, \n",
    "                                                      max_depth=5, \n",
    "                                                      min_samples_split=3,\n",
    "                                                      random_state=42))\n",
    "])"
   ]
  },
  {
   "cell_type": "code",
   "execution_count": 75,
   "id": "smooth-marina",
   "metadata": {
    "ExecuteTime": {
     "end_time": "2021-01-27T06:04:38.493962Z",
     "start_time": "2021-01-27T06:04:33.215326Z"
    }
   },
   "outputs": [
    {
     "data": {
      "text/plain": [
       "Pipeline(steps=[('tvec', TfidfVectorizer()),\n",
       "                ('oversampler', RandomOverSampler(random_state=42)),\n",
       "                ('undersampler', RandomUnderSampler(random_state=42)),\n",
       "                ('rf',\n",
       "                 RandomForestClassifier(max_depth=5, min_samples_split=3,\n",
       "                                        n_estimators=200, random_state=42))])"
      ]
     },
     "execution_count": 75,
     "metadata": {},
     "output_type": "execute_result"
    }
   ],
   "source": [
    "pipe_cyberpunk_pos_rf.fit(X_cyberpunk_pos_train, y_cyberpunk_pos_train)"
   ]
  },
  {
   "cell_type": "code",
   "execution_count": 76,
   "id": "finished-duncan",
   "metadata": {
    "ExecuteTime": {
     "end_time": "2021-01-27T06:04:43.893940Z",
     "start_time": "2021-01-27T06:04:38.495956Z"
    }
   },
   "outputs": [
    {
     "name": "stdout",
     "output_type": "stream",
     "text": [
      "------------\n",
      "Metrics for Random Forest\n",
      "------------\n",
      "Accuracy score on train data ------------: 0.8093\n",
      "Accuracy score on test data -------------: 0.8010\n",
      "Balanced accuracy score on test data ----: 0.8021\n",
      "ROC-AUC score on test data --------------: 0.9084\n"
     ]
    },
    {
     "data": {
      "image/png": "[encoded data removed]",
      "text/plain": [
       "<Figure size 432x288 with 2 Axes>"
      ]
     },
     "metadata": {
      "needs_background": "light"
     },
     "output_type": "display_data"
    }
   ],
   "source": [
    "multiclass_scores(pipe_cyberpunk_pos_rf, \n",
    "                  'Random Forest',\n",
    "                  X_cyberpunk_pos_train, \n",
    "                  X_cyberpunk_pos_test, \n",
    "                  y_cyberpunk_pos_train, \n",
    "                  y_cyberpunk_pos_test\n",
    "                 )"
   ]
  },
  {
   "cell_type": "markdown",
   "id": "conditional-rhythm",
   "metadata": {},
   "source": [
    "### Support Vector Classifier"
   ]
  },
  {
   "cell_type": "code",
   "execution_count": 77,
   "id": "premier-venice",
   "metadata": {
    "ExecuteTime": {
     "end_time": "2021-01-27T06:04:43.901918Z",
     "start_time": "2021-01-27T06:04:43.896932Z"
    }
   },
   "outputs": [],
   "source": [
    "# set up pipeline for RandomForestClassifier\n",
    "\n",
    "pipe_cyberpunk_pos_svc = Pipeline([\n",
    "                        ('tvec', TfidfVectorizer(analyzer = 'word',\n",
    "                                 tokenizer = None,\n",
    "                                 preprocessor = None,\n",
    "                                 stop_words = None,\n",
    "                                 )),\n",
    "                        ('oversampler', RandomOverSampler(random_state=42)),\n",
    "                        ('undersampler', RandomUnderSampler(random_state=42)),\n",
    "                        ('svc', SGDClassifier(loss='hinge', penalty='l2', alpha=0.0001))\n",
    "])"
   ]
  },
  {
   "cell_type": "code",
   "execution_count": 78,
   "id": "contemporary-imaging",
   "metadata": {
    "ExecuteTime": {
     "end_time": "2021-01-27T06:04:46.105444Z",
     "start_time": "2021-01-27T06:04:43.903913Z"
    }
   },
   "outputs": [
    {
     "data": {
      "text/plain": [
       "Pipeline(steps=[('tvec', TfidfVectorizer()),\n",
       "                ('oversampler', RandomOverSampler(random_state=42)),\n",
       "                ('undersampler', RandomUnderSampler(random_state=42)),\n",
       "                ('svc', SGDClassifier())])"
      ]
     },
     "execution_count": 78,
     "metadata": {},
     "output_type": "execute_result"
    }
   ],
   "source": [
    "pipe_cyberpunk_pos_svc.fit(X_cyberpunk_pos_train, y_cyberpunk_pos_train)"
   ]
  },
  {
   "cell_type": "code",
   "execution_count": 79,
   "id": "distinguished-provision",
   "metadata": {
    "ExecuteTime": {
     "end_time": "2021-01-27T06:04:49.170948Z",
     "start_time": "2021-01-27T06:04:46.106441Z"
    }
   },
   "outputs": [
    {
     "name": "stdout",
     "output_type": "stream",
     "text": [
      "------------\n",
      "Metrics for Support Vector Classifier\n",
      "------------\n",
      "Accuracy score on train data ------------: 0.9548\n",
      "Accuracy score on test data -------------: 0.9397\n",
      "Balanced accuracy score on test data ----: 0.9092\n"
     ]
    },
    {
     "data": {
      "image/png": "[encoded data removed]",
      "text/plain": [
       "<Figure size 432x288 with 2 Axes>"
      ]
     },
     "metadata": {
      "needs_background": "light"
     },
     "output_type": "display_data"
    }
   ],
   "source": [
    "multiclass_scores(pipe_cyberpunk_pos_svc,\n",
    "                  'Support Vector Classifier',\n",
    "                  X_cyberpunk_pos_train, \n",
    "                  X_cyberpunk_pos_test, \n",
    "                  y_cyberpunk_pos_train, \n",
    "                  y_cyberpunk_pos_test\n",
    "                 )"
   ]
  },
  {
   "cell_type": "markdown",
   "id": "waiting-economy",
   "metadata": {},
   "source": [
    "## Negative Reviews"
   ]
  },
  {
   "cell_type": "code",
   "execution_count": 80,
   "id": "vertical-patrick",
   "metadata": {
    "ExecuteTime": {
     "end_time": "2021-01-27T06:04:49.179890Z",
     "start_time": "2021-01-27T06:04:49.171911Z"
    },
    "scrolled": false
   },
   "outputs": [
    {
     "data": {
      "text/plain": [
       "4    0.837896\n",
       "1    0.159319\n",
       "3    0.001910\n",
       "2    0.000716\n",
       "0    0.000159\n",
       "Name: dominant_topic, dtype: float64"
      ]
     },
     "execution_count": 80,
     "metadata": {},
     "output_type": "execute_result"
    }
   ],
   "source": [
    "cyberpunk_neg_topic_df['dominant_topic'].value_counts(normalize=True)"
   ]
  },
  {
   "cell_type": "markdown",
   "id": "configured-shadow",
   "metadata": {},
   "source": [
    "Although it was shown from our earlier LDA that 5 topics gave the highest coherence score, there are far too few samples for topics 0, 2 and 3 to provide any meaningful analysis. We will drop these rows from our dataset and re-encode the remaining samples."
   ]
  },
  {
   "cell_type": "code",
   "execution_count": 81,
   "id": "worst-brass",
   "metadata": {
    "ExecuteTime": {
     "end_time": "2021-01-27T06:04:49.206005Z",
     "start_time": "2021-01-27T06:04:49.189997Z"
    }
   },
   "outputs": [],
   "source": [
    "# drop those rows with topics 0, 2, 3\n",
    "\n",
    "cyberpunk_neg_topic_df.drop(cyberpunk_neg_topic_df[cyberpunk_neg_topic_df['dominant_topic'].isin([0, 2, 3])].index,\n",
    "                            inplace=True)"
   ]
  },
  {
   "cell_type": "code",
   "execution_count": 82,
   "id": "electoral-actress",
   "metadata": {
    "ExecuteTime": {
     "end_time": "2021-01-27T06:04:49.214932Z",
     "start_time": "2021-01-27T06:04:49.207950Z"
    }
   },
   "outputs": [],
   "source": [
    "# reencode topic 4 to topic 0\n",
    "\n",
    "cyberpunk_neg_topic_df.loc[cyberpunk_neg_topic_df['dominant_topic'] == 4, 'dominant_topic'] = 0"
   ]
  },
  {
   "cell_type": "code",
   "execution_count": 83,
   "id": "brazilian-squad",
   "metadata": {
    "ExecuteTime": {
     "end_time": "2021-01-27T06:04:49.223907Z",
     "start_time": "2021-01-27T06:04:49.216925Z"
    }
   },
   "outputs": [
    {
     "data": {
      "text/plain": [
       "0    0.840236\n",
       "1    0.159764\n",
       "Name: dominant_topic, dtype: float64"
      ]
     },
     "execution_count": 83,
     "metadata": {},
     "output_type": "execute_result"
    }
   ],
   "source": [
    "cyberpunk_neg_topic_df['dominant_topic'].value_counts(normalize=True)"
   ]
  },
  {
   "cell_type": "code",
   "execution_count": 84,
   "id": "historic-light",
   "metadata": {
    "ExecuteTime": {
     "end_time": "2021-01-27T06:04:49.228895Z",
     "start_time": "2021-01-27T06:04:49.224903Z"
    }
   },
   "outputs": [],
   "source": [
    "X_cyberpunk_neg = cyberpunk_neg_topic_df['lemmed_text']\n",
    "y_cyberpunk_neg = cyberpunk_neg_topic_df['dominant_topic']"
   ]
  },
  {
   "cell_type": "code",
   "execution_count": 85,
   "id": "material-journalist",
   "metadata": {
    "ExecuteTime": {
     "end_time": "2021-01-27T06:04:49.244853Z",
     "start_time": "2021-01-27T06:04:49.230888Z"
    }
   },
   "outputs": [],
   "source": [
    "# create training and test sets\n",
    "\n",
    "X_cyberpunk_neg_train, X_cyberpunk_neg_test, y_cyberpunk_neg_train, y_cyberpunk_neg_test = train_test_split(X_cyberpunk_neg,\n",
    "                                                                                                            y_cyberpunk_neg,\n",
    "                                                                                                            test_size=0.25,\n",
    "                                                                                                            stratify=y_cyberpunk_neg,\n",
    "                                                                                                            random_state=42)"
   ]
  },
  {
   "cell_type": "markdown",
   "id": "found-scale",
   "metadata": {},
   "source": [
    "### Logistic Regression"
   ]
  },
  {
   "cell_type": "code",
   "execution_count": 86,
   "id": "angry-ozone",
   "metadata": {
    "ExecuteTime": {
     "end_time": "2021-01-27T06:04:49.252831Z",
     "start_time": "2021-01-27T06:04:49.246848Z"
    }
   },
   "outputs": [],
   "source": [
    "# set up pipeline for LogisticRegression\n",
    "\n",
    "pipe_cyberpunk_neg_lr = Pipeline([\n",
    "                        ('tvec', TfidfVectorizer(analyzer = 'word',\n",
    "                                 tokenizer = None,\n",
    "                                 preprocessor = None,\n",
    "                                 stop_words = None,\n",
    "                                 )),\n",
    "                        ('oversampler', RandomOverSampler(random_state=42)),\n",
    "                        ('undersampler', RandomUnderSampler(random_state=42)),\n",
    "                        ('lr', SGDClassifier(loss='log', penalty='l2'))\n",
    "])"
   ]
  },
  {
   "cell_type": "code",
   "execution_count": 87,
   "id": "dimensional-heavy",
   "metadata": {
    "ExecuteTime": {
     "end_time": "2021-01-27T06:04:50.070135Z",
     "start_time": "2021-01-27T06:04:49.254825Z"
    }
   },
   "outputs": [
    {
     "data": {
      "text/plain": [
       "Pipeline(steps=[('tvec', TfidfVectorizer()),\n",
       "                ('oversampler', RandomOverSampler(random_state=42)),\n",
       "                ('undersampler', RandomUnderSampler(random_state=42)),\n",
       "                ('lr', SGDClassifier(loss='log'))])"
      ]
     },
     "execution_count": 87,
     "metadata": {},
     "output_type": "execute_result"
    }
   ],
   "source": [
    "pipe_cyberpunk_neg_lr.fit(X_cyberpunk_neg_train, y_cyberpunk_neg_train)"
   ]
  },
  {
   "cell_type": "code",
   "execution_count": 88,
   "id": "thirty-range",
   "metadata": {
    "ExecuteTime": {
     "end_time": "2021-01-27T06:04:50.077116Z",
     "start_time": "2021-01-27T06:04:50.071132Z"
    }
   },
   "outputs": [],
   "source": [
    "def binaryclass_scores(model, model_name, X_train, X_test, y_train, y_test):\n",
    "    \"\"\"\n",
    "    Prints the relevant metrics for binary classification and plots the confusion matrix.\n",
    "    \"\"\"\n",
    "    print('------------')\n",
    "    print(f'Metrics for {model_name}')\n",
    "    print('------------')\n",
    "    print(f'Accuracy score on train data ------------: {model.score(X_train, y_train):.4f}')\n",
    "    print(f'Accuracy score on test data -------------: {model.score(X_test, y_test):.4f}')\n",
    "   \n",
    "    if model_name != 'Support Vector Classifier':        \n",
    "        print(f'ROC-AUC score on test data --------------: {roc_auc_score(y_test, model.predict_proba(X_test)[:, 1]):.4f}')\n",
    "    \n",
    "    plot_confusion_matrix(model, X_test, y_test);"
   ]
  },
  {
   "cell_type": "code",
   "execution_count": 89,
   "id": "central-granny",
   "metadata": {
    "ExecuteTime": {
     "end_time": "2021-01-27T06:04:51.598743Z",
     "start_time": "2021-01-27T06:04:50.079111Z"
    }
   },
   "outputs": [
    {
     "name": "stdout",
     "output_type": "stream",
     "text": [
      "------------\n",
      "Metrics for Logistic Regression\n",
      "------------\n",
      "Accuracy score on train data ------------: 0.9606\n",
      "Accuracy score on test data -------------: 0.9349\n",
      "ROC-AUC score on test data --------------: 0.9853\n"
     ]
    },
    {
     "data": {
      "image/png": "[encoded data removed]",
      "text/plain": [
       "<Figure size 432x288 with 2 Axes>"
      ]
     },
     "metadata": {
      "needs_background": "light"
     },
     "output_type": "display_data"
    }
   ],
   "source": [
    "binaryclass_scores(pipe_cyberpunk_neg_lr, \n",
    "                  'Logistic Regression',\n",
    "                  X_cyberpunk_neg_train, \n",
    "                  X_cyberpunk_neg_test, \n",
    "                  y_cyberpunk_neg_train, \n",
    "                  y_cyberpunk_neg_test\n",
    "                 )"
   ]
  },
  {
   "cell_type": "markdown",
   "id": "private-platform",
   "metadata": {},
   "source": [
    "### Naive Bayes Classifier"
   ]
  },
  {
   "cell_type": "code",
   "execution_count": 90,
   "id": "assisted-entertainment",
   "metadata": {
    "ExecuteTime": {
     "end_time": "2021-01-27T06:04:51.604722Z",
     "start_time": "2021-01-27T06:04:51.599735Z"
    }
   },
   "outputs": [],
   "source": [
    "# set up pipeline for MultinomialNB\n",
    "\n",
    "pipe_cyberpunk_neg_nb = Pipeline([\n",
    "                        ('tvec', TfidfVectorizer(analyzer = 'word',\n",
    "                                 tokenizer = None,\n",
    "                                 preprocessor = None,\n",
    "                                 stop_words = None,\n",
    "                                 )),\n",
    "                        ('oversampler', RandomOverSampler(random_state=42)),\n",
    "                        ('undersampler', RandomUnderSampler(random_state=42)),\n",
    "                        ('nb', MultinomialNB())\n",
    "])"
   ]
  },
  {
   "cell_type": "code",
   "execution_count": 91,
   "id": "premium-bible",
   "metadata": {
    "ExecuteTime": {
     "end_time": "2021-01-27T06:04:52.284932Z",
     "start_time": "2021-01-27T06:04:51.605720Z"
    }
   },
   "outputs": [
    {
     "data": {
      "text/plain": [
       "Pipeline(steps=[('tvec', TfidfVectorizer()),\n",
       "                ('oversampler', RandomOverSampler(random_state=42)),\n",
       "                ('undersampler', RandomUnderSampler(random_state=42)),\n",
       "                ('nb', MultinomialNB())])"
      ]
     },
     "execution_count": 91,
     "metadata": {},
     "output_type": "execute_result"
    }
   ],
   "source": [
    "pipe_cyberpunk_neg_nb.fit(X_cyberpunk_neg_train, y_cyberpunk_neg_train)"
   ]
  },
  {
   "cell_type": "code",
   "execution_count": 92,
   "id": "confirmed-milan",
   "metadata": {
    "ExecuteTime": {
     "end_time": "2021-01-27T06:04:53.666254Z",
     "start_time": "2021-01-27T06:04:52.285935Z"
    }
   },
   "outputs": [
    {
     "name": "stdout",
     "output_type": "stream",
     "text": [
      "------------\n",
      "Metrics for Naive Bayes\n",
      "------------\n",
      "Accuracy score on train data ------------: 0.8460\n",
      "Accuracy score on test data -------------: 0.8142\n",
      "ROC-AUC score on test data --------------: 0.9761\n"
     ]
    },
    {
     "data": {
      "image/png": "[encoded data removed]",
      "text/plain": [
       "<Figure size 432x288 with 2 Axes>"
      ]
     },
     "metadata": {
      "needs_background": "light"
     },
     "output_type": "display_data"
    }
   ],
   "source": [
    "binaryclass_scores(pipe_cyberpunk_neg_nb,\n",
    "                  'Naive Bayes',\n",
    "                  X_cyberpunk_neg_train, \n",
    "                  X_cyberpunk_neg_test, \n",
    "                  y_cyberpunk_neg_train, \n",
    "                  y_cyberpunk_neg_test\n",
    "                 )"
   ]
  },
  {
   "cell_type": "markdown",
   "id": "harmful-framework",
   "metadata": {},
   "source": [
    "### Random Forest Classifier"
   ]
  },
  {
   "cell_type": "code",
   "execution_count": 93,
   "id": "distinguished-turner",
   "metadata": {
    "ExecuteTime": {
     "end_time": "2021-01-27T06:04:53.672206Z",
     "start_time": "2021-01-27T06:04:53.667218Z"
    }
   },
   "outputs": [],
   "source": [
    "# set up pipeline for RandomForestClassifier\n",
    "\n",
    "pipe_cyberpunk_neg_rf = Pipeline([\n",
    "                        ('tvec', TfidfVectorizer(analyzer = 'word',\n",
    "                                 tokenizer = None,\n",
    "                                 preprocessor = None,\n",
    "                                 stop_words = None,\n",
    "                                 )),\n",
    "                        ('oversampler', RandomOverSampler(random_state=42)),\n",
    "                        ('undersampler', RandomUnderSampler(random_state=42)),\n",
    "                        ('rf', RandomForestClassifier(n_estimators=200, \n",
    "                                                      max_depth=5, \n",
    "                                                      min_samples_split=3,\n",
    "                                                      random_state=42))\n",
    "])"
   ]
  },
  {
   "cell_type": "code",
   "execution_count": 94,
   "id": "circular-hepatitis",
   "metadata": {
    "ExecuteTime": {
     "end_time": "2021-01-27T06:04:55.720675Z",
     "start_time": "2021-01-27T06:04:53.673202Z"
    }
   },
   "outputs": [
    {
     "data": {
      "text/plain": [
       "Pipeline(steps=[('tvec', TfidfVectorizer()),\n",
       "                ('oversampler', RandomOverSampler(random_state=42)),\n",
       "                ('undersampler', RandomUnderSampler(random_state=42)),\n",
       "                ('rf',\n",
       "                 RandomForestClassifier(max_depth=5, min_samples_split=3,\n",
       "                                        n_estimators=200, random_state=42))])"
      ]
     },
     "execution_count": 94,
     "metadata": {},
     "output_type": "execute_result"
    }
   ],
   "source": [
    "pipe_cyberpunk_neg_rf.fit(X_cyberpunk_neg_train, y_cyberpunk_neg_train)"
   ]
  },
  {
   "cell_type": "code",
   "execution_count": 95,
   "id": "documentary-velvet",
   "metadata": {
    "ExecuteTime": {
     "end_time": "2021-01-27T06:04:57.920608Z",
     "start_time": "2021-01-27T06:04:55.721672Z"
    }
   },
   "outputs": [
    {
     "name": "stdout",
     "output_type": "stream",
     "text": [
      "------------\n",
      "Metrics for Random Forest\n",
      "------------\n",
      "Accuracy score on train data ------------: 0.8828\n",
      "Accuracy score on test data -------------: 0.8758\n",
      "ROC-AUC score on test data --------------: 0.9149\n"
     ]
    },
    {
     "data": {
      "image/png": "[encoded data removed]",
      "text/plain": [
       "<Figure size 432x288 with 2 Axes>"
      ]
     },
     "metadata": {
      "needs_background": "light"
     },
     "output_type": "display_data"
    }
   ],
   "source": [
    "binaryclass_scores(pipe_cyberpunk_neg_rf, \n",
    "                  'Random Forest',\n",
    "                  X_cyberpunk_neg_train, \n",
    "                  X_cyberpunk_neg_test, \n",
    "                  y_cyberpunk_neg_train, \n",
    "                  y_cyberpunk_neg_test\n",
    "                 )"
   ]
  },
  {
   "cell_type": "markdown",
   "id": "thick-stone",
   "metadata": {},
   "source": [
    "### Support Vector Classifier"
   ]
  },
  {
   "cell_type": "code",
   "execution_count": 96,
   "id": "electoral-domain",
   "metadata": {
    "ExecuteTime": {
     "end_time": "2021-01-27T06:04:57.925599Z",
     "start_time": "2021-01-27T06:04:57.921603Z"
    }
   },
   "outputs": [],
   "source": [
    "# set up pipeline for RandomForestClassifier\n",
    "\n",
    "pipe_cyberpunk_neg_svc = Pipeline([\n",
    "                        ('tvec', TfidfVectorizer(analyzer = 'word',\n",
    "                                 tokenizer = None,\n",
    "                                 preprocessor = None,\n",
    "                                 stop_words = None,\n",
    "                                 )),\n",
    "                        ('oversampler', RandomOverSampler(random_state=42)),\n",
    "                        ('undersampler', RandomUnderSampler(random_state=42)),\n",
    "                        ('svc', SGDClassifier(loss='hinge', penalty='l2', alpha=0.0001))\n",
    "])"
   ]
  },
  {
   "cell_type": "code",
   "execution_count": 97,
   "id": "solved-harris",
   "metadata": {
    "ExecuteTime": {
     "end_time": "2021-01-27T06:04:58.799433Z",
     "start_time": "2021-01-27T06:04:57.928586Z"
    }
   },
   "outputs": [
    {
     "data": {
      "text/plain": [
       "Pipeline(steps=[('tvec', TfidfVectorizer()),\n",
       "                ('oversampler', RandomOverSampler(random_state=42)),\n",
       "                ('undersampler', RandomUnderSampler(random_state=42)),\n",
       "                ('svc', SGDClassifier())])"
      ]
     },
     "execution_count": 97,
     "metadata": {},
     "output_type": "execute_result"
    }
   ],
   "source": [
    "pipe_cyberpunk_neg_svc.fit(X_cyberpunk_neg_train, y_cyberpunk_neg_train)"
   ]
  },
  {
   "cell_type": "code",
   "execution_count": 98,
   "id": "level-advancement",
   "metadata": {
    "ExecuteTime": {
     "end_time": "2021-01-27T06:05:00.046363Z",
     "start_time": "2021-01-27T06:04:58.800430Z"
    }
   },
   "outputs": [
    {
     "name": "stdout",
     "output_type": "stream",
     "text": [
      "------------\n",
      "Metrics for Support Vector Classifier\n",
      "------------\n",
      "Accuracy score on train data ------------: 0.9872\n",
      "Accuracy score on test data -------------: 0.9486\n"
     ]
    },
    {
     "data": {
      "image/png": "[encoded data removed]",
      "text/plain": [
       "<Figure size 432x288 with 2 Axes>"
      ]
     },
     "metadata": {
      "needs_background": "light"
     },
     "output_type": "display_data"
    }
   ],
   "source": [
    "binaryclass_scores(pipe_cyberpunk_neg_svc,\n",
    "                  'Support Vector Classifier',\n",
    "                  X_cyberpunk_neg_train, \n",
    "                  X_cyberpunk_neg_test, \n",
    "                  y_cyberpunk_neg_train, \n",
    "                  y_cyberpunk_neg_test\n",
    "                 )"
   ]
  },
  {
   "cell_type": "markdown",
   "id": "pediatric-swimming",
   "metadata": {},
   "source": [
    "## Model Evaluation"
   ]
  },
  {
   "cell_type": "markdown",
   "id": "enclosed-hampton",
   "metadata": {},
   "source": [
    "The results of the topic classification are shown as follows:\n",
    "\n",
    "![Results for Topic Classification](./results/topic_classification.png)\n",
    "\n",
    "Given the difficulty of extracting the various topics/classes cleanly, the scores obtained may not be representative of a good topic classification model. Nonetheless, the above analysis serves as a proof of concept that classification can be done.\n",
    "\n",
    "Several limitations of performing this classification are as follows:\n",
    "    \n",
    "- Assumes that the topics make sense in the first place (there must be some logical interpretation as to various topics and their representative words)\n",
    "- Needs to have a adequate distribution of each topic in the dataset\n",
    "- Reviews are usually not cleanly segregated and do not only have one main topic - a single review often contains multiple topics with equal emphasis on each.\n",
    "    - Multi-label classification can be carried out as future work\n",
    "- Highly dependent on the nature of the language and how the reviews were written - properly formatted text will provide better results. Spam posts are hard to detect and may often skew the results - hence moderation of the social media platform is important\n",
    "- If a new gameplay feature is added, it may take some time for sufficient reviews to surface before it appears as one of the topics\n",
    "\n"
   ]
  },
  {
   "cell_type": "markdown",
   "id": "external-holiday",
   "metadata": {},
   "source": [
    "# Recommendations"
   ]
  },
  {
   "cell_type": "markdown",
   "id": "dress-regard",
   "metadata": {},
   "source": [
    "We have performed sentiment analysis and topic modelling - how then can the publisher work with game companies to make use of the model to make data-driven decisions, and translate these efforts into increasing sales revenue and reducing gamer churn?\n",
    "\n",
    "Although game platforms such as Steam allow users to directly recommend or not recommend a particular game (and hence generate a corresponding score), there exist a plethora of other online platforms where gamers/reviewers routinely post their thoughts and opinions on games, including the following:\n",
    "- Video game review sites (Kotaku, Destruictoid, Metacritic)\n",
    "- YouTube\n",
    "- Facebook\n",
    "- Twitter\n",
    "- reddit\n",
    "    - Platform specific subreddits e.g. r/pcgaming, r/ps4\n",
    "    - General gaming subreddits e.g. r/gaming\n",
    "    - Game specific subreddits e.g. r/FallGuysGame, r/cyberpunkgame\n",
    "\n",
    "Comments on these platforms are typically **unlabeled**, and it would take a great deal of human effort to manually trawl through and tag these comments to capture their sentiment.\n",
    "\n",
    "---\n",
    "\n",
    "Thus, to aid the developers/publisher in better understanding overall user sentiment towards their games, we recommend the following approach:\n",
    "\n",
    "- Scrape relevant comments/reviews from aforementioned online platforms\n",
    "\n",
    "- For a *fast analysis*, we can consider employing **lexicon-based methods** to generate the overall polarity score of each review, to provide a quick overview for game developers on its sentiment\n",
    "    - The upside of this is that no prior training of models is required\n",
    "    - However, may not capture gaming terms that are specific to the game itself\n",
    "    \n",
    "    \n",
    "- For a *deeper analysis*, **machine learning techniques** can be used to gain more insight into the top terms that reflect the overall sentiment, and typically results in better accuracy in predicting the overall sentiment of the comment/review\n",
    "    - We can use the model to predict sentiments of games with **roughly similar genres**\n",
    "        - Video game sentiments usually vary widely from game to game as gamers have different considerations depending on the genre, platform the game was launched on, etc. There may be a need to train the model on games of a similar genre to obtain more accurate predictions\n",
    "        - While the top positive predictive features for our 3 games were somewhat similar, the negative predictive features revealed some differences (e.g. buggy vs. repetitive)\n",
    "    - Developers/publishers can use the model to predict the sentiment of user comments on popular social media platforms and monitor the number of positive/negative reviews after an update has been rolled out. For instance,\n",
    "        - If there is a large influx of reviews with 'refund', 'money' (given these were some of the top predictors of negative reviews) after a microtransaction pack is introduced - it is a signal that the company needs to quickly get things together and address some of these concerns, before players start to churn\n",
    "        - On the other hand, if a new feature that is introduced (e.g. a new co-op mode) is highly popular and well-received, developers can explore incorporating more of such multiplayer modes in future games, or even variants of these modes in existing games as well\n",
    "    \n",
    "    \n",
    "- Once a sizeable amount of reviews has been amassed, **LDA** can then be performed to sieve out more detail what gamers feel about the various positive and negative aspects of the game:\n",
    "    - What features should the developers roll out next to entice new users into joining?\n",
    "    - What kind of microtransactions are considered to be of fair value to gamers, such that they would consider purchasing them?\n",
    "    - Whether there are bugs/glitches that were unintentionally introduced to the game after an update\n",
    "    - To better understand comparisons to other popular rival games of the same genre (e.g. PUBG vs. Fortnite vs. Apex Legends) and the aspects that each game performs better at \n",
    "    \n",
    "    \n",
    "- **Classifying and tagging these comments by topic** would then complement and allow developers to prioritize which features to focus their efforts on\n",
    "\n",
    "In the past, games were typically developed and launched one-off without any further updates from then on. However, given the ubiquity of online games in today's market, and how many of them are continually being polished and updated with new content, understanding user sentiment is of utmost importance to ensure that developers/publishers can continue to stand out amongst the competition and maintain their reputation as being a company that cares about their player base. \n",
    "\n",
    "---\n",
    "\n",
    "**Limitations**\n",
    "\n",
    "However, there are some considerations that developers would need to take into account when using the model for predicting sentiment:\n",
    "\n",
    "- Models are not **fully generalizable across games** - suggests that demographics of gamers as well as the vocabulary used vary significantly across different genres\n",
    "- May need to periodically train the model/corpus - since games update at a frequent pace today and the gamer demographic also changes with time\n",
    "- Reviews often contain multiple sentiments all at once - some may be happy with certain aspects of the game but unhappy about others\n",
    "- Unable to detect sarcasm, memes, well\n",
    "- Should have a robust spam filter/detection system in place - these add a great deal of noise during training"
   ]
  },
  {
   "cell_type": "markdown",
   "id": "rotary-termination",
   "metadata": {},
   "source": [
    "# Conclusion"
   ]
  },
  {
   "cell_type": "markdown",
   "id": "genetic-virginia",
   "metadata": {},
   "source": [
    "We have performed sentiment analysis via lexicon-based methods and machine-learning methods to classify game reviews from 3 different genres of games to be either positive or negative.\n",
    "\n",
    "The best performing model, in terms of accuracy and interpretability across all three games was **Logistic Regression**, achieving the following accuracy scores and ROC-AUC scores:\n",
    "\n",
    "|                          Game | ROC-AUC score | Accuracy |\n",
    "|:-----------------------------:|:-------------:|:--------:|\n",
    "| PlayerUnknown's Battlegrounds |        0.9267 |   0.8555 |\n",
    "|                Cyberpunk 2077 |        0.9578 |   0.8955 |\n",
    "|                     Fall Guys |        0.9364 |   0.8683 |\n",
    "\n",
    "---\n",
    "\n",
    "Notable predictors of overall sentiment for each of the games are as shown below:\n",
    "\n",
    "|              Game             |                       Negative                      |                    Positive                    |\n",
    "|:-----------------------------:|:---------------------------------------------------:|:----------------------------------------------:|\n",
    "| PlayerUnknown's Battlegrounds | money, cheater, garbage, hacker, unplayable, refund |  best, great, good, fun, love, friend, addict  |\n",
    "|         Cyberpunk 2077        | refund, boring, unplayable, crash, unfinished, mess | amaze, awesome, fantastic, perfect, definitely |\n",
    "|           Fall Guys           | not worth, cheater, ruin, repetitive, hacker, trash |      fun, love, friend, bean, laugh, funny     |\n",
    "\n",
    "---\n",
    "\n",
    "Topic modelling was also performed for each game, using the topic coherence score to ascertain the optimal number of topics. The topics are interpreted to be as follows:\n",
    "\n",
    "![Summary of LDA](./results/ldasummary.png)\n",
    "\n",
    "---\n",
    "\n",
    "Future work to improve our analysis includes the following:\n",
    "- Obtain more data for analysis\n",
    "    - Improve model's generalizability to more genres by training on a larger and varied corpus of words\n",
    "- Incorporate better spam and meme detection (e.g. copypastas) for data cleaning\n",
    "    - Reduce the amount of noise in our training dataset\n",
    "- Dealing with typos, alternate/shortform spellings of words e.g. \"sux\", \"gd\"\n",
    "- Improve topic classifier by tuning hyperparameters and trying multi-label classification\n",
    "    - Previous analysis serves primarily as proof of concept"
   ]
  },
  {
   "cell_type": "markdown",
   "id": "relevant-population",
   "metadata": {},
   "source": [
    "# References\n",
    "\n",
    "**Game Reviews**\n",
    "- https://www.gamesindustry.biz/articles/2015-02-09-what-drives-a-review-score\n",
    "\n",
    "**Text Preprocessing**\n",
    "- https://www.machinelearningplus.com/nlp/lemmatization-examples-python/\n",
    "\n",
    "**Sentiment Analysis**\n",
    "- https://github.com/cjhutto/vaderSentiment#about-the-scoring\n",
    "- https://medium.com/analytics-vidhya/simplifying-social-media-sentiment-analysis-using-vader-in-python-f9e6ec6fc52f\n",
    "- https://towardsdatascience.com/nlp-sentiment-analysis-for-beginners-e7897f976897\n",
    "\n",
    "**Topic Modelling - Gensim and LDA**\n",
    "- https://www.machinelearningplus.com/nlp/topic-modeling-gensim-python/\n",
    "- https://radimrehurek.com/gensim/auto_examples/tutorials/run_lda.html\n",
    "\n",
    "**Word Embeddings, Deep Learning**\n",
    "- https://medium.com/analytics-vidhya/text-classification-using-word-embeddings-and-deep-learning-in-python-classifying-tweets-from-6fe644fcfc81\n",
    "- https://djajafer.medium.com/multi-class-text-classification-with-keras-and-lstm-4c5525bef592\n",
    "- https://machinelearningmastery.com/what-are-word-embeddings/\n",
    "- https://developers.google.com/machine-learning/crash-course/embeddings/translating-to-a-lower-dimensional-space\n",
    "- https://developers.google.com/machine-learning/crash-course/embeddings/obtaining-embeddings"
   ]
  }
 ],
 "metadata": {
  "kernelspec": {
   "display_name": "Python 3",
   "language": "python",
   "name": "python3"
  },
  "language_info": {
   "codemirror_mode": {
    "name": "ipython",
    "version": 3
   },
   "file_extension": ".py",
   "mimetype": "text/x-python",
   "name": "python",
   "nbconvert_exporter": "python",
   "pygments_lexer": "ipython3",
   "version": "3.8.6"
  },
  "toc": {
   "base_numbering": 1,
   "nav_menu": {},
   "number_sections": true,
   "sideBar": true,
   "skip_h1_title": false,
   "title_cell": "Table of Contents",
   "title_sidebar": "Contents",
   "toc_cell": false,
   "toc_position": {
    "height": "calc(100% - 180px)",
    "left": "10px",
    "top": "150px",
    "width": "384px"
   },
   "toc_section_display": true,
   "toc_window_display": true
  }
 },
 "nbformat": 4,
 "nbformat_minor": 5
}
