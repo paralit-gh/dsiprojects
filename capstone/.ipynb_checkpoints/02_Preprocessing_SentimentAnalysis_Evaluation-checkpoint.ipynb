{
 "cells": [
  {
   "cell_type": "markdown",
   "metadata": {},
   "source": [
    "# Libraries and Imports"
   ]
  },
  {
   "cell_type": "code",
   "execution_count": 5,
   "metadata": {
    "ExecuteTime": {
     "end_time": "2021-01-25T09:12:01.782866Z",
     "start_time": "2021-01-25T09:11:56.145700Z"
    }
   },
   "outputs": [],
   "source": [
    "# import relevant libraries and modules\n",
    "import pandas as pd\n",
    "import numpy as np\n",
    "import seaborn as sns\n",
    "import matplotlib.pyplot as plt\n",
    "from datetime import datetime\n",
    "\n",
    "# preprocessing modules\n",
    "from sklearn.feature_extraction.text import CountVectorizer, TfidfVectorizer, ENGLISH_STOP_WORDS\n",
    "from nltk.stem import WordNetLemmatizer\n",
    "from nltk.tokenize import RegexpTokenizer\n",
    "from nltk.stem.porter import PorterStemmer\n",
    "from nltk.corpus import stopwords as nltk_stopwords, wordnet\n",
    "import regex as re\n",
    "import nltk\n",
    "from nltk import pos_tag, word_tokenize\n",
    "\n",
    "# sentiment analysis\n",
    "import vaderSentiment\n",
    "from vaderSentiment.vaderSentiment import SentimentIntensityAnalyzer\n",
    "import textblob\n",
    "from textblob import TextBlob\n",
    "\n",
    "# lda\n",
    "import gensim\n",
    "\n",
    "# machine learning libraries and modules\n",
    "from sklearn.feature_extraction.text import CountVectorizer, TfidfVectorizer\n",
    "from sklearn.model_selection import train_test_split, cross_val_score, GridSearchCV\n",
    "from sklearn.linear_model import LogisticRegression, SGDClassifier\n",
    "from sklearn.naive_bayes import MultinomialNB\n",
    "from sklearn.ensemble import RandomForestClassifier\n",
    "from sklearn.svm import SVC\n",
    "from sklearn.metrics import confusion_matrix, plot_confusion_matrix, roc_auc_score, plot_roc_curve, ConfusionMatrixDisplay, accuracy_score, f1_score, classification_report\n",
    "from imblearn.over_sampling import SMOTE, RandomOverSampler\n",
    "from imblearn.combine import SMOTETomek\n",
    "from imblearn.pipeline import Pipeline\n",
    "\n",
    "# lstm\n",
    "from keras.models import Sequential\n",
    "from keras.layers import Dense\n",
    "from keras.layers import LSTM\n",
    "from keras.layers import Dropout, SpatialDropout1D\n",
    "from keras.layers import Bidirectional\n",
    "from keras.layers.embeddings import Embedding\n",
    "from keras.preprocessing import sequence\n",
    "from keras.preprocessing.text import Tokenizer\n",
    "from keras.callbacks import EarlyStopping"
   ]
  },
  {
   "cell_type": "code",
   "execution_count": 6,
   "metadata": {
    "ExecuteTime": {
     "end_time": "2021-01-25T09:12:01.795824Z",
     "start_time": "2021-01-25T09:12:01.783856Z"
    }
   },
   "outputs": [],
   "source": [
    "sns.set_theme(style='whitegrid', font='cambria')\n",
    "sns.set_palette('twilight_shifted')"
   ]
  },
  {
   "cell_type": "markdown",
   "metadata": {},
   "source": [
    "# Read in Datasets"
   ]
  },
  {
   "cell_type": "code",
   "execution_count": 3,
   "metadata": {
    "ExecuteTime": {
     "end_time": "2021-01-25T03:16:48.211375Z",
     "start_time": "2021-01-25T03:16:42.164671Z"
    }
   },
   "outputs": [],
   "source": [
    "pubg_df = pd.read_csv('datasets/pubg.csv')\n",
    "cyberpunk_df = pd.read_csv('datasets/cyberpunk.csv')\n",
    "fallguys_df = pd.read_csv('datasets/fallguys.csv')"
   ]
  },
  {
   "cell_type": "code",
   "execution_count": 4,
   "metadata": {
    "ExecuteTime": {
     "end_time": "2021-01-25T03:16:48.216326Z",
     "start_time": "2021-01-25T03:16:48.213336Z"
    }
   },
   "outputs": [],
   "source": [
    "# create dictionary of dataframes and names\n",
    "\n",
    "dfs = {\"PlayerUnknown's Battlegrounds\": pubg_df, \n",
    "       \"Cyberpunk 2077\": cyberpunk_df, \n",
    "       \"Fall Guys\": fallguys_df\n",
    "      }"
   ]
  },
  {
   "cell_type": "markdown",
   "metadata": {},
   "source": [
    "# Lexicon-based Sentiment Analysis"
   ]
  },
  {
   "cell_type": "markdown",
   "metadata": {},
   "source": [
    "We will use the libraries `vaderSentiment` and `TextBlob` to determine the overall sentiment of each review. As punctuation is also indicative of sentiment to some extent, we will use the cleaned text with punctuation retained to perform this analysis."
   ]
  },
  {
   "cell_type": "markdown",
   "metadata": {},
   "source": [
    "## Vader for Sentiment Analysis"
   ]
  },
  {
   "cell_type": "markdown",
   "metadata": {},
   "source": [
    "**Compound Score (CS)**\n",
    "\n",
    "- Positive sentiment: CS >= 0.05\n",
    "- Neutral sentiment: -0.05 < CS < 0.05\n",
    "- Negative sentiment: CS <= -0.05"
   ]
  },
  {
   "cell_type": "code",
   "execution_count": 5,
   "metadata": {
    "ExecuteTime": {
     "end_time": "2021-01-25T03:23:36.813894Z",
     "start_time": "2021-01-25T03:16:48.218321Z"
    }
   },
   "outputs": [],
   "source": [
    "# initialize SentimentIntensityAnalyzer and calculate compound score for each game\n",
    "\n",
    "analyser = SentimentIntensityAnalyzer()\n",
    "\n",
    "for df in dfs.values():\n",
    "    df['vader_score'] = df['clean_text_punct'].apply(lambda x: analyser.polarity_scores(x)['compound'])"
   ]
  },
  {
   "cell_type": "markdown",
   "metadata": {},
   "source": [
    "## Textblob for Sentiment Analysis"
   ]
  },
  {
   "cell_type": "markdown",
   "metadata": {},
   "source": [
    "The output of `textblob`'s sentiment analysis includes the polarity and subjectivity scores, both of which are defined as follows:\n",
    "\n",
    "**Polarity** \n",
    "\n",
    "`float` between [-1,1]: 1 means a positive statement and -1 means a negative statement \n",
    "\n",
    "**Subjectivity** \n",
    "\n",
    "`float` bewteen [0,1]: 0 means a factual statement and 1 means a subjective statement"
   ]
  },
  {
   "cell_type": "code",
   "execution_count": 6,
   "metadata": {
    "ExecuteTime": {
     "end_time": "2021-01-25T03:23:36.819309Z",
     "start_time": "2021-01-25T03:23:36.815594Z"
    }
   },
   "outputs": [],
   "source": [
    "def textblob_sentiment_scores(sentence):\n",
    "    blob = TextBlob(sentence)\n",
    "    return blob.sentiment.polarity"
   ]
  },
  {
   "cell_type": "code",
   "execution_count": 7,
   "metadata": {
    "ExecuteTime": {
     "end_time": "2021-01-25T03:26:14.985734Z",
     "start_time": "2021-01-25T03:23:36.821470Z"
    }
   },
   "outputs": [],
   "source": [
    "for df in dfs.values():\n",
    "    df['textblob_score'] = df['clean_text_punct'].apply(textblob_sentiment_scores)"
   ]
  },
  {
   "cell_type": "markdown",
   "metadata": {},
   "source": [
    "## Comparison of Vader and Textblob's sentiment scores"
   ]
  },
  {
   "cell_type": "code",
   "execution_count": 8,
   "metadata": {
    "ExecuteTime": {
     "end_time": "2021-01-25T03:26:14.991717Z",
     "start_time": "2021-01-25T03:26:14.986729Z"
    }
   },
   "outputs": [],
   "source": [
    "def compare_vader_textblob(df, df_name):\n",
    "    plt.figure(figsize=(10, 8))\n",
    "    df['vader_score'].hist(alpha=1, bins=20, label='Vader')\n",
    "    df['textblob_score'].hist(alpha=0.5, bins=20, label='Textblob');\n",
    "    plt.title(f'Histogram of Vader and Textblob sentiment scores for {df_name}', fontsize=20);\n",
    "    plt.legend();"
   ]
  },
  {
   "cell_type": "code",
   "execution_count": 9,
   "metadata": {
    "ExecuteTime": {
     "end_time": "2021-01-25T03:26:16.070621Z",
     "start_time": "2021-01-25T03:26:14.993711Z"
    }
   },
   "outputs": [
    {
     "data": {
      "image/png": "[encoded data removed]",
      "text/plain": [
       "<Figure size 720x576 with 1 Axes>"
      ]
     },
     "metadata": {},
     "output_type": "display_data"
    },
    {
     "data": {
      "image/png": "[encoded data removed]",
      "text/plain": [
       "<Figure size 720x576 with 1 Axes>"
      ]
     },
     "metadata": {},
     "output_type": "display_data"
    },
    {
     "data": {
      "image/png": "[encoded data removed]",
      "text/plain": [
       "<Figure size 720x576 with 1 Axes>"
      ]
     },
     "metadata": {},
     "output_type": "display_data"
    }
   ],
   "source": [
    "for df_name, df in dfs.items():\n",
    "    compare_vader_textblob(df, df_name)"
   ]
  },
  {
   "cell_type": "markdown",
   "metadata": {},
   "source": [
    "In general, Vader outputs a broader range of sentiments between -1 and 1.\n",
    "\n",
    "Textblob is highly clustered at the neutral ~0.00 range."
   ]
  },
  {
   "cell_type": "markdown",
   "metadata": {},
   "source": [
    "## Comparison of Lexicon-based Sentiment Scores with Actual"
   ]
  },
  {
   "cell_type": "markdown",
   "metadata": {},
   "source": [
    "We first convert the Lexicon-based sentiment scores into either positive or negative scores, based on the range of scores.\n",
    "\n",
    "We take all scores <= -0.05 and below to be negative, and scores >= 0.05 to be positive, dropping scores that are between -0.05 to 0.05 purely for this analysis.\n",
    "\n",
    "Spam comments that do not harbour any sentiment would also be filtered out using this method."
   ]
  },
  {
   "cell_type": "code",
   "execution_count": 10,
   "metadata": {
    "ExecuteTime": {
     "end_time": "2021-01-25T03:26:16.075613Z",
     "start_time": "2021-01-25T03:26:16.071673Z"
    }
   },
   "outputs": [],
   "source": [
    "def encode_polarity_score(score):\n",
    "    if score >= 0.05:\n",
    "        return 1\n",
    "    elif score <= -0.05:\n",
    "        return 0\n",
    "    else:\n",
    "        return None"
   ]
  },
  {
   "cell_type": "code",
   "execution_count": 11,
   "metadata": {
    "ExecuteTime": {
     "end_time": "2021-01-25T03:26:16.454025Z",
     "start_time": "2021-01-25T03:26:16.076604Z"
    }
   },
   "outputs": [
    {
     "name": "stdout",
     "output_type": "stream",
     "text": [
      "-------\n",
      "PlayerUnknown's Battlegrounds\n",
      "-------\n",
      "Number of rows before encoding: 227901\n",
      "Number of rows after encoding: 159470\n",
      "Rows dropped: 68431\n",
      "-------\n",
      "Cyberpunk 2077\n",
      "-------\n",
      "Number of rows before encoding: 75663\n",
      "Number of rows after encoding: 52942\n",
      "Rows dropped: 22721\n",
      "-------\n",
      "Fall Guys\n",
      "-------\n",
      "Number of rows before encoding: 78990\n",
      "Number of rows after encoding: 56947\n",
      "Rows dropped: 22043\n"
     ]
    }
   ],
   "source": [
    "for df_name, df in dfs.items():\n",
    "    \n",
    "    print('-------')\n",
    "    print(f'{df_name}')\n",
    "    print('-------')\n",
    "    print(f'Number of rows before encoding: {df.shape[0]}')\n",
    "    \n",
    "    no_rows_initial = df.shape[0]\n",
    "    \n",
    "    df['textblob_pred'] = df['textblob_score'].apply(encode_polarity_score)\n",
    "    df['vader_pred'] = df['vader_score'].apply(encode_polarity_score)\n",
    "    df.dropna(axis=0, subset=['textblob_pred', 'vader_pred'], inplace=True)\n",
    "    print(f'Number of rows after encoding: {df.shape[0]}')\n",
    "    \n",
    "    no_rows_final = df.shape[0]\n",
    "    \n",
    "    print(f'Rows dropped: {no_rows_initial - no_rows_final}')"
   ]
  },
  {
   "cell_type": "code",
   "execution_count": 22,
   "metadata": {
    "ExecuteTime": {
     "end_time": "2021-01-25T03:31:52.329481Z",
     "start_time": "2021-01-25T03:31:52.322498Z"
    }
   },
   "outputs": [],
   "source": [
    "# define a function to calculate the accuracy scores, generate and display confusion matrix for each game\n",
    "\n",
    "def lexicon_scorer(df, df_name):\n",
    "    \n",
    "    # generate accuracy scores\n",
    "    baseline_acc_score = df['label'].value_counts(normalize=True)[1]\n",
    "    vader_acc_score = accuracy_score(df['label'], df['vader_pred'])\n",
    "    textblob_acc_score = accuracy_score(df['label'], df['textblob_pred'])\n",
    "    \n",
    "    print(f'Baseline accuracy score ------------------: {baseline_acc_score:.5f}')\n",
    "    print(f'Accuracy score on Vader predictions ------: {vader_acc_score:.5f}')\n",
    "    print(f'Accuracy score on Textblob predictions ---: {textblob_acc_score:.5f}')\n",
    "    \n",
    "    # generate confusion matrices\n",
    "    df_vader_cm = confusion_matrix(df['label'], df['vader_pred'])\n",
    "    df_textblob_cm = confusion_matrix(df['label'], df['textblob_pred'])\n",
    "    \n",
    "    # display confusion matrices\n",
    "    figure, ax = plt.subplots(nrows=2, ncols=1, figsize=(20, 10))\n",
    "          \n",
    "    ConfusionMatrixDisplay(df_vader_cm).plot(ax=ax[0])\n",
    "    ax[0].grid(False)\n",
    "    ax[0].set_title(f'Vader Confusion Matrix for {df_name}', fontsize=20)\n",
    "                    \n",
    "    ConfusionMatrixDisplay(df_textblob_cm).plot(ax=ax[1])\n",
    "    ax[1].grid(False)\n",
    "    ax[1].set_title(f'Textblob Confusion Matrix for {df_name}', fontsize=20);\n",
    "    plt.tight_layout();"
   ]
  },
  {
   "cell_type": "markdown",
   "metadata": {},
   "source": [
    "### PUBG"
   ]
  },
  {
   "cell_type": "code",
   "execution_count": 23,
   "metadata": {
    "ExecuteTime": {
     "end_time": "2021-01-25T03:31:54.567461Z",
     "start_time": "2021-01-25T03:31:53.305306Z"
    }
   },
   "outputs": [
    {
     "name": "stdout",
     "output_type": "stream",
     "text": [
      "Baseline accuracy score ------------------: 0.57326\n",
      "Accuracy score on Vader predictions ------: 0.76743\n",
      "Accuracy score on Textblob predictions ---: 0.74652\n"
     ]
    },
    {
     "data": {
      "image/png": "[encoded data removed]",
      "text/plain": [
       "<Figure size 1440x720 with 4 Axes>"
      ]
     },
     "metadata": {},
     "output_type": "display_data"
    }
   ],
   "source": [
    "# display scores and CM for PUBG\n",
    "\n",
    "lexicon_scorer(pubg_df, 'PUBG')"
   ]
  },
  {
   "cell_type": "markdown",
   "metadata": {},
   "source": [
    "### Cyberpunk"
   ]
  },
  {
   "cell_type": "code",
   "execution_count": 24,
   "metadata": {
    "ExecuteTime": {
     "end_time": "2021-01-25T03:31:55.220503Z",
     "start_time": "2021-01-25T03:31:54.569426Z"
    }
   },
   "outputs": [
    {
     "name": "stdout",
     "output_type": "stream",
     "text": [
      "Baseline accuracy score ------------------: 0.81168\n",
      "Accuracy score on Vader predictions ------: 0.84232\n",
      "Accuracy score on Textblob predictions ---: 0.81346\n"
     ]
    },
    {
     "data": {
      "image/png": "[encoded data removed]",
      "text/plain": [
       "<Figure size 1440x720 with 4 Axes>"
      ]
     },
     "metadata": {},
     "output_type": "display_data"
    }
   ],
   "source": [
    "# display scores and CM for Cyberpunk\n",
    "\n",
    "lexicon_scorer(cyberpunk_df, 'Cyberpunk')"
   ]
  },
  {
   "cell_type": "markdown",
   "metadata": {},
   "source": [
    "### Fall Guys"
   ]
  },
  {
   "cell_type": "code",
   "execution_count": 25,
   "metadata": {
    "ExecuteTime": {
     "end_time": "2021-01-25T03:31:55.881099Z",
     "start_time": "2021-01-25T03:31:55.221465Z"
    }
   },
   "outputs": [
    {
     "name": "stdout",
     "output_type": "stream",
     "text": [
      "Baseline accuracy score ------------------: 0.81534\n",
      "Accuracy score on Vader predictions ------: 0.82756\n",
      "Accuracy score on Textblob predictions ---: 0.75182\n"
     ]
    },
    {
     "data": {
      "image/png": "[encoded data removed]",
      "text/plain": [
       "<Figure size 1440x720 with 4 Axes>"
      ]
     },
     "metadata": {},
     "output_type": "display_data"
    }
   ],
   "source": [
    "# display scores and CM for Fall Guys\n",
    "\n",
    "lexicon_scorer(fallguys_df, 'Fall Guys')"
   ]
  },
  {
   "cell_type": "code",
   "execution_count": 26,
   "metadata": {
    "ExecuteTime": {
     "end_time": "2021-01-25T03:31:58.909710Z",
     "start_time": "2021-01-25T03:31:58.838872Z"
    }
   },
   "outputs": [
    {
     "data": {
      "text/html": [
       "<div>\n",
       "<style scoped>\n",
       "    .dataframe tbody tr th:only-of-type {\n",
       "        vertical-align: middle;\n",
       "    }\n",
       "\n",
       "    .dataframe tbody tr th {\n",
       "        vertical-align: top;\n",
       "    }\n",
       "\n",
       "    .dataframe thead th {\n",
       "        text-align: right;\n",
       "    }\n",
       "</style>\n",
       "<table border=\"1\" class=\"dataframe\">\n",
       "  <thead>\n",
       "    <tr style=\"text-align: right;\">\n",
       "      <th></th>\n",
       "      <th>Baseline</th>\n",
       "      <th>Vader</th>\n",
       "      <th>Textblob</th>\n",
       "    </tr>\n",
       "  </thead>\n",
       "  <tbody>\n",
       "    <tr>\n",
       "      <th>PlayerUnknown's Battlegrounds</th>\n",
       "      <td>0.573261</td>\n",
       "      <td>0.767430</td>\n",
       "      <td>0.746523</td>\n",
       "    </tr>\n",
       "    <tr>\n",
       "      <th>Cyberpunk 2077</th>\n",
       "      <td>0.811681</td>\n",
       "      <td>0.842318</td>\n",
       "      <td>0.813456</td>\n",
       "    </tr>\n",
       "    <tr>\n",
       "      <th>Fall Guys</th>\n",
       "      <td>0.815337</td>\n",
       "      <td>0.827559</td>\n",
       "      <td>0.751822</td>\n",
       "    </tr>\n",
       "  </tbody>\n",
       "</table>\n",
       "</div>"
      ],
      "text/plain": [
       "                               Baseline     Vader  Textblob\n",
       "PlayerUnknown's Battlegrounds  0.573261  0.767430  0.746523\n",
       "Cyberpunk 2077                 0.811681  0.842318  0.813456\n",
       "Fall Guys                      0.815337  0.827559  0.751822"
      ]
     },
     "execution_count": 26,
     "metadata": {},
     "output_type": "execute_result"
    }
   ],
   "source": [
    "# put results into a dataframe for easy comparison\n",
    "\n",
    "lexicon_scores = {}\n",
    "\n",
    "for df_name, df in dfs.items():\n",
    "    \n",
    "    # generate accuracy scores and baseline score\n",
    "    vader_acc_score = accuracy_score(df['label'], df['vader_pred'])\n",
    "    textblob_acc_score = accuracy_score(df['label'], df['textblob_pred'])\n",
    "    baseline_acc_score = df['label'].value_counts(normalize=True)[1]\n",
    "    \n",
    "    # add scores to dictionary\n",
    "    lexicon_scores[df_name] = [baseline_acc_score, vader_acc_score, textblob_acc_score]\n",
    "       \n",
    "lexicon_df = pd.DataFrame(data=lexicon_scores.values(), index=lexicon_scores.keys(), \n",
    "                          columns=['Baseline', 'Vader', 'Textblob'])\n",
    "lexicon_df.head()"
   ]
  },
  {
   "cell_type": "code",
   "execution_count": 27,
   "metadata": {
    "ExecuteTime": {
     "end_time": "2021-01-25T03:31:59.450547Z",
     "start_time": "2021-01-25T03:31:59.254402Z"
    }
   },
   "outputs": [
    {
     "data": {
      "image/png": "[encoded data removed]",
      "text/plain": [
       "<Figure size 720x432 with 1 Axes>"
      ]
     },
     "metadata": {},
     "output_type": "display_data"
    }
   ],
   "source": [
    "lexicon_df.plot.bar(figsize=(10, 6), width=0.6);\n",
    "\n",
    "plt.title('Barplot of accuracy scores for Baseline, Vader and Textblob', fontsize=16)\n",
    "plt.xticks(rotation=0);"
   ]
  },
  {
   "cell_type": "markdown",
   "metadata": {},
   "source": [
    "- **PUBG**: Vader outperformed Textblob.\n",
    "    - Both are better than the baseline accuracy score of 0.573\n",
    "\n",
    "\n",
    "- **Cyberpunk**: Vader outperformed Textblob.\n",
    "    - Vader is slightly better than the baseline accuracy score of 0.812\n",
    "    - Textblob is equivalent to the baseline accuracy score\n",
    "    \n",
    "\n",
    "- **Fall Guys**: Vader outperformed Textblob.\n",
    "    - Vader is very slightly better than the baseline accuracy score of 0.815\n",
    "    - Textblob is worse than the baseline accuracy score\n",
    "\n",
    "From the classification matrices, we can see that Textblob tended to predict a larger number of False Negatives, while Vader consistently predicted more False Positives. Overall, Vader consistently outperforms Textblob, with slightly better than the baseline accuracy for each game. \n",
    "\n",
    "This is likely due to how it is better tuned for social media sentiment analysis, and accounts for the use of degree modifiers (intensifiers such as very, extremely), punctuation and capitalization. Empirically, Textblob tends to perform better with more formal text (e.g. movie reviews) instead.\n",
    "\n",
    "The accuracy score may not be the best metric here given the rather imbalanced target variable for the case of Cyberpunk and Fall Guys. Nonetheless, this demonstrates how lexicon-based sentiment analysis methods can be applied to give a quick estimate of the overall sentiment of a consumer review."
   ]
  },
  {
   "cell_type": "markdown",
   "metadata": {},
   "source": [
    "# ML-based Sentiment Analysis"
   ]
  },
  {
   "cell_type": "markdown",
   "metadata": {},
   "source": [
    "While lexicon-based methods are a quick and efficient way to conduct sentiment analysis (since they have already been trained extensively beforehand), they may not be wholly accurate and generalizable as each corpus may have its own unique characteristics (e.g. nature of language, specific slang). \n",
    "\n",
    "As such, we will also apply machine learning techniques to perform sentiment analysis in this section."
   ]
  },
  {
   "cell_type": "markdown",
   "metadata": {},
   "source": [
    "## Preprocessing"
   ]
  },
  {
   "cell_type": "code",
   "execution_count": 6,
   "metadata": {
    "ExecuteTime": {
     "end_time": "2021-01-24T12:28:57.167588Z",
     "start_time": "2021-01-24T12:28:51.098749Z"
    }
   },
   "outputs": [],
   "source": [
    "# read in datasets again, with _ml suffix\n",
    "\n",
    "pubg_ml = pd.read_csv('datasets/pubg.csv')\n",
    "cyberpunk_ml = pd.read_csv('datasets/cyberpunk.csv')\n",
    "fallguys_ml = pd.read_csv('datasets/fallguys.csv')"
   ]
  },
  {
   "cell_type": "code",
   "execution_count": 7,
   "metadata": {
    "ExecuteTime": {
     "end_time": "2021-01-24T12:29:07.354483Z",
     "start_time": "2021-01-24T12:29:07.351503Z"
    }
   },
   "outputs": [],
   "source": [
    "# create dictionary of dataframes and names\n",
    "\n",
    "dfs_ml = {\"PlayerUnknown's Battlegrounds\": pubg_ml, \n",
    "          \"Cyberpunk 2077\": cyberpunk_ml, \n",
    "          \"Fall Guys\": fallguys_ml\n",
    "         }"
   ]
  },
  {
   "cell_type": "markdown",
   "metadata": {},
   "source": [
    "### Drop rows with `review_length` less than 10"
   ]
  },
  {
   "cell_type": "code",
   "execution_count": 83,
   "metadata": {
    "ExecuteTime": {
     "end_time": "2021-01-22T14:56:00.513962Z",
     "start_time": "2021-01-22T14:56:00.336932Z"
    }
   },
   "outputs": [
    {
     "name": "stdout",
     "output_type": "stream",
     "text": [
      "-------\n",
      "PlayerUnknown's Battlegrounds\n",
      "-------\n",
      "Number of rows before dropping: 227901\n",
      "Number of rows after dropping: 156905\n",
      "Rows dropped: 70996\n",
      " \n",
      "-------\n",
      "Cyberpunk 2077\n",
      "-------\n",
      "Number of rows before dropping: 75663\n",
      "Number of rows after dropping: 58210\n",
      "Rows dropped: 17453\n",
      " \n",
      "-------\n",
      "Fall Guys\n",
      "-------\n",
      "Number of rows before dropping: 78990\n",
      "Number of rows after dropping: 46262\n",
      "Rows dropped: 32728\n",
      " \n"
     ]
    }
   ],
   "source": [
    "# print number of rows for each dataset before and after dropping review_length < 10\n",
    "\n",
    "for df_name, df in dfs_ml.items():\n",
    "    \n",
    "    print('-------')\n",
    "    print(f'{df_name}')\n",
    "    print('-------')\n",
    "    print(f'Number of rows before dropping: {df.shape[0]}')\n",
    "    \n",
    "    no_rows_initial = df.shape[0]\n",
    "    \n",
    "    df.drop(df[df['review_length'] < 10].index, inplace=True)\n",
    "    print(f'Number of rows after dropping: {df.shape[0]}')\n",
    "    \n",
    "    no_rows_final = df.shape[0]\n",
    "    \n",
    "    print(f'Rows dropped: {no_rows_initial - no_rows_final}')\n",
    "    print(' ')"
   ]
  },
  {
   "cell_type": "markdown",
   "metadata": {},
   "source": [
    "### Stopword removal and lemmatization"
   ]
  },
  {
   "cell_type": "code",
   "execution_count": 84,
   "metadata": {
    "ExecuteTime": {
     "end_time": "2021-01-22T14:56:11.639564Z",
     "start_time": "2021-01-22T14:56:11.631116Z"
    }
   },
   "outputs": [],
   "source": [
    "# define stop words\n",
    "\n",
    "stopword_set = set(nltk_stopwords.words('english'))\n",
    "stopwords_to_remove = ['aren', \"aren't\", 'couldn', \"couldn't\", 'didn', \"didn't\", 'don', \"don't\", \n",
    "                       'hadn', \"hadn't\", 'hasn', \"hasn't\", 'haven', \"haven't\", 'isn', \"isn't\", \n",
    "                       'more', 'most', 'no', 'nor', 'not', 'only', 'should', \"should've\", 'shouldn',\n",
    "                       \"shouldn't\", 'wasn', \"wasn't\", 'weren', \"weren't\", 'won', \"won't\", 'wouldn', \"wouldn't\"]\n",
    "\n",
    "# add single letter characters, which are typical of memes/spam\n",
    "stopwords_to_add = ['a', 'b', 'c', 'd', 'e', 'f', 'g', 'h', 'i', 'j', 'k', 'l', 'm',\n",
    "                    'n', 'o', 'p', 'q', 'r', 's', 't', 'u', 'v', 'w', 'x', 'y', 'z']\n",
    "\n",
    "for stopword in stopwords_to_remove:\n",
    "    stopword_set.discard(stopword)\n",
    "    \n",
    "for stopword in stopwords_to_add:\n",
    "    stopword_set.add(stopword)"
   ]
  },
  {
   "cell_type": "code",
   "execution_count": 85,
   "metadata": {
    "ExecuteTime": {
     "end_time": "2021-01-22T14:56:13.096761Z",
     "start_time": "2021-01-22T14:56:13.093252Z"
    }
   },
   "outputs": [],
   "source": [
    "# define a function to obtain the part of speech tag of our text\n",
    "\n",
    "def get_wordnet_pos(word):\n",
    "    \n",
    "    tag = pos_tag([word])[0][1][0].upper()\n",
    "    tag_dict = {\"J\": wordnet.ADJ,\n",
    "                \"N\": wordnet.NOUN,\n",
    "                \"V\": wordnet.VERB,\n",
    "                \"R\": wordnet.ADV}\n",
    "\n",
    "    # return NOUN if the tag cannot be found\n",
    "    return tag_dict.get(tag, wordnet.NOUN)"
   ]
  },
  {
   "cell_type": "code",
   "execution_count": 86,
   "metadata": {
    "ExecuteTime": {
     "end_time": "2021-01-22T14:56:13.545720Z",
     "start_time": "2021-01-22T14:56:13.540732Z"
    }
   },
   "outputs": [],
   "source": [
    "# define a function for lemmatization and stop word removal\n",
    "\n",
    "def stopword_lemmatizer(text, lemmatizer):\n",
    "    \"\"\"\n",
    "    Removes stop words, and then lemmatizes a text string based on its POS tag. \n",
    "    \"\"\"\n",
    "    meaningful_words = ' '.join([word for word in text.split() if word not in stopword_set])\n",
    "    lemmed_words = ' '.join(map(lambda x: lemmatizer.lemmatize(x, get_wordnet_pos(x)), meaningful_words.split()))\n",
    "    \n",
    "    return lemmed_words"
   ]
  },
  {
   "cell_type": "code",
   "execution_count": 87,
   "metadata": {
    "ExecuteTime": {
     "end_time": "2021-01-22T14:56:15.732916Z",
     "start_time": "2021-01-22T14:56:15.730889Z"
    }
   },
   "outputs": [],
   "source": [
    "# initialize lemmatizer\n",
    "\n",
    "lemma = WordNetLemmatizer()"
   ]
  },
  {
   "cell_type": "code",
   "execution_count": 88,
   "metadata": {
    "ExecuteTime": {
     "end_time": "2021-01-22T16:10:58.461174Z",
     "start_time": "2021-01-22T14:56:33.743838Z"
    }
   },
   "outputs": [
    {
     "name": "stdout",
     "output_type": "stream",
     "text": [
      "-------\n",
      "Lemmatizing dataset for PlayerUnknown's Battlegrounds...\n",
      "Lemmatization for PlayerUnknown's Battlegrounds complete.\n",
      "-------\n",
      "\n",
      "-------\n",
      "Lemmatizing dataset for Cyberpunk 2077...\n",
      "Lemmatization for Cyberpunk 2077 complete.\n",
      "-------\n",
      "\n",
      "-------\n",
      "Lemmatizing dataset for Fall Guys...\n",
      "Lemmatization for Fall Guys complete.\n",
      "-------\n",
      "\n"
     ]
    }
   ],
   "source": [
    "# lemmatize the clean_text in the dataframes - takes a long time\n",
    "\n",
    "for df_name, df in dfs_ml.items():\n",
    "    \n",
    "    print('-------')\n",
    "    print(f'Lemmatizing dataset for {df_name}...')\n",
    "    df['lemmed_text'] = df['clean_text'].apply(stopword_lemmatizer, lemmatizer=lemma)\n",
    "    print(f'Lemmatization for {df_name} complete.')\n",
    "    print('-------')\n",
    "    print('')"
   ]
  },
  {
   "cell_type": "code",
   "execution_count": 90,
   "metadata": {
    "ExecuteTime": {
     "end_time": "2021-01-22T16:11:34.298148Z",
     "start_time": "2021-01-22T16:11:34.293161Z"
    }
   },
   "outputs": [],
   "source": [
    "# define a function to obtain the length of the lemmed_text\n",
    "\n",
    "def lem_review_length(text):\n",
    "    try:\n",
    "        return len(text.split())\n",
    "    except:\n",
    "        return 0"
   ]
  },
  {
   "cell_type": "code",
   "execution_count": 91,
   "metadata": {
    "ExecuteTime": {
     "end_time": "2021-01-22T16:11:35.933927Z",
     "start_time": "2021-01-22T16:11:35.126397Z"
    }
   },
   "outputs": [],
   "source": [
    "# obtain length of lemmed text\n",
    "\n",
    "for df in dfs_ml.values():\n",
    "    df['lemmed_review_length'] = df['lemmed_text'].apply(lem_review_length)"
   ]
  },
  {
   "cell_type": "markdown",
   "metadata": {},
   "source": [
    "### Drop rows with `lemmed_review_length` less than 10"
   ]
  },
  {
   "cell_type": "code",
   "execution_count": 93,
   "metadata": {
    "ExecuteTime": {
     "end_time": "2021-01-22T16:11:45.056242Z",
     "start_time": "2021-01-22T16:11:44.157206Z"
    }
   },
   "outputs": [
    {
     "name": "stdout",
     "output_type": "stream",
     "text": [
      "-------\n",
      "PlayerUnknown's Battlegrounds\n",
      "-------\n",
      "Number of rows before dropping: 156905\n",
      "Number of rows after dropping: 123254\n",
      "Rows dropped: 33651\n",
      "-------\n",
      "Cyberpunk 2077\n",
      "-------\n",
      "Number of rows before dropping: 58210\n",
      "Number of rows after dropping: 47619\n",
      "Rows dropped: 10591\n",
      "-------\n",
      "Fall Guys\n",
      "-------\n",
      "Number of rows before dropping: 46262\n",
      "Number of rows after dropping: 31520\n",
      "Rows dropped: 14742\n"
     ]
    }
   ],
   "source": [
    "# print number of rows for each dataset before and after dropping lemmed_review_length < 10\n",
    "\n",
    "for df_name, df in dfs_ml.items():\n",
    "    \n",
    "    print('-------')\n",
    "    print(f'{df_name}')\n",
    "    print('-------')\n",
    "    print(f'Number of rows before dropping: {df.shape[0]}')\n",
    "    \n",
    "    no_rows_initial = df.shape[0]\n",
    "    \n",
    "    df.drop(df[df['lemmed_review_length'] < 10].index, inplace=True)\n",
    "    print(f'Number of rows after dropping: {df.shape[0]}')\n",
    "    \n",
    "    no_rows_final = df.shape[0]\n",
    "    \n",
    "    print(f'Rows dropped: {no_rows_initial - no_rows_final}')"
   ]
  },
  {
   "cell_type": "markdown",
   "metadata": {},
   "source": [
    "### Drop rows that mainly comprise spam\n"
   ]
  },
  {
   "cell_type": "code",
   "execution_count": 94,
   "metadata": {
    "ExecuteTime": {
     "end_time": "2021-01-22T16:11:49.558322Z",
     "start_time": "2021-01-22T16:11:49.553336Z"
    }
   },
   "outputs": [],
   "source": [
    "# define a function to mark reviews which are likely to be spam\n",
    "\n",
    "def spam_detector(text):\n",
    "    \n",
    "    split_text = text.split()\n",
    "    \n",
    "    # find all the unique words in the lemmed_words column\n",
    "    unique_words = set(split_text)\n",
    "    \n",
    "    for word in unique_words:\n",
    "        \n",
    "        # expect the term 'game' to crop up multiple times\n",
    "        if word == 'game': \n",
    "            continue\n",
    "            \n",
    "        word_count = split_text.count(word)\n",
    "        \n",
    "        # we mark the review as spam only if it contains more than 20 instances of the same word\n",
    "        if word_count > 20:\n",
    "            return 1\n",
    "        \n",
    "    else:\n",
    "        return 0"
   ]
  },
  {
   "cell_type": "code",
   "execution_count": 95,
   "metadata": {
    "ExecuteTime": {
     "end_time": "2021-01-22T16:12:10.823205Z",
     "start_time": "2021-01-22T16:11:53.512808Z"
    }
   },
   "outputs": [
    {
     "name": "stdout",
     "output_type": "stream",
     "text": [
      "-------\n",
      "PlayerUnknown's Battlegrounds\n",
      "-------\n",
      "Number of rows before dropping: 123254\n",
      "Number of rows after dropping: 123058\n",
      "Rows dropped: 196\n",
      "-------\n",
      "Cyberpunk 2077\n",
      "-------\n",
      "Number of rows before dropping: 47619\n",
      "Number of rows after dropping: 47583\n",
      "Rows dropped: 36\n",
      "-------\n",
      "Fall Guys\n",
      "-------\n",
      "Number of rows before dropping: 31520\n",
      "Number of rows after dropping: 31490\n",
      "Rows dropped: 30\n"
     ]
    }
   ],
   "source": [
    "# print number of rows for each dataset before and after dropping spam reviews\n",
    "\n",
    "for df_name, df in dfs_ml.items():\n",
    "    \n",
    "    print('-------')\n",
    "    print(f'{df_name}')\n",
    "    print('-------')\n",
    "    print(f'Number of rows before dropping: {df.shape[0]}')\n",
    "    \n",
    "    no_rows_initial = df.shape[0]\n",
    "    df['spam_detected'] = df['lemmed_text'].apply(spam_detector)\n",
    "    df.drop(df[df['spam_detected'] == 1].index, inplace=True)\n",
    "    print(f'Number of rows after dropping: {df.shape[0]}')\n",
    "    \n",
    "    no_rows_final = df.shape[0]\n",
    "    \n",
    "    print(f'Rows dropped: {no_rows_initial - no_rows_final}')"
   ]
  },
  {
   "cell_type": "markdown",
   "metadata": {},
   "source": [
    "A great deal of cleaning was required for the dataset, given that the typical Steam review section is populated with a lot of random noise - ranging from random ASCII art, memes, to repeated 'copypastas' that have no relevance to the game whatsoever. Unfortunately, the above cleaning steps are not sufficient to eliminate all of the aforementioned noise. Nonetheless, we will proceed with the subsequent modelling."
   ]
  },
  {
   "cell_type": "markdown",
   "metadata": {},
   "source": [
    "### Export to new .csv files"
   ]
  },
  {
   "cell_type": "code",
   "execution_count": 96,
   "metadata": {
    "ExecuteTime": {
     "end_time": "2021-01-22T16:12:46.126945Z",
     "start_time": "2021-01-22T16:12:33.746806Z"
    }
   },
   "outputs": [],
   "source": [
    "pubg_ml.to_csv('datasets/pubgcleaned.csv')\n",
    "cyberpunk_ml.to_csv('datasets/cyberpunkcleaned.csv')\n",
    "fallguys_ml.to_csv('datasets/fallguyscleaned.csv')"
   ]
  },
  {
   "cell_type": "markdown",
   "metadata": {},
   "source": [
    "### Preparation of train and test datasets"
   ]
  },
  {
   "cell_type": "code",
   "execution_count": 8,
   "metadata": {
    "ExecuteTime": {
     "end_time": "2021-01-25T09:12:34.492845Z",
     "start_time": "2021-01-25T09:12:34.488857Z"
    }
   },
   "outputs": [],
   "source": [
    "# columns to be kept\n",
    "\n",
    "cols_to_keep = ['review', 'lemmed_text', 'label']"
   ]
  },
  {
   "cell_type": "code",
   "execution_count": 9,
   "metadata": {
    "ExecuteTime": {
     "end_time": "2021-01-25T09:12:35.038043Z",
     "start_time": "2021-01-25T09:12:35.009543Z"
    }
   },
   "outputs": [],
   "source": [
    "# create new dataframes with only columns of interest\n",
    "\n",
    "pubg_df_ml = pubg_ml[cols_to_keep].copy()\n",
    "cyberpunk_df_ml = cyberpunk_ml[cols_to_keep].copy()\n",
    "fallguys_df_ml = fallguys_ml[cols_to_keep].copy()"
   ]
  },
  {
   "cell_type": "markdown",
   "metadata": {},
   "source": [
    "## PUBG"
   ]
  },
  {
   "cell_type": "code",
   "execution_count": 10,
   "metadata": {
    "ExecuteTime": {
     "end_time": "2021-01-25T09:12:37.075819Z",
     "start_time": "2021-01-25T09:12:37.071831Z"
    }
   },
   "outputs": [],
   "source": [
    "X_pubg = pubg_df_ml['lemmed_text']\n",
    "y_pubg = pubg_df_ml['label']"
   ]
  },
  {
   "cell_type": "code",
   "execution_count": 11,
   "metadata": {
    "ExecuteTime": {
     "end_time": "2021-01-25T09:12:38.096489Z",
     "start_time": "2021-01-25T09:12:38.064993Z"
    }
   },
   "outputs": [
    {
     "data": {
      "text/plain": [
       "0    0.534894\n",
       "1    0.465106\n",
       "Name: label, dtype: float64"
      ]
     },
     "execution_count": 11,
     "metadata": {},
     "output_type": "execute_result"
    }
   ],
   "source": [
    "y_pubg.value_counts(normalize=True)"
   ]
  },
  {
   "cell_type": "markdown",
   "metadata": {},
   "source": [
    "Our baseline accuracy is **0.535**."
   ]
  },
  {
   "cell_type": "code",
   "execution_count": 12,
   "metadata": {
    "ExecuteTime": {
     "end_time": "2021-01-25T09:12:41.501786Z",
     "start_time": "2021-01-25T09:12:41.443049Z"
    }
   },
   "outputs": [],
   "source": [
    "# create training and test sets\n",
    "\n",
    "X_pubg_train, X_pubg_test, y_pubg_train, y_pubg_test = train_test_split(X_pubg,\n",
    "                                                                        y_pubg,\n",
    "                                                                        test_size=0.25,\n",
    "                                                                        stratify=y_pubg,\n",
    "                                                                        random_state=42)"
   ]
  },
  {
   "cell_type": "markdown",
   "metadata": {},
   "source": [
    "### Logistic Regression"
   ]
  },
  {
   "cell_type": "code",
   "execution_count": 13,
   "metadata": {
    "ExecuteTime": {
     "end_time": "2021-01-25T09:12:42.384894Z",
     "start_time": "2021-01-25T09:12:42.379778Z"
    }
   },
   "outputs": [],
   "source": [
    "# set up pipeline for LogisticRegression\n",
    "\n",
    "pipe_pubg_lr = Pipeline([\n",
    "                ('tvec', TfidfVectorizer(analyzer = 'word',\n",
    "                             tokenizer = None,\n",
    "                             preprocessor = None,\n",
    "                             stop_words = None,\n",
    "                             )),\n",
    "                ('lr', SGDClassifier(loss='log', penalty='l2'))\n",
    "])"
   ]
  },
  {
   "cell_type": "code",
   "execution_count": 14,
   "metadata": {
    "ExecuteTime": {
     "end_time": "2021-01-25T09:12:43.940667Z",
     "start_time": "2021-01-25T09:12:43.936710Z"
    }
   },
   "outputs": [],
   "source": [
    "# set up parameter grid for our pipe_lr\n",
    "\n",
    "pipe_pubg_lr_params = {\n",
    "                    'tvec__max_features': [10000], # [10000, 20000, 30000, 40000]\n",
    "                    'tvec__min_df': [10], # [5, 10]\n",
    "                    'tvec__max_df': [0.70], # [0.30, 0.50, 0.70]\n",
    "                    'tvec__ngram_range': [(1, 2)], # [(1, 1), (1, 2)]\n",
    "                    'lr__alpha': [0.0001] # [0.0001, 0.001, 0.01]\n",
    "}"
   ]
  },
  {
   "cell_type": "code",
   "execution_count": 35,
   "metadata": {
    "ExecuteTime": {
     "end_time": "2021-01-25T09:21:11.565139Z",
     "start_time": "2021-01-25T09:21:11.561150Z"
    }
   },
   "outputs": [],
   "source": [
    "# instantiate GridSearchCV\n",
    "\n",
    "gs_pubg_lr = GridSearchCV(pipe_pubg_lr, \n",
    "                          param_grid=pipe_pubg_lr_params,\n",
    "                          scoring='roc_auc',\n",
    "                          cv=5,\n",
    "                          verbose=1,\n",
    "                          n_jobs=-1)"
   ]
  },
  {
   "cell_type": "code",
   "execution_count": 16,
   "metadata": {
    "ExecuteTime": {
     "end_time": "2021-01-25T09:13:20.778143Z",
     "start_time": "2021-01-25T09:12:49.076705Z"
    }
   },
   "outputs": [
    {
     "name": "stdout",
     "output_type": "stream",
     "text": [
      "Fitting 5 folds for each of 1 candidates, totalling 5 fits\n"
     ]
    },
    {
     "name": "stderr",
     "output_type": "stream",
     "text": [
      "[Parallel(n_jobs=-1)]: Using backend LokyBackend with 8 concurrent workers.\n",
      "[Parallel(n_jobs=-1)]: Done   2 out of   5 | elapsed:   19.3s remaining:   29.0s\n",
      "[Parallel(n_jobs=-1)]: Done   5 out of   5 | elapsed:   19.5s finished\n"
     ]
    },
    {
     "data": {
      "text/plain": [
       "GridSearchCV(cv=5,\n",
       "             estimator=Pipeline(steps=[('tvec', TfidfVectorizer()),\n",
       "                                       ('lr', SGDClassifier(loss='log'))]),\n",
       "             n_jobs=-1,\n",
       "             param_grid={'lr__alpha': [0.0001], 'tvec__max_df': [0.7],\n",
       "                         'tvec__max_features': [10000], 'tvec__min_df': [10],\n",
       "                         'tvec__ngram_range': [(1, 2)]},\n",
       "             scoring='roc_auc', verbose=1)"
      ]
     },
     "execution_count": 16,
     "metadata": {},
     "output_type": "execute_result"
    }
   ],
   "source": [
    "# search through the parameter grid using GridSearchCV\n",
    "\n",
    "gs_pubg_lr.fit(X_pubg_train, y_pubg_train)"
   ]
  },
  {
   "cell_type": "code",
   "execution_count": 17,
   "metadata": {
    "ExecuteTime": {
     "end_time": "2021-01-25T09:13:20.784129Z",
     "start_time": "2021-01-25T09:13:20.779141Z"
    }
   },
   "outputs": [],
   "source": [
    "def gridsearch_model(gs):\n",
    "    \"\"\"\n",
    "    Takes in a fitted GridSearchCV object as input and prints the best score, best parameters and returns the best\n",
    "    estimator.\n",
    "    \"\"\"\n",
    "    print('--------')\n",
    "    print(f'Best mean cross-validated ROC-AUC score: {gs.best_score_:.4f}')\n",
    "    print('--------')\n",
    "    print('Best parameters:')\n",
    "    display(gs.best_params_)\n",
    "    model = gs.best_estimator_\n",
    "    \n",
    "    return model"
   ]
  },
  {
   "cell_type": "code",
   "execution_count": 18,
   "metadata": {
    "ExecuteTime": {
     "end_time": "2021-01-25T09:13:20.791109Z",
     "start_time": "2021-01-25T09:13:20.786124Z"
    }
   },
   "outputs": [
    {
     "name": "stdout",
     "output_type": "stream",
     "text": [
      "--------\n",
      "Best mean cross-validated ROC-AUC score: 0.9271\n",
      "--------\n",
      "Best parameters:\n"
     ]
    },
    {
     "data": {
      "text/plain": [
       "{'lr__alpha': 0.0001,\n",
       " 'tvec__max_df': 0.7,\n",
       " 'tvec__max_features': 10000,\n",
       " 'tvec__min_df': 10,\n",
       " 'tvec__ngram_range': (1, 2)}"
      ]
     },
     "metadata": {},
     "output_type": "display_data"
    }
   ],
   "source": [
    "# print out gridsearch info for LogReg and save our LogisticRegression model\n",
    "\n",
    "pubg_lr_model = gridsearch_model(gs_pubg_lr)"
   ]
  },
  {
   "cell_type": "code",
   "execution_count": 19,
   "metadata": {
    "ExecuteTime": {
     "end_time": "2021-01-25T09:13:42.137183Z",
     "start_time": "2021-01-25T09:13:29.641195Z"
    }
   },
   "outputs": [
    {
     "data": {
      "text/plain": [
       "Pipeline(steps=[('tvec',\n",
       "                 TfidfVectorizer(max_df=0.7, max_features=10000, min_df=10,\n",
       "                                 ngram_range=(1, 2))),\n",
       "                ('lr', SGDClassifier(loss='log'))])"
      ]
     },
     "execution_count": 19,
     "metadata": {},
     "output_type": "execute_result"
    }
   ],
   "source": [
    "# fit LogisticRegression model\n",
    "\n",
    "pubg_lr_model.fit(X_pubg_train, y_pubg_train)"
   ]
  },
  {
   "cell_type": "code",
   "execution_count": 20,
   "metadata": {
    "ExecuteTime": {
     "end_time": "2021-01-25T09:13:58.011418Z",
     "start_time": "2021-01-25T09:13:58.002443Z"
    }
   },
   "outputs": [],
   "source": [
    "# define a function to plot the ROC-AUC curve, relevant metrics and also the confusion matrix\n",
    "\n",
    "def plot_matrix_rocauc_metrics(model, model_name, X_train, X_test, y_train, y_test):\n",
    "    \"\"\"\n",
    "    Combines the plot_confusion_matrix and plot_roc_curve functions from the sklearn library into one function.\n",
    "    \"\"\"\n",
    "    print('--------')\n",
    "    print(f'Results for {model_name} model:')\n",
    "    print('--------')\n",
    "    print('')\n",
    "    print(f'Accuracy score on train data ---: {model.score(X_train, y_train):.4f}')\n",
    "    print(f'Accuracy score on test data ----: {model.score(X_test, y_test):.4f}')\n",
    "    \n",
    "    if model_name == 'Support Vector Classifier':\n",
    "        plot_confusion_matrix(model, X_test, y_test, cmap='cividis')\n",
    "        plt.grid(False)\n",
    "    \n",
    "    else:\n",
    "        print(f'ROC-AUC score on train data ----: {roc_auc_score(y_train, model.predict_proba(X_train)[:, 1]):.4f}')\n",
    "        print(f'ROC-AUC score on test data -----: {roc_auc_score(y_test, model.predict_proba(X_test)[:, 1]):.4f}')                                                           \n",
    "\n",
    "        fig, ax = plt.subplots(nrows=2, ncols=1, figsize=(6, 12))\n",
    "        plot_confusion_matrix(model, X_test, y_test, cmap='cividis', ax=ax[0])\n",
    "        ax[0].grid(False)\n",
    "    \n",
    "        plot_roc_curve(model, X_test, y_test, c='midnightblue', ax=ax[1])"
   ]
  },
  {
   "cell_type": "code",
   "execution_count": 21,
   "metadata": {
    "ExecuteTime": {
     "end_time": "2021-01-25T09:14:24.931675Z",
     "start_time": "2021-01-25T09:14:02.865159Z"
    }
   },
   "outputs": [
    {
     "name": "stdout",
     "output_type": "stream",
     "text": [
      "--------\n",
      "Results for Logistic Regression model:\n",
      "--------\n",
      "\n",
      "Accuracy score on train data ---: 0.8613\n",
      "Accuracy score on test data ----: 0.8555\n",
      "ROC-AUC score on train data ----: 0.9332\n",
      "ROC-AUC score on test data -----: 0.9267\n"
     ]
    },
    {
     "data": {
      "image/png": "[encoded data removed]",
      "text/plain": [
       "<Figure size 432x864 with 3 Axes>"
      ]
     },
     "metadata": {},
     "output_type": "display_data"
    }
   ],
   "source": [
    "# print results for LogisticRegression model and plot confusion matrix, ROC curve\n",
    "\n",
    "plot_matrix_rocauc_metrics(pubg_lr_model, 'Logistic Regression', X_pubg_train, X_pubg_test, y_pubg_train, y_pubg_test)"
   ]
  },
  {
   "cell_type": "code",
   "execution_count": 22,
   "metadata": {
    "ExecuteTime": {
     "end_time": "2021-01-25T09:14:33.909898Z",
     "start_time": "2021-01-25T09:14:33.897931Z"
    }
   },
   "outputs": [],
   "source": [
    "# obtain feature names from the individual steps of the pipeline\n",
    "\n",
    "pubg_lr_feature_names = pubg_lr_model.steps[0][1].get_feature_names()"
   ]
  },
  {
   "cell_type": "code",
   "execution_count": 23,
   "metadata": {
    "ExecuteTime": {
     "end_time": "2021-01-25T09:14:34.334346Z",
     "start_time": "2021-01-25T09:14:34.331389Z"
    }
   },
   "outputs": [],
   "source": [
    "# obtain feature coefficients from the individual steps of the pipeline\n",
    "\n",
    "pubg_lr_coef = pubg_lr_model.steps[1][1].coef_[0]"
   ]
  },
  {
   "cell_type": "code",
   "execution_count": 27,
   "metadata": {
    "ExecuteTime": {
     "end_time": "2021-01-25T09:16:08.606027Z",
     "start_time": "2021-01-25T09:16:08.597983Z"
    }
   },
   "outputs": [],
   "source": [
    "# combine into a DataFrame\n",
    "\n",
    "pubg_feature_df = pd.DataFrame(data={'Feature': pubg_lr_feature_names, \n",
    "                                     'Coefficient': pubg_lr_coef,\n",
    "                                     'Exponent of Coefficient': np.exp(pubg_lr_coef)})"
   ]
  },
  {
   "cell_type": "code",
   "execution_count": 28,
   "metadata": {
    "ExecuteTime": {
     "end_time": "2021-01-25T09:16:10.548319Z",
     "start_time": "2021-01-25T09:16:10.532993Z"
    },
    "scrolled": true
   },
   "outputs": [
    {
     "data": {
      "text/html": [
       "<div>\n",
       "<style scoped>\n",
       "    .dataframe tbody tr th:only-of-type {\n",
       "        vertical-align: middle;\n",
       "    }\n",
       "\n",
       "    .dataframe tbody tr th {\n",
       "        vertical-align: top;\n",
       "    }\n",
       "\n",
       "    .dataframe thead th {\n",
       "        text-align: right;\n",
       "    }\n",
       "</style>\n",
       "<table border=\"1\" class=\"dataframe\">\n",
       "  <thead>\n",
       "    <tr style=\"text-align: right;\">\n",
       "      <th></th>\n",
       "      <th>Feature</th>\n",
       "      <th>Coefficient</th>\n",
       "      <th>Exponent of Coefficient</th>\n",
       "    </tr>\n",
       "  </thead>\n",
       "  <tbody>\n",
       "    <tr>\n",
       "      <th>924</th>\n",
       "      <td>best</td>\n",
       "      <td>4.394512</td>\n",
       "      <td>81.005116</td>\n",
       "    </tr>\n",
       "    <tr>\n",
       "      <th>5780</th>\n",
       "      <td>money</td>\n",
       "      <td>-4.257139</td>\n",
       "      <td>0.014163</td>\n",
       "    </tr>\n",
       "    <tr>\n",
       "      <th>4125</th>\n",
       "      <td>great</td>\n",
       "      <td>4.183831</td>\n",
       "      <td>65.616738</td>\n",
       "    </tr>\n",
       "    <tr>\n",
       "      <th>751</th>\n",
       "      <td>bad</td>\n",
       "      <td>-3.773743</td>\n",
       "      <td>0.022966</td>\n",
       "    </tr>\n",
       "    <tr>\n",
       "      <th>4030</th>\n",
       "      <td>good</td>\n",
       "      <td>3.587656</td>\n",
       "      <td>36.149241</td>\n",
       "    </tr>\n",
       "    <tr>\n",
       "      <th>3088</th>\n",
       "      <td>fun</td>\n",
       "      <td>3.528498</td>\n",
       "      <td>34.072743</td>\n",
       "    </tr>\n",
       "    <tr>\n",
       "      <th>6213</th>\n",
       "      <td>not</td>\n",
       "      <td>-3.505834</td>\n",
       "      <td>0.030022</td>\n",
       "    </tr>\n",
       "    <tr>\n",
       "      <th>5374</th>\n",
       "      <td>love</td>\n",
       "      <td>3.325757</td>\n",
       "      <td>27.820050</td>\n",
       "    </tr>\n",
       "    <tr>\n",
       "      <th>1352</th>\n",
       "      <td>cheater</td>\n",
       "      <td>-3.215518</td>\n",
       "      <td>0.040135</td>\n",
       "    </tr>\n",
       "    <tr>\n",
       "      <th>6343</th>\n",
       "      <td>not worth</td>\n",
       "      <td>-3.166155</td>\n",
       "      <td>0.042165</td>\n",
       "    </tr>\n",
       "    <tr>\n",
       "      <th>525</th>\n",
       "      <td>amaze</td>\n",
       "      <td>3.102225</td>\n",
       "      <td>22.247389</td>\n",
       "    </tr>\n",
       "    <tr>\n",
       "      <th>3747</th>\n",
       "      <td>garbage</td>\n",
       "      <td>-2.994633</td>\n",
       "      <td>0.050055</td>\n",
       "    </tr>\n",
       "    <tr>\n",
       "      <th>4132</th>\n",
       "      <td>great game</td>\n",
       "      <td>2.978689</td>\n",
       "      <td>19.662032</td>\n",
       "    </tr>\n",
       "    <tr>\n",
       "      <th>4233</th>\n",
       "      <td>hacker</td>\n",
       "      <td>-2.975299</td>\n",
       "      <td>0.051032</td>\n",
       "    </tr>\n",
       "    <tr>\n",
       "      <th>9375</th>\n",
       "      <td>unplayable</td>\n",
       "      <td>-2.940393</td>\n",
       "      <td>0.052845</td>\n",
       "    </tr>\n",
       "    <tr>\n",
       "      <th>9610</th>\n",
       "      <td>waste</td>\n",
       "      <td>-2.939711</td>\n",
       "      <td>0.052881</td>\n",
       "    </tr>\n",
       "    <tr>\n",
       "      <th>725</th>\n",
       "      <td>awesome</td>\n",
       "      <td>2.902439</td>\n",
       "      <td>18.218533</td>\n",
       "    </tr>\n",
       "    <tr>\n",
       "      <th>8174</th>\n",
       "      <td>shit</td>\n",
       "      <td>-2.898843</td>\n",
       "      <td>0.055087</td>\n",
       "    </tr>\n",
       "    <tr>\n",
       "      <th>2994</th>\n",
       "      <td>friend</td>\n",
       "      <td>2.895499</td>\n",
       "      <td>18.092530</td>\n",
       "    </tr>\n",
       "    <tr>\n",
       "      <th>9234</th>\n",
       "      <td>trash</td>\n",
       "      <td>-2.872254</td>\n",
       "      <td>0.056571</td>\n",
       "    </tr>\n",
       "    <tr>\n",
       "      <th>6134</th>\n",
       "      <td>no</td>\n",
       "      <td>-2.818370</td>\n",
       "      <td>0.059703</td>\n",
       "    </tr>\n",
       "    <tr>\n",
       "      <th>13</th>\n",
       "      <td>10 10</td>\n",
       "      <td>2.802516</td>\n",
       "      <td>16.486068</td>\n",
       "    </tr>\n",
       "    <tr>\n",
       "      <th>8937</th>\n",
       "      <td>terrible</td>\n",
       "      <td>-2.697156</td>\n",
       "      <td>0.067397</td>\n",
       "    </tr>\n",
       "    <tr>\n",
       "      <th>1729</th>\n",
       "      <td>crash</td>\n",
       "      <td>-2.619440</td>\n",
       "      <td>0.072844</td>\n",
       "    </tr>\n",
       "    <tr>\n",
       "      <th>7644</th>\n",
       "      <td>refund</td>\n",
       "      <td>-2.566295</td>\n",
       "      <td>0.076820</td>\n",
       "    </tr>\n",
       "    <tr>\n",
       "      <th>6312</th>\n",
       "      <td>not recommend</td>\n",
       "      <td>-2.549716</td>\n",
       "      <td>0.078104</td>\n",
       "    </tr>\n",
       "    <tr>\n",
       "      <th>2448</th>\n",
       "      <td>even</td>\n",
       "      <td>-2.532367</td>\n",
       "      <td>0.079471</td>\n",
       "    </tr>\n",
       "    <tr>\n",
       "      <th>7854</th>\n",
       "      <td>ruin</td>\n",
       "      <td>-2.498989</td>\n",
       "      <td>0.082168</td>\n",
       "    </tr>\n",
       "    <tr>\n",
       "      <th>12</th>\n",
       "      <td>10</td>\n",
       "      <td>2.482395</td>\n",
       "      <td>11.969892</td>\n",
       "    </tr>\n",
       "    <tr>\n",
       "      <th>1337</th>\n",
       "      <td>cheat</td>\n",
       "      <td>-2.471530</td>\n",
       "      <td>0.084456</td>\n",
       "    </tr>\n",
       "  </tbody>\n",
       "</table>\n",
       "</div>"
      ],
      "text/plain": [
       "            Feature  Coefficient  Exponent of Coefficient\n",
       "924            best     4.394512                81.005116\n",
       "5780          money    -4.257139                 0.014163\n",
       "4125          great     4.183831                65.616738\n",
       "751             bad    -3.773743                 0.022966\n",
       "4030           good     3.587656                36.149241\n",
       "3088            fun     3.528498                34.072743\n",
       "6213            not    -3.505834                 0.030022\n",
       "5374           love     3.325757                27.820050\n",
       "1352        cheater    -3.215518                 0.040135\n",
       "6343      not worth    -3.166155                 0.042165\n",
       "525           amaze     3.102225                22.247389\n",
       "3747        garbage    -2.994633                 0.050055\n",
       "4132     great game     2.978689                19.662032\n",
       "4233         hacker    -2.975299                 0.051032\n",
       "9375     unplayable    -2.940393                 0.052845\n",
       "9610          waste    -2.939711                 0.052881\n",
       "725         awesome     2.902439                18.218533\n",
       "8174           shit    -2.898843                 0.055087\n",
       "2994         friend     2.895499                18.092530\n",
       "9234          trash    -2.872254                 0.056571\n",
       "6134             no    -2.818370                 0.059703\n",
       "13            10 10     2.802516                16.486068\n",
       "8937       terrible    -2.697156                 0.067397\n",
       "1729          crash    -2.619440                 0.072844\n",
       "7644         refund    -2.566295                 0.076820\n",
       "6312  not recommend    -2.549716                 0.078104\n",
       "2448           even    -2.532367                 0.079471\n",
       "7854           ruin    -2.498989                 0.082168\n",
       "12               10     2.482395                11.969892\n",
       "1337          cheat    -2.471530                 0.084456"
      ]
     },
     "execution_count": 28,
     "metadata": {},
     "output_type": "execute_result"
    }
   ],
   "source": [
    "# sort by the magnitude and display the top 30 values\n",
    "\n",
    "pubg_lr_top30 = pubg_feature_df.sort_values(by='Coefficient', key=abs, ascending=False).head(30)\n",
    "pubg_lr_top30"
   ]
  },
  {
   "cell_type": "markdown",
   "metadata": {},
   "source": [
    "The coefficients of a Logistic Regression model are easily interpretable. For example, a one unit increase in the Tf-idf vector for 'best' would mean that the post is $e^{4.394512} = 81$  times more likely to be a positive review."
   ]
  },
  {
   "cell_type": "code",
   "execution_count": 29,
   "metadata": {
    "ExecuteTime": {
     "end_time": "2021-01-25T09:17:44.631740Z",
     "start_time": "2021-01-25T09:17:44.314006Z"
    }
   },
   "outputs": [
    {
     "data": {
      "image/png": "[encoded data removed]",
      "text/plain": [
       "<Figure size 1080x864 with 1 Axes>"
      ]
     },
     "metadata": {},
     "output_type": "display_data"
    }
   ],
   "source": [
    "# display in a bar plot\n",
    "\n",
    "pubg_lr_top30.plot(x='Feature', y='Coefficient', kind='barh', figsize=(15, 12), width=0.5,\n",
    "                   color=(pubg_lr_top30['Coefficient'] >= 0).map({True: 'darkolivegreen', False: 'darkred'}),\n",
    "                   legend=False)\n",
    "                                                             \n",
    "plt.title('Bar plot of LogisticRegression feature coefficients for PUBG', fontsize=20)\n",
    "plt.xlabel('Coefficient', fontsize=15)\n",
    "plt.gca().invert_yaxis();\n",
    "plt.grid(False)"
   ]
  },
  {
   "cell_type": "markdown",
   "metadata": {},
   "source": [
    "### Naive Bayes Classifier"
   ]
  },
  {
   "cell_type": "code",
   "execution_count": 30,
   "metadata": {
    "ExecuteTime": {
     "end_time": "2021-01-25T09:19:37.805496Z",
     "start_time": "2021-01-25T09:19:37.801506Z"
    }
   },
   "outputs": [],
   "source": [
    "# set up pipeline for MultinomialNB\n",
    "# MultinomialNB is used even though the inputs are not integer counts; works with tf-idf vectors\n",
    "\n",
    "pipe_pubg_nb = Pipeline([\n",
    "    ('tvec', TfidfVectorizer(analyzer = \"word\",\n",
    "                             tokenizer = None,\n",
    "                             preprocessor = None,\n",
    "                             stop_words = None\n",
    "                             )),\n",
    "    ('nb', MultinomialNB())\n",
    "])"
   ]
  },
  {
   "cell_type": "code",
   "execution_count": 31,
   "metadata": {
    "ExecuteTime": {
     "end_time": "2021-01-25T09:19:38.525221Z",
     "start_time": "2021-01-25T09:19:38.521232Z"
    }
   },
   "outputs": [],
   "source": [
    "# set up parameter grid for our pipe_nb\n",
    "\n",
    "pipe_pubg_nb_params = {\n",
    "                    'tvec__max_features': [40000], # [10000, 20000, 30000, 40000]\n",
    "                    'tvec__min_df': [5], # [5, 10]\n",
    "                    'tvec__max_df': [0.50], # [0.30, 0.50, 0.70]\n",
    "                    'tvec__ngram_range': [(1, 2)], # [(1, 1), (1, 2)]\n",
    "                    'nb__alpha': [1] # [0.1, 0.5, 1]\n",
    "}"
   ]
  },
  {
   "cell_type": "code",
   "execution_count": 34,
   "metadata": {
    "ExecuteTime": {
     "end_time": "2021-01-25T09:21:01.982697Z",
     "start_time": "2021-01-25T09:21:01.978708Z"
    }
   },
   "outputs": [],
   "source": [
    "# instantiate GridSearchCV\n",
    "\n",
    "gs_pubg_nb = GridSearchCV(pipe_pubg_nb,\n",
    "                          param_grid=pipe_pubg_nb_params,\n",
    "                          scoring='roc_auc',\n",
    "                          cv=5,\n",
    "                          verbose=1,\n",
    "                          n_jobs=-1)"
   ]
  },
  {
   "cell_type": "code",
   "execution_count": 33,
   "metadata": {
    "ExecuteTime": {
     "end_time": "2021-01-25T09:20:49.099723Z",
     "start_time": "2021-01-25T09:19:40.155156Z"
    }
   },
   "outputs": [
    {
     "name": "stdout",
     "output_type": "stream",
     "text": [
      "Fitting 5 folds for each of 1 candidates, totalling 5 fits\n"
     ]
    },
    {
     "name": "stderr",
     "output_type": "stream",
     "text": [
      "[Parallel(n_jobs=1)]: Using backend SequentialBackend with 1 concurrent workers.\n",
      "[Parallel(n_jobs=1)]: Done   5 out of   5 | elapsed:   56.8s finished\n"
     ]
    },
    {
     "data": {
      "text/plain": [
       "GridSearchCV(cv=5,\n",
       "             estimator=Pipeline(steps=[('tvec', TfidfVectorizer()),\n",
       "                                       ('nb', MultinomialNB())]),\n",
       "             param_grid={'nb__alpha': [1], 'tvec__max_df': [0.5],\n",
       "                         'tvec__max_features': [40000], 'tvec__min_df': [5],\n",
       "                         'tvec__ngram_range': [(1, 2)]},\n",
       "             scoring='roc_auc', verbose=1)"
      ]
     },
     "execution_count": 33,
     "metadata": {},
     "output_type": "execute_result"
    }
   ],
   "source": [
    "# search through the parameter grid using GridSearchCV\n",
    "\n",
    "gs_pubg_nb.fit(X_pubg_train, y_pubg_train)"
   ]
  },
  {
   "cell_type": "code",
   "execution_count": 39,
   "metadata": {
    "ExecuteTime": {
     "end_time": "2021-01-24T14:19:04.241063Z",
     "start_time": "2021-01-24T14:19:04.231104Z"
    }
   },
   "outputs": [
    {
     "name": "stdout",
     "output_type": "stream",
     "text": [
      "--------\n",
      "Best mean cross-validated ROC-AUC score: 0.9249\n",
      "--------\n",
      "Best parameters:\n"
     ]
    },
    {
     "data": {
      "text/plain": [
       "{'nb__alpha': 1,\n",
       " 'tvec__max_df': 0.5,\n",
       " 'tvec__max_features': 40000,\n",
       " 'tvec__min_df': 5,\n",
       " 'tvec__ngram_range': (1, 2)}"
      ]
     },
     "metadata": {},
     "output_type": "display_data"
    }
   ],
   "source": [
    "# print out gridsearch info for Naive Bayes and save our MultinomialNB model\n",
    "\n",
    "pubg_nb_model = gridsearch_model(gs_pubg_nb)"
   ]
  },
  {
   "cell_type": "code",
   "execution_count": 40,
   "metadata": {
    "ExecuteTime": {
     "end_time": "2021-01-24T14:19:31.724045Z",
     "start_time": "2021-01-24T14:19:04.244565Z"
    }
   },
   "outputs": [
    {
     "data": {
      "text/plain": [
       "Pipeline(steps=[('tvec',\n",
       "                 TfidfVectorizer(max_df=0.5, max_features=40000, min_df=5,\n",
       "                                 ngram_range=(1, 2))),\n",
       "                ('nb', MultinomialNB(alpha=1))])"
      ]
     },
     "execution_count": 40,
     "metadata": {},
     "output_type": "execute_result"
    }
   ],
   "source": [
    "# fit MultinomialNB model\n",
    "\n",
    "pubg_nb_model.fit(X_pubg_train, y_pubg_train)"
   ]
  },
  {
   "cell_type": "code",
   "execution_count": 41,
   "metadata": {
    "ExecuteTime": {
     "end_time": "2021-01-24T14:20:05.667555Z",
     "start_time": "2021-01-24T14:19:31.727037Z"
    }
   },
   "outputs": [
    {
     "name": "stdout",
     "output_type": "stream",
     "text": [
      "--------\n",
      "Results for Naive Bayes Classifier model:\n",
      "--------\n",
      "\n",
      "Accuracy score on train data ---: 0.8729\n",
      "Accuracy score on test data ----: 0.8548\n",
      "ROC-AUC score on train data ----: 0.9417\n",
      "ROC-AUC score on test data -----: 0.9255\n"
     ]
    },
    {
     "data": {
      "image/png": "[encoded data removed]",
      "text/plain": [
       "<Figure size 432x864 with 3 Axes>"
      ]
     },
     "metadata": {},
     "output_type": "display_data"
    }
   ],
   "source": [
    "# print results for MultinomialNB model and plot confusion matrix, ROC curve\n",
    "\n",
    "plot_matrix_rocauc_metrics(pubg_nb_model, 'Naive Bayes Classifier', X_pubg_train, X_pubg_test, y_pubg_train, y_pubg_test)"
   ]
  },
  {
   "cell_type": "code",
   "execution_count": 42,
   "metadata": {
    "ExecuteTime": {
     "end_time": "2021-01-24T14:20:05.852081Z",
     "start_time": "2021-01-24T14:20:05.670547Z"
    }
   },
   "outputs": [],
   "source": [
    "# extract probabilities for positive class\n",
    "pubg_nb_pos_class_prob_sorted = pubg_nb_model.steps[1][1].feature_log_prob_[1, :].argsort()\n",
    "\n",
    "# extract probabilities for negative class\n",
    "pubg_nb_neg_class_prob_sorted = pubg_nb_model.steps[1][1].feature_log_prob_[0, :].argsort()\n",
    "\n",
    "# getting the features for each class\n",
    "pubg_nb_pos_top_features = np.take(pubg_nb_model.steps[0][1].get_feature_names(), pubg_nb_pos_class_prob_sorted)\n",
    "pubg_nb_neg_top_features = np.take(pubg_nb_model.steps[0][1].get_feature_names(), pubg_nb_neg_class_prob_sorted)"
   ]
  },
  {
   "cell_type": "code",
   "execution_count": 43,
   "metadata": {
    "ExecuteTime": {
     "end_time": "2021-01-24T14:20:05.911922Z",
     "start_time": "2021-01-24T14:20:05.854076Z"
    },
    "scrolled": false
   },
   "outputs": [
    {
     "data": {
      "text/html": [
       "<div>\n",
       "<style scoped>\n",
       "    .dataframe tbody tr th:only-of-type {\n",
       "        vertical-align: middle;\n",
       "    }\n",
       "\n",
       "    .dataframe tbody tr th {\n",
       "        vertical-align: top;\n",
       "    }\n",
       "\n",
       "    .dataframe thead th {\n",
       "        text-align: right;\n",
       "    }\n",
       "</style>\n",
       "<table border=\"1\" class=\"dataframe\">\n",
       "  <thead>\n",
       "    <tr style=\"text-align: right;\">\n",
       "      <th></th>\n",
       "      <th>Positive Class Features</th>\n",
       "      <th>NB Coefficient</th>\n",
       "    </tr>\n",
       "  </thead>\n",
       "  <tbody>\n",
       "    <tr>\n",
       "      <th>0</th>\n",
       "      <td>not</td>\n",
       "      <td>-6.117153</td>\n",
       "    </tr>\n",
       "    <tr>\n",
       "      <th>1</th>\n",
       "      <td>friend</td>\n",
       "      <td>-6.069751</td>\n",
       "    </tr>\n",
       "    <tr>\n",
       "      <th>2</th>\n",
       "      <td>well</td>\n",
       "      <td>-6.043985</td>\n",
       "    </tr>\n",
       "    <tr>\n",
       "      <th>3</th>\n",
       "      <td>like</td>\n",
       "      <td>-5.983379</td>\n",
       "    </tr>\n",
       "    <tr>\n",
       "      <th>4</th>\n",
       "      <td>great</td>\n",
       "      <td>-5.950455</td>\n",
       "    </tr>\n",
       "    <tr>\n",
       "      <th>5</th>\n",
       "      <td>10</td>\n",
       "      <td>-5.832794</td>\n",
       "    </tr>\n",
       "    <tr>\n",
       "      <th>6</th>\n",
       "      <td>good</td>\n",
       "      <td>-5.766152</td>\n",
       "    </tr>\n",
       "    <tr>\n",
       "      <th>7</th>\n",
       "      <td>get</td>\n",
       "      <td>-5.685988</td>\n",
       "    </tr>\n",
       "    <tr>\n",
       "      <th>8</th>\n",
       "      <td>fun</td>\n",
       "      <td>-5.654488</td>\n",
       "    </tr>\n",
       "    <tr>\n",
       "      <th>9</th>\n",
       "      <td>play</td>\n",
       "      <td>-5.577748</td>\n",
       "    </tr>\n",
       "  </tbody>\n",
       "</table>\n",
       "</div>"
      ],
      "text/plain": [
       "  Positive Class Features  NB Coefficient\n",
       "0                     not       -6.117153\n",
       "1                  friend       -6.069751\n",
       "2                    well       -6.043985\n",
       "3                    like       -5.983379\n",
       "4                   great       -5.950455\n",
       "5                      10       -5.832794\n",
       "6                    good       -5.766152\n",
       "7                     get       -5.685988\n",
       "8                     fun       -5.654488\n",
       "9                    play       -5.577748"
      ]
     },
     "execution_count": 43,
     "metadata": {},
     "output_type": "execute_result"
    }
   ],
   "source": [
    "# put together in a DataFrame for the positive class\n",
    "\n",
    "pd.DataFrame(data={'Positive Class Features': pubg_nb_pos_top_features[-10:], 'NB Coefficient': sorted(pubg_nb_model.steps[1][1].feature_log_prob_[1, :])[-10:]})"
   ]
  },
  {
   "cell_type": "code",
   "execution_count": 44,
   "metadata": {
    "ExecuteTime": {
     "end_time": "2021-01-24T14:20:05.966774Z",
     "start_time": "2021-01-24T14:20:05.914913Z"
    },
    "scrolled": true
   },
   "outputs": [
    {
     "data": {
      "text/html": [
       "<div>\n",
       "<style scoped>\n",
       "    .dataframe tbody tr th:only-of-type {\n",
       "        vertical-align: middle;\n",
       "    }\n",
       "\n",
       "    .dataframe tbody tr th {\n",
       "        vertical-align: top;\n",
       "    }\n",
       "\n",
       "    .dataframe thead th {\n",
       "        text-align: right;\n",
       "    }\n",
       "</style>\n",
       "<table border=\"1\" class=\"dataframe\">\n",
       "  <thead>\n",
       "    <tr style=\"text-align: right;\">\n",
       "      <th></th>\n",
       "      <th>Negative Class Features</th>\n",
       "      <th>NB Coefficient</th>\n",
       "    </tr>\n",
       "  </thead>\n",
       "  <tbody>\n",
       "    <tr>\n",
       "      <th>0</th>\n",
       "      <td>no</td>\n",
       "      <td>-6.168136</td>\n",
       "    </tr>\n",
       "    <tr>\n",
       "      <th>1</th>\n",
       "      <td>time</td>\n",
       "      <td>-6.150581</td>\n",
       "    </tr>\n",
       "    <tr>\n",
       "      <th>2</th>\n",
       "      <td>fix</td>\n",
       "      <td>-6.148479</td>\n",
       "    </tr>\n",
       "    <tr>\n",
       "      <th>3</th>\n",
       "      <td>like</td>\n",
       "      <td>-6.127280</td>\n",
       "    </tr>\n",
       "    <tr>\n",
       "      <th>4</th>\n",
       "      <td>hacker</td>\n",
       "      <td>-6.095682</td>\n",
       "    </tr>\n",
       "    <tr>\n",
       "      <th>5</th>\n",
       "      <td>bad</td>\n",
       "      <td>-6.093661</td>\n",
       "    </tr>\n",
       "    <tr>\n",
       "      <th>6</th>\n",
       "      <td>server</td>\n",
       "      <td>-6.077956</td>\n",
       "    </tr>\n",
       "    <tr>\n",
       "      <th>7</th>\n",
       "      <td>play</td>\n",
       "      <td>-5.815865</td>\n",
       "    </tr>\n",
       "    <tr>\n",
       "      <th>8</th>\n",
       "      <td>get</td>\n",
       "      <td>-5.741718</td>\n",
       "    </tr>\n",
       "    <tr>\n",
       "      <th>9</th>\n",
       "      <td>not</td>\n",
       "      <td>-5.667952</td>\n",
       "    </tr>\n",
       "  </tbody>\n",
       "</table>\n",
       "</div>"
      ],
      "text/plain": [
       "  Negative Class Features  NB Coefficient\n",
       "0                      no       -6.168136\n",
       "1                    time       -6.150581\n",
       "2                     fix       -6.148479\n",
       "3                    like       -6.127280\n",
       "4                  hacker       -6.095682\n",
       "5                     bad       -6.093661\n",
       "6                  server       -6.077956\n",
       "7                    play       -5.815865\n",
       "8                     get       -5.741718\n",
       "9                     not       -5.667952"
      ]
     },
     "execution_count": 44,
     "metadata": {},
     "output_type": "execute_result"
    }
   ],
   "source": [
    "# put together in a DataFrame for the negative class\n",
    "\n",
    "pd.DataFrame(data={'Negative Class Features': pubg_nb_neg_top_features[-10:], 'NB Coefficient': sorted(pubg_nb_model.steps[1][1].feature_log_prob_[0, :])[-10:]})"
   ]
  },
  {
   "cell_type": "markdown",
   "metadata": {},
   "source": [
    "The NB coefficient is evaluated as the log of the estimated probability of a feature given the respective class. The higher (less negative) the NB coefficients, the stronger the predictive strength of the feature.\n",
    "\n",
    "For the positive class features, the most predictive features are 'play', 'fun', 'get'. \n",
    "\n",
    "For the negative class features, the most predictive features are 'not', 'get' and 'play'.\n",
    "\n",
    "The top three features are not nearly as explanatory as those from Logistic Regression."
   ]
  },
  {
   "cell_type": "markdown",
   "metadata": {},
   "source": [
    "### Support Vector Classifier"
   ]
  },
  {
   "cell_type": "code",
   "execution_count": 83,
   "metadata": {
    "ExecuteTime": {
     "end_time": "2021-01-25T06:09:41.275489Z",
     "start_time": "2021-01-25T06:09:41.270547Z"
    }
   },
   "outputs": [],
   "source": [
    "# set up pipeline for SVC\n",
    "\n",
    "pipe_pubg_svc = Pipeline([\n",
    "    ('tvec', TfidfVectorizer(analyzer = \"word\",\n",
    "                             tokenizer = None,\n",
    "                             preprocessor = None,\n",
    "                             stop_words = None\n",
    "                             )),\n",
    "    ('svc', SGDClassifier(loss='hinge', penalty='l2'))\n",
    "])"
   ]
  },
  {
   "cell_type": "code",
   "execution_count": 84,
   "metadata": {
    "ExecuteTime": {
     "end_time": "2021-01-25T06:09:42.695570Z",
     "start_time": "2021-01-25T06:09:42.691579Z"
    }
   },
   "outputs": [],
   "source": [
    "# set up parameter grid for our pipe_svc\n",
    "\n",
    "pipe_pubg_svc_params = {\n",
    "                    'tvec__max_features': [20000], # [10000, 20000]\n",
    "                    'tvec__min_df': [10], # [5, 10] \n",
    "                    'tvec__max_df': [0.70], # [0.30, 0.50, 0.70]\n",
    "                    'tvec__ngram_range': [(1, 2)], # [(1, 1), (1, 2)]\n",
    "                    'svc__alpha': [0.0001]\n",
    "}"
   ]
  },
  {
   "cell_type": "code",
   "execution_count": 85,
   "metadata": {
    "ExecuteTime": {
     "end_time": "2021-01-25T06:09:45.591680Z",
     "start_time": "2021-01-25T06:09:45.586694Z"
    }
   },
   "outputs": [],
   "source": [
    "# instantiate GridSearchCV\n",
    "\n",
    "gs_pubg_svc = GridSearchCV(pipe_pubg_svc,\n",
    "                          param_grid=pipe_pubg_svc_params,\n",
    "                          scoring='accuracy',\n",
    "                          cv=5,\n",
    "                          verbose=1,\n",
    "                          n_jobs=-1)"
   ]
  },
  {
   "cell_type": "code",
   "execution_count": 86,
   "metadata": {
    "ExecuteTime": {
     "end_time": "2021-01-25T06:14:31.392587Z",
     "start_time": "2021-01-25T06:09:45.954265Z"
    }
   },
   "outputs": [
    {
     "name": "stdout",
     "output_type": "stream",
     "text": [
      "Fitting 5 folds for each of 24 candidates, totalling 120 fits\n"
     ]
    },
    {
     "name": "stderr",
     "output_type": "stream",
     "text": [
      "[Parallel(n_jobs=-1)]: Using backend LokyBackend with 8 concurrent workers.\n",
      "[Parallel(n_jobs=-1)]: Done  34 tasks      | elapsed:  1.3min\n",
      "[Parallel(n_jobs=-1)]: Done 120 out of 120 | elapsed:  4.5min finished\n"
     ]
    },
    {
     "data": {
      "text/plain": [
       "GridSearchCV(cv=5,\n",
       "             estimator=Pipeline(steps=[('tvec', TfidfVectorizer()),\n",
       "                                       ('svc', SGDClassifier())]),\n",
       "             n_jobs=-1,\n",
       "             param_grid={'svc__alpha': [0.0001],\n",
       "                         'tvec__max_df': [0.3, 0.5, 0.7],\n",
       "                         'tvec__max_features': [10000, 20000],\n",
       "                         'tvec__min_df': [5, 10],\n",
       "                         'tvec__ngram_range': [(1, 1), (1, 2)]},\n",
       "             scoring='accuracy', verbose=1)"
      ]
     },
     "execution_count": 86,
     "metadata": {},
     "output_type": "execute_result"
    }
   ],
   "source": [
    "# search through the parameter grid using GridSearchCV\n",
    "\n",
    "gs_pubg_svc.fit(X_pubg_train, y_pubg_train)"
   ]
  },
  {
   "cell_type": "code",
   "execution_count": 87,
   "metadata": {
    "ExecuteTime": {
     "end_time": "2021-01-25T06:14:31.398571Z",
     "start_time": "2021-01-25T06:14:31.393584Z"
    }
   },
   "outputs": [
    {
     "name": "stdout",
     "output_type": "stream",
     "text": [
      "--------\n",
      "Best mean cross-validated ROC-AUC score: 0.8623\n",
      "--------\n",
      "Best parameters:\n"
     ]
    },
    {
     "data": {
      "text/plain": [
       "{'svc__alpha': 0.0001,\n",
       " 'tvec__max_df': 0.7,\n",
       " 'tvec__max_features': 20000,\n",
       " 'tvec__min_df': 10,\n",
       " 'tvec__ngram_range': (1, 2)}"
      ]
     },
     "metadata": {},
     "output_type": "display_data"
    }
   ],
   "source": [
    "# print out gridsearch info for Support Vector Classifier and save our SVC model\n",
    "\n",
    "pubg_svc_model = gridsearch_model(gs_pubg_svc)"
   ]
  },
  {
   "cell_type": "code",
   "execution_count": 88,
   "metadata": {
    "ExecuteTime": {
     "end_time": "2021-01-25T06:14:44.852237Z",
     "start_time": "2021-01-25T06:14:31.400090Z"
    }
   },
   "outputs": [
    {
     "data": {
      "text/plain": [
       "Pipeline(steps=[('tvec',\n",
       "                 TfidfVectorizer(max_df=0.7, max_features=20000, min_df=10,\n",
       "                                 ngram_range=(1, 2))),\n",
       "                ('svc', SGDClassifier())])"
      ]
     },
     "execution_count": 88,
     "metadata": {},
     "output_type": "execute_result"
    }
   ],
   "source": [
    "# fit SVC model\n",
    "\n",
    "pubg_svc_model.fit(X_pubg_train, y_pubg_train)"
   ]
  },
  {
   "cell_type": "code",
   "execution_count": 89,
   "metadata": {
    "ExecuteTime": {
     "end_time": "2021-01-25T06:14:56.892165Z",
     "start_time": "2021-01-25T06:14:44.854233Z"
    }
   },
   "outputs": [
    {
     "name": "stdout",
     "output_type": "stream",
     "text": [
      "--------\n",
      "Results for Support Vector Classifier model:\n",
      "--------\n",
      "\n",
      "Accuracy score on train data ---: 0.8777\n",
      "Accuracy score on test data ----: 0.8641\n"
     ]
    },
    {
     "data": {
      "image/png": "[encoded data removed]",
      "text/plain": [
       "<Figure size 432x288 with 2 Axes>"
      ]
     },
     "metadata": {},
     "output_type": "display_data"
    }
   ],
   "source": [
    "# print results for SVC model and plot confusion matrix, ROC curve\n",
    "\n",
    "plot_matrix_rocauc_metrics(pubg_svc_model, 'Support Vector Classifier', X_pubg_train, X_pubg_test, y_pubg_train, y_pubg_test)"
   ]
  },
  {
   "cell_type": "markdown",
   "metadata": {},
   "source": [
    "SVC has its downsides as it is somewhat of a 'blackbox' model, and is not easily interpretable."
   ]
  },
  {
   "cell_type": "markdown",
   "metadata": {},
   "source": [
    "### LSTM"
   ]
  },
  {
   "cell_type": "markdown",
   "metadata": {},
   "source": [
    "Long Short Term Memory (LSTM) is a type of Recurrent Neural Network (RNN) designed to overcome the problems of simple RNNs, by allowing the network to store data in a form of memory, that it can access at a later times.\n",
    "\n",
    "The codes for LSTM were run in Google Colab to maximize the use of the GPU for training (**02a_LSTM.ipynb**)."
   ]
  },
  {
   "cell_type": "code",
   "execution_count": 115,
   "metadata": {
    "ExecuteTime": {
     "end_time": "2021-01-26T04:50:31.974489Z",
     "start_time": "2021-01-26T04:50:31.941576Z"
    }
   },
   "outputs": [],
   "source": [
    "def lstm_tokenizer(X, max_review_length, vocab_length):\n",
    "    \"\"\"\n",
    "    Vectorizes a text corpus by tokenizing and padding a series of texts to the \n",
    "    desired length to form a data tensor.\n",
    "    \"\"\"\n",
    "\n",
    "    # set max vocabulary of tokenizer\n",
    "    tokenizer = Tokenizer(num_words=vocab_length,\n",
    "                          filters='!\"#$%&()*+,-./:;<=>?@[\\]^_`{|}~',\n",
    "                          lower=True\n",
    "                         )\n",
    "\n",
    "    # fit tokenizer on lists of texts; every entry of each list is taken to be a token\n",
    "    tokenizer.fit_on_texts(X)\n",
    "\n",
    "    # transforms each text in texts to a sequence of integers\n",
    "    X_lstm = tokenizer.texts_to_sequences(X)\n",
    "\n",
    "    # pad each text to be the same as max_review_length\n",
    "    X_lstm = sequence.pad_sequences(X_lstm, maxlen=max_review_length)\n",
    "\n",
    "    print('Shape of data tensor:', X_lstm.shape)\n",
    "\n",
    "    return X_lstm"
   ]
  },
  {
   "cell_type": "code",
   "execution_count": null,
   "metadata": {},
   "outputs": [],
   "source": [
    "X_pubg_lstm = lstm_tokenizer(X_pubg, 200, 20000)"
   ]
  },
  {
   "cell_type": "code",
   "execution_count": null,
   "metadata": {},
   "outputs": [],
   "source": [
    "y_pubg_lstm = pd.get_dummies(y_pubg).values[:, 1]"
   ]
  },
  {
   "cell_type": "code",
   "execution_count": null,
   "metadata": {},
   "outputs": [],
   "source": [
    "def lstm_train_test_split(X_lstm, y_lstm, y, split_frac):\n",
    "\n",
    "    \"\"\"\n",
    "    Split data tensor into training and testing sets.\n",
    "    \"\"\"\n",
    "\n",
    "    # split data into training, validation, and test data (features and labels, x and y)\n",
    "    np.random.seed(42)\n",
    "\n",
    "    # calculate total number of reviews in training and test set\n",
    "    train_count = int(len(X_lstm) * split_frac)\n",
    "    test_count = len(X_lstm) - train_count\n",
    "\n",
    "    # obtain number of positive and negative reviews in test set\n",
    "    test_negative_count = int(y.value_counts(normalize=True)[0] * test_count)\n",
    "    test_positive_count = test_count - test_negative_count\n",
    "\n",
    "    # randomly select the training and test indices \n",
    "    test_inds = np.append(np.random.choice(np.where(y_lstm == 0)[0], test_negative_count, replace=False), \n",
    "                          np.random.choice(np.where(y_lstm == 1)[0], test_positive_count, replace=False))\n",
    "\n",
    "    train_inds = list(set(range(len(y))) - set(test_inds))\n",
    "\n",
    "    # obtain data and corresponding labels\n",
    "    train_data = X_lstm[train_inds]\n",
    "    train_labels = y_lstm[train_inds]\n",
    "\n",
    "    test_data = X_lstm[test_inds]\n",
    "    test_labels = y_lstm[test_inds]\n",
    "\n",
    "    return train_data, train_labels, test_data, test_labels"
   ]
  },
  {
   "cell_type": "code",
   "execution_count": null,
   "metadata": {},
   "outputs": [],
   "source": [
    "# create training and testing sets for lstm\n",
    "\n",
    "X_pubg_train_lstm, y_pubg_train_lstm, X_pubg_test_lstm, y_pubg_test_lstm = lstm_train_test_split(X_pubg_lstm, y_pubg_lstm, y_pubg, 0.25)"
   ]
  },
  {
   "cell_type": "code",
   "execution_count": null,
   "metadata": {},
   "outputs": [],
   "source": [
    "# define function to create lstm models\n",
    "\n",
    "def create_lstm_model(X_lstm, input_dim, embedding_dim):\n",
    "    \n",
    "    \"\"\"\n",
    "    Create a LSTM model to be used for binary classification.\n",
    "    \"\"\"\n",
    "    model = Sequential()\n",
    "    model.add(Embedding(input_dim, embedding_dim, input_length=X_lstm.shape[1]))\n",
    "    model.add(SpatialDropout1D(0.5))\n",
    "    model.add(LSTM(256, dropout=0.5, activation='tanh', return_sequences=True))\n",
    "    model.add(LSTM(128, dropout=0.5, activation='tanh'))\n",
    "    model.add(Dense(1, activation='sigmoid'))\n",
    "    model.compile(loss='binary_crossentropy', optimizer='adam', metrics=['accuracy'])\n",
    "\n",
    "    print(model.summary())\n",
    "\n",
    "    return model"
   ]
  },
  {
   "cell_type": "code",
   "execution_count": null,
   "metadata": {},
   "outputs": [],
   "source": [
    "# create lstm model\n",
    "\n",
    "pubg_lstm_model = create_lstm_model(X_pubg_lstm, 20000, 200)"
   ]
  },
  {
   "cell_type": "code",
   "execution_count": null,
   "metadata": {},
   "outputs": [],
   "source": [
    "# define a function to create a class_weights dictionary for an imbalanced binary dataset\n",
    "\n",
    "def generate_class_weights(y):\n",
    "\n",
    "    class_weights = {}\n",
    "\n",
    "    if y.value_counts()[0] == y.value_counts()[1]:\n",
    "        majority_class = 1\n",
    "        minority_class = 0\n",
    "        majority_class_weight = minority_class_weight = 1\n",
    "               \n",
    "    else:\n",
    "        majority_class = y.value_counts(normalize=True).idxmax()\n",
    "        minority_class = y.value_counts(normalize=True).idxmin()\n",
    "\n",
    "        majority_class_weight = 1\n",
    "        minority_class_weight = y.value_counts()[majority_class] / y.value_counts()[minority_class]\n",
    "\n",
    "    class_weights[majority_class] = majority_class_weight\n",
    "    class_weights[minority_class] = minority_class_weight\n",
    "\n",
    "    return class_weights"
   ]
  },
  {
   "cell_type": "code",
   "execution_count": null,
   "metadata": {},
   "outputs": [],
   "source": [
    "pubg_class_weights = generate_class_weights(y_pubg)"
   ]
  },
  {
   "cell_type": "code",
   "execution_count": null,
   "metadata": {},
   "outputs": [],
   "source": [
    "def lstm_model_fit_evaluate(lstm_model, train_data, train_labels, test_data, test_labels, class_weights, epochs=5, batch_size=50):\n",
    "    \n",
    "    \"\"\"\n",
    "    Fit and evaluate LSTM model. Return the training history and loss and accuracy \n",
    "    on the test set.\n",
    "    \"\"\"\n",
    "\n",
    "    history = lstm_model.fit(train_data, train_labels,\n",
    "                             class_weight=class_weights, \n",
    "                             epochs=epochs, \n",
    "                             batch_size=batch_size,\n",
    "                             validation_split=0.1)\n",
    "\n",
    "    loss, acc = lstm_model.evaluate(test_data, test_labels, \n",
    "                                    verbose=2,\n",
    "                                    batch_size=batch_size)\n",
    "\n",
    "    print('')\n",
    "    print(f\"Loss ------------------: {loss:.4f}\")\n",
    "    print(f\"Validation accuracy ---: {acc:.4f}\")\n",
    "\n",
    "    return history, loss, acc"
   ]
  },
  {
   "cell_type": "code",
   "execution_count": null,
   "metadata": {},
   "outputs": [],
   "source": [
    "pubg_history, pubg_loss, pubg_acc = lstm_model_fit_evaluate(pubg_lstm_model,\n",
    "                                                            X_pubg_train_lstm, \n",
    "                                                            y_pubg_train_lstm, \n",
    "                                                            X_pubg_test_lstm, \n",
    "                                                            y_pubg_test_lstm,\n",
    "                                                            class_weights = pubg_class_weights,\n",
    "                                                            epochs=5,\n",
    "                                                            batch_size=50)"
   ]
  },
  {
   "cell_type": "code",
   "execution_count": null,
   "metadata": {},
   "outputs": [],
   "source": [
    "# define function to plot the corresponding metrics with number of epochs\n",
    "\n",
    "def plot_history_graphs(history, metric):\n",
    "\n",
    "    plt.plot(history.history[metric])\n",
    "    plt.plot(history.history['val_'+metric], '')\n",
    "    plt.xlabel(\"No. of epochs\")\n",
    "    plt.ylabel(metric)\n",
    "    plt.legend([metric, 'val_'+metric])"
   ]
  },
  {
   "cell_type": "code",
   "execution_count": null,
   "metadata": {},
   "outputs": [],
   "source": [
    "def lstm_metrics_plot(lstm_model, history, test_data, test_labels):\n",
    "    \n",
    "    # generate predicted probabilities for test data\n",
    "    test_predict_proba = lstm_model.predict(test_data)\n",
    "    test_predict_proba_full = np.concatenate((1 - test_predict_proba, test_predict_proba), axis=1)\n",
    "\n",
    "    # obtain ROC-AUC score on test data\n",
    "    auc_score = roc_auc_score(test_labels, test_predict_proba_full[:, 1])\n",
    "\n",
    "    # generate predictions for test data\n",
    "    test_pred = (test_predict_proba_full > 0.5).astype(\"int32\")\n",
    "\n",
    "    # obtain f1-score on test data\n",
    "    f1 = f1_score(test_labels, test_pred[:, 1])\n",
    "\n",
    "    print(f'ROC-AUC score ------: {auc_score:.4f}')\n",
    "    print(f'F1-score -----------: {f1:.4f}')\n",
    "\n",
    "    # plot val accuracy and val loss graphs\n",
    "    plt.figure(figsize=(16, 6))\n",
    "    plt.subplot(1,2,1)\n",
    "    plot_history_graphs(history, 'accuracy')\n",
    "    plt.subplot(1,2,2)\n",
    "    plot_history_graphs(history, 'loss')"
   ]
  },
  {
   "cell_type": "code",
   "execution_count": null,
   "metadata": {},
   "outputs": [],
   "source": [
    "lstm_metrics_plot(pubg_lstm_model, pubg_history, X_pubg_test_lstm, y_pubg_test_lstm)"
   ]
  },
  {
   "cell_type": "code",
   "execution_count": null,
   "metadata": {},
   "outputs": [],
   "source": [
    "# create final lstm model\n",
    "\n",
    "pubg_lstm_model_final = create_lstm_model(X_pubg_lstm, 20000, 200)"
   ]
  },
  {
   "cell_type": "code",
   "execution_count": null,
   "metadata": {},
   "outputs": [],
   "source": [
    "pubg_history, pubg_loss, pubg_acc = lstm_model_fit_evaluate(pubg_lstm_model_final,\n",
    "                                                            X_pubg_train_lstm, \n",
    "                                                            y_pubg_train_lstm, \n",
    "                                                            X_pubg_test_lstm, \n",
    "                                                            y_pubg_test_lstm,\n",
    "                                                            class_weights = pubg_class_weights,\n",
    "                                                            epochs=2,\n",
    "                                                            batch_size=50)"
   ]
  },
  {
   "cell_type": "code",
   "execution_count": null,
   "metadata": {},
   "outputs": [],
   "source": [
    "lstm_metrics_plot(pubg_lstm_model_final, pubg_history, X_pubg_test_lstm, y_pubg_test_lstm)"
   ]
  },
  {
   "cell_type": "markdown",
   "metadata": {},
   "source": [
    "**Training Epochs**\n",
    "\n",
    "![Results for PUBG - LSTM](./results/lstm_pubg_epochs.png)\n",
    "\n",
    "**Final ROC-AUC and Accuracy Scores**\n",
    "\n",
    "![Results for PUBG - LSTM](./results/lstm_pubg.png)"
   ]
  },
  {
   "cell_type": "markdown",
   "metadata": {},
   "source": [
    "## Cyberpunk"
   ]
  },
  {
   "cell_type": "code",
   "execution_count": 36,
   "metadata": {
    "ExecuteTime": {
     "end_time": "2021-01-25T09:31:48.733198Z",
     "start_time": "2021-01-25T09:31:48.729211Z"
    }
   },
   "outputs": [],
   "source": [
    "X_cyberpunk = cyberpunk_df_ml['lemmed_text']\n",
    "y_cyberpunk = cyberpunk_df_ml['label']"
   ]
  },
  {
   "cell_type": "code",
   "execution_count": 37,
   "metadata": {
    "ExecuteTime": {
     "end_time": "2021-01-25T09:31:49.271789Z",
     "start_time": "2021-01-25T09:31:49.264297Z"
    }
   },
   "outputs": [
    {
     "data": {
      "text/plain": [
       "1    0.735914\n",
       "0    0.264086\n",
       "Name: label, dtype: float64"
      ]
     },
     "execution_count": 37,
     "metadata": {},
     "output_type": "execute_result"
    }
   ],
   "source": [
    "y_cyberpunk.value_counts(normalize=True)"
   ]
  },
  {
   "cell_type": "markdown",
   "metadata": {},
   "source": [
    "Our baseline accuracy is **0.736**. While it is possible to use sampling methods such as Synthetic Minority Over-sampling Technique (SMOTE) to create new synthetic samples from the minority class, this approach normally does not work well with text data due to the high-dimensional nature of the numerical vectors created."
   ]
  },
  {
   "cell_type": "code",
   "execution_count": 38,
   "metadata": {
    "ExecuteTime": {
     "end_time": "2021-01-25T09:31:50.616141Z",
     "start_time": "2021-01-25T09:31:50.587191Z"
    }
   },
   "outputs": [],
   "source": [
    "# create training and test sets\n",
    "\n",
    "X_cyberpunk_train, X_cyberpunk_test, y_cyberpunk_train, y_cyberpunk_test = train_test_split(X_cyberpunk,\n",
    "                                                                        y_cyberpunk,\n",
    "                                                                        test_size=0.25,\n",
    "                                                                        stratify=y_cyberpunk,\n",
    "                                                                        random_state=42)"
   ]
  },
  {
   "cell_type": "markdown",
   "metadata": {},
   "source": [
    "### Logistic Regression"
   ]
  },
  {
   "cell_type": "code",
   "execution_count": 39,
   "metadata": {
    "ExecuteTime": {
     "end_time": "2021-01-25T09:31:51.486093Z",
     "start_time": "2021-01-25T09:31:51.480913Z"
    }
   },
   "outputs": [],
   "source": [
    "# set up pipeline for LogisticRegression\n",
    "\n",
    "pipe_cyberpunk_lr = Pipeline([\n",
    "                ('tvec', TfidfVectorizer(analyzer = 'word',\n",
    "                             tokenizer = None,\n",
    "                             preprocessor = None,\n",
    "                             stop_words = None,\n",
    "                             )),\n",
    "                ('lr', SGDClassifier(loss='log', penalty='l2'))\n",
    "])"
   ]
  },
  {
   "cell_type": "code",
   "execution_count": 40,
   "metadata": {
    "ExecuteTime": {
     "end_time": "2021-01-25T09:31:52.180634Z",
     "start_time": "2021-01-25T09:31:52.176646Z"
    }
   },
   "outputs": [],
   "source": [
    "# set up parameter grid for our pipe_lr\n",
    "\n",
    "pipe_cyberpunk_lr_params = {\n",
    "                        'tvec__max_features': [10000], # [10000, 20000, 30000, 40000]\n",
    "                        'tvec__min_df': [5], # [5, 10]\n",
    "                        'tvec__max_df': [0.30], # [0.30, 0.50, 0.70]\n",
    "                        'tvec__ngram_range': [(1, 2)], # [(1, 1), (1, 2)]\n",
    "                        'lr__alpha': [0.0001]\n",
    "}"
   ]
  },
  {
   "cell_type": "code",
   "execution_count": 41,
   "metadata": {
    "ExecuteTime": {
     "end_time": "2021-01-25T09:31:52.984094Z",
     "start_time": "2021-01-25T09:31:52.979110Z"
    }
   },
   "outputs": [],
   "source": [
    "# instantiate GridSearchCV\n",
    "\n",
    "gs_cyberpunk_lr = GridSearchCV(pipe_cyberpunk_lr, \n",
    "                          param_grid=pipe_cyberpunk_lr_params,\n",
    "                          scoring='roc_auc',\n",
    "                          cv=5,\n",
    "                          verbose=1,\n",
    "                          n_jobs=-1)"
   ]
  },
  {
   "cell_type": "code",
   "execution_count": 42,
   "metadata": {
    "ExecuteTime": {
     "end_time": "2021-01-25T09:32:12.551480Z",
     "start_time": "2021-01-25T09:31:53.620819Z"
    }
   },
   "outputs": [
    {
     "name": "stdout",
     "output_type": "stream",
     "text": [
      "Fitting 5 folds for each of 1 candidates, totalling 5 fits\n"
     ]
    },
    {
     "name": "stderr",
     "output_type": "stream",
     "text": [
      "[Parallel(n_jobs=-1)]: Using backend LokyBackend with 8 concurrent workers.\n",
      "[Parallel(n_jobs=-1)]: Done   2 out of   5 | elapsed:   11.6s remaining:   17.4s\n",
      "[Parallel(n_jobs=-1)]: Done   5 out of   5 | elapsed:   11.9s finished\n"
     ]
    },
    {
     "data": {
      "text/plain": [
       "GridSearchCV(cv=5,\n",
       "             estimator=Pipeline(steps=[('tvec', TfidfVectorizer()),\n",
       "                                       ('lr', SGDClassifier(loss='log'))]),\n",
       "             n_jobs=-1,\n",
       "             param_grid={'lr__alpha': [0.0001], 'tvec__max_df': [0.3],\n",
       "                         'tvec__max_features': [10000], 'tvec__min_df': [5],\n",
       "                         'tvec__ngram_range': [(1, 2)]},\n",
       "             scoring='roc_auc', verbose=1)"
      ]
     },
     "execution_count": 42,
     "metadata": {},
     "output_type": "execute_result"
    }
   ],
   "source": [
    "# search through the parameter grid using GridSearchCV\n",
    "\n",
    "gs_cyberpunk_lr.fit(X_cyberpunk_train, y_cyberpunk_train)"
   ]
  },
  {
   "cell_type": "code",
   "execution_count": 43,
   "metadata": {
    "ExecuteTime": {
     "end_time": "2021-01-25T09:32:12.558148Z",
     "start_time": "2021-01-25T09:32:12.552476Z"
    }
   },
   "outputs": [
    {
     "name": "stdout",
     "output_type": "stream",
     "text": [
      "--------\n",
      "Best mean cross-validated ROC-AUC score: 0.9569\n",
      "--------\n",
      "Best parameters:\n"
     ]
    },
    {
     "data": {
      "text/plain": [
       "{'lr__alpha': 0.0001,\n",
       " 'tvec__max_df': 0.3,\n",
       " 'tvec__max_features': 10000,\n",
       " 'tvec__min_df': 5,\n",
       " 'tvec__ngram_range': (1, 2)}"
      ]
     },
     "metadata": {},
     "output_type": "display_data"
    }
   ],
   "source": [
    "# print out gridsearch info for LogReg and save our LogisticRegression model\n",
    "\n",
    "cyberpunk_lr_model = gridsearch_model(gs_cyberpunk_lr)"
   ]
  },
  {
   "cell_type": "code",
   "execution_count": 44,
   "metadata": {
    "ExecuteTime": {
     "end_time": "2021-01-25T09:32:19.382812Z",
     "start_time": "2021-01-25T09:32:12.560141Z"
    }
   },
   "outputs": [
    {
     "data": {
      "text/plain": [
       "Pipeline(steps=[('tvec',\n",
       "                 TfidfVectorizer(max_df=0.3, max_features=10000, min_df=5,\n",
       "                                 ngram_range=(1, 2))),\n",
       "                ('lr', SGDClassifier(loss='log'))])"
      ]
     },
     "execution_count": 44,
     "metadata": {},
     "output_type": "execute_result"
    }
   ],
   "source": [
    "# fit LogisticRegression model\n",
    "\n",
    "cyberpunk_lr_model.fit(X_cyberpunk_train, y_cyberpunk_train)"
   ]
  },
  {
   "cell_type": "code",
   "execution_count": 45,
   "metadata": {
    "ExecuteTime": {
     "end_time": "2021-01-25T09:32:31.444900Z",
     "start_time": "2021-01-25T09:32:19.383810Z"
    }
   },
   "outputs": [
    {
     "name": "stdout",
     "output_type": "stream",
     "text": [
      "--------\n",
      "Results for Logistic Regression model:\n",
      "--------\n",
      "\n",
      "Accuracy score on train data ---: 0.9044\n",
      "Accuracy score on test data ----: 0.8941\n",
      "ROC-AUC score on train data ----: 0.9677\n",
      "ROC-AUC score on test data -----: 0.9579\n"
     ]
    },
    {
     "data": {
      "image/png": "[encoded data removed]",
      "text/plain": [
       "<Figure size 432x864 with 3 Axes>"
      ]
     },
     "metadata": {},
     "output_type": "display_data"
    }
   ],
   "source": [
    "# print results for LogisticRegression model and plot confusion matrix, ROC curve\n",
    "\n",
    "plot_matrix_rocauc_metrics(cyberpunk_lr_model, 'Logistic Regression', X_cyberpunk_train, X_cyberpunk_test, y_cyberpunk_train, y_cyberpunk_test)"
   ]
  },
  {
   "cell_type": "code",
   "execution_count": 46,
   "metadata": {
    "ExecuteTime": {
     "end_time": "2021-01-25T09:32:31.458546Z",
     "start_time": "2021-01-25T09:32:31.446861Z"
    }
   },
   "outputs": [],
   "source": [
    "# obtain feature names from the individual steps of the pipeline\n",
    "\n",
    "cyberpunk_lr_feature_names = cyberpunk_lr_model.steps[0][1].get_feature_names()"
   ]
  },
  {
   "cell_type": "code",
   "execution_count": 47,
   "metadata": {
    "ExecuteTime": {
     "end_time": "2021-01-25T09:32:31.473808Z",
     "start_time": "2021-01-25T09:32:31.459832Z"
    }
   },
   "outputs": [],
   "source": [
    "# obtain feature coefficients from the individual steps of the pipeline\n",
    "\n",
    "cyberpunk_lr_coef = cyberpunk_lr_model.steps[1][1].coef_[0]"
   ]
  },
  {
   "cell_type": "code",
   "execution_count": 50,
   "metadata": {
    "ExecuteTime": {
     "end_time": "2021-01-25T09:33:01.179724Z",
     "start_time": "2021-01-25T09:33:01.171748Z"
    }
   },
   "outputs": [],
   "source": [
    "# combine into a DataFrame\n",
    "\n",
    "cyberpunk_feature_df = pd.DataFrame(data={'Feature': cyberpunk_lr_feature_names, \n",
    "                                          'Coefficient': cyberpunk_lr_coef,\n",
    "                                          'Exponent of Coefficient': np.exp(cyberpunk_lr_coef)})"
   ]
  },
  {
   "cell_type": "code",
   "execution_count": 51,
   "metadata": {
    "ExecuteTime": {
     "end_time": "2021-01-25T09:33:01.596244Z",
     "start_time": "2021-01-25T09:33:01.580652Z"
    },
    "scrolled": false
   },
   "outputs": [
    {
     "data": {
      "text/html": [
       "<div>\n",
       "<style scoped>\n",
       "    .dataframe tbody tr th:only-of-type {\n",
       "        vertical-align: middle;\n",
       "    }\n",
       "\n",
       "    .dataframe tbody tr th {\n",
       "        vertical-align: top;\n",
       "    }\n",
       "\n",
       "    .dataframe thead th {\n",
       "        text-align: right;\n",
       "    }\n",
       "</style>\n",
       "<table border=\"1\" class=\"dataframe\">\n",
       "  <thead>\n",
       "    <tr style=\"text-align: right;\">\n",
       "      <th></th>\n",
       "      <th>Feature</th>\n",
       "      <th>Coefficient</th>\n",
       "      <th>Exponent of Coefficient</th>\n",
       "    </tr>\n",
       "  </thead>\n",
       "  <tbody>\n",
       "    <tr>\n",
       "      <th>7550</th>\n",
       "      <td>refund</td>\n",
       "      <td>-5.379063</td>\n",
       "      <td>0.004612</td>\n",
       "    </tr>\n",
       "    <tr>\n",
       "      <th>515</th>\n",
       "      <td>amaze</td>\n",
       "      <td>4.717923</td>\n",
       "      <td>111.935543</td>\n",
       "    </tr>\n",
       "    <tr>\n",
       "      <th>994</th>\n",
       "      <td>boring</td>\n",
       "      <td>-4.100089</td>\n",
       "      <td>0.016571</td>\n",
       "    </tr>\n",
       "    <tr>\n",
       "      <th>416</th>\n",
       "      <td>ai</td>\n",
       "      <td>-3.896349</td>\n",
       "      <td>0.020316</td>\n",
       "    </tr>\n",
       "    <tr>\n",
       "      <th>4229</th>\n",
       "      <td>great</td>\n",
       "      <td>3.849492</td>\n",
       "      <td>46.969179</td>\n",
       "    </tr>\n",
       "    <tr>\n",
       "      <th>5438</th>\n",
       "      <td>love</td>\n",
       "      <td>3.716278</td>\n",
       "      <td>41.111076</td>\n",
       "    </tr>\n",
       "    <tr>\n",
       "      <th>6363</th>\n",
       "      <td>not worth</td>\n",
       "      <td>-3.407908</td>\n",
       "      <td>0.033110</td>\n",
       "    </tr>\n",
       "    <tr>\n",
       "      <th>2931</th>\n",
       "      <td>far</td>\n",
       "      <td>3.322101</td>\n",
       "      <td>27.718525</td>\n",
       "    </tr>\n",
       "    <tr>\n",
       "      <th>3294</th>\n",
       "      <td>fun</td>\n",
       "      <td>3.290462</td>\n",
       "      <td>26.855255</td>\n",
       "    </tr>\n",
       "    <tr>\n",
       "      <th>9302</th>\n",
       "      <td>unplayable</td>\n",
       "      <td>-3.212225</td>\n",
       "      <td>0.040267</td>\n",
       "    </tr>\n",
       "    <tr>\n",
       "      <th>5721</th>\n",
       "      <td>mess</td>\n",
       "      <td>-3.204157</td>\n",
       "      <td>0.040593</td>\n",
       "    </tr>\n",
       "    <tr>\n",
       "      <th>2638</th>\n",
       "      <td>even</td>\n",
       "      <td>-3.144696</td>\n",
       "      <td>0.043080</td>\n",
       "    </tr>\n",
       "    <tr>\n",
       "      <th>1898</th>\n",
       "      <td>crash</td>\n",
       "      <td>-3.114229</td>\n",
       "      <td>0.044413</td>\n",
       "    </tr>\n",
       "    <tr>\n",
       "      <th>8461</th>\n",
       "      <td>state</td>\n",
       "      <td>-2.998090</td>\n",
       "      <td>0.049882</td>\n",
       "    </tr>\n",
       "    <tr>\n",
       "      <th>8864</th>\n",
       "      <td>terrible</td>\n",
       "      <td>-2.983340</td>\n",
       "      <td>0.050623</td>\n",
       "    </tr>\n",
       "    <tr>\n",
       "      <th>1293</th>\n",
       "      <td>can</td>\n",
       "      <td>-2.961668</td>\n",
       "      <td>0.051733</td>\n",
       "    </tr>\n",
       "    <tr>\n",
       "      <th>6329</th>\n",
       "      <td>not recommend</td>\n",
       "      <td>-2.959787</td>\n",
       "      <td>0.051830</td>\n",
       "    </tr>\n",
       "    <tr>\n",
       "      <th>4098</th>\n",
       "      <td>good</td>\n",
       "      <td>2.946185</td>\n",
       "      <td>19.033202</td>\n",
       "    </tr>\n",
       "    <tr>\n",
       "      <th>9278</th>\n",
       "      <td>unfinished</td>\n",
       "      <td>-2.925610</td>\n",
       "      <td>0.053632</td>\n",
       "    </tr>\n",
       "    <tr>\n",
       "      <th>764</th>\n",
       "      <td>bad</td>\n",
       "      <td>-2.773460</td>\n",
       "      <td>0.062446</td>\n",
       "    </tr>\n",
       "    <tr>\n",
       "      <th>742</th>\n",
       "      <td>awesome</td>\n",
       "      <td>2.748983</td>\n",
       "      <td>15.626727</td>\n",
       "    </tr>\n",
       "    <tr>\n",
       "      <th>1310</th>\n",
       "      <td>can recommend</td>\n",
       "      <td>-2.735825</td>\n",
       "      <td>0.064840</td>\n",
       "    </tr>\n",
       "    <tr>\n",
       "      <th>5775</th>\n",
       "      <td>minor</td>\n",
       "      <td>2.695239</td>\n",
       "      <td>14.809060</td>\n",
       "    </tr>\n",
       "    <tr>\n",
       "      <th>9967</th>\n",
       "      <td>yes</td>\n",
       "      <td>2.694878</td>\n",
       "      <td>14.803707</td>\n",
       "    </tr>\n",
       "    <tr>\n",
       "      <th>7234</th>\n",
       "      <td>promise</td>\n",
       "      <td>-2.678984</td>\n",
       "      <td>0.068633</td>\n",
       "    </tr>\n",
       "    <tr>\n",
       "      <th>1322</th>\n",
       "      <td>cannot</td>\n",
       "      <td>-2.612073</td>\n",
       "      <td>0.073382</td>\n",
       "    </tr>\n",
       "    <tr>\n",
       "      <th>4</th>\n",
       "      <td>10</td>\n",
       "      <td>2.547581</td>\n",
       "      <td>12.776165</td>\n",
       "    </tr>\n",
       "    <tr>\n",
       "      <th>2927</th>\n",
       "      <td>fantastic</td>\n",
       "      <td>2.538818</td>\n",
       "      <td>12.664688</td>\n",
       "    </tr>\n",
       "    <tr>\n",
       "      <th>1058</th>\n",
       "      <td>broken</td>\n",
       "      <td>-2.522703</td>\n",
       "      <td>0.080242</td>\n",
       "    </tr>\n",
       "    <tr>\n",
       "      <th>7083</th>\n",
       "      <td>poor</td>\n",
       "      <td>-2.501844</td>\n",
       "      <td>0.081934</td>\n",
       "    </tr>\n",
       "  </tbody>\n",
       "</table>\n",
       "</div>"
      ],
      "text/plain": [
       "            Feature  Coefficient  Exponent of Coefficient\n",
       "7550         refund    -5.379063                 0.004612\n",
       "515           amaze     4.717923               111.935543\n",
       "994          boring    -4.100089                 0.016571\n",
       "416              ai    -3.896349                 0.020316\n",
       "4229          great     3.849492                46.969179\n",
       "5438           love     3.716278                41.111076\n",
       "6363      not worth    -3.407908                 0.033110\n",
       "2931            far     3.322101                27.718525\n",
       "3294            fun     3.290462                26.855255\n",
       "9302     unplayable    -3.212225                 0.040267\n",
       "5721           mess    -3.204157                 0.040593\n",
       "2638           even    -3.144696                 0.043080\n",
       "1898          crash    -3.114229                 0.044413\n",
       "8461          state    -2.998090                 0.049882\n",
       "8864       terrible    -2.983340                 0.050623\n",
       "1293            can    -2.961668                 0.051733\n",
       "6329  not recommend    -2.959787                 0.051830\n",
       "4098           good     2.946185                19.033202\n",
       "9278     unfinished    -2.925610                 0.053632\n",
       "764             bad    -2.773460                 0.062446\n",
       "742         awesome     2.748983                15.626727\n",
       "1310  can recommend    -2.735825                 0.064840\n",
       "5775          minor     2.695239                14.809060\n",
       "9967            yes     2.694878                14.803707\n",
       "7234        promise    -2.678984                 0.068633\n",
       "1322         cannot    -2.612073                 0.073382\n",
       "4                10     2.547581                12.776165\n",
       "2927      fantastic     2.538818                12.664688\n",
       "1058         broken    -2.522703                 0.080242\n",
       "7083           poor    -2.501844                 0.081934"
      ]
     },
     "execution_count": 51,
     "metadata": {},
     "output_type": "execute_result"
    }
   ],
   "source": [
    "# sort by the magnitude and display the top 30 values\n",
    "\n",
    "cyberpunk_lr_top30 = cyberpunk_feature_df.sort_values(by='Coefficient', key=abs, ascending=False).head(30)\n",
    "cyberpunk_lr_top30"
   ]
  },
  {
   "cell_type": "code",
   "execution_count": 52,
   "metadata": {
    "ExecuteTime": {
     "end_time": "2021-01-25T09:33:07.552963Z",
     "start_time": "2021-01-25T09:33:07.238729Z"
    }
   },
   "outputs": [
    {
     "data": {
      "image/png": "[encoded data removed]",
      "text/plain": [
       "<Figure size 1080x864 with 1 Axes>"
      ]
     },
     "metadata": {},
     "output_type": "display_data"
    }
   ],
   "source": [
    "# display in a bar plot\n",
    "\n",
    "cyberpunk_lr_top30.plot(x='Feature', y='Coefficient', kind='barh', figsize=(15, 12), width=0.5,\n",
    "                   color=(cyberpunk_lr_top30['Coefficient'] >= 0).map({True: 'darkolivegreen', False: 'darkred'}),\n",
    "                   legend=False)\n",
    "                                                             \n",
    "plt.title('Bar plot of LogisticRegression feature coefficients for Cyberpunk', fontsize=20)\n",
    "plt.xlabel('Coefficient', fontsize=15)\n",
    "plt.gca().invert_yaxis();\n",
    "plt.grid(False)"
   ]
  },
  {
   "cell_type": "markdown",
   "metadata": {},
   "source": [
    "### Naive Bayes Classifier"
   ]
  },
  {
   "cell_type": "code",
   "execution_count": 67,
   "metadata": {
    "ExecuteTime": {
     "end_time": "2021-01-24T15:03:22.076295Z",
     "start_time": "2021-01-24T15:03:22.071261Z"
    }
   },
   "outputs": [],
   "source": [
    "# set up pipeline for MultinomialNB\n",
    "# MultinomialNB is used even though the inputs are not integer counts; works with tf-idf vectors\n",
    "\n",
    "pipe_cyberpunk_nb = Pipeline([\n",
    "    ('tvec', TfidfVectorizer(analyzer = \"word\",\n",
    "                             tokenizer = None,\n",
    "                             preprocessor = None,\n",
    "                             stop_words = None\n",
    "                             )),\n",
    "    ('nb', MultinomialNB())\n",
    "])"
   ]
  },
  {
   "cell_type": "code",
   "execution_count": 53,
   "metadata": {
    "ExecuteTime": {
     "end_time": "2021-01-25T09:36:37.835347Z",
     "start_time": "2021-01-25T09:36:37.830360Z"
    }
   },
   "outputs": [],
   "source": [
    "# set up parameter grid for our pipe_nb\n",
    "\n",
    "pipe_cyberpunk_nb_params = {\n",
    "                    'tvec__max_features': [40000], # [10000, 20000, 30000, 40000]\n",
    "                    'tvec__min_df': [5],\n",
    "                    'tvec__max_df': [0.30],\n",
    "                    'tvec__ngram_range': [(1, 2)],\n",
    "                    'nb__alpha': [0.1]\n",
    "}"
   ]
  },
  {
   "cell_type": "code",
   "execution_count": 69,
   "metadata": {
    "ExecuteTime": {
     "end_time": "2021-01-24T15:03:22.096741Z",
     "start_time": "2021-01-24T15:03:22.091753Z"
    }
   },
   "outputs": [],
   "source": [
    "# instantiate GridSearchCV\n",
    "\n",
    "gs_cyberpunk_nb = GridSearchCV(pipe_cyberpunk_nb,\n",
    "                          param_grid=pipe_cyberpunk_nb_params,\n",
    "                          scoring='roc_auc',\n",
    "                          cv=5,\n",
    "                          verbose=1,\n",
    "                          n_jobs=-1)"
   ]
  },
  {
   "cell_type": "code",
   "execution_count": 70,
   "metadata": {
    "ExecuteTime": {
     "end_time": "2021-01-24T15:18:04.697981Z",
     "start_time": "2021-01-24T15:03:22.098736Z"
    }
   },
   "outputs": [
    {
     "name": "stdout",
     "output_type": "stream",
     "text": [
      "Fitting 5 folds for each of 144 candidates, totalling 720 fits\n"
     ]
    },
    {
     "name": "stderr",
     "output_type": "stream",
     "text": [
      "[Parallel(n_jobs=-1)]: Using backend LokyBackend with 8 concurrent workers.\n",
      "[Parallel(n_jobs=-1)]: Done  34 tasks      | elapsed:   42.4s\n",
      "[Parallel(n_jobs=-1)]: Done 184 tasks      | elapsed:  3.7min\n",
      "[Parallel(n_jobs=-1)]: Done 434 tasks      | elapsed:  8.8min\n",
      "[Parallel(n_jobs=-1)]: Done 720 out of 720 | elapsed: 14.6min finished\n"
     ]
    },
    {
     "data": {
      "text/plain": [
       "GridSearchCV(cv=5,\n",
       "             estimator=Pipeline(steps=[('tvec', TfidfVectorizer()),\n",
       "                                       ('nb', MultinomialNB())]),\n",
       "             n_jobs=-1,\n",
       "             param_grid={'nb__alpha': [0.1, 0.5, 1],\n",
       "                         'tvec__max_df': [0.3, 0.5, 0.7],\n",
       "                         'tvec__max_features': [10000, 20000, 30000, 40000],\n",
       "                         'tvec__min_df': [5, 10],\n",
       "                         'tvec__ngram_range': [(1, 1), (1, 2)]},\n",
       "             scoring='roc_auc', verbose=1)"
      ]
     },
     "execution_count": 70,
     "metadata": {},
     "output_type": "execute_result"
    }
   ],
   "source": [
    "# search through the parameter grid using GridSearchCV\n",
    "\n",
    "gs_cyberpunk_nb.fit(X_cyberpunk_train, y_cyberpunk_train)"
   ]
  },
  {
   "cell_type": "code",
   "execution_count": 71,
   "metadata": {
    "ExecuteTime": {
     "end_time": "2021-01-24T15:18:04.704995Z",
     "start_time": "2021-01-24T15:18:04.698985Z"
    }
   },
   "outputs": [
    {
     "name": "stdout",
     "output_type": "stream",
     "text": [
      "--------\n",
      "Best mean cross-validated ROC-AUC score: 0.9587\n",
      "--------\n",
      "Best parameters:\n"
     ]
    },
    {
     "data": {
      "text/plain": [
       "{'nb__alpha': 0.1,\n",
       " 'tvec__max_df': 0.3,\n",
       " 'tvec__max_features': 40000,\n",
       " 'tvec__min_df': 5,\n",
       " 'tvec__ngram_range': (1, 2)}"
      ]
     },
     "metadata": {},
     "output_type": "display_data"
    }
   ],
   "source": [
    "# print out gridsearch info for Naive Bayes and save our MultinomialNB model\n",
    "\n",
    "cyberpunk_nb_model = gridsearch_model(gs_cyberpunk_nb)"
   ]
  },
  {
   "cell_type": "code",
   "execution_count": 72,
   "metadata": {
    "ExecuteTime": {
     "end_time": "2021-01-24T15:18:11.374934Z",
     "start_time": "2021-01-24T15:18:04.705971Z"
    }
   },
   "outputs": [
    {
     "data": {
      "text/plain": [
       "Pipeline(steps=[('tvec',\n",
       "                 TfidfVectorizer(max_df=0.3, max_features=40000, min_df=5,\n",
       "                                 ngram_range=(1, 2))),\n",
       "                ('nb', MultinomialNB(alpha=0.1))])"
      ]
     },
     "execution_count": 72,
     "metadata": {},
     "output_type": "execute_result"
    }
   ],
   "source": [
    "# fit MultinomialNB model\n",
    "\n",
    "cyberpunk_nb_model.fit(X_cyberpunk_train, y_cyberpunk_train)"
   ]
  },
  {
   "cell_type": "code",
   "execution_count": 73,
   "metadata": {
    "ExecuteTime": {
     "end_time": "2021-01-24T15:18:23.690849Z",
     "start_time": "2021-01-24T15:18:11.375931Z"
    }
   },
   "outputs": [
    {
     "name": "stdout",
     "output_type": "stream",
     "text": [
      "--------\n",
      "Results for Naive Bayes Classifier model:\n",
      "--------\n",
      "\n",
      "Accuracy score on train data ---: 0.9403\n",
      "Accuracy score on test data ----: 0.8975\n",
      "ROC-AUC score on train data ----: 0.9833\n",
      "ROC-AUC score on test data -----: 0.9565\n"
     ]
    },
    {
     "data": {
      "image/png": "[encoded data removed]",
      "text/plain": [
       "<Figure size 432x864 with 3 Axes>"
      ]
     },
     "metadata": {},
     "output_type": "display_data"
    }
   ],
   "source": [
    "# print results for MultinomialNB model and plot confusion matrix, ROC curve\n",
    "\n",
    "plot_matrix_rocauc_metrics(cyberpunk_nb_model, 'Naive Bayes Classifier', X_cyberpunk_train, X_cyberpunk_test, y_cyberpunk_train, y_cyberpunk_test)"
   ]
  },
  {
   "cell_type": "code",
   "execution_count": 74,
   "metadata": {
    "ExecuteTime": {
     "end_time": "2021-01-24T15:18:23.803230Z",
     "start_time": "2021-01-24T15:18:23.691809Z"
    }
   },
   "outputs": [],
   "source": [
    "# extract probabilities for positive class\n",
    "cyberpunk_nb_pos_class_prob_sorted = cyberpunk_nb_model.steps[1][1].feature_log_prob_[1, :].argsort()\n",
    "\n",
    "# extract probabilities for negative class\n",
    "cyberpunk_nb_neg_class_prob_sorted = cyberpunk_nb_model.steps[1][1].feature_log_prob_[0, :].argsort()\n",
    "\n",
    "# getting the features for each class\n",
    "cyberpunk_nb_pos_top_features = np.take(cyberpunk_nb_model.steps[0][1].get_feature_names(), cyberpunk_nb_pos_class_prob_sorted)\n",
    "cyberpunk_nb_neg_top_features = np.take(cyberpunk_nb_model.steps[0][1].get_feature_names(), cyberpunk_nb_neg_class_prob_sorted)"
   ]
  },
  {
   "cell_type": "code",
   "execution_count": 75,
   "metadata": {
    "ExecuteTime": {
     "end_time": "2021-01-24T15:18:23.835937Z",
     "start_time": "2021-01-24T15:18:23.804052Z"
    },
    "scrolled": false
   },
   "outputs": [
    {
     "data": {
      "text/html": [
       "<div>\n",
       "<style scoped>\n",
       "    .dataframe tbody tr th:only-of-type {\n",
       "        vertical-align: middle;\n",
       "    }\n",
       "\n",
       "    .dataframe tbody tr th {\n",
       "        vertical-align: top;\n",
       "    }\n",
       "\n",
       "    .dataframe thead th {\n",
       "        text-align: right;\n",
       "    }\n",
       "</style>\n",
       "<table border=\"1\" class=\"dataframe\">\n",
       "  <thead>\n",
       "    <tr style=\"text-align: right;\">\n",
       "      <th></th>\n",
       "      <th>Positive Class Features</th>\n",
       "      <th>NB Coefficient</th>\n",
       "    </tr>\n",
       "  </thead>\n",
       "  <tbody>\n",
       "    <tr>\n",
       "      <th>0</th>\n",
       "      <td>run</td>\n",
       "      <td>-6.232118</td>\n",
       "    </tr>\n",
       "    <tr>\n",
       "      <th>1</th>\n",
       "      <td>amaze</td>\n",
       "      <td>-6.224113</td>\n",
       "    </tr>\n",
       "    <tr>\n",
       "      <th>2</th>\n",
       "      <td>fun</td>\n",
       "      <td>-6.186277</td>\n",
       "    </tr>\n",
       "    <tr>\n",
       "      <th>3</th>\n",
       "      <td>time</td>\n",
       "      <td>-6.177971</td>\n",
       "    </tr>\n",
       "    <tr>\n",
       "      <th>4</th>\n",
       "      <td>well</td>\n",
       "      <td>-6.163778</td>\n",
       "    </tr>\n",
       "    <tr>\n",
       "      <th>5</th>\n",
       "      <td>really</td>\n",
       "      <td>-6.129622</td>\n",
       "    </tr>\n",
       "    <tr>\n",
       "      <th>6</th>\n",
       "      <td>far</td>\n",
       "      <td>-6.109350</td>\n",
       "    </tr>\n",
       "    <tr>\n",
       "      <th>7</th>\n",
       "      <td>10</td>\n",
       "      <td>-5.962910</td>\n",
       "    </tr>\n",
       "    <tr>\n",
       "      <th>8</th>\n",
       "      <td>good</td>\n",
       "      <td>-5.879983</td>\n",
       "    </tr>\n",
       "    <tr>\n",
       "      <th>9</th>\n",
       "      <td>great</td>\n",
       "      <td>-5.877616</td>\n",
       "    </tr>\n",
       "  </tbody>\n",
       "</table>\n",
       "</div>"
      ],
      "text/plain": [
       "  Positive Class Features  NB Coefficient\n",
       "0                     run       -6.232118\n",
       "1                   amaze       -6.224113\n",
       "2                     fun       -6.186277\n",
       "3                    time       -6.177971\n",
       "4                    well       -6.163778\n",
       "5                  really       -6.129622\n",
       "6                     far       -6.109350\n",
       "7                      10       -5.962910\n",
       "8                    good       -5.879983\n",
       "9                   great       -5.877616"
      ]
     },
     "execution_count": 75,
     "metadata": {},
     "output_type": "execute_result"
    }
   ],
   "source": [
    "# put together in a DataFrame for the positive class\n",
    "\n",
    "pd.DataFrame(data={'Positive Class Features': cyberpunk_nb_pos_top_features[-10:], 'NB Coefficient': sorted(cyberpunk_nb_model.steps[1][1].feature_log_prob_[1, :])[-10:]})"
   ]
  },
  {
   "cell_type": "code",
   "execution_count": 76,
   "metadata": {
    "ExecuteTime": {
     "end_time": "2021-01-24T15:18:23.869847Z",
     "start_time": "2021-01-24T15:18:23.837943Z"
    },
    "scrolled": true
   },
   "outputs": [
    {
     "data": {
      "text/html": [
       "<div>\n",
       "<style scoped>\n",
       "    .dataframe tbody tr th:only-of-type {\n",
       "        vertical-align: middle;\n",
       "    }\n",
       "\n",
       "    .dataframe tbody tr th {\n",
       "        vertical-align: top;\n",
       "    }\n",
       "\n",
       "    .dataframe thead th {\n",
       "        text-align: right;\n",
       "    }\n",
       "</style>\n",
       "<table border=\"1\" class=\"dataframe\">\n",
       "  <thead>\n",
       "    <tr style=\"text-align: right;\">\n",
       "      <th></th>\n",
       "      <th>Negative Class Features</th>\n",
       "      <th>NB Coefficient</th>\n",
       "    </tr>\n",
       "  </thead>\n",
       "  <tbody>\n",
       "    <tr>\n",
       "      <th>0</th>\n",
       "      <td>year</td>\n",
       "      <td>-6.363894</td>\n",
       "    </tr>\n",
       "    <tr>\n",
       "      <th>1</th>\n",
       "      <td>bad</td>\n",
       "      <td>-6.336731</td>\n",
       "    </tr>\n",
       "    <tr>\n",
       "      <th>2</th>\n",
       "      <td>more</td>\n",
       "      <td>-6.329015</td>\n",
       "    </tr>\n",
       "    <tr>\n",
       "      <th>3</th>\n",
       "      <td>wait</td>\n",
       "      <td>-6.326142</td>\n",
       "    </tr>\n",
       "    <tr>\n",
       "      <th>4</th>\n",
       "      <td>fix</td>\n",
       "      <td>-6.316890</td>\n",
       "    </tr>\n",
       "    <tr>\n",
       "      <th>5</th>\n",
       "      <td>make</td>\n",
       "      <td>-6.304975</td>\n",
       "    </tr>\n",
       "    <tr>\n",
       "      <th>6</th>\n",
       "      <td>time</td>\n",
       "      <td>-6.242995</td>\n",
       "    </tr>\n",
       "    <tr>\n",
       "      <th>7</th>\n",
       "      <td>feel</td>\n",
       "      <td>-6.166320</td>\n",
       "    </tr>\n",
       "    <tr>\n",
       "      <th>8</th>\n",
       "      <td>no</td>\n",
       "      <td>-6.047209</td>\n",
       "    </tr>\n",
       "    <tr>\n",
       "      <th>9</th>\n",
       "      <td>even</td>\n",
       "      <td>-6.007562</td>\n",
       "    </tr>\n",
       "  </tbody>\n",
       "</table>\n",
       "</div>"
      ],
      "text/plain": [
       "  Negative Class Features  NB Coefficient\n",
       "0                    year       -6.363894\n",
       "1                     bad       -6.336731\n",
       "2                    more       -6.329015\n",
       "3                    wait       -6.326142\n",
       "4                     fix       -6.316890\n",
       "5                    make       -6.304975\n",
       "6                    time       -6.242995\n",
       "7                    feel       -6.166320\n",
       "8                      no       -6.047209\n",
       "9                    even       -6.007562"
      ]
     },
     "execution_count": 76,
     "metadata": {},
     "output_type": "execute_result"
    }
   ],
   "source": [
    "# put together in a DataFrame for the negative class\n",
    "\n",
    "pd.DataFrame(data={'Negative Class Features': cyberpunk_nb_neg_top_features[-10:], 'NB Coefficient': sorted(cyberpunk_nb_model.steps[1][1].feature_log_prob_[0, :])[-10:]})"
   ]
  },
  {
   "cell_type": "markdown",
   "metadata": {},
   "source": [
    "### Support Vector Classifier"
   ]
  },
  {
   "cell_type": "code",
   "execution_count": 90,
   "metadata": {
    "ExecuteTime": {
     "end_time": "2021-01-25T06:14:56.897152Z",
     "start_time": "2021-01-25T06:14:56.893163Z"
    }
   },
   "outputs": [],
   "source": [
    "# set up pipeline for SVC\n",
    "\n",
    "pipe_cyberpunk_svc = Pipeline([\n",
    "    ('tvec', TfidfVectorizer(analyzer = \"word\",\n",
    "                             tokenizer = None,\n",
    "                             preprocessor = None,\n",
    "                             stop_words = None\n",
    "                             )),\n",
    "    ('svc', SGDClassifier(loss='hinge', penalty='l2'))\n",
    "])"
   ]
  },
  {
   "cell_type": "code",
   "execution_count": 54,
   "metadata": {
    "ExecuteTime": {
     "end_time": "2021-01-25T09:38:04.266198Z",
     "start_time": "2021-01-25T09:38:04.261183Z"
    }
   },
   "outputs": [],
   "source": [
    "# set up parameter grid for our pipe_svc\n",
    "\n",
    "pipe_cyberpunk_svc_params = {\n",
    "                    'tvec__max_features': [20000], # [10000, 20000]\n",
    "                    'tvec__min_df': [10], # [5, 10]\n",
    "                    'tvec__max_df': [0.30], # [0.30, 0.50, 0.70]\n",
    "                    'tvec__ngram_range': [(1, 2)], # [(1, 1), (1, 2)]\n",
    "                    'svc__alpha': [0.0001]\n",
    "}"
   ]
  },
  {
   "cell_type": "code",
   "execution_count": 92,
   "metadata": {
    "ExecuteTime": {
     "end_time": "2021-01-25T06:14:56.914622Z",
     "start_time": "2021-01-25T06:14:56.910634Z"
    }
   },
   "outputs": [],
   "source": [
    "# instantiate GridSearchCV\n",
    "\n",
    "gs_cyberpunk_svc = GridSearchCV(pipe_cyberpunk_svc,\n",
    "                          param_grid=pipe_cyberpunk_svc_params,\n",
    "                          scoring='accuracy',\n",
    "                          cv=5,\n",
    "                          verbose=1,\n",
    "                          n_jobs=-1)"
   ]
  },
  {
   "cell_type": "code",
   "execution_count": 93,
   "metadata": {
    "ExecuteTime": {
     "end_time": "2021-01-25T06:17:49.820451Z",
     "start_time": "2021-01-25T06:14:56.917614Z"
    }
   },
   "outputs": [
    {
     "name": "stdout",
     "output_type": "stream",
     "text": [
      "Fitting 5 folds for each of 24 candidates, totalling 120 fits\n"
     ]
    },
    {
     "name": "stderr",
     "output_type": "stream",
     "text": [
      "[Parallel(n_jobs=-1)]: Using backend LokyBackend with 8 concurrent workers.\n",
      "[Parallel(n_jobs=-1)]: Done  34 tasks      | elapsed:   46.0s\n",
      "[Parallel(n_jobs=-1)]: Done 120 out of 120 | elapsed:  2.7min finished\n"
     ]
    },
    {
     "data": {
      "text/plain": [
       "GridSearchCV(cv=5,\n",
       "             estimator=Pipeline(steps=[('tvec', TfidfVectorizer()),\n",
       "                                       ('svc', SGDClassifier())]),\n",
       "             n_jobs=-1,\n",
       "             param_grid={'svc__alpha': [0.0001],\n",
       "                         'tvec__max_df': [0.3, 0.5, 0.7],\n",
       "                         'tvec__max_features': [10000, 20000],\n",
       "                         'tvec__min_df': [5, 10],\n",
       "                         'tvec__ngram_range': [(1, 1), (1, 2)]},\n",
       "             scoring='accuracy', verbose=1)"
      ]
     },
     "execution_count": 93,
     "metadata": {},
     "output_type": "execute_result"
    }
   ],
   "source": [
    "# search through the parameter grid using GridSearchCV\n",
    "\n",
    "gs_cyberpunk_svc.fit(X_cyberpunk_train, y_cyberpunk_train)"
   ]
  },
  {
   "cell_type": "code",
   "execution_count": 94,
   "metadata": {
    "ExecuteTime": {
     "end_time": "2021-01-25T06:17:49.828428Z",
     "start_time": "2021-01-25T06:17:49.822445Z"
    }
   },
   "outputs": [
    {
     "name": "stdout",
     "output_type": "stream",
     "text": [
      "--------\n",
      "Best mean cross-validated ROC-AUC score: 0.9088\n",
      "--------\n",
      "Best parameters:\n"
     ]
    },
    {
     "data": {
      "text/plain": [
       "{'svc__alpha': 0.0001,\n",
       " 'tvec__max_df': 0.3,\n",
       " 'tvec__max_features': 20000,\n",
       " 'tvec__min_df': 10,\n",
       " 'tvec__ngram_range': (1, 2)}"
      ]
     },
     "metadata": {},
     "output_type": "display_data"
    }
   ],
   "source": [
    "# print out gridsearch info for Support Vector Classifier and save our SVC model\n",
    "\n",
    "cyberpunk_svc_model = gridsearch_model(gs_cyberpunk_svc)"
   ]
  },
  {
   "cell_type": "code",
   "execution_count": 95,
   "metadata": {
    "ExecuteTime": {
     "end_time": "2021-01-25T06:17:57.045391Z",
     "start_time": "2021-01-25T06:17:49.830423Z"
    }
   },
   "outputs": [
    {
     "data": {
      "text/plain": [
       "Pipeline(steps=[('tvec',\n",
       "                 TfidfVectorizer(max_df=0.3, max_features=20000, min_df=10,\n",
       "                                 ngram_range=(1, 2))),\n",
       "                ('svc', SGDClassifier())])"
      ]
     },
     "execution_count": 95,
     "metadata": {},
     "output_type": "execute_result"
    }
   ],
   "source": [
    "# fit SVC model\n",
    "\n",
    "cyberpunk_svc_model.fit(X_cyberpunk_train, y_cyberpunk_train)"
   ]
  },
  {
   "cell_type": "code",
   "execution_count": 96,
   "metadata": {
    "ExecuteTime": {
     "end_time": "2021-01-25T06:18:03.430325Z",
     "start_time": "2021-01-25T06:17:57.047385Z"
    }
   },
   "outputs": [
    {
     "name": "stdout",
     "output_type": "stream",
     "text": [
      "--------\n",
      "Results for Support Vector Classifier model:\n",
      "--------\n",
      "\n",
      "Accuracy score on train data ---: 0.9338\n",
      "Accuracy score on test data ----: 0.9102\n"
     ]
    },
    {
     "data": {
      "image/png": "[encoded data removed]",
      "text/plain": [
       "<Figure size 432x288 with 2 Axes>"
      ]
     },
     "metadata": {},
     "output_type": "display_data"
    }
   ],
   "source": [
    "# print results for SVC model and plot confusion matrix, ROC curve\n",
    "\n",
    "plot_matrix_rocauc_metrics(cyberpunk_svc_model, 'Support Vector Classifier', X_cyberpunk_train, X_cyberpunk_test, y_cyberpunk_train, y_cyberpunk_test)"
   ]
  },
  {
   "cell_type": "markdown",
   "metadata": {},
   "source": [
    "### LSTM"
   ]
  },
  {
   "cell_type": "code",
   "execution_count": null,
   "metadata": {},
   "outputs": [],
   "source": [
    "X_cyberpunk_lstm = lstm_tokenizer(X_cyberpunk, 200, 20000)"
   ]
  },
  {
   "cell_type": "code",
   "execution_count": null,
   "metadata": {},
   "outputs": [],
   "source": [
    "y_cyberpunk_lstm = pd.get_dummies(y_cyberpunk).values[:, 1]"
   ]
  },
  {
   "cell_type": "code",
   "execution_count": null,
   "metadata": {},
   "outputs": [],
   "source": [
    "# create training and testing sets for lstm\n",
    "\n",
    "X_cyberpunk_train_lstm, y_cyberpunk_train_lstm, X_cyberpunk_test_lstm, y_cyberpunk_test_lstm = lstm_train_test_split(X_cyberpunk_lstm, \n",
    "                                                                                                                     y_cyberpunk_lstm, \n",
    "                                                                                                                     y_cyberpunk, \n",
    "                                                                                                                     0.25)"
   ]
  },
  {
   "cell_type": "code",
   "execution_count": null,
   "metadata": {},
   "outputs": [],
   "source": [
    "# create lstm model\n",
    "\n",
    "cyberpunk_lstm_model = create_lstm_model(X_cyberpunk_lstm, 20000, 200)"
   ]
  },
  {
   "cell_type": "code",
   "execution_count": null,
   "metadata": {},
   "outputs": [],
   "source": [
    "cyberpunk_class_weights = generate_class_weights(y_cyberpunk)"
   ]
  },
  {
   "cell_type": "code",
   "execution_count": null,
   "metadata": {},
   "outputs": [],
   "source": [
    "cyberpunk_history, cyberpunk_loss, cyberpunk_acc = lstm_model_fit_evaluate(cyberpunk_lstm_model,\n",
    "                                                                           X_cyberpunk_train_lstm, \n",
    "                                                                           y_cyberpunk_train_lstm, \n",
    "                                                                           X_cyberpunk_test_lstm, \n",
    "                                                                           y_cyberpunk_test_lstm,\n",
    "                                                                           class_weights = cyberpunk_class_weights,\n",
    "                                                                           epochs=10,\n",
    "                                                                           batch_size=50)"
   ]
  },
  {
   "cell_type": "code",
   "execution_count": null,
   "metadata": {},
   "outputs": [],
   "source": [
    "lstm_metrics_plot(cyberpunk_lstm_model, cyberpunk_history, X_cyberpunk_test_lstm, y_cyberpunk_test_lstm)"
   ]
  },
  {
   "cell_type": "code",
   "execution_count": null,
   "metadata": {},
   "outputs": [],
   "source": [
    "# create final lstm model\n",
    "\n",
    "cyberpunk_lstm_model_final = create_lstm_model(X_cyberpunk_lstm, 20000, 200)"
   ]
  },
  {
   "cell_type": "code",
   "execution_count": null,
   "metadata": {},
   "outputs": [],
   "source": [
    "cyberpunk_history, cyberpunk_loss, cyberpunk_acc = lstm_model_fit_evaluate(cyberpunk_lstm_model_final,\n",
    "                                                                           X_cyberpunk_train_lstm, \n",
    "                                                                           y_cyberpunk_train_lstm, \n",
    "                                                                           X_cyberpunk_test_lstm, \n",
    "                                                                           y_cyberpunk_test_lstm,\n",
    "                                                                           class_weights = cyberpunk_class_weights,\n",
    "                                                                           epochs=4,\n",
    "                                                                           batch_size=50)"
   ]
  },
  {
   "cell_type": "code",
   "execution_count": null,
   "metadata": {},
   "outputs": [],
   "source": [
    "lstm_metrics_plot(cyberpunk_lstm_model_final, cyberpunk_history, X_cyberpunk_test_lstm, y_cyberpunk_test_lstm)"
   ]
  },
  {
   "cell_type": "markdown",
   "metadata": {},
   "source": [
    "**Training Epochs**\n",
    "\n",
    "![Results for Cyberpunk - LSTM](./results/lstm_cyberpunk_epochs.png)\n",
    "\n",
    "**Final ROC-AUC and Accuracy Scores**\n",
    "\n",
    "![Results for Cyberpunk - LSTM](./results/lstm_cyberpunk.png)"
   ]
  },
  {
   "cell_type": "markdown",
   "metadata": {},
   "source": [
    "## Fall Guys"
   ]
  },
  {
   "cell_type": "code",
   "execution_count": 55,
   "metadata": {
    "ExecuteTime": {
     "end_time": "2021-01-25T09:39:06.891397Z",
     "start_time": "2021-01-25T09:39:06.886412Z"
    }
   },
   "outputs": [],
   "source": [
    "X_fallguys = fallguys_df_ml['lemmed_text']\n",
    "y_fallguys = fallguys_df_ml['label']"
   ]
  },
  {
   "cell_type": "code",
   "execution_count": 56,
   "metadata": {
    "ExecuteTime": {
     "end_time": "2021-01-25T09:39:07.299427Z",
     "start_time": "2021-01-25T09:39:07.290453Z"
    }
   },
   "outputs": [
    {
     "data": {
      "text/plain": [
       "1    0.702159\n",
       "0    0.297841\n",
       "Name: label, dtype: float64"
      ]
     },
     "execution_count": 56,
     "metadata": {},
     "output_type": "execute_result"
    }
   ],
   "source": [
    "y_fallguys.value_counts(normalize=True)"
   ]
  },
  {
   "cell_type": "markdown",
   "metadata": {},
   "source": [
    "Our baseline accuracy is **0.702**. While it is possible to use sampling methods such as Synthetic Minority Over-sampling Technique (SMOTE) to create new synthetic samples from the minority class, this approach normally does not work well with text data due to the high-dimensional nature of the numerical vectors created."
   ]
  },
  {
   "cell_type": "code",
   "execution_count": 57,
   "metadata": {
    "ExecuteTime": {
     "end_time": "2021-01-25T09:39:08.310713Z",
     "start_time": "2021-01-25T09:39:08.286042Z"
    }
   },
   "outputs": [],
   "source": [
    "# create training and test sets\n",
    "\n",
    "X_fallguys_train, X_fallguys_test, y_fallguys_train, y_fallguys_test = train_test_split(X_fallguys,\n",
    "                                                                        y_fallguys,\n",
    "                                                                        test_size=0.25,\n",
    "                                                                        stratify=y_fallguys,\n",
    "                                                                        random_state=42)"
   ]
  },
  {
   "cell_type": "markdown",
   "metadata": {},
   "source": [
    "### Logistic Regression"
   ]
  },
  {
   "cell_type": "code",
   "execution_count": 58,
   "metadata": {
    "ExecuteTime": {
     "end_time": "2021-01-25T09:39:09.279473Z",
     "start_time": "2021-01-25T09:39:09.273493Z"
    }
   },
   "outputs": [],
   "source": [
    "# set up pipeline for LogisticRegression\n",
    "\n",
    "pipe_fallguys_lr = Pipeline([\n",
    "                ('tvec', TfidfVectorizer(analyzer = 'word',\n",
    "                             tokenizer = None,\n",
    "                             preprocessor = None,\n",
    "                             stop_words = None,\n",
    "                             )),\n",
    "                ('lr', SGDClassifier(loss='log', penalty='l2'))\n",
    "])"
   ]
  },
  {
   "cell_type": "code",
   "execution_count": 59,
   "metadata": {
    "ExecuteTime": {
     "end_time": "2021-01-25T09:39:09.904796Z",
     "start_time": "2021-01-25T09:39:09.899811Z"
    }
   },
   "outputs": [],
   "source": [
    "# set up parameter grid for our pipe_lr\n",
    "\n",
    "pipe_fallguys_lr_params = {\n",
    "                        'tvec__max_features': [40000], # [10000, 20000, 30000, 40000]\n",
    "                        'tvec__min_df': [10], # [5, 10]\n",
    "                        'tvec__max_df': [0.70], # [0.30, 0.50, 0.70]\n",
    "                        'tvec__ngram_range': [(1, 2)], # [(1, 1), (1, 2)]\n",
    "                        'lr__alpha': [0.0001] # [0.0001, 0.001, 0.01]\n",
    "}"
   ]
  },
  {
   "cell_type": "code",
   "execution_count": 60,
   "metadata": {
    "ExecuteTime": {
     "end_time": "2021-01-25T09:39:11.699993Z",
     "start_time": "2021-01-25T09:39:11.694010Z"
    }
   },
   "outputs": [],
   "source": [
    "# instantiate GridSearchCV\n",
    "\n",
    "gs_fallguys_lr = GridSearchCV(pipe_fallguys_lr, \n",
    "                          param_grid=pipe_fallguys_lr_params,\n",
    "                          scoring='roc_auc',\n",
    "                          cv=5,\n",
    "                          verbose=1,\n",
    "                          n_jobs=-1)"
   ]
  },
  {
   "cell_type": "code",
   "execution_count": 61,
   "metadata": {
    "ExecuteTime": {
     "end_time": "2021-01-25T09:39:24.178719Z",
     "start_time": "2021-01-25T09:39:16.130164Z"
    }
   },
   "outputs": [
    {
     "name": "stdout",
     "output_type": "stream",
     "text": [
      "Fitting 5 folds for each of 1 candidates, totalling 5 fits\n"
     ]
    },
    {
     "name": "stderr",
     "output_type": "stream",
     "text": [
      "[Parallel(n_jobs=-1)]: Using backend LokyBackend with 8 concurrent workers.\n",
      "[Parallel(n_jobs=-1)]: Done   2 out of   5 | elapsed:    5.4s remaining:    8.2s\n",
      "[Parallel(n_jobs=-1)]: Done   5 out of   5 | elapsed:    5.5s finished\n"
     ]
    },
    {
     "data": {
      "text/plain": [
       "GridSearchCV(cv=5,\n",
       "             estimator=Pipeline(steps=[('tvec', TfidfVectorizer()),\n",
       "                                       ('lr', SGDClassifier(loss='log'))]),\n",
       "             n_jobs=-1,\n",
       "             param_grid={'lr__alpha': [0.0001], 'tvec__max_df': [0.7],\n",
       "                         'tvec__max_features': [40000], 'tvec__min_df': [10],\n",
       "                         'tvec__ngram_range': [(1, 2)]},\n",
       "             scoring='roc_auc', verbose=1)"
      ]
     },
     "execution_count": 61,
     "metadata": {},
     "output_type": "execute_result"
    }
   ],
   "source": [
    "# search through the parameter grid using GridSearchCV\n",
    "\n",
    "gs_fallguys_lr.fit(X_fallguys_train, y_fallguys_train)"
   ]
  },
  {
   "cell_type": "code",
   "execution_count": 62,
   "metadata": {
    "ExecuteTime": {
     "end_time": "2021-01-25T09:39:24.185703Z",
     "start_time": "2021-01-25T09:39:24.179717Z"
    }
   },
   "outputs": [
    {
     "name": "stdout",
     "output_type": "stream",
     "text": [
      "--------\n",
      "Best mean cross-validated ROC-AUC score: 0.9414\n",
      "--------\n",
      "Best parameters:\n"
     ]
    },
    {
     "data": {
      "text/plain": [
       "{'lr__alpha': 0.0001,\n",
       " 'tvec__max_df': 0.7,\n",
       " 'tvec__max_features': 40000,\n",
       " 'tvec__min_df': 10,\n",
       " 'tvec__ngram_range': (1, 2)}"
      ]
     },
     "metadata": {},
     "output_type": "display_data"
    }
   ],
   "source": [
    "# print out gridsearch info for LogReg and save our LogisticRegression model\n",
    "\n",
    "fallguys_lr_model = gridsearch_model(gs_fallguys_lr)"
   ]
  },
  {
   "cell_type": "code",
   "execution_count": 63,
   "metadata": {
    "ExecuteTime": {
     "end_time": "2021-01-25T09:39:26.671649Z",
     "start_time": "2021-01-25T09:39:24.187696Z"
    }
   },
   "outputs": [
    {
     "data": {
      "text/plain": [
       "Pipeline(steps=[('tvec',\n",
       "                 TfidfVectorizer(max_df=0.7, max_features=40000, min_df=10,\n",
       "                                 ngram_range=(1, 2))),\n",
       "                ('lr', SGDClassifier(loss='log'))])"
      ]
     },
     "execution_count": 63,
     "metadata": {},
     "output_type": "execute_result"
    }
   ],
   "source": [
    "# fit LogisticRegression model\n",
    "\n",
    "fallguys_lr_model.fit(X_fallguys_train, y_fallguys_train)"
   ]
  },
  {
   "cell_type": "code",
   "execution_count": 64,
   "metadata": {
    "ExecuteTime": {
     "end_time": "2021-01-25T09:39:31.460496Z",
     "start_time": "2021-01-25T09:39:26.672645Z"
    }
   },
   "outputs": [
    {
     "name": "stdout",
     "output_type": "stream",
     "text": [
      "--------\n",
      "Results for Logistic Regression model:\n",
      "--------\n",
      "\n",
      "Accuracy score on train data ---: 0.8952\n",
      "Accuracy score on test data ----: 0.8676\n",
      "ROC-AUC score on train data ----: 0.9604\n",
      "ROC-AUC score on test data -----: 0.9364\n"
     ]
    },
    {
     "data": {
      "image/png": "[encoded data removed]",
      "text/plain": [
       "<Figure size 432x864 with 3 Axes>"
      ]
     },
     "metadata": {},
     "output_type": "display_data"
    }
   ],
   "source": [
    "# print results for LogisticRegression model and plot confusion matrix, ROC curve\n",
    "\n",
    "plot_matrix_rocauc_metrics(fallguys_lr_model, 'Logistic Regression', X_fallguys_train, X_fallguys_test, y_fallguys_train, y_fallguys_test)"
   ]
  },
  {
   "cell_type": "code",
   "execution_count": 65,
   "metadata": {
    "ExecuteTime": {
     "end_time": "2021-01-25T09:39:31.474573Z",
     "start_time": "2021-01-25T09:39:31.461494Z"
    }
   },
   "outputs": [],
   "source": [
    "# obtain feature names from the individual steps of the pipeline\n",
    "\n",
    "fallguys_lr_feature_names = fallguys_lr_model.steps[0][1].get_feature_names()"
   ]
  },
  {
   "cell_type": "code",
   "execution_count": 66,
   "metadata": {
    "ExecuteTime": {
     "end_time": "2021-01-25T09:39:31.484079Z",
     "start_time": "2021-01-25T09:39:31.475567Z"
    }
   },
   "outputs": [],
   "source": [
    "# obtain feature coefficients from the individual steps of the pipeline\n",
    "\n",
    "fallguys_lr_coef = fallguys_lr_model.steps[1][1].coef_[0]"
   ]
  },
  {
   "cell_type": "code",
   "execution_count": 67,
   "metadata": {
    "ExecuteTime": {
     "end_time": "2021-01-25T09:39:31.492064Z",
     "start_time": "2021-01-25T09:39:31.485092Z"
    }
   },
   "outputs": [],
   "source": [
    "# combine into a DataFrame\n",
    "\n",
    "fallguys_feature_df = pd.DataFrame(data={'Feature': fallguys_lr_feature_names, \n",
    "                                         'Coefficient': fallguys_lr_coef,\n",
    "                                         'Exponent of Coefficient': np.exp(fallguys_lr_coef)})"
   ]
  },
  {
   "cell_type": "code",
   "execution_count": 68,
   "metadata": {
    "ExecuteTime": {
     "end_time": "2021-01-25T09:39:31.508033Z",
     "start_time": "2021-01-25T09:39:31.494058Z"
    },
    "scrolled": false
   },
   "outputs": [
    {
     "data": {
      "text/html": [
       "<div>\n",
       "<style scoped>\n",
       "    .dataframe tbody tr th:only-of-type {\n",
       "        vertical-align: middle;\n",
       "    }\n",
       "\n",
       "    .dataframe tbody tr th {\n",
       "        vertical-align: top;\n",
       "    }\n",
       "\n",
       "    .dataframe thead th {\n",
       "        text-align: right;\n",
       "    }\n",
       "</style>\n",
       "<table border=\"1\" class=\"dataframe\">\n",
       "  <thead>\n",
       "    <tr style=\"text-align: right;\">\n",
       "      <th></th>\n",
       "      <th>Feature</th>\n",
       "      <th>Coefficient</th>\n",
       "      <th>Exponent of Coefficient</th>\n",
       "    </tr>\n",
       "  </thead>\n",
       "  <tbody>\n",
       "    <tr>\n",
       "      <th>3603</th>\n",
       "      <td>fun</td>\n",
       "      <td>6.367432</td>\n",
       "      <td>582.559751</td>\n",
       "    </tr>\n",
       "    <tr>\n",
       "      <th>7813</th>\n",
       "      <td>not</td>\n",
       "      <td>-5.271360</td>\n",
       "      <td>0.005137</td>\n",
       "    </tr>\n",
       "    <tr>\n",
       "      <th>9540</th>\n",
       "      <td>refund</td>\n",
       "      <td>-4.508216</td>\n",
       "      <td>0.011018</td>\n",
       "    </tr>\n",
       "    <tr>\n",
       "      <th>5086</th>\n",
       "      <td>great</td>\n",
       "      <td>4.194430</td>\n",
       "      <td>66.315917</td>\n",
       "    </tr>\n",
       "    <tr>\n",
       "      <th>4949</th>\n",
       "      <td>good</td>\n",
       "      <td>3.952469</td>\n",
       "      <td>52.063746</td>\n",
       "    </tr>\n",
       "    <tr>\n",
       "      <th>7949</th>\n",
       "      <td>not worth</td>\n",
       "      <td>-3.838254</td>\n",
       "      <td>0.021531</td>\n",
       "    </tr>\n",
       "    <tr>\n",
       "      <th>1434</th>\n",
       "      <td>cheater</td>\n",
       "      <td>-3.643927</td>\n",
       "      <td>0.026149</td>\n",
       "    </tr>\n",
       "    <tr>\n",
       "      <th>7721</th>\n",
       "      <td>no</td>\n",
       "      <td>-3.420312</td>\n",
       "      <td>0.032702</td>\n",
       "    </tr>\n",
       "    <tr>\n",
       "      <th>5253</th>\n",
       "      <td>hacker</td>\n",
       "      <td>-3.331315</td>\n",
       "      <td>0.035746</td>\n",
       "    </tr>\n",
       "    <tr>\n",
       "      <th>919</th>\n",
       "      <td>best</td>\n",
       "      <td>3.306801</td>\n",
       "      <td>27.297662</td>\n",
       "    </tr>\n",
       "    <tr>\n",
       "      <th>6722</th>\n",
       "      <td>love</td>\n",
       "      <td>3.265752</td>\n",
       "      <td>26.199817</td>\n",
       "    </tr>\n",
       "    <tr>\n",
       "      <th>1047</th>\n",
       "      <td>boring</td>\n",
       "      <td>-3.229061</td>\n",
       "      <td>0.039595</td>\n",
       "    </tr>\n",
       "    <tr>\n",
       "      <th>9901</th>\n",
       "      <td>ruin</td>\n",
       "      <td>-3.023988</td>\n",
       "      <td>0.048607</td>\n",
       "    </tr>\n",
       "    <tr>\n",
       "      <th>11803</th>\n",
       "      <td>unplayable</td>\n",
       "      <td>-3.011866</td>\n",
       "      <td>0.049200</td>\n",
       "    </tr>\n",
       "    <tr>\n",
       "      <th>3435</th>\n",
       "      <td>friend</td>\n",
       "      <td>2.985171</td>\n",
       "      <td>19.789887</td>\n",
       "    </tr>\n",
       "    <tr>\n",
       "      <th>506</th>\n",
       "      <td>amaze</td>\n",
       "      <td>2.897617</td>\n",
       "      <td>18.130895</td>\n",
       "    </tr>\n",
       "    <tr>\n",
       "      <th>10288</th>\n",
       "      <td>shit</td>\n",
       "      <td>-2.849216</td>\n",
       "      <td>0.057890</td>\n",
       "    </tr>\n",
       "    <tr>\n",
       "      <th>1222</th>\n",
       "      <td>can</td>\n",
       "      <td>-2.833516</td>\n",
       "      <td>0.058806</td>\n",
       "    </tr>\n",
       "    <tr>\n",
       "      <th>751</th>\n",
       "      <td>bad</td>\n",
       "      <td>-2.792770</td>\n",
       "      <td>0.061251</td>\n",
       "    </tr>\n",
       "    <tr>\n",
       "      <th>9617</th>\n",
       "      <td>repetitive</td>\n",
       "      <td>-2.716151</td>\n",
       "      <td>0.066129</td>\n",
       "    </tr>\n",
       "    <tr>\n",
       "      <th>6</th>\n",
       "      <td>10 10</td>\n",
       "      <td>2.605227</td>\n",
       "      <td>13.534299</td>\n",
       "    </tr>\n",
       "    <tr>\n",
       "      <th>864</th>\n",
       "      <td>bean</td>\n",
       "      <td>2.595790</td>\n",
       "      <td>13.407168</td>\n",
       "    </tr>\n",
       "    <tr>\n",
       "      <th>12079</th>\n",
       "      <td>waste</td>\n",
       "      <td>-2.470206</td>\n",
       "      <td>0.084567</td>\n",
       "    </tr>\n",
       "    <tr>\n",
       "      <th>11635</th>\n",
       "      <td>trash</td>\n",
       "      <td>-2.439031</td>\n",
       "      <td>0.087245</td>\n",
       "    </tr>\n",
       "    <tr>\n",
       "      <th>6483</th>\n",
       "      <td>linux</td>\n",
       "      <td>-2.425725</td>\n",
       "      <td>0.088414</td>\n",
       "    </tr>\n",
       "    <tr>\n",
       "      <th>4600</th>\n",
       "      <td>garbage</td>\n",
       "      <td>-2.407535</td>\n",
       "      <td>0.090037</td>\n",
       "    </tr>\n",
       "    <tr>\n",
       "      <th>87</th>\n",
       "      <td>20</td>\n",
       "      <td>-2.397253</td>\n",
       "      <td>0.090967</td>\n",
       "    </tr>\n",
       "    <tr>\n",
       "      <th>3702</th>\n",
       "      <td>fun game</td>\n",
       "      <td>2.354053</td>\n",
       "      <td>10.528149</td>\n",
       "    </tr>\n",
       "    <tr>\n",
       "      <th>6182</th>\n",
       "      <td>laugh</td>\n",
       "      <td>2.336817</td>\n",
       "      <td>10.348247</td>\n",
       "    </tr>\n",
       "    <tr>\n",
       "      <th>2320</th>\n",
       "      <td>disconnect</td>\n",
       "      <td>-2.332936</td>\n",
       "      <td>0.097011</td>\n",
       "    </tr>\n",
       "  </tbody>\n",
       "</table>\n",
       "</div>"
      ],
      "text/plain": [
       "          Feature  Coefficient  Exponent of Coefficient\n",
       "3603          fun     6.367432               582.559751\n",
       "7813          not    -5.271360                 0.005137\n",
       "9540       refund    -4.508216                 0.011018\n",
       "5086        great     4.194430                66.315917\n",
       "4949         good     3.952469                52.063746\n",
       "7949    not worth    -3.838254                 0.021531\n",
       "1434      cheater    -3.643927                 0.026149\n",
       "7721           no    -3.420312                 0.032702\n",
       "5253       hacker    -3.331315                 0.035746\n",
       "919          best     3.306801                27.297662\n",
       "6722         love     3.265752                26.199817\n",
       "1047       boring    -3.229061                 0.039595\n",
       "9901         ruin    -3.023988                 0.048607\n",
       "11803  unplayable    -3.011866                 0.049200\n",
       "3435       friend     2.985171                19.789887\n",
       "506         amaze     2.897617                18.130895\n",
       "10288        shit    -2.849216                 0.057890\n",
       "1222          can    -2.833516                 0.058806\n",
       "751           bad    -2.792770                 0.061251\n",
       "9617   repetitive    -2.716151                 0.066129\n",
       "6           10 10     2.605227                13.534299\n",
       "864          bean     2.595790                13.407168\n",
       "12079       waste    -2.470206                 0.084567\n",
       "11635       trash    -2.439031                 0.087245\n",
       "6483        linux    -2.425725                 0.088414\n",
       "4600      garbage    -2.407535                 0.090037\n",
       "87             20    -2.397253                 0.090967\n",
       "3702     fun game     2.354053                10.528149\n",
       "6182        laugh     2.336817                10.348247\n",
       "2320   disconnect    -2.332936                 0.097011"
      ]
     },
     "execution_count": 68,
     "metadata": {},
     "output_type": "execute_result"
    }
   ],
   "source": [
    "# sort by the magnitude and display the top 30 values\n",
    "\n",
    "fallguys_lr_top30 = fallguys_feature_df.sort_values(by='Coefficient', key=abs, ascending=False).head(30)\n",
    "fallguys_lr_top30"
   ]
  },
  {
   "cell_type": "code",
   "execution_count": 69,
   "metadata": {
    "ExecuteTime": {
     "end_time": "2021-01-25T09:39:31.851970Z",
     "start_time": "2021-01-25T09:39:31.509031Z"
    }
   },
   "outputs": [
    {
     "data": {
      "image/png": "[encoded data removed]",
      "text/plain": [
       "<Figure size 1080x864 with 1 Axes>"
      ]
     },
     "metadata": {},
     "output_type": "display_data"
    }
   ],
   "source": [
    "# display in a bar plot\n",
    "\n",
    "fallguys_lr_top30.plot(x='Feature', y='Coefficient', kind='barh', figsize=(15, 12), width=0.5,\n",
    "                   color=(fallguys_lr_top30['Coefficient'] >= 0).map({True: 'darkolivegreen', False: 'darkred'}),\n",
    "                   legend=False)\n",
    "                                                             \n",
    "plt.title('Bar plot of LogisticRegression feature coefficients for fallguys', fontsize=20)\n",
    "plt.xlabel('Coefficient', fontsize=15)\n",
    "plt.gca().invert_yaxis();\n",
    "plt.grid(False)"
   ]
  },
  {
   "cell_type": "markdown",
   "metadata": {},
   "source": [
    "### Naive Bayes Classifier"
   ]
  },
  {
   "cell_type": "code",
   "execution_count": 100,
   "metadata": {
    "ExecuteTime": {
     "end_time": "2021-01-24T16:54:40.044647Z",
     "start_time": "2021-01-24T16:54:40.036670Z"
    }
   },
   "outputs": [],
   "source": [
    "# set up pipeline for MultinomialNB\n",
    "# MultinomialNB is used even though the inputs are not integer counts; works with tf-idf vectors\n",
    "\n",
    "pipe_fallguys_nb = Pipeline([\n",
    "    ('tvec', TfidfVectorizer(analyzer = \"word\",\n",
    "                             tokenizer = None,\n",
    "                             preprocessor = None,\n",
    "                             stop_words = None\n",
    "                             )),\n",
    "    ('nb', MultinomialNB())\n",
    "])"
   ]
  },
  {
   "cell_type": "code",
   "execution_count": 70,
   "metadata": {
    "ExecuteTime": {
     "end_time": "2021-01-25T09:48:43.563115Z",
     "start_time": "2021-01-25T09:48:43.558128Z"
    }
   },
   "outputs": [],
   "source": [
    "# set up parameter grid for our pipe_nb\n",
    "\n",
    "pipe_fallguys_nb_params = {\n",
    "                    'tvec__max_features': [20000], # [10000, 20000, 30000, 40000]\n",
    "                    'tvec__min_df': [5], # [5, 10]\n",
    "                    'tvec__max_df': [0.70], # [0.30, 0.50, 0.70]\n",
    "                    'tvec__ngram_range': [(1, 2)], # [(1, 1), (1, 2)]\n",
    "                    'nb__alpha': [0.5] # [0.1, 0.5, 1]\n",
    "}"
   ]
  },
  {
   "cell_type": "code",
   "execution_count": 102,
   "metadata": {
    "ExecuteTime": {
     "end_time": "2021-01-24T16:54:40.066588Z",
     "start_time": "2021-01-24T16:54:40.060605Z"
    }
   },
   "outputs": [],
   "source": [
    "# instantiate GridSearchCV\n",
    "\n",
    "gs_fallguys_nb = GridSearchCV(pipe_fallguys_nb,\n",
    "                          param_grid=pipe_fallguys_nb_params,\n",
    "                          scoring='roc_auc',\n",
    "                          cv=5,\n",
    "                          verbose=1,\n",
    "                          n_jobs=-1)"
   ]
  },
  {
   "cell_type": "code",
   "execution_count": 103,
   "metadata": {
    "ExecuteTime": {
     "end_time": "2021-01-24T17:02:36.392566Z",
     "start_time": "2021-01-24T16:54:40.075565Z"
    }
   },
   "outputs": [
    {
     "name": "stdout",
     "output_type": "stream",
     "text": [
      "Fitting 5 folds for each of 144 candidates, totalling 720 fits\n"
     ]
    },
    {
     "name": "stderr",
     "output_type": "stream",
     "text": [
      "[Parallel(n_jobs=-1)]: Using backend LokyBackend with 8 concurrent workers.\n",
      "[Parallel(n_jobs=-1)]: Done  34 tasks      | elapsed:   24.2s\n",
      "[Parallel(n_jobs=-1)]: Done 184 tasks      | elapsed:  2.0min\n",
      "[Parallel(n_jobs=-1)]: Done 434 tasks      | elapsed:  4.7min\n",
      "[Parallel(n_jobs=-1)]: Done 720 out of 720 | elapsed:  7.8min finished\n"
     ]
    },
    {
     "data": {
      "text/plain": [
       "GridSearchCV(cv=5,\n",
       "             estimator=Pipeline(steps=[('tvec', TfidfVectorizer()),\n",
       "                                       ('nb', MultinomialNB())]),\n",
       "             n_jobs=-1,\n",
       "             param_grid={'nb__alpha': [0.1, 0.5, 1],\n",
       "                         'tvec__max_df': [0.3, 0.5, 0.7],\n",
       "                         'tvec__max_features': [10000, 20000, 30000, 40000],\n",
       "                         'tvec__min_df': [5, 10],\n",
       "                         'tvec__ngram_range': [(1, 1), (1, 2)]},\n",
       "             scoring='roc_auc', verbose=1)"
      ]
     },
     "execution_count": 103,
     "metadata": {},
     "output_type": "execute_result"
    }
   ],
   "source": [
    "# search through the parameter grid using GridSearchCV\n",
    "\n",
    "gs_fallguys_nb.fit(X_fallguys_train, y_fallguys_train)"
   ]
  },
  {
   "cell_type": "code",
   "execution_count": 104,
   "metadata": {
    "ExecuteTime": {
     "end_time": "2021-01-24T17:02:36.405531Z",
     "start_time": "2021-01-24T17:02:36.396557Z"
    }
   },
   "outputs": [
    {
     "name": "stdout",
     "output_type": "stream",
     "text": [
      "--------\n",
      "Best mean cross-validated ROC-AUC score: 0.9367\n",
      "--------\n",
      "Best parameters:\n"
     ]
    },
    {
     "data": {
      "text/plain": [
       "{'nb__alpha': 0.5,\n",
       " 'tvec__max_df': 0.7,\n",
       " 'tvec__max_features': 20000,\n",
       " 'tvec__min_df': 5,\n",
       " 'tvec__ngram_range': (1, 2)}"
      ]
     },
     "metadata": {},
     "output_type": "display_data"
    }
   ],
   "source": [
    "# print out gridsearch info for Naive Bayes and save our MultinomialNB model\n",
    "\n",
    "fallguys_nb_model = gridsearch_model(gs_fallguys_nb)"
   ]
  },
  {
   "cell_type": "code",
   "execution_count": 105,
   "metadata": {
    "ExecuteTime": {
     "end_time": "2021-01-24T17:02:42.595645Z",
     "start_time": "2021-01-24T17:02:36.408523Z"
    }
   },
   "outputs": [
    {
     "data": {
      "text/plain": [
       "Pipeline(steps=[('tvec',\n",
       "                 TfidfVectorizer(max_df=0.7, max_features=20000, min_df=5,\n",
       "                                 ngram_range=(1, 2))),\n",
       "                ('nb', MultinomialNB(alpha=0.5))])"
      ]
     },
     "execution_count": 105,
     "metadata": {},
     "output_type": "execute_result"
    }
   ],
   "source": [
    "# fit MultinomialNB model\n",
    "\n",
    "fallguys_nb_model.fit(X_fallguys_train, y_fallguys_train)"
   ]
  },
  {
   "cell_type": "code",
   "execution_count": 106,
   "metadata": {
    "ExecuteTime": {
     "end_time": "2021-01-24T17:02:56.211589Z",
     "start_time": "2021-01-24T17:02:42.598637Z"
    }
   },
   "outputs": [
    {
     "name": "stdout",
     "output_type": "stream",
     "text": [
      "--------\n",
      "Results for Naive Bayes Classifier model:\n",
      "--------\n",
      "\n",
      "Accuracy score on train data ---: 0.9107\n",
      "Accuracy score on test data ----: 0.8676\n",
      "ROC-AUC score on train data ----: 0.9662\n",
      "ROC-AUC score on test data -----: 0.9333\n"
     ]
    },
    {
     "data": {
      "image/png": "[encoded data removed]",
      "text/plain": [
       "<Figure size 432x864 with 3 Axes>"
      ]
     },
     "metadata": {},
     "output_type": "display_data"
    }
   ],
   "source": [
    "# print results for MultinomialNB model and plot confusion matrix, ROC curve\n",
    "\n",
    "plot_matrix_rocauc_metrics(fallguys_nb_model, 'Naive Bayes Classifier', X_fallguys_train, X_fallguys_test, y_fallguys_train, y_fallguys_test)"
   ]
  },
  {
   "cell_type": "code",
   "execution_count": 107,
   "metadata": {
    "ExecuteTime": {
     "end_time": "2021-01-24T17:02:56.321295Z",
     "start_time": "2021-01-24T17:02:56.214582Z"
    }
   },
   "outputs": [],
   "source": [
    "# extract probabilities for positive class\n",
    "fallguys_nb_pos_class_prob_sorted = fallguys_nb_model.steps[1][1].feature_log_prob_[1, :].argsort()\n",
    "\n",
    "# extract probabilities for negative class\n",
    "fallguys_nb_neg_class_prob_sorted = fallguys_nb_model.steps[1][1].feature_log_prob_[0, :].argsort()\n",
    "\n",
    "# getting the features for each class\n",
    "fallguys_nb_pos_top_features = np.take(fallguys_nb_model.steps[0][1].get_feature_names(), fallguys_nb_pos_class_prob_sorted)\n",
    "fallguys_nb_neg_top_features = np.take(fallguys_nb_model.steps[0][1].get_feature_names(), fallguys_nb_neg_class_prob_sorted)"
   ]
  },
  {
   "cell_type": "code",
   "execution_count": 108,
   "metadata": {
    "ExecuteTime": {
     "end_time": "2021-01-24T17:02:56.365178Z",
     "start_time": "2021-01-24T17:02:56.324287Z"
    },
    "scrolled": false
   },
   "outputs": [
    {
     "data": {
      "text/html": [
       "<div>\n",
       "<style scoped>\n",
       "    .dataframe tbody tr th:only-of-type {\n",
       "        vertical-align: middle;\n",
       "    }\n",
       "\n",
       "    .dataframe tbody tr th {\n",
       "        vertical-align: top;\n",
       "    }\n",
       "\n",
       "    .dataframe thead th {\n",
       "        text-align: right;\n",
       "    }\n",
       "</style>\n",
       "<table border=\"1\" class=\"dataframe\">\n",
       "  <thead>\n",
       "    <tr style=\"text-align: right;\">\n",
       "      <th></th>\n",
       "      <th>Positive Class Features</th>\n",
       "      <th>NB Coefficient</th>\n",
       "    </tr>\n",
       "  </thead>\n",
       "  <tbody>\n",
       "    <tr>\n",
       "      <th>0</th>\n",
       "      <td>really</td>\n",
       "      <td>-5.893198</td>\n",
       "    </tr>\n",
       "    <tr>\n",
       "      <th>1</th>\n",
       "      <td>more</td>\n",
       "      <td>-5.861136</td>\n",
       "    </tr>\n",
       "    <tr>\n",
       "      <th>2</th>\n",
       "      <td>great</td>\n",
       "      <td>-5.816231</td>\n",
       "    </tr>\n",
       "    <tr>\n",
       "      <th>3</th>\n",
       "      <td>like</td>\n",
       "      <td>-5.813989</td>\n",
       "    </tr>\n",
       "    <tr>\n",
       "      <th>4</th>\n",
       "      <td>10</td>\n",
       "      <td>-5.799327</td>\n",
       "    </tr>\n",
       "    <tr>\n",
       "      <th>5</th>\n",
       "      <td>good</td>\n",
       "      <td>-5.761649</td>\n",
       "    </tr>\n",
       "    <tr>\n",
       "      <th>6</th>\n",
       "      <td>friend</td>\n",
       "      <td>-5.584533</td>\n",
       "    </tr>\n",
       "    <tr>\n",
       "      <th>7</th>\n",
       "      <td>get</td>\n",
       "      <td>-5.547404</td>\n",
       "    </tr>\n",
       "    <tr>\n",
       "      <th>8</th>\n",
       "      <td>play</td>\n",
       "      <td>-5.286571</td>\n",
       "    </tr>\n",
       "    <tr>\n",
       "      <th>9</th>\n",
       "      <td>fun</td>\n",
       "      <td>-4.986936</td>\n",
       "    </tr>\n",
       "  </tbody>\n",
       "</table>\n",
       "</div>"
      ],
      "text/plain": [
       "  Positive Class Features  NB Coefficient\n",
       "0                  really       -5.893198\n",
       "1                    more       -5.861136\n",
       "2                   great       -5.816231\n",
       "3                    like       -5.813989\n",
       "4                      10       -5.799327\n",
       "5                    good       -5.761649\n",
       "6                  friend       -5.584533\n",
       "7                     get       -5.547404\n",
       "8                    play       -5.286571\n",
       "9                     fun       -4.986936"
      ]
     },
     "execution_count": 108,
     "metadata": {},
     "output_type": "execute_result"
    }
   ],
   "source": [
    "# put together in a DataFrame for the positive class\n",
    "\n",
    "pd.DataFrame(data={'Positive Class Features': fallguys_nb_pos_top_features[-10:], 'NB Coefficient': sorted(fallguys_nb_model.steps[1][1].feature_log_prob_[1, :])[-10:]})"
   ]
  },
  {
   "cell_type": "code",
   "execution_count": 109,
   "metadata": {
    "ExecuteTime": {
     "end_time": "2021-01-24T17:02:56.408063Z",
     "start_time": "2021-01-24T17:02:56.368170Z"
    },
    "scrolled": true
   },
   "outputs": [
    {
     "data": {
      "text/html": [
       "<div>\n",
       "<style scoped>\n",
       "    .dataframe tbody tr th:only-of-type {\n",
       "        vertical-align: middle;\n",
       "    }\n",
       "\n",
       "    .dataframe tbody tr th {\n",
       "        vertical-align: top;\n",
       "    }\n",
       "\n",
       "    .dataframe thead th {\n",
       "        text-align: right;\n",
       "    }\n",
       "</style>\n",
       "<table border=\"1\" class=\"dataframe\">\n",
       "  <thead>\n",
       "    <tr style=\"text-align: right;\">\n",
       "      <th></th>\n",
       "      <th>Negative Class Features</th>\n",
       "      <th>NB Coefficient</th>\n",
       "    </tr>\n",
       "  </thead>\n",
       "  <tbody>\n",
       "    <tr>\n",
       "      <th>0</th>\n",
       "      <td>time</td>\n",
       "      <td>-6.040935</td>\n",
       "    </tr>\n",
       "    <tr>\n",
       "      <th>1</th>\n",
       "      <td>team</td>\n",
       "      <td>-6.035463</td>\n",
       "    </tr>\n",
       "    <tr>\n",
       "      <th>2</th>\n",
       "      <td>server</td>\n",
       "      <td>-5.938819</td>\n",
       "    </tr>\n",
       "    <tr>\n",
       "      <th>3</th>\n",
       "      <td>no</td>\n",
       "      <td>-5.917821</td>\n",
       "    </tr>\n",
       "    <tr>\n",
       "      <th>4</th>\n",
       "      <td>fun</td>\n",
       "      <td>-5.890173</td>\n",
       "    </tr>\n",
       "    <tr>\n",
       "      <th>5</th>\n",
       "      <td>cheater</td>\n",
       "      <td>-5.794965</td>\n",
       "    </tr>\n",
       "    <tr>\n",
       "      <th>6</th>\n",
       "      <td>hacker</td>\n",
       "      <td>-5.721302</td>\n",
       "    </tr>\n",
       "    <tr>\n",
       "      <th>7</th>\n",
       "      <td>play</td>\n",
       "      <td>-5.700561</td>\n",
       "    </tr>\n",
       "    <tr>\n",
       "      <th>8</th>\n",
       "      <td>get</td>\n",
       "      <td>-5.501603</td>\n",
       "    </tr>\n",
       "    <tr>\n",
       "      <th>9</th>\n",
       "      <td>not</td>\n",
       "      <td>-5.431005</td>\n",
       "    </tr>\n",
       "  </tbody>\n",
       "</table>\n",
       "</div>"
      ],
      "text/plain": [
       "  Negative Class Features  NB Coefficient\n",
       "0                    time       -6.040935\n",
       "1                    team       -6.035463\n",
       "2                  server       -5.938819\n",
       "3                      no       -5.917821\n",
       "4                     fun       -5.890173\n",
       "5                 cheater       -5.794965\n",
       "6                  hacker       -5.721302\n",
       "7                    play       -5.700561\n",
       "8                     get       -5.501603\n",
       "9                     not       -5.431005"
      ]
     },
     "execution_count": 109,
     "metadata": {},
     "output_type": "execute_result"
    }
   ],
   "source": [
    "# put together in a DataFrame for the negative class\n",
    "\n",
    "pd.DataFrame(data={'Negative Class Features': fallguys_nb_neg_top_features[-10:], 'NB Coefficient': sorted(fallguys_nb_model.steps[1][1].feature_log_prob_[0, :])[-10:]})"
   ]
  },
  {
   "cell_type": "markdown",
   "metadata": {},
   "source": [
    "### Support Vector Classifier"
   ]
  },
  {
   "cell_type": "code",
   "execution_count": 97,
   "metadata": {
    "ExecuteTime": {
     "end_time": "2021-01-25T06:18:03.436271Z",
     "start_time": "2021-01-25T06:18:03.432282Z"
    }
   },
   "outputs": [],
   "source": [
    "# set up pipeline for SVC\n",
    "\n",
    "pipe_fallguys_svc = Pipeline([\n",
    "    ('tvec', TfidfVectorizer(analyzer = \"word\",\n",
    "                             tokenizer = None,\n",
    "                             preprocessor = None,\n",
    "                             stop_words = None\n",
    "                             )),\n",
    "    ('svc', SGDClassifier(loss='hinge', penalty='l2'))\n",
    "])"
   ]
  },
  {
   "cell_type": "code",
   "execution_count": 72,
   "metadata": {
    "ExecuteTime": {
     "end_time": "2021-01-25T10:11:58.688936Z",
     "start_time": "2021-01-25T10:11:58.685394Z"
    }
   },
   "outputs": [],
   "source": [
    "# set up parameter grid for our pipe_svc\n",
    "\n",
    "pipe_fallguys_svc_params = {\n",
    "                    'tvec__max_features': [20000], # [10000, 20000]\n",
    "                    'tvec__min_df': [10], # [5, 10]\n",
    "                    'tvec__max_df': [0.70], # [0.30, 0.50, 0.70]\n",
    "                    'tvec__ngram_range': [(1, 2)], # [(1, 1), (1, 2)]\n",
    "                    'svc__alpha': [0.0001]\n",
    "}"
   ]
  },
  {
   "cell_type": "code",
   "execution_count": 99,
   "metadata": {
    "ExecuteTime": {
     "end_time": "2021-01-25T06:18:03.447242Z",
     "start_time": "2021-01-25T06:18:03.443252Z"
    }
   },
   "outputs": [],
   "source": [
    "# instantiate GridSearchCV\n",
    "\n",
    "gs_fallguys_svc = GridSearchCV(pipe_fallguys_svc,\n",
    "                          param_grid=pipe_fallguys_svc_params,\n",
    "                          scoring='accuracy',\n",
    "                          cv=5,\n",
    "                          verbose=1,\n",
    "                          n_jobs=-1)"
   ]
  },
  {
   "cell_type": "code",
   "execution_count": 100,
   "metadata": {
    "ExecuteTime": {
     "end_time": "2021-01-25T06:19:05.430898Z",
     "start_time": "2021-01-25T06:18:03.449237Z"
    }
   },
   "outputs": [
    {
     "name": "stdout",
     "output_type": "stream",
     "text": [
      "Fitting 5 folds for each of 24 candidates, totalling 120 fits\n"
     ]
    },
    {
     "name": "stderr",
     "output_type": "stream",
     "text": [
      "[Parallel(n_jobs=-1)]: Using backend LokyBackend with 8 concurrent workers.\n",
      "[Parallel(n_jobs=-1)]: Done  34 tasks      | elapsed:   16.8s\n",
      "[Parallel(n_jobs=-1)]: Done 120 out of 120 | elapsed:   59.4s finished\n"
     ]
    },
    {
     "data": {
      "text/plain": [
       "GridSearchCV(cv=5,\n",
       "             estimator=Pipeline(steps=[('tvec', TfidfVectorizer()),\n",
       "                                       ('svc', SGDClassifier())]),\n",
       "             n_jobs=-1,\n",
       "             param_grid={'svc__alpha': [0.0001],\n",
       "                         'tvec__max_df': [0.3, 0.5, 0.7],\n",
       "                         'tvec__max_features': [10000, 20000],\n",
       "                         'tvec__min_df': [5, 10],\n",
       "                         'tvec__ngram_range': [(1, 1), (1, 2)]},\n",
       "             scoring='accuracy', verbose=1)"
      ]
     },
     "execution_count": 100,
     "metadata": {},
     "output_type": "execute_result"
    }
   ],
   "source": [
    "# search through the parameter grid using GridSearchCV\n",
    "\n",
    "gs_fallguys_svc.fit(X_fallguys_train, y_fallguys_train)"
   ]
  },
  {
   "cell_type": "code",
   "execution_count": 101,
   "metadata": {
    "ExecuteTime": {
     "end_time": "2021-01-25T06:19:05.437394Z",
     "start_time": "2021-01-25T06:19:05.431893Z"
    }
   },
   "outputs": [
    {
     "name": "stdout",
     "output_type": "stream",
     "text": [
      "--------\n",
      "Best mean cross-validated ROC-AUC score: 0.8824\n",
      "--------\n",
      "Best parameters:\n"
     ]
    },
    {
     "data": {
      "text/plain": [
       "{'svc__alpha': 0.0001,\n",
       " 'tvec__max_df': 0.7,\n",
       " 'tvec__max_features': 20000,\n",
       " 'tvec__min_df': 10,\n",
       " 'tvec__ngram_range': (1, 2)}"
      ]
     },
     "metadata": {},
     "output_type": "display_data"
    }
   ],
   "source": [
    "# print out gridsearch info for Support Vector Classifier and save our SVC model\n",
    "\n",
    "fallguys_svc_model = gridsearch_model(gs_fallguys_svc)"
   ]
  },
  {
   "cell_type": "code",
   "execution_count": 102,
   "metadata": {
    "ExecuteTime": {
     "end_time": "2021-01-25T06:19:07.912711Z",
     "start_time": "2021-01-25T06:19:05.438419Z"
    }
   },
   "outputs": [
    {
     "data": {
      "text/plain": [
       "Pipeline(steps=[('tvec',\n",
       "                 TfidfVectorizer(max_df=0.7, max_features=20000, min_df=10,\n",
       "                                 ngram_range=(1, 2))),\n",
       "                ('svc', SGDClassifier())])"
      ]
     },
     "execution_count": 102,
     "metadata": {},
     "output_type": "execute_result"
    }
   ],
   "source": [
    "# fit SVC model\n",
    "\n",
    "fallguys_svc_model.fit(X_fallguys_train, y_fallguys_train)"
   ]
  },
  {
   "cell_type": "code",
   "execution_count": 103,
   "metadata": {
    "ExecuteTime": {
     "end_time": "2021-01-25T06:19:10.247531Z",
     "start_time": "2021-01-25T06:19:07.913709Z"
    }
   },
   "outputs": [
    {
     "name": "stdout",
     "output_type": "stream",
     "text": [
      "--------\n",
      "Results for Support Vector Classifier model:\n",
      "--------\n",
      "\n",
      "Accuracy score on train data ---: 0.9242\n",
      "Accuracy score on test data ----: 0.8816\n"
     ]
    },
    {
     "data": {
      "image/png": "[encoded data removed]",
      "text/plain": [
       "<Figure size 432x288 with 2 Axes>"
      ]
     },
     "metadata": {},
     "output_type": "display_data"
    }
   ],
   "source": [
    "# print results for SVC model and plot confusion matrix, ROC curve\n",
    "\n",
    "plot_matrix_rocauc_metrics(fallguys_svc_model, 'Support Vector Classifier', X_fallguys_train, X_fallguys_test, y_fallguys_train, y_fallguys_test)"
   ]
  },
  {
   "cell_type": "markdown",
   "metadata": {},
   "source": [
    "### LSTM"
   ]
  },
  {
   "cell_type": "code",
   "execution_count": null,
   "metadata": {},
   "outputs": [],
   "source": [
    "X_fallguys_lstm = lstm_tokenizer(X_fallguys, 200, 20000)"
   ]
  },
  {
   "cell_type": "code",
   "execution_count": null,
   "metadata": {},
   "outputs": [],
   "source": [
    "y_fallguys_lstm = pd.get_dummies(y_fallguys).values[:, 1]"
   ]
  },
  {
   "cell_type": "code",
   "execution_count": null,
   "metadata": {},
   "outputs": [],
   "source": [
    "# create training and testing sets for lstm\n",
    "\n",
    "X_fallguys_train_lstm, y_fallguys_train_lstm, X_fallguys_test_lstm, y_fallguys_test_lstm = lstm_train_test_split(X_fallguys_lstm, \n",
    "                                                                                                                 y_fallguys_lstm, \n",
    "                                                                                                                 y_fallguys, \n",
    "                                                                                                                 0.25)"
   ]
  },
  {
   "cell_type": "code",
   "execution_count": null,
   "metadata": {},
   "outputs": [],
   "source": [
    "# create lstm model\n",
    "\n",
    "fallguys_lstm_model = create_lstm_model(X_fallguys_lstm, 20000, 200)"
   ]
  },
  {
   "cell_type": "code",
   "execution_count": null,
   "metadata": {},
   "outputs": [],
   "source": [
    "fallguys_class_weights = generate_class_weights(y_fallguys)"
   ]
  },
  {
   "cell_type": "code",
   "execution_count": null,
   "metadata": {},
   "outputs": [],
   "source": [
    "fallguys_history, fallguys_loss, fallguys_acc = lstm_model_fit_evaluate(fallguys_lstm_model,\n",
    "                                                                        X_fallguys_train_lstm, \n",
    "                                                                        y_fallguys_train_lstm, \n",
    "                                                                        X_fallguys_test_lstm, \n",
    "                                                                        y_fallguys_test_lstm,\n",
    "                                                                        class_weights = fallguys_class_weights,\n",
    "                                                                        epochs=5,\n",
    "                                                                        batch_size=50)"
   ]
  },
  {
   "cell_type": "code",
   "execution_count": null,
   "metadata": {},
   "outputs": [],
   "source": [
    "lstm_metrics_plot(fallguys_lstm_model, fallguys_history, X_fallguys_test_lstm, y_fallguys_test_lstm)"
   ]
  },
  {
   "cell_type": "code",
   "execution_count": null,
   "metadata": {},
   "outputs": [],
   "source": [
    "# create final lstm model\n",
    "\n",
    "fallguys_lstm_model_final = create_lstm_model(X_fallguys_lstm, 20000, 200)"
   ]
  },
  {
   "cell_type": "code",
   "execution_count": null,
   "metadata": {},
   "outputs": [],
   "source": [
    "fallguys_history, fallguys_loss, fallguys_acc = lstm_model_fit_evaluate(fallguys_lstm_model_final,\n",
    "                                                                        X_fallguys_train_lstm, \n",
    "                                                                        y_fallguys_train_lstm, \n",
    "                                                                        X_fallguys_test_lstm, \n",
    "                                                                        y_fallguys_test_lstm,\n",
    "                                                                        class_weights = fallguys_class_weights,\n",
    "                                                                        epochs=2,\n",
    "                                                                        batch_size=50)"
   ]
  },
  {
   "cell_type": "code",
   "execution_count": null,
   "metadata": {},
   "outputs": [],
   "source": [
    "lstm_metrics_plot(fallguys_lstm_model_final, fallguys_history, X_fallguys_test_lstm, y_fallguys_test_lstm)"
   ]
  },
  {
   "cell_type": "markdown",
   "metadata": {},
   "source": [
    "**Training Epochs**\n",
    "\n",
    "![Results for Fall Guys - LSTM](./results/lstm_fallguys_epochs.png)\n",
    "\n",
    "**Final ROC-AUC and Accuracy Scores**\n",
    "\n",
    "![Results for Fall Guys - LSTM](./results/lstm_fallguys.png)"
   ]
  },
  {
   "cell_type": "markdown",
   "metadata": {},
   "source": [
    "# Model Evaluation"
   ]
  },
  {
   "cell_type": "markdown",
   "metadata": {},
   "source": [
    "The table below shows the overall results of the modelling using the various algorithms."
   ]
  },
  {
   "cell_type": "markdown",
   "metadata": {},
   "source": [
    "## Overall Results"
   ]
  },
  {
   "cell_type": "markdown",
   "metadata": {},
   "source": [
    "![Results for ML-based Sentiment Analysis](./results/ml_sentiment_analysis.png)"
   ]
  },
  {
   "cell_type": "markdown",
   "metadata": {},
   "source": [
    "SVC obtained the best accuracy amongst all the different classifiers. LSTM surprisingly did not perform as well as expected - possibly more care needs to be taken in preprocessing the data to remove more of the extraneous noise, increasing our sample size, or to experiment further with the tweaking of different parameters for the LSTM layers. \n",
    "\n",
    "Our aim is not just *predicting* the overall sentiments of the reviews, but more importantly, to *infer* which are the terms that allow us to discern whether the review is considered a positive/negative one. \n",
    "\n",
    "As such, we will focus our attention on the more easily interpretable models. We can see similar trends in all of the 3 games:\n",
    "\n",
    "- **PUBG**: Logistic Regression outperformed the other 2 models, achieving a test ROC-AUC score of **0.9267**.\n",
    "    - Support Vector Classifier performed best in terms of test accuracy\n",
    "    - Naive Bayes Classifier also performed admirably as it is well suited to text-classification\n",
    "    \n",
    "    \n",
    "- **Cyberpunk**: Logistic Regression outperformed the other 2 models, achieving a test ROC-AUC score of **0.9578**.\n",
    "    - Support Vector Classifier performed best in terms of test accuracy\n",
    "    - Naive Bayes Classifier also performed admirably as it is well suited to text-classification\n",
    "    \n",
    "\n",
    "- **Fall Guys**: Logistic Regression outperformed the other 2 models, achieving a test ROC-AUC score of **0.9364**.\n",
    "    - Support Vector Classifier performed best in terms of test accuracy\n",
    "    - Naive Bayes Classifier also performed admirably as it is well suited to text-classification\n",
    "     \n",
    "     \n",
    "\\**SVC's ROC-AUC score was not calculated as it is technically non-probabilistic; a hyperplane is used to separate the data points into the different classes.*\n",
    "\n",
    "The **Logistic Regression** models all had high ROC-AUC scores of > 0.90 and performed admirably well in separating the negative class and positive class distributions, and was hence also able to predict negative and positive game reviews with a high degree of accuracy. All the accuracy scores are well above the baseline scores."
   ]
  },
  {
   "cell_type": "markdown",
   "metadata": {
    "ExecuteTime": {
     "end_time": "2021-01-25T10:22:30.562010Z",
     "start_time": "2021-01-25T10:22:30.555987Z"
    }
   },
   "source": [
    "## Interpretation of Top Features\n",
    "\n",
    "**PUBG**\n",
    "\n",
    "- Positively correlated features\n",
    "    - best\n",
    "    - great\n",
    "    - good\n",
    "    - fun\n",
    "    - love\n",
    "    - amaze\n",
    "    - awesome\n",
    "    - friend\n",
    "    - good game\n",
    "    - addict\n",
    "    - overall\n",
    "    - complain\n",
    "    \n",
    "Positive reviews include the mention of 'friend' and 'addict' as some of the top terms - highlighting that it is an extremely enjoyable multiplayer game to play together with friends. Notably, we see the term 'overall' - indicating that many players also described their frustrations and gripes with the game, but still felt that on the whole it was a game worth recommending.\n",
    "\n",
    "> Overall it is an enjoyable game. It fell off hard when fortnite and all of the other battle royales came around, but it still has the original sparkle that it once had. There are a lot of hardcore fans of this game that play religiously and they can be very frustrating to play against, however, the combat is fun and engaging. 7/10.\n",
    "        \n",
    "> It's generally a great game, has consistent updates and a pretty good season pass. It's fun to play with friends for the most part and has nice visual graphics if your PC can handle it. The only real complaint is the amount of cheaters and the lack of support by the developers to avoid them from popping up. Please come up with a better anti-cheat system and ban cheater steam accounts, not just their profiles.\n",
    "        \n",
    "- Negatively correlated features\n",
    "    - money\n",
    "    - bad\n",
    "    - not\n",
    "    - cheater\n",
    "    - not worth\n",
    "    - garbage\n",
    "    - hacker\n",
    "    - unplayable\n",
    "    - waste\n",
    "    - shit\n",
    "    - trash\n",
    "    - no\n",
    "    - terrible\n",
    "    - crash\n",
    "    - refund\n",
    "\n",
    "Unhappy players were highly vocal with their disgruntlement, highlighting their frustration with hackers and cheaters ruining the game experience, as well as gameplay issues that rendered the game unplayable or to crash. Several players complained that they were no longer able to obtain Steam refunds (this is only possible if you have not yet clocked 2 hours or more of gameplay). 'Money', interestingly became the top negatively correlated feature, which is quite telling ('refund my money', 'waste of money', 'money grubbing' (referring to microtransactions)).\n",
    "\n",
    "Notably, PUBG was one of the most popular games on Steam that received a highly mixed aggregate score (almost a 50/50 split).\n",
    "\n",
    "> The cheating is getting considerably worse all the time. It seems like the devs ban a bunch of cheaters at the beginning of a season to keep players interested but that quickly dies down and the cheating becomes even more rampant. This game can be fun but the anti cheating measures are not reliable or stringent enough and it really ruins the experience. The game would be redeemed if as much effort was put into these issues as making money off cosmetic items. Perhaps the devs could focus on making profits by fixing the game instead of making money off their obsession with stupid skins.\n",
    "\n",
    "> After a 2 year break from the game, with occasionally booting the game for a few matches with friends, the game doesn't start for me. It's official. The game is dead and broken. Tried 3 forums, with multiple threads on how to fix the launching problem but no fix. A refund would be appreciated but a person can dream right?\n",
    "Thanks \"Blueballs\"..."
   ]
  },
  {
   "cell_type": "markdown",
   "metadata": {},
   "source": [
    "**Cyberpunk**\n",
    "\n",
    "- Positively correlated features\n",
    "    - amaze\n",
    "    - great\n",
    "    - love\n",
    "    - far\n",
    "    - fun\n",
    "    - good\n",
    "    - awesome\n",
    "    - minor\n",
    "    - yes\n",
    "    - 10 \n",
    "    - fantastic\n",
    "    - enjoy\n",
    "    - bit\n",
    "    - perfect\n",
    "    - definitely\n",
    "    \n",
    "Cyberpunk 2077 had been hyped by its creators for almost a decade to be a free-flowing, revolutionary experience that would immerse players in a sci-fi universe. Some players praised the complexity of the gameplay and the overall atmosphere of the game, which led to an amazing experience that lived up to their expectations. Many still acknowledged that there were minor bugs and issues present, but these were not serious enough to mar the overall enjoyment of the game. There was a large outpouring of support for the game developers, who had toiled continuously to deliver the game by its release date.\n",
    "\n",
    "> Very atmospheric, great game play, voice acting, graphics, story, environments, npcs, and very complex RPG systems. Crafting, hacking, upgrading...lots of things to do. Very high quality. \n",
    ">\n",
    "> Some things I don't like are that there's only one female and one male voice to choose from. I wanted to be a dude but his accent was annoying me so I went with female and that's a bit more neutral. Would also like to be able to visit a barber shop and change my hair, as well as have an animation where I eat. But aside from that, amazing game. \n",
    ">\n",
    "> Obviously there are some bugs but those will get resolved and I wouldn't judge a game by temporary stuff like that.\n",
    "        \n",
    "> Simply an amazing game. \n",
    ">\n",
    "> Bugs are minor on pc in my experience and I bet CDPR will fix them as soon as posible. \n",
    ">\n",
    "> We need the option to \"walk\" in the game (pc version) and it would be nice if the missions could be sortet in the journal menu, for example according to distance from players current position. \n",
    ">\n",
    "> There are som options in the skill three that aren't that balanced like the posibility to make some weapons OP because of crit multiplier and such, but you don't have to choose them so really not a problem for balance. \n",
    ">\n",
    "> The crafting skill that breaks down \"junk\" automaticly, unfortunatly also breaks down valuable \"junk\". I wish CDPR would make a \"valuables\" tab aswell as the junk tab - on for getting crafting materials and on for quickly selling valuable items.\n",
    ">\n",
    "> Again - I love this game!!!!\n",
    "        \n",
    "- Negatively correlated features\n",
    "    - refund \n",
    "    - boring\n",
    "    - ai\n",
    "    - not worth\n",
    "    - unplayable\n",
    "    - mess\n",
    "    - even\n",
    "    - crash\n",
    "    - state\n",
    "    - terrible\n",
    "    - can\n",
    "    - not recommend\n",
    "    - unfinished\n",
    "    - bad\n",
    "    - can recommend\n",
    "    \n",
    "Unfortunately, due to the multitude of game-breaking issues and bugs on the last-gen console versions of the game (PlayStation 4 and Xbox One), Cyberpunk also made history by being one of the few games to be pulled from the PlayStation store after release by Sony. There were several angry gamers who also demanded refunds (this is the top negatively correlated feature) due to the game being unplayable due to bugs. Even when playable, the large number of glitches (e.g. character models spasming, tanks falling from the sky, barely functional AI behaviour) also adversely impacted the gameplay experience and made it feel like a highly unpolished, unfinished game.\n",
    "\n",
    "> Terrible game full of glitches, horrible AI, and bland boring side missions. The fact that they advertised this as an RPG is insane as its nothing more than a rebranding of GTA but with none of the polish. CDPR should be in trouble for false advertising as well as delivering a completely unplayable game to ps4/xbox one users. Don't waste your money on this piece of shit.\n",
    "\n",
    "> Sadly just EXTREMELY unfinished and mostly unplayable in its current state. No fun in challenge due to high peak in difficulty when playing in Hard; alongside the constant interruption of Buggy gameplay, audio, graphical issue and just straight up DUMB AI continue to bring me out of the game and am unwilling to sit through constant Save-Loading. Purchase at your own risk, I would recommend waiting for MANY future updates.\n",
    "\n",
    "> The amount of bugs in this game is ridiculous. Sure, visually it looks really good in general, but the amount of graphical glitches completely takes away from that. I should have been told that I was buying a beta version of the game for \\$60 before I bought it. Now I can't get a refund from Steam and playing this game is just frustrating. 2 hours wasn't long enough for me to make the decision that this game doesn't earn my money, but 16 hours in and now I have to force myself to play it. And no, I'm not going to wait for the patches to come out since I spent money on the game today with the understanding that I was buying a finished and complete product. Don't buy this game. They haven't earned your money."
   ]
  },
  {
   "cell_type": "markdown",
   "metadata": {},
   "source": [
    "**Fall Guys**\n",
    "\n",
    "- Positively correlated features\n",
    "    - fun\n",
    "    - great\n",
    "    - good\n",
    "    - best\n",
    "    - love\n",
    "    - friend\n",
    "    - amaze\n",
    "    - 10 10\n",
    "    - bean\n",
    "    - fun game\n",
    "    - laugh\n",
    "    - though\n",
    "    - funny\n",
    "    - addict\n",
    "    - good game\n",
    "\n",
    "Being a relatively casual multiplayer party game (with a battle royale twist to it), Fall Guys received a warm reception from players who were looking to destress with friends (particularly during this challenging COVID-19 period). The gameplay is simple and easy to pick up, as espoused by gamers who quickly became addicted to it. The bright, pastel backgrounds and player characters which come in the form of cutely shaped 'beans' further add to the game's appeal. It is noted that a lot of positive reviews come with caveats about some downsides of the game (e.g. frustrating team-based mechanics, repetitiveness).\n",
    "\n",
    "> This game is so ridiculously fun. It's mechanics though can be a little frustrating, it's still got some really good music, and it's incredibly addictive. I'm hoping in Season 3 we get new end maps and I'm excited for the other things coming <3\n",
    "\n",
    "> Fall Guys is a physics-based battle-royale where you and up to 59 other jellybeans with limbs compete in various mini-games of different genres for crowns. And it is amazing. There's something about the stupidly hilarious frustration of watching your character tumble, stumble, trip, grab and leap their way over to a goal that few other games do.\n",
    ">\n",
    ">Not to mention, the way cosmetics are handles in this game makes me swoon. Fall Guys has a season pass that has always been (and it seems like it will always be) free. And while the Kudos you earn by playing games can be bought via micro-transactions, it is not at all necessary. Just playing a lot of games gets you the same amount. But the best part about it, and what keeps this game surprisingly competitive, is that crowns can be used to purchase top-tier cosmetic items. There's no way to buy them with cash; you just need to be determined enough to grind out enough crowns if you've been eyeing that crossover outfit.\n",
    ">\n",
    ">Fall Guys isn't without its flaws, though. For one, mini-games that split your lobby into teams are annoying as a concept, and still annoying in practice. Often times you feel like you're being held back by your team rather than your ability as a player. Even though Fall Guys isn't exactly an e-Sport, it always sucks to lose when it doesn't feel like your fault. This could be easily fixed if they made a separate show for team-based games and kept the main show for mini-games that anyone who queues alone can complete. I could also even see them allowing players to invite more than 3 people to queue for team-based mini-games; having a lobby of up to 16 players or something would be amazing for games like those. I suppose there is an issue once you have to split that team up via process of elimination, but I'm sure the developers can figure that out. I just would like to play a game on my own without having to deal with the team-based mini-games.\n",
    ">\n",
    ">Also, I won't sugarcoat it: The mini-games can get quite repetitive after long play sessions, or just over time. The developer team behind Fall Guys tried to solve this by adding random elements to the games, and while the effort is appreciated, it doesn't feel like enough at times. There either needs to be more randomness to courses, or just more courses in general to go through. However, I feel like as seasons come and go, courses will come in droves to keep us entertained.\n",
    ">\n",
    ">TL;DR: Fall Guys is one of the silliest, if not THE silliest, battle royale games out there. It's well worth your money.\n",
    "\n",
    "\n",
    "\n",
    "- Negatively correlated features\n",
    "    - not\n",
    "    - refund\n",
    "    - not worth\n",
    "    - cheater\n",
    "    - no \n",
    "    - hacker\n",
    "    - boring\n",
    "    - ruin\n",
    "    - unplayable\n",
    "    - shit\n",
    "    - can\n",
    "    - bad\n",
    "    - repetitive\n",
    "    - waste\n",
    "    - trash\n",
    "    \n",
    "Upon release, Fall Guys was also the target of several hackers. They employed cheats allowing them to fly around the map and perform gravity-defying stunts, entirely bypassing obstacles in the map. It was hence easy for them to 'grief' other players and ruin their experience in this way, as there could only be one eventual winner for each game. \n",
    "\n",
    "Another common complain was that there was a fixed pool of minigames that was selected from for each round. After playing about 10 games or so, one would start seeing the same minigame over and over again, leading to several complaints of it being 'repetitive' and 'boring'.\n",
    "\n",
    "> awful game, lost its traction and fun as they forgot real people exist and decided to leave hackers in for an entire 2 months.\n",
    "\n",
    "> It is so repetitive it had so much hype then it came out and it sucked. I can't believe i spent $20 on this. it will bug out sometimes and is over run with hackers. no daily updates or mode changes.\n",
    "\n",
    "> Enjoyed it at first.\n",
    "Lost twice on Fall Mountain because either the grab doesnt work or your Fall Guy will climb on top, Lost Hex-a-Gon multiple times to hackers flying.\n",
    ">\n",
    ">It's fun for as long as the gimmick lasts. Once you've seen it all you've seen it all, and all that has changed since the last season is cosmetics, so it seems like it will remain the same game forever."
   ]
  },
  {
   "cell_type": "markdown",
   "metadata": {},
   "source": [
    "## Misclassification Analysis"
   ]
  },
  {
   "cell_type": "code",
   "execution_count": 103,
   "metadata": {
    "ExecuteTime": {
     "end_time": "2021-01-25T12:24:57.947833Z",
     "start_time": "2021-01-25T12:24:57.942847Z"
    }
   },
   "outputs": [],
   "source": [
    "# define function to generate dataframe with misclassified reviews\n",
    "\n",
    "def misclass_predict(model, X_test, y_test, original_df):\n",
    "    \n",
    "    # obtain predictions from our LogisticRegression model\n",
    "    model_pred = model.predict(X_test)\n",
    "    \n",
    "    # create dataframe with actual labels and predicted labels\n",
    "    model_misclass_df = pd.DataFrame(data={'Actual': y_test, 'Predicted': model_pred})\n",
    "    \n",
    "    # filter the misclassified observations\n",
    "    model_misclass_df = model_misclass_df[model_misclass_df['Actual'] != model_misclass_df['Predicted']]\n",
    "    \n",
    "    # combine the review with the actual label and predicted label, and display the first 5 rows\n",
    "    model_misclass_df = pd.concat([pd.DataFrame(original_df[['review', 'lemmed_text']].loc[model_misclass_df.index]),\n",
    "                                  model_misclass_df],\n",
    "                                  axis=1)\n",
    "    \n",
    "    return model_misclass_df"
   ]
  },
  {
   "cell_type": "code",
   "execution_count": 108,
   "metadata": {
    "ExecuteTime": {
     "end_time": "2021-01-25T12:27:18.430860Z",
     "start_time": "2021-01-25T12:27:18.426741Z"
    }
   },
   "outputs": [],
   "source": [
    "# set maximum rows and colwidth to be displayed in dataframes\n",
    "\n",
    "pd.options.display.max_rows = 150\n",
    "pd.set_option('max_colwidth', 500)"
   ]
  },
  {
   "cell_type": "markdown",
   "metadata": {},
   "source": [
    "### PUBG"
   ]
  },
  {
   "cell_type": "code",
   "execution_count": 109,
   "metadata": {
    "ExecuteTime": {
     "end_time": "2021-01-25T12:27:22.628753Z",
     "start_time": "2021-01-25T12:27:20.466964Z"
    }
   },
   "outputs": [
    {
     "data": {
      "text/html": [
       "<div>\n",
       "<style scoped>\n",
       "    .dataframe tbody tr th:only-of-type {\n",
       "        vertical-align: middle;\n",
       "    }\n",
       "\n",
       "    .dataframe tbody tr th {\n",
       "        vertical-align: top;\n",
       "    }\n",
       "\n",
       "    .dataframe thead th {\n",
       "        text-align: right;\n",
       "    }\n",
       "</style>\n",
       "<table border=\"1\" class=\"dataframe\">\n",
       "  <thead>\n",
       "    <tr style=\"text-align: right;\">\n",
       "      <th></th>\n",
       "      <th>review</th>\n",
       "      <th>lemmed_text</th>\n",
       "      <th>Actual</th>\n",
       "      <th>Predicted</th>\n",
       "    </tr>\n",
       "  </thead>\n",
       "  <tbody>\n",
       "    <tr>\n",
       "      <th>42227</th>\n",
       "      <td>It is a great game, the best BR game in my opinion, but it is far from perfect. Sadly the main priority of the game is to milk the current player base as much as possible for as long as they can. I don't really see this game developing or the player base growing from this point onward. \\n\\nAll they do now is to add new cosmetic crap. Even if you care about this stuff, all these items are paid and you have absolutely 0 access to them unless you pay. Even if you bought the last \"DLC\" which doe...</td>\n",
       "      <td>great game best br game opinion far perfect sadly main priority game milk current player base much possible long don't really see game develop player base grow point onward add new cosmetic crap even care stuff item paid absolutely 0 access unless pay even bought last dlc not deserve call dlc stupid repetitive boring mission still couldn't get cool stuff unless pay even more money</td>\n",
       "      <td>1</td>\n",
       "      <td>0</td>\n",
       "    </tr>\n",
       "    <tr>\n",
       "      <th>86950</th>\n",
       "      <td>Main menu stops loading after about 10 hours of play. nothing really to work towards in terms of goals. Alot of ingame bugs that breaks the game. (Getting shot through walls, blowing up in your vehicle when driving on a flat road.)</td>\n",
       "      <td>main menu stop load 10 hour play nothing really work towards term goal alot ingame bug break game get shot wall blowing vehicle drive flat road</td>\n",
       "      <td>0</td>\n",
       "      <td>1</td>\n",
       "    </tr>\n",
       "    <tr>\n",
       "      <th>27653</th>\n",
       "      <td>I played this game since closed beta. i loved it. i, and many others had high hopes for it to become the best battle royale experience ever. it had the potential. BUT that is not the case. It went downhill pretty fast and the devs are just like many others: Not listenting to the community and just cash grabbing.\\nIt WAS a phenomenal experience!\\nRest in Pepperonis my dear loved friend.</td>\n",
       "      <td>played game since close beta love many others high hope become best battle royale experience ever potential not case go downhill pretty fast devs like many others not listenting community cash grab phenomenal experience rest pepperoni dear love friend</td>\n",
       "      <td>0</td>\n",
       "      <td>1</td>\n",
       "    </tr>\n",
       "    <tr>\n",
       "      <th>93594</th>\n",
       "      <td>TBH I wanted to play this game. But it kept crashing when i loaded ingame for a couple minutes and IDK whats the deal or whats causing it. I heard the game is good and fun. But Im just too pissed off to tell if its the developments fault or its somehow me. Rip.</td>\n",
       "      <td>tbh want play game kept crash load ingame couple minute idk whats deal whats cause heard game good fun im piss tell development fault somehow rip</td>\n",
       "      <td>0</td>\n",
       "      <td>1</td>\n",
       "    </tr>\n",
       "    <tr>\n",
       "      <th>34822</th>\n",
       "      <td>Game is fun to play but, still nothing like a special thing to support with all these bugs in the game. \\nStill I will start with Pros.\\nPros:\\n- Overall Battle Royale is fun and concept is good.\\n- Weapons are good to use\\n- Fun to play with friends\\n\\nCons:\\n-Still poorly optimzed. Even with high fps the game stutters a lot.\\n- Server lags and people in specific regions has advantages.\\n- The game physics sucks. Vehicles just bounces off randomly. Sometimes get killed because of this too.\\...</td>\n",
       "      <td>game fun play still nothing like special thing support bug game still start pro pro overall battle royale fun concept good weapon good use fun play friend con still poorly optimzed even high fps game stutter lot server lag people specific region advantage game physic suck vehicle bounce randomly sometimes get kill lot hacker game randomly approach shoot even aim find deathcams yeah play much hour find game total waste don't recommend</td>\n",
       "      <td>0</td>\n",
       "      <td>1</td>\n",
       "    </tr>\n",
       "    <tr>\n",
       "      <th>52460</th>\n",
       "      <td>It's not perfect, but it's solid. \\n\\nThe gunplay is some of the best. \\n\\nLoot distribution needs a bit of work on all maps.\\n\\nAll regions need a hard ping lock of 100 in my opinion... with maybe a random region with unlocked ping for the shitty internet of the world and people living in BFE.\\n\\nIf you haven't played and decide to buy, don't waste your money on crates and give yourself plenty of time to get used to the game's movement mechanics as it's meant to be REALLY clunky to keep fro...</td>\n",
       "      <td>not perfect solid gunplay best loot distribution need bit work map region need hard ping lock 100 opinion maybe random region unlocked ping shitty internet world people living bfe haven't played decide buy don't waste money crate give plenty time get use game's movement mechanic meant really clunky keep feel arcady</td>\n",
       "      <td>1</td>\n",
       "      <td>0</td>\n",
       "    </tr>\n",
       "    <tr>\n",
       "      <th>90214</th>\n",
       "      <td>i have a problem with this game so after this last update my game settings are still on very low but game is runing on ultra od high something like that and with very low settings at least i had 30 fps so it was kind of playable but now my settings are same but game works on ultra i think and i have 8-9 fps so please doo something about that before that i had no problems with this game so i would like to stay like before\\n</td>\n",
       "      <td>problem game last update game setting still low game run ultra od high something like low setting least 30 fps kind playable setting game work ultra think 8 9 fps please doo something no problem game would like stay like</td>\n",
       "      <td>1</td>\n",
       "      <td>0</td>\n",
       "    </tr>\n",
       "    <tr>\n",
       "      <th>67131</th>\n",
       "      <td>I like dis game, I shoot idiot in the head and frick on them! They can't stand a chance against my pwn. I will snipe all chinese invaders from my rooftop of pochinkie... Don't frick with me or ill kiss.</td>\n",
       "      <td>like dis game shoot idiot head frick can't stand chance pwn snipe chinese invader rooftop pochinkie don't frick ill kiss</td>\n",
       "      <td>1</td>\n",
       "      <td>0</td>\n",
       "    </tr>\n",
       "    <tr>\n",
       "      <th>94112</th>\n",
       "      <td>Graphics: Good.\\nGameplay: Hiding until a kid walks in, shooting him, probably dying, and if you dont you usually get mid-tier loot if you landed in Pussyville, USA.\\nPhysics: Never heard of them in this game.\\nBugs: Too Many.\\nIs it fun?: Not really.\\nOverall Grade: 5.5/10\\nWait for a sale or just don't buy it, not good if you don't have too much free time on your hands.</td>\n",
       "      <td>graphic good gameplay hiding kid walk shoot probably die dont usually get mid tier loot land pussyville usa physic never heard game bug many fun not really overall grade 5 5 10 wait sale don't buy not good don't much free time hand</td>\n",
       "      <td>0</td>\n",
       "      <td>1</td>\n",
       "    </tr>\n",
       "    <tr>\n",
       "      <th>79621</th>\n",
       "      <td>I want to took this game and one of my friend refound it ( no problem ) but now i have 20.58euro in account and 29.99(from pubg) and now i am at my cousin birthday and 5 of them have pubg.What i am asking is to pay with my 20.58euro and 29.99 from pending i want to pay with my 20.58 euro and the difference from pending</td>\n",
       "      <td>want take game one friend refound no problem 20 58euro account 29 99 pubg cousin birthday 5 pubg ask pay 20 58euro 29 99 pending want pay 20 58 euro difference pending</td>\n",
       "      <td>1</td>\n",
       "      <td>0</td>\n",
       "    </tr>\n",
       "  </tbody>\n",
       "</table>\n",
       "</div>"
      ],
      "text/plain": [
       "                                                                                                                                                                                                                                                                                                                                                                                                                                                                                                                    review  \\\n",
       "42227  It is a great game, the best BR game in my opinion, but it is far from perfect. Sadly the main priority of the game is to milk the current player base as much as possible for as long as they can. I don't really see this game developing or the player base growing from this point onward. \\n\\nAll they do now is to add new cosmetic crap. Even if you care about this stuff, all these items are paid and you have absolutely 0 access to them unless you pay. Even if you bought the last \"DLC\" which doe...   \n",
       "86950                                                                                                                                                                                                                                                                              Main menu stops loading after about 10 hours of play. nothing really to work towards in terms of goals. Alot of ingame bugs that breaks the game. (Getting shot through walls, blowing up in your vehicle when driving on a flat road.)   \n",
       "27653                                                                                                                 I played this game since closed beta. i loved it. i, and many others had high hopes for it to become the best battle royale experience ever. it had the potential. BUT that is not the case. It went downhill pretty fast and the devs are just like many others: Not listenting to the community and just cash grabbing.\\nIt WAS a phenomenal experience!\\nRest in Pepperonis my dear loved friend.   \n",
       "93594                                                                                                                                                                                                                                                TBH I wanted to play this game. But it kept crashing when i loaded ingame for a couple minutes and IDK whats the deal or whats causing it. I heard the game is good and fun. But Im just too pissed off to tell if its the developments fault or its somehow me. Rip.   \n",
       "34822  Game is fun to play but, still nothing like a special thing to support with all these bugs in the game. \\nStill I will start with Pros.\\nPros:\\n- Overall Battle Royale is fun and concept is good.\\n- Weapons are good to use\\n- Fun to play with friends\\n\\nCons:\\n-Still poorly optimzed. Even with high fps the game stutters a lot.\\n- Server lags and people in specific regions has advantages.\\n- The game physics sucks. Vehicles just bounces off randomly. Sometimes get killed because of this too.\\...   \n",
       "52460  It's not perfect, but it's solid. \\n\\nThe gunplay is some of the best. \\n\\nLoot distribution needs a bit of work on all maps.\\n\\nAll regions need a hard ping lock of 100 in my opinion... with maybe a random region with unlocked ping for the shitty internet of the world and people living in BFE.\\n\\nIf you haven't played and decide to buy, don't waste your money on crates and give yourself plenty of time to get used to the game's movement mechanics as it's meant to be REALLY clunky to keep fro...   \n",
       "90214                                                                           i have a problem with this game so after this last update my game settings are still on very low but game is runing on ultra od high something like that and with very low settings at least i had 30 fps so it was kind of playable but now my settings are same but game works on ultra i think and i have 8-9 fps so please doo something about that before that i had no problems with this game so i would like to stay like before\\n   \n",
       "67131                                                                                                                                                                                                                                                                                                           I like dis game, I shoot idiot in the head and frick on them! They can't stand a chance against my pwn. I will snipe all chinese invaders from my rooftop of pochinkie... Don't frick with me or ill kiss.   \n",
       "94112                                                                                                                               Graphics: Good.\\nGameplay: Hiding until a kid walks in, shooting him, probably dying, and if you dont you usually get mid-tier loot if you landed in Pussyville, USA.\\nPhysics: Never heard of them in this game.\\nBugs: Too Many.\\nIs it fun?: Not really.\\nOverall Grade: 5.5/10\\nWait for a sale or just don't buy it, not good if you don't have too much free time on your hands.   \n",
       "79621                                                                                                                                                                                     I want to took this game and one of my friend refound it ( no problem ) but now i have 20.58euro in account and 29.99(from pubg) and now i am at my cousin birthday and 5 of them have pubg.What i am asking is to pay with my 20.58euro and 29.99 from pending i want to pay with my 20.58 euro and the difference from pending   \n",
       "\n",
       "                                                                                                                                                                                                                                                                                                                                                                                                                                                 lemmed_text  \\\n",
       "42227                                                        great game best br game opinion far perfect sadly main priority game milk current player base much possible long don't really see game develop player base grow point onward add new cosmetic crap even care stuff item paid absolutely 0 access unless pay even bought last dlc not deserve call dlc stupid repetitive boring mission still couldn't get cool stuff unless pay even more money   \n",
       "86950                                                                                                                                                                                                                                                                                                        main menu stop load 10 hour play nothing really work towards term goal alot ingame bug break game get shot wall blowing vehicle drive flat road   \n",
       "27653                                                                                                                                                                                            played game since close beta love many others high hope become best battle royale experience ever potential not case go downhill pretty fast devs like many others not listenting community cash grab phenomenal experience rest pepperoni dear love friend   \n",
       "93594                                                                                                                                                                                                                                                                                                      tbh want play game kept crash load ingame couple minute idk whats deal whats cause heard game good fun im piss tell development fault somehow rip   \n",
       "34822  game fun play still nothing like special thing support bug game still start pro pro overall battle royale fun concept good weapon good use fun play friend con still poorly optimzed even high fps game stutter lot server lag people specific region advantage game physic suck vehicle bounce randomly sometimes get kill lot hacker game randomly approach shoot even aim find deathcams yeah play much hour find game total waste don't recommend   \n",
       "52460                                                                                                                           not perfect solid gunplay best loot distribution need bit work map region need hard ping lock 100 opinion maybe random region unlocked ping shitty internet world people living bfe haven't played decide buy don't waste money crate give plenty time get use game's movement mechanic meant really clunky keep feel arcady   \n",
       "90214                                                                                                                                                                                                                           problem game last update game setting still low game run ultra od high something like low setting least 30 fps kind playable setting game work ultra think 8 9 fps please doo something no problem game would like stay like   \n",
       "67131                                                                                                                                                                                                                                                                                                                               like dis game shoot idiot head frick can't stand chance pwn snipe chinese invader rooftop pochinkie don't frick ill kiss   \n",
       "94112                                                                                                                                                                                                                graphic good gameplay hiding kid walk shoot probably die dont usually get mid tier loot land pussyville usa physic never heard game bug many fun not really overall grade 5 5 10 wait sale don't buy not good don't much free time hand   \n",
       "79621                                                                                                                                                                                                                                                                                want take game one friend refound no problem 20 58euro account 29 99 pubg cousin birthday 5 pubg ask pay 20 58euro 29 99 pending want pay 20 58 euro difference pending   \n",
       "\n",
       "       Actual  Predicted  \n",
       "42227       1          0  \n",
       "86950       0          1  \n",
       "27653       0          1  \n",
       "93594       0          1  \n",
       "34822       0          1  \n",
       "52460       1          0  \n",
       "90214       1          0  \n",
       "67131       1          0  \n",
       "94112       0          1  \n",
       "79621       1          0  "
      ]
     },
     "execution_count": 109,
     "metadata": {},
     "output_type": "execute_result"
    }
   ],
   "source": [
    "pubg_misclass_df = misclass_predict(pubg_lr_model, X_pubg_test, y_pubg_test, pubg_df_ml)\n",
    "pubg_misclass_df.head(10)"
   ]
  },
  {
   "cell_type": "markdown",
   "metadata": {},
   "source": [
    "Many of the reviews above would be somewhat difficult for a machine to predict, as a number contain mixed sentiments at various points in time e.g. used to like the game due to gameplay, but subsequently got frustrated by lag/hackers (**27653**). It is likely that there were roughly an equal distribution of positive and negative sentiment words. \n",
    "\n",
    "Some bugs which are relatively descriptive in nature ('getting shot through walls', 'blowing up in your vehicle when driving along a flat road') may be misconstrued to be gameplay elements which are typical of positive reviews as well. (**86950**)\n",
    "\n",
    "While negative words are somewhat accounted for using n-grams in our models (bigrams - 'not good', 'don't buy'), the model may still have difficulty predicting the correct sentiment if they do not appear often enough. (**94112**)\n",
    "\n",
    "Similarly, in the last review (**79621**), we also see that the model is unable to deal with typos ('refound' instead of 'refund') as these do not appear in sufficient quantities to be picked up by the classifier."
   ]
  },
  {
   "cell_type": "markdown",
   "metadata": {},
   "source": [
    "### Cyberpunk"
   ]
  },
  {
   "cell_type": "code",
   "execution_count": 110,
   "metadata": {
    "ExecuteTime": {
     "end_time": "2021-01-25T13:48:27.910969Z",
     "start_time": "2021-01-25T13:48:26.393311Z"
    }
   },
   "outputs": [
    {
     "data": {
      "text/html": [
       "<div>\n",
       "<style scoped>\n",
       "    .dataframe tbody tr th:only-of-type {\n",
       "        vertical-align: middle;\n",
       "    }\n",
       "\n",
       "    .dataframe tbody tr th {\n",
       "        vertical-align: top;\n",
       "    }\n",
       "\n",
       "    .dataframe thead th {\n",
       "        text-align: right;\n",
       "    }\n",
       "</style>\n",
       "<table border=\"1\" class=\"dataframe\">\n",
       "  <thead>\n",
       "    <tr style=\"text-align: right;\">\n",
       "      <th></th>\n",
       "      <th>review</th>\n",
       "      <th>lemmed_text</th>\n",
       "      <th>Actual</th>\n",
       "      <th>Predicted</th>\n",
       "    </tr>\n",
       "  </thead>\n",
       "  <tbody>\n",
       "    <tr>\n",
       "      <th>383</th>\n",
       "      <td>While the open world has potential after some changes are made, and the combat and music were enjoyable, this game really didn't seem to say anything. I'm not sure what the themes were past a very surface-level anti-corporate commentary. A lot of content seems to have been cut, leading to an experience of tonal dissonance.</td>\n",
       "      <td>open world potential change make combat music enjoyable game really didn't seem say anything i'm not sure theme past surface level anti corporate commentary lot content seem cut lead experience tonal dissonance</td>\n",
       "      <td>0</td>\n",
       "      <td>1</td>\n",
       "    </tr>\n",
       "    <tr>\n",
       "      <th>44225</th>\n",
       "      <td>There is just a certain flatness to the game with no RTX. Characters dont cast shadows etc. Hellblade looks and runs wayy better, I'm torn.</td>\n",
       "      <td>certain flatness game no rtx character dont cast shadow etc hellblade look run wayy well i'm torn</td>\n",
       "      <td>0</td>\n",
       "      <td>1</td>\n",
       "    </tr>\n",
       "    <tr>\n",
       "      <th>39710</th>\n",
       "      <td>Far cry 3 had better stealth and gunplay than this.\\nFallout 4 had more engaging dialogues and character customization than this.\\nGTA San Andres had better vehicle control and AI than this.\\nDeath Stranding had better facial performance and story than this.\\n\\nBut...\\n\\nThis game has the best level design \\nThis game has the most sexual settings\\nThis game 'had' a lot of hype...</td>\n",
       "      <td>far cry 3 well stealth gunplay fallout 4 more engage dialogue character customization gta san andres well vehicle control ai death strand well facial performance story game best level design game most sexual setting game 'had' lot hype</td>\n",
       "      <td>0</td>\n",
       "      <td>1</td>\n",
       "    </tr>\n",
       "    <tr>\n",
       "      <th>19879</th>\n",
       "      <td>A great adventure game and a horrible open world rpg. Doing side missions and the main quest line has been fun, but the game falls apart in every open world aspect and fails to be immersive outside the missions. Doing anything in the open world just kills the fun for me, stuff like getting a car is just a text message and walking up to a random car, going to a bar in game looks cool but you cant even sit and order a drink. There was a lot of cut content in this game that really could have ma...</td>\n",
       "      <td>great adventure game horrible open world rpg side mission main quest line fun game fall apart every open world aspect fails immersive outside mission anything open world kill fun stuff like get car text message walk random car go bar game look cool cant even sit order drink lot cut content game really could make masterpiece like subway go fast travel game get cut instead get random fast travel box brain dance also cut content even buy brain dance store place misc tab inventory serve no funct...</td>\n",
       "      <td>0</td>\n",
       "      <td>1</td>\n",
       "    </tr>\n",
       "    <tr>\n",
       "      <th>21439</th>\n",
       "      <td>Really cool, but also really a lot of bugs for a \"AAA\". I guess they wanted to pump out as much as possible. Some parts get really broken where you just have to close the game and reaload the last checkpoint - like for example if you fast TAB, the inspection will lock without any other way of unlocking it other than reloading a save. \\nOr if you're really unlucky it will crahs by iteself randomly. \\n\\nBut story's really cool and the soundtrack also. \\nQA not up to paar for a tripple A. \\nMix...</td>\n",
       "      <td>really cool also really lot bug aaa guess want pump much possible part get really broken close game reaload last checkpoint like example fast tab inspection lock without way unlock reload save really unlucky crahs iteself randomly story's really cool soundtrack also qa not paar tripple mixed feeling</td>\n",
       "      <td>0</td>\n",
       "      <td>1</td>\n",
       "    </tr>\n",
       "    <tr>\n",
       "      <th>43487</th>\n",
       "      <td>8 years in development!! come on! W3 is far superior. Also this should be smooth as hell!!\\n\\n6/10 at best, first impressions aint good.\\n\\nThrust into the game with so much coming my way and little info. i still have no idea whats going on.  \\n\\nRelease date should of been 10 Dec 2021\\n\\nif things change during game time I'll update this if possible.</td>\n",
       "      <td>8 year development come w3 far superior also should smooth hell 6 10 best first impression aint good thrust game much come way little info still no idea whats go release date should 10 dec 2021 thing change game time i'll update possible</td>\n",
       "      <td>0</td>\n",
       "      <td>1</td>\n",
       "    </tr>\n",
       "    <tr>\n",
       "      <th>23928</th>\n",
       "      <td>GTA 5 AND FALLOUT 4 HAD A BABY??????? LOOT, SHOOT, FOLLOW MINI-MAP, AND SELECT YELLOW DIALOGUE OPTION GOTY.\\n\\nWill you save Michael or Trevor???/ maybe both???/???!?!?!? If you do enough tow truck side missions you'll get a fourth ending!!!\\n\\n\\nSave your game, play for a few hours, load the old save, Make different \"choices\" and see where the story goes! HAHAHAHA. [spoiler] Still going to be on that rooftop with misty. [/spoiler]</td>\n",
       "      <td>gta 5 fallout 4 baby loot shoot follow mini map select yellow dialogue option goty save michael trevor maybe enough tow truck side mission get fourth end save game play hour load old save make different choice see story go hahahaha still go rooftop misty</td>\n",
       "      <td>0</td>\n",
       "      <td>1</td>\n",
       "    </tr>\n",
       "    <tr>\n",
       "      <th>528</th>\n",
       "      <td>It promised a lot and in my opinion, it will eventually deliver on those promises.  The company is getting blasted &amp; they deserve that criticism.  There is no excuse for the bugs that are rampant.  This game was not ready for a world wide, multi-platform launch.  However, beneath the bugs... beyond the poor business practice... there is truly an  incredible game here.  Everything they promised is there, it just needs some serious polishing to make it shine.\\nBIG NOTE.... the word \"optimized\"...</td>\n",
       "      <td>promise lot opinion eventually deliver promise company get blast deserve criticism no excuse bug rampant game not ready world wide multi platform launch however beneath bug beyond poor business practice truly incredible game everything promise need serious polish make shine big note word optimize belong game i'm run high end system hit 30 50 fps average old platform could likely catch fire try run</td>\n",
       "      <td>1</td>\n",
       "      <td>0</td>\n",
       "    </tr>\n",
       "    <tr>\n",
       "      <th>43147</th>\n",
       "      <td>Like, my PC is just like they want it (or slightly better) and my game runs in 45 FPS (that's the best record on MINIMAL setting) \\nbut when I switched to maximum I've got 25-30 FPS\\nGameplay is very good and stuff, but bcuz optimization sucks smoll pp, you just can't play with joy \\nGOOD GEM \\nOPTIMIZATION BAD</td>\n",
       "      <td>like pc like want slightly well game run 45 fps that's best record minimal set switch maximum i've get 25 30 fps gameplay good stuff bcuz optimization suck smoll pp can't play joy good gem optimization bad</td>\n",
       "      <td>0</td>\n",
       "      <td>1</td>\n",
       "    </tr>\n",
       "    <tr>\n",
       "      <th>27240</th>\n",
       "      <td>First of all, I must say I am having a blast with this game. Nearing 24 hours gameplay right now and I am enjoying it. But if the question was \"would you recommend this game to others?\" I would say NO at this point of time.\\n\\nHere are the pros and cons for me so far:\\nThe Good\\n+ Story. This is where CDPR shines the brightest. Their storytelling is amazing. Not only talking about the main mission but the side missions and activities has a lot of stories in it that is so interesting to know ...</td>\n",
       "      <td>first must say blast game near 24 hour gameplay right enjoy question would recommend game others would say no point time pro con far good story cdpr shine brightest storytelling amaze not only talk main mission side mission activity lot story interest know gunplay combat combat satisfy didn't expect gunplay would fun even expect slow type combat no really fun kind combat environment first look trailer stuff still think city look bit desert played game see not case city hub bubbling activity ...</td>\n",
       "      <td>0</td>\n",
       "      <td>1</td>\n",
       "    </tr>\n",
       "  </tbody>\n",
       "</table>\n",
       "</div>"
      ],
      "text/plain": [
       "                                                                                                                                                                                                                                                                                                                                                                                                                                                                                                                    review  \\\n",
       "383                                                                                                                                                                                   While the open world has potential after some changes are made, and the combat and music were enjoyable, this game really didn't seem to say anything. I'm not sure what the themes were past a very surface-level anti-corporate commentary. A lot of content seems to have been cut, leading to an experience of tonal dissonance.   \n",
       "44225                                                                                                                                                                                                                                                                                                                                                                          There is just a certain flatness to the game with no RTX. Characters dont cast shadows etc. Hellblade looks and runs wayy better, I'm torn.   \n",
       "39710                                                                                                                       Far cry 3 had better stealth and gunplay than this.\\nFallout 4 had more engaging dialogues and character customization than this.\\nGTA San Andres had better vehicle control and AI than this.\\nDeath Stranding had better facial performance and story than this.\\n\\nBut...\\n\\nThis game has the best level design \\nThis game has the most sexual settings\\nThis game 'had' a lot of hype...   \n",
       "19879  A great adventure game and a horrible open world rpg. Doing side missions and the main quest line has been fun, but the game falls apart in every open world aspect and fails to be immersive outside the missions. Doing anything in the open world just kills the fun for me, stuff like getting a car is just a text message and walking up to a random car, going to a bar in game looks cool but you cant even sit and order a drink. There was a lot of cut content in this game that really could have ma...   \n",
       "21439  Really cool, but also really a lot of bugs for a \"AAA\". I guess they wanted to pump out as much as possible. Some parts get really broken where you just have to close the game and reaload the last checkpoint - like for example if you fast TAB, the inspection will lock without any other way of unlocking it other than reloading a save. \\nOr if you're really unlucky it will crahs by iteself randomly. \\n\\nBut story's really cool and the soundtrack also. \\nQA not up to paar for a tripple A. \\nMix...   \n",
       "43487                                                                                                                                                    8 years in development!! come on! W3 is far superior. Also this should be smooth as hell!!\\n\\n6/10 at best, first impressions aint good.\\n\\nThrust into the game with so much coming my way and little info. i still have no idea whats going on.  \\n\\nRelease date should of been 10 Dec 2021\\n\\nif things change during game time I'll update this if possible.   \n",
       "23928                                                                  GTA 5 AND FALLOUT 4 HAD A BABY??????? LOOT, SHOOT, FOLLOW MINI-MAP, AND SELECT YELLOW DIALOGUE OPTION GOTY.\\n\\nWill you save Michael or Trevor???/ maybe both???/???!?!?!? If you do enough tow truck side missions you'll get a fourth ending!!!\\n\\n\\nSave your game, play for a few hours, load the old save, Make different \"choices\" and see where the story goes! HAHAHAHA. [spoiler] Still going to be on that rooftop with misty. [/spoiler]   \n",
       "528    It promised a lot and in my opinion, it will eventually deliver on those promises.  The company is getting blasted & they deserve that criticism.  There is no excuse for the bugs that are rampant.  This game was not ready for a world wide, multi-platform launch.  However, beneath the bugs... beyond the poor business practice... there is truly an  incredible game here.  Everything they promised is there, it just needs some serious polishing to make it shine.\\nBIG NOTE.... the word \"optimized\"...   \n",
       "43147                                                                                                                                                                                             Like, my PC is just like they want it (or slightly better) and my game runs in 45 FPS (that's the best record on MINIMAL setting) \\nbut when I switched to maximum I've got 25-30 FPS\\nGameplay is very good and stuff, but bcuz optimization sucks smoll pp, you just can't play with joy \\nGOOD GEM \\nOPTIMIZATION BAD   \n",
       "27240  First of all, I must say I am having a blast with this game. Nearing 24 hours gameplay right now and I am enjoying it. But if the question was \"would you recommend this game to others?\" I would say NO at this point of time.\\n\\nHere are the pros and cons for me so far:\\nThe Good\\n+ Story. This is where CDPR shines the brightest. Their storytelling is amazing. Not only talking about the main mission but the side missions and activities has a lot of stories in it that is so interesting to know ...   \n",
       "\n",
       "                                                                                                                                                                                                                                                                                                                                                                                                                                                                                                               lemmed_text  \\\n",
       "383                                                                                                                                                                                                                                                                                                     open world potential change make combat music enjoyable game really didn't seem say anything i'm not sure theme past surface level anti corporate commentary lot content seem cut lead experience tonal dissonance   \n",
       "44225                                                                                                                                                                                                                                                                                                                                                                                                                    certain flatness game no rtx character dont cast shadow etc hellblade look run wayy well i'm torn   \n",
       "39710                                                                                                                                                                                                                                                                          far cry 3 well stealth gunplay fallout 4 more engage dialogue character customization gta san andres well vehicle control ai death strand well facial performance story game best level design game most sexual setting game 'had' lot hype   \n",
       "19879  great adventure game horrible open world rpg side mission main quest line fun game fall apart every open world aspect fails immersive outside mission anything open world kill fun stuff like get car text message walk random car go bar game look cool cant even sit order drink lot cut content game really could make masterpiece like subway go fast travel game get cut instead get random fast travel box brain dance also cut content even buy brain dance store place misc tab inventory serve no funct...   \n",
       "21439                                                                                                                                                                                                         really cool also really lot bug aaa guess want pump much possible part get really broken close game reaload last checkpoint like example fast tab inspection lock without way unlock reload save really unlucky crahs iteself randomly story's really cool soundtrack also qa not paar tripple mixed feeling   \n",
       "43487                                                                                                                                                                                                                                                                        8 year development come w3 far superior also should smooth hell 6 10 best first impression aint good thrust game much come way little info still no idea whats go release date should 10 dec 2021 thing change game time i'll update possible   \n",
       "23928                                                                                                                                                                                                                                                       gta 5 fallout 4 baby loot shoot follow mini map select yellow dialogue option goty save michael trevor maybe enough tow truck side mission get fourth end save game play hour load old save make different choice see story go hahahaha still go rooftop misty   \n",
       "528                                                                                                       promise lot opinion eventually deliver promise company get blast deserve criticism no excuse bug rampant game not ready world wide multi platform launch however beneath bug beyond poor business practice truly incredible game everything promise need serious polish make shine big note word optimize belong game i'm run high end system hit 30 50 fps average old platform could likely catch fire try run   \n",
       "43147                                                                                                                                                                                                                                                                                                        like pc like want slightly well game run 45 fps that's best record minimal set switch maximum i've get 25 30 fps gameplay good stuff bcuz optimization suck smoll pp can't play joy good gem optimization bad   \n",
       "27240  first must say blast game near 24 hour gameplay right enjoy question would recommend game others would say no point time pro con far good story cdpr shine brightest storytelling amaze not only talk main mission side mission activity lot story interest know gunplay combat combat satisfy didn't expect gunplay would fun even expect slow type combat no really fun kind combat environment first look trailer stuff still think city look bit desert played game see not case city hub bubbling activity ...   \n",
       "\n",
       "       Actual  Predicted  \n",
       "383         0          1  \n",
       "44225       0          1  \n",
       "39710       0          1  \n",
       "19879       0          1  \n",
       "21439       0          1  \n",
       "43487       0          1  \n",
       "23928       0          1  \n",
       "528         1          0  \n",
       "43147       0          1  \n",
       "27240       0          1  "
      ]
     },
     "execution_count": 110,
     "metadata": {},
     "output_type": "execute_result"
    }
   ],
   "source": [
    "cyberpunk_misclass_df = misclass_predict(cyberpunk_lr_model, X_cyberpunk_test, y_cyberpunk_test, cyberpunk_df_ml)\n",
    "cyberpunk_misclass_df.head(10)"
   ]
  },
  {
   "cell_type": "markdown",
   "metadata": {},
   "source": [
    "Some of the misclassification also stems from how Logistic Regression is unable to predict more advanced phrases such as 'kill the fun' (**19879**). Otherwise, several of the misclassified reviews also contain mixed sentiments that toe the line between a overall positive and negative score. "
   ]
  },
  {
   "cell_type": "markdown",
   "metadata": {},
   "source": [
    "### Fall Guys"
   ]
  },
  {
   "cell_type": "code",
   "execution_count": 111,
   "metadata": {
    "ExecuteTime": {
     "end_time": "2021-01-25T14:07:19.941550Z",
     "start_time": "2021-01-25T14:07:19.373785Z"
    }
   },
   "outputs": [
    {
     "data": {
      "text/html": [
       "<div>\n",
       "<style scoped>\n",
       "    .dataframe tbody tr th:only-of-type {\n",
       "        vertical-align: middle;\n",
       "    }\n",
       "\n",
       "    .dataframe tbody tr th {\n",
       "        vertical-align: top;\n",
       "    }\n",
       "\n",
       "    .dataframe thead th {\n",
       "        text-align: right;\n",
       "    }\n",
       "</style>\n",
       "<table border=\"1\" class=\"dataframe\">\n",
       "  <thead>\n",
       "    <tr style=\"text-align: right;\">\n",
       "      <th></th>\n",
       "      <th>review</th>\n",
       "      <th>lemmed_text</th>\n",
       "      <th>Actual</th>\n",
       "      <th>Predicted</th>\n",
       "    </tr>\n",
       "  </thead>\n",
       "  <tbody>\n",
       "    <tr>\n",
       "      <th>9842</th>\n",
       "      <td>Edit: It's pretty okay now, Easy Anti Cheat has been added, drastically eliminating cheaters.\\n\\nOLD REVIEW: Do not purchase as of this moment unless you want to face cheaters/script kiddies every other game.</td>\n",
       "      <td>edit pretty okay easy anti cheat add drastically eliminate cheater old review not purchase moment unless want face cheater script kiddy every game</td>\n",
       "      <td>1</td>\n",
       "      <td>0</td>\n",
       "    </tr>\n",
       "    <tr>\n",
       "      <th>8139</th>\n",
       "      <td>game is rigged\\nyellow team always loses\\ni never win because other people are bad at seesaw\\n\\n\\n\\n...\\n\\n\\n\\n\\n\\nnah this games tight</td>\n",
       "      <td>game rig yellow team always loses never win people bad seesaw nah game tight</td>\n",
       "      <td>0</td>\n",
       "      <td>1</td>\n",
       "    </tr>\n",
       "    <tr>\n",
       "      <th>9760</th>\n",
       "      <td>Fall Guys is a really exciting game that will keep you at the top of your toes. All the events are extremely funny and the visuals are adorble. The characters, the stages, the bounce effect, sounds, its a cuteness overload, and I do really recomend you to buy it. But this review has a really big stain atm, which is the hackers. Not only there's hundreds of them, but you can't report them.</td>\n",
       "      <td>fall guy really excite game keep top toe event extremely funny visuals adorble character stage bounce effect sound cuteness overload really recomend buy review really big stain atm hacker not only there's hundred can't report</td>\n",
       "      <td>0</td>\n",
       "      <td>1</td>\n",
       "    </tr>\n",
       "    <tr>\n",
       "      <th>25769</th>\n",
       "      <td>Enjoyable but I wouldn't recommend until they make a team mini game only/ffa only mode. Most of the team mini games either have very one sided metas or your own teammates play against you.\\n\\nFun as hell with friends but infuriating when on the Roller game everyone just picks a left or right track to hold the ball.\\n</td>\n",
       "      <td>enjoyable wouldn't recommend make team mini game only ffa only mode most team mini game either one side metas teammate play fun hell friend infuriate roller game everyone pick left right track hold ball</td>\n",
       "      <td>0</td>\n",
       "      <td>1</td>\n",
       "    </tr>\n",
       "    <tr>\n",
       "      <th>11163</th>\n",
       "      <td>whenever i load into a match it just disconnects me from the server. if anyone knows how to fix this issue pls help</td>\n",
       "      <td>whenever load match disconnect server anyone know fix issue pls help</td>\n",
       "      <td>1</td>\n",
       "      <td>0</td>\n",
       "    </tr>\n",
       "    <tr>\n",
       "      <th>3542</th>\n",
       "      <td>Fall Guys has no business being this incomplete at $25 in 2020, but it's still a lot of fun. I've yet to get tired of stumbling past three rounds of noobs to jockey against the upper crust of that show's players on (almost exclusively) Fall Mountain after 30+ hours, so I've gotten at least an hour of fun (often shared with friends in couch hot seat play) per dollar and can't really complain, but seriously:\\n\\nWhy are there so few cosmetic options immediately available to the new player, as t...</td>\n",
       "      <td>fall guy no business incomplete 25 2020 still lot fun i've yet get tire stumble past three round noobs jockey upper crust show's player almost exclusively fall mountain 30 hour i've gotten least hour fun often share friend couch hot seat play per dollar can't really complain seriously cosmetic option immediately available new player allow stand crowd player still not customize name nothing load screen rocket league let practice free play queue player not least rotate camera around fall guy w...</td>\n",
       "      <td>1</td>\n",
       "      <td>0</td>\n",
       "    </tr>\n",
       "    <tr>\n",
       "      <th>28730</th>\n",
       "      <td>Nice, new season caters to casuals and gives away crowns. New modes suck ass. First season was great, I had almost 30 wins which isn't a lot but now it doesn't feel earned with how casual this shit is now.</td>\n",
       "      <td>nice new season caters casuals give away crown new mode suck as first season great almost 30 win isn't lot feel earn casual shit</td>\n",
       "      <td>0</td>\n",
       "      <td>1</td>\n",
       "    </tr>\n",
       "    <tr>\n",
       "      <th>13141</th>\n",
       "      <td>The game is quite fun but:\\n\\nThere are a lot of disconnects and matchmaking problems. \\nThese issues make it hard to play and enjoy the game.\\nIt's even more infuriating if you play with friends.\\n\\nFix the servers.</td>\n",
       "      <td>game quite fun lot disconnect matchmaking problem issue make hard play enjoy game even more infuriate play friend fix server</td>\n",
       "      <td>0</td>\n",
       "      <td>1</td>\n",
       "    </tr>\n",
       "    <tr>\n",
       "      <th>1198</th>\n",
       "      <td>This game taught me how many stupid people there still are in the world...\\n\\nLet's get real here after you play it a while with your friends there is just nothing new. You play the crap out of the maps, win a few times.... it gets old. Then you either wait for an update or uninstall. I can't imagine it takes them months to make new maps. They need to re-prioritize or something if they want longevity in this game.</td>\n",
       "      <td>game taught many stupid people still world let's get real play friend nothing new play crap map win time get old either wait update uninstall can't imagine take month make new map need prioritize something want longevity game</td>\n",
       "      <td>1</td>\n",
       "      <td>0</td>\n",
       "    </tr>\n",
       "    <tr>\n",
       "      <th>1992</th>\n",
       "      <td>Perhaps the only game you would not feel bad losing to a five year old with the wonky mechanics.</td>\n",
       "      <td>perhaps only game would not feel bad lose five year old wonky mechanic</td>\n",
       "      <td>1</td>\n",
       "      <td>0</td>\n",
       "    </tr>\n",
       "  </tbody>\n",
       "</table>\n",
       "</div>"
      ],
      "text/plain": [
       "                                                                                                                                                                                                                                                                                                                                                                                                                                                                                                                    review  \\\n",
       "9842                                                                                                                                                                                                                                                                                                      Edit: It's pretty okay now, Easy Anti Cheat has been added, drastically eliminating cheaters.\\n\\nOLD REVIEW: Do not purchase as of this moment unless you want to face cheaters/script kiddies every other game.   \n",
       "8139                                                                                                                                                                                                                                                                                                                                                                               game is rigged\\nyellow team always loses\\ni never win because other people are bad at seesaw\\n\\n\\n\\n...\\n\\n\\n\\n\\n\\nnah this games tight   \n",
       "9760                                                                                                               Fall Guys is a really exciting game that will keep you at the top of your toes. All the events are extremely funny and the visuals are adorble. The characters, the stages, the bounce effect, sounds, its a cuteness overload, and I do really recomend you to buy it. But this review has a really big stain atm, which is the hackers. Not only there's hundreds of them, but you can't report them.   \n",
       "25769                                                                                                                                                                                       Enjoyable but I wouldn't recommend until they make a team mini game only/ffa only mode. Most of the team mini games either have very one sided metas or your own teammates play against you.\\n\\nFun as hell with friends but infuriating when on the Roller game everyone just picks a left or right track to hold the ball.\\n   \n",
       "11163                                                                                                                                                                                                                                                                                                                                                                                                  whenever i load into a match it just disconnects me from the server. if anyone knows how to fix this issue pls help   \n",
       "3542   Fall Guys has no business being this incomplete at $25 in 2020, but it's still a lot of fun. I've yet to get tired of stumbling past three rounds of noobs to jockey against the upper crust of that show's players on (almost exclusively) Fall Mountain after 30+ hours, so I've gotten at least an hour of fun (often shared with friends in couch hot seat play) per dollar and can't really complain, but seriously:\\n\\nWhy are there so few cosmetic options immediately available to the new player, as t...   \n",
       "28730                                                                                                                                                                                                                                                                                                        Nice, new season caters to casuals and gives away crowns. New modes suck ass. First season was great, I had almost 30 wins which isn't a lot but now it doesn't feel earned with how casual this shit is now.   \n",
       "13141                                                                                                                                                                                                                                                                                             The game is quite fun but:\\n\\nThere are a lot of disconnects and matchmaking problems. \\nThese issues make it hard to play and enjoy the game.\\nIt's even more infuriating if you play with friends.\\n\\nFix the servers.   \n",
       "1198                                                                                     This game taught me how many stupid people there still are in the world...\\n\\nLet's get real here after you play it a while with your friends there is just nothing new. You play the crap out of the maps, win a few times.... it gets old. Then you either wait for an update or uninstall. I can't imagine it takes them months to make new maps. They need to re-prioritize or something if they want longevity in this game.   \n",
       "1992                                                                                                                                                                                                                                                                                                                                                                                                                      Perhaps the only game you would not feel bad losing to a five year old with the wonky mechanics.   \n",
       "\n",
       "                                                                                                                                                                                                                                                                                                                                                                                                                                                                                                               lemmed_text  \\\n",
       "9842                                                                                                                                                                                                                                                                                                                                                                    edit pretty okay easy anti cheat add drastically eliminate cheater old review not purchase moment unless want face cheater script kiddy every game   \n",
       "8139                                                                                                                                                                                                                                                                                                                                                                                                                                          game rig yellow team always loses never win people bad seesaw nah game tight   \n",
       "9760                                                                                                                                                                                                                                                                                     fall guy really excite game keep top toe event extremely funny visuals adorble character stage bounce effect sound cuteness overload really recomend buy review really big stain atm hacker not only there's hundred can't report   \n",
       "25769                                                                                                                                                                                                                                                                                                           enjoyable wouldn't recommend make team mini game only ffa only mode most team mini game either one side metas teammate play fun hell friend infuriate roller game everyone pick left right track hold ball   \n",
       "11163                                                                                                                                                                                                                                                                                                                                                                                                                                                 whenever load match disconnect server anyone know fix issue pls help   \n",
       "3542   fall guy no business incomplete 25 2020 still lot fun i've yet get tire stumble past three round noobs jockey upper crust show's player almost exclusively fall mountain 30 hour i've gotten least hour fun often share friend couch hot seat play per dollar can't really complain seriously cosmetic option immediately available new player allow stand crowd player still not customize name nothing load screen rocket league let practice free play queue player not least rotate camera around fall guy w...   \n",
       "28730                                                                                                                                                                                                                                                                                                                                                                                     nice new season caters casuals give away crown new mode suck as first season great almost 30 win isn't lot feel earn casual shit   \n",
       "13141                                                                                                                                                                                                                                                                                                                                                                                         game quite fun lot disconnect matchmaking problem issue make hard play enjoy game even more infuriate play friend fix server   \n",
       "1198                                                                                                                                                                                                                                                                                     game taught many stupid people still world let's get real play friend nothing new play crap map win time get old either wait update uninstall can't imagine take month make new map need prioritize something want longevity game   \n",
       "1992                                                                                                                                                                                                                                                                                                                                                                                                                                                perhaps only game would not feel bad lose five year old wonky mechanic   \n",
       "\n",
       "       Actual  Predicted  \n",
       "9842        1          0  \n",
       "8139        0          1  \n",
       "9760        0          1  \n",
       "25769       0          1  \n",
       "11163       1          0  \n",
       "3542        1          0  \n",
       "28730       0          1  \n",
       "13141       0          1  \n",
       "1198        1          0  \n",
       "1992        1          0  "
      ]
     },
     "execution_count": 111,
     "metadata": {},
     "output_type": "execute_result"
    }
   ],
   "source": [
    "fallguys_misclass_df = misclass_predict(fallguys_lr_model, X_fallguys_test, y_fallguys_test, fallguys_df_ml)\n",
    "fallguys_misclass_df.head(10)"
   ]
  },
  {
   "cell_type": "markdown",
   "metadata": {},
   "source": [
    "Some of the reviews seem to contradict their content (**11163**, **1198**). The model is also not adept at detecting witty/snarky comments (**1992**) - indeed, sarcasm detection using machine learning is one of the most difficult aspects of NLP, that is still being studied today."
   ]
  },
  {
   "cell_type": "markdown",
   "metadata": {},
   "source": [
    "## Model Limitations"
   ]
  },
  {
   "cell_type": "markdown",
   "metadata": {},
   "source": [
    "Our models contain a fair number of limitations despite their high accuracy:\n",
    "\n",
    "- As seen in the earlier section, many of the posts may contain **multiple sentiments** - it is not a clear negative or positive review. This may lead to the classifier predicting incorrectly that it is of the opposite sentiment.\n",
    "\n",
    "- Model **cannot generalize too well between different games** - the code below shows the output of using the model trained on Cyberpunk's corpus on PUBG and Fall Guys. The poorer accuracy is somewhat to be expected as the three games are of very different genres. The gameplay aspects in each game hence vary greatly from each other - for instance, there is no shooting of any kind in Fall Guys, while PUBG contains rifles, shotguns, grenades and a myriad of others. Hence, while certain adjectives (fun, amazing) can be generically applied to all games, many of the game-specific terms would not be directly translatable between games.\n",
    "\n",
    "```\n",
    "cyberpunk_lr_model.score(X_pubg_test, y_pubg_test)\n",
    "> 0.6740451812124167\n",
    "\n",
    "cyberpunk_lr_model.score(X_fallguys_test, y_fallguys_test)\n",
    "> 0.7859773910834498\n",
    "```\n",
    "\n",
    "- Our models are unable to deal with more advanced NLP problems (e.g. recognition of sarcasm)\n",
    "- Several less obstrusive, spam comments (e.g. 'copypasta' - blocks of text that resembles actual speech that are repeatedly copied and pasted by commenters) were not able to be detected and filtered during the pre-processing stage, resulting in noise during the modelling)\n",
    "- Model accuracy is highly dependent on the cleanliness/structure of the data - unlike social media forums like reddit where there tends to be better formatting of comments and moderation in place (to remove senseless spam comments), Steam reviews are haphazard and somewhat more difficult to extract insight from\n"
   ]
  },
  {
   "cell_type": "markdown",
   "metadata": {},
   "source": [
    "We next move on to perform topic modelling and attempt classification of our reviews to determine their dominant topics."
   ]
  }
 ],
 "metadata": {
  "kernelspec": {
   "display_name": "Python 3",
   "language": "python",
   "name": "python3"
  },
  "language_info": {
   "codemirror_mode": {
    "name": "ipython",
    "version": 3
   },
   "file_extension": ".py",
   "mimetype": "text/x-python",
   "name": "python",
   "nbconvert_exporter": "python",
   "pygments_lexer": "ipython3",
   "version": "3.8.6"
  },
  "toc": {
   "base_numbering": 1,
   "nav_menu": {},
   "number_sections": true,
   "sideBar": true,
   "skip_h1_title": false,
   "title_cell": "Table of Contents",
   "title_sidebar": "Contents",
   "toc_cell": false,
   "toc_position": {
    "height": "calc(100% - 180px)",
    "left": "10px",
    "top": "150px",
    "width": "251.969px"
   },
   "toc_section_display": true,
   "toc_window_display": true
  }
 },
 "nbformat": 4,
 "nbformat_minor": 4
}
